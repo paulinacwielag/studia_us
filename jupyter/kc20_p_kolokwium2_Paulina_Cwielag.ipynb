{
 "cells": [
  {
   "cell_type": "markdown",
   "metadata": {},
   "source": [
    "# Komunikacja Cyfrowa, ra 2020-2021\n",
    "## Programowanie\n",
    "### Kolokwium nr 2\n",
    "\n",
    "**Reguły**\n",
    "\n",
    "1. prace są samodzielne, ale można korzystać ze swoich własnych kodów, wykładu, ćwiczeń, książek, manuali, dokumentacji, kursów, stack-a, itp…\n",
    "2. nie wolno korzystać z cudzych kodów na zasadzie copy-paste, co więcej <font color='red'>identyczne kopie kodu oceniane będą automatycznie na 0 punktów</font>; wyjątek stanowią fragmenty programów, które powstały jako Wasze prace domowe - te możecie kopiować\n",
    "\n",
    "**Uwaga 1**\n",
    "   >Przed oddaniem notebooka, warto nacisnąć `Restart` i uruchomić wszystkie komórki od nowa. Taką wersję my dostaniemy do oceny.\n",
    "\n",
    "**Uwaga 2**\n",
    "   >Warto używać porządnych nazw zmiennych, funkcji i klas. My lubimy porządne nazwy. Nieporządne nazwy sugerują oceniającym niższą punktację..."
   ]
  },
  {
   "cell_type": "code",
   "execution_count": null,
   "metadata": {},
   "outputs": [],
   "source": []
  },
  {
   "cell_type": "markdown",
   "metadata": {},
   "source": [
    "### Zadanie 1. Klasa [25 pkt]\n",
    "Stwórz klasę `Tekst`, przyjmującą w czasie instancjonowania jeden argument `tekst` (3 pkt). Zdefiniuj getter (1 pkt) i setter (1 pkt), setter wykorzystaj w funkcji `__init__` (1 pkt). Dodaj funkcje specjalne `__repr__` (1 pkt) oraz `__str__` (1 pkt). Dodaj trzy funkcje\n",
    "\n",
    "* (2 pkt) funkcję klasy `sprawdz_czy_tekst(tekst)`, która będzie sprawdzać, czy podany argumnet `tekst` jest typu STR, funkcję tą wykorzystaj w setterze (1 pkt)\n",
    "\n",
    "    ```\n",
    "    >>> Tekst.sprawdz_czy_tekst('Ala ma kota')\n",
    "    True\n",
    "    >>> Tekst.sprawdz_czy_tekst(1410)\n",
    "    False\n",
    "    ```\n",
    "    \n",
    "* (4 pkt) funkcję/metodę `suma(self)` obliczającą sumę wszystkich cyfr wystepujących w tekście\n",
    "\n",
    "    ```\n",
    "    >>> t = Tekst(\"Ala ma 1 kota i 2 psy\")\n",
    "    >>> t.suma()\n",
    "    3\n",
    "    ```\n",
    "    \n",
    "* (4 pkt) funkcję `zapisz(self, nazwa_pliku)` zapisującą tekst do pliku o podanej nazwie `nazwa_pliku`\n",
    "\n",
    "    ``` \n",
    "    >>> t = Tekst(\"Ala ma kota\")\n",
    "    >>> t.zapisz('ala.txt')\n",
    "    ```\n",
    "    Tworzy plik `ala.txt`, z tekstem`\"Ala ma kota\"` w środku.\n",
    "\n",
    "* dodaj 2 przykłady instancji (po 2 pkt). Sprawdź pełną funkcjonalność dla każdej instancji."
   ]
  },
  {
   "cell_type": "code",
   "execution_count": 3,
   "metadata": {},
   "outputs": [],
   "source": [
    "class Tekst:\n",
    "    '''Klasa Tekst'''\n",
    "    \n",
    "    def __init__(self, tekst):\n",
    "        self.set_tekst(tekst)\n",
    "        \n",
    "    def get_tekst(self):\n",
    "        return self.tekst\n",
    "    \n",
    "    def set_tekst(self, var):\n",
    "        if Tekst.sprawdz_czy_tekst(var) == True:\n",
    "            self.tekst = var\n",
    "        else:    \n",
    "            return 'tekst musi być STR'\n",
    "        \n",
    "    def sprawdz_czy_tekst(tekst):\n",
    "        if isinstance(tekst, str):\n",
    "            return True\n",
    "        else:\n",
    "            return False\n",
    "        \n",
    "    def suma(self):\n",
    "        lista_liczb = []\n",
    "        cyfry = '1234567890'\n",
    "        tekst = self.tekst\n",
    "        for znak in tekst:\n",
    "            if znak in cyfry:\n",
    "                lista_liczb += [int(znak)]\n",
    "        return sum(lista_liczb)\n",
    "    \n",
    "    def zapisz(self, nazwa_pliku):\n",
    "        tekst = self.get_tekst()\n",
    "        with open(nazwa_pliku, mode='w') as plik:\n",
    "            plik.write(tekst)\n",
    "    \n",
    "    def __repr__(self):\n",
    "        return f'tekst: {self.get_tekst()}'\n",
    "    \n",
    "    def __str__(self):\n",
    "        return self.__repr__()"
   ]
  },
  {
   "cell_type": "code",
   "execution_count": 4,
   "metadata": {},
   "outputs": [],
   "source": [
    "t1 = Tekst('Król Karol kupił 10 róż i 5 niezapominajek')\n",
    "t2 = Tekst('26859')"
   ]
  },
  {
   "cell_type": "code",
   "execution_count": 5,
   "metadata": {},
   "outputs": [
    {
     "name": "stdout",
     "output_type": "stream",
     "text": [
      "tekst: Król Karol kupił 10 róż i 5 niezapominajek\n",
      "tekst: 26859\n"
     ]
    }
   ],
   "source": [
    "print(t1)\n",
    "print(t2)"
   ]
  },
  {
   "cell_type": "code",
   "execution_count": 6,
   "metadata": {},
   "outputs": [
    {
     "name": "stdout",
     "output_type": "stream",
     "text": [
      "Król Karol kupił 10 róż i 5 niezapominajek\n",
      "26859\n"
     ]
    }
   ],
   "source": [
    "print(t1.get_tekst())\n",
    "print(t2.get_tekst())"
   ]
  },
  {
   "cell_type": "code",
   "execution_count": 7,
   "metadata": {},
   "outputs": [
    {
     "name": "stdout",
     "output_type": "stream",
     "text": [
      "tekst: Król Karol kupił 10 róż i 5 niezapominajek\n",
      "tekst: 26859\n"
     ]
    }
   ],
   "source": [
    "print(repr(t1))\n",
    "print(repr(t2))"
   ]
  },
  {
   "cell_type": "code",
   "execution_count": 8,
   "metadata": {},
   "outputs": [
    {
     "name": "stdout",
     "output_type": "stream",
     "text": [
      "True\n",
      "False\n"
     ]
    }
   ],
   "source": [
    "print(Tekst.sprawdz_czy_tekst('Król Karol kupił 10 róż i 5 niezapominajek'))\n",
    "print(Tekst.sprawdz_czy_tekst(1410))"
   ]
  },
  {
   "cell_type": "code",
   "execution_count": 9,
   "metadata": {},
   "outputs": [
    {
     "name": "stdout",
     "output_type": "stream",
     "text": [
      "6\n",
      "30\n"
     ]
    }
   ],
   "source": [
    "print(t1.suma())\n",
    "print(t2.suma())"
   ]
  },
  {
   "cell_type": "code",
   "execution_count": 10,
   "metadata": {},
   "outputs": [],
   "source": [
    "t1.zapisz('karol.txt')\n",
    "t2.zapisz('26859.txt')"
   ]
  },
  {
   "cell_type": "markdown",
   "metadata": {},
   "source": [
    "### Zadanie 2. Testy strukturalne do klasy z zad 1 [15 pkt]\n",
    "Do docstringów funkcji `sprawdz_czy_tekst`, `suma` i `zapisz` z klasy z zadania 1 proszę dopisać **testy strukturalne**, tak jak robiliście przy zwykłych funkcjach (po 5 pkt).\n",
    "\n",
    "**Uwaga** w przypadku funkcji `zapisz` należy w teście sprawdzić, czy plik się rzeczywiście utworzył, np: próbując stworzyć do niego uchyt z pomocą `open`."
   ]
  },
  {
   "cell_type": "code",
   "execution_count": 11,
   "metadata": {},
   "outputs": [],
   "source": [
    "class Tekst:\n",
    "    '''Klasa Tekst'''\n",
    "    \n",
    "    def __init__(self, tekst):\n",
    "        self.set_tekst(tekst)\n",
    "        \n",
    "    def get_tekst(self):\n",
    "        return self.tekst\n",
    "    \n",
    "    def set_tekst(self, var):\n",
    "        if Tekst.sprawdz_czy_tekst(var) == True:\n",
    "            self.tekst = var\n",
    "        else:    \n",
    "            return 'tekst musi być STR'\n",
    "        \n",
    "    def sprawdz_czy_tekst(tekst):\n",
    "        '''Funkcja sprawdza, czy argument jest tekstem.\n",
    "        \n",
    "        >>> Tekst.sprawdz_czy_tekst('paulina aniluap 123')\n",
    "        True\n",
    "        >>> Tekst.sprawdz_czy_tekst(75862)\n",
    "        False\n",
    "        '''\n",
    "        if isinstance(tekst, str):\n",
    "            return True\n",
    "        else:\n",
    "            return False\n",
    "        \n",
    "    def suma(self):\n",
    "        '''Funkcja sumuje cyfry zawarte w tekście.\n",
    "        \n",
    "        >>> t3 = Tekst(\"Jola 8 Krysia 7 Antek 5\")\n",
    "        >>> t3.suma()\n",
    "        20\n",
    "        >>> t4 = Tekst('7777')\n",
    "        >>> t4.suma()\n",
    "        28\n",
    "        '''\n",
    "        lista_liczb = []\n",
    "        cyfry = '1234567890'\n",
    "        tekst = self.tekst\n",
    "        for znak in tekst:\n",
    "            if znak in cyfry:\n",
    "                lista_liczb += [int(znak)]\n",
    "        return sum(lista_liczb)\n",
    "    \n",
    "    def zapisz(self, nazwa_pliku):\n",
    "        '''Funkcja zapisuje teskt do pliku.\n",
    "        \n",
    "        >>> t = Tekst(\"Ala ma kota\")\n",
    "        >>> t.zapisz('ala.txt')\n",
    "        >>> plik = open('ala.txt')\n",
    "        >>> plik.read() == 'Ala ma kota'\n",
    "        True\n",
    "          \n",
    "        '''\n",
    "        tekst = self.get_tekst()\n",
    "        with open(nazwa_pliku, mode='w') as plik:\n",
    "            plik.write(tekst)\n",
    "    \n",
    "    def __repr__(self):\n",
    "        return f'tekst: {self.get_tekst()}'\n",
    "    \n",
    "    def __str__(self):\n",
    "        return self.__repr__()"
   ]
  },
  {
   "cell_type": "markdown",
   "metadata": {},
   "source": [
    "### Zadanie 3. Funkcja [25 pkt]\n",
    "Napisz funkcję `rozdziel(lista)`, która przyjmuje 1 parametr formalny `lista` (3 pkt), który powinien być niepustą listą (za sprawdzenie 2 pkt). Funkcja powinna zwracać słownik zawierajacy trzy listy: listę liczb dodatnich (klucz `'+'`), listę liczb ujemnych (klucz `'-'`) oraz ilość zer (klucz `0`) występujących w liście `lista`, lub zwracać `None` jeżeli lista jest pusta lub nie posiada elementów liczbowych (po 4 pkt).\n",
    "\n",
    "```\n",
    ">>> rozdziel([-1, 0, 1])\n",
    "{'+': [1], '-': [-1], 0: 1}\n",
    ">>> rozdziel([-1, 'a', 0.0, 1.0, 'kot', (1, 2, 3)])\n",
    "{'+': [1.0], '-': [-1], 0: 1}\n",
    ">>> rozdziel(['a', 'b'])\n",
    "None\n",
    "```\n",
    "\n",
    "Uruchom funkcję na 4 przykładach (po 1 pkt)."
   ]
  },
  {
   "cell_type": "code",
   "execution_count": 12,
   "metadata": {},
   "outputs": [],
   "source": [
    "def rozdziel(lista):\n",
    "    el_liczbowe = 0\n",
    "    dodatnie = []\n",
    "    ujemne = []\n",
    "    zera = []\n",
    "    if len(lista) == 0:\n",
    "        return None\n",
    "    for el in lista:\n",
    "        if isinstance(el, (int, float)):\n",
    "            el_liczbowe += 1\n",
    "            if el > 0:\n",
    "                dodatnie += [el]\n",
    "            elif el == 0 or el == 0.0:\n",
    "                zera += [el]\n",
    "            else:\n",
    "                ujemne += [el]\n",
    "    if el_liczbowe == 0:\n",
    "        return None\n",
    "    slownik = {'+': dodatnie,\n",
    "               '-': ujemne,\n",
    "               '0': len(zera)\n",
    "              }\n",
    "    return slownik"
   ]
  },
  {
   "cell_type": "code",
   "execution_count": 13,
   "metadata": {},
   "outputs": [
    {
     "name": "stdout",
     "output_type": "stream",
     "text": [
      "{'+': [1, 2, 4], '-': [-8, -9], '0': 3}\n",
      "None\n",
      "{'+': [1234567, 8647256, 826758296], '-': [-6729, -5555, -343, -97], '0': 2}\n",
      "None\n"
     ]
    }
   ],
   "source": [
    "L1 = [1, 2, 4, -8, -9, 0, 0, 0]\n",
    "print(rozdziel(L1))\n",
    "\n",
    "L2 = []\n",
    "print(rozdziel(L2))\n",
    "\n",
    "L3 = [1234567, -6729, 'a', 8647256, 0, 826758296, 'ala', -5555, -343, -97, 0]\n",
    "print(rozdziel(L3))\n",
    "\n",
    "L4 = ['a', 'b', 'c']\n",
    "print(rozdziel(L4))"
   ]
  },
  {
   "cell_type": "markdown",
   "metadata": {},
   "source": [
    "### Zadanie 4. Testy funkcjonalne do funkcji z zad 3 [15 pkt]\n",
    "Do docstringa funkcji z zadania 3 dopisz **testy funkcjonalne**. "
   ]
  },
  {
   "cell_type": "code",
   "execution_count": 14,
   "metadata": {},
   "outputs": [],
   "source": [
    "def rozdziel(lista):\n",
    "    '''Funkcja dodaje do list poszczególne liczby w zależności, czy są dodatnie, ujemne czy są zerami. W przypadku zer poakzuje, ile zer znajdowało się w liście.\n",
    "    \n",
    "    >>> rozdziel([1, 2, 3, -1, -2, -3, 0,  0, 0])\n",
    "    {'+': [1, 2, 3], '-': [-1, -2, -3], '0': 3}\n",
    "    >>> rozdziel([])\n",
    "    \n",
    "    >>> rozdziel([0.0, 4.0, -10.0])\n",
    "    {'+': [4.0], '-': [-10.0], '0': 1}\n",
    "    >>> rozdziel([4, 5, 6])\n",
    "    {'+': [4, 5, 6], '-': [], '0': 0}\n",
    "    >>> rozdziel([0.0, 0, 0.0, 0])\n",
    "    {'+': [], '-': [], '0': 4}\n",
    "    >>> rozdziel([-8, -9, -1000])\n",
    "    {'+': [], '-': [-8, -8, -1000], '0': 0}\n",
    "    '''\n",
    "    el_liczbowe = 0\n",
    "    dodatnie = []\n",
    "    ujemne = []\n",
    "    zera = []\n",
    "    if len(lista) == 0:\n",
    "        return None\n",
    "    for el in lista:\n",
    "        if isinstance(el, (int, float)):\n",
    "            el_liczbowe += 1\n",
    "            if el > 0:\n",
    "                dodatnie += [el]\n",
    "            elif el == 0 or el == 0.0:\n",
    "                zera += [el]\n",
    "            else:\n",
    "                ujemne += [el]\n",
    "    if el_liczbowe == 0:\n",
    "        return None\n",
    "    slownik = {'+': dodatnie,\n",
    "               '-': ujemne,\n",
    "               '0': len(zera)\n",
    "              }\n",
    "    return slownik"
   ]
  },
  {
   "cell_type": "markdown",
   "metadata": {},
   "source": [
    "### Zadanie 5. Moduł `kolokwium` [10 pkt]\n",
    "Z pomocą składni języka Python stwórz pusty plik kolokwium.py (5 pkt), a później dowolną już metodą przekopiuj do niego klasę z zadania 1 i funkcję z zadania 3."
   ]
  },
  {
   "cell_type": "code",
   "execution_count": 15,
   "metadata": {},
   "outputs": [],
   "source": [
    "with open(\"kolokwium.py\", mode='w') as plik:\n",
    "    plik.write('')"
   ]
  },
  {
   "cell_type": "markdown",
   "metadata": {},
   "source": [
    "### Zadanie 6. Testy [10 pkt]\n",
    "Proszę zaimportować moduł, który stworzliście w zadaniu 5 (3 pkt).\n",
    "Z pomocą modułu `doctest` uruchomcie testy, które napisaliście w poprzednich zadaniach (5 pkt). Ostatnie (2 pkt) dostaniecie za to, że przetestujecie funkcje które znajdują się w module a nie te widniejące w tym notatniku."
   ]
  },
  {
   "cell_type": "code",
   "execution_count": 15,
   "metadata": {},
   "outputs": [
    {
     "name": "stdout",
     "output_type": "stream",
     "text": [
      "**********************************************************************\n",
      "File \"/home/users/paulina.cwielag/kolokwium.py\", line 80, in kolokwium.rozdziel\n",
      "Failed example:\n",
      "    rozdziel([-8, -9, -1000])\n",
      "Expected:\n",
      "    {'+': [], '-': [-8, -8, -1000], '0': 0}\n",
      "Got:\n",
      "    {'+': [], '-': [-8, -9, -1000], '0': 0}\n",
      "**********************************************************************\n",
      "1 items had failures:\n",
      "   1 of   6 in kolokwium.rozdziel\n",
      "***Test Failed*** 1 failures.\n"
     ]
    },
    {
     "data": {
      "text/plain": [
       "TestResults(failed=1, attempted=16)"
      ]
     },
     "execution_count": 15,
     "metadata": {},
     "output_type": "execute_result"
    }
   ],
   "source": [
    "import doctest\n",
    "import kolokwium\n",
    "doctest.testmod(kolokwium)"
   ]
  },
  {
   "cell_type": "code",
   "execution_count": null,
   "metadata": {},
   "outputs": [],
   "source": []
  },
  {
   "cell_type": "code",
   "execution_count": null,
   "metadata": {},
   "outputs": [],
   "source": []
  }
 ],
 "metadata": {
  "kernelspec": {
   "display_name": "Python 3",
   "language": "python",
   "name": "python3"
  },
  "language_info": {
   "codemirror_mode": {
    "name": "ipython",
    "version": 3
   },
   "file_extension": ".py",
   "mimetype": "text/x-python",
   "name": "python",
   "nbconvert_exporter": "python",
   "pygments_lexer": "ipython3",
   "version": "3.7.3"
  }
 },
 "nbformat": 4,
 "nbformat_minor": 2
}
