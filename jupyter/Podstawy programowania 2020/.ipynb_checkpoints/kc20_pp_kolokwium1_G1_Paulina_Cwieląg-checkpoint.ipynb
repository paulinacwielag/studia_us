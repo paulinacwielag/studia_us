{
 "cells": [
  {
   "cell_type": "markdown",
   "metadata": {},
   "source": [
    "# Komunikacja Cyfrowa, ra 2020-2021\n",
    "## Podstawy Programowania\n",
    "### Kolokwium nr 1\n",
    "\n",
    "**Reguły**\n",
    "\n",
    "* prace są samodzielne, można korzystać ze swoich własnych kodów, wykładu, ćwiczeń, książek, manuali, dokumentacji, kursów, itp…\n",
    "* nie wolno korzystać z cudzych kodów na zasadzie copy-paste\n",
    "\n",
    "**Uwaga**\n",
    "\n",
    "   >Warto testować swoje kody. Brak testów to pierwszy krok do słabej / niezadowalającej oceny z kolokwium. Testować znaczy - po napisaniu programu (kodu) należy go kilkukrotnie uruchomić dla kilku różnych danych wejściowych.\n",
    "\n",
    "**Uwaga 2**\n",
    "   >Warto używać porządnych nazw zmiennych. "
   ]
  },
  {
   "cell_type": "code",
   "execution_count": null,
   "metadata": {},
   "outputs": [],
   "source": []
  },
  {
   "cell_type": "markdown",
   "metadata": {},
   "source": [
    "## Wstęp\n",
    "Sumę liczb naturalnych od 1 do 10 możemy zapisać tradycyjnie\n",
    "\n",
    "    s = 1 + 2 + 3 + 4 + 5 + 6 + 7 + 8 + 9 + 10\n",
    "    \n",
    "i obliczyć w następujący sposób"
   ]
  },
  {
   "cell_type": "code",
   "execution_count": 4,
   "metadata": {},
   "outputs": [
    {
     "name": "stdout",
     "output_type": "stream",
     "text": [
      "55\n"
     ]
    }
   ],
   "source": [
    "s = 1 + 2 + 3 + 4 + 5 + 6 + 7 + 8 + 9 + 10\n",
    "print(s)"
   ]
  },
  {
   "cell_type": "markdown",
   "metadata": {},
   "source": [
    "Możemy też użyć symbolu $\\sum$\n",
    "\n",
    "$$s = \\sum_{i = 1}^{10} i$$\n",
    "\n",
    "co w przełożeniu na język Python i pętlę `while` można zapisać w postaci snippetu"
   ]
  },
  {
   "cell_type": "code",
   "execution_count": 5,
   "metadata": {},
   "outputs": [
    {
     "name": "stdout",
     "output_type": "stream",
     "text": [
      "55\n"
     ]
    }
   ],
   "source": [
    "i = 1\n",
    "s = 0\n",
    "while i <= 10:\n",
    "    s += i\n",
    "    i += 1\n",
    "print(s)"
   ]
  },
  {
   "cell_type": "markdown",
   "metadata": {},
   "source": [
    "## Zad 1 (25 pkt) Suma\n",
    "Oblicz sumę `s`. Użyj takich samych zmiennych jakie widzisz we wzorze poniżej. Użyj pętli `while`. W przypadku, gdy wzór podniesie jakiś wyjątek (błąd) użyj instrukcji warunkowej `if`, by pominąć daną liczbę w pętli.\n",
    "$$s = \\sum_{i=-10}^{10} \\frac{i - 1}{i - 1}$$\n"
   ]
  },
  {
   "cell_type": "code",
   "execution_count": null,
   "metadata": {},
   "outputs": [],
   "source": [
    "# TUTAJ PROGRAMUJEMY"
   ]
  },
  {
   "cell_type": "code",
   "execution_count": null,
   "metadata": {},
   "outputs": [],
   "source": []
  },
  {
   "cell_type": "markdown",
   "metadata": {},
   "source": [
    "## Zad 2 (25 pkt) Sekwencja\n",
    "\n",
    "Napisz program, który za pomocą pętli `for` tworzy \n",
    "listę liczb nieparzystych od A do B oraz oblicza sumę liczb z tej listy, ale tylko tych które w rozwinięciu szesnastkowym mają literę/liczbę `b`.\n"
   ]
  },
  {
   "cell_type": "code",
   "execution_count": null,
   "metadata": {},
   "outputs": [],
   "source": [
    "# TUTAJ PROGRAMUJEMY"
   ]
  },
  {
   "cell_type": "code",
   "execution_count": null,
   "metadata": {},
   "outputs": [],
   "source": []
  },
  {
   "cell_type": "markdown",
   "metadata": {},
   "source": [
    "## Zad 3 (25 pkt) Dzień tygodnia\n",
    "Wiedząc, że w tym roku 1 stycznia przypadał w środę podaj nazwę dnia tygodnia dla \n",
    "117\n",
    "dnia roku 2020. Obliczenia przeprowadź w komórce poniżej, tylko tak zaliczymy punkty."
   ]
  },
  {
   "cell_type": "code",
   "execution_count": null,
   "metadata": {},
   "outputs": [],
   "source": [
    "# TUTAJ PROGRAMUJEMY"
   ]
  },
  {
   "cell_type": "code",
   "execution_count": null,
   "metadata": {},
   "outputs": [],
   "source": []
  },
  {
   "cell_type": "markdown",
   "metadata": {},
   "source": [
    "## Zad 4 (25 pkt) -1, 0, 1\n",
    "\n",
    "Napisz program, który oblicza sumę liczb w podanej liście `L` i zwracający informację (`print`)\n",
    "\n",
    "* `1` gdy suma liczb dodatnich listy `L` jest większa od wartości bezwzględnej sumy liczb ujemnych listy `L`\n",
    "* `-1` gdy wartość bezwzględna sumy liczb ujemnych listy `L` jest większa od sumy liczb dodatnich listy `L`\n",
    "* `0` gdy wartość bezwzględna sumy liczb ujemnych listy `L` jest równa sumie liczb dodatnich listy `L`\n",
    "\n",
    "Użyj pętli\n",
    "`for`\n",
    "(15 pkt)\n",
    "\n",
    "**Przykłady**\n",
    "\n",
    "    > L = [1, 2, 3, -4, -5] -->> -1\n",
    "    \n",
    "    > L = [1, 2, 3, -1, -2, -3] -->> 0\n",
    "    \n",
    "    > L = [1, 2, 3, -1, -2] -->> 1\n",
    "    \n",
    "**Uwaga**\n",
    "\n",
    "> ostatnie 10 punktów można zdobyć za **przefiltrowanie** elementów list podanych jako argumenty, tak by rozpatrywać **tylko liczby** w nich zawarte, np:\n",
    "\n",
    "    L = [1, 2, (19, 18), 'ala', 3, -4, -5] -->> [1, 2, 3, -4, -5] -->> -1"
   ]
  },
  {
   "cell_type": "code",
   "execution_count": 3,
   "metadata": {},
   "outputs": [],
   "source": [
    "# TUTAJ PROGRAMUJEMY"
   ]
  },
  {
   "cell_type": "code",
   "execution_count": null,
   "metadata": {},
   "outputs": [],
   "source": []
  },
  {
   "cell_type": "code",
   "execution_count": null,
   "metadata": {},
   "outputs": [],
   "source": []
  }
 ],
 "metadata": {
  "kernelspec": {
   "display_name": "Python 3",
   "language": "python",
   "name": "python3"
  },
  "language_info": {
   "codemirror_mode": {
    "name": "ipython",
    "version": 3
   },
   "file_extension": ".py",
   "mimetype": "text/x-python",
   "name": "python",
   "nbconvert_exporter": "python",
   "pygments_lexer": "ipython3",
   "version": "3.7.3"
  }
 },
 "nbformat": 4,
 "nbformat_minor": 2
}
