{
 "cells": [
  {
   "cell_type": "markdown",
   "metadata": {},
   "source": [
    "# Lab 12\n",
    "start: 8.05"
   ]
  },
  {
   "cell_type": "markdown",
   "metadata": {},
   "source": [
    "### Zadanie L12.1\n",
    "\n",
    "Napisz funkcje \n",
    "\n",
    "1. zwraca następującą sumę przy pomocy pętli while\n",
    "\n",
    "    $\\sum_{n=1}^{1000} n/(n^3-n^2+3n)$ <br><br>\n",
    "\n",
    "2. zwraca iloczyn przy pomocy pętli for\n",
    "\n",
    "    $\\prod_{n=5}^{20} 2n/(n+2)$"
   ]
  },
  {
   "cell_type": "code",
   "execution_count": 3,
   "metadata": {},
   "outputs": [
    {
     "data": {
      "text/plain": [
       "0.9461692873594716"
      ]
     },
     "execution_count": 3,
     "metadata": {},
     "output_type": "execute_result"
    }
   ],
   "source": [
    "def fun1():\n",
    "    n = 1\n",
    "    stop = 1000\n",
    "    suma = 0\n",
    "\n",
    "    while n <= stop:\n",
    "        suma += n / (n ** 3 - n ** 2 + 3 * n)\n",
    "        n += 1\n",
    "\n",
    "    return suma\n",
    "\n",
    "\n",
    "fun1()"
   ]
  },
  {
   "cell_type": "code",
   "execution_count": 5,
   "metadata": {},
   "outputs": [
    {
     "data": {
      "text/plain": [
       "4255.584415584416"
      ]
     },
     "execution_count": 5,
     "metadata": {},
     "output_type": "execute_result"
    }
   ],
   "source": [
    "def iloczyn():\n",
    "    \"\"\" Funkcja zwraca iloczyn\"\"\"\n",
    "    iloczyn = 1\n",
    "    n = 5\n",
    "    \n",
    "    while n <= 20:\n",
    "        iloczyn *= (2 * n) / (n + 2)\n",
    "        n += 1\n",
    "                     \n",
    "    return iloczyn\n",
    "         \n",
    "    \n",
    "iloczyn()"
   ]
  },
  {
   "cell_type": "markdown",
   "metadata": {},
   "source": [
    "### Zadanie L12.1 $\\alpha$\n",
    "\n",
    "Napisz funkcje z 2 parametrami formalnymi `A` i `B`\n",
    "\n",
    "1. zwraca następującą sumę przy pomocy pętli while\n",
    "\n",
    "    $\\sum_{n=A}^{B} n/(n^3-n^2+3n)$ <br><br>\n",
    "\n",
    "2. zwraca iloczyn przy pomocy pętli for\n",
    "\n",
    "    $\\prod_{n=A}^{B} 2n/(n+2)$"
   ]
  },
  {
   "cell_type": "code",
   "execution_count": 9,
   "metadata": {},
   "outputs": [
    {
     "data": {
      "text/plain": [
       "(0.9461692873594716, 4255.584415584416)"
      ]
     },
     "execution_count": 9,
     "metadata": {},
     "output_type": "execute_result"
    }
   ],
   "source": [
    "def zwroc_sume(A, B):\n",
    "    suma = 0\n",
    "\n",
    "    while A <= B:\n",
    "        suma += A / (A ** 3 - A ** 2 + 3 * A)\n",
    "        A += 1\n",
    "\n",
    "    return suma\n",
    "\n",
    "\n",
    "def pokaz_iloczyn(A, B):\n",
    "    iloczyn = 1\n",
    "    \n",
    "    for element in range(A, B + 1):\n",
    "        iloczyn = iloczyn * (2 * element / (element + 2))\n",
    "        \n",
    "    return iloczyn\n",
    "\n",
    "\n",
    "zwroc_sume(1, 1000), pokaz_iloczyn(5, 20)"
   ]
  },
  {
   "cell_type": "markdown",
   "metadata": {},
   "source": [
    "### Zadanie L12.2\n",
    "\n",
    "Zdefiniuj funkcje, zwracające przy pomocy wyrażeń listowych/słownikowych następujące obiekty:\n",
    "- listę liczb postaci 3n dla liczb naturalnych, parzystych n z przedziału [-5,21]\n",
    "- słownik, którego kluczami są indeksy elementów z wcześniejszej listy, a wartościami te elementy\n",
    "- listę takich par (x,y), gdzie `x-y=5` lub `x+y=5`, dla liczb x, y naturalnych mniejszych od 50."
   ]
  },
  {
   "cell_type": "code",
   "execution_count": 17,
   "metadata": {},
   "outputs": [
    {
     "name": "stdout",
     "output_type": "stream",
     "text": [
      "{0: -12, 1: -6, 2: 0, 3: 6, 4: 12, 5: 18, 6: 24, 7: 30, 8: 36, 9: 42, 10: 48, 11: 54, 12: 60}\n",
      "\n",
      "[(1, 4), (2, 3), (3, 2), (4, 1), (6, 1), (7, 2), (8, 3), (9, 4), (10, 5), (11, 6), (12, 7), (13, 8), (14, 9), (15, 10), (16, 11), (17, 12), (18, 13), (19, 14), (20, 15), (21, 16), (22, 17), (23, 18), (24, 19), (25, 20), (26, 21), (27, 22), (28, 23), (29, 24), (30, 25), (31, 26), (32, 27), (33, 28), (34, 29), (35, 30), (36, 31), (37, 32), (38, 33), (39, 34), (40, 35), (41, 36), (42, 37), (43, 38), (44, 39), (45, 40), (46, 41), (47, 42), (48, 43), (49, 44), (50, 45)]\n"
     ]
    }
   ],
   "source": [
    "def generuj_liste_3n(a=-5, b=21):\n",
    "    lista = [3 * n for n in range(a, b) if n % 2 == 0]\n",
    "    return lista\n",
    "\n",
    "def generuj_slownik(lista):\n",
    "    slownik = {indeks: wartosc for indeks, wartosc in enumerate(lista)}\n",
    "    return slownik\n",
    "\n",
    "# def generuj_slownik():\n",
    "#     lista = generuj_liste_3n()\n",
    "#     slownik = {indeks: wartosc for indeks, wartosc in enumerate(lista)}\n",
    "#     return slownik\n",
    "\n",
    "def generuj_pary():\n",
    "    lista = [(x, y) for x in range(1,51) for y in range(1,51) if (x - y == 5) or (y + x == 5)]\n",
    "    return lista\n",
    "\n",
    "\n",
    "print(generuj_slownik(generuj_liste_3n()))\n",
    "print()\n",
    "print(generuj_pary())"
   ]
  },
  {
   "cell_type": "code",
   "execution_count": 20,
   "metadata": {},
   "outputs": [
    {
     "data": {
      "text/plain": [
       "([-12, -6, 0, 6, 12, 18, 24, 30, 36, 42, 48, 54, 60],\n",
       " [-12, -6, 0, 6, 12, 18, 24, 30, 36, 42, 48, 54, 60])"
      ]
     },
     "execution_count": 20,
     "metadata": {},
     "output_type": "execute_result"
    }
   ],
   "source": [
    "def mnozenie_3n():\n",
    "    lista = []\n",
    "    \n",
    "    for element in range(-5, 21):\n",
    "        if element % 2 == 0:\n",
    "            lista.append(3 * element)\n",
    "\n",
    "    return lista\n",
    "\n",
    "mnozenie_3n(), generuj_liste_3n()"
   ]
  },
  {
   "cell_type": "markdown",
   "metadata": {},
   "source": [
    "### Zadanie L12.3\n",
    "\n",
    "1. Utwórz funkcję zwracającą listę zawierającą 100 losowych liczb całkowitych z przedziału [-50,50].\n",
    "* Napisz funkcję, która jako parametr pobiera listę liczb, wyznacza sumy kolejnych wyrazów (`cumsum`) i zwraca taką listę. \n",
    "    Przykładowo Jeśli wygenerowana lista byłaby postaci \n",
    "    \n",
    "    `[1, 2, 3, 2, 1, 0, 3]`, \n",
    "    \n",
    "    to lista sum byłaby następująca:\n",
    "    \n",
    "     `[1, 1 + 2, 1 + 2 + 3, 1 + 2 + 3 + 2, ...] = [1, 3, 6, 8, 9, 9, 12]`\n",
    " \n",
    "4. Napisz funkcję, która sprawdza, czy liczba `x` podana jako pierwszy parametr formalny pojawia się na liście sum podanej jako drugi parametr formalny. Jeśli tak, zwróć jej indeks. W przeciwnym przypadku zwróć indeks liczby, która jest najbliżej liczby `x` (która najmniej się różni wartością).\n",
    "\n",
    "3. Następnie przetestuj powyższe funkcje - poproś użytkownika o podanie liczby `x` z przedziału [0, 200] i wywołaj powyższe funkcje dla tej liczby."
   ]
  },
  {
   "cell_type": "code",
   "execution_count": 63,
   "metadata": {},
   "outputs": [
    {
     "name": "stdout",
     "output_type": "stream",
     "text": [
      "Podaj liczbę z zakresu [0, 200], -1 kończy program: 32\n",
      "32 nie ma w L, najblizsza liczba to L[0] = -5\n",
      "Podaj liczbę z zakresu [0, 200], -1 kończy program: 234\n",
      "234 nie ma w L, najblizsza liczba to L[55] = 232\n",
      "Podaj liczbę z zakresu [0, 200], -1 kończy program: 24\n",
      "47\n",
      "Podaj liczbę z zakresu [0, 200], -1 kończy program: -1\n"
     ]
    }
   ],
   "source": [
    "from random import randint\n",
    "\n",
    "def generuj_losowe(A, B, N):\n",
    "    'Generuje N losowych liczb z przedziału od A do B'\n",
    "    lista = [randint(A, B+1) for i in range(N)]\n",
    "    return lista\n",
    "\n",
    "def cumsum(lista):\n",
    "    lista = [sum(lista[:indeks+1]) for indeks, wartosc in enumerate(lista)]\n",
    "    return lista\n",
    "\n",
    "def znajdz_miejsce(x, L):\n",
    "    if x in L: # Jeśli tak, zwróć jej indeks.\n",
    "        return L.index(x)\n",
    "    else:\n",
    "        dx = [abs(el - x) for el in L]\n",
    "        # print(\"dx\", dx, min(dx))\n",
    "        idx = dx.index(min(dx))\n",
    "        return '{} nie ma w L, najblizsza liczba to L[{}] = {}'.format(x, idx, L[idx])\n",
    "\n",
    "while True:\n",
    "    # see_only = 10\n",
    "    # 1\n",
    "    losowe = generuj_losowe(-50, 50, 100)\n",
    "    # print(losowe[:see_only])\n",
    "    # 2\n",
    "    sumy = cumsum(losowe)\n",
    "    # print(sumy[:see_only])\n",
    "    # 3\n",
    "    x = int(input(\"Podaj liczbę z zakresu [0, 200], -1 kończy program: \"))\n",
    "    if x == -1: \n",
    "        break\n",
    "    print(znajdz_miejsce(x, sumy))"
   ]
  },
  {
   "cell_type": "code",
   "execution_count": 65,
   "metadata": {},
   "outputs": [
    {
     "name": "stdout",
     "output_type": "stream",
     "text": [
      "Podaj liczbę: 32\n",
      "4\n"
     ]
    }
   ],
   "source": [
    "print(znajdz_miejsce(int(input(\"Podaj liczbę: \")), cumsum(generuj_losowe(-50, 50, 100))))"
   ]
  },
  {
   "cell_type": "code",
   "execution_count": null,
   "metadata": {},
   "outputs": [],
   "source": []
  }
 ],
 "metadata": {
  "kernelspec": {
   "display_name": "Python 3",
   "language": "python",
   "name": "python3"
  },
  "language_info": {
   "codemirror_mode": {
    "name": "ipython",
    "version": 3
   },
   "file_extension": ".py",
   "mimetype": "text/x-python",
   "name": "python",
   "nbconvert_exporter": "python",
   "pygments_lexer": "ipython3",
   "version": "3.7.3"
  }
 },
 "nbformat": 4,
 "nbformat_minor": 2
}
