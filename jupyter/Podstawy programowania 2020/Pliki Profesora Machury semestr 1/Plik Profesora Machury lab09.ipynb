{
 "cells": [
  {
   "cell_type": "markdown",
   "metadata": {},
   "source": [
    "# Lab 09, omówienie kolokwium, wyrażenia listowe"
   ]
  },
  {
   "cell_type": "code",
   "execution_count": 1,
   "metadata": {},
   "outputs": [],
   "source": [
    "# start 8:05"
   ]
  },
  {
   "cell_type": "markdown",
   "metadata": {},
   "source": [
    "## Zad 1 (25 pkt) Suma\n",
    "Oblicz sumę `s`. Użyj takich samych zmiennych jakie widzisz we wzorze poniżej. Użyj pętli `while`. W przypadku, gdy wzór podniesie jakiś wyjątek (błąd) użyj instrukcji warunkowej `if`, by pominąć daną liczbę w pętli.\n",
    "$$s = \\sum_{i=-10}^{10} \\frac{i}{i-5}$$"
   ]
  },
  {
   "cell_type": "code",
   "execution_count": 21,
   "metadata": {},
   "outputs": [
    {
     "name": "stdout",
     "output_type": "stream",
     "text": [
      "14.8255217005217\n"
     ]
    }
   ],
   "source": [
    "s = 0\n",
    "i = -10\n",
    "while i <= 10:\n",
    "    if i != 5:\n",
    "        s += i / (i - 5)\n",
    "    i += 1\n",
    "print(s)"
   ]
  },
  {
   "cell_type": "markdown",
   "metadata": {},
   "source": [
    "## Zad 2 (25 pkt) Sekwencja\n",
    "\n",
    "Napisz program, który za pomocą pętli `for` tworzy \n",
    "listę liczb od 0 do 30 i zwraca sumę zawartych w tej liście, ale tylko tych podzielnych przez 3 i 7."
   ]
  },
  {
   "cell_type": "code",
   "execution_count": 29,
   "metadata": {},
   "outputs": [
    {
     "name": "stdout",
     "output_type": "stream",
     "text": [
      "21\n"
     ]
    }
   ],
   "source": [
    "# (a)\n",
    "L = []\n",
    "for liczba in range(0, 31):\n",
    "    L.append(liczba)\n",
    "    \n",
    "# (b)\n",
    "s = 0\n",
    "for el in L:\n",
    "    if el % 3 == 0 and el % 7 == 0:\n",
    "        s += el\n",
    "\n",
    "print(s)"
   ]
  },
  {
   "cell_type": "code",
   "execution_count": 30,
   "metadata": {},
   "outputs": [
    {
     "name": "stdout",
     "output_type": "stream",
     "text": [
      "21\n"
     ]
    }
   ],
   "source": [
    "# (a)\n",
    "L = list(range(0, 31))\n",
    "# (b)\n",
    "s = 0\n",
    "for el in L:\n",
    "    if el % 3 == 0 and el % 7 == 0:\n",
    "        s += el\n",
    "print(s)"
   ]
  },
  {
   "cell_type": "markdown",
   "metadata": {},
   "source": [
    "## Zad 3 (25 pkt) Dzień tygodnia\n",
    "Wiedząc, że w tym roku 1 stycznia przypadał w środę podaj nazwę dnia tygodnia dla \n",
    "111\n",
    "dnia roku 2020. Obliczenia przeprowadź w komórce poniżej, tylko tak zaliczymy punkty."
   ]
  },
  {
   "cell_type": "code",
   "execution_count": 36,
   "metadata": {},
   "outputs": [
    {
     "data": {
      "text/plain": [
       "'PONIEDZIAŁEK'"
      ]
     },
     "execution_count": 36,
     "metadata": {},
     "output_type": "execute_result"
    }
   ],
   "source": [
    "tydzien = ['WTOREK', 'ŚRODA', 'CZWARTEK', 'PIĄTEK', 'SOBOTA', 'NIEDZIELA', 'PONIEDZIAŁEK']\n",
    "dzien = 167\n",
    "tydzien[dzien % 7]"
   ]
  },
  {
   "cell_type": "markdown",
   "metadata": {},
   "source": [
    "## Zad 4 (25 pkt) -1, 0, 1\n",
    "\n",
    "Napisz program, który oblicza sumę liczb w podanej liście `L` i zwracający informację (`print`)\n",
    "\n",
    "* `1` gdy suma liczb dodatnich listy `L` jest większa od wartości bezwzględnej sumy liczb ujemnych listy `L`\n",
    "* `-1` gdy wartość bezwzględna sumy liczb ujemnych listy `L` jest większa od sumy liczb dodatnich listy `L`\n",
    "* `0` gdy wartość bezwzględna sumy liczb ujemnych listy `L` jest równa sumie liczb dodatnich listy `L`\n",
    "\n",
    "Użyj pętli\n",
    "`for`\n",
    "(15 pkt)\n",
    "\n",
    "**Przykłady**\n",
    "\n",
    "    > L = [1, 2, 3, -4, -5] -->> -1\n",
    "    \n",
    "    > L = [1, 2, 3, -1, -2, -3] -->> 0\n",
    "    \n",
    "    > L = [1, 2, 3, -1, -2] -->> 1\n",
    "    \n",
    "**Uwaga**\n",
    "\n",
    "> ostatnie 10 punktów można zdobyć za **przefiltrowanie** elementów list podanych jako argumenty, tak by rozpatrywać **tylko liczby** w nich zawarte, np:\n",
    "\n",
    "    L = [1, 2, (19, 18), 'ala', 3, -4, -5] -->> [1, 2, 3, -4, -5] -->> -1"
   ]
  },
  {
   "cell_type": "code",
   "execution_count": 44,
   "metadata": {},
   "outputs": [
    {
     "name": "stdout",
     "output_type": "stream",
     "text": [
      "-1\n",
      "-1\n"
     ]
    }
   ],
   "source": [
    "L1 = [1, 2, (19, 18), 'ala', 3, -4, -5]  # |-9| vs 6  ->>  -1\n",
    "\n",
    "L = []\n",
    "for el in L1:\n",
    "    if type(el) == int or type(el) == float:\n",
    "        L.append(el)\n",
    "\n",
    "L = []\n",
    "i = 0\n",
    "while i < len(L1):\n",
    "    el = L1[i]\n",
    "    if type(el) == int or type(el) == float:\n",
    "        L.append(el)\n",
    "    i += 1\n",
    "        \n",
    "###\n",
    "L_min = []\n",
    "L_plus = []\n",
    "for el in L:        \n",
    "    if el < 0:\n",
    "        L_min.append(-el)\n",
    "    else:\n",
    "        L_plus.append(el)\n",
    "\n",
    "if sum(L_min) > sum(L_plus):\n",
    "    print(-1)\n",
    "elif sum(L_min) < sum(L_plus):\n",
    "    print(1)\n",
    "else:\n",
    "    print(0)\n",
    "###\n",
    "\n",
    "if sum(L) > 0:\n",
    "    print(1)\n",
    "elif sum(L) < 0:\n",
    "    print(-1)\n",
    "else:\n",
    "    print(0)"
   ]
  },
  {
   "cell_type": "markdown",
   "metadata": {},
   "source": [
    "### Zad z PD\n",
    "wypisz elementy słownika klucz -> wartosc posortowane rosnąco według pola nazwisko"
   ]
  },
  {
   "cell_type": "code",
   "execution_count": 49,
   "metadata": {},
   "outputs": [],
   "source": [
    "d = {('Lukasz', 'Machura'): 123446543, ('Igor', 'Juraszek'): 312409876}"
   ]
  },
  {
   "cell_type": "code",
   "execution_count": null,
   "metadata": {},
   "outputs": [],
   "source": []
  },
  {
   "cell_type": "markdown",
   "metadata": {},
   "source": [
    "# wyrażenia listowe\n",
    "\n",
    "Składać listy w pętlach w jP można na kilka sposobów: za pomocą konkatenacji `L1 + L2`, metod przynależnych do list `L.append(element), L.insert(indeks, element), L.extend(L2)`. Można też wykorzystać tzw: wyrażenia listowe\n",
    "\n",
    "```\n",
    "[f(el) for el in sekwencja]\n",
    "```\n",
    "\n",
    "Kilka przykładów poniżej"
   ]
  },
  {
   "cell_type": "code",
   "execution_count": 55,
   "metadata": {},
   "outputs": [
    {
     "data": {
      "text/plain": [
       "[1, 2, 3, 4, 5, 6, 7, 8, 9, 10]"
      ]
     },
     "execution_count": 55,
     "metadata": {},
     "output_type": "execute_result"
    }
   ],
   "source": [
    "S = list(range(1, 11))\n",
    "\n",
    "\n",
    "###\n",
    "S = [idx for idx in range(1, 11)]  # wyrazenie listowe (list comprehension)\n",
    "\n",
    "S = []\n",
    "for idx in range(1, 11):\n",
    "    S.append(idx)\n",
    "###\n",
    "\n",
    "\n",
    "S = []\n",
    "i = 1\n",
    "while i <= 10:\n",
    "    S.append(i)\n",
    "    i += 1\n",
    "    \n",
    "S"
   ]
  },
  {
   "cell_type": "code",
   "execution_count": 56,
   "metadata": {},
   "outputs": [
    {
     "data": {
      "text/plain": [
       "[1, 4, 9, 16, 25, 36, 49, 64, 81, 100]"
      ]
     },
     "execution_count": 56,
     "metadata": {},
     "output_type": "execute_result"
    }
   ],
   "source": [
    "# lista kwadratow liczb od 1 do 10\n",
    "K = [el ** 2 for el in S]\n",
    "K"
   ]
  },
  {
   "cell_type": "code",
   "execution_count": 57,
   "metadata": {},
   "outputs": [
    {
     "data": {
      "text/plain": [
       "[1.0,\n",
       " 0.5,\n",
       " 0.3333333333333333,\n",
       " 0.25,\n",
       " 0.2,\n",
       " 0.16666666666666666,\n",
       " 0.14285714285714285,\n",
       " 0.125,\n",
       " 0.1111111111111111,\n",
       " 0.1]"
      ]
     },
     "execution_count": 57,
     "metadata": {},
     "output_type": "execute_result"
    }
   ],
   "source": [
    "# lista odwrotnosci liczb od 1 do 10\n",
    "O = [1 / el for el in S]\n",
    "O"
   ]
  },
  {
   "cell_type": "code",
   "execution_count": 59,
   "metadata": {},
   "outputs": [
    {
     "data": {
      "text/plain": [
       "[(1, 1),\n",
       " (2, 4),\n",
       " (3, 9),\n",
       " (4, 16),\n",
       " (5, 25),\n",
       " (6, 36),\n",
       " (7, 49),\n",
       " (8, 64),\n",
       " (9, 81),\n",
       " (10, 100)]"
      ]
     },
     "execution_count": 59,
     "metadata": {},
     "output_type": "execute_result"
    }
   ],
   "source": [
    "# liste krotek (liczba, liczba ** 2), dla liczb od 1 do 10\n",
    "LK = [(liczba, liczba ** 2) for liczba in S]\n",
    "LK"
   ]
  },
  {
   "cell_type": "markdown",
   "metadata": {},
   "source": [
    "### Zadanie L09.1\n",
    "Kożystając z powyższej wyjściowej sekwencji `S` liczb naturalnych od 1 do 10 zbuduj za pomocą \n",
    "\n",
    "1. pętli `while` oraz konkatenacji `+`\n",
    "2. pętli for oraz metody `append`\n",
    "3. wyrażenia listowego\n",
    "\n",
    "następujące listy\n",
    "\n",
    "1. listę pierwiastków 3 stopnia elementów `S`\n",
    "2. listę znaków ASCII po wcześniejszym dodaniu 100 do każdej wartości (`100 + 1`, `100 + 2`, ...) sekwencji `S`\n",
    "3. listę wartości funkcji $\\sin(\\pi * i / 10)$, dla `i` z sekwencji `S` (`from math import sin, pi`)\n",
    "4. listę kwadratów odwrotności elementów `S`\n",
    "5. listę kolejnych liczb parzystych większych od 1234567, odpowiadających elementom sekwencji `S` [pierwsza liczba parzysta większa od 1234567, druga liczba parzysta większa od 1234567...]\n",
    "6. listę kolejnych liczb nieparzystych mniejszych od -98765, odpowiadających elementom sekwencji `S` [pierwsza liczba nieparzysta mniejsza od -98765, druga liczba nieparzysta mniejsza od -98765...]\n",
    "7. listę krotek liczb, ich kwadratów oraz sześcianów dla elementów `S`\n",
    "8. listę wartości funkcji $(1 - k) / (k + 1)$, dla `k` z sekwencji `S`\n",
    "9. listę reszt z dzielenia przez 5 elementów `S`\n",
    "10. listę wartości `True` lub `False` warunku sprawdzającego czy element `S` jest podzielny przez `3`\n",
    "11. listę krotek elementów sekwencji `S` oraz ich wartości ze znakiem przeciwnym \n",
    "12. listę krotek elementów sekwencji `S` oraz ich kwadratów i pierwiastków kwadratowych\n",
    "\n",
    "Marcin 1, 2,\n",
    "Igor 3, 4,\n",
    "Taisja 5, 6, \n",
    "Bartosz 7, 8, \n",
    "Marek 9, 10"
   ]
  },
  {
   "cell_type": "code",
   "execution_count": 60,
   "metadata": {},
   "outputs": [],
   "source": [
    "S = list(range(1, 11))\n",
    "K = [el ** 2 for el in S]\n",
    "LK = [(liczba, liczba ** 2) for liczba in S]\n",
    "O = [1 / el for el in S]"
   ]
  },
  {
   "cell_type": "code",
   "execution_count": 62,
   "metadata": {},
   "outputs": [
    {
     "data": {
      "text/plain": [
       "(1234568,\n",
       " 1234570,\n",
       " 1234572,\n",
       " 1234574,\n",
       " 1234576,\n",
       " 1234578,\n",
       " 1234580,\n",
       " 1234582,\n",
       " 1234684)"
      ]
     },
     "execution_count": 62,
     "metadata": {},
     "output_type": "execute_result"
    }
   ],
   "source": [
    "1234567 + 1, 1234567 + 3, 1234567 + 5, 1234567 + 7, 1234567 + 9, 1234567 + 11, 1234567 + 13, 1234567 + 15, 1234567 + 117"
   ]
  },
  {
   "cell_type": "code",
   "execution_count": 77,
   "metadata": {},
   "outputs": [
    {
     "data": {
      "text/plain": [
       "[(1, 1, 1),\n",
       " (2, 4, 8),\n",
       " (3, 9, 27),\n",
       " (4, 16, 64),\n",
       " (5, 25, 125),\n",
       " (6, 36, 216),\n",
       " (7, 49, 343),\n",
       " (8, 64, 512),\n",
       " (9, 81, 729)]"
      ]
     },
     "execution_count": 77,
     "metadata": {},
     "output_type": "execute_result"
    }
   ],
   "source": [
    "zadanie7 = [(liczba, liczba ** 2, liczba ** 3) for liczba in S]\n",
    "zadanie7"
   ]
  },
  {
   "cell_type": "code",
   "execution_count": 78,
   "metadata": {},
   "outputs": [
    {
     "data": {
      "text/plain": [
       "[1, 2, 3, 4, 5, 6, 7, 8, 9]"
      ]
     },
     "execution_count": 78,
     "metadata": {},
     "output_type": "execute_result"
    }
   ],
   "source": [
    "S"
   ]
  },
  {
   "cell_type": "code",
   "execution_count": 85,
   "metadata": {},
   "outputs": [
    {
     "data": {
      "text/plain": [
       "[1234568,\n",
       " 1234570,\n",
       " 1234572,\n",
       " 1234574,\n",
       " 1234576,\n",
       " 1234578,\n",
       " 1234580,\n",
       " 1234582,\n",
       " 1234584]"
      ]
     },
     "execution_count": 85,
     "metadata": {},
     "output_type": "execute_result"
    }
   ],
   "source": [
    "lista5 = []\n",
    "for el in S:\n",
    "    lista5.append(1234567 + 2 * el - 1)\n",
    "lista5"
   ]
  },
  {
   "cell_type": "markdown",
   "metadata": {},
   "source": [
    "### Zagnieżdżanie\n",
    "Pętle w wyrażeniach listowych można zagnieżdżać, podobnie jak zwykłe pętle. Przykładowo"
   ]
  },
  {
   "cell_type": "code",
   "execution_count": 87,
   "metadata": {},
   "outputs": [
    {
     "name": "stdout",
     "output_type": "stream",
     "text": [
      "[42, 43, 44, 45, 46, 47, 48, 49, 50, 51, 43, 44, 45, 46, 47, 48, 49, 50, 51, 52, 44, 45, 46, 47, 48, 49, 50, 51, 52, 53, 45, 46, 47, 48, 49, 50, 51, 52, 53, 54, 46, 47, 48, 49, 50, 51, 52, 53, 54, 55, 47, 48, 49, 50, 51, 52, 53, 54, 55, 56, 48, 49, 50, 51, 52, 53, 54, 55, 56, 57, 49, 50, 51, 52, 53, 54, 55, 56, 57, 58, 50, 51, 52, 53, 54, 55, 56, 57, 58, 59, 51, 52, 53, 54, 55, 56, 57, 58, 59, 60]\n"
     ]
    }
   ],
   "source": [
    "L10 = []\n",
    "for i in range(11, 21):\n",
    "    for j in range(31, 41):\n",
    "        L10.append(i + j)\n",
    "print(L10)"
   ]
  },
  {
   "cell_type": "code",
   "execution_count": 89,
   "metadata": {},
   "outputs": [
    {
     "name": "stdout",
     "output_type": "stream",
     "text": [
      "[42, 43, 44, 45, 46, 47, 48, 49, 50, 51, 43, 44, 45, 46, 47, 48, 49, 50, 51, 52, 44, 45, 46, 47, 48, 49, 50, 51, 52, 53, 45, 46, 47, 48, 49, 50, 51, 52, 53, 54, 46, 47, 48, 49, 50, 51, 52, 53, 54, 55, 47, 48, 49, 50, 51, 52, 53, 54, 55, 56, 48, 49, 50, 51, 52, 53, 54, 55, 56, 57, 49, 50, 51, 52, 53, 54, 55, 56, 57, 58, 50, 51, 52, 53, 54, 55, 56, 57, 58, 59, 51, 52, 53, 54, 55, 56, 57, 58, 59, 60]\n"
     ]
    }
   ],
   "source": [
    "L11 = [i + j \n",
    "       for i in range(11, 21) \n",
    "           for j in range(31, 41)]\n",
    "print(L11)"
   ]
  },
  {
   "cell_type": "code",
   "execution_count": 96,
   "metadata": {},
   "outputs": [
    {
     "name": "stdout",
     "output_type": "stream",
     "text": [
      "[(11, 31), (11, 32), (12, 31), (12, 32), (13, 31), (13, 32), (14, 31), (14, 32), (15, 31), (15, 32), (16, 31), (16, 32), (17, 31), (17, 32), (18, 31), (18, 32), (19, 31), (19, 32), (20, 31), (20, 32)]\n"
     ]
    }
   ],
   "source": [
    "L12 = [(i, j) for i in range(11, 21) for j in range(31, 33)]\n",
    "print(L12)"
   ]
  },
  {
   "cell_type": "code",
   "execution_count": 104,
   "metadata": {},
   "outputs": [
    {
     "name": "stdout",
     "output_type": "stream",
     "text": [
      "[(11, 1), (11, 2), (11, 'pi'), (12, 1), (12, 2), (12, 'pi')]\n"
     ]
    }
   ],
   "source": [
    "L13 = []\n",
    "for i in range(11, 13):\n",
    "    for j in [1, 2, 'pi']:\n",
    "        L13.append((i, j))\n",
    "print(L13)"
   ]
  },
  {
   "cell_type": "markdown",
   "metadata": {},
   "source": [
    "### Zadanie L09.2\n",
    "Dzielimy grupę na 3 podgrupy. Każda podgrupa rozwiazuje 1 zadanie. Zbuduj tabliczę mnożenia liczb od 1 do 16 (włącznie), tak by poszczególne elementy listy głównej były listami.\n",
    "\n",
    "1. [Bartosz + Taisja] za pomocą pętli `while`\n",
    "2. [Marcin] za pomocą pętli `for`\n",
    "3. [Marek] za pomocą wyrażenia listowego\n",
    "\n"
   ]
  },
  {
   "cell_type": "code",
   "execution_count": 114,
   "metadata": {},
   "outputs": [
    {
     "data": {
      "text/plain": [
       "[[1, 2, 3, 4, 5, 6, 7, 8, 9, 10, 11, 12, 13, 14, 15, 16],\n",
       " [2, 4, 6, 8, 10, 12, 14, 16, 18, 20, 22, 24, 26, 28, 30, 32],\n",
       " [3, 6, 9, 12, 15, 18, 21, 24, 27, 30, 33, 36, 39, 42, 45, 48],\n",
       " [4, 8, 12, 16, 20, 24, 28, 32, 36, 40, 44, 48, 52, 56, 60, 64],\n",
       " [5, 10, 15, 20, 25, 30, 35, 40, 45, 50, 55, 60, 65, 70, 75, 80],\n",
       " [6, 12, 18, 24, 30, 36, 42, 48, 54, 60, 66, 72, 78, 84, 90, 96],\n",
       " [7, 14, 21, 28, 35, 42, 49, 56, 63, 70, 77, 84, 91, 98, 105, 112],\n",
       " [8, 16, 24, 32, 40, 48, 56, 64, 72, 80, 88, 96, 104, 112, 120, 128],\n",
       " [9, 18, 27, 36, 45, 54, 63, 72, 81, 90, 99, 108, 117, 126, 135, 144],\n",
       " [10, 20, 30, 40, 50, 60, 70, 80, 90, 100, 110, 120, 130, 140, 150, 160],\n",
       " [11, 22, 33, 44, 55, 66, 77, 88, 99, 110, 121, 132, 143, 154, 165, 176],\n",
       " [12, 24, 36, 48, 60, 72, 84, 96, 108, 120, 132, 144, 156, 168, 180, 192],\n",
       " [13, 26, 39, 52, 65, 78, 91, 104, 117, 130, 143, 156, 169, 182, 195, 208],\n",
       " [14, 28, 42, 56, 70, 84, 98, 112, 126, 140, 154, 168, 182, 196, 210, 224],\n",
       " [15, 30, 45, 60, 75, 90, 105, 120, 135, 150, 165, 180, 195, 210, 225, 240],\n",
       " [16, 32, 48, 64, 80, 96, 112, 128, 144, 160, 176, 192, 208, 224, 240, 256]]"
      ]
     },
     "execution_count": 114,
     "metadata": {},
     "output_type": "execute_result"
    }
   ],
   "source": [
    "# tabliczka mnożenia od 1 do 16\n",
    "lista = []\n",
    "liczba = 1\n",
    " \n",
    "while liczba <= 16:\n",
    "    liczba2 = 1\n",
    "    lista2 = []\n",
    "    while liczba2 <= 16:\n",
    "        wartosc = liczba * liczba2\n",
    "        lista2.append(wartosc)\n",
    "        liczba2 += 1\n",
    "    lista.append(lista2)\n",
    "    liczba += 1\n",
    "\n",
    "lista"
   ]
  },
  {
   "cell_type": "code",
   "execution_count": 109,
   "metadata": {},
   "outputs": [
    {
     "data": {
      "text/plain": [
       "[[1, 2, 3, 4, 5, 6, 7, 8, 9, 10, 11, 12, 13, 14, 15, 16],\n",
       " [2, 4, 6, 8, 10, 12, 14, 16, 18, 20, 22, 24, 26, 28, 30, 32],\n",
       " [3, 6, 9, 12, 15, 18, 21, 24, 27, 30, 33, 36, 39, 42, 45, 48],\n",
       " [4, 8, 12, 16, 20, 24, 28, 32, 36, 40, 44, 48, 52, 56, 60, 64],\n",
       " [5, 10, 15, 20, 25, 30, 35, 40, 45, 50, 55, 60, 65, 70, 75, 80],\n",
       " [6, 12, 18, 24, 30, 36, 42, 48, 54, 60, 66, 72, 78, 84, 90, 96],\n",
       " [7, 14, 21, 28, 35, 42, 49, 56, 63, 70, 77, 84, 91, 98, 105, 112],\n",
       " [8, 16, 24, 32, 40, 48, 56, 64, 72, 80, 88, 96, 104, 112, 120, 128],\n",
       " [9, 18, 27, 36, 45, 54, 63, 72, 81, 90, 99, 108, 117, 126, 135, 144],\n",
       " [10, 20, 30, 40, 50, 60, 70, 80, 90, 100, 110, 120, 130, 140, 150, 160],\n",
       " [11, 22, 33, 44, 55, 66, 77, 88, 99, 110, 121, 132, 143, 154, 165, 176],\n",
       " [12, 24, 36, 48, 60, 72, 84, 96, 108, 120, 132, 144, 156, 168, 180, 192],\n",
       " [13, 26, 39, 52, 65, 78, 91, 104, 117, 130, 143, 156, 169, 182, 195, 208],\n",
       " [14, 28, 42, 56, 70, 84, 98, 112, 126, 140, 154, 168, 182, 196, 210, 224],\n",
       " [15, 30, 45, 60, 75, 90, 105, 120, 135, 150, 165, 180, 195, 210, 225, 240],\n",
       " [16, 32, 48, 64, 80, 96, 112, 128, 144, 160, 176, 192, 208, 224, 240, 256]]"
      ]
     },
     "execution_count": 109,
     "metadata": {},
     "output_type": "execute_result"
    }
   ],
   "source": [
    "TM = [[x * z for x in range(1, 17)] for z in range(1, 17)]\n",
    "TM"
   ]
  },
  {
   "cell_type": "code",
   "execution_count": 113,
   "metadata": {},
   "outputs": [
    {
     "data": {
      "text/plain": [
       "[[1, 2, 3, 4, 5, 6, 7, 8, 9, 10, 11, 12, 13, 14, 15, 16],\n",
       " [2, 4, 6, 8, 10, 12, 14, 16, 18, 20, 22, 24, 26, 28, 30, 32],\n",
       " [3, 6, 9, 12, 15, 18, 21, 24, 27, 30, 33, 36, 39, 42, 45, 48],\n",
       " [4, 8, 12, 16, 20, 24, 28, 32, 36, 40, 44, 48, 52, 56, 60, 64],\n",
       " [5, 10, 15, 20, 25, 30, 35, 40, 45, 50, 55, 60, 65, 70, 75, 80],\n",
       " [6, 12, 18, 24, 30, 36, 42, 48, 54, 60, 66, 72, 78, 84, 90, 96],\n",
       " [7, 14, 21, 28, 35, 42, 49, 56, 63, 70, 77, 84, 91, 98, 105, 112],\n",
       " [8, 16, 24, 32, 40, 48, 56, 64, 72, 80, 88, 96, 104, 112, 120, 128],\n",
       " [9, 18, 27, 36, 45, 54, 63, 72, 81, 90, 99, 108, 117, 126, 135, 144],\n",
       " [10, 20, 30, 40, 50, 60, 70, 80, 90, 100, 110, 120, 130, 140, 150, 160],\n",
       " [11, 22, 33, 44, 55, 66, 77, 88, 99, 110, 121, 132, 143, 154, 165, 176],\n",
       " [12, 24, 36, 48, 60, 72, 84, 96, 108, 120, 132, 144, 156, 168, 180, 192],\n",
       " [13, 26, 39, 52, 65, 78, 91, 104, 117, 130, 143, 156, 169, 182, 195, 208],\n",
       " [14, 28, 42, 56, 70, 84, 98, 112, 126, 140, 154, 168, 182, 196, 210, 224],\n",
       " [15, 30, 45, 60, 75, 90, 105, 120, 135, 150, 165, 180, 195, 210, 225, 240],\n",
       " [16, 32, 48, 64, 80, 96, 112, 128, 144, 160, 176, 192, 208, 224, 240, 256]]"
      ]
     },
     "execution_count": 113,
     "metadata": {},
     "output_type": "execute_result"
    }
   ],
   "source": [
    "M = []\n",
    "for x in range(1, 17):\n",
    "    lista2 = []\n",
    "    for z in range(1, 17):\n",
    "        lista2.append(x * z)\n",
    "    M.append(lista2)\n",
    "M"
   ]
  },
  {
   "cell_type": "markdown",
   "metadata": {},
   "source": [
    "## Filtrowanie wyrażeń listowych\n",
    "\n",
    "Za pomocą wyrażenia warunkowego `if` możemy przefiltrować elememnty sekwencji bazowej w czasie tworzenia listy.\n",
    "\n",
    "```\n",
    "[f(el) for el in sekwencja if g(el)]\n",
    "```\n",
    "\n",
    "Jeżeli `g(el)` rozwiąże się do prawdy `True` to dany element doda się do listy, w przeciwnym wypadku nie doda się.\n"
   ]
  },
  {
   "cell_type": "code",
   "execution_count": 115,
   "metadata": {},
   "outputs": [
    {
     "name": "stdout",
     "output_type": "stream",
     "text": [
      "[1, 3, 5, 7, 9, 11, 13, 15, 17, 19, 21, 23, 25, 27, 29, 31, 33, 35, 37, 39, 41, 43, 45, 47, 49, 51, 53, 55, 57, 59, 61, 63, 65, 67, 69, 71, 73, 75, 77, 79, 81, 83, 85, 87, 89, 91, 93, 95, 97, 99]\n"
     ]
    }
   ],
   "source": [
    "# nieparzyste liczby od 0 do 99\n",
    "L9 = [k for k in range(100) if k % 2 == 1]\n",
    "\n",
    "print(L9)"
   ]
  },
  {
   "cell_type": "code",
   "execution_count": null,
   "metadata": {},
   "outputs": [],
   "source": []
  }
 ],
 "metadata": {
  "kernelspec": {
   "display_name": "Python 3",
   "language": "python",
   "name": "python3"
  },
  "language_info": {
   "codemirror_mode": {
    "name": "ipython",
    "version": 3
   },
   "file_extension": ".py",
   "mimetype": "text/x-python",
   "name": "python",
   "nbconvert_exporter": "python",
   "pygments_lexer": "ipython3",
   "version": "3.7.3"
  }
 },
 "nbformat": 4,
 "nbformat_minor": 2
}
