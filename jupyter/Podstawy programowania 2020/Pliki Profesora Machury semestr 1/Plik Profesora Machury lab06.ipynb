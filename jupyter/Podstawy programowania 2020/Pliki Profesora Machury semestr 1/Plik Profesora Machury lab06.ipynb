{
 "cells": [
  {
   "cell_type": "code",
   "execution_count": 95,
   "metadata": {},
   "outputs": [],
   "source": [
    "# lab 06"
   ]
  },
  {
   "cell_type": "markdown",
   "metadata": {},
   "source": [
    "### Zad 1\n",
    "Napisz programy wykorzystujące pętlę `while` obliczający sumę i iloczyn. **Stosując instrukcję warunkową pomiń elementy, które generują błąd**.\n",
    "\n",
    "* iloczyn\n",
    "$$s=\\prod_{i=-4}^{13}\\frac{i+5}{i+1}$$\n",
    "\n",
    "* suma\n",
    "$$i=\\sum_{i=-3}^{3}\\cos\\left(\\frac{\\pi * i}{6}\\right)$$\n",
    "\n",
    "Instrukcja `print` umieszczona w każdym obiegu pętli powinna generować napis zawierający wartość licznika pętli, wartość elementu (w przypadku elementów generujących bład ciąg `------`) i bieżącą wartość sumy (iloczynu)  z dokładnością do 5 cyfr po przecinku."
   ]
  },
  {
   "cell_type": "code",
   "execution_count": 2,
   "metadata": {},
   "outputs": [
    {
     "name": "stdout",
     "output_type": "stream",
     "text": [
      "3628800\n"
     ]
    }
   ],
   "source": [
    "i = 1\n",
    "iloczyn = 1\n",
    "while i <= 10:\n",
    "    iloczyn *= i\n",
    "    i += 1 \n",
    "print(iloczyn)"
   ]
  },
  {
   "cell_type": "code",
   "execution_count": 6,
   "metadata": {},
   "outputs": [
    {
     "name": "stdout",
     "output_type": "stream",
     "text": [
      "licznik -4, element -0.3333333333333333, iloczyn -0.33333\n",
      "licznik -3, element -1.0, iloczyn 0.33333\n",
      "licznik -2, element -3.0, iloczyn -1.00000\n",
      "------\n",
      "licznik 0, element 5.0, iloczyn -5.00000\n",
      "licznik 1, element 3.0, iloczyn -15.00000\n",
      "licznik 2, element 2.3333333333333335, iloczyn -35.00000\n",
      "licznik 3, element 2.0, iloczyn -70.00000\n",
      "licznik 4, element 1.8, iloczyn -126.00000\n",
      "licznik 5, element 1.6666666666666667, iloczyn -210.00000\n",
      "licznik 6, element 1.5714285714285714, iloczyn -330.00000\n",
      "licznik 7, element 1.5, iloczyn -495.00000\n",
      "licznik 8, element 1.4444444444444444, iloczyn -715.00000\n",
      "licznik 9, element 1.4, iloczyn -1001.00000\n",
      "licznik 10, element 1.3636363636363635, iloczyn -1365.00000\n",
      "licznik 11, element 1.3333333333333333, iloczyn -1820.00000\n",
      "licznik 12, element 1.3076923076923077, iloczyn -2380.00000\n",
      "licznik 13, element 1.2857142857142858, iloczyn -3060.00000\n",
      "Wartość końcowa iloczynu = -3059.9999999999995\n"
     ]
    }
   ],
   "source": [
    "start, stop = -4, 13\n",
    "i = start\n",
    "\n",
    "iloczyn = 1\n",
    "while i <= stop:\n",
    "    if i == -1:\n",
    "        print(\"------\")\n",
    "    else:\n",
    "        element = (i + 5) / (i + 1)\n",
    "        iloczyn *= element\n",
    "        print(\"licznik {}, element {}, iloczyn {:.5f}\".format(i, element, iloczyn))\n",
    "    i += 1 \n",
    "    \n",
    "print(f\"Wartość końcowa iloczynu = {iloczyn}\")"
   ]
  },
  {
   "cell_type": "code",
   "execution_count": 10,
   "metadata": {},
   "outputs": [
    {
     "name": "stdout",
     "output_type": "stream",
     "text": [
      "licznik -3, element 6.123233995736766e-17, iloczyn 0.00000\n",
      "licznik -2, element 0.5000000000000001, iloczyn 0.50000\n",
      "licznik -1, element 0.8660254037844387, iloczyn 1.36603\n",
      "licznik 0, element 1.0, iloczyn 2.36603\n",
      "licznik 1, element 0.8660254037844387, iloczyn 3.23205\n",
      "licznik 2, element 0.5000000000000001, iloczyn 3.73205\n",
      "licznik 3, element 6.123233995736766e-17, iloczyn 3.73205\n",
      "Wartość końcowa iloczynu = 3.7320508075688776\n"
     ]
    }
   ],
   "source": [
    "from math import cos, pi\n",
    "start, stop = -3, 3\n",
    "i = start\n",
    "\n",
    "suma = 0\n",
    "while i <= stop:\n",
    "    element = cos(pi * i / 6)\n",
    "    suma += element\n",
    "    print(\"licznik {}, element {}, iloczyn {:.5f}\".format(i, element, suma))\n",
    "    i += 1 \n",
    "    \n",
    "print(f\"Wartość końcowa iloczynu = {suma}\")"
   ]
  },
  {
   "cell_type": "markdown",
   "metadata": {},
   "source": [
    "### Zad 2\n",
    "Napisz program, który z napisu `Ala ma kota i dwa psy` generuje napis `AlaMaKotaIDwaPsy`."
   ]
  },
  {
   "cell_type": "code",
   "execution_count": 11,
   "metadata": {},
   "outputs": [
    {
     "name": "stdout",
     "output_type": "stream",
     "text": [
      "AlaMaKotaIDwaPsy\n"
     ]
    }
   ],
   "source": [
    "ciag_znakow = \"Ala ma kota i dwa psy\"\n",
    "i = 0\n",
    "ciag_liter = \"\"\n",
    "while i < len(ciag_znakow):\n",
    "    if ciag_znakow[i] == \" \":\n",
    "        i += 1\n",
    "        ciag_liter += ciag_znakow[i].upper()\n",
    "    else:\n",
    "        ciag_liter += ciag_znakow[i]\n",
    "    i += 1\n",
    "    \n",
    "print(ciag_liter)"
   ]
  },
  {
   "cell_type": "code",
   "execution_count": null,
   "metadata": {},
   "outputs": [],
   "source": []
  },
  {
   "cell_type": "markdown",
   "metadata": {},
   "source": [
    "# Typy sekwencyjne\n",
    "\n",
    "* **string** - łańcuchy znaków\n",
    "* list - listy\n",
    "* **tuple** - krotki\n",
    "* set - zbiory\n",
    "* dict - słowniki\n",
    "\n",
    "**Typy niemodyfikowalne** oznaczone są **boldem**.\n",
    "\n",
    "```\n",
    "obiekt.metoda(<argumenty>)\n",
    "```"
   ]
  },
  {
   "cell_type": "code",
   "execution_count": 12,
   "metadata": {},
   "outputs": [
    {
     "data": {
      "text/plain": [
       "(13, 'o', 'i', ' jes', 'Tjtas')"
      ]
     },
     "execution_count": 12,
     "metadata": {},
     "output_type": "execute_result"
    }
   ],
   "source": [
    "napis = 'To jest napis'\n",
    "len(napis), napis[1], napis[-2], napis[2:6], napis[::3]"
   ]
  },
  {
   "cell_type": "code",
   "execution_count": 22,
   "metadata": {},
   "outputs": [
    {
     "data": {
      "text/plain": [
       "33"
      ]
     },
     "execution_count": 22,
     "metadata": {},
     "output_type": "execute_result"
    }
   ],
   "source": [
    "napis2 = napis + \" \" + \", \" + \"To tez jest napis\"\n",
    "len(napis2)"
   ]
  },
  {
   "cell_type": "code",
   "execution_count": 26,
   "metadata": {},
   "outputs": [
    {
     "data": {
      "text/plain": [
       "'To jest napis'"
      ]
     },
     "execution_count": 26,
     "metadata": {},
     "output_type": "execute_result"
    }
   ],
   "source": [
    "napis3 = \"to jest napis\"\n",
    "napis3.capitalize()"
   ]
  },
  {
   "cell_type": "code",
   "execution_count": 27,
   "metadata": {},
   "outputs": [
    {
     "data": {
      "text/plain": [
       "'To Jest Napis'"
      ]
     },
     "execution_count": 27,
     "metadata": {},
     "output_type": "execute_result"
    }
   ],
   "source": [
    "napis3.title()"
   ]
  },
  {
   "cell_type": "code",
   "execution_count": 28,
   "metadata": {},
   "outputs": [
    {
     "data": {
      "text/plain": [
       "'to jest napis'"
      ]
     },
     "execution_count": 28,
     "metadata": {},
     "output_type": "execute_result"
    }
   ],
   "source": [
    "napis3.lower()"
   ]
  },
  {
   "cell_type": "code",
   "execution_count": 29,
   "metadata": {},
   "outputs": [
    {
     "data": {
      "text/plain": [
       "'TO JEST NAPIS'"
      ]
     },
     "execution_count": 29,
     "metadata": {},
     "output_type": "execute_result"
    }
   ],
   "source": [
    "napis3.upper()"
   ]
  },
  {
   "cell_type": "code",
   "execution_count": 33,
   "metadata": {},
   "outputs": [
    {
     "data": {
      "text/plain": [
       "7"
      ]
     },
     "execution_count": 33,
     "metadata": {},
     "output_type": "execute_result"
    }
   ],
   "source": [
    "napis2.count(' ')"
   ]
  },
  {
   "cell_type": "code",
   "execution_count": 37,
   "metadata": {},
   "outputs": [
    {
     "data": {
      "text/plain": [
       "'Tojestnapis,Totezjestnapis'"
      ]
     },
     "execution_count": 37,
     "metadata": {},
     "output_type": "execute_result"
    }
   ],
   "source": [
    "napis2.replace(' ', '')"
   ]
  },
  {
   "cell_type": "code",
   "execution_count": 38,
   "metadata": {},
   "outputs": [
    {
     "name": "stdout",
     "output_type": "stream",
     "text": [
      "AlaMaKotaIDwaPsy\n"
     ]
    }
   ],
   "source": [
    "# dane\n",
    "ciag_znakow = \"Ala ma kota i dwa psy\"\n",
    "\n",
    "# 1. zmiana kazdego wyrazu na wyraz z duzej literki\n",
    "ciag_znakow = ciag_znakow.title()\n",
    "\n",
    "# 2. pozbycie sie spacji\n",
    "ciag_znakow = ciag_znakow.replace(' ', '')\n",
    "    \n",
    "print(ciag_znakow)"
   ]
  },
  {
   "cell_type": "markdown",
   "metadata": {},
   "source": [
    "# Praca domowa!!!!!!!!!!!!!!!!\n",
    "\n",
    "Zapoznaj się z metodami dla stringów!"
   ]
  },
  {
   "cell_type": "code",
   "execution_count": null,
   "metadata": {},
   "outputs": [],
   "source": []
  },
  {
   "cell_type": "markdown",
   "metadata": {},
   "source": [
    "## Tuple (krotka)"
   ]
  },
  {
   "cell_type": "code",
   "execution_count": 39,
   "metadata": {},
   "outputs": [
    {
     "data": {
      "text/plain": [
       "(1, 2, 3, 4, 5, 6, 7, 8, 9, 10)"
      ]
     },
     "execution_count": 39,
     "metadata": {},
     "output_type": "execute_result"
    }
   ],
   "source": [
    "krotka = (1, 2, 3, 4, 5, 6, 7, 8, 9, 10)\n",
    "krotka"
   ]
  },
  {
   "cell_type": "code",
   "execution_count": 40,
   "metadata": {},
   "outputs": [
    {
     "name": "stdout",
     "output_type": "stream",
     "text": [
      "(1, 2, 3, 4, 5, 6, 7, 8, 9, 10)\n"
     ]
    }
   ],
   "source": [
    "print(krotka)"
   ]
  },
  {
   "cell_type": "code",
   "execution_count": 45,
   "metadata": {},
   "outputs": [
    {
     "data": {
      "text/plain": [
       "(10, 3, 9, (2, 3, 4, 5), (1, 4, 7, 10))"
      ]
     },
     "execution_count": 45,
     "metadata": {},
     "output_type": "execute_result"
    }
   ],
   "source": [
    "len(krotka), krotka[2], krotka[-2], krotka[1:5], krotka[::3]"
   ]
  },
  {
   "cell_type": "code",
   "execution_count": 47,
   "metadata": {},
   "outputs": [
    {
     "data": {
      "text/plain": [
       "(1, 2, 3, 4, 5, 6, 7, 8, 9, 10, 100, 200, 300)"
      ]
     },
     "execution_count": 47,
     "metadata": {},
     "output_type": "execute_result"
    }
   ],
   "source": [
    "krotka2 = krotka + (100, 200, 300)\n",
    "krotka2"
   ]
  },
  {
   "cell_type": "code",
   "execution_count": 48,
   "metadata": {},
   "outputs": [
    {
     "data": {
      "text/plain": [
       "(1, 2, 3, 3.1, 3.14, 3.141, 'ala', 'ma', 'kota', (100, 200, 300))"
      ]
     },
     "execution_count": 48,
     "metadata": {},
     "output_type": "execute_result"
    }
   ],
   "source": [
    "krotka3 = (1, 2, 3, 3.1, 3.14, 3.141, 'ala', 'ma', 'kota', (100, 200, 300))\n",
    "krotka3"
   ]
  },
  {
   "cell_type": "code",
   "execution_count": 68,
   "metadata": {},
   "outputs": [
    {
     "data": {
      "text/plain": [
       "(1000, 2000, 3000, 4000, 5000, 6000, 7000, 8000, 9000, 10000, 11000, 12000)"
      ]
     },
     "execution_count": 68,
     "metadata": {},
     "output_type": "execute_result"
    }
   ],
   "source": [
    "start = 1000\n",
    "stop = 12000\n",
    "\n",
    "nowa_krotka = ()\n",
    "\n",
    "i = start\n",
    "while i <= stop:\n",
    "    nowa_krotka += (i,)\n",
    "    i += 1000\n",
    "    \n",
    "nowa_krotka"
   ]
  },
  {
   "cell_type": "code",
   "execution_count": 53,
   "metadata": {},
   "outputs": [],
   "source": [
    "# (i,)"
   ]
  },
  {
   "cell_type": "code",
   "execution_count": 69,
   "metadata": {},
   "outputs": [
    {
     "data": {
      "text/plain": [
       "0"
      ]
     },
     "execution_count": 69,
     "metadata": {},
     "output_type": "execute_result"
    }
   ],
   "source": [
    "nowa_krotka.count(2)"
   ]
  },
  {
   "cell_type": "code",
   "execution_count": 70,
   "metadata": {},
   "outputs": [
    {
     "data": {
      "text/plain": [
       "1"
      ]
     },
     "execution_count": 70,
     "metadata": {},
     "output_type": "execute_result"
    }
   ],
   "source": [
    "nowa_krotka.count(2000)"
   ]
  },
  {
   "cell_type": "code",
   "execution_count": 71,
   "metadata": {},
   "outputs": [
    {
     "data": {
      "text/plain": [
       "1"
      ]
     },
     "execution_count": 71,
     "metadata": {},
     "output_type": "execute_result"
    }
   ],
   "source": [
    "nowa_krotka.index(2000)"
   ]
  },
  {
   "cell_type": "code",
   "execution_count": 72,
   "metadata": {},
   "outputs": [
    {
     "data": {
      "text/plain": [
       "1"
      ]
     },
     "execution_count": 72,
     "metadata": {},
     "output_type": "execute_result"
    }
   ],
   "source": [
    "krotka6 = (1, 2, 1, 2, 1)\n",
    "krotka6.index(2)"
   ]
  },
  {
   "cell_type": "code",
   "execution_count": 73,
   "metadata": {},
   "outputs": [
    {
     "data": {
      "text/plain": [
       "'To jest napis'"
      ]
     },
     "execution_count": 73,
     "metadata": {},
     "output_type": "execute_result"
    }
   ],
   "source": [
    "napis"
   ]
  },
  {
   "cell_type": "code",
   "execution_count": 74,
   "metadata": {},
   "outputs": [
    {
     "ename": "TypeError",
     "evalue": "'str' object does not support item assignment",
     "output_type": "error",
     "traceback": [
      "\u001b[0;31m---------------------------------------------------------------------------\u001b[0m",
      "\u001b[0;31mTypeError\u001b[0m                                 Traceback (most recent call last)",
      "\u001b[0;32m<ipython-input-74-016172fdc130>\u001b[0m in \u001b[0;36m<module>\u001b[0;34m\u001b[0m\n\u001b[0;32m----> 1\u001b[0;31m \u001b[0mnapis\u001b[0m\u001b[0;34m[\u001b[0m\u001b[0;36m1\u001b[0m\u001b[0;34m]\u001b[0m \u001b[0;34m=\u001b[0m \u001b[0;34m'a'\u001b[0m\u001b[0;34m\u001b[0m\u001b[0;34m\u001b[0m\u001b[0m\n\u001b[0m",
      "\u001b[0;31mTypeError\u001b[0m: 'str' object does not support item assignment"
     ]
    }
   ],
   "source": [
    "napis[1] = 'a'"
   ]
  },
  {
   "cell_type": "code",
   "execution_count": 75,
   "metadata": {},
   "outputs": [
    {
     "data": {
      "text/plain": [
       "(1, 2, 3, 4, 5, 6, 7, 8, 9, 10)"
      ]
     },
     "execution_count": 75,
     "metadata": {},
     "output_type": "execute_result"
    }
   ],
   "source": [
    "krotka"
   ]
  },
  {
   "cell_type": "code",
   "execution_count": 76,
   "metadata": {},
   "outputs": [
    {
     "ename": "TypeError",
     "evalue": "'tuple' object does not support item assignment",
     "output_type": "error",
     "traceback": [
      "\u001b[0;31m---------------------------------------------------------------------------\u001b[0m",
      "\u001b[0;31mTypeError\u001b[0m                                 Traceback (most recent call last)",
      "\u001b[0;32m<ipython-input-76-ff75356830da>\u001b[0m in \u001b[0;36m<module>\u001b[0;34m\u001b[0m\n\u001b[0;32m----> 1\u001b[0;31m \u001b[0mkrotka\u001b[0m\u001b[0;34m[\u001b[0m\u001b[0;36m4\u001b[0m\u001b[0;34m]\u001b[0m \u001b[0;34m=\u001b[0m \u001b[0;36m55\u001b[0m\u001b[0;34m\u001b[0m\u001b[0;34m\u001b[0m\u001b[0m\n\u001b[0m",
      "\u001b[0;31mTypeError\u001b[0m: 'tuple' object does not support item assignment"
     ]
    }
   ],
   "source": [
    "krotka[4] = 55"
   ]
  },
  {
   "cell_type": "code",
   "execution_count": null,
   "metadata": {},
   "outputs": [],
   "source": []
  },
  {
   "cell_type": "markdown",
   "metadata": {},
   "source": [
    "## List (listy)"
   ]
  },
  {
   "cell_type": "code",
   "execution_count": 77,
   "metadata": {},
   "outputs": [
    {
     "data": {
      "text/plain": [
       "[10, 20, 30, 40, 50, 60, 70, 80, 90, 100]"
      ]
     },
     "execution_count": 77,
     "metadata": {},
     "output_type": "execute_result"
    }
   ],
   "source": [
    "lista = [10, 20, 30, 40, 50, 60, 70, 80, 90, 100]\n",
    "lista"
   ]
  },
  {
   "cell_type": "code",
   "execution_count": 78,
   "metadata": {},
   "outputs": [
    {
     "data": {
      "text/plain": [
       "(10, 30, 90, [20, 30, 40, 50], [10, 40, 70, 100])"
      ]
     },
     "execution_count": 78,
     "metadata": {},
     "output_type": "execute_result"
    }
   ],
   "source": [
    "len(lista), lista[2], lista[-2], lista[1:5], lista[::3]"
   ]
  },
  {
   "cell_type": "code",
   "execution_count": 79,
   "metadata": {},
   "outputs": [
    {
     "data": {
      "text/plain": [
       "[1000, 2000, 3000, 4000, 5000, 6000, 7000, 8000, 9000, 10000, 11000, 12000]"
      ]
     },
     "execution_count": 79,
     "metadata": {},
     "output_type": "execute_result"
    }
   ],
   "source": [
    "start = 1000\n",
    "stop = 12000\n",
    "\n",
    "nowa_lista = []\n",
    "\n",
    "i = start\n",
    "while i <= stop:\n",
    "    nowa_lista += [i]\n",
    "    i += 1000\n",
    "    \n",
    "nowa_lista"
   ]
  },
  {
   "cell_type": "code",
   "execution_count": 80,
   "metadata": {},
   "outputs": [],
   "source": [
    "lista.append(200)"
   ]
  },
  {
   "cell_type": "code",
   "execution_count": 81,
   "metadata": {},
   "outputs": [
    {
     "data": {
      "text/plain": [
       "[10, 20, 30, 40, 50, 60, 70, 80, 90, 100, 200]"
      ]
     },
     "execution_count": 81,
     "metadata": {},
     "output_type": "execute_result"
    }
   ],
   "source": [
    "lista"
   ]
  },
  {
   "cell_type": "code",
   "execution_count": 82,
   "metadata": {},
   "outputs": [],
   "source": [
    "lista.append(300)"
   ]
  },
  {
   "cell_type": "code",
   "execution_count": 83,
   "metadata": {},
   "outputs": [
    {
     "data": {
      "text/plain": [
       "[10, 20, 30, 40, 50, 60, 70, 80, 90, 100, 200, 300]"
      ]
     },
     "execution_count": 83,
     "metadata": {},
     "output_type": "execute_result"
    }
   ],
   "source": [
    "lista"
   ]
  },
  {
   "cell_type": "code",
   "execution_count": 84,
   "metadata": {},
   "outputs": [
    {
     "data": {
      "text/plain": [
       "300"
      ]
     },
     "execution_count": 84,
     "metadata": {},
     "output_type": "execute_result"
    }
   ],
   "source": [
    "lista.pop()"
   ]
  },
  {
   "cell_type": "code",
   "execution_count": 85,
   "metadata": {},
   "outputs": [
    {
     "data": {
      "text/plain": [
       "[10, 20, 30, 40, 50, 60, 70, 80, 90, 100, 200]"
      ]
     },
     "execution_count": 85,
     "metadata": {},
     "output_type": "execute_result"
    }
   ],
   "source": [
    "lista"
   ]
  },
  {
   "cell_type": "code",
   "execution_count": 86,
   "metadata": {},
   "outputs": [
    {
     "data": {
      "text/plain": [
       "[10, 20, 30, 40, 55, 60, 70, 80, 90, 100, 200]"
      ]
     },
     "execution_count": 86,
     "metadata": {},
     "output_type": "execute_result"
    }
   ],
   "source": [
    "# 50 <-- 55\n",
    "lista[4] = 55\n",
    "lista"
   ]
  },
  {
   "cell_type": "code",
   "execution_count": 88,
   "metadata": {},
   "outputs": [
    {
     "data": {
      "text/plain": [
       "755"
      ]
     },
     "execution_count": 88,
     "metadata": {},
     "output_type": "execute_result"
    }
   ],
   "source": [
    "start = 0\n",
    "stop = len(lista)\n",
    "\n",
    "suma = 0\n",
    "\n",
    "i = start\n",
    "while i < stop:\n",
    "    suma += lista[i]\n",
    "    i += 1\n",
    "    \n",
    "suma"
   ]
  },
  {
   "cell_type": "code",
   "execution_count": 89,
   "metadata": {},
   "outputs": [
    {
     "data": {
      "text/plain": [
       "755"
      ]
     },
     "execution_count": 89,
     "metadata": {},
     "output_type": "execute_result"
    }
   ],
   "source": [
    "sum(lista)"
   ]
  },
  {
   "cell_type": "code",
   "execution_count": 91,
   "metadata": {},
   "outputs": [
    {
     "data": {
      "text/plain": [
       "55"
      ]
     },
     "execution_count": 91,
     "metadata": {},
     "output_type": "execute_result"
    }
   ],
   "source": [
    "sum(krotka)"
   ]
  },
  {
   "cell_type": "markdown",
   "metadata": {},
   "source": [
    "# Pętla `for`\n",
    "\n",
    "\n",
    "```\n",
    "for zmienna in sekwencja:\n",
    "    BLOK\n",
    "```"
   ]
  },
  {
   "cell_type": "code",
   "execution_count": 92,
   "metadata": {},
   "outputs": [
    {
     "name": "stdout",
     "output_type": "stream",
     "text": [
      "10\n",
      "20\n",
      "30\n",
      "40\n",
      "55\n",
      "60\n",
      "70\n",
      "80\n",
      "90\n",
      "100\n",
      "200\n"
     ]
    }
   ],
   "source": [
    "for element in lista:\n",
    "    print(element)"
   ]
  },
  {
   "cell_type": "code",
   "execution_count": 93,
   "metadata": {},
   "outputs": [
    {
     "data": {
      "text/plain": [
       "755"
      ]
     },
     "execution_count": 93,
     "metadata": {},
     "output_type": "execute_result"
    }
   ],
   "source": [
    "suma = 0\n",
    "for element in lista:\n",
    "    suma += element\n",
    "suma"
   ]
  },
  {
   "cell_type": "code",
   "execution_count": 94,
   "metadata": {},
   "outputs": [
    {
     "data": {
      "text/plain": [
       "55"
      ]
     },
     "execution_count": 94,
     "metadata": {},
     "output_type": "execute_result"
    }
   ],
   "source": [
    "suma = 0\n",
    "for element in krotka:\n",
    "    suma += element\n",
    "suma"
   ]
  },
  {
   "cell_type": "code",
   "execution_count": null,
   "metadata": {},
   "outputs": [],
   "source": []
  }
 ],
 "metadata": {
  "kernelspec": {
   "display_name": "Python 3",
   "language": "python",
   "name": "python3"
  },
  "language_info": {
   "codemirror_mode": {
    "name": "ipython",
    "version": 3
   },
   "file_extension": ".py",
   "mimetype": "text/x-python",
   "name": "python",
   "nbconvert_exporter": "python",
   "pygments_lexer": "ipython3",
   "version": "3.7.3"
  }
 },
 "nbformat": 4,
 "nbformat_minor": 2
}
