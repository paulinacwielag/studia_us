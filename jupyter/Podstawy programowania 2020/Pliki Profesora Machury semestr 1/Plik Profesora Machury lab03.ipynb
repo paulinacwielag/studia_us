{
 "cells": [
  {
   "cell_type": "markdown",
   "metadata": {},
   "source": [
    "### Zad1\n",
    "\n",
    "Dane są bok trójkąta (3) i wyskość na niego opuszczona (2). Oblicz pole trójkąta.\n",
    "\n",
    "$$p = \\frac{1}{2} a  h $$"
   ]
  },
  {
   "cell_type": "code",
   "execution_count": 1,
   "metadata": {},
   "outputs": [
    {
     "data": {
      "text/plain": [
       "3.0"
      ]
     },
     "execution_count": 1,
     "metadata": {},
     "output_type": "execute_result"
    }
   ],
   "source": [
    "1 / 2 * 3 * 2"
   ]
  },
  {
   "cell_type": "code",
   "execution_count": 10,
   "metadata": {},
   "outputs": [
    {
     "name": "stdout",
     "output_type": "stream",
     "text": [
      "3.0\n"
     ]
    }
   ],
   "source": [
    "a = 3  # zmienna, nazwa (a), wartość - literał (3), typ (int, integer, całkowity)\n",
    "h = 2\n",
    "\n",
    "p = 1 / 2 * a * h\n",
    "print(p)"
   ]
  },
  {
   "cell_type": "markdown",
   "metadata": {},
   "source": [
    "### Zad2\n",
    "Dane są boki prostokąta (3, 8). Oblicz pole i obwód tego prostokąta."
   ]
  },
  {
   "cell_type": "code",
   "execution_count": 13,
   "metadata": {},
   "outputs": [
    {
     "name": "stdout",
     "output_type": "stream",
     "text": [
      "22 24\n"
     ]
    }
   ],
   "source": [
    "bok_a = 3\n",
    "bok_b = 8\n",
    "pole_prostokata = bok_a * bok_b\n",
    "obwod_prostokata = 2 * (bok_a + bok_b)\n",
    "\n",
    "print(obwod_prostokata, pole_prostokata)"
   ]
  },
  {
   "cell_type": "code",
   "execution_count": 19,
   "metadata": {},
   "outputs": [
    {
     "name": "stdout",
     "output_type": "stream",
     "text": [
      "24 22\n"
     ]
    }
   ],
   "source": [
    "# TAK NIE MOZNA PROGRAMOWAC!!!\n",
    "\n",
    "a = 3  # dlugosc boku a\n",
    "b = 8  # dlugosc boku b\n",
    "c = a * b  # pole prostakata\n",
    "d = 2 * (a + b)  # obwod prostakata\n",
    "print(c, d)\n",
    "\n",
    "x, y = 3, 4\n",
    "z = x * y\n",
    "w = 2 * (x + y)"
   ]
  },
  {
   "cell_type": "markdown",
   "metadata": {},
   "source": [
    "### Zad 3\n",
    "\n",
    "Oblicz pole i obwód koła o promieniu 5.31415"
   ]
  },
  {
   "cell_type": "code",
   "execution_count": 17,
   "metadata": {},
   "outputs": [
    {
     "name": "stdout",
     "output_type": "stream",
     "text": [
      "33.3897892001484 88.7191741389843\n"
     ]
    }
   ],
   "source": [
    "from math import pi\n",
    "\n",
    "r = 5.31415\n",
    "obwod_kola = 2 * pi * r\n",
    "pole_kola = pi * r ** 2\n",
    "\n",
    "print(obwod_kola, pole_kola)"
   ]
  },
  {
   "cell_type": "code",
   "execution_count": null,
   "metadata": {},
   "outputs": [],
   "source": [
    "# Pole kola o promieniu 5.31415 wynosi 33.39, a obwod wynosi 88.72"
   ]
  },
  {
   "cell_type": "code",
   "execution_count": 27,
   "metadata": {},
   "outputs": [],
   "source": [
    "# string, str, ciąg znaków\n",
    "zdanie = \"Ala ma kota\""
   ]
  },
  {
   "cell_type": "code",
   "execution_count": 28,
   "metadata": {},
   "outputs": [],
   "source": [
    "inne_zdanie = 'Ala ma psa'"
   ]
  },
  {
   "cell_type": "code",
   "execution_count": 26,
   "metadata": {},
   "outputs": [],
   "source": [
    "# źle\n",
    "# \"Ala ma konia'"
   ]
  },
  {
   "cell_type": "code",
   "execution_count": 29,
   "metadata": {},
   "outputs": [
    {
     "name": "stdout",
     "output_type": "stream",
     "text": [
      "Ala ma kota\n"
     ]
    }
   ],
   "source": [
    "print(zdanie)"
   ]
  },
  {
   "cell_type": "code",
   "execution_count": 32,
   "metadata": {},
   "outputs": [
    {
     "data": {
      "text/plain": [
       "'Ala ma kota Ala ma psa'"
      ]
     },
     "execution_count": 32,
     "metadata": {},
     "output_type": "execute_result"
    }
   ],
   "source": [
    "# konkatenacja\n",
    "zdanie + \" \" + inne_zdanie"
   ]
  },
  {
   "cell_type": "code",
   "execution_count": 33,
   "metadata": {},
   "outputs": [
    {
     "data": {
      "text/plain": [
       "9"
      ]
     },
     "execution_count": 33,
     "metadata": {},
     "output_type": "execute_result"
    }
   ],
   "source": [
    "2 + 3 + 4"
   ]
  },
  {
   "cell_type": "code",
   "execution_count": 43,
   "metadata": {},
   "outputs": [
    {
     "data": {
      "text/plain": [
       "'Ala ma kota Ala ma kota Ala ma kota '"
      ]
     },
     "execution_count": 43,
     "metadata": {},
     "output_type": "execute_result"
    }
   ],
   "source": [
    "zdanie = \"Ala ma kota\"\n",
    "(zdanie + ' ') * 3"
   ]
  },
  {
   "cell_type": "code",
   "execution_count": 46,
   "metadata": {},
   "outputs": [
    {
     "data": {
      "text/plain": [
       "'Ala ma kota Ala ma kota Ala ma kota '"
      ]
     },
     "execution_count": 46,
     "metadata": {},
     "output_type": "execute_result"
    }
   ],
   "source": [
    "zdanie = \"Ala ma kota\"\n",
    "\n",
    "zdanie = zdanie + ' '\n",
    "zdanie * 3"
   ]
  },
  {
   "cell_type": "code",
   "execution_count": 47,
   "metadata": {},
   "outputs": [
    {
     "name": "stdout",
     "output_type": "stream",
     "text": [
      "8\n"
     ]
    }
   ],
   "source": [
    "x = 7\n",
    "x = x + 1\n",
    "print(x)"
   ]
  },
  {
   "cell_type": "code",
   "execution_count": 48,
   "metadata": {},
   "outputs": [
    {
     "data": {
      "text/plain": [
       "'Ala ma kota Ala ma kota Ala ma kota '"
      ]
     },
     "execution_count": 48,
     "metadata": {},
     "output_type": "execute_result"
    }
   ],
   "source": [
    "zdanie = \"Ala ma kota\"\n",
    "\n",
    "zdanie += ' '  # zdanie = zdanie + ' '\n",
    "zdanie * 3"
   ]
  },
  {
   "cell_type": "code",
   "execution_count": 51,
   "metadata": {},
   "outputs": [
    {
     "name": "stdout",
     "output_type": "stream",
     "text": [
      "8\n",
      "16\n"
     ]
    }
   ],
   "source": [
    "x = 7\n",
    "x += 1\n",
    "print(x)\n",
    "\n",
    "x += 7 + 1\n",
    "print(x)"
   ]
  },
  {
   "cell_type": "code",
   "execution_count": 60,
   "metadata": {},
   "outputs": [
    {
     "data": {
      "text/plain": [
       "10"
      ]
     },
     "execution_count": 60,
     "metadata": {},
     "output_type": "execute_result"
    }
   ],
   "source": [
    "# x++\n",
    "x -= 1\n",
    "x"
   ]
  },
  {
   "cell_type": "code",
   "execution_count": 62,
   "metadata": {},
   "outputs": [],
   "source": [
    "# nie da sie dla typu string\n",
    "# zdanie -= 'ssssss'"
   ]
  },
  {
   "cell_type": "code",
   "execution_count": null,
   "metadata": {},
   "outputs": [],
   "source": []
  },
  {
   "cell_type": "code",
   "execution_count": 83,
   "metadata": {},
   "outputs": [
    {
     "name": "stdout",
     "output_type": "stream",
     "text": [
      "Pole kola o promieniu 123.321 wynosi 47777.55797449197 a jego obwod wynosi 774.8486952666938\n",
      "Pole kola o promieniu 123.321 wynosi 47777.55797449197 a jego obwod wynosi 774.8486952666938\n",
      "Pole kola o promieniu 123.321 wynosi 47777.55797449197 a jego obwod wynosi 774.8486952666938\n",
      "Pole kola o promieniu 123.321 wynosi 47777.55797449197 a jego obwod wynosi 774.8486952666938\n",
      "Pole kola o promieniu 123.321 wynosi 47777.55797449197 a jego obwod wynosi 774.848695\n"
     ]
    }
   ],
   "source": [
    "r = 123.321\n",
    "obwod_kola = 2 * pi * r\n",
    "pole_kola = pi * r ** 2\n",
    "\n",
    "# 1\n",
    "print(\"Pole kola o promieniu\", r, \"wynosi\", pole_kola, \"a jego obwod wynosi\", obwod_kola)\n",
    "\n",
    "# 2\n",
    "print(\"Pole kola o promieniu\" + \" \" + str(r) + \" \" + \"wynosi \" + str(pole_kola) + \" a jego obwod wynosi \" + str(obwod_kola))\n",
    "\n",
    "# 3 - f-stringi\n",
    "print(f\"Pole kola o promieniu {r} wynosi {pole_kola} a jego obwod wynosi {obwod_kola}\")\n",
    "\n",
    "# 4 - typowy zapis w JP (format)\n",
    "print(\"Pole kola o promieniu {} wynosi {} a jego obwod wynosi {}\".format(r, pole_kola, obwod_kola))\n",
    "\n",
    "# 5 - zapis po języku C\n",
    "print(\"Pole kola o promieniu %.3f wynosi %.11f a jego obwod wynosi %f\" % (r, pole_kola, obwod_kola))"
   ]
  },
  {
   "cell_type": "code",
   "execution_count": 88,
   "metadata": {},
   "outputs": [
    {
     "data": {
      "text/plain": [
       "'3.1415926535897931159979634685441851615905761718750000000000000000000000000000000000000000000000000000000'"
      ]
     },
     "execution_count": 88,
     "metadata": {},
     "output_type": "execute_result"
    }
   ],
   "source": [
    "\"{:.103f}\".format(pi)"
   ]
  },
  {
   "cell_type": "code",
   "execution_count": null,
   "metadata": {},
   "outputs": [],
   "source": []
  }
 ],
 "metadata": {
  "kernelspec": {
   "display_name": "Python 3",
   "language": "python",
   "name": "python3"
  },
  "language_info": {
   "codemirror_mode": {
    "name": "ipython",
    "version": 3
   },
   "file_extension": ".py",
   "mimetype": "text/x-python",
   "name": "python",
   "nbconvert_exporter": "python",
   "pygments_lexer": "ipython3",
   "version": "3.7.3"
  }
 },
 "nbformat": 4,
 "nbformat_minor": 2
}
