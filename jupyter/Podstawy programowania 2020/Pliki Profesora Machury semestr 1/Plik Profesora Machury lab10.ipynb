{
 "cells": [
  {
   "cell_type": "markdown",
   "metadata": {},
   "source": [
    "# Lab 10 wyrażenia listowe, słownikowe i dla zbiorów\n",
    "\n",
    "Składać listy w pętlach w jP można na kilka sposobów: za pomocą konkatenacji `L1 + L2`, metod przynależnych do list `L.append(element), L.insert(indeks, element), L.extend(L2)`. Można też wykorzystać tzw: wyrażenia listowe\n",
    "\n",
    "```\n",
    "[f(el) for el in sekwencja]\n",
    "```\n",
    "\n",
    "Za pomocą wyrażenia warunkowego `if` możemy przefiltrować elememnty sekwencji bazowej w czasie tworzenia listy.\n",
    "\n",
    "```\n",
    "[f(el) for el in sekwencja if g(el)]\n",
    "```\n",
    "\n",
    "Jeżeli `g(el)` rozwiąże się do prawdy `True` to dany element doda się do listy, w przeciwnym wypadku nie doda się."
   ]
  },
  {
   "cell_type": "code",
   "execution_count": 1,
   "metadata": {},
   "outputs": [],
   "source": [
    "# start 8:05"
   ]
  },
  {
   "cell_type": "code",
   "execution_count": 2,
   "metadata": {},
   "outputs": [
    {
     "data": {
      "text/plain": [
       "[0, 1, 4, 9, 16, 25, 36, 49, 64, 81]"
      ]
     },
     "execution_count": 2,
     "metadata": {},
     "output_type": "execute_result"
    }
   ],
   "source": [
    "[liczba ** 2 for liczba in range(10)]"
   ]
  },
  {
   "cell_type": "code",
   "execution_count": 4,
   "metadata": {},
   "outputs": [
    {
     "data": {
      "text/plain": [
       "[(0, 0, 0),\n",
       " (1, 1, 1),\n",
       " (2, 4, 8),\n",
       " (3, 9, 27),\n",
       " (4, 16, 64),\n",
       " (5, 25, 125),\n",
       " (6, 36, 216),\n",
       " (7, 49, 343),\n",
       " (8, 64, 512),\n",
       " (9, 81, 729)]"
      ]
     },
     "execution_count": 4,
     "metadata": {},
     "output_type": "execute_result"
    }
   ],
   "source": [
    "[(liczba, liczba ** 2,  liczba ** 3) for liczba in range(10)]"
   ]
  },
  {
   "cell_type": "code",
   "execution_count": 11,
   "metadata": {},
   "outputs": [
    {
     "data": {
      "text/plain": [
       "[[1, 1, 1, 1, 1, 1],\n",
       " [2, 4, 8, 16, 32, 64],\n",
       " [3, 9, 27, 81, 243, 729],\n",
       " [4, 16, 64, 256, 1024, 4096],\n",
       " [5, 25, 125, 625, 3125, 15625],\n",
       " [6, 36, 216, 1296, 7776, 46656],\n",
       " [7, 49, 343, 2401, 16807, 117649],\n",
       " [8, 64, 512, 4096, 32768, 262144],\n",
       " [9, 81, 729, 6561, 59049, 531441],\n",
       " [10, 100, 1000, 10000, 100000, 1000000]]"
      ]
     },
     "execution_count": 11,
     "metadata": {},
     "output_type": "execute_result"
    }
   ],
   "source": [
    "od, do = 1, 10\n",
    "M = 6\n",
    "listy_poteg = [[liczba ** potega for potega in range(1, M + 1)] for liczba in range(od, do + 1)]\n",
    "listy_poteg"
   ]
  },
  {
   "cell_type": "markdown",
   "metadata": {},
   "source": [
    "### Problem: lista liczb parzystych od 1 do 100"
   ]
  },
  {
   "cell_type": "code",
   "execution_count": 12,
   "metadata": {},
   "outputs": [
    {
     "name": "stdout",
     "output_type": "stream",
     "text": [
      "[2, 4, 6, 8, 10, 12, 14, 16, 18, 20, 22, 24, 26, 28, 30, 32, 34, 36, 38, 40, 42, 44, 46, 48, 50, 52, 54, 56, 58, 60, 62, 64, 66, 68, 70, 72, 74, 76, 78, 80, 82, 84, 86, 88, 90, 92, 94, 96, 98, 100]\n"
     ]
    }
   ],
   "source": [
    "llp = []\n",
    "i = 1\n",
    "while i <= 100:\n",
    "    if i % 2 == 0:\n",
    "        llp.append(i)\n",
    "    i += 1\n",
    "print(llp)"
   ]
  },
  {
   "cell_type": "code",
   "execution_count": 16,
   "metadata": {},
   "outputs": [
    {
     "name": "stdout",
     "output_type": "stream",
     "text": [
      "[2, 4, 6, 8, 10, 12, 14, 16, 18, 20, 22, 24, 26, 28, 30, 32, 34, 36, 38, 40, 42, 44, 46, 48, 50, 52, 54, 56, 58, 60, 62, 64, 66, 68, 70, 72, 74, 76, 78, 80, 82, 84, 86, 88, 90, 92, 94, 96, 98, 100]\n"
     ]
    }
   ],
   "source": [
    "llp2 = []\n",
    "for j in range(1, 100 + 1):\n",
    "    if j % 2 == 0:\n",
    "        llp2.extend([j])\n",
    "print(llp2)"
   ]
  },
  {
   "cell_type": "code",
   "execution_count": 15,
   "metadata": {},
   "outputs": [
    {
     "name": "stdout",
     "output_type": "stream",
     "text": [
      "[2, 4, 6, 8, 10, 12, 14, 16, 18, 20, 22, 24, 26, 28, 30, 32, 34, 36, 38, 40, 42, 44, 46, 48, 50, 52, 54, 56, 58, 60, 62, 64, 66, 68, 70, 72, 74, 76, 78, 80, 82, 84, 86, 88, 90, 92, 94, 96, 98, 100]\n"
     ]
    }
   ],
   "source": [
    "llp3 = [k for k in range(1, 101) if k % 2 == 0]\n",
    "print(llp3)"
   ]
  },
  {
   "cell_type": "markdown",
   "metadata": {},
   "source": [
    "### Zadanie 1\n",
    "Stwórz listę liczb od 1, do 200 podzielnych przez \n",
    "Paulina - 3\n",
    "Weronika - 4\n",
    "Marcin - 5\n",
    "Igor - 7\n",
    "Bartosz - 9"
   ]
  },
  {
   "cell_type": "code",
   "execution_count": 18,
   "metadata": {},
   "outputs": [
    {
     "name": "stdout",
     "output_type": "stream",
     "text": [
      "[3, 6, 9, 12, 15, 18, 21, 24, 27, 30, 33, 36, 39, 42, 45, 48, 51, 54, 57, 60, 63, 66, 69, 72, 75, 78, 81, 84, 87, 90, 93, 96, 99, 102, 105, 108, 111, 114, 117, 120, 123, 126, 129, 132, 135, 138, 141, 144, 147, 150, 153, 156, 159, 162, 165, 168, 171, 174, 177, 180, 183, 186, 189, 192, 195, 198]\n",
      "[4, 8, 12, 16, 20, 24, 28, 32, 36, 40, 44, 48, 52, 56, 60, 64, 68, 72, 76, 80, 84, 88, 92, 96, 100, 104, 108, 112, 116, 120, 124, 128, 132, 136, 140, 144, 148, 152, 156, 160, 164, 168, 172, 176, 180, 184, 188, 192, 196, 200]\n",
      "[5, 10, 15, 20, 25, 30, 35, 40, 45, 50, 55, 60, 65, 70, 75, 80, 85, 90, 95, 100, 105, 110, 115, 120, 125, 130, 135, 140, 145, 150, 155, 160, 165, 170, 175, 180, 185, 190, 195, 200]\n",
      "[7, 14, 21, 28, 35, 42, 49, 56, 63, 70, 77, 84, 91, 98, 105, 112, 119, 126, 133, 140, 147, 154, 161, 168, 175, 182, 189, 196]\n",
      "[9, 18, 27, 36, 45, 54, 63, 72, 81, 90, 99, 108, 117, 126, 135, 144, 153, 162, 171, 180, 189, 198]\n"
     ]
    }
   ],
   "source": [
    "podzielne_przez_4 = [liczba for liczba in range(1, 201) if liczba % 4 == 0]\n",
    "podzielne_przez_9 = [liczba for liczba in range(1, 201) if liczba % 9 == 0]\n",
    "podzielne_przez_3 = [liczba for liczba in range (1, 200 + 1) if liczba % 3 == 0]\n",
    "podzielne_przez_7 = [liczba for liczba in range(1,201) if liczba % 7 == 0]\n",
    "podzielne_przez_5 = [k for k in range(1, 201) if k % 5 == 0]\n",
    "\n",
    "for lista in [podzielne_przez_3, podzielne_przez_4, podzielne_przez_5, podzielne_przez_7, podzielne_przez_9]:\n",
    "    print(lista)"
   ]
  },
  {
   "cell_type": "code",
   "execution_count": null,
   "metadata": {},
   "outputs": [],
   "source": []
  },
  {
   "cell_type": "code",
   "execution_count": 27,
   "metadata": {},
   "outputs": [
    {
     "name": "stdout",
     "output_type": "stream",
     "text": [
      "[14, 28, 42, 56, 70, 84, 98]\n",
      "[14, 28, 42, 56, 70, 84, 98]\n",
      "[14, 28, 42, 56, 70, 84, 98]\n"
     ]
    }
   ],
   "source": [
    "# znajdz liczby parzyste i podzielne przez 7 w przedziale [1, 100]\n",
    "# (a)\n",
    "llp27 = []\n",
    "for j in range(1, 100 + 1):\n",
    "    if (j % 2 == 0) and (j % 7 == 0):\n",
    "        llp27.extend([j])\n",
    "print(llp27)\n",
    "\n",
    "# (b)\n",
    "llp27 = []\n",
    "for j in range(1, 100 + 1):\n",
    "    if j % 14 == 0:\n",
    "        llp27.extend([j])\n",
    "print(llp27)\n",
    "\n",
    "# (c)\n",
    "llp27 = []\n",
    "for j in range(1, 100 + 1): \n",
    "    if j % 2 == 0: \n",
    "        if j % 7 == 0:\n",
    "            llp27.append(j)\n",
    "print(llp27)"
   ]
  },
  {
   "cell_type": "code",
   "execution_count": 29,
   "metadata": {},
   "outputs": [
    {
     "name": "stdout",
     "output_type": "stream",
     "text": [
      "[14, 28, 42, 56, 70, 84, 98]\n",
      "[14, 28, 42, 56, 70, 84, 98]\n"
     ]
    }
   ],
   "source": [
    "llp27_w = [j for j in range(1, 101) if j % 2 == 0 and j % 7 == 0]\n",
    "print(llp27_w)\n",
    "\n",
    "llp27_w = [j for j in range(1, 101) if j % 2 == 0 if j % 7 == 0]\n",
    "print(llp27_w)"
   ]
  },
  {
   "cell_type": "markdown",
   "metadata": {},
   "source": [
    "### Zadanie L09.2\n",
    "Za pomocą wyrażeń listowych oblicz\n",
    "\n",
    "1. ilość liczb od 1000 do 9999, które mają '1' na 11 najmłodszym bicie w rozwinięciu dwójkowym\n",
    "3. sumę liczb od -10000 do -1, które mają 'a' w rozwinięciu szesnastkowym\n",
    "4. ilość liczb od -10000 do 10000, które mają 'a' lub 'b' lub 'c' w rozwinięciu szesnastkowym\n",
    "5. sumę liczb od 1 do 999, które mają 'd' i 'f' w rozwinięciu szesnastkowym\n",
    "6. ilość liczb od 1000000 do 1999999 które mają 7 lub 1 w rozwinięciu ósemkowym\n",
    "\n",
    "Paulina - 1\n",
    "Weronika - 2\n",
    "Marcin - 3\n",
    "Igor - 4\n",
    "Bartosz - 5"
   ]
  },
  {
   "cell_type": "code",
   "execution_count": 64,
   "metadata": {},
   "outputs": [
    {
     "name": "stdout",
     "output_type": "stream",
     "text": [
      "856360 856360\n"
     ]
    }
   ],
   "source": [
    "# 5\n",
    "l71wro_1 = [el for el in range(1000000, 2000000) if oct(el).count('7') or oct(el).count('1')]\n",
    "l71wro_2 = [el for el in range(1000000, 2000000) if '7' in oct(el) or '1' in oct(el)]\n",
    "print(len(l71wro_1), len(l71wro_2))"
   ]
  },
  {
   "cell_type": "code",
   "execution_count": 38,
   "metadata": {},
   "outputs": [
    {
     "name": "stdout",
     "output_type": "stream",
     "text": [
      "200 0o310\n",
      "201 0o311\n",
      "202 0o312\n",
      "203 0o313\n",
      "204 0o314\n",
      "205 0o315\n",
      "206 0o316\n",
      "207 0o317\n",
      "209 0o321\n",
      "215 0o327\n",
      "217 0o331\n"
     ]
    }
   ],
   "source": [
    "for k in range(200, 220): \n",
    "    if ('7' in str(oct(k))) or ('1' in str(oct(k))):\n",
    "        print(k, oct(k))"
   ]
  },
  {
   "cell_type": "code",
   "execution_count": 51,
   "metadata": {},
   "outputs": [
    {
     "name": "stdout",
     "output_type": "stream",
     "text": [
      "116876\n"
     ]
    }
   ],
   "source": [
    "# 4\n",
    "suma_d_f = sum([(liczba) for liczba in range(1,1000) if hex(liczba).count(\"d\") or hex(liczba).count(\"f\")])\n",
    "print(suma_d_f)"
   ]
  },
  {
   "cell_type": "code",
   "execution_count": null,
   "metadata": {},
   "outputs": [],
   "source": [
    "# if True <==> if (nie 0)\n",
    "# if False <==> if 0"
   ]
  },
  {
   "cell_type": "code",
   "execution_count": 66,
   "metadata": {},
   "outputs": [
    {
     "name": "stdout",
     "output_type": "stream",
     "text": [
      "8820\n"
     ]
    }
   ],
   "source": [
    "# 3\n",
    "lista = [liczba for liczba in range(-10000, 10000) \n",
    "         if ('a' in hex(liczba)) or ('b') in hex(liczba) or 'c' in hex(liczba)]\n",
    "print(len(lista))"
   ]
  },
  {
   "cell_type": "code",
   "execution_count": 53,
   "metadata": {},
   "outputs": [
    {
     "name": "stdout",
     "output_type": "stream",
     "text": [
      "-8199280\n"
     ]
    }
   ],
   "source": [
    "# 2\n",
    "suma_liczb_hex_a = sum([i for i in range(-10000, 0) if hex(i).count(\"a\")])\n",
    "print(suma_liczb_hex_a)"
   ]
  },
  {
   "cell_type": "code",
   "execution_count": 60,
   "metadata": {},
   "outputs": [
    {
     "name": "stdout",
     "output_type": "stream",
     "text": [
      "4880\n"
     ]
    }
   ],
   "source": [
    "# 1\n",
    "ilosc_liczb = [liczba for liczba in range (1000, 9999 + 1) if bin(liczba)[-11] == '1']\n",
    "print(len(ilosc_liczb))"
   ]
  },
  {
   "cell_type": "code",
   "execution_count": 71,
   "metadata": {},
   "outputs": [],
   "source": [
    "# len(bin(9999)) - 2, bin(9999)"
   ]
  },
  {
   "cell_type": "code",
   "execution_count": 74,
   "metadata": {},
   "outputs": [
    {
     "name": "stdout",
     "output_type": "stream",
     "text": [
      "Suma L2 jest większe\n"
     ]
    }
   ],
   "source": [
    "L1 = [1, 2, 3]\n",
    "L2 = [3, 3, 1]\n",
    "\n",
    "print(f\"Suma L1 jest większe\" if sum(L1) > sum(L2) else (f\"Suma L2 jest większe\" if sum(L1) < sum(L2) else f\"Sumy są równe\"))"
   ]
  },
  {
   "cell_type": "code",
   "execution_count": 73,
   "metadata": {},
   "outputs": [],
   "source": [
    "# A if warunek else C"
   ]
  },
  {
   "cell_type": "code",
   "execution_count": 75,
   "metadata": {},
   "outputs": [],
   "source": [
    "# [f(el) for el in sekwencja if g(el)]"
   ]
  },
  {
   "cell_type": "markdown",
   "metadata": {},
   "source": [
    "## wyrażenia słownikowe\n",
    "\n",
    "```\n",
    "{k: v for k, v in sekwencja}\n",
    "```"
   ]
  },
  {
   "cell_type": "code",
   "execution_count": 77,
   "metadata": {},
   "outputs": [
    {
     "data": {
      "text/plain": [
       "{0: 0, 1: 1, 2: 4, 3: 9, 4: 16, 5: 25, 6: 36, 7: 49, 8: 64, 9: 81}"
      ]
     },
     "execution_count": 77,
     "metadata": {},
     "output_type": "execute_result"
    }
   ],
   "source": [
    "ws = {i: i ** 2 for i in range(10)}\n",
    "ws"
   ]
  },
  {
   "cell_type": "code",
   "execution_count": 80,
   "metadata": {},
   "outputs": [
    {
     "name": "stdout",
     "output_type": "stream",
     "text": [
      "[(0, 0), (1, 1), (2, 4), (3, 9), (4, 16), (5, 25), (6, 36), (7, 49), (8, 64), (9, 81)]\n",
      "{0: 0, 1: 1, 2: 4, 3: 9, 4: 16, 5: 25, 6: 36, 7: 49, 8: 64, 9: 81}\n"
     ]
    }
   ],
   "source": [
    "lk = [(i, i ** 2) for i in range(10)]\n",
    "wk = {k: w for k, w in lk}\n",
    "print(lk)\n",
    "print(wk)"
   ]
  },
  {
   "cell_type": "code",
   "execution_count": 81,
   "metadata": {},
   "outputs": [
    {
     "data": {
      "text/plain": [
       "{-1: {},\n",
       " -2: {1: -1},\n",
       " -3: {1: -2, 2: -1},\n",
       " -4: {1: -3, 2: -2, 3: -1},\n",
       " -5: {1: -4, 2: -3, 3: -2, 4: -1},\n",
       " -6: {1: -5, 2: -4, 3: -3, 4: -2, 5: -1},\n",
       " -7: {1: -6, 2: -5, 3: -4, 4: -3, 5: -2, 6: -1},\n",
       " -8: {1: -7, 2: -6, 3: -5, 4: -4, 5: -3, 6: -2, 7: -1},\n",
       " -9: {1: -8, 2: -7, 3: -6, 4: -5, 5: -4, 6: -3, 7: -2, 8: -1},\n",
       " -10: {1: -9, 2: -8, 3: -7, 4: -6, 5: -5, 6: -4, 7: -3, 8: -2, 9: -1}}"
      ]
     },
     "execution_count": 81,
     "metadata": {},
     "output_type": "execute_result"
    }
   ],
   "source": [
    "d1 = {j: \n",
    "        {i: i + j for i in range(1, 11) if i + j < 0} for j in range(-1, -11, -1) \n",
    "     }\n",
    "d1"
   ]
  },
  {
   "cell_type": "markdown",
   "metadata": {},
   "source": [
    "### Zadanie L10.3\n",
    "Stwórz słowniki\n",
    "\n",
    "1. listę pierwiastków 3 stopnia elementów `S`\n",
    "2. listę znaków ASCII po wcześniejszym dodaniu 100 do każdej wartości (`100 + 1`, `100 + 2`, ...) sekwencji `S`\n",
    "3. listę wartości funkcji $\\sin(\\pi * i / 10)$, dla `i` z sekwencji `S` (`from math import sin, pi`)\n",
    "4. listę kwadratów odwrotności elementów `S`\n",
    "5. listę kolejnych liczb parzystych większych od 1234567, odpowiadających elementom sekwencji `S` [pierwsza liczba parzysta większa od 1234567, druga liczba parzysta większa od 1234567...]\n",
    "```\n",
    "    [1234568, 1234570, 1234572, ...]\n",
    "```\n",
    "6. listę kolejnych liczb nieparzystych mniejszych od -98765, odpowiadających elementom sekwencji `S` [pierwsza liczba nieparzysta mniejsza od -98765, druga liczba nieparzysta mniejsza od -98765...]\n",
    "7. listę krotek liczb, ich kwadratów oraz sześcianów dla elementów `S`\n",
    "8. listę wartości funkcji $(1 - k) / (k + 1)$, dla `k` z sekwencji `S`\n",
    "9. listę reszt z dzielenia przez 5 elementów `S`\n",
    "10. listę wartości `True` lub `False` warunku sprawdzającego czy element `S` jest podzielny przez `3`\n",
    "11. listę krotek elementów sekwencji `S` oraz ich wartości ze znakiem przeciwnym \n",
    "12. listę krotek elementów sekwencji `S` oraz ich kwadratów i pierwiastków kwadratowych\n",
    "\n",
    "Paulina - 1 Weronika - 2 Marcin - 3 Igor - 4 Bartosz - 5"
   ]
  },
  {
   "cell_type": "code",
   "execution_count": 120,
   "metadata": {},
   "outputs": [],
   "source": [
    "S = list(range(1, 11))"
   ]
  },
  {
   "cell_type": "code",
   "execution_count": 122,
   "metadata": {},
   "outputs": [
    {
     "name": "stdout",
     "output_type": "stream",
     "text": [
      "1 {1: 1.0, 2: 1.2599210498948732, 3: 1.4422495703074083, 4: 1.5874010519681994, 5: 1.7099759466766968, 6: 1.8171205928321397, 7: 1.912931182772389, 8: 2.0, 9: 2.080083823051904, 10: 2.154434690031884}\n",
      "2 {1: 'e', 2: 'f', 3: 'g', 4: 'h', 5: 'i', 6: 'j', 7: 'k', 8: 'l', 9: 'm', 10: 'n'}\n",
      "3 {1: 0.3090169943749474, 2: 0.5877852522924731, 3: 0.8090169943749475, 4: 0.9510565162951535, 5: 1.0, 6: 0.9510565162951536, 7: 0.8090169943749475, 8: 0.5877852522924732, 9: 0.3090169943749475, 10: 1.2246467991473532e-16}\n",
      "4 {1: 1.0, 2: 0.25, 3: 0.1111111111111111, 4: 0.0625, 5: 0.04000000000000001, 6: 0.027777777777777776, 7: 0.02040816326530612, 8: 0.015625, 9: 0.012345679012345678, 10: 0.010000000000000002}\n",
      "5 {1: 1234568, 2: 1234570, 3: 1234572, 4: 1234574, 5: 1234576, 6: 1234578, 7: 1234580, 8: 1234582, 9: 1234584, 10: 1234586}\n"
     ]
    }
   ],
   "source": [
    "# 1\n",
    "pierwiastki_3_stopnia = {liczba: liczba ** (1/3) for liczba in S}\n",
    "print(\"1\", pierwiastki_3_stopnia)\n",
    "\n",
    "# 2\n",
    "w = {i: chr(100 + i) for i in S}\n",
    "print(\"2\", w)\n",
    "\n",
    "# 3\n",
    "from math import sin, pi\n",
    "d = {i: sin(pi * (i/10)) for i in S }\n",
    "print(\"3\", d)\n",
    "\n",
    "# 4\n",
    "slownik = {element: (1/element) ** 2 for element in S}\n",
    "print(\"4\", slownik)\n",
    "\n",
    "# 5\n",
    "slownik = {k: 1234567 - 1 + 2 * k for k in S}\n",
    "print(\"5\", slownik)"
   ]
  },
  {
   "cell_type": "code",
   "execution_count": 97,
   "metadata": {},
   "outputs": [
    {
     "data": {
      "text/plain": [
       "{1: 1234568,\n",
       " 2: 1234569,\n",
       " 3: 1234570,\n",
       " 4: 1234571,\n",
       " 5: 1234572,\n",
       " 6: 1234573,\n",
       " 7: 1234574,\n",
       " 8: 1234575,\n",
       " 9: 1234576,\n",
       " 10: 1234577}"
      ]
     },
     "execution_count": 97,
     "metadata": {},
     "output_type": "execute_result"
    }
   ],
   "source": [
    "{i: 1234567 + i for i in S}"
   ]
  },
  {
   "cell_type": "code",
   "execution_count": 106,
   "metadata": {},
   "outputs": [
    {
     "data": {
      "text/plain": [
       "{0: 1234567,\n",
       " 1: 1234568,\n",
       " 2: 1234569,\n",
       " 3: 1234570,\n",
       " 4: 1234571,\n",
       " 5: 1234572,\n",
       " 6: 1234573,\n",
       " 7: 1234574,\n",
       " 8: 1234575,\n",
       " 9: 1234576}"
      ]
     },
     "execution_count": 106,
     "metadata": {},
     "output_type": "execute_result"
    }
   ],
   "source": [
    "{k: (1234567 + 1 + 1 * k  - 1) for k in S}"
   ]
  },
  {
   "cell_type": "code",
   "execution_count": 123,
   "metadata": {},
   "outputs": [
    {
     "name": "stdout",
     "output_type": "stream",
     "text": [
      "{1: -98768, 2: -98770, 3: -98772, 4: -98774, 5: -98776, 6: -98778, 7: -98780, 8: -98782, 9: -98784, 10: -98786}\n"
     ]
    }
   ],
   "source": [
    "S = list(range(1, 11))\n",
    "slownik = {element: -98765 -1 - 2 * element for element in S}\n",
    "print(slownik)"
   ]
  },
  {
   "cell_type": "markdown",
   "metadata": {},
   "source": [
    "### zbiory (set)"
   ]
  },
  {
   "cell_type": "code",
   "execution_count": 111,
   "metadata": {},
   "outputs": [
    {
     "data": {
      "text/plain": [
       "{0, 1, 4, 9, 16, 25, 36, 49, 64, 81, 100}"
      ]
     },
     "execution_count": 111,
     "metadata": {},
     "output_type": "execute_result"
    }
   ],
   "source": [
    "{i ** 2 for i in range(-10, 11)}"
   ]
  },
  {
   "cell_type": "code",
   "execution_count": null,
   "metadata": {},
   "outputs": [],
   "source": []
  },
  {
   "cell_type": "markdown",
   "metadata": {},
   "source": [
    "### krotki (tuple)"
   ]
  },
  {
   "cell_type": "code",
   "execution_count": 114,
   "metadata": {},
   "outputs": [
    {
     "data": {
      "text/plain": [
       "<generator object <genexpr> at 0x7fd98b858de0>"
      ]
     },
     "execution_count": 114,
     "metadata": {},
     "output_type": "execute_result"
    }
   ],
   "source": [
    "(i for i in S)"
   ]
  },
  {
   "cell_type": "code",
   "execution_count": null,
   "metadata": {},
   "outputs": [],
   "source": []
  },
  {
   "cell_type": "markdown",
   "metadata": {},
   "source": [
    "### str"
   ]
  },
  {
   "cell_type": "code",
   "execution_count": 115,
   "metadata": {},
   "outputs": [
    {
     "data": {
      "text/plain": [
       "'i for i in S'"
      ]
     },
     "execution_count": 115,
     "metadata": {},
     "output_type": "execute_result"
    }
   ],
   "source": [
    "\"i for i in S\""
   ]
  },
  {
   "cell_type": "code",
   "execution_count": 116,
   "metadata": {},
   "outputs": [
    {
     "data": {
      "text/plain": [
       "'0123456789'"
      ]
     },
     "execution_count": 116,
     "metadata": {},
     "output_type": "execute_result"
    }
   ],
   "source": [
    "\"\".join([str(i) for i in S])"
   ]
  },
  {
   "cell_type": "code",
   "execution_count": 118,
   "metadata": {},
   "outputs": [
    {
     "data": {
      "text/plain": [
       "'0--1--2--3--4--5--6--7--8--9'"
      ]
     },
     "execution_count": 118,
     "metadata": {},
     "output_type": "execute_result"
    }
   ],
   "source": [
    "\"--\".join(str(i) for i in S)"
   ]
  },
  {
   "cell_type": "code",
   "execution_count": null,
   "metadata": {},
   "outputs": [],
   "source": []
  }
 ],
 "metadata": {
  "kernelspec": {
   "display_name": "Python 3",
   "language": "python",
   "name": "python3"
  },
  "language_info": {
   "codemirror_mode": {
    "name": "ipython",
    "version": 3
   },
   "file_extension": ".py",
   "mimetype": "text/x-python",
   "name": "python",
   "nbconvert_exporter": "python",
   "pygments_lexer": "ipython3",
   "version": "3.7.3"
  }
 },
 "nbformat": 4,
 "nbformat_minor": 2
}
