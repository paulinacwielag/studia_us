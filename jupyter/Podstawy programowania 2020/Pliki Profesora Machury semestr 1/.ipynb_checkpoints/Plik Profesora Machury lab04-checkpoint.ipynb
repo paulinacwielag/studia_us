{
 "cells": [
  {
   "cell_type": "code",
   "execution_count": 1,
   "metadata": {},
   "outputs": [],
   "source": [
    "liczba = 13\n",
    "inna_liczba = 9.81\n",
    "nazwisko = \"Machura\""
   ]
  },
  {
   "cell_type": "code",
   "execution_count": 2,
   "metadata": {},
   "outputs": [
    {
     "name": "stdout",
     "output_type": "stream",
     "text": [
      "13 9.81 Machura\n"
     ]
    }
   ],
   "source": [
    "print(liczba, inna_liczba, nazwisko)"
   ]
  },
  {
   "cell_type": "code",
   "execution_count": 3,
   "metadata": {},
   "outputs": [
    {
     "name": "stdout",
     "output_type": "stream",
     "text": [
      "liczba: 13, liczba 2 9.81 i nazwisko Machura\n"
     ]
    }
   ],
   "source": [
    "print(\"liczba: {}, liczba 2 {} i nazwisko {}\".format(liczba, inna_liczba, nazwisko))"
   ]
  },
  {
   "cell_type": "code",
   "execution_count": 4,
   "metadata": {},
   "outputs": [
    {
     "name": "stdout",
     "output_type": "stream",
     "text": [
      "liczba: 13, liczba 2 9.81 i nazwisko Machura\n"
     ]
    }
   ],
   "source": [
    "print(\"liczba: {0}, liczba 2 {1} i nazwisko {2}\".format(liczba, inna_liczba, nazwisko))"
   ]
  },
  {
   "cell_type": "code",
   "execution_count": 6,
   "metadata": {},
   "outputs": [
    {
     "name": "stdout",
     "output_type": "stream",
     "text": [
      "liczba: Machura, liczba 2 9.81 i nazwisko 13\n"
     ]
    }
   ],
   "source": [
    "print(\"liczba: {2}, liczba 2 {1} i nazwisko {0}\".format(liczba, inna_liczba, nazwisko))"
   ]
  },
  {
   "cell_type": "code",
   "execution_count": 8,
   "metadata": {},
   "outputs": [
    {
     "name": "stdout",
     "output_type": "stream",
     "text": [
      "liczba: 13, liczba 2: 9.81\n"
     ]
    }
   ],
   "source": [
    "print(f\"liczba: {liczba}, liczba 2: {inna_liczba}\")"
   ]
  },
  {
   "cell_type": "code",
   "execution_count": null,
   "metadata": {},
   "outputs": [],
   "source": []
  },
  {
   "cell_type": "markdown",
   "metadata": {},
   "source": [
    "# Rozgałęzienia\n",
    "\n",
    "```\n",
    "if warunek:\n",
    "    BLOK INSTRUKCJI IF\n",
    "```"
   ]
  },
  {
   "cell_type": "code",
   "execution_count": 12,
   "metadata": {},
   "outputs": [
    {
     "name": "stdout",
     "output_type": "stream",
     "text": [
      "Liczba 1 jest dodatnia\n"
     ]
    }
   ],
   "source": [
    "x = 1\n",
    "\n",
    "if x > 0:\n",
    "    print(f\"Liczba {x} jest dodatnia\")"
   ]
  },
  {
   "cell_type": "code",
   "execution_count": 13,
   "metadata": {},
   "outputs": [
    {
     "data": {
      "text/plain": [
       "True"
      ]
     },
     "execution_count": 13,
     "metadata": {},
     "output_type": "execute_result"
    }
   ],
   "source": [
    "x > 0"
   ]
  },
  {
   "cell_type": "code",
   "execution_count": 14,
   "metadata": {},
   "outputs": [
    {
     "data": {
      "text/plain": [
       "bool"
      ]
     },
     "execution_count": 14,
     "metadata": {},
     "output_type": "execute_result"
    }
   ],
   "source": [
    "type(True)"
   ]
  },
  {
   "cell_type": "code",
   "execution_count": 15,
   "metadata": {},
   "outputs": [
    {
     "data": {
      "text/plain": [
       "bool"
      ]
     },
     "execution_count": 15,
     "metadata": {},
     "output_type": "execute_result"
    }
   ],
   "source": [
    "type(False)"
   ]
  },
  {
   "cell_type": "code",
   "execution_count": 17,
   "metadata": {},
   "outputs": [
    {
     "data": {
      "text/plain": [
       "False"
      ]
     },
     "execution_count": 17,
     "metadata": {},
     "output_type": "execute_result"
    }
   ],
   "source": [
    "x > 0 and x < 0"
   ]
  },
  {
   "cell_type": "code",
   "execution_count": 18,
   "metadata": {},
   "outputs": [
    {
     "data": {
      "text/plain": [
       "True"
      ]
     },
     "execution_count": 18,
     "metadata": {},
     "output_type": "execute_result"
    }
   ],
   "source": [
    "x > 0 or x < 0"
   ]
  },
  {
   "cell_type": "code",
   "execution_count": 20,
   "metadata": {},
   "outputs": [
    {
     "data": {
      "text/plain": [
       "True"
      ]
     },
     "execution_count": 20,
     "metadata": {},
     "output_type": "execute_result"
    }
   ],
   "source": [
    "x = 0\n",
    "\n",
    "x > 0 or x < 0 or x == 0"
   ]
  },
  {
   "cell_type": "code",
   "execution_count": 22,
   "metadata": {},
   "outputs": [
    {
     "name": "stdout",
     "output_type": "stream",
     "text": [
      "Liczba 1 jest dodatnia\n"
     ]
    }
   ],
   "source": [
    "x = 1\n",
    "\n",
    "if x > 0:\n",
    "    # blok kodu 1\n",
    "    print(f\"Liczba {x} jest dodatnia\")\n",
    "    \n",
    "if x == 0:\n",
    "    # blok kodu 2\n",
    "    print(f\"Liczba {x} jest równa 0\")\n",
    "    \n",
    "if x < 0:\n",
    "    # blok kodu 3\n",
    "    print(f\"Liczba {x} jest ujemna\")"
   ]
  },
  {
   "cell_type": "markdown",
   "metadata": {},
   "source": [
    "# Rozgałęzienia, cz 2\n",
    "\n",
    "```\n",
    "if warunek:\n",
    "    BLOK INSTRUKCJI IF\n",
    "elif warunek2:\n",
    "   BLOK INSTRUKCJI 2\n",
    "elif warunek3:\n",
    "   BLOK INSTRUKCJI 3\n",
    "elif warunek4:\n",
    "   BLOK INSTRUKCJI 4\n",
    ".\n",
    ".\n",
    ".\n",
    "else:\n",
    "    BLOK INSTRUKCJI ELSE\n",
    "```"
   ]
  },
  {
   "cell_type": "code",
   "execution_count": 27,
   "metadata": {},
   "outputs": [
    {
     "name": "stdout",
     "output_type": "stream",
     "text": [
      "Liczba -0.1 jest ujemna\n"
     ]
    }
   ],
   "source": [
    "x = -0.1\n",
    "\n",
    "if x > 0:\n",
    "    # blok kodu 1\n",
    "    print(f\"Liczba {x} jest dodatnia\")\n",
    "    \n",
    "elif x == 0:\n",
    "    # blok kodu 2\n",
    "    print(f\"Liczba {x} jest równa 0\")\n",
    "    \n",
    "else:   # elif x < 0:\n",
    "    # blok kodu 3\n",
    "    print(f\"Liczba {x} jest ujemna\")"
   ]
  },
  {
   "cell_type": "markdown",
   "metadata": {},
   "source": [
    "### Zad 2\n",
    "Napisz program, który sprawdza czy liczba `y` jest parzysta czy nieparzysta"
   ]
  },
  {
   "cell_type": "code",
   "execution_count": 31,
   "metadata": {},
   "outputs": [
    {
     "name": "stdout",
     "output_type": "stream",
     "text": [
      "parzysta\n"
     ]
    }
   ],
   "source": [
    "# parzyste: ..., -4, -2, 0, 2, 4, ...\n",
    "\n",
    "y = 666\n",
    "\n",
    "if y % 2 == 0:\n",
    "    print(\"parzysta\")\n",
    "else:\n",
    "    print(\"nieparzysta\")"
   ]
  },
  {
   "cell_type": "code",
   "execution_count": 32,
   "metadata": {},
   "outputs": [
    {
     "data": {
      "text/plain": [
       "True"
      ]
     },
     "execution_count": 32,
     "metadata": {},
     "output_type": "execute_result"
    }
   ],
   "source": [
    "y % 2 == 0"
   ]
  },
  {
   "cell_type": "code",
   "execution_count": 37,
   "metadata": {},
   "outputs": [
    {
     "data": {
      "text/plain": [
       "0"
      ]
     },
     "execution_count": 37,
     "metadata": {},
     "output_type": "execute_result"
    }
   ],
   "source": [
    "y = 4\n",
    "y % 2  # albo 0, albo 1"
   ]
  },
  {
   "cell_type": "code",
   "execution_count": 40,
   "metadata": {},
   "outputs": [
    {
     "name": "stdout",
     "output_type": "stream",
     "text": [
      "nieparzysta\n"
     ]
    }
   ],
   "source": [
    "y = 665\n",
    "\n",
    "if y % 2 != 0:\n",
    "    print(\"nieparzysta\")\n",
    "else:\n",
    "    print(\"parzysta\")"
   ]
  },
  {
   "cell_type": "markdown",
   "metadata": {},
   "source": [
    "## bool"
   ]
  },
  {
   "cell_type": "code",
   "execution_count": 41,
   "metadata": {},
   "outputs": [
    {
     "data": {
      "text/plain": [
       "True"
      ]
     },
     "execution_count": 41,
     "metadata": {},
     "output_type": "execute_result"
    }
   ],
   "source": [
    "(y % 2) != 0"
   ]
  },
  {
   "cell_type": "code",
   "execution_count": 42,
   "metadata": {},
   "outputs": [
    {
     "data": {
      "text/plain": [
       "False"
      ]
     },
     "execution_count": 42,
     "metadata": {},
     "output_type": "execute_result"
    }
   ],
   "source": [
    "(y % 2) == 0"
   ]
  },
  {
   "cell_type": "code",
   "execution_count": 43,
   "metadata": {},
   "outputs": [
    {
     "data": {
      "text/plain": [
       "True"
      ]
     },
     "execution_count": 43,
     "metadata": {},
     "output_type": "execute_result"
    }
   ],
   "source": [
    "y > 0"
   ]
  },
  {
   "cell_type": "code",
   "execution_count": 46,
   "metadata": {},
   "outputs": [
    {
     "data": {
      "text/plain": [
       "1"
      ]
     },
     "execution_count": 46,
     "metadata": {},
     "output_type": "execute_result"
    }
   ],
   "source": [
    "False + 1"
   ]
  },
  {
   "cell_type": "code",
   "execution_count": 47,
   "metadata": {},
   "outputs": [
    {
     "data": {
      "text/plain": [
       "2"
      ]
     },
     "execution_count": 47,
     "metadata": {},
     "output_type": "execute_result"
    }
   ],
   "source": [
    "True + 1"
   ]
  },
  {
   "cell_type": "code",
   "execution_count": 48,
   "metadata": {},
   "outputs": [
    {
     "data": {
      "text/plain": [
       "1"
      ]
     },
     "execution_count": 48,
     "metadata": {},
     "output_type": "execute_result"
    }
   ],
   "source": [
    "True % 2"
   ]
  },
  {
   "cell_type": "code",
   "execution_count": 50,
   "metadata": {},
   "outputs": [
    {
     "name": "stdout",
     "output_type": "stream",
     "text": [
      "parzysta\n"
     ]
    }
   ],
   "source": [
    "y = 668\n",
    "\n",
    "if y % 2:  # if 1\n",
    "    print(\"nieparzysta\")\n",
    "else:\n",
    "    print(\"parzysta\")"
   ]
  },
  {
   "cell_type": "code",
   "execution_count": 51,
   "metadata": {},
   "outputs": [
    {
     "name": "stdout",
     "output_type": "stream",
     "text": [
      "parzysta\n"
     ]
    }
   ],
   "source": [
    "y = 668\n",
    "\n",
    "if not y % 2:  # if 1\n",
    "    print(\"parzysta\")\n",
    "else:\n",
    "    print(\"nieparzysta\")"
   ]
  },
  {
   "cell_type": "code",
   "execution_count": 52,
   "metadata": {},
   "outputs": [
    {
     "data": {
      "text/plain": [
       "(True, False, 0, True)"
      ]
     },
     "execution_count": 52,
     "metadata": {},
     "output_type": "execute_result"
    }
   ],
   "source": [
    "y % 2 == 0, y % 2 != 0, y % 2, not y % 2"
   ]
  },
  {
   "cell_type": "code",
   "execution_count": 60,
   "metadata": {},
   "outputs": [
    {
     "name": "stdout",
     "output_type": "stream",
     "text": [
      "Prawda, True\n"
     ]
    }
   ],
   "source": [
    "y = 10.0\n",
    "\n",
    "if y:\n",
    "    print(\"Prawda, True\")\n",
    "else:\n",
    "    print(\"Fałsz, False\")"
   ]
  },
  {
   "cell_type": "markdown",
   "metadata": {},
   "source": [
    "### zad 3\n",
    "\n",
    "Mamy podane 3 odcinki, o długościach `a, b, c`. Sprawdź czy da się z nich zbudować trójkąt."
   ]
  },
  {
   "cell_type": "code",
   "execution_count": 61,
   "metadata": {},
   "outputs": [],
   "source": [
    "a, b, c = 3, 4, 5"
   ]
  },
  {
   "cell_type": "markdown",
   "metadata": {},
   "source": [
    "### zad 4\n",
    "\n",
    "Napisz program podający numer ćwiartki układu współrzędnych, do\n",
    "której należy podawany punkt o współrzędnych (x, y)."
   ]
  },
  {
   "cell_type": "code",
   "execution_count": null,
   "metadata": {},
   "outputs": [],
   "source": []
  },
  {
   "cell_type": "markdown",
   "metadata": {},
   "source": [
    "### zad 5\n",
    "Napisz program ukazujący czteroelementowe menu (1-AAA, 2-BBB,\n",
    "3-CCC, 4-KONIEC)."
   ]
  },
  {
   "cell_type": "code",
   "execution_count": 62,
   "metadata": {},
   "outputs": [
    {
     "name": "stdout",
     "output_type": "stream",
     "text": [
      "1-AAA, 2-BBB, 3-CCC, 4-KONIEC\n"
     ]
    }
   ],
   "source": [
    "print(\"1-AAA, 2-BBB, 3-CCC, 4-KONIEC\")"
   ]
  },
  {
   "cell_type": "code",
   "execution_count": 76,
   "metadata": {},
   "outputs": [
    {
     "name": "stdout",
     "output_type": "stream",
     "text": [
      "Podaj liczbę 1 12\n",
      "Podaj liczbę 2 13\n"
     ]
    }
   ],
   "source": [
    "liczba1 = float(input(\"Podaj liczbę 1 \"))\n",
    "liczba2 = float(input(\"Podaj liczbę 2 \"))"
   ]
  },
  {
   "cell_type": "code",
   "execution_count": 77,
   "metadata": {},
   "outputs": [
    {
     "data": {
      "text/plain": [
       "25.0"
      ]
     },
     "execution_count": 77,
     "metadata": {},
     "output_type": "execute_result"
    }
   ],
   "source": [
    "liczba1 + liczba2"
   ]
  },
  {
   "cell_type": "code",
   "execution_count": null,
   "metadata": {},
   "outputs": [],
   "source": []
  }
 ],
 "metadata": {
  "kernelspec": {
   "display_name": "Python 3",
   "language": "python",
   "name": "python3"
  },
  "language_info": {
   "codemirror_mode": {
    "name": "ipython",
    "version": 3
   },
   "file_extension": ".py",
   "mimetype": "text/x-python",
   "name": "python",
   "nbconvert_exporter": "python",
   "pygments_lexer": "ipython3",
   "version": "3.7.3"
  }
 },
 "nbformat": 4,
 "nbformat_minor": 2
}
