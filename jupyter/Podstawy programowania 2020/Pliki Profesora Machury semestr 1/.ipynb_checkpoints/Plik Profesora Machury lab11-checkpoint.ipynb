{
 "cells": [
  {
   "cell_type": "markdown",
   "metadata": {},
   "source": [
    "# Funkcje część 1\n",
    "\n",
    "* dekompozycja\n",
    "* abstrakcja"
   ]
  },
  {
   "cell_type": "code",
   "execution_count": null,
   "metadata": {},
   "outputs": [],
   "source": []
  },
  {
   "cell_type": "markdown",
   "metadata": {},
   "source": [
    "```\n",
    "def nazwa_funkcji(arg1, arg2, arg3=var1, arg4=var2, *args, **kwargs):\n",
    "    \"\"\"\n",
    "    To jest docsting funkcji.\n",
    "    \"\"\"\n",
    "    \n",
    "    CIAŁO_FUNKCJI\n",
    "    Tu mamy dostęp do wszystkich powyższych parametrów formalnych funkcji\n",
    "    bez potrzeby ich definiowania (są zdefiniowane w nawiasie).\n",
    "    \n",
    "    <return <obj>>\n",
    "```\n"
   ]
  },
  {
   "cell_type": "code",
   "execution_count": null,
   "metadata": {},
   "outputs": [],
   "source": []
  },
  {
   "cell_type": "markdown",
   "metadata": {},
   "source": [
    "# funkcja z 1 parametrem\n",
    "\n",
    "```\n",
    "def goo(parametr):\n",
    "    '''docstr'''\n",
    "    return f(parametr)\n",
    "```"
   ]
  },
  {
   "cell_type": "code",
   "execution_count": 4,
   "metadata": {},
   "outputs": [
    {
     "data": {
      "text/plain": [
       "21"
      ]
     },
     "execution_count": 4,
     "metadata": {},
     "output_type": "execute_result"
    }
   ],
   "source": [
    "dodaj_10(11)"
   ]
  },
  {
   "cell_type": "code",
   "execution_count": 5,
   "metadata": {},
   "outputs": [
    {
     "data": {
      "text/plain": [
       "133"
      ]
     },
     "execution_count": 5,
     "metadata": {},
     "output_type": "execute_result"
    }
   ],
   "source": [
    "dodaj_10(123)"
   ]
  },
  {
   "cell_type": "code",
   "execution_count": 7,
   "metadata": {},
   "outputs": [],
   "source": [
    "liczba = dodaj_10(1001)"
   ]
  },
  {
   "cell_type": "code",
   "execution_count": 11,
   "metadata": {},
   "outputs": [
    {
     "name": "stdout",
     "output_type": "stream",
     "text": [
      "0 0\n",
      "100 10000\n",
      "200 40000\n",
      "300 90000\n",
      "400 160000\n",
      "500 250000\n",
      "600 360000\n",
      "700 490000\n",
      "800 640000\n",
      "900 810000\n",
      "1000 1000000\n"
     ]
    }
   ],
   "source": [
    "for i in range(0, liczba, 100):\n",
    "    print(i, i ** 2)"
   ]
  },
  {
   "cell_type": "code",
   "execution_count": 13,
   "metadata": {},
   "outputs": [
    {
     "name": "stdout",
     "output_type": "stream",
     "text": [
      "0 10 10\n",
      "1 11 11\n",
      "2 12 12\n",
      "3 13 13\n",
      "4 14 14\n",
      "5 15 15\n",
      "6 16 16\n",
      "7 17 17\n",
      "8 18 18\n",
      "9 19 19\n"
     ]
    }
   ],
   "source": [
    "for k in range(10):\n",
    "    print(k, k + 10, dodaj_10(k))"
   ]
  },
  {
   "cell_type": "code",
   "execution_count": 6,
   "metadata": {},
   "outputs": [],
   "source": [
    "def dodaj_10(x):\n",
    "    '''funkcja dodaje 10 do wartosci parametru formalnego x'''\n",
    "    return x + 10"
   ]
  },
  {
   "cell_type": "markdown",
   "metadata": {},
   "source": [
    "### Ćwiczenie L11.1\n",
    "Skonstruuj własne funkcje o jednym parametrze formalnym (`x`, `arg`, ...), który jako argument będziem oczekiwać liczby. \n",
    "\n",
    "1. zwracającą kwadrat liczby\n",
    "* zwracającą pierwiastek liczby\n",
    "* zwracającą liczbę o przeciwnym znaku\n",
    "* zwracającą odwrotność liczby\n",
    "* zwracającą połowę wartości liczby\n",
    "* zwracającą `2` do potęgi liczba\n",
    "\n",
    "Każdą z nich \n",
    "* uruchom dla kilku argumentów, \n",
    "* przechwyć do zmiennej, \n",
    "* uruchom w pętli (bez i z `print`)\n",
    "\n",
    "Paulina\n",
    "Aleksandra\n",
    "Marcin\n",
    "Taisja\n",
    "Bartosz\n",
    "Igor"
   ]
  },
  {
   "cell_type": "code",
   "execution_count": 14,
   "metadata": {},
   "outputs": [],
   "source": [
    "from math import sqrt\n",
    "\n",
    "\n",
    "def polowa_wartosci(liczba):\n",
    "    \"\"\"\n",
    "    Funkcja zwraca połowę wartości liczby podanej jako argument\n",
    "    \"\"\"\n",
    "    return liczba / 2\n",
    "\n",
    "\n",
    "def pierwiastek(x):\n",
    "    'funkcja zwraca pierwiastek liczby x'\n",
    "    return sqrt(x)\n",
    "\n",
    "\n",
    "def przeciwny_znak(x):\n",
    "    '''\n",
    "    funkcja zwraca liczbe o przeciwnym znaku\n",
    "    '''\n",
    "    return x - x - x  # -x\n",
    "\n",
    "\n",
    "def kwadrat_liczby(x):\n",
    "    '''funkcja podnosząca wartosc parametru formalnego do kwadratu'''\n",
    "    return x ** 2\n",
    "\n",
    "\n",
    "def odwrotnosc_liczby(x):\n",
    "    '''funkcja odwraca wartość parametru formalnego x'''''\n",
    "    return 1 / x\n",
    "\n",
    "\n",
    "def potega(x):\n",
    "    \"Funkcja zwraca dwójkę podniesioną do zadanej potęgi\"\n",
    "    return 2 ** x"
   ]
  },
  {
   "cell_type": "code",
   "execution_count": 15,
   "metadata": {},
   "outputs": [
    {
     "data": {
      "text/plain": [
       "112021"
      ]
     },
     "execution_count": 15,
     "metadata": {},
     "output_type": "execute_result"
    }
   ],
   "source": [
    "przeciwny_znak(-112021)"
   ]
  },
  {
   "cell_type": "code",
   "execution_count": 16,
   "metadata": {},
   "outputs": [
    {
     "data": {
      "text/plain": [
       "-9847"
      ]
     },
     "execution_count": 16,
     "metadata": {},
     "output_type": "execute_result"
    }
   ],
   "source": [
    "przeciwny_znak(9847)"
   ]
  },
  {
   "cell_type": "markdown",
   "metadata": {},
   "source": [
    "### Ćwiczenie L11.1 (b)\n",
    "Skonstruuj własne funkcje o jednym parametrze formalnym (`x`, `arg`, ...), który jako argument będziemy oczekiwać liczby. \n",
    "\n",
    "Obowiązkowo dodaj `docstring`.\n",
    "\n",
    "1. zwracającą sześcian  podanego argumentu pomniejszony o 100\n",
    "* zwracającą ilość jedynek w reprezentacji binarnej  podanego argumentu\n",
    "* zwracającą ilość czwórek w reprezentacji ósemkowej  podanego argumentu\n",
    "* zwracającą ilość literek w reprezentacji szesnastkowej  podanego argumentu\n",
    "* zwracającą resztę z dzielenia  podanego argumentu przez 2\n",
    "* zwracającą liczbę całkowitą najbliższą odwrotności pierwiastka podanego argumentu\n",
    "\n",
    "Każdą z nich \n",
    "* uruchom dla kilku argumentów, \n",
    "* przechwyć do zmiennej, \n",
    "* uruchom w pętli (bez i z `print`)\n",
    "\n",
    "Aleksandra\n",
    "Marcin\n",
    "Taisja\n",
    "Bartosz\n",
    "Igor\n",
    "Paulina"
   ]
  },
  {
   "cell_type": "code",
   "execution_count": 46,
   "metadata": {},
   "outputs": [],
   "source": [
    "def szescian_pomniejszony(x):\n",
    "    '''\n",
    "    funkcja zwraca sześcian danego argumentu pomniejszony o 100\n",
    "    '''\n",
    "    return (x ** 3) - 100\n",
    "\n",
    "\n",
    "def liczba_calkowita_najblizsza_odwrotnosci_pierwiastka(x):\n",
    "    'funkcja zwracająca liczbe calkowita najblizsza odwrotnosci pierwiastka podanego argumentu'\n",
    "    return int(round(1/(x ** (1/2)), 0))\n",
    "\n",
    "\n",
    "def ilosc_czworek(x):\n",
    "    '''funkcja zwraca ilość czwórek w reprezentacji ósemkowej wartość parametru formalnego x'''''\n",
    "    return oct(x).count(\"4\")\n",
    "\n",
    "\n",
    "def jedynki(x):\n",
    "    '''funkcja zwraca ilość jedynek w reprezentacji binarnerj argumentu x'''\n",
    "    return bin(x).count(\"1\")\n",
    "\n",
    "\n",
    "def reszta_z_dzielenia_przez_2(x):\n",
    "    \"Zwraca resztę z dzielenia przez 2\"\n",
    "    return x % 2\n",
    "\n",
    "\n",
    "def count_str_in_hex(x):\n",
    "    '''Funkcja zwraca ilość literek w szestnastkowej reprezentacji liczby podanej jako argument'''\n",
    "    string = str(hex(x))\n",
    "    # return len([el for el in string if el in \"abcdef\"])\n",
    "    return string.count('a') + string.count('b') + string.count('c') +\\\n",
    "           string.count('d') + string.count('e') + string.count('f')"
   ]
  },
  {
   "cell_type": "code",
   "execution_count": 47,
   "metadata": {},
   "outputs": [
    {
     "data": {
      "text/plain": [
       "(104.0, 103.63946430143025, 103)"
      ]
     },
     "execution_count": 47,
     "metadata": {},
     "output_type": "execute_result"
    }
   ],
   "source": [
    "x = .0000931\n",
    "round(1 / (x ** (1/2)), 0), 1 / (x ** (1/2)), int(x ** (-1/2))"
   ]
  },
  {
   "cell_type": "code",
   "execution_count": 48,
   "metadata": {},
   "outputs": [
    {
     "data": {
      "text/plain": [
       "5"
      ]
     },
     "execution_count": 48,
     "metadata": {},
     "output_type": "execute_result"
    }
   ],
   "source": [
    "count_str_in_hex(9813343534)"
   ]
  },
  {
   "cell_type": "code",
   "execution_count": 49,
   "metadata": {},
   "outputs": [
    {
     "name": "stdout",
     "output_type": "stream",
     "text": [
      "Help on function liczba_calkowita_najblizsza_odwrotnosci_pierwiastka in module __main__:\n",
      "\n",
      "liczba_calkowita_najblizsza_odwrotnosci_pierwiastka(x)\n",
      "    funkcja zwracająca liczbe calkowita najblizsza odwrotnosci pierwiastka podanego argumentu\n",
      "\n"
     ]
    }
   ],
   "source": [
    "help(liczba_calkowita_najblizsza_odwrotnosci_pierwiastka)"
   ]
  },
  {
   "cell_type": "code",
   "execution_count": 50,
   "metadata": {},
   "outputs": [
    {
     "name": "stdout",
     "output_type": "stream",
     "text": [
      "Help on function count_str_in_hex in module __main__:\n",
      "\n",
      "count_str_in_hex(x)\n",
      "    Funkcja zwraca ilość literek w szestnastkowej reprezentacji liczby podanej jako argument\n",
      "\n"
     ]
    }
   ],
   "source": [
    "help(count_str_in_hex)"
   ]
  },
  {
   "cell_type": "code",
   "execution_count": 52,
   "metadata": {},
   "outputs": [
    {
     "name": "stdout",
     "output_type": "stream",
     "text": [
      "Help on function dodaj_10 in module __main__:\n",
      "\n",
      "dodaj_10(x)\n",
      "    funkcja dodaje 10 do wartosci parametru formalnego x\n",
      "\n"
     ]
    }
   ],
   "source": [
    "help(dodaj_10)"
   ]
  },
  {
   "cell_type": "code",
   "execution_count": 53,
   "metadata": {},
   "outputs": [
    {
     "name": "stdout",
     "output_type": "stream",
     "text": [
      "Help on built-in function sqrt in module math:\n",
      "\n",
      "sqrt(x, /)\n",
      "    Return the square root of x.\n",
      "\n"
     ]
    }
   ],
   "source": [
    "help(sqrt)"
   ]
  },
  {
   "cell_type": "code",
   "execution_count": 54,
   "metadata": {},
   "outputs": [],
   "source": [
    "dodaj_10?"
   ]
  },
  {
   "cell_type": "code",
   "execution_count": 55,
   "metadata": {},
   "outputs": [],
   "source": [
    "sqrt?"
   ]
  },
  {
   "cell_type": "code",
   "execution_count": 56,
   "metadata": {},
   "outputs": [],
   "source": [
    "count_str_in_hex?"
   ]
  },
  {
   "cell_type": "code",
   "execution_count": 57,
   "metadata": {},
   "outputs": [],
   "source": [
    "ilosc_czworek??"
   ]
  },
  {
   "cell_type": "code",
   "execution_count": 58,
   "metadata": {},
   "outputs": [],
   "source": [
    "def goo(d):\n",
    "    return d * d - 1"
   ]
  },
  {
   "cell_type": "code",
   "execution_count": 59,
   "metadata": {},
   "outputs": [
    {
     "name": "stdout",
     "output_type": "stream",
     "text": [
      "Help on function goo in module __main__:\n",
      "\n",
      "goo(d)\n",
      "\n"
     ]
    }
   ],
   "source": [
    "help(goo)"
   ]
  },
  {
   "cell_type": "code",
   "execution_count": 62,
   "metadata": {},
   "outputs": [],
   "source": [
    "goo?"
   ]
  },
  {
   "cell_type": "code",
   "execution_count": null,
   "metadata": {},
   "outputs": [],
   "source": []
  },
  {
   "cell_type": "markdown",
   "metadata": {},
   "source": [
    "## bardziej rozbudowane ciało funkcji\n",
    "    ```\n",
    "    def foo(arg): \n",
    "        \"\"\"docstring\"\"\"\n",
    "        ret = None\n",
    "        \n",
    "        DO_STH_WITH_ret_and_arg\n",
    "        \n",
    "        return ret\n",
    "    ```"
   ]
  },
  {
   "cell_type": "code",
   "execution_count": 64,
   "metadata": {},
   "outputs": [
    {
     "data": {
      "text/plain": [
       "302"
      ]
     },
     "execution_count": 64,
     "metadata": {},
     "output_type": "execute_result"
    }
   ],
   "source": [
    "def odejmij_od_wiekszej(a, b):\n",
    "    \"funkcja zwraca wynik odejmowania mniejszej liczby od wiekszej\"\n",
    "    ret = None\n",
    "    \n",
    "    if a > b:\n",
    "        ret = a - b\n",
    "    else:\n",
    "        ret = b - a\n",
    "        \n",
    "    return ret\n",
    "\n",
    "\n",
    "odejmij_od_wiekszej(10, 312)"
   ]
  },
  {
   "cell_type": "code",
   "execution_count": 65,
   "metadata": {},
   "outputs": [
    {
     "data": {
      "text/plain": [
       "302"
      ]
     },
     "execution_count": 65,
     "metadata": {},
     "output_type": "execute_result"
    }
   ],
   "source": [
    "odejmij_od_wiekszej(312, 10)"
   ]
  },
  {
   "cell_type": "markdown",
   "metadata": {},
   "source": [
    "### Ćwiczenie L11.2 (a)\n",
    "Skonstruuj funkcje. \n",
    "\n",
    "1. `czy_parzysta` zwracającą `True` gdy podana liczba jest parzysta lub `False` gdy nie jest\n",
    "* `czy_nieujemna` zwracającą `True` gdy podana liczba jest nieujemna lub `False` gdy jest ujemna\n",
    "* `signum` zwracającą znak (`-1` lub `1`) podanej liczby\n",
    "* `heaviside` zwracającą `0` gdy podana liczba jest ujemna, `1/2` gdy jest równa `0` lub `1` jest dodatnia\n",
    "* `czy_liczba` zwracającą `True` gdy podany argument jest literałem liczbowym i `False` w przeciwnym przypadku\n",
    "* `czy_sekwencja` zwracającą `True` gdy podany argument jest typu sekwencyjnego i `False` w przeciwnym przypadku\n",
    "\n",
    "Każdą z nich \n",
    "* uruchom dla kilku argumentów, \n",
    "* przechwyć do zmiennej, \n",
    "* uruchom w pętli (bez i z `print`)\n",
    "\n",
    "Marcin\n",
    "Taisja\n",
    "Bartosz\n",
    "Igor\n",
    "Paulina\n",
    "Aleksandra"
   ]
  },
  {
   "cell_type": "code",
   "execution_count": 72,
   "metadata": {},
   "outputs": [],
   "source": [
    "def signum(x):\n",
    "    '''Funkcja zwraca 1 lub -1 w zależności od tego, czy podany argument jest ujemny, czy nieujemny'''\n",
    "    ret = None\n",
    "    \n",
    "    if x < 0:\n",
    "        ret = -1\n",
    "    else:\n",
    "        ret = 1\n",
    "        \n",
    "    return ret\n",
    "\n",
    "\n",
    "def czy_nieujemna(x):\n",
    "    '''funkcja zwraca TRUE, gdy wartość parametru formalnego x jest nieujemna i FALSE, gdy jest ujemna'''''\n",
    "    ret = None\n",
    "    \n",
    "    if (x > 0) and (x == 0):\n",
    "        ret = True\n",
    "    else:\n",
    "        ret = False\n",
    "        \n",
    "    return ret\n",
    "\n",
    "\n",
    "def czy_parzysta(x):\n",
    "    'funkcja zwraca true gdy liczba jest parzysta lub false gdy nie jest'\n",
    "    ret = None\n",
    "    \n",
    "    if x % 2 == 0:\n",
    "        ret = True\n",
    "    else:\n",
    "        ret = False\n",
    "        \n",
    "    return ret\n",
    "\n",
    "\n",
    "def czy_liczba(x):\n",
    "    'funkcja zwracająca True jeżeli podany argument jest literałem liczbowym i False w przeciwnym wypadku'\n",
    "    return isinstance(x, (int, float))\n",
    "\n",
    "\n",
    "def heaviside(zmienna):\n",
    "    \"Zwraca 0, gdy podana liczba jest ujemna, 1/2 gdy jest równa 0 lub 1 gdy jest dodatnia.\"\n",
    "    \n",
    "    if zmienna > 0:\n",
    "        wynik = 1\n",
    "    elif zmienna == 0:\n",
    "        wynik = 1/2\n",
    "    else:\n",
    "        wynik = 0\n",
    "        \n",
    "    return wynik\n",
    "\n",
    "\n",
    "def czy_sekwencja(x):\n",
    "    \"\"\"\n",
    "    Czy podany element jest typem sekwencyjnym\n",
    "    \"\"\"\n",
    "    if type(x) is str:\n",
    "        ret = True \n",
    "    elif type(x) is tuple:\n",
    "        ret = True\n",
    "    elif isinstance(x, list):\n",
    "        ret = True\n",
    "    else:\n",
    "        ret = not True\n",
    "        \n",
    "    return ret"
   ]
  },
  {
   "cell_type": "code",
   "execution_count": null,
   "metadata": {},
   "outputs": [],
   "source": []
  },
  {
   "cell_type": "markdown",
   "metadata": {},
   "source": [
    "# programowanie defensywne\n",
    "\n",
    "### opcja 1: if type"
   ]
  },
  {
   "cell_type": "code",
   "execution_count": 86,
   "metadata": {},
   "outputs": [],
   "source": [
    "def odejmij_od_wiekszej(a, b):\n",
    "    \"\"\"\n",
    "    Funkcja zwraca wynik odejmowania mniejszej liczby od wiekszej.\n",
    "    \n",
    "    a: INT lub FLOAT\n",
    "    b: INT lub FLOAT\n",
    "    \n",
    "    Return: INT lub FLOAT\n",
    "    \"\"\"\n",
    "    \n",
    "    if type(a) == int or type(a) == float:\n",
    "        print(\"a OK\")\n",
    "    else:\n",
    "        return \n",
    "\n",
    "    if type(b) == int or type(b) == float:\n",
    "        print(\"b OK\")\n",
    "    else:\n",
    "        return\n",
    "        \n",
    "    ret = None\n",
    "    \n",
    "    if a > b:\n",
    "        ret = a - b\n",
    "    else:\n",
    "        ret = b - a\n",
    "        \n",
    "    return ret"
   ]
  },
  {
   "cell_type": "code",
   "execution_count": 87,
   "metadata": {},
   "outputs": [
    {
     "name": "stdout",
     "output_type": "stream",
     "text": [
      "a OK\n",
      "b OK\n"
     ]
    },
    {
     "data": {
      "text/plain": [
       "301"
      ]
     },
     "execution_count": 87,
     "metadata": {},
     "output_type": "execute_result"
    }
   ],
   "source": [
    "odejmij_od_wiekszej(312, 11)"
   ]
  },
  {
   "cell_type": "code",
   "execution_count": 88,
   "metadata": {},
   "outputs": [
    {
     "name": "stdout",
     "output_type": "stream",
     "text": [
      "a OK\n",
      "b OK\n"
     ]
    },
    {
     "data": {
      "text/plain": [
       "301.312"
      ]
     },
     "execution_count": 88,
     "metadata": {},
     "output_type": "execute_result"
    }
   ],
   "source": [
    "odejmij_od_wiekszej(312.312, 11)"
   ]
  },
  {
   "cell_type": "code",
   "execution_count": 90,
   "metadata": {},
   "outputs": [
    {
     "data": {
      "text/plain": [
       "True"
      ]
     },
     "execution_count": 90,
     "metadata": {},
     "output_type": "execute_result"
    }
   ],
   "source": [
    "odejmij_od_wiekszej(\"312\", 11) == None"
   ]
  },
  {
   "cell_type": "markdown",
   "metadata": {},
   "source": [
    "### opcja 1b: isinstance"
   ]
  },
  {
   "cell_type": "code",
   "execution_count": 96,
   "metadata": {},
   "outputs": [],
   "source": [
    "def odejmij_od_wiekszej(a, b):\n",
    "    \"\"\"\n",
    "    Funkcja zwraca wynik odejmowania mniejszej liczby od wiekszej.\n",
    "    \n",
    "    a: INT lub FLOAT\n",
    "    b: INT lub FLOAT\n",
    "    \n",
    "    Return: INT lub FLOAT\n",
    "    \"\"\"\n",
    "    \n",
    "    if isinstance(a, int) or isinstance(a, float):  # type(a) == int or type(a) == float:\n",
    "        print(\"a OK\")\n",
    "    else:\n",
    "        return \n",
    "\n",
    "    if isinstance(b, (int, float)):\n",
    "        print(\"b OK\")\n",
    "    else:\n",
    "        return\n",
    "        \n",
    "    ret = None\n",
    "    \n",
    "    if a > b:\n",
    "        ret = a - b\n",
    "    else:\n",
    "        ret = b - a\n",
    "        \n",
    "    return ret"
   ]
  },
  {
   "cell_type": "code",
   "execution_count": 94,
   "metadata": {},
   "outputs": [
    {
     "name": "stdout",
     "output_type": "stream",
     "text": [
      "a OK\n",
      "b OK\n"
     ]
    },
    {
     "data": {
      "text/plain": [
       "301.312"
      ]
     },
     "execution_count": 94,
     "metadata": {},
     "output_type": "execute_result"
    }
   ],
   "source": [
    "odejmij_od_wiekszej(312.312, 11)"
   ]
  },
  {
   "cell_type": "code",
   "execution_count": 95,
   "metadata": {},
   "outputs": [
    {
     "name": "stdout",
     "output_type": "stream",
     "text": [
      "a OK\n"
     ]
    }
   ],
   "source": [
    "odejmij_od_wiekszej(312.312, \"11\")"
   ]
  },
  {
   "cell_type": "markdown",
   "metadata": {},
   "source": [
    "### opcja 3: assert"
   ]
  },
  {
   "cell_type": "code",
   "execution_count": 100,
   "metadata": {},
   "outputs": [],
   "source": [
    "def odejmij_od_wiekszej(a, b):\n",
    "    \"\"\"\n",
    "    Funkcja zwraca wynik odejmowania mniejszej liczby od wiekszej.\n",
    "    \n",
    "    a: INT lub FLOAT\n",
    "    b: INT lub FLOAT\n",
    "    \n",
    "    Return: INT lub FLOAT\n",
    "    \"\"\"\n",
    "    \n",
    "    assert isinstance(a, (int, float)), \"a powinno byc INT lub FLOAT\"\n",
    "    assert isinstance(b, (int, float)), \"b powinno byc INT lub FLOAT\"\n",
    "        \n",
    "    ret = None\n",
    "    \n",
    "    if a > b:\n",
    "        ret = a - b\n",
    "    else:\n",
    "        ret = b - a\n",
    "        \n",
    "    return ret"
   ]
  },
  {
   "cell_type": "code",
   "execution_count": 101,
   "metadata": {},
   "outputs": [
    {
     "data": {
      "text/plain": [
       "1"
      ]
     },
     "execution_count": 101,
     "metadata": {},
     "output_type": "execute_result"
    }
   ],
   "source": [
    "odejmij_od_wiekszej(3, 4)"
   ]
  },
  {
   "cell_type": "code",
   "execution_count": 102,
   "metadata": {},
   "outputs": [
    {
     "ename": "AssertionError",
     "evalue": "b powinno byc INT lub FLOAT",
     "output_type": "error",
     "traceback": [
      "\u001b[0;31m---------------------------------------------------------------------------\u001b[0m",
      "\u001b[0;31mAssertionError\u001b[0m                            Traceback (most recent call last)",
      "\u001b[0;32m<ipython-input-102-6363dbbe28d5>\u001b[0m in \u001b[0;36m<module>\u001b[0;34m\u001b[0m\n\u001b[0;32m----> 1\u001b[0;31m \u001b[0modejmij_od_wiekszej\u001b[0m\u001b[0;34m(\u001b[0m\u001b[0;36m3\u001b[0m\u001b[0;34m,\u001b[0m \u001b[0;34m\"4\"\u001b[0m\u001b[0;34m)\u001b[0m\u001b[0;34m\u001b[0m\u001b[0;34m\u001b[0m\u001b[0m\n\u001b[0m",
      "\u001b[0;32m<ipython-input-100-efff83d6fe7c>\u001b[0m in \u001b[0;36modejmij_od_wiekszej\u001b[0;34m(a, b)\u001b[0m\n\u001b[1;32m     10\u001b[0m \u001b[0;34m\u001b[0m\u001b[0m\n\u001b[1;32m     11\u001b[0m     \u001b[0;32massert\u001b[0m \u001b[0misinstance\u001b[0m\u001b[0;34m(\u001b[0m\u001b[0ma\u001b[0m\u001b[0;34m,\u001b[0m \u001b[0;34m(\u001b[0m\u001b[0mint\u001b[0m\u001b[0;34m,\u001b[0m \u001b[0mfloat\u001b[0m\u001b[0;34m)\u001b[0m\u001b[0;34m)\u001b[0m\u001b[0;34m,\u001b[0m \u001b[0;34m\"a powinno byc INT lub FLOAT\"\u001b[0m\u001b[0;34m\u001b[0m\u001b[0;34m\u001b[0m\u001b[0m\n\u001b[0;32m---> 12\u001b[0;31m     \u001b[0;32massert\u001b[0m \u001b[0misinstance\u001b[0m\u001b[0;34m(\u001b[0m\u001b[0mb\u001b[0m\u001b[0;34m,\u001b[0m \u001b[0;34m(\u001b[0m\u001b[0mint\u001b[0m\u001b[0;34m,\u001b[0m \u001b[0mfloat\u001b[0m\u001b[0;34m)\u001b[0m\u001b[0;34m)\u001b[0m\u001b[0;34m,\u001b[0m \u001b[0;34m\"b powinno byc INT lub FLOAT\"\u001b[0m\u001b[0;34m\u001b[0m\u001b[0;34m\u001b[0m\u001b[0m\n\u001b[0m\u001b[1;32m     13\u001b[0m \u001b[0;34m\u001b[0m\u001b[0m\n\u001b[1;32m     14\u001b[0m     \u001b[0mret\u001b[0m \u001b[0;34m=\u001b[0m \u001b[0;32mNone\u001b[0m\u001b[0;34m\u001b[0m\u001b[0;34m\u001b[0m\u001b[0m\n",
      "\u001b[0;31mAssertionError\u001b[0m: b powinno byc INT lub FLOAT"
     ]
    }
   ],
   "source": [
    "odejmij_od_wiekszej(3, \"4\")"
   ]
  },
  {
   "cell_type": "code",
   "execution_count": null,
   "metadata": {},
   "outputs": [],
   "source": []
  }
 ],
 "metadata": {
  "kernelspec": {
   "display_name": "Python 3",
   "language": "python",
   "name": "python3"
  },
  "language_info": {
   "codemirror_mode": {
    "name": "ipython",
    "version": 3
   },
   "file_extension": ".py",
   "mimetype": "text/x-python",
   "name": "python",
   "nbconvert_exporter": "python",
   "pygments_lexer": "ipython3",
   "version": "3.7.3"
  }
 },
 "nbformat": 4,
 "nbformat_minor": 2
}
