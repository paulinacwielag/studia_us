{
 "cells": [
  {
   "cell_type": "markdown",
   "metadata": {},
   "source": [
    "# PP, G1, lab 08\n",
    "## Słowniki / `dict`"
   ]
  },
  {
   "cell_type": "code",
   "execution_count": 1,
   "metadata": {},
   "outputs": [
    {
     "data": {
      "text/plain": [
       "({}, {})"
      ]
     },
     "execution_count": 1,
     "metadata": {},
     "output_type": "execute_result"
    }
   ],
   "source": [
    "d1 = {}\n",
    "d2 = dict()\n",
    "d1, d2"
   ]
  },
  {
   "cell_type": "code",
   "execution_count": 13,
   "metadata": {},
   "outputs": [
    {
     "data": {
      "text/plain": [
       "{10: -10, 9: -9, 8: -8}"
      ]
     },
     "execution_count": 13,
     "metadata": {},
     "output_type": "execute_result"
    }
   ],
   "source": [
    "d3 = {10: -10, \n",
    "      9: -9, \n",
    "      8: -8}\n",
    "d3"
   ]
  },
  {
   "cell_type": "code",
   "execution_count": 14,
   "metadata": {},
   "outputs": [],
   "source": [
    "d3[7] = -7"
   ]
  },
  {
   "cell_type": "code",
   "execution_count": 15,
   "metadata": {},
   "outputs": [
    {
     "data": {
      "text/plain": [
       "{10: -10, 9: -9, 8: -8, 7: -7}"
      ]
     },
     "execution_count": 15,
     "metadata": {},
     "output_type": "execute_result"
    }
   ],
   "source": [
    "d3"
   ]
  },
  {
   "cell_type": "markdown",
   "metadata": {},
   "source": [
    "### Zad. L08.1 [10 min]\n",
    "Skonstruuj słownik o rozsądnej nazwie zawierający jako klucze nazwiska wszystkich uczestników zajęć. Jako wartość podaj\n",
    "1. nr albumu (8 cyfr)\n",
    "* rok urodzenia\n",
    "* rozmiar buta\n",
    "* wzrost\n",
    "* IQ\n",
    "* miejsce zamieszkania\n",
    "* ulubiony kolor\n",
    "* średnią ocen ze szkoły średniej\n",
    "* ulubioną książkę\n",
    "\n",
    "Zadania wg numeracji:\n",
    "Weronika,\n",
    "Aleksandra,\n",
    "Paulina,\n",
    "Marcin,\n",
    "Igor,\n",
    "Taisja,\n",
    "Bartosz,\n",
    "Marek,\n",
    "Joanna,\n",
    "\n",
    "*Oczywiście nic z powyższego nie musi być prawdą...*"
   ]
  },
  {
   "cell_type": "code",
   "execution_count": 1,
   "metadata": {},
   "outputs": [],
   "source": [
    "# Igor\n",
    "studenci_iq = {\n",
    "            \"Cwielag\": 135,\n",
    "            \"Dworak\": 135,\n",
    "            \"Fraczkiewicz\": 134,\n",
    "            \"Gorbaszewicz\": 139,\n",
    "            \"Grymel\": 138,\n",
    "            \"Hajduczek\": 130,\n",
    "            \"Herman\": 135,\n",
    "            \"Jargiło\": 137,\n",
    "            \"Juraszek\": 135,\n",
    "            \"Konowalow\": 136,\n",
    "            \"Kowalik\": 138,\n",
    "            \"Nowrotek\": 136,\n",
    "            \"Lisowski\": 135\n",
    "            }"
   ]
  },
  {
   "cell_type": "code",
   "execution_count": 2,
   "metadata": {},
   "outputs": [],
   "source": [
    "# Marek\n",
    "srednia = {\n",
    "    \"Gorbaszewicz\" : 4.0,\n",
    "    \"Kowalik\" : 3.9,\n",
    "    \"Juraszek\" : 4.2,\n",
    "    \"Nowrotek\" : 4.3,\n",
    "    \"Jargillo\" : 3.7,\n",
    "    \"Grymel\" : 3.1,\n",
    "    \"Konowalow\" : 5.2,\n",
    "    \"Fraczkiewicz\" : 5.4,\n",
    "    \"Lisowski\" : 4.0,\n",
    "    \"Hajduczek\" : 2.9,\n",
    "    \"Dworak\" : 2.6,\n",
    "    \"Herman\" : 4.9,\n",
    "    \"Cwielag\" : 4.7,\n",
    "}"
   ]
  },
  {
   "cell_type": "code",
   "execution_count": 60,
   "metadata": {},
   "outputs": [],
   "source": [
    "# Bartek\n",
    "kolory = {'Paulina': 'turkusowy',\n",
    "         'Weronika': 'fioletowy',\n",
    "         'Aleksandra': 'żółty',\n",
    "         'Joanna': 'biały',\n",
    "         'Marcin': 'czerwony',\n",
    "         'Igor': 'błękitny',\n",
    "         'Taja': 'zielony',\n",
    "         'Bartosz': 'pomarańczowy',\n",
    "         'Marek': 'niebieski',}"
   ]
  },
  {
   "cell_type": "code",
   "execution_count": 69,
   "metadata": {},
   "outputs": [],
   "source": [
    "# Aleksandra\n",
    "data_urodzenia = {\"Cwielag\": \"04.06.2001\", \n",
    "                  \"Dworak\": \"05.11.2000\", \n",
    "                  \"Fraczkiewicz\": \"12.07.2001\", \n",
    "                  \"Gorbaszewicz\": \"08.05.2000\", \n",
    "                  \"Grymel\": \"17.11.2001\", \n",
    "                  \"Hajduczek\": \"26.03.2001\", \n",
    "                  \"Herman\": \"08.08.2001\", \n",
    "                  \"Jargilo\": \"14.05.2000\", \n",
    "                  \"Juraszek\": \"27.09.2000\", \n",
    "                  \"Konowalow\": \"01.01.2001\", \n",
    "                  \"Kowalik\": \"18.10.2001\", \n",
    "                  \"Nowrotek\": \"12.12.2000\", \n",
    "                  \"Lisowski\": \"09.04.2001\"}"
   ]
  },
  {
   "cell_type": "code",
   "execution_count": 6,
   "metadata": {},
   "outputs": [],
   "source": [
    "# Marcin\n",
    "studenci_wzrost = {'nazwisko1': 180, 'nazwisko2': 179, 'nazwisko3': 175, \n",
    "                   'nazwisko4': 184, 'nazwisko5': 171, \n",
    "                   'nazwisko6': 177, 'nazwisko7': 173, \n",
    "                   'nazwisko8': 182, 'nazwisko9': 186}"
   ]
  },
  {
   "cell_type": "code",
   "execution_count": 7,
   "metadata": {},
   "outputs": [],
   "source": [
    "# Weronika\n",
    "nr_albumu = {\"Frączkiewicz\": 73843756, \"Gorbaszewicz\": 92653847, \n",
    "             \"Kowalik\": 83549725, \"Juraszek\": 82549756, \n",
    "             \"Nowrotek\": 81438675, \"Jargiło\": 14359786, \n",
    "             \"Lisowski\": 82538564, \"Grymel\": 73428574, \n",
    "             \"Konowałow\": 71926475, \"Dworak\": 72549675, \n",
    "             \"Herman\": 73546254, \"Hajduczek\": 82536957, \n",
    "             \"Cwielag\": 72549576}"
   ]
  },
  {
   "cell_type": "code",
   "execution_count": 8,
   "metadata": {},
   "outputs": [],
   "source": [
    "# Joanna\n",
    "fav_book = {\"Fraczkiewicz\": \"Ferdydurke\", \n",
    "         \"Gorbaszewicz\": \"Wesele\", \n",
    "         \"Grymel\": \"Lalka\", \n",
    "         \"Jargilo\": \"Tango\", \n",
    "         \"Juraszek\": \"W Pustyni i w Puszczy\", \n",
    "         \"Konowalow\": \"Kubuś Puchatek\", \n",
    "         \"Kowalik\": \"Król Maciuś\", \n",
    "         \"Lisowski\": \"Mały Ksiązę\", \n",
    "         \"Nowrotek\": \"Obcy\"}"
   ]
  },
  {
   "cell_type": "code",
   "execution_count": 10,
   "metadata": {},
   "outputs": [],
   "source": [
    "# Paulina\n",
    "lista_uczestnikow = {\"Weronika\": 36,\n",
    "                     \"Aleksandra\": 40,\n",
    "                     \"Paulina\": 38,\n",
    "                     \"Marcin\": 44,\n",
    "                     \"Igor\": 46,\n",
    "                     \"Taisja\": 38,\n",
    "                     \"Bartosz\": 45,\n",
    "                     \"Marek\": 48,\n",
    "                     \"Joanna\": 38}"
   ]
  },
  {
   "cell_type": "code",
   "execution_count": 12,
   "metadata": {},
   "outputs": [],
   "source": [
    "# Taisja\n",
    "miejsce = {\"Fraczkiewicz\": \"Fiolokowa 12/4\", \n",
    "           \"Gorbaszewicz\": \"Graficzna 30/5A\", \n",
    "           \"Grymel\": \"Sosnowa 9E/1\",\n",
    "           \"Jargilo\": \"Jesienna 30/36\",\n",
    "           \"Juraszek\": \"Programistyczna 20/9\",\n",
    "           \"Konowalow\": \"Zaspana 100/200\",\n",
    "           \"Kowalik\": \"Pomocna 30A/7\",\n",
    "           \"Lisowski\": \"Lesna 21/16\",\n",
    "           \"Nawrotek\": \"Imprezowa 3/20E\"}"
   ]
  },
  {
   "cell_type": "code",
   "execution_count": 16,
   "metadata": {},
   "outputs": [
    {
     "data": {
      "text/plain": [
       "{10: -10, 9: -9, 8: -8, 7: -7}"
      ]
     },
     "execution_count": 16,
     "metadata": {},
     "output_type": "execute_result"
    }
   ],
   "source": [
    "d3"
   ]
  },
  {
   "cell_type": "code",
   "execution_count": 18,
   "metadata": {},
   "outputs": [],
   "source": [
    "# zmiana wartosci dla danego klucza\n",
    "d3[8] = -88"
   ]
  },
  {
   "cell_type": "code",
   "execution_count": 19,
   "metadata": {},
   "outputs": [
    {
     "data": {
      "text/plain": [
       "{10: -10, 9: -9, 8: -88, 7: -7}"
      ]
     },
     "execution_count": 19,
     "metadata": {},
     "output_type": "execute_result"
    }
   ],
   "source": [
    "d3"
   ]
  },
  {
   "cell_type": "code",
   "execution_count": 22,
   "metadata": {},
   "outputs": [
    {
     "data": {
      "text/plain": [
       "-88"
      ]
     },
     "execution_count": 22,
     "metadata": {},
     "output_type": "execute_result"
    }
   ],
   "source": [
    "# \"zmiana\" klucza\n",
    "# aby wymienić parę 8: -88, na 88: -88\n",
    "# 1. usuń (8: -88)\n",
    "# 2. wstaw (88: -88)\n",
    "d3.pop(8)"
   ]
  },
  {
   "cell_type": "code",
   "execution_count": 23,
   "metadata": {},
   "outputs": [],
   "source": [
    "d3[88] = -88"
   ]
  },
  {
   "cell_type": "code",
   "execution_count": 24,
   "metadata": {},
   "outputs": [
    {
     "data": {
      "text/plain": [
       "{10: -10, 9: -9, 7: -7, 88: -88}"
      ]
     },
     "execution_count": 24,
     "metadata": {},
     "output_type": "execute_result"
    }
   ],
   "source": [
    "d3"
   ]
  },
  {
   "cell_type": "code",
   "execution_count": 42,
   "metadata": {},
   "outputs": [
    {
     "data": {
      "text/plain": [
       "(-88, -88, -88, 'n/a')"
      ]
     },
     "execution_count": 42,
     "metadata": {},
     "output_type": "execute_result"
    }
   ],
   "source": [
    "# odwołanie do wartości\n",
    "d3[88], d3.get(88), d3.get(88, 'na'), d3.get(108, \"n/a\")"
   ]
  },
  {
   "cell_type": "markdown",
   "metadata": {},
   "source": [
    "### Zad. L07.2\n",
    "Zmodyfikuj poprzedni słownik za pomocą interfejsu `d[key] = value`. Użyj pętli i warunków.\n",
    "\n",
    "1. nr albumu: jeżeli nr albumu kończy się na cyfrę parzystą podmień 4 ostatnie cyfry na \"M\", jeżeli nieparzystą na \"K\"\n",
    "* rok urodzenia: dodaj informację czy rok jest przestępny czy nie\n",
    "* rozmiar buta: zmień na krotkę `(cm, cale, numerację UK, numeracja EU)`\n",
    "* wzrost: zamiast liczb użyj [klasyfikacji wzrostu wg Michalskiego](https://antropologia-fizyczna.pl/antropometria/somatometria/wzrost)\n",
    "* IQ: zmień na [interpretację](https://pl.wikipedia.org/wiki/Iloraz_inteligencji#Skala_ilorazu_inteligencji_i_interpretacja_warto%C5%9Bci_IQ)\n",
    "* miejsce zamieszkania: dodaj liczbę mieszkańców i województwo\n",
    "* ulubiony kolor: dodaj [długość fali i częstotliwość](https://pl.wikipedia.org/wiki/Barwy_proste)\n",
    "* średnią ocen ze szkoły średniej: zmień na opisową (niedostateczny, mierny, dostateczny, dobry, bardzo dobry, celujący)\n",
    "* ulubioną książkę: dodaj imię i nazwisko autora - jeżeli imię kończy sie na 'a' to dodaj literkę 'F' jeżeli nie to dodaj 'M'\n",
    "\n",
    "Powyższe numery po kolei: Aleksandra, Paulina, Marcin, Igor, Taisja, Bartosz, Marek, Joanna, Weronika"
   ]
  },
  {
   "cell_type": "code",
   "execution_count": 45,
   "metadata": {},
   "outputs": [],
   "source": [
    "# {'Machura': 12345678} -> {'Machura': '1234M'}\n",
    "# {'Machura': 1944} -> {'Machura': '1944 przestepny'}\n",
    "# {'Machura': 43} -> {'Machura': (27, 10.6, 9, 43)}\n",
    "# {\"Fraczkiewicz\": \"Ferdydurke\"} -> {\"Fraczkiewicz\": (\"Ferdydurke\", \"Witold\", \"Gombrowicz\", \"M\")}\n",
    "#                               -> {\"Fraczkiewicz\": \"Ferdydurke, Witold Gombrowicz M\")}"
   ]
  },
  {
   "cell_type": "code",
   "execution_count": 47,
   "metadata": {},
   "outputs": [
    {
     "name": "stdout",
     "output_type": "stream",
     "text": [
      "Cwielag: 135\n",
      "Dworak: 135\n",
      "Fraczkiewicz: 134\n",
      "Gorbaszewicz: 139\n",
      "Grymel: 138\n",
      "Hajduczek: 130\n",
      "Herman: 135\n",
      "Jargiło: 137\n",
      "Juraszek: 92\n",
      "Konowalow: 136\n",
      "Kowalik: 138\n",
      "Nowrotek: 136\n",
      "Lisowski: 135\n",
      "Cwielag: Inteligencja bardzo wysoka\n",
      "Dworak: Inteligencja bardzo wysoka\n",
      "Fraczkiewicz: Inteligencja bardzo wysoka\n",
      "Gorbaszewicz: Inteligencja bardzo wysoka\n",
      "Grymel: Inteligencja bardzo wysoka\n",
      "Hajduczek: Inteligencja bardzo wysoka\n",
      "Herman: Inteligencja bardzo wysoka\n",
      "Jargiło: Inteligencja bardzo wysoka\n",
      "Juraszek: Inteligencja przeciętna\n",
      "Konowalow: Inteligencja bardzo wysoka\n",
      "Kowalik: Inteligencja bardzo wysoka\n",
      "Nowrotek: Inteligencja bardzo wysoka\n",
      "Lisowski: Inteligencja bardzo wysoka\n"
     ]
    }
   ],
   "source": [
    "# Igor\n",
    "studenci_iq = {\n",
    "            \"Cwielag\": 135,\n",
    "            \"Dworak\": 135,\n",
    "            \"Fraczkiewicz\": 134,\n",
    "            \"Gorbaszewicz\": 139,\n",
    "            \"Grymel\": 138,\n",
    "            \"Hajduczek\": 130,\n",
    "            \"Herman\": 135,\n",
    "            \"Jargiło\": 137,\n",
    "            \"Juraszek\": 92,\n",
    "            \"Konowalow\": 136,\n",
    "            \"Kowalik\": 138,\n",
    "            \"Nowrotek\": 136,\n",
    "            \"Lisowski\": 135\n",
    "            }\n",
    "for element in studenci_iq:\n",
    "    print(f\"{element}: {studenci_iq[element]}\")\n",
    "\n",
    "for element in studenci_iq:\n",
    "    if (studenci_iq[element] >= 130):\n",
    "        studenci_iq[element] = \"Inteligencja bardzo wysoka\"\n",
    "    elif (studenci_iq[element] >= 120 and studenci_iq[element] < 130):\n",
    "        studenci_iq[element] = \"Inteligencja wysoka\"\n",
    "    elif (studenci_iq[element] >= 110 and studenci_iq[element] < 120):\n",
    "        studenci_iq[element] = \"Inteligencja powyżej przeciętnej\"\n",
    "    elif (studenci_iq[element] >= 90 and studenci_iq[element] < 110):\n",
    "        studenci_iq[element] = \"Inteligencja przeciętna\"\n",
    "    elif (studenci_iq[element] >= 70 and studenci_iq[element] < 90):\n",
    "        studenci_iq[element] = \"Inteligencja niższa niż przeciętna\"\n",
    "    else:\n",
    "        studenci_iq[element] = \"Upośledzenie umysłowe\"\n",
    "\n",
    "for element in studenci_iq:\n",
    "    print(f\"{element}: {studenci_iq[element]}\")"
   ]
  },
  {
   "cell_type": "code",
   "execution_count": 81,
   "metadata": {},
   "outputs": [],
   "source": [
    "# Bartosz\n",
    "# dodaj liczbę mieszkańców i wojejództwo\n",
    "studia = {\"Fraczkiewicz\": \"Będzin, Fiolokowa 12/4\", \n",
    "           \"Gorbaszewicz\": \"Katowice, Graficzna 30/5A\", \n",
    "           \"Grymel\": \"Gliwice, Sosnowa 9E/1\",\n",
    "           \"Jargilo\": \"Grudziądz, Jesienna 30/36\",\n",
    "           \"Juraszek\": \"Poznań, Programistyczna 20/9\",\n",
    "           \"Konowałow\": \"Lublin, Zaspana 100/200\",\n",
    "           \"Kowalik\": \"Pomocna 30A/7\",\n",
    "           \"Lisowski\": \"Lesna 21/16\",\n",
    "           \"Nawrotek\": \"Imprezowa 3/20E\"}\n",
    " \n",
    "lista_wojewodztw = {'Sosnowa': 'dolnośląskie',\n",
    "                   'kujawsko-pomorskie': '2077775',\n",
    "                   'lubelskie': '2117619',\n",
    "                   'lubuskie': '1014548',\n",
    "                   'łódzkie': '2466322',\n",
    "                   'małopolskie': '3400577',\n",
    "                    'mazowieckie': '5403412',\n",
    "                    'opolskie': '986506',\n",
    "                    'podkarpackie': '2129015'}\n",
    " \n",
    "for a, b in studia.items():\n",
    "    pass\n",
    "   #if\n",
    "\n",
    "#         print(studia)"
   ]
  },
  {
   "cell_type": "code",
   "execution_count": 74,
   "metadata": {},
   "outputs": [
    {
     "name": "stdout",
     "output_type": "stream",
     "text": [
      "{'Gorbaszewicz': 'ocena dobra', 'Kowalik': 'ocena dostateczna', 'Juraszek': 'ocena dobra', 'Nowrotek': 'ocena dobra', 'Jargillo': 'ocena dostateczna', 'Grymel': 'ocena dostateczna', 'Konowalow': 'ocena bardzo dobra', 'Fraczkiewicz': 'ocena bardzo dobra', 'Lisowski': 'ocena dobra', 'Hajduczek': 'ocena bardzo dobra', 'Dworak': 'ocena dopuszczajaca', 'Herman': 'ocena dobra', 'Cwielag': 'ocena dobra'}\n"
     ]
    }
   ],
   "source": [
    "# Joanna\n",
    "srednia = {\n",
    "    \"Gorbaszewicz\" : 4.0,\n",
    "    \"Kowalik\" : 3.9,\n",
    "    \"Juraszek\" : 4.2,\n",
    "    \"Nowrotek\" : 4.3,\n",
    "    \"Jargillo\" : 3.7,\n",
    "    \"Grymel\" : 3.1,\n",
    "    \"Konowalow\" : 5.2,\n",
    "    \"Fraczkiewicz\" : 5.4,\n",
    "    \"Lisowski\" : 4.0,\n",
    "    \"Hajduczek\" : 5.9,\n",
    "    \"Dworak\" : 2.6,\n",
    "    \"Herman\" : 4.9,\n",
    "    \"Cwielag\" : 4.7,\n",
    "}\n",
    "# print(srednia)\n",
    "\n",
    "for element in srednia:\n",
    "    if (srednia[element] == 6):\n",
    "        srednia[element] = \"ocena celująca\"\n",
    "    elif (srednia[element] < 6 and srednia[element] >= 5):\n",
    "        srednia[element] = \"ocena bardzo dobra\"\n",
    "    elif (srednia[element] < 5 and srednia[element] >= 4):\n",
    "        srednia[element] = \"ocena dobra\"\n",
    "    elif (srednia[element] < 4 and srednia[element] >= 3):\n",
    "        srednia[element] = \"ocena dostateczna\"\n",
    "    elif (srednia[element] <3 and srednia[element] >= 2):\n",
    "        srednia[element] = \"ocena dopuszczajaca\"\n",
    "    elif (srednia[element] < 2 and srednia[element] >= 1):\n",
    "        srednia[element] = \"ocena niedostateczna\"\n",
    "\n",
    "print(srednia)"
   ]
  },
  {
   "cell_type": "code",
   "execution_count": 73,
   "metadata": {},
   "outputs": [
    {
     "data": {
      "text/plain": [
       "{'Paulina': 'turkusowy: brak danych',\n",
       " 'Weronika': 'fioletowy: ~ 380-430 ~ 790-700',\n",
       " 'Aleksandra': 'żółty: brak danych',\n",
       " 'Joanna': 'biały: brak danych',\n",
       " 'Marcin': 'czerwony: ~ 635-770 ~ 480-405',\n",
       " 'Igor': 'błękitny: brak danych',\n",
       " 'Taja': 'zielony: ~ 520-565 ~ 580-530',\n",
       " 'Bartosz': 'pomarańczowy: brak danych',\n",
       " 'Marek': 'niebieski: ~ 450-500 ~ 670-600'}"
      ]
     },
     "execution_count": 73,
     "metadata": {},
     "output_type": "execute_result"
    }
   ],
   "source": [
    "# Marek \n",
    "kolory\n",
    "\n",
    "for student in kolory:\n",
    "    if kolory[student] == \"czerwony\":\n",
    "        kolory[student] = \"czerwony: ~ 635-770 ~ 480-405\"\n",
    "    elif kolory[student] == \"pomaranczowy\":\n",
    "        kolory[student] = \"pomaranczowy: ~ 590-635 ~ 510-480\"\n",
    "    elif kolory[student] == \"zolty\":\n",
    "        kolory[student] = \"zolty: ~ 565-590 ~ 530-510\"\n",
    "    elif kolory[student] == \"zielony\":\n",
    "        kolory[student] = \"zielony: ~ 520-565 ~ 580-530\"\n",
    "    elif kolory[student] == \"cyjan\":\n",
    "        kolory[student] = \"cyjan: ~ 500-520 ~ 600-580\"\n",
    "    elif kolory[student] == \"niebieski\":\n",
    "        kolory[student] = \"niebieski: ~ 450-500 ~ 670-600\"\n",
    "    elif kolory[student] == \"indygo\":\n",
    "        kolory[student] = \"indygo: ~ 430-450 ~ 700-670\"\n",
    "    elif kolory[student] == \"fioletowy\":\n",
    "        kolory[student] = \"fioletowy: ~ 380-430 ~ 790-700\"\n",
    "    else:\n",
    "        kolory[student] = kolory[student] + \": brak danych\"\n",
    "        \n",
    "kolory"
   ]
  },
  {
   "cell_type": "code",
   "execution_count": 67,
   "metadata": {},
   "outputs": [
    {
     "data": {
      "text/plain": [
       "{'Weronika': (22, 22, 3, 36),\n",
       " 'Aleksandra': ('na', 'na', 'na', 40),\n",
       " 'Paulina': ('na', 'na', 5, 38),\n",
       " 'Marcin': ('na', 'na', 'na', 44),\n",
       " 'Igor': ('na', 'na', 'na', 46),\n",
       " 'Taisja': ('na', 'na', 5, 38),\n",
       " 'Bartosz': ('na', 'na', 'na', 45),\n",
       " 'Marek': ('na', 'na', 'na', 48),\n",
       " 'Joanna': ('na', 'na', 5, 38),\n",
       " 'Lukasz': ('na', 'na', 'na', 42)}"
      ]
     },
     "execution_count": 67,
     "metadata": {},
     "output_type": "execute_result"
    }
   ],
   "source": [
    "# Marcin\n",
    "lista_uczestnikow = {\"Weronika\": 36,\n",
    "                     \"Aleksandra\": 40,\n",
    "                     \"Paulina\": 38,\n",
    "                     \"Marcin\": 44,\n",
    "                     \"Igor\": 46,\n",
    "                     \"Taisja\": 38,\n",
    "                     \"Bartosz\": 45,\n",
    "                     \"Marek\": 48,\n",
    "                     \"Joanna\": 38,\n",
    "                     \"Lukasz\": 42}\n",
    "\n",
    "nr_eu_cm = {36: 22, 37: 22.5, }\n",
    "nr_eu_uk = {36: 3, 37: 4, 38: 5, }\n",
    "\n",
    "for element in lista_uczestnikow:\n",
    "    nr_eu = lista_uczestnikow[element]\n",
    "    lista_uczestnikow[element] = (nr_eu_cm.get(nr_eu, \"na\"), \n",
    "                                  nr_eu_cm.get(nr_eu, \"na\") * 1, \n",
    "                                  nr_eu_uk.get(nr_eu, \"na\"), \n",
    "                                  nr_eu)\n",
    "        \n",
    "lista_uczestnikow"
   ]
  },
  {
   "cell_type": "code",
   "execution_count": 72,
   "metadata": {},
   "outputs": [],
   "source": [
    "# Paulina\n",
    "# rok przestępny\n",
    "# jest podzielna przez 4 i niepodzielna przez 100 lub\n",
    "# jest podzielna przez 400\n",
    "\n",
    "for element in data_urodzenia:\n",
    "    pass\n",
    "#     if (rok_urodzenia[element] == 2000):\n",
    "#         rok_urodzenia[element] = (\"2000, rok przestepny\")\n",
    "#     elif (rok_urodzenia[element]) == 2001:\n",
    "#         rok_urodzenia = (\"2001, rok nieprzestepny\")\n",
    "# print(rok_urodzenia)"
   ]
  },
  {
   "cell_type": "code",
   "execution_count": 83,
   "metadata": {},
   "outputs": [
    {
     "name": "stdout",
     "output_type": "stream",
     "text": [
      "Cwielag: 180\n",
      "Dworak: 179\n",
      "Fraczkiewicz: 175\n",
      "Gorbaszewicz: 184\n",
      "Grymel: 171\n",
      "Hajduczek: 177\n",
      "Jargiło: 173\n",
      "Juraszek: 182\n",
      "Konowalow: 186\n"
     ]
    },
    {
     "data": {
      "text/plain": [
       "{'Cwielag': 'Wzrost bardzo wysoki',\n",
       " 'Dworak': 'Wzrost wysoki',\n",
       " 'Fraczkiewicz': 'Wzrost wysoki',\n",
       " 'Gorbaszewicz': 'Wzrost bardzo wysoki',\n",
       " 'Grymel': 'Wzrost wysoki',\n",
       " 'Hajduczek': 'Wzrost wysoki',\n",
       " 'Jargiło': 'Wzrost wysoki',\n",
       " 'Juraszek': 'Wzrost bardzo wysoki',\n",
       " 'Konowalow': 'Wzrost bardzo wysoki'}"
      ]
     },
     "execution_count": 83,
     "metadata": {},
     "output_type": "execute_result"
    }
   ],
   "source": [
    "# Taisja\n",
    "studenci_wzrost = {\"Cwielag\": 180, \n",
    "                   \"Dworak\": 179, \n",
    "                   \"Fraczkiewicz\": 175, \n",
    "                   \"Gorbaszewicz\": 184, \n",
    "                   \"Grymel\": 171, \n",
    "                   \"Hajduczek\": 177, \n",
    "                   \"Jargiło\": 173, \n",
    "                   \"Juraszek\": 182, \n",
    "                   \"Konowalow\": 186}\n",
    "\n",
    "for value in studenci_wzrost:\n",
    "    print(f\"{value}: {studenci_wzrost[value]}\")\n",
    "\n",
    "for value in studenci_wzrost:\n",
    "    if (studenci_wzrost[value] >= 200):\n",
    "        studenci_wzrost[value] = \"Wzrost olbrzymi\"\n",
    "    elif (studenci_wzrost[value] >= 180 and studenci_wzrost[value] <= 199):\n",
    "        studenci_wzrost[value] = \"Wzrost bardzo wysoki\"\n",
    "    elif (studenci_wzrost[value] >= 170 and studenci_wzrost[value] <= 179):\n",
    "        studenci_wzrost[value] = \"Wzrost wysoki\"\n",
    "    elif (studenci_wzrost[value] >= 167 and studenci_wzrost[value] <= 169):\n",
    "        studenci_wzrost[value] = \"Wzrost ponad średni\"\n",
    "    elif (studenci_wzrost[value] >= 164 and studenci_wzrost[value] <= 166):\n",
    "        studenci_wzrost[value] = \"Wzrost średni\"\n",
    "    else:\n",
    "        studenci_wzrost[value] = \"Poniżej średniego, niski lub bardzo niski\"\n",
    "    \n",
    "studenci_wzrost"
   ]
  },
  {
   "cell_type": "code",
   "execution_count": 88,
   "metadata": {},
   "outputs": [
    {
     "data": {
      "text/plain": [
       "{'Frączkiewicz': ('Frąc', 'M'),\n",
       " 'Gorbaszewicz': ('Gorb', 'F'),\n",
       " 'Kowalik': ('Kowa', 'F'),\n",
       " 'Juraszek': ('Jura', 'M'),\n",
       " 'Nowrotek': ('Nowr', 'F'),\n",
       " 'Jargiło': ('Jarg', 'M'),\n",
       " 'Lisowski': ('Liso', 'M'),\n",
       " 'Grymel': ('Grym', 'M'),\n",
       " 'Konowałow': ('Kono', 'F'),\n",
       " 'Dworak': ('Dwor', 'F'),\n",
       " 'Herman': ('Herm', 'M'),\n",
       " 'Hajduczek': ('Hajd', 'F'),\n",
       " 'Cwielag': ('Cwie', 'M')}"
      ]
     },
     "execution_count": 88,
     "metadata": {},
     "output_type": "execute_result"
    }
   ],
   "source": [
    "# Aleksandra \n",
    "nr_albumu = {\"Frączkiewicz\": 73843756, \n",
    "             \"Gorbaszewicz\": 92653847, \n",
    "             \"Kowalik\": 83549725, \n",
    "             \"Juraszek\": 82549756, \n",
    "             \"Nowrotek\": 81438675, \n",
    "             \"Jargiło\": 14359786, \n",
    "             \"Lisowski\": 82538564, \n",
    "             \"Grymel\": 73428574, \n",
    "             \"Konowałow\": 71926475, \n",
    "             \"Dworak\": 72549675, \n",
    "             \"Herman\": 73546254, \n",
    "             \"Hajduczek\": 82536957, \n",
    "             \"Cwielag\": 72549576}\n",
    " \n",
    "for klucz in nr_albumu:\n",
    "    if nr_albumu[klucz] % 2 == 0:\n",
    "        nr_albumu[klucz] = klucz[0:4], \"M\"\n",
    "    else:\n",
    "        nr_albumu[klucz] = klucz[0:4], \"F\"\n",
    "        \n",
    "nr_albumu"
   ]
  },
  {
   "cell_type": "code",
   "execution_count": 89,
   "metadata": {},
   "outputs": [],
   "source": [
    "# nr_albumu[\"Herman\"]"
   ]
  },
  {
   "cell_type": "code",
   "execution_count": null,
   "metadata": {},
   "outputs": [],
   "source": []
  },
  {
   "cell_type": "code",
   "execution_count": null,
   "metadata": {},
   "outputs": [],
   "source": []
  },
  {
   "cell_type": "code",
   "execution_count": null,
   "metadata": {},
   "outputs": [],
   "source": []
  },
  {
   "cell_type": "code",
   "execution_count": null,
   "metadata": {},
   "outputs": [],
   "source": []
  },
  {
   "cell_type": "code",
   "execution_count": null,
   "metadata": {},
   "outputs": [],
   "source": []
  }
 ],
 "metadata": {
  "kernelspec": {
   "display_name": "Python 3",
   "language": "python",
   "name": "python3"
  },
  "language_info": {
   "codemirror_mode": {
    "name": "ipython",
    "version": 3
   },
   "file_extension": ".py",
   "mimetype": "text/x-python",
   "name": "python",
   "nbconvert_exporter": "python",
   "pygments_lexer": "ipython3",
   "version": "3.7.3"
  }
 },
 "nbformat": 4,
 "nbformat_minor": 2
}
