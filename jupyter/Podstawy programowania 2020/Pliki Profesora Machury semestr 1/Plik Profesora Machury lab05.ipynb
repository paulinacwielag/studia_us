{
 "cells": [
  {
   "cell_type": "markdown",
   "metadata": {},
   "source": [
    "### Zad 1\n",
    "\n",
    "Napisz program pobierający 2 liczby od użytkownika (`input`) a nastepnie wyświetlający menu (`if`) kalkulatora (`1: +, 2: -, 3: *, 4: /, 5: //, 6: %, 7: sqrt, 8: KONIEC`), tak by użytkownik mógł wybrać co zrobic z liczbami. Wykonaj zadane obliczenia i zwróć wynik (`print`)."
   ]
  },
  {
   "cell_type": "code",
   "execution_count": 1,
   "metadata": {},
   "outputs": [
    {
     "name": "stdout",
     "output_type": "stream",
     "text": [
      "1-AAA, 2-BBB, 3-CCC, 4-KONIEC\n"
     ]
    }
   ],
   "source": [
    "print(\"1-AAA, 2-BBB, 3-CCC, 4-KONIEC\")"
   ]
  },
  {
   "cell_type": "code",
   "execution_count": null,
   "metadata": {},
   "outputs": [
    {
     "name": "stdout",
     "output_type": "stream",
     "text": [
      "Podaj liczbę 1 1\n",
      "Podaj liczbę 2 2\n"
     ]
    }
   ],
   "source": [
    "liczba1 = float(input(\"Podaj liczbę 1 \"))\n",
    "liczba2 = float(input(\"Podaj liczbę 2 \"))\n",
    "\n",
    "# tutaj programujemy\n",
    "# 1. wydrukuj menu\n",
    "# 2. pobierz liczbę z menu\n",
    "menu = input(\"Wybierz działanie: (1: +, 2: -, 3: *, 4: /, 5: //, 6: %, 7: sqrt, 8: KONIEC)\")\n",
    "\n",
    "# 3. wykonaj działanie\n",
    "\n",
    "# 4. wydrukuj wynik"
   ]
  },
  {
   "cell_type": "code",
   "execution_count": null,
   "metadata": {},
   "outputs": [],
   "source": []
  },
  {
   "cell_type": "markdown",
   "metadata": {},
   "source": [
    "# Pętla\n",
    "\n",
    "`while`, `for`\n",
    "\n",
    "```\n",
    "while WARUNEK:\n",
    "    BLOK INSTRUKCJI\n",
    "```"
   ]
  },
  {
   "cell_type": "code",
   "execution_count": 5,
   "metadata": {},
   "outputs": [
    {
     "name": "stdout",
     "output_type": "stream",
     "text": [
      "W pętli 0\n",
      "W pętli 1\n",
      "W pętli 2\n",
      "W pętli 3\n",
      "W pętli 4\n",
      "W pętli 5\n",
      "W pętli 6\n",
      "W pętli 7\n",
      "W pętli 8\n",
      "W pętli 9\n",
      "Po pętli 10\n"
     ]
    }
   ],
   "source": [
    "i = 0\n",
    "while i < 10:\n",
    "    print(\"W pętli\", i)\n",
    "    i = i + 1\n",
    "\n",
    "print(\"Po pętli\", i)"
   ]
  },
  {
   "cell_type": "markdown",
   "metadata": {},
   "source": [
    "### Zad 3\n",
    "\n",
    "G1: Aleksandra + Aleksandra + Bartosz: kwadraty liczb od 100 do 200\n",
    "\n",
    "G2: Igor + Joanna + Marcin: Pierwiastki liczb od 100 do 200\n",
    "\n",
    "G3: Marek + Paulina + Paulina + Taisja: sześciany liczb od 700 do 600"
   ]
  },
  {
   "cell_type": "code",
   "execution_count": 8,
   "metadata": {},
   "outputs": [
    {
     "data": {
      "text/plain": [
       "True"
      ]
     },
     "execution_count": 8,
     "metadata": {},
     "output_type": "execute_result"
    }
   ],
   "source": [
    "from math import sqrt\n",
    "\n",
    "2 ** 0.5 == sqrt(2)"
   ]
  },
  {
   "cell_type": "markdown",
   "metadata": {},
   "source": [
    "## Pętla while - else\n",
    "\n",
    "```\n",
    "while WARUNEK:\n",
    "    BLOK INSTRUKCJI WHILE\n",
    "else:\n",
    "    BLOK INSTRUKCJI ELSE\n",
    "```"
   ]
  },
  {
   "cell_type": "code",
   "execution_count": 14,
   "metadata": {},
   "outputs": [
    {
     "name": "stdout",
     "output_type": "stream",
     "text": [
      "W pętli 1\n",
      "W pętli 2\n",
      "W pętli 3\n",
      "W pętli 4\n",
      "W pętli 5\n",
      "W pętli 6\n",
      "W pętli 7\n",
      "W pętli 8\n",
      "W pętli 9\n",
      "W pętli 10\n",
      "Po pętli 11\n",
      "W pętli 1\n",
      "W pętli 2\n",
      "W pętli 3\n",
      "W pętli 4\n",
      "W pętli 5\n",
      "W pętli 6\n",
      "W pętli 7\n",
      "W pętli 8\n",
      "W pętli 9\n",
      "W pętli 10\n",
      "Po pętli 11\n"
     ]
    }
   ],
   "source": [
    "# kod z ELSE\n",
    "i = 1\n",
    "while i <= 10:\n",
    "    print(\"W pętli\", i)\n",
    "    i = i + 1\n",
    "else:  # w chwili gdy skonczy sie petla\n",
    "    print(\"Po pętli\", i)\n",
    "    \n",
    "    \n",
    "# kod bez ELSE    \n",
    "i = 1\n",
    "while i <= 10:\n",
    "    print(\"W pętli\", i)\n",
    "    i = i + 1\n",
    "# w chwili gdy skonczy sie petla\n",
    "print(\"Po pętli\", i)"
   ]
  },
  {
   "cell_type": "code",
   "execution_count": 15,
   "metadata": {},
   "outputs": [
    {
     "name": "stdout",
     "output_type": "stream",
     "text": [
      "W pętli 1\n"
     ]
    }
   ],
   "source": [
    "# kod z ELSE\n",
    "i = 1\n",
    "while i <= 10:\n",
    "    print(\"W pętli\", i)\n",
    "    i = i + 1\n",
    "    break\n",
    "else:  # dopoki warunek z while == True\n",
    "    print(\"Po pętli\", i)"
   ]
  },
  {
   "cell_type": "code",
   "execution_count": 17,
   "metadata": {},
   "outputs": [
    {
     "name": "stdout",
     "output_type": "stream",
     "text": [
      "W pętli 1\n",
      "Po pętli 2\n"
     ]
    }
   ],
   "source": [
    "i = 1\n",
    "while i <= 10:\n",
    "    print(\"W pętli\", i)\n",
    "    i = i + 1\n",
    "    break\n",
    "    \n",
    "# w chwili gdy skonczy sie petla\n",
    "print(\"Po pętli\", i)"
   ]
  },
  {
   "cell_type": "markdown",
   "metadata": {},
   "source": [
    "...w innych językach programowania\n",
    "\n",
    "```\n",
    "do:\n",
    "    BLOK DO_WHILE\n",
    "while WARUNEK\n",
    "```"
   ]
  },
  {
   "cell_type": "code",
   "execution_count": 10,
   "metadata": {},
   "outputs": [
    {
     "name": "stdout",
     "output_type": "stream",
     "text": [
      "100\n",
      "101\n"
     ]
    }
   ],
   "source": [
    "import time\n",
    "\n",
    "print(100)\n",
    "time.sleep(1)\n",
    "print(101)"
   ]
  },
  {
   "cell_type": "code",
   "execution_count": 11,
   "metadata": {},
   "outputs": [
    {
     "name": "stdout",
     "output_type": "stream",
     "text": [
      "1\n",
      "60\n"
     ]
    }
   ],
   "source": []
  },
  {
   "cell_type": "code",
   "execution_count": 14,
   "metadata": {},
   "outputs": [
    {
     "name": "stdout",
     "output_type": "stream",
     "text": [
      "1\n",
      "2\n",
      "3\n",
      "4\n",
      "5\n",
      "6\n",
      "7\n",
      "8\n",
      "9\n",
      "10\n",
      "11\n",
      "12\n",
      "13\n",
      "14\n",
      "15\n",
      "16\n",
      "17\n",
      "18\n",
      "19\n",
      "20\n",
      "21\n",
      "22\n",
      "23\n",
      "24\n",
      "25\n",
      "26\n",
      "27\n",
      "28\n",
      "29\n",
      "30\n",
      "31\n",
      "32\n",
      "33\n",
      "34\n",
      "35\n",
      "36\n",
      "37\n",
      "38\n",
      "39\n",
      "40\n",
      "41\n",
      "42\n",
      "43\n",
      "44\n",
      "45\n",
      "46\n",
      "47\n",
      "48\n",
      "49\n",
      "50\n",
      "51\n",
      "52\n",
      "53\n",
      "54\n",
      "55\n",
      "56\n",
      "57\n",
      "58\n",
      "59\n",
      "60\n"
     ]
    }
   ],
   "source": [
    "import time\n",
    "\n",
    "start = 1\n",
    "stop = 60\n",
    "\n",
    "while start <= stop:\n",
    "    print(start)\n",
    "    time.sleep(1)\n",
    "    start = start + 1"
   ]
  },
  {
   "cell_type": "markdown",
   "metadata": {},
   "source": [
    "```\n",
    "while True:\n",
    "    # BLOK_INSTRUKCJI_WHILE\n",
    "    # menu\n",
    "    # wybór działania\n",
    "```"
   ]
  },
  {
   "cell_type": "code",
   "execution_count": null,
   "metadata": {},
   "outputs": [],
   "source": []
  },
  {
   "cell_type": "code",
   "execution_count": 31,
   "metadata": {},
   "outputs": [
    {
     "name": "stdout",
     "output_type": "stream",
     "text": [
      "przed 0\n",
      "przed 1\n",
      "przed 2\n",
      "przed 3\n",
      "przed 4\n",
      "przed 5\n",
      "przed 6\n",
      "przed 7\n",
      "przed 8\n",
      "przed 9\n",
      "przed 10\n",
      "po 11\n"
     ]
    }
   ],
   "source": [
    "i = 0\n",
    "while True:\n",
    "    print(\"przed\", i)\n",
    "    i += 1  # i = i + 1\n",
    "    if i > 10:\n",
    "        break\n",
    "else:\n",
    "    print(\"ELSE\", i)\n",
    "    \n",
    "print(\"po\", i)"
   ]
  },
  {
   "cell_type": "code",
   "execution_count": 23,
   "metadata": {},
   "outputs": [
    {
     "data": {
      "text/plain": [
       "161732434"
      ]
     },
     "execution_count": 23,
     "metadata": {},
     "output_type": "execute_result"
    }
   ],
   "source": [
    "i"
   ]
  },
  {
   "cell_type": "markdown",
   "metadata": {},
   "source": [
    "## Zadanie Pana Marka"
   ]
  },
  {
   "cell_type": "code",
   "execution_count": 37,
   "metadata": {},
   "outputs": [
    {
     "name": "stdout",
     "output_type": "stream",
     "text": [
      "a - kalkulator, b - koniec a\n",
      "Podaj liczbę 1: 32\n",
      "Podaj liczbę 2: 12\n",
      "1: +, 2: -, 3: *, 4: /, 5: //, 6: %, 7: sqrt, 8: NOWE LICZBY\n",
      "Co chcesz zrobić: 1\n",
      "Suma liczb 32.0 i 12.0 jest równa 44.0\n",
      "1: +, 2: -, 3: *, 4: /, 5: //, 6: %, 7: sqrt, 8: NOWE LICZBY\n",
      "Co chcesz zrobić: 2\n",
      "Różnica liczb 32.0 i 12.0 jest równa 20.0\n",
      "1: +, 2: -, 3: *, 4: /, 5: //, 6: %, 7: sqrt, 8: NOWE LICZBY\n",
      "Co chcesz zrobić: 3\n",
      "Iloczyn liczb 32.0 i 12.0 jest równa 384.0\n",
      "1: +, 2: -, 3: *, 4: /, 5: //, 6: %, 7: sqrt, 8: NOWE LICZBY\n",
      "Co chcesz zrobić: 4\n",
      "Iloraz liczb: 32.0 i 12.0 jest równy 2.6666666666666665\n",
      "1: +, 2: -, 3: *, 4: /, 5: //, 6: %, 7: sqrt, 8: NOWE LICZBY\n",
      "Co chcesz zrobić: 5\n",
      "Iloraz bez reszty liczb 32.0 i 12.0 jest równa 2.0\n",
      "1: +, 2: -, 3: *, 4: /, 5: //, 6: %, 7: sqrt, 8: NOWE LICZBY\n",
      "Co chcesz zrobić: 6\n",
      "Reszta z dzielenia liczb 32.0 i 12.0 jest równa 8.0\n",
      "1: +, 2: -, 3: *, 4: /, 5: //, 6: %, 7: sqrt, 8: NOWE LICZBY\n",
      "Co chcesz zrobić: 7\n",
      "Pierwiastek stopnia 12.0 liczby 32.0 jest równy 1.3348398541700344\n",
      "1: +, 2: -, 3: *, 4: /, 5: //, 6: %, 7: sqrt, 8: NOWE LICZBY\n",
      "Co chcesz zrobić: 8\n",
      "a - kalkulator, b - koniec b\n",
      "Do zobaczenia!\n"
     ]
    }
   ],
   "source": [
    "while True:\n",
    "    decyzja = input(\"a - kalkulator, b - koniec \")\n",
    "    \n",
    "    if decyzja == 'b':\n",
    "        print(\"Do zobaczenia!\")\n",
    "        break\n",
    "        \n",
    "    liczba1 = float(input(\"Podaj liczbę 1: \"))\n",
    "    liczba2 = float(input(\"Podaj liczbę 2: \"))\n",
    "\n",
    "    while True:\n",
    "        print(\"1: +, 2: -, 3: *, 4: /, 5: //, 6: %, 7: sqrt, 8: NOWE LICZBY\")\n",
    "        menu = int(input(\"Co chcesz zrobić: \"))\n",
    "\n",
    "        if menu == 1:\n",
    "            print(f\"Suma liczb {liczba1} i {liczba2} jest równa {liczba1 + liczba2}\")\n",
    "        elif menu == 2:\n",
    "            print(f\"Różnica liczb {liczba1} i {liczba2} jest równa {liczba1 - liczba2}\")\n",
    "        elif menu == 3:\n",
    "            print(f\"Iloczyn liczb {liczba1} i {liczba2} jest równa {liczba1 * liczba2}\")\n",
    "        elif menu == 4:\n",
    "            if liczba2 == 0:\n",
    "                print(\"Nie dzielimy przez 0.\")\n",
    "            else:\n",
    "                print(f\"Iloraz liczb: {liczba1} i {liczba2} jest równy {liczba1 / liczba2}\")\n",
    "        elif menu == 5:\n",
    "            print(f\"Iloraz bez reszty liczb {liczba1} i {liczba2} jest równa {liczba1 // liczba2}\")\n",
    "        elif menu == 6:\n",
    "            print(f\"Reszta z dzielenia liczb {liczba1} i {liczba2} jest równa {liczba1 % liczba2}\")\n",
    "        elif menu == 7:\n",
    "            print(f\"Pierwiastek stopnia {liczba2} liczby {liczba1} jest równy {liczba1 ** (1 / liczba2)}\")\n",
    "        else:\n",
    "            break"
   ]
  },
  {
   "cell_type": "code",
   "execution_count": null,
   "metadata": {},
   "outputs": [],
   "source": []
  }
 ],
 "metadata": {
  "kernelspec": {
   "display_name": "Python 3",
   "language": "python",
   "name": "python3"
  },
  "language_info": {
   "codemirror_mode": {
    "name": "ipython",
    "version": 3
   },
   "file_extension": ".py",
   "mimetype": "text/x-python",
   "name": "python",
   "nbconvert_exporter": "python",
   "pygments_lexer": "ipython3",
   "version": "3.7.3"
  }
 },
 "nbformat": 4,
 "nbformat_minor": 2
}
