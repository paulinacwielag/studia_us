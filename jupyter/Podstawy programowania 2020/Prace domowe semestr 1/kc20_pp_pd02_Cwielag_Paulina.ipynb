{
 "cells": [
  {
   "cell_type": "markdown",
   "metadata": {},
   "source": [
    "## Podstawy programowania\n",
    "### Praca domowa 02 [100 pkt]\n",
    "\n",
    "Proszę użyć tego arkusza do rozwiązania zadań domowych. Na początek proszę zmienić 'nazwisko_imie' na Państwa nazwisko i imie, bez polskich znaków diakrytycznych.\n",
    "\n",
    "Część zadań to powtórka z zajęć. Jak już Państwo zaprogramują wszystko, proszę zapisać arkusz (File->Save and Checkpoint) oraz zapisać arkusz na dysk (File->Download as->Notebook). Ten plik proszę wgrać na classroom. \n",
    "\n",
    "Jeszcze jedna uwaga: Używamy zmiennych oraz komentarzy (tam gdzie to w/g Państwa niezbędne)."
   ]
  },
  {
   "cell_type": "code",
   "execution_count": null,
   "metadata": {},
   "outputs": [],
   "source": [
    "# współpraca: Igor Juraszek pomógł mi zrozumieć niektóre komendy (.count, len)\n",
    "# przybliżony czas poświęcony na tą pracę domową: 2 godziny"
   ]
  },
  {
   "cell_type": "code",
   "execution_count": null,
   "metadata": {},
   "outputs": [],
   "source": []
  },
  {
   "cell_type": "markdown",
   "metadata": {},
   "source": [
    "## Snippet\n",
    "(za Wikipedią) pojęcie programowania oznaczające zwykle mały wycinek kodu źródłowego, kodu maszynowego lub tekstu do wielokrotnego użycia. Snippetów używa się zazwyczaj w celu zminimalizowania powtarzalności tego samego kodu lub tekstu. "
   ]
  },
  {
   "cell_type": "code",
   "execution_count": null,
   "metadata": {},
   "outputs": [],
   "source": []
  },
  {
   "cell_type": "markdown",
   "metadata": {},
   "source": [
    "### Zadanie 1 [10 pkt]\n",
    "Wydrukuj liczby od 178 do 232 które mają \"c\" w swoim rozwinięciu szesnastkowym."
   ]
  },
  {
   "cell_type": "code",
   "execution_count": 1,
   "metadata": {},
   "outputs": [
    {
     "name": "stdout",
     "output_type": "stream",
     "text": [
      "188 dwójkowo 0b10111100 ósemkowo 0o274 szesnastkowo 0xbc\n"
     ]
    }
   ],
   "source": [
    "# przykładowo\n",
    "liczba = 188\n",
    "print(liczba, \"dwójkowo\", bin(liczba), \"ósemkowo\", oct(liczba), \"szesnastkowo\", hex(liczba))"
   ]
  },
  {
   "cell_type": "code",
   "execution_count": 7,
   "metadata": {},
   "outputs": [
    {
     "name": "stdout",
     "output_type": "stream",
     "text": [
      "188 dwójkowo 0b10111100 ósemkowo 0o274 szesnastkowo 0xbc\n",
      "192 dwójkowo 0b11000000 ósemkowo 0o300 szesnastkowo 0xc0\n",
      "193 dwójkowo 0b11000001 ósemkowo 0o301 szesnastkowo 0xc1\n",
      "194 dwójkowo 0b11000010 ósemkowo 0o302 szesnastkowo 0xc2\n",
      "195 dwójkowo 0b11000011 ósemkowo 0o303 szesnastkowo 0xc3\n",
      "196 dwójkowo 0b11000100 ósemkowo 0o304 szesnastkowo 0xc4\n",
      "197 dwójkowo 0b11000101 ósemkowo 0o305 szesnastkowo 0xc5\n",
      "198 dwójkowo 0b11000110 ósemkowo 0o306 szesnastkowo 0xc6\n",
      "199 dwójkowo 0b11000111 ósemkowo 0o307 szesnastkowo 0xc7\n",
      "200 dwójkowo 0b11001000 ósemkowo 0o310 szesnastkowo 0xc8\n",
      "201 dwójkowo 0b11001001 ósemkowo 0o311 szesnastkowo 0xc9\n",
      "202 dwójkowo 0b11001010 ósemkowo 0o312 szesnastkowo 0xca\n",
      "203 dwójkowo 0b11001011 ósemkowo 0o313 szesnastkowo 0xcb\n",
      "204 dwójkowo 0b11001100 ósemkowo 0o314 szesnastkowo 0xcc\n",
      "205 dwójkowo 0b11001101 ósemkowo 0o315 szesnastkowo 0xcd\n",
      "206 dwójkowo 0b11001110 ósemkowo 0o316 szesnastkowo 0xce\n",
      "207 dwójkowo 0b11001111 ósemkowo 0o317 szesnastkowo 0xcf\n",
      "220 dwójkowo 0b11011100 ósemkowo 0o334 szesnastkowo 0xdc\n"
     ]
    }
   ],
   "source": [
    "start = 178\n",
    "stop = 232\n",
    "\n",
    "while start <= stop:\n",
    "    if (hex(start).count(\"c\")):\n",
    "        print(start, \"dwójkowo\", bin(start), \"ósemkowo\", oct(start), \"szesnastkowo\", hex(start))\n",
    "    start = start + 1"
   ]
  },
  {
   "cell_type": "code",
   "execution_count": null,
   "metadata": {},
   "outputs": [],
   "source": []
  },
  {
   "cell_type": "markdown",
   "metadata": {},
   "source": [
    "### Zadanie 2 [10 pkt]\n",
    "Przelicz stopnie Celsiusa na Fahrenheita w zakresie temperatur -27, 27 stopni Celsjusza, \n",
    "\n",
    "* co 3 stopnie (5 pkt)\n",
    "* co pół stopnia (5 pkt)\n",
    "\n",
    "zastosuj pętlę `while`. Odpowiedź sformatuj jak poniżej\n",
    "\n",
    "```\n",
    "'-25 stopni Celsiusa to -13.0 stopni Fahrenheita`\n",
    "```"
   ]
  },
  {
   "cell_type": "code",
   "execution_count": 11,
   "metadata": {},
   "outputs": [
    {
     "name": "stdout",
     "output_type": "stream",
     "text": [
      "-27° Celsjusza równa się -16.6° Fahrenheita.\n",
      "-24° Celsjusza równa się -11.2° Fahrenheita.\n",
      "-21° Celsjusza równa się -5.8° Fahrenheita.\n",
      "-18° Celsjusza równa się -0.4° Fahrenheita.\n",
      "-15° Celsjusza równa się 5.0° Fahrenheita.\n",
      "-12° Celsjusza równa się 10.4° Fahrenheita.\n",
      "-9° Celsjusza równa się 15.8° Fahrenheita.\n",
      "-6° Celsjusza równa się 21.2° Fahrenheita.\n",
      "-3° Celsjusza równa się 26.6° Fahrenheita.\n",
      "0° Celsjusza równa się 32.0° Fahrenheita.\n",
      "3° Celsjusza równa się 37.4° Fahrenheita.\n",
      "6° Celsjusza równa się 42.8° Fahrenheita.\n",
      "9° Celsjusza równa się 48.2° Fahrenheita.\n",
      "12° Celsjusza równa się 53.6° Fahrenheita.\n",
      "15° Celsjusza równa się 59.0° Fahrenheita.\n",
      "18° Celsjusza równa się 64.4° Fahrenheita.\n",
      "21° Celsjusza równa się 69.8° Fahrenheita.\n",
      "24° Celsjusza równa się 75.2° Fahrenheita.\n",
      "27° Celsjusza równa się 80.6° Fahrenheita.\n"
     ]
    }
   ],
   "source": [
    "start = -27\n",
    "stop = 27\n",
    "\n",
    "while start <= stop:\n",
    "    stopnie_celsjusza = start\n",
    "    stopnie_fahrenheita = (stopnie_celsjusza * 1.8) + 32\n",
    "    print(f\"{stopnie_celsjusza}° Celsjusza równa się {(round(stopnie_fahrenheita, 1))}° Fahrenheita.\")\n",
    "    start = start + 3"
   ]
  },
  {
   "cell_type": "code",
   "execution_count": 12,
   "metadata": {},
   "outputs": [
    {
     "name": "stdout",
     "output_type": "stream",
     "text": [
      "-27° Celsjusza równa się -16.6° Fahrenheita.\n",
      "-26.5° Celsjusza równa się -15.7° Fahrenheita.\n",
      "-26.0° Celsjusza równa się -14.8° Fahrenheita.\n",
      "-25.5° Celsjusza równa się -13.9° Fahrenheita.\n",
      "-25.0° Celsjusza równa się -13.0° Fahrenheita.\n",
      "-24.5° Celsjusza równa się -12.1° Fahrenheita.\n",
      "-24.0° Celsjusza równa się -11.2° Fahrenheita.\n",
      "-23.5° Celsjusza równa się -10.3° Fahrenheita.\n",
      "-23.0° Celsjusza równa się -9.4° Fahrenheita.\n",
      "-22.5° Celsjusza równa się -8.5° Fahrenheita.\n",
      "-22.0° Celsjusza równa się -7.6° Fahrenheita.\n",
      "-21.5° Celsjusza równa się -6.7° Fahrenheita.\n",
      "-21.0° Celsjusza równa się -5.8° Fahrenheita.\n",
      "-20.5° Celsjusza równa się -4.9° Fahrenheita.\n",
      "-20.0° Celsjusza równa się -4.0° Fahrenheita.\n",
      "-19.5° Celsjusza równa się -3.1° Fahrenheita.\n",
      "-19.0° Celsjusza równa się -2.2° Fahrenheita.\n",
      "-18.5° Celsjusza równa się -1.3° Fahrenheita.\n",
      "-18.0° Celsjusza równa się -0.4° Fahrenheita.\n",
      "-17.5° Celsjusza równa się 0.5° Fahrenheita.\n",
      "-17.0° Celsjusza równa się 1.4° Fahrenheita.\n",
      "-16.5° Celsjusza równa się 2.3° Fahrenheita.\n",
      "-16.0° Celsjusza równa się 3.2° Fahrenheita.\n",
      "-15.5° Celsjusza równa się 4.1° Fahrenheita.\n",
      "-15.0° Celsjusza równa się 5.0° Fahrenheita.\n",
      "-14.5° Celsjusza równa się 5.9° Fahrenheita.\n",
      "-14.0° Celsjusza równa się 6.8° Fahrenheita.\n",
      "-13.5° Celsjusza równa się 7.7° Fahrenheita.\n",
      "-13.0° Celsjusza równa się 8.6° Fahrenheita.\n",
      "-12.5° Celsjusza równa się 9.5° Fahrenheita.\n",
      "-12.0° Celsjusza równa się 10.4° Fahrenheita.\n",
      "-11.5° Celsjusza równa się 11.3° Fahrenheita.\n",
      "-11.0° Celsjusza równa się 12.2° Fahrenheita.\n",
      "-10.5° Celsjusza równa się 13.1° Fahrenheita.\n",
      "-10.0° Celsjusza równa się 14.0° Fahrenheita.\n",
      "-9.5° Celsjusza równa się 14.9° Fahrenheita.\n",
      "-9.0° Celsjusza równa się 15.8° Fahrenheita.\n",
      "-8.5° Celsjusza równa się 16.7° Fahrenheita.\n",
      "-8.0° Celsjusza równa się 17.6° Fahrenheita.\n",
      "-7.5° Celsjusza równa się 18.5° Fahrenheita.\n",
      "-7.0° Celsjusza równa się 19.4° Fahrenheita.\n",
      "-6.5° Celsjusza równa się 20.3° Fahrenheita.\n",
      "-6.0° Celsjusza równa się 21.2° Fahrenheita.\n",
      "-5.5° Celsjusza równa się 22.1° Fahrenheita.\n",
      "-5.0° Celsjusza równa się 23.0° Fahrenheita.\n",
      "-4.5° Celsjusza równa się 23.9° Fahrenheita.\n",
      "-4.0° Celsjusza równa się 24.8° Fahrenheita.\n",
      "-3.5° Celsjusza równa się 25.7° Fahrenheita.\n",
      "-3.0° Celsjusza równa się 26.6° Fahrenheita.\n",
      "-2.5° Celsjusza równa się 27.5° Fahrenheita.\n",
      "-2.0° Celsjusza równa się 28.4° Fahrenheita.\n",
      "-1.5° Celsjusza równa się 29.3° Fahrenheita.\n",
      "-1.0° Celsjusza równa się 30.2° Fahrenheita.\n",
      "-0.5° Celsjusza równa się 31.1° Fahrenheita.\n",
      "0.0° Celsjusza równa się 32.0° Fahrenheita.\n",
      "0.5° Celsjusza równa się 32.9° Fahrenheita.\n",
      "1.0° Celsjusza równa się 33.8° Fahrenheita.\n",
      "1.5° Celsjusza równa się 34.7° Fahrenheita.\n",
      "2.0° Celsjusza równa się 35.6° Fahrenheita.\n",
      "2.5° Celsjusza równa się 36.5° Fahrenheita.\n",
      "3.0° Celsjusza równa się 37.4° Fahrenheita.\n",
      "3.5° Celsjusza równa się 38.3° Fahrenheita.\n",
      "4.0° Celsjusza równa się 39.2° Fahrenheita.\n",
      "4.5° Celsjusza równa się 40.1° Fahrenheita.\n",
      "5.0° Celsjusza równa się 41.0° Fahrenheita.\n",
      "5.5° Celsjusza równa się 41.9° Fahrenheita.\n",
      "6.0° Celsjusza równa się 42.8° Fahrenheita.\n",
      "6.5° Celsjusza równa się 43.7° Fahrenheita.\n",
      "7.0° Celsjusza równa się 44.6° Fahrenheita.\n",
      "7.5° Celsjusza równa się 45.5° Fahrenheita.\n",
      "8.0° Celsjusza równa się 46.4° Fahrenheita.\n",
      "8.5° Celsjusza równa się 47.3° Fahrenheita.\n",
      "9.0° Celsjusza równa się 48.2° Fahrenheita.\n",
      "9.5° Celsjusza równa się 49.1° Fahrenheita.\n",
      "10.0° Celsjusza równa się 50.0° Fahrenheita.\n",
      "10.5° Celsjusza równa się 50.9° Fahrenheita.\n",
      "11.0° Celsjusza równa się 51.8° Fahrenheita.\n",
      "11.5° Celsjusza równa się 52.7° Fahrenheita.\n",
      "12.0° Celsjusza równa się 53.6° Fahrenheita.\n",
      "12.5° Celsjusza równa się 54.5° Fahrenheita.\n",
      "13.0° Celsjusza równa się 55.4° Fahrenheita.\n",
      "13.5° Celsjusza równa się 56.3° Fahrenheita.\n",
      "14.0° Celsjusza równa się 57.2° Fahrenheita.\n",
      "14.5° Celsjusza równa się 58.1° Fahrenheita.\n",
      "15.0° Celsjusza równa się 59.0° Fahrenheita.\n",
      "15.5° Celsjusza równa się 59.9° Fahrenheita.\n",
      "16.0° Celsjusza równa się 60.8° Fahrenheita.\n",
      "16.5° Celsjusza równa się 61.7° Fahrenheita.\n",
      "17.0° Celsjusza równa się 62.6° Fahrenheita.\n",
      "17.5° Celsjusza równa się 63.5° Fahrenheita.\n",
      "18.0° Celsjusza równa się 64.4° Fahrenheita.\n",
      "18.5° Celsjusza równa się 65.3° Fahrenheita.\n",
      "19.0° Celsjusza równa się 66.2° Fahrenheita.\n",
      "19.5° Celsjusza równa się 67.1° Fahrenheita.\n",
      "20.0° Celsjusza równa się 68.0° Fahrenheita.\n",
      "20.5° Celsjusza równa się 68.9° Fahrenheita.\n",
      "21.0° Celsjusza równa się 69.8° Fahrenheita.\n",
      "21.5° Celsjusza równa się 70.7° Fahrenheita.\n",
      "22.0° Celsjusza równa się 71.6° Fahrenheita.\n",
      "22.5° Celsjusza równa się 72.5° Fahrenheita.\n",
      "23.0° Celsjusza równa się 73.4° Fahrenheita.\n",
      "23.5° Celsjusza równa się 74.3° Fahrenheita.\n",
      "24.0° Celsjusza równa się 75.2° Fahrenheita.\n",
      "24.5° Celsjusza równa się 76.1° Fahrenheita.\n",
      "25.0° Celsjusza równa się 77.0° Fahrenheita.\n",
      "25.5° Celsjusza równa się 77.9° Fahrenheita.\n",
      "26.0° Celsjusza równa się 78.8° Fahrenheita.\n",
      "26.5° Celsjusza równa się 79.7° Fahrenheita.\n",
      "27.0° Celsjusza równa się 80.6° Fahrenheita.\n"
     ]
    }
   ],
   "source": [
    "start = -27\n",
    "stop = 27\n",
    "\n",
    "while start <= stop:\n",
    "    stopnie_celsjusza = start\n",
    "    stopnie_fahrenheita = (stopnie_celsjusza * 1.8) + 32\n",
    "    print(f\"{stopnie_celsjusza}° Celsjusza równa się {(round(stopnie_fahrenheita, 1))}° Fahrenheita.\")\n",
    "    start = start + 0.5"
   ]
  },
  {
   "cell_type": "markdown",
   "metadata": {},
   "source": [
    "### Zadanie 3 [10 pkt]\n",
    "\n",
    "> Temperatura pokojowa oznacza temperaturę z zakresu od 15 do 25 stopni Celsjusza.\n",
    "\n",
    "Zmodyfikuj poprzednie zadanie, tak by przeliczyć stopnie Celsiusa na Fahrenheita w zakresie temperatur -27, 27 stopni Celsjusza, ale w zakresie temperatur pokojowych dodać informację \"temperatura pokojowa\". Zastosuj pętlę `while`. Odpowiedź sformatuj jak poniżej\n",
    "\n",
    "```\n",
    "13 stopni Celsiusa to 55.4 stopni Fahrenheita\n",
    "14 stopni Celsiusa to 57.2 stopni Fahrenheita\n",
    "temperatura pokojowa 15 stopni Celsiusa to 59.0 stopni Fahrenheita\n",
    "temperatura pokojowa 16 stopni Celsiusa to 60.8 stopni Fahrenheita\n",
    "```"
   ]
  },
  {
   "cell_type": "code",
   "execution_count": 14,
   "metadata": {},
   "outputs": [
    {
     "name": "stdout",
     "output_type": "stream",
     "text": [
      "-27° Celsjusza równa się -16.6° Fahrenheita.\n",
      "-26° Celsjusza równa się -14.8° Fahrenheita.\n",
      "-25° Celsjusza równa się -13.0° Fahrenheita.\n",
      "-24° Celsjusza równa się -11.2° Fahrenheita.\n",
      "-23° Celsjusza równa się -9.4° Fahrenheita.\n",
      "-22° Celsjusza równa się -7.6° Fahrenheita.\n",
      "-21° Celsjusza równa się -5.8° Fahrenheita.\n",
      "-20° Celsjusza równa się -4.0° Fahrenheita.\n",
      "-19° Celsjusza równa się -2.2° Fahrenheita.\n",
      "-18° Celsjusza równa się -0.4° Fahrenheita.\n",
      "-17° Celsjusza równa się 1.4° Fahrenheita.\n",
      "-16° Celsjusza równa się 3.2° Fahrenheita.\n",
      "-15° Celsjusza równa się 5.0° Fahrenheita.\n",
      "-14° Celsjusza równa się 6.8° Fahrenheita.\n",
      "-13° Celsjusza równa się 8.6° Fahrenheita.\n",
      "-12° Celsjusza równa się 10.4° Fahrenheita.\n",
      "-11° Celsjusza równa się 12.2° Fahrenheita.\n",
      "-10° Celsjusza równa się 14.0° Fahrenheita.\n",
      "-9° Celsjusza równa się 15.8° Fahrenheita.\n",
      "-8° Celsjusza równa się 17.6° Fahrenheita.\n",
      "-7° Celsjusza równa się 19.4° Fahrenheita.\n",
      "-6° Celsjusza równa się 21.2° Fahrenheita.\n",
      "-5° Celsjusza równa się 23.0° Fahrenheita.\n",
      "-4° Celsjusza równa się 24.8° Fahrenheita.\n",
      "-3° Celsjusza równa się 26.6° Fahrenheita.\n",
      "-2° Celsjusza równa się 28.4° Fahrenheita.\n",
      "-1° Celsjusza równa się 30.2° Fahrenheita.\n",
      "0° Celsjusza równa się 32.0° Fahrenheita.\n",
      "1° Celsjusza równa się 33.8° Fahrenheita.\n",
      "2° Celsjusza równa się 35.6° Fahrenheita.\n",
      "3° Celsjusza równa się 37.4° Fahrenheita.\n",
      "4° Celsjusza równa się 39.2° Fahrenheita.\n",
      "5° Celsjusza równa się 41.0° Fahrenheita.\n",
      "6° Celsjusza równa się 42.8° Fahrenheita.\n",
      "7° Celsjusza równa się 44.6° Fahrenheita.\n",
      "8° Celsjusza równa się 46.4° Fahrenheita.\n",
      "9° Celsjusza równa się 48.2° Fahrenheita.\n",
      "10° Celsjusza równa się 50.0° Fahrenheita.\n",
      "11° Celsjusza równa się 51.8° Fahrenheita.\n",
      "12° Celsjusza równa się 53.6° Fahrenheita.\n",
      "13° Celsjusza równa się 55.4° Fahrenheita.\n",
      "14° Celsjusza równa się 57.2° Fahrenheita.\n",
      "temperatura pokojowa 15° Celsjusza równa się 59.0° Fahrenheita.\n",
      "temperatura pokojowa 16° Celsjusza równa się 60.8° Fahrenheita.\n",
      "temperatura pokojowa 17° Celsjusza równa się 62.6° Fahrenheita.\n",
      "temperatura pokojowa 18° Celsjusza równa się 64.4° Fahrenheita.\n",
      "temperatura pokojowa 19° Celsjusza równa się 66.2° Fahrenheita.\n",
      "temperatura pokojowa 20° Celsjusza równa się 68.0° Fahrenheita.\n",
      "temperatura pokojowa 21° Celsjusza równa się 69.8° Fahrenheita.\n",
      "temperatura pokojowa 22° Celsjusza równa się 71.6° Fahrenheita.\n",
      "temperatura pokojowa 23° Celsjusza równa się 73.4° Fahrenheita.\n",
      "temperatura pokojowa 24° Celsjusza równa się 75.2° Fahrenheita.\n",
      "temperatura pokojowa 25° Celsjusza równa się 77.0° Fahrenheita.\n",
      "26° Celsjusza równa się 78.8° Fahrenheita.\n",
      "27° Celsjusza równa się 80.6° Fahrenheita.\n"
     ]
    }
   ],
   "source": [
    "start = -27\n",
    "stop = 27\n",
    "\n",
    "while start <= stop:\n",
    "    stopnie_celsjusza = start\n",
    "    stopnie_fahrenheita = (stopnie_celsjusza * 1.8) + 32\n",
    "    if (stopnie_celsjusza >= 15) and (stopnie_celsjusza <= 25):\n",
    "        print(f\"temperatura pokojowa {stopnie_celsjusza}° Celsjusza równa się {(round(stopnie_fahrenheita, 1))}° Fahrenheita.\")\n",
    "    else:\n",
    "        print(f\"{stopnie_celsjusza}° Celsjusza równa się {(round(stopnie_fahrenheita, 1))}° Fahrenheita.\")\n",
    "    start = start + 1"
   ]
  },
  {
   "cell_type": "code",
   "execution_count": null,
   "metadata": {},
   "outputs": [],
   "source": []
  },
  {
   "cell_type": "markdown",
   "metadata": {},
   "source": [
    "## Wstęp do zadania 4\n",
    "\n",
    "Sumę liczb od 1 do 10 możemy zapisać tradycyjnie\n",
    "\n",
    "    1 + 2 + 3 + 4 + 5 + 6 + 7 + 8 + 9 + 10\n",
    "    "
   ]
  },
  {
   "cell_type": "code",
   "execution_count": null,
   "metadata": {},
   "outputs": [],
   "source": [
    "suma = 1 + 2 + 3 + 4 + 5 + 6 + 7 + 8 + 9 + 10\n",
    "print(suma)"
   ]
  },
  {
   "cell_type": "markdown",
   "metadata": {},
   "source": [
    "lub za pomocą symbolu $\\sum$\n",
    "\n",
    "$$suma = \\sum_{i = 1}^{10} i$$\n",
    "\n",
    "co w przełożeniu na język Python i pętlę `while` można zapisać w postaci snippetu"
   ]
  },
  {
   "cell_type": "code",
   "execution_count": 17,
   "metadata": {},
   "outputs": [
    {
     "name": "stdout",
     "output_type": "stream",
     "text": [
      "55\n"
     ]
    }
   ],
   "source": [
    "i = 1\n",
    "suma = 0\n",
    "\n",
    "while i <= 10:\n",
    "    suma += i\n",
    "    i += 1\n",
    "    \n",
    "print(suma)"
   ]
  },
  {
   "cell_type": "markdown",
   "metadata": {},
   "source": [
    "### Zadanie 4 [30 pkt]\n",
    "Wykonaj sumowania\n",
    "\n",
    "* [5 pkt] kwadratów liczb całkowitych od -100 do 100\n",
    "* [5 pkt] pierwiastków kwadratowych liczb od 0.0001 do 3.1415 co 0.0001\n",
    "* [5 pkt] liczb parzystych od -20 do 44\n",
    "* [5 pkt] odwrotności liczb naturalnych od 1 do 99\n",
    "    $$s = \\sum_{j = 1}^{99} \\frac{1}{j}$$\n",
    "* [5 pkt] wszystkich liczb od -333 do 21345 podzielnych przez 8 i 11 \n",
    "* [5 pkt] wszystkich liczb całkowitych od -1000 do 0, w których znajdziemy cyfrę \"3\" (proszę zapoznać się/przypomnieć sobie o funkcji rzutującej `str()`)"
   ]
  },
  {
   "cell_type": "code",
   "execution_count": 20,
   "metadata": {},
   "outputs": [
    {
     "name": "stdout",
     "output_type": "stream",
     "text": [
      "676700\n"
     ]
    }
   ],
   "source": [
    "# suma kwadratów liczb całkowitych od -100 do 100\n",
    "\n",
    "i = -100\n",
    "suma = 0\n",
    "\n",
    "while i <= 100:\n",
    "    suma = suma + i ** 2\n",
    "    i += 1\n",
    "    \n",
    "print(suma)"
   ]
  },
  {
   "cell_type": "code",
   "execution_count": 24,
   "metadata": {},
   "outputs": [
    {
     "name": "stdout",
     "output_type": "stream",
     "text": [
      "37119.65612516737\n"
     ]
    }
   ],
   "source": [
    "# suma pierwiastków kwadratowych liczb od 0.0001 do 3.1415 co 0.0001\n",
    "\n",
    "from math import sqrt\n",
    "\n",
    "i = 0.0001\n",
    "suma = 0\n",
    "\n",
    "while i <= 3.1415:\n",
    "    suma = suma + sqrt(i)\n",
    "    i = i + 0.0001\n",
    "    \n",
    "print(suma)"
   ]
  },
  {
   "cell_type": "code",
   "execution_count": 25,
   "metadata": {},
   "outputs": [
    {
     "name": "stdout",
     "output_type": "stream",
     "text": [
      "396\n"
     ]
    }
   ],
   "source": [
    "# suma liczb parzystych od -20 do 44\n",
    "\n",
    "i = -20\n",
    "suma = 0\n",
    "\n",
    "while i <= 44:\n",
    "    if i % 2 == 0:\n",
    "        suma = suma + i\n",
    "    i = i + 1\n",
    "    \n",
    "print(suma)"
   ]
  },
  {
   "cell_type": "code",
   "execution_count": 27,
   "metadata": {},
   "outputs": [
    {
     "name": "stdout",
     "output_type": "stream",
     "text": [
      "5.177377517639621\n"
     ]
    }
   ],
   "source": [
    "# suma odwrotności liczb naturalnych od 1 do 99\n",
    "\n",
    "i = 1\n",
    "suma = 0\n",
    "\n",
    "while i <= 99:\n",
    "    suma = suma + 1 / i\n",
    "    i = i + 1\n",
    "    \n",
    "print(suma)"
   ]
  },
  {
   "cell_type": "code",
   "execution_count": 28,
   "metadata": {},
   "outputs": [
    {
     "name": "stdout",
     "output_type": "stream",
     "text": [
      "2586936\n"
     ]
    }
   ],
   "source": [
    "# suma wszystkich liczb podzielnych przez 8 i 11 od -333 do 21345\n",
    "\n",
    "i = -333\n",
    "suma = 0\n",
    "\n",
    "while i <= 21345:\n",
    "    if (i % 8 == 0) and (i % 11 == 0):\n",
    "        suma = suma + i\n",
    "    i = i + 1\n",
    "    \n",
    "print(suma)"
   ]
  },
  {
   "cell_type": "code",
   "execution_count": 30,
   "metadata": {},
   "outputs": [
    {
     "name": "stdout",
     "output_type": "stream",
     "text": [
      "-121878\n"
     ]
    }
   ],
   "source": [
    "# suma wszystkich liczb całkowitych od -1000 do 0, w których znajdziemy cyfrę \"3\"\n",
    "\n",
    "i = -1000\n",
    "suma = 0\n",
    "\n",
    "while i <= 0:\n",
    "    if (str(i).count(\"3\")):\n",
    "        suma = suma + i\n",
    "    i = i + 1\n",
    "    \n",
    "print(suma)"
   ]
  },
  {
   "cell_type": "code",
   "execution_count": null,
   "metadata": {},
   "outputs": [],
   "source": []
  },
  {
   "cell_type": "markdown",
   "metadata": {},
   "source": [
    "### Zadanie 5 [20 pkt]\n",
    "Za pomocą funkcji `ord` możemy dowiedzieć się jaki kod ASCII jest przypisany do danego znaku. Oblicz sumę liter swojego imienia (polskie znaki diakrytyczne proszę zastąpić przez odpowiedniki bez ogonków i kropek, np. `ł` -> `l`) "
   ]
  },
  {
   "cell_type": "code",
   "execution_count": 33,
   "metadata": {},
   "outputs": [
    {
     "data": {
      "text/plain": [
       "97"
      ]
     },
     "execution_count": 33,
     "metadata": {},
     "output_type": "execute_result"
    }
   ],
   "source": [
    "ord('a')"
   ]
  },
  {
   "cell_type": "code",
   "execution_count": 46,
   "metadata": {},
   "outputs": [
    {
     "name": "stdout",
     "output_type": "stream",
     "text": [
      "Podaj imie: Paulina\n",
      "714\n"
     ]
    }
   ],
   "source": [
    "imie = input(\"Podaj imie: \")\n",
    "\n",
    "i = 0\n",
    "suma = 0\n",
    "\n",
    "while i < len(imie):\n",
    "    suma = suma + ord(imie[i])\n",
    "    i += 1\n",
    "\n",
    "print(suma)"
   ]
  },
  {
   "cell_type": "code",
   "execution_count": null,
   "metadata": {},
   "outputs": [],
   "source": []
  },
  {
   "cell_type": "markdown",
   "metadata": {},
   "source": [
    "### Wstęp do zadania 6\n",
    "Podobnie jak z liczbami możemy postępować z ciągami znaków. Korzystając z operacji ideksowania elementów ciągu znaków (np. `napis[3]`) oraz z pętli przebiegającej po wszystkich indeksach, możemy przeiterować (odwołać się do każdego elementu ciągu znaków)."
   ]
  },
  {
   "cell_type": "code",
   "execution_count": 43,
   "metadata": {},
   "outputs": [
    {
     "name": "stdout",
     "output_type": "stream",
     "text": [
      "indeks 0 -> znak A\n",
      "indeks 1 -> znak l\n",
      "indeks 2 -> znak a\n",
      "indeks 3 -> znak  \n",
      "indeks 4 -> znak m\n",
      "indeks 5 -> znak a\n",
      "indeks 6 -> znak  \n",
      "indeks 7 -> znak k\n",
      "indeks 8 -> znak o\n",
      "indeks 9 -> znak t\n",
      "indeks 10 -> znak a\n"
     ]
    }
   ],
   "source": [
    "napis = \"Ala ma kota\"\n",
    "\n",
    "i = 0\n",
    "while i < len(napis):\n",
    "    print(f\"indeks {i} -> znak {napis[i]}\")\n",
    "    i += 1"
   ]
  },
  {
   "cell_type": "markdown",
   "metadata": {},
   "source": [
    "### Zadanie 6 [20 pkt]\n",
    "Za pomocą konkatenacji ciągu znaków (`'a' + 'b'`) napisz program bazując na powyższym snipecie kodu, który bazując na zmiennej\n",
    "\n",
    "```ciag_znakow = \"W tak pięknych okolicznościach przyrody, i niepowtarzalnej\"```\n",
    "\n",
    "będzie tworzył nową zmienną o nazwie `ciag_liter` w którym znajdziemy tylko litery z powyższej wypowiedzi, i niepowtarzalnej. \n",
    "\n",
    "Uwaga: powinniśmy otrzymać `'Wtakpięknychokolicznościachprzyrodyiniepowtarzalnej'`"
   ]
  },
  {
   "cell_type": "code",
   "execution_count": 4,
   "metadata": {},
   "outputs": [
    {
     "name": "stdout",
     "output_type": "stream",
     "text": [
      "Wtakpięknychokolicznościachprzyrodyiniepowtarzalnej\n"
     ]
    }
   ],
   "source": [
    "# tutaj program\n",
    "ciag_znakow = \"W tak pięknych okolicznościach przyrody, i niepowtarzalnej\"\n",
    "ciag_liter = \"\"\n",
    "\n",
    "i = 0\n",
    "while i < len(ciag_znakow):\n",
    "    if (ciag_znakow[i] == \" \") or (ciag_znakow[i] == \",\") or (ciag_znakow[i] == \".\") or (ciag_znakow[i] == \"?\") or (ciag_znakow[i] == \"!\"):\n",
    "        pass\n",
    "    else:\n",
    "        ciag_liter = ciag_liter + ciag_znakow[i]\n",
    "    i += 1\n",
    "\n",
    "print(ciag_liter)"
   ]
  },
  {
   "cell_type": "code",
   "execution_count": null,
   "metadata": {},
   "outputs": [],
   "source": []
  }
 ],
 "metadata": {
  "kernelspec": {
   "display_name": "Python 3",
   "language": "python",
   "name": "python3"
  },
  "language_info": {
   "codemirror_mode": {
    "name": "ipython",
    "version": 3
   },
   "file_extension": ".py",
   "mimetype": "text/x-python",
   "name": "python",
   "nbconvert_exporter": "python",
   "pygments_lexer": "ipython3",
   "version": "3.7.3"
  }
 },
 "nbformat": 4,
 "nbformat_minor": 2
}
