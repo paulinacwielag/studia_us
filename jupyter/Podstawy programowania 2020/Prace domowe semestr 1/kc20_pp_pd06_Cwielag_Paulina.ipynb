{
 "cells": [
  {
   "cell_type": "markdown",
   "metadata": {},
   "source": [
    "## Podstawy programowania\n",
    "### Praca domowa 05 [100 pkt]\n",
    "\n",
    "Proszę użyć tego arkusza do rozwiązania zadań domowych. Na początek proszę zmienić 'nazwisko_imie' na Państwa nazwisko i imie, bez polskich znaków diakrytycznych.\n",
    "\n",
    "Część zadań to powtórka z zajęć. Jak już Państwo zaprogramują wszystko, proszę zapisać arkusz (File->Save and Checkpoint) oraz zapisać arkusz na dysk (File->Download as->Notebook). Ten plik proszę wgrać na classroom. \n",
    "\n",
    "Jeszcze jedna uwaga: Używamy zmiennych oraz komentarzy (tam gdzie to w/g Państwa niezbędne)."
   ]
  },
  {
   "cell_type": "code",
   "execution_count": 30,
   "metadata": {},
   "outputs": [],
   "source": [
    "# współpraca: —\n",
    "# przybliżony czas poświęcony na tą pracę domową: 5h"
   ]
  },
  {
   "cell_type": "code",
   "execution_count": null,
   "metadata": {},
   "outputs": [],
   "source": []
  },
  {
   "cell_type": "markdown",
   "metadata": {},
   "source": [
    "Składać listy w pętlach w jP można na kilka sposobów: za pomocą konkatenacji `L1 + L2`, metod przynależnych do list `L.append(element), L.insert(indeks, element), L.extend(L2)`. Można też wykorzystać tzw: \n",
    "\n",
    "### wyrażenia listowe\n",
    "\n",
    "```\n",
    "[f(el) for el in sekwencja]\n",
    "```\n",
    "\n",
    "Pętle w wyrażeniach listowych można zagnieżdżać, podobnie jak zwykłe pętle. Np:\n",
    "\n",
    "```\n",
    "[(el1, el2) for el1 in sekwencja1 for el2 in sekwencja2]\n",
    "```\n",
    "\n"
   ]
  },
  {
   "cell_type": "code",
   "execution_count": 31,
   "metadata": {},
   "outputs": [],
   "source": [
    "S = list(range(1, 11))"
   ]
  },
  {
   "cell_type": "markdown",
   "metadata": {},
   "source": [
    "### Zadanie 1 [30 pkt]\n",
    "Kożystając z powyższej wyjściowej sekwencji `S` liczb naturalnych od 1 do 10 zbuduj za pomocą \n",
    "\n",
    "1. pętli `while` oraz konkatenacji `+`\n",
    "2. pętli for oraz metody `append`\n",
    "3. wyrażenia listowego\n",
    "\n",
    "następujące listy\n",
    "\n",
    "1. listę pierwiastków 3 stopnia elementów `S`\n",
    "2. listę znaków ASCII po wcześniejszym dodaniu 100 do każdej wartości (`100 + 1`, `100 + 2`, ...) sekwencji `S`\n",
    "3. listę wartości funkcji $\\sin(\\pi * i / 10)$, dla `i` z sekwencji `S` (`from math import sin, pi`)\n",
    "6. listę kolejnych liczb nieparzystych mniejszych od -98765, odpowiadających elementom sekwencji `S` [pierwsza liczba nieparzysta mniejsza od -98765, druga liczba nieparzysta mniejsza od -98765...]\n",
    "7. listę krotek liczb, ich kwadratów oraz sześcianów dla elementów `S`\n",
    "8. listę wartości funkcji $(1 - k) / (k + 1)$, dla `k` z sekwencji `S`\n",
    "9. listę reszt z dzielenia przez 5 elementów `S`\n",
    "10. listę wartości `True` lub `False` warunku sprawdzającego czy element `S` jest podzielny przez `3`\n",
    "11. listę krotek elementów sekwencji `S` oraz ich wartości ze znakiem przeciwnym \n",
    "12. listę krotek elementów sekwencji `S` oraz ich kwadratów i pierwiastków kwadratowych"
   ]
  },
  {
   "cell_type": "code",
   "execution_count": 32,
   "metadata": {},
   "outputs": [],
   "source": [
    "# rozwiazanie"
   ]
  },
  {
   "cell_type": "code",
   "execution_count": 33,
   "metadata": {},
   "outputs": [
    {
     "name": "stdout",
     "output_type": "stream",
     "text": [
      "[1, 2, 3, 4, 5, 6, 7, 8, 9, 10]\n",
      "[1, 2, 3, 4, 5, 6, 7, 8, 9, 10]\n",
      "[1, 2, 3, 4, 5, 6, 7, 8, 9, 10]\n"
     ]
    }
   ],
   "source": [
    "S = list(range(1, 11))\n",
    "\n",
    "lista = []\n",
    "i = 0\n",
    "while i < len(S):\n",
    "    element = S[i]\n",
    "    lista += [element]\n",
    "    i += 1\n",
    "    \n",
    "print(lista)\n",
    "\n",
    "lista = []\n",
    "for element in S:\n",
    "    lista.append(element)\n",
    "    \n",
    "print(lista)\n",
    "\n",
    "lista = [element for element in S]\n",
    "print(lista)"
   ]
  },
  {
   "cell_type": "code",
   "execution_count": 34,
   "metadata": {},
   "outputs": [
    {
     "name": "stdout",
     "output_type": "stream",
     "text": [
      "[0.3333333333333333, 0.6666666666666666, 1.0, 1.3333333333333333, 1.6666666666666667, 2.0, 2.3333333333333335, 2.6666666666666665, 3.0, 3.3333333333333335]\n",
      "[0.3333333333333333, 0.6666666666666666, 1.0, 1.3333333333333333, 1.6666666666666667, 2.0, 2.3333333333333335, 2.6666666666666665, 3.0, 3.3333333333333335]\n",
      "[0.3333333333333333, 0.6666666666666666, 1.0, 1.3333333333333333, 1.6666666666666667, 2.0, 2.3333333333333335, 2.6666666666666665, 3.0, 3.3333333333333335]\n"
     ]
    }
   ],
   "source": [
    "# 1\n",
    "\n",
    "S = list(range(1, 11))\n",
    "\n",
    "lista = []\n",
    "i = 0\n",
    "while i < len(S):\n",
    "    element = S[i]\n",
    "    lista += [element ** 1 / 3]\n",
    "    i += 1\n",
    "    \n",
    "print(lista)\n",
    "\n",
    "lista = []\n",
    "for element in S:\n",
    "    lista.append(element ** 1 / 3)\n",
    "    \n",
    "print(lista)\n",
    "\n",
    "lista = [element ** 1 / 3 for element in S]\n",
    "print(lista)"
   ]
  },
  {
   "cell_type": "code",
   "execution_count": 35,
   "metadata": {},
   "outputs": [
    {
     "name": "stdout",
     "output_type": "stream",
     "text": [
      "['e', 'f', 'g', 'h', 'i', 'j', 'k', 'l', 'm', 'n']\n",
      "['e', 'f', 'g', 'h', 'i', 'j', 'k', 'l', 'm', 'n']\n",
      "['e', 'f', 'g', 'h', 'i', 'j', 'k', 'l', 'm', 'n']\n"
     ]
    }
   ],
   "source": [
    "# 2\n",
    "\n",
    "S = list(range(1, 11))\n",
    "\n",
    "lista = []\n",
    "i = 0\n",
    "while i < len(S):\n",
    "    element = S[i]\n",
    "    lista += [chr(element + 100)]\n",
    "    i += 1\n",
    "    \n",
    "print(lista)\n",
    "\n",
    "lista = []\n",
    "for element in S:\n",
    "    lista.append(chr(element + 100))\n",
    "    \n",
    "print(lista)\n",
    "\n",
    "lista = [chr(element + 100) for element in S]\n",
    "print(lista)"
   ]
  },
  {
   "cell_type": "code",
   "execution_count": 36,
   "metadata": {},
   "outputs": [
    {
     "name": "stdout",
     "output_type": "stream",
     "text": [
      "[0.3090169943749474, 0.5877852522924731, 0.8090169943749475, 0.9510565162951535, 1.0, 0.9510565162951536, 0.8090169943749475, 0.5877852522924732, 0.3090169943749475, 1.2246467991473532e-16]\n",
      "[0.3090169943749474, 0.5877852522924731, 0.8090169943749475, 0.9510565162951535, 1.0, 0.9510565162951536, 0.8090169943749475, 0.5877852522924732, 0.3090169943749475, 1.2246467991473532e-16]\n",
      "[0.3090169943749474, 0.5877852522924731, 0.8090169943749475, 0.9510565162951535, 1.0, 0.9510565162951536, 0.8090169943749475, 0.5877852522924732, 0.3090169943749475, 1.2246467991473532e-16]\n"
     ]
    }
   ],
   "source": [
    "# 3\n",
    "\n",
    "from math import sin, pi\n",
    "\n",
    "S = list(range(1, 11))\n",
    "\n",
    "lista = []\n",
    "i = 0\n",
    "while i < len(S):\n",
    "    element = S[i]\n",
    "    lista += [sin(pi * (element / 10))]\n",
    "    i += 1\n",
    "    \n",
    "print(lista)\n",
    "\n",
    "lista = []\n",
    "for element in S:\n",
    "    lista.append(sin(pi * (element / 10)))\n",
    "    \n",
    "print(lista)\n",
    "\n",
    "lista = [sin(pi * (element / 10)) for element in S]\n",
    "print(lista)"
   ]
  },
  {
   "cell_type": "code",
   "execution_count": 37,
   "metadata": {},
   "outputs": [
    {
     "name": "stdout",
     "output_type": "stream",
     "text": [
      "[-98767, -98769, -98771, -98773, -98775, -98777, -98779, -98781, -98783, -98785]\n",
      "[-98767, -98769, -98771, -98773, -98775, -98777, -98779, -98781, -98783, -98785]\n",
      "[-98767, -98769, -98771, -98773, -98775, -98777, -98779, -98781, -98783, -98785]\n"
     ]
    }
   ],
   "source": [
    "# 4\n",
    "\n",
    "S = list(range(1, 11))\n",
    "\n",
    "lista = []\n",
    "i = 0\n",
    "while i < len(S):\n",
    "    element = S[i]\n",
    "    lista += [-98765 - 2 * element]\n",
    "    i += 1\n",
    "    \n",
    "print(lista)\n",
    "\n",
    "lista = []\n",
    "for element in S:\n",
    "    lista.append(-98765 - 2 * element)\n",
    "    \n",
    "print(lista)\n",
    "\n",
    "lista = [-98765 - 2 * element for element in S]\n",
    "print(lista)"
   ]
  },
  {
   "cell_type": "code",
   "execution_count": 38,
   "metadata": {},
   "outputs": [
    {
     "name": "stdout",
     "output_type": "stream",
     "text": [
      "[(1, 1, 1), (2, 4, 8), (3, 9, 27), (4, 16, 64), (5, 25, 125), (6, 36, 216), (7, 49, 343), (8, 64, 512), (9, 81, 729), (10, 100, 1000)]\n",
      "[(1, 1, 1), (2, 4, 8), (3, 9, 27), (4, 16, 64), (5, 25, 125), (6, 36, 216), (7, 49, 343), (8, 64, 512), (9, 81, 729), (10, 100, 1000)]\n",
      "[(1, 1, 1), (2, 4, 8), (3, 9, 27), (4, 16, 64), (5, 25, 125), (6, 36, 216), (7, 49, 343), (8, 64, 512), (9, 81, 729), (10, 100, 1000)]\n"
     ]
    }
   ],
   "source": [
    "# 5\n",
    "\n",
    "S = list(range(1, 11))\n",
    "\n",
    "lista = []\n",
    "i = 0\n",
    "while i < len(S):\n",
    "    element = S[i]\n",
    "    lista += [(element, element ** 2, element ** 3)]\n",
    "    i += 1\n",
    "    \n",
    "print(lista)\n",
    "\n",
    "lista = []\n",
    "for element in S:\n",
    "    lista.append((element, element ** 2, element ** 3))\n",
    "    \n",
    "print(lista)\n",
    "\n",
    "lista = [(element, element ** 2, element ** 3) for element in S]\n",
    "print(lista)"
   ]
  },
  {
   "cell_type": "code",
   "execution_count": 39,
   "metadata": {},
   "outputs": [
    {
     "name": "stdout",
     "output_type": "stream",
     "text": [
      "[0.0, -0.3333333333333333, -0.5, -0.6, -0.6666666666666666, -0.7142857142857143, -0.75, -0.7777777777777778, -0.8, -0.8181818181818182]\n",
      "[0.0, -0.3333333333333333, -0.5, -0.6, -0.6666666666666666, -0.7142857142857143, -0.75, -0.7777777777777778, -0.8, -0.8181818181818182]\n",
      "[0.0, -0.3333333333333333, -0.5, -0.6, -0.6666666666666666, -0.7142857142857143, -0.75, -0.7777777777777778, -0.8, -0.8181818181818182]\n"
     ]
    }
   ],
   "source": [
    "# 6\n",
    "\n",
    "S = list(range(1, 11))\n",
    "\n",
    "lista = []\n",
    "i = 0\n",
    "while i < len(S):\n",
    "    element = S[i]\n",
    "    lista += [(1 - element)/(element + 1)]\n",
    "    i += 1\n",
    "    \n",
    "print(lista)\n",
    "\n",
    "lista = []\n",
    "for element in S:\n",
    "    lista.append((1 - element)/(element + 1))\n",
    "    \n",
    "print(lista)\n",
    "\n",
    "lista = [(1 - element)/(element + 1) for element in S]\n",
    "print(lista)"
   ]
  },
  {
   "cell_type": "code",
   "execution_count": 40,
   "metadata": {},
   "outputs": [
    {
     "name": "stdout",
     "output_type": "stream",
     "text": [
      "[1, 2, 3, 4, 0, 1, 2, 3, 4, 0]\n",
      "[1, 2, 3, 4, 0, 1, 2, 3, 4, 0]\n",
      "[1, 2, 3, 4, 0, 1, 2, 3, 4, 0]\n"
     ]
    }
   ],
   "source": [
    "# 7\n",
    "\n",
    "S = list(range(1, 11))\n",
    "\n",
    "lista = []\n",
    "i = 0\n",
    "while i < len(S):\n",
    "    element = S[i]\n",
    "    lista += [element % 5]\n",
    "    i += 1\n",
    "    \n",
    "print(lista)\n",
    "\n",
    "lista = []\n",
    "for element in S:\n",
    "    lista.append(element % 5)\n",
    "    \n",
    "print(lista)\n",
    "\n",
    "lista = [element % 5 for element in S]\n",
    "print(lista)"
   ]
  },
  {
   "cell_type": "code",
   "execution_count": 41,
   "metadata": {},
   "outputs": [
    {
     "name": "stdout",
     "output_type": "stream",
     "text": [
      "[False, False, True, False, False, True, False, False, True, False]\n",
      "[False, False, True, False, False, True, False, False, True, False]\n",
      "[False, False, True, False, False, True, False, False, True, False]\n"
     ]
    }
   ],
   "source": [
    "# 8\n",
    "\n",
    "S = list(range(1, 11))\n",
    "\n",
    "lista = []\n",
    "i = 0\n",
    "while i < len(S):\n",
    "    element = S[i]\n",
    "    lista += [bool(element % 3 == 0)]\n",
    "    i += 1\n",
    "    \n",
    "print(lista)\n",
    "\n",
    "lista = []\n",
    "for element in S:\n",
    "    lista.append(bool(element % 3 == 0))\n",
    "    \n",
    "print(lista)\n",
    "\n",
    "lista = [bool(element % 3 == 0) for element in S]\n",
    "print(lista)"
   ]
  },
  {
   "cell_type": "code",
   "execution_count": 42,
   "metadata": {},
   "outputs": [
    {
     "name": "stdout",
     "output_type": "stream",
     "text": [
      "[(1, -1), (2, -2), (3, -3), (4, -4), (5, -5), (6, -6), (7, -7), (8, -8), (9, -9), (10, -10)]\n",
      "[(1, -1), (2, -2), (3, -3), (4, -4), (5, -5), (6, -6), (7, -7), (8, -8), (9, -9), (10, -10)]\n",
      "[(1, -1), (2, -2), (3, -3), (4, -4), (5, -5), (6, -6), (7, -7), (8, -8), (9, -9), (10, -10)]\n"
     ]
    }
   ],
   "source": [
    "# 9 \n",
    "\n",
    "S = list(range(1, 11))\n",
    "\n",
    "lista = []\n",
    "i = 0\n",
    "while i < len(S):\n",
    "    element = S[i]\n",
    "    lista += [(element, element * (-1))]\n",
    "    i += 1\n",
    "    \n",
    "print(lista)\n",
    "\n",
    "lista = []\n",
    "for element in S:\n",
    "    lista.append((element, element * (-1)))\n",
    "    \n",
    "print(lista)\n",
    "\n",
    "lista = [(element, element * (-1)) for element in S]\n",
    "print(lista)"
   ]
  },
  {
   "cell_type": "code",
   "execution_count": 43,
   "metadata": {},
   "outputs": [
    {
     "name": "stdout",
     "output_type": "stream",
     "text": [
      "[(1, 1, 0.5), (2, 4, 1.0), (3, 9, 1.5), (4, 16, 2.0), (5, 25, 2.5), (6, 36, 3.0), (7, 49, 3.5), (8, 64, 4.0), (9, 81, 4.5), (10, 100, 5.0)]\n",
      "[(1, 1, 0.5), (2, 4, 1.0), (3, 9, 1.5), (4, 16, 2.0), (5, 25, 2.5), (6, 36, 3.0), (7, 49, 3.5), (8, 64, 4.0), (9, 81, 4.5), (10, 100, 5.0)]\n",
      "[(1, 1, 0.5), (2, 4, 1.0), (3, 9, 1.5), (4, 16, 2.0), (5, 25, 2.5), (6, 36, 3.0), (7, 49, 3.5), (8, 64, 4.0), (9, 81, 4.5), (10, 100, 5.0)]\n"
     ]
    }
   ],
   "source": [
    "# 10\n",
    "\n",
    "S = list(range(1, 11))\n",
    "\n",
    "lista = []\n",
    "i = 0\n",
    "while i < len(S):\n",
    "    element = S[i]\n",
    "    lista += [(element, element ** 2, element ** 1/2)]\n",
    "    i += 1\n",
    "    \n",
    "print(lista)\n",
    "\n",
    "lista = []\n",
    "for element in S:\n",
    "    lista.append((element, element ** 2, element ** 1/2))\n",
    "    \n",
    "print(lista)\n",
    "\n",
    "lista = [(element, element ** 2, element ** 1/2) for element in S]\n",
    "print(lista)"
   ]
  },
  {
   "cell_type": "markdown",
   "metadata": {},
   "source": [
    "### Zadanie 2 [20 pkt]\n",
    "Dla zdań\n",
    "\n",
    "1. `\"Good books tell the truth, even when they're about things that never have been and never will be. They're truthful in a different way.\"`\n",
    "* `\"We have no need of other worlds. We need mirrors. We don't know what to do with other worlds. A single world, our own, suffices us; but we can't accept it for what it is.\"`\n",
    "* `\"Man has gone out to explore other worlds and other civilizations without having explored his own labyrinth of dark passages and secret chambers, and without finding what lies behind doorways that he himself has sealed.\"`\n",
    "* `\"When smashing monuments, save the pedestals. They always come in handy.\"`\n",
    "* `\"We’re not searching for anything except people. We don’t need other worlds. We need mirrors.\"`\n",
    "\n",
    "Oblicz za pomocą wyrażeń listowych\n",
    "1. sumę wartości liczbowych z tablicy ASCII dla wszystkich znaków (wykorzystaj tutaj funkcję `sum`) [10 pkt]\n",
    "2. długości wszystkich wyrazów składających się na zdania [10 pkt]"
   ]
  },
  {
   "cell_type": "code",
   "execution_count": 44,
   "metadata": {},
   "outputs": [],
   "source": [
    "# rozwiazanie"
   ]
  },
  {
   "cell_type": "code",
   "execution_count": 45,
   "metadata": {},
   "outputs": [
    {
     "name": "stdout",
     "output_type": "stream",
     "text": [
      "12335\n",
      "15200\n",
      "20749\n",
      "6665\n",
      "24827\n",
      "[4, 5, 4, 3, 5, 4, 4, 7, 5, 6, 4, 5, 4, 4, 3, 5, 4, 2, 7, 8, 2, 1, 9, 3]\n",
      "[2, 4, 2, 4, 2, 5, 6, 2, 4, 7, 2, 5, 4, 4, 2, 2, 4, 5, 6, 1, 6, 5, 3, 3, 8, 3, 3, 2, 5, 6, 2, 3, 4, 2, 2]\n",
      "[3, 3, 4, 3, 2, 7, 5, 6, 3, 5, 13, 7, 6, 8, 3, 3, 9, 2, 4, 8, 3, 6, 8, 3, 7, 7, 4, 4, 6, 8, 4, 2, 7, 3, 6]\n",
      "[4, 8, 9, 4, 3, 9, 4, 6, 4, 2, 5]\n",
      "[5, 3, 9, 3, 8, 6, 6, 2, 5, 4, 5, 6, 2, 4, 7]\n"
     ]
    }
   ],
   "source": [
    "zdanie1 = \"Good books tell the truth, even when they're about things that never have been and never will be. They're truthful in a different way.\"\n",
    "zdanie2 = \"We have no need of other worlds. We need mirrors. We don't know what to do with other worlds. A single world, our own, suffices us; but we can't accept it for what it is.\"\n",
    "zdanie3 = \"Man has gone out to explore other worlds and other civilizations without having explored his own labyrinth of dark passages and secret chambers, and without finding what lies behind doorways that he himself has sealed.\"\n",
    "zdanie4 = \"When smashing monuments, save the pedestals. They always come in handy.\"\n",
    "zdanie5 = \"We’re not searching for anything except people. We don’t need other worlds. We need mirrors.\"\n",
    "\n",
    "suma1 = sum([ord(znak) for znak in zdanie1])\n",
    "print(suma1)\n",
    "\n",
    "suma2 = sum([ord(znak) for znak in zdanie2])\n",
    "print(suma2)\n",
    "\n",
    "suma3 = sum([ord(znak) for znak in zdanie3])\n",
    "print(suma3)\n",
    "\n",
    "suma4 = sum([ord(znak) for znak in zdanie4])\n",
    "print(suma4)\n",
    "\n",
    "suma5 = sum([ord(znak) for znak in zdanie5])\n",
    "print(suma5)\n",
    "\n",
    "print([len(wyraz) for wyraz in zdanie1.replace('.', '').replace(',', '').split(\" \")])\n",
    "\n",
    "print([len(wyraz) for wyraz in zdanie2.replace('.', '').replace(',', '').split(\" \")])\n",
    "\n",
    "print([len(wyraz) for wyraz in zdanie3.replace('.', '').replace(',', '').split(\" \")])\n",
    "\n",
    "print([len(wyraz) for wyraz in zdanie4.replace('.', '').replace(',', '').split(\" \")])\n",
    "\n",
    "print([len(wyraz) for wyraz in zdanie5.replace('.', '').replace(',', '').split(\" \")])"
   ]
  },
  {
   "cell_type": "markdown",
   "metadata": {},
   "source": [
    "### Zadanie 3 [15 pkt]\n",
    "Mamy 2, równoliczne listy liczb `L1` i `L2`. W 1 linijce, za pomocą wyrażeń listowych (po 3 pkt)\n",
    "\n",
    "1. Zbuduj listę krotek zawierających elementy obu list o tożsamym indeksie.\n",
    "* Zbuduj listę zawierającą sumę elementów obu list o tożsamym indeksie.\n",
    "* Zbuduj listę zawierającą iloczyn wszystkich elementów obu list (każdy z każdym).\n",
    "* Znajdź najczęściej wystepujący element listy `L1`.\n",
    "\n",
    "I jako dodatek oblicz (po 1 pkt)\n",
    "\n",
    "1. oblicz sumę obu list i podaj która jest większa\n",
    "* oblicz średnią obu list i podaj która jest większa\n",
    "* sumę największych i sumę najmniejszych elementów obu list"
   ]
  },
  {
   "cell_type": "code",
   "execution_count": 46,
   "metadata": {},
   "outputs": [
    {
     "name": "stdout",
     "output_type": "stream",
     "text": [
      "[-9, 12, 5, -11, -8, -6, -12, 2, 11, 14, 10, 0, 2, -3, 0, -13, -15, 19, 2, -9, 12, -19, -2, 0, 10, -15, -6, -1, -2, 9, 2, -15, 8]\n",
      "[5, 13, 5, 13, 3, 16, -3, 19, 0, -11, 1, -2, -11, -16, 15, 1, -10, 12, -2, -19, -15, 14, -2, 6, -8, -12, 0, 0, -8, -10, -19, -12, -19]\n"
     ]
    }
   ],
   "source": [
    "from random import randint\n",
    "A, B = -19, 19\n",
    "N = 33\n",
    "L1 = [randint(A, B) for i in range(N)]\n",
    "L2 = [randint(A, B) for i in range(N)]\n",
    "\n",
    "print(L1)\n",
    "print(L2)"
   ]
  },
  {
   "cell_type": "code",
   "execution_count": 47,
   "metadata": {},
   "outputs": [
    {
     "name": "stdout",
     "output_type": "stream",
     "text": [
      "[(-9, 5), (12, 13), (5, 5), (-11, 13), (-8, 3), (-6, 16), (-12, -3), (2, 19), (11, 0), (14, -11), (10, 1), (0, -2), (2, -11), (-3, -16), (0, 15), (-13, 1), (-15, -10), (19, 12), (2, -2), (-9, -19), (12, -15), (-19, 14), (-2, -2), (0, 6), (10, -8), (-15, -12), (-6, 0), (-1, 0), (-2, -8), (9, -10), (2, -19), (-15, -12), (8, -19)]\n"
     ]
    }
   ],
   "source": [
    "# rozwiazanie\n",
    "\n",
    "lista = [(L1[index], L2[index]) for index in range(N)]\n",
    "print(lista)"
   ]
  },
  {
   "cell_type": "code",
   "execution_count": 48,
   "metadata": {},
   "outputs": [
    {
     "name": "stdout",
     "output_type": "stream",
     "text": [
      "[-4, 25, 10, 2, -5, 10, -15, 21, 11, 3, 11, -2, -9, -19, 15, -12, -25, 31, 0, -28, -3, -5, -4, 6, 2, -27, -6, -1, -10, -1, -17, -27, -11]\n"
     ]
    }
   ],
   "source": [
    "lista = [(L1[index] + L2[index]) for index in range(N)]\n",
    "print(lista)"
   ]
  },
  {
   "cell_type": "code",
   "execution_count": 49,
   "metadata": {},
   "outputs": [
    {
     "name": "stdout",
     "output_type": "stream",
     "text": [
      "[-45, -117, -45, -117, -27, -144, 27, -171, 0, 99, -9, 18, 99, 144, -135, -9, 90, -108, 18, 171, 135, -126, 18, -54, 72, 108, 0, 0, 72, 90, 171, 108, 171, 60, 156, 60, 156, 36, 192, -36, 228, 0, -132, 12, -24, -132, -192, 180, 12, -120, 144, -24, -228, -180, 168, -24, 72, -96, -144, 0, 0, -96, -120, -228, -144, -228, 25, 65, 25, 65, 15, 80, -15, 95, 0, -55, 5, -10, -55, -80, 75, 5, -50, 60, -10, -95, -75, 70, -10, 30, -40, -60, 0, 0, -40, -50, -95, -60, -95, -55, -143, -55, -143, -33, -176, 33, -209, 0, 121, -11, 22, 121, 176, -165, -11, 110, -132, 22, 209, 165, -154, 22, -66, 88, 132, 0, 0, 88, 110, 209, 132, 209, -40, -104, -40, -104, -24, -128, 24, -152, 0, 88, -8, 16, 88, 128, -120, -8, 80, -96, 16, 152, 120, -112, 16, -48, 64, 96, 0, 0, 64, 80, 152, 96, 152, -30, -78, -30, -78, -18, -96, 18, -114, 0, 66, -6, 12, 66, 96, -90, -6, 60, -72, 12, 114, 90, -84, 12, -36, 48, 72, 0, 0, 48, 60, 114, 72, 114, -60, -156, -60, -156, -36, -192, 36, -228, 0, 132, -12, 24, 132, 192, -180, -12, 120, -144, 24, 228, 180, -168, 24, -72, 96, 144, 0, 0, 96, 120, 228, 144, 228, 10, 26, 10, 26, 6, 32, -6, 38, 0, -22, 2, -4, -22, -32, 30, 2, -20, 24, -4, -38, -30, 28, -4, 12, -16, -24, 0, 0, -16, -20, -38, -24, -38, 55, 143, 55, 143, 33, 176, -33, 209, 0, -121, 11, -22, -121, -176, 165, 11, -110, 132, -22, -209, -165, 154, -22, 66, -88, -132, 0, 0, -88, -110, -209, -132, -209, 70, 182, 70, 182, 42, 224, -42, 266, 0, -154, 14, -28, -154, -224, 210, 14, -140, 168, -28, -266, -210, 196, -28, 84, -112, -168, 0, 0, -112, -140, -266, -168, -266, 50, 130, 50, 130, 30, 160, -30, 190, 0, -110, 10, -20, -110, -160, 150, 10, -100, 120, -20, -190, -150, 140, -20, 60, -80, -120, 0, 0, -80, -100, -190, -120, -190, 0, 0, 0, 0, 0, 0, 0, 0, 0, 0, 0, 0, 0, 0, 0, 0, 0, 0, 0, 0, 0, 0, 0, 0, 0, 0, 0, 0, 0, 0, 0, 0, 0, 10, 26, 10, 26, 6, 32, -6, 38, 0, -22, 2, -4, -22, -32, 30, 2, -20, 24, -4, -38, -30, 28, -4, 12, -16, -24, 0, 0, -16, -20, -38, -24, -38, -15, -39, -15, -39, -9, -48, 9, -57, 0, 33, -3, 6, 33, 48, -45, -3, 30, -36, 6, 57, 45, -42, 6, -18, 24, 36, 0, 0, 24, 30, 57, 36, 57, 0, 0, 0, 0, 0, 0, 0, 0, 0, 0, 0, 0, 0, 0, 0, 0, 0, 0, 0, 0, 0, 0, 0, 0, 0, 0, 0, 0, 0, 0, 0, 0, 0, -65, -169, -65, -169, -39, -208, 39, -247, 0, 143, -13, 26, 143, 208, -195, -13, 130, -156, 26, 247, 195, -182, 26, -78, 104, 156, 0, 0, 104, 130, 247, 156, 247, -75, -195, -75, -195, -45, -240, 45, -285, 0, 165, -15, 30, 165, 240, -225, -15, 150, -180, 30, 285, 225, -210, 30, -90, 120, 180, 0, 0, 120, 150, 285, 180, 285, 95, 247, 95, 247, 57, 304, -57, 361, 0, -209, 19, -38, -209, -304, 285, 19, -190, 228, -38, -361, -285, 266, -38, 114, -152, -228, 0, 0, -152, -190, -361, -228, -361, 10, 26, 10, 26, 6, 32, -6, 38, 0, -22, 2, -4, -22, -32, 30, 2, -20, 24, -4, -38, -30, 28, -4, 12, -16, -24, 0, 0, -16, -20, -38, -24, -38, -45, -117, -45, -117, -27, -144, 27, -171, 0, 99, -9, 18, 99, 144, -135, -9, 90, -108, 18, 171, 135, -126, 18, -54, 72, 108, 0, 0, 72, 90, 171, 108, 171, 60, 156, 60, 156, 36, 192, -36, 228, 0, -132, 12, -24, -132, -192, 180, 12, -120, 144, -24, -228, -180, 168, -24, 72, -96, -144, 0, 0, -96, -120, -228, -144, -228, -95, -247, -95, -247, -57, -304, 57, -361, 0, 209, -19, 38, 209, 304, -285, -19, 190, -228, 38, 361, 285, -266, 38, -114, 152, 228, 0, 0, 152, 190, 361, 228, 361, -10, -26, -10, -26, -6, -32, 6, -38, 0, 22, -2, 4, 22, 32, -30, -2, 20, -24, 4, 38, 30, -28, 4, -12, 16, 24, 0, 0, 16, 20, 38, 24, 38, 0, 0, 0, 0, 0, 0, 0, 0, 0, 0, 0, 0, 0, 0, 0, 0, 0, 0, 0, 0, 0, 0, 0, 0, 0, 0, 0, 0, 0, 0, 0, 0, 0, 50, 130, 50, 130, 30, 160, -30, 190, 0, -110, 10, -20, -110, -160, 150, 10, -100, 120, -20, -190, -150, 140, -20, 60, -80, -120, 0, 0, -80, -100, -190, -120, -190, -75, -195, -75, -195, -45, -240, 45, -285, 0, 165, -15, 30, 165, 240, -225, -15, 150, -180, 30, 285, 225, -210, 30, -90, 120, 180, 0, 0, 120, 150, 285, 180, 285, -30, -78, -30, -78, -18, -96, 18, -114, 0, 66, -6, 12, 66, 96, -90, -6, 60, -72, 12, 114, 90, -84, 12, -36, 48, 72, 0, 0, 48, 60, 114, 72, 114, -5, -13, -5, -13, -3, -16, 3, -19, 0, 11, -1, 2, 11, 16, -15, -1, 10, -12, 2, 19, 15, -14, 2, -6, 8, 12, 0, 0, 8, 10, 19, 12, 19, -10, -26, -10, -26, -6, -32, 6, -38, 0, 22, -2, 4, 22, 32, -30, -2, 20, -24, 4, 38, 30, -28, 4, -12, 16, 24, 0, 0, 16, 20, 38, 24, 38, 45, 117, 45, 117, 27, 144, -27, 171, 0, -99, 9, -18, -99, -144, 135, 9, -90, 108, -18, -171, -135, 126, -18, 54, -72, -108, 0, 0, -72, -90, -171, -108, -171, 10, 26, 10, 26, 6, 32, -6, 38, 0, -22, 2, -4, -22, -32, 30, 2, -20, 24, -4, -38, -30, 28, -4, 12, -16, -24, 0, 0, -16, -20, -38, -24, -38, -75, -195, -75, -195, -45, -240, 45, -285, 0, 165, -15, 30, 165, 240, -225, -15, 150, -180, 30, 285, 225, -210, 30, -90, 120, 180, 0, 0, 120, 150, 285, 180, 285, 40, 104, 40, 104, 24, 128, -24, 152, 0, -88, 8, -16, -88, -128, 120, 8, -80, 96, -16, -152, -120, 112, -16, 48, -64, -96, 0, 0, -64, -80, -152, -96, -152]\n"
     ]
    }
   ],
   "source": [
    "lista = [(element_1 * element_2) for element_1 in L1 for element_2 in L2]\n",
    "print(lista)"
   ]
  },
  {
   "cell_type": "code",
   "execution_count": 50,
   "metadata": {},
   "outputs": [
    {
     "name": "stdout",
     "output_type": "stream",
     "text": [
      "2\n"
     ]
    }
   ],
   "source": [
    "print(max([(L1.count(element_1), element_1) for element_1 in L1])[1])"
   ]
  },
  {
   "cell_type": "code",
   "execution_count": 51,
   "metadata": {},
   "outputs": [
    {
     "name": "stdout",
     "output_type": "stream",
     "text": [
      "Suma L1: -28\n",
      "Suma L2: -56\n",
      "Suma L1 jest większa.\n"
     ]
    }
   ],
   "source": [
    "print(f'Suma L1: {sum(L1)}')\n",
    "print(f'Suma L2: {sum(L2)}')\n",
    "\n",
    "if sum(L1) > sum(L2):\n",
    "    print(f'Suma L1 jest większa.')\n",
    "else:\n",
    "    print(f'Suma L2 jest większa.')"
   ]
  },
  {
   "cell_type": "code",
   "execution_count": 52,
   "metadata": {},
   "outputs": [
    {
     "name": "stdout",
     "output_type": "stream",
     "text": [
      "Średnia L1: -0.8484848484848485\n",
      "Średnia L2: -1.696969696969697\n",
      "Średnia L1 jest większa.\n"
     ]
    }
   ],
   "source": [
    "print(f'Średnia L1: {sum(L1) / len(L1)}')\n",
    "print(f'Średnia L2: {sum(L2) / len(L2)}')\n",
    "\n",
    "if (sum(L1) / len(L1)) > (sum(L2) / len(L2)):\n",
    "    print(f'Średnia L1 jest większa.')\n",
    "else:\n",
    "    print(f'Średnia L2 jest większa.')"
   ]
  },
  {
   "cell_type": "code",
   "execution_count": 53,
   "metadata": {},
   "outputs": [
    {
     "name": "stdout",
     "output_type": "stream",
     "text": [
      "Suma największych liczb z list: 38.\n",
      "Suma najmniejszych liczb z list: -38.\n"
     ]
    }
   ],
   "source": [
    "print(f'Suma największych liczb z list: {max(L1) + max(L2)}.')\n",
    "print(f'Suma najmniejszych liczb z list: {min(L1) + min(L2)}.')"
   ]
  },
  {
   "cell_type": "markdown",
   "metadata": {},
   "source": [
    "### Zadanie 4 [35 pkt] Szyfr Cezara\n",
    "Każda literka posiada swoją kolejność w alfabecie \n",
    "\n",
    "```\n",
    "a   b   c   d   e   f   g   h   i   j   k   l   m   n   o   p   q   r   s   t   u   v   w   x   y   z\n",
    "0   1   2   3   4   5   6   7   8   9   10  11  12  13  14  15  16  17  18  19  20  21  22  23  24  25\n",
    "```\n",
    "\n",
    "Za pomocą przesunięcia liter jakiegoś wyrazu (zdania) o określoną ilość liter w lewo lub w prawo możemy w prosty sposób zaszyfrować jakąś wiadomość. Przykładowo, jeżeli literki słowa\n",
    "\n",
    "```\n",
    "'python'\n",
    "```\n",
    "\n",
    "przesuniemy o 3 literki w prawo, to dostaniemy\n",
    "```\n",
    "'sbwkrq'\n",
    "```\n",
    "\n",
    "Powyżej można prześledzić, że `p -> s`, `t -> w`, ale `y -> b`, ponieważ musimy wrócić do początku alfabetu bo dalej nie ma literek.\n",
    "\n",
    "### Zadanie\n",
    "Stwórz wyrażenie listowe, szyfrujące (przesuwające o zadany skok `shift`) dowolny napis `text` składający się z małych liter. Możesz ograniczyć się do literek z alfabetu ASCII.\n"
   ]
  },
  {
   "cell_type": "code",
   "execution_count": 54,
   "metadata": {},
   "outputs": [
    {
     "name": "stdout",
     "output_type": "stream",
     "text": [
      "abcdefghijklmnopqrstuvwxyz\n",
      "wkh txlfn eurzq ira mxpsv ryhu wkh odcb grj\n"
     ]
    }
   ],
   "source": [
    "from string import ascii_lowercase as alphabet\n",
    "print(alphabet)\n",
    "\n",
    "shift = 3\n",
    "text = 'the quick brown fox jumps over the lazy dog'\n",
    "\n",
    "# jednolinijkowe rozwiazanie\n",
    "\n",
    "print(\"\".join(alphabet[(alphabet.index(literka) + shift) % 26] if literka != ' ' else ' ' for literka in text))"
   ]
  },
  {
   "cell_type": "code",
   "execution_count": null,
   "metadata": {},
   "outputs": [],
   "source": []
  },
  {
   "cell_type": "code",
   "execution_count": null,
   "metadata": {},
   "outputs": [],
   "source": []
  }
 ],
 "metadata": {
  "kernelspec": {
   "display_name": "Python 3 (ipykernel)",
   "language": "python",
   "name": "python3"
  },
  "language_info": {
   "codemirror_mode": {
    "name": "ipython",
    "version": 3
   },
   "file_extension": ".py",
   "mimetype": "text/x-python",
   "name": "python",
   "nbconvert_exporter": "python",
   "pygments_lexer": "ipython3",
   "version": "3.9.5"
  }
 },
 "nbformat": 4,
 "nbformat_minor": 2
}
