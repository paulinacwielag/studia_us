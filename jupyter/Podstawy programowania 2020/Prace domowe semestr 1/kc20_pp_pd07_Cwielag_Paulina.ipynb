{
 "cells": [
  {
   "cell_type": "markdown",
   "metadata": {},
   "source": [
    "## Podstawy programowania\n",
    "### Praca domowa 07 [100 pkt]\n",
    "\n",
    "Proszę użyć tego arkusza do rozwiązania zadań domowych. Na początek proszę zmienić 'nazwisko_imie' na Państwa nazwisko i imie, bez polskich znaków diakrytycznych.\n",
    "\n",
    "Część zadań to powtórka z zajęć. Jak już Państwo zaprogramują wszystko, proszę zapisać arkusz (File->Save and Checkpoint) oraz zapisać arkusz na dysk (File->Download as->Notebook). Ten plik proszę wgrać na classroom. \n",
    "\n",
    "Jeszcze jedna uwaga: Używamy zmiennych oraz komentarzy (tam gdzie to w/g Państwa niezbędne)."
   ]
  },
  {
   "cell_type": "code",
   "execution_count": null,
   "metadata": {},
   "outputs": [],
   "source": [
    "# współpraca: Igor Juraszek\n",
    "# przybliżony czas poświęcony na tą pracę domową: 6h"
   ]
  },
  {
   "cell_type": "code",
   "execution_count": null,
   "metadata": {},
   "outputs": [],
   "source": []
  },
  {
   "cell_type": "markdown",
   "metadata": {},
   "source": [
    "### wyrażenia listowe\n",
    "\n",
    "```\n",
    "[f(el) for el in sekwencja]\n",
    "```\n",
    "\n",
    "Pętle w wyrażeniach listowych można zagnieżdżać, podobnie jak zwykłe pętle. Np:\n",
    "\n",
    "```\n",
    "[(el1, el2) for el1 in sekwencja1 for el2 in sekwencja2]\n",
    "```\n",
    "\n",
    "Można też stosować (zagnieżdżone) rozgałęzienia\n",
    "\n",
    "```\n",
    "[el for el in sekwencja if (el > 0) if ((el ** 2) % 2 == 0)]\n",
    "```\n",
    "\n",
    "### wyrażenia słownikowe\n",
    "\n",
    "```\n",
    "{g(el): f(el) for el in sekwencja}\n",
    "```\n",
    "\n",
    "Pętle te można zagnieżdżać, podobnie jak zwykłe pętle. Np:\n",
    "\n",
    "```\n",
    "{el1: el2 for el1 in sekwencja1 for el2 in sekwencja2}\n",
    "```\n",
    "\n",
    "Można też stosować (zagnieżdżone) rozgałęzienia\n",
    "\n",
    "```\n",
    "{g(el): g(el) for el in sekwencja if (el > 0) if ((el ** 2) % 2 == 0)}\n",
    "```\n",
    "\n",
    "\n",
    "### łańcuchy znaków i `join`\n",
    "```\n",
    "separator.join([str(i) for i in sekwencja])\n",
    "```\n",
    "np: \n",
    "```\n",
    ">>> \" - \".join([str(i) for i in range(1, 11)])\n",
    "'1 - 2 - 3 - 4 - 5 - 6 - 7 - 8 - 9 - 10'\n",
    "```"
   ]
  },
  {
   "cell_type": "code",
   "execution_count": 5,
   "metadata": {},
   "outputs": [],
   "source": [
    "S = tuple(range(1, 11))"
   ]
  },
  {
   "cell_type": "markdown",
   "metadata": {},
   "source": [
    "### Zadanie 1 [20 pkt]\n",
    "Kożystając z powyższej wyjściowej sekwencji `S` liczb naturalnych od 1 do 10 zbuduj za pomocą \n",
    "\n",
    "1. pętli `while` oraz metody `update`\n",
    "3. wyrażenia listowego\n",
    "\n",
    "następujące słowniki\n",
    "\n",
    "1. pierwiastków 5 stopnia elementów `S`\n",
    "2. znaków ASCII po wcześniejszym dodaniu 97 do każdej wartości (`97 + 1`, `97 + 2`, ...) sekwencji `S`\n",
    "3. wartości funkcji $\\sin(\\pi * i / 10)$, dla `i` z sekwencji `S` (`from math import sin, pi`)\n",
    "7. krotek liczb, ich kwadratów oraz sześcianów dla elementów `S`\n",
    "8. wartości funkcji $(1 - k) / (k + 1)$, dla `k` z sekwencji `S`\n",
    "9. reszt z dzielenia przez 3 kwadratów elementów `S`\n",
    "10. wartości `True` lub `False` warunku sprawdzającego czy sześcian elementu `S` jest podzielny przez `3`\n",
    "11. krotek elementów sekwencji `S` oraz ich wartości ze znakiem przeciwnym \n",
    "12. krotek elementów sekwencji `S` oraz ich kwadratów i pierwiastków kwadratowych\n",
    "18. list 8 pierwszych wielokrotności elementów `S` (`[1, 2, 3, 4, 5, 6, 7, 8], [2, 4, 6, 8, 10, 12, 14, 16], ...`)\n",
    "\n",
    "kluczami za każdym razem powinny być elementy `S`"
   ]
  },
  {
   "cell_type": "code",
   "execution_count": null,
   "metadata": {},
   "outputs": [],
   "source": [
    "# rozwiazanie"
   ]
  },
  {
   "cell_type": "code",
   "execution_count": 5,
   "metadata": {},
   "outputs": [
    {
     "name": "stdout",
     "output_type": "stream",
     "text": [
      "{1: 1.0, 2: 1.148698354997035, 3: 1.2457309396155174, 4: 1.3195079107728942, 5: 1.379729661461215, 6: 1.4309690811052556, 7: 1.4757731615945522, 8: 1.5157165665103982, 9: 1.5518455739153598, 10: 1.5848931924611136}\n"
     ]
    },
    {
     "data": {
      "text/plain": [
       "{1: 1.0,\n",
       " 2: 1.148698354997035,\n",
       " 3: 1.2457309396155174,\n",
       " 4: 1.3195079107728942,\n",
       " 5: 1.379729661461215,\n",
       " 6: 1.4309690811052556,\n",
       " 7: 1.4757731615945522,\n",
       " 8: 1.5157165665103982,\n",
       " 9: 1.5518455739153598,\n",
       " 10: 1.5848931924611136}"
      ]
     },
     "execution_count": 5,
     "metadata": {},
     "output_type": "execute_result"
    }
   ],
   "source": [
    "# 1\n",
    "\n",
    "S = tuple(range(1, 11))\n",
    "\n",
    "pierwiastki_5_stopnia = {}\n",
    "\n",
    "i = 0\n",
    "\n",
    "while i < len(S):\n",
    "    liczba = S[i]\n",
    "    pierwiastki_5_stopnia.update({liczba: liczba ** (1/5)})\n",
    "    i += 1\n",
    "    \n",
    "print(pierwiastki_5_stopnia)\n",
    "\n",
    "\n",
    "\n",
    "pierwiastki_5_stopnia = {liczba: liczba ** (1/5) for liczba in S}\n",
    "pierwiastki_5_stopnia"
   ]
  },
  {
   "cell_type": "code",
   "execution_count": 6,
   "metadata": {},
   "outputs": [
    {
     "name": "stdout",
     "output_type": "stream",
     "text": [
      "{1: 'b', 2: 'c', 3: 'd', 4: 'e', 5: 'f', 6: 'g', 7: 'h', 8: 'i', 9: 'j', 10: 'k'}\n"
     ]
    },
    {
     "data": {
      "text/plain": [
       "{1: 'b',\n",
       " 2: 'c',\n",
       " 3: 'd',\n",
       " 4: 'e',\n",
       " 5: 'f',\n",
       " 6: 'g',\n",
       " 7: 'h',\n",
       " 8: 'i',\n",
       " 9: 'j',\n",
       " 10: 'k'}"
      ]
     },
     "execution_count": 6,
     "metadata": {},
     "output_type": "execute_result"
    }
   ],
   "source": [
    "# 2\n",
    "\n",
    "S = tuple(range(1, 11))\n",
    "\n",
    "znaki_ascii = {}\n",
    "\n",
    "i = 0\n",
    "\n",
    "while i < len(S):\n",
    "    liczba = S[i]\n",
    "    znaki_ascii.update({liczba: chr(liczba + 97)})\n",
    "    i += 1\n",
    "    \n",
    "print(znaki_ascii)\n",
    "\n",
    "\n",
    "\n",
    "znaki_ascii = {liczba: chr(liczba + 97) for liczba in S}\n",
    "znaki_ascii"
   ]
  },
  {
   "cell_type": "code",
   "execution_count": 7,
   "metadata": {},
   "outputs": [
    {
     "name": "stdout",
     "output_type": "stream",
     "text": [
      "{1: 0.3090169943749474, 2: 0.5877852522924731, 3: 0.8090169943749475, 4: 0.9510565162951535, 5: 1.0, 6: 0.9510565162951536, 7: 0.8090169943749475, 8: 0.5877852522924732, 9: 0.3090169943749475, 10: 1.2246467991473532e-16}\n"
     ]
    },
    {
     "data": {
      "text/plain": [
       "{1: 0.3090169943749474,\n",
       " 2: 0.5877852522924731,\n",
       " 3: 0.8090169943749475,\n",
       " 4: 0.9510565162951535,\n",
       " 5: 1.0,\n",
       " 6: 0.9510565162951536,\n",
       " 7: 0.8090169943749475,\n",
       " 8: 0.5877852522924732,\n",
       " 9: 0.3090169943749475,\n",
       " 10: 1.2246467991473532e-16}"
      ]
     },
     "execution_count": 7,
     "metadata": {},
     "output_type": "execute_result"
    }
   ],
   "source": [
    "# 3\n",
    "\n",
    "from math import sin, pi\n",
    "\n",
    "S = tuple(range(1, 11))\n",
    "\n",
    "wartosc_funkcji = {}\n",
    "\n",
    "i = 0\n",
    "\n",
    "while i < len(S):\n",
    "    liczba = S[i]\n",
    "    wartosc_funkcji.update({liczba: sin(pi * liczba / 10)})\n",
    "    i += 1\n",
    "    \n",
    "print(wartosc_funkcji)\n",
    "\n",
    "\n",
    "\n",
    "wartosc_funkcji = {liczba: sin(pi * liczba / 10)  for liczba in S}\n",
    "wartosc_funkcji"
   ]
  },
  {
   "cell_type": "code",
   "execution_count": 8,
   "metadata": {},
   "outputs": [
    {
     "name": "stdout",
     "output_type": "stream",
     "text": [
      "{1: (1, 1, 1), 2: (2, 4, 8), 3: (3, 9, 27), 4: (4, 16, 64), 5: (5, 25, 125), 6: (6, 36, 216), 7: (7, 49, 343), 8: (8, 64, 512), 9: (9, 81, 729), 10: (10, 100, 1000)}\n"
     ]
    },
    {
     "data": {
      "text/plain": [
       "{1: (1, 1, 1),\n",
       " 2: (2, 4, 8),\n",
       " 3: (3, 9, 27),\n",
       " 4: (4, 16, 64),\n",
       " 5: (5, 25, 125),\n",
       " 6: (6, 36, 216),\n",
       " 7: (7, 49, 343),\n",
       " 8: (8, 64, 512),\n",
       " 9: (9, 81, 729),\n",
       " 10: (10, 100, 1000)}"
      ]
     },
     "execution_count": 8,
     "metadata": {},
     "output_type": "execute_result"
    }
   ],
   "source": [
    "# 4 \n",
    "\n",
    "S = tuple(range(1, 11))\n",
    "\n",
    "krotka_liczb_kwadratow_szescianow = {}\n",
    "\n",
    "i = 0\n",
    "\n",
    "while i < len(S):\n",
    "    liczba = S[i]\n",
    "    krotka_liczb_kwadratow_szescianow.update({liczba: (liczba, liczba ** 2, liczba ** 3)})\n",
    "    i += 1\n",
    "    \n",
    "print(krotka_liczb_kwadratow_szescianow)\n",
    "\n",
    "\n",
    "\n",
    "krotka_liczb_kwadratow_szescianow = {liczba: (liczba, liczba ** 2, liczba ** 3) for liczba in S}\n",
    "krotka_liczb_kwadratow_szescianow"
   ]
  },
  {
   "cell_type": "code",
   "execution_count": 9,
   "metadata": {},
   "outputs": [
    {
     "name": "stdout",
     "output_type": "stream",
     "text": [
      "{1: 0.0, 2: -0.3333333333333333, 3: -0.5, 4: -0.6, 5: -0.6666666666666666, 6: -0.7142857142857143, 7: -0.75, 8: -0.7777777777777778, 9: -0.8, 10: -0.8181818181818182}\n"
     ]
    },
    {
     "data": {
      "text/plain": [
       "{1: 0.0,\n",
       " 2: -0.3333333333333333,\n",
       " 3: -0.5,\n",
       " 4: -0.6,\n",
       " 5: -0.6666666666666666,\n",
       " 6: -0.7142857142857143,\n",
       " 7: -0.75,\n",
       " 8: -0.7777777777777778,\n",
       " 9: -0.8,\n",
       " 10: -0.8181818181818182}"
      ]
     },
     "execution_count": 9,
     "metadata": {},
     "output_type": "execute_result"
    }
   ],
   "source": [
    "# 5\n",
    "\n",
    "S = tuple(range(1, 11))\n",
    "\n",
    "dzielenie_nawiasow = {}\n",
    "\n",
    "i = 0\n",
    "\n",
    "while i < len(S):\n",
    "    liczba = S[i]\n",
    "    dzielenie_nawiasow.update({liczba: (1 - liczba) / (liczba + 1)})\n",
    "    i += 1\n",
    "    \n",
    "print(dzielenie_nawiasow)\n",
    "\n",
    "\n",
    "\n",
    "dzielenie_nawiasow = {liczba: (1 - liczba) / (liczba + 1)  for liczba in S}\n",
    "dzielenie_nawiasow"
   ]
  },
  {
   "cell_type": "code",
   "execution_count": 10,
   "metadata": {},
   "outputs": [
    {
     "name": "stdout",
     "output_type": "stream",
     "text": [
      "{1: 1, 2: 1, 3: 0, 4: 1, 5: 1, 6: 0, 7: 1, 8: 1, 9: 0, 10: 1}\n"
     ]
    },
    {
     "data": {
      "text/plain": [
       "{1: 1, 2: 1, 3: 0, 4: 1, 5: 1, 6: 0, 7: 1, 8: 1, 9: 0, 10: 1}"
      ]
     },
     "execution_count": 10,
     "metadata": {},
     "output_type": "execute_result"
    }
   ],
   "source": [
    "# 6\n",
    "\n",
    "S = tuple(range(1, 11))\n",
    "\n",
    "reszta_z_dzielenia_przez_3_kwadratow = {}\n",
    "\n",
    "i = 0\n",
    "\n",
    "while i < len(S):\n",
    "    liczba = S[i]\n",
    "    reszta_z_dzielenia_przez_3_kwadratow.update({liczba: (liczba ** 2) % 3})\n",
    "    i += 1\n",
    "    \n",
    "print(reszta_z_dzielenia_przez_3_kwadratow)\n",
    "\n",
    "\n",
    "\n",
    "reszta_z_dzielenia_przez_3_kwadratow = {liczba: (liczba ** 2) % 3 for liczba in S}\n",
    "reszta_z_dzielenia_przez_3_kwadratow"
   ]
  },
  {
   "cell_type": "code",
   "execution_count": 11,
   "metadata": {},
   "outputs": [
    {
     "name": "stdout",
     "output_type": "stream",
     "text": [
      "{1: False, 2: False, 3: True, 4: False, 5: False, 6: True, 7: False, 8: False, 9: True, 10: False}\n"
     ]
    },
    {
     "data": {
      "text/plain": [
       "{1: False,\n",
       " 2: False,\n",
       " 3: True,\n",
       " 4: False,\n",
       " 5: False,\n",
       " 6: True,\n",
       " 7: False,\n",
       " 8: False,\n",
       " 9: True,\n",
       " 10: False}"
      ]
     },
     "execution_count": 11,
     "metadata": {},
     "output_type": "execute_result"
    }
   ],
   "source": [
    "# 7\n",
    "\n",
    "S = tuple(range(1, 11))\n",
    "\n",
    "czy_szescian_podzielny_przez_3 = {}\n",
    "\n",
    "i = 0\n",
    "\n",
    "while i < len(S):\n",
    "    liczba = S[i]\n",
    "    czy_szescian_podzielny_przez_3.update({liczba: (liczba ** 3) % 3 == 0})\n",
    "    i += 1\n",
    "    \n",
    "print(czy_szescian_podzielny_przez_3)\n",
    "\n",
    "\n",
    "\n",
    "czy_szescian_podzielny_przez_3 = {liczba: (liczba ** 3) % 3 == 0 for liczba in S}\n",
    "czy_szescian_podzielny_przez_3"
   ]
  },
  {
   "cell_type": "code",
   "execution_count": 12,
   "metadata": {},
   "outputs": [
    {
     "name": "stdout",
     "output_type": "stream",
     "text": [
      "{1: (1, -1), 2: (2, -2), 3: (3, -3), 4: (4, -4), 5: (5, -5), 6: (6, -6), 7: (7, -7), 8: (8, -8), 9: (9, -9), 10: (10, -10)}\n"
     ]
    },
    {
     "data": {
      "text/plain": [
       "{1: (1, -1),\n",
       " 2: (2, -2),\n",
       " 3: (3, -3),\n",
       " 4: (4, -4),\n",
       " 5: (5, -5),\n",
       " 6: (6, -6),\n",
       " 7: (7, -7),\n",
       " 8: (8, -8),\n",
       " 9: (9, -9),\n",
       " 10: (10, -10)}"
      ]
     },
     "execution_count": 12,
     "metadata": {},
     "output_type": "execute_result"
    }
   ],
   "source": [
    "# 8\n",
    "\n",
    "S = tuple(range(1, 11))\n",
    "\n",
    "znaki_przeciwne = {}\n",
    "\n",
    "i = 0\n",
    "\n",
    "while i < len(S):\n",
    "    liczba = S[i]\n",
    "    znaki_przeciwne.update({liczba: (liczba, liczba * (- 1))})\n",
    "    i += 1\n",
    "    \n",
    "print(znaki_przeciwne)\n",
    "\n",
    "\n",
    "\n",
    "znaki_przeciwne = {liczba: (liczba, liczba * (- 1)) for liczba in S}\n",
    "znaki_przeciwne"
   ]
  },
  {
   "cell_type": "code",
   "execution_count": 13,
   "metadata": {},
   "outputs": [
    {
     "name": "stdout",
     "output_type": "stream",
     "text": [
      "{1: (1, 1, 1.0), 2: (2, 4, 1.4142135623730951), 3: (3, 9, 1.7320508075688772), 4: (4, 16, 2.0), 5: (5, 25, 2.23606797749979), 6: (6, 36, 2.449489742783178), 7: (7, 49, 2.6457513110645907), 8: (8, 64, 2.8284271247461903), 9: (9, 81, 3.0), 10: (10, 100, 3.1622776601683795)}\n"
     ]
    },
    {
     "data": {
      "text/plain": [
       "{1: (1, 1, 1.0),\n",
       " 2: (2, 4, 1.4142135623730951),\n",
       " 3: (3, 9, 1.7320508075688772),\n",
       " 4: (4, 16, 2.0),\n",
       " 5: (5, 25, 2.23606797749979),\n",
       " 6: (6, 36, 2.449489742783178),\n",
       " 7: (7, 49, 2.6457513110645907),\n",
       " 8: (8, 64, 2.8284271247461903),\n",
       " 9: (9, 81, 3.0),\n",
       " 10: (10, 100, 3.1622776601683795)}"
      ]
     },
     "execution_count": 13,
     "metadata": {},
     "output_type": "execute_result"
    }
   ],
   "source": [
    "# 9\n",
    "\n",
    "S = tuple(range(1, 11))\n",
    "\n",
    "liczba_kwadrat_pierwiastek = {}\n",
    "\n",
    "i = 0\n",
    "\n",
    "while i < len(S):\n",
    "    liczba = S[i]\n",
    "    liczba_kwadrat_pierwiastek.update({liczba: (liczba, liczba ** 2, liczba ** (1 / 2))})\n",
    "    i += 1\n",
    "    \n",
    "print(liczba_kwadrat_pierwiastek)\n",
    "\n",
    "\n",
    "\n",
    "liczba_kwadrat_pierwiastek = {liczba: (liczba, liczba ** 2, liczba ** (1 / 2)) for liczba in S}\n",
    "liczba_kwadrat_pierwiastek"
   ]
  },
  {
   "cell_type": "code",
   "execution_count": 14,
   "metadata": {},
   "outputs": [
    {
     "name": "stdout",
     "output_type": "stream",
     "text": [
      "{1: [1, 2, 3, 4, 5, 6, 7, 8], 2: [2, 4, 6, 8, 10, 12, 14, 16], 3: [3, 6, 9, 12, 15, 18, 21, 24], 4: [4, 8, 12, 16, 20, 24, 28, 32], 5: [5, 10, 15, 20, 25, 30, 35, 40], 6: [6, 12, 18, 24, 30, 36, 42, 48], 7: [7, 14, 21, 28, 35, 42, 49, 56], 8: [8, 16, 24, 32, 40, 48, 56, 64], 9: [9, 18, 27, 36, 45, 54, 63, 72], 10: [10, 20, 30, 40, 50, 60, 70, 80]}\n"
     ]
    },
    {
     "data": {
      "text/plain": [
       "{1: [1, 2, 3, 4, 5, 6, 7, 8],\n",
       " 2: [2, 4, 6, 8, 10, 12, 14, 16],\n",
       " 3: [3, 6, 9, 12, 15, 18, 21, 24],\n",
       " 4: [4, 8, 12, 16, 20, 24, 28, 32],\n",
       " 5: [5, 10, 15, 20, 25, 30, 35, 40],\n",
       " 6: [6, 12, 18, 24, 30, 36, 42, 48],\n",
       " 7: [7, 14, 21, 28, 35, 42, 49, 56],\n",
       " 8: [8, 16, 24, 32, 40, 48, 56, 64],\n",
       " 9: [9, 18, 27, 36, 45, 54, 63, 72],\n",
       " 10: [10, 20, 30, 40, 50, 60, 70, 80]}"
      ]
     },
     "execution_count": 14,
     "metadata": {},
     "output_type": "execute_result"
    }
   ],
   "source": [
    "# 10\n",
    "\n",
    "S = tuple(range(1, 11))\n",
    "\n",
    "wielokrotnosci = {}\n",
    "\n",
    "i = 0\n",
    "\n",
    "while i < len(S):\n",
    "    liczba = S[i]\n",
    "    wielokrotnosci.update({liczba: [liczba * mnoznik for mnoznik in range(1, 9)]})\n",
    "    i += 1\n",
    "    \n",
    "print(wielokrotnosci)\n",
    "\n",
    "\n",
    "\n",
    "wielokrotnosci = {liczba: [liczba * mnoznik for mnoznik in range(1, 9)] for liczba in S}\n",
    "wielokrotnosci"
   ]
  },
  {
   "cell_type": "markdown",
   "metadata": {},
   "source": [
    "### Zadanie 2 [15 pkt]\n",
    "\n",
    "Z zastosowaniem wyrażenia listowego oraz funkcji `enumerate` napisz program, który znajduje indeks pierwszego dodatniego elementu listy podanych liczb, w przeciwnym razie program ma drukować `'nie znaleziono liczb dodatnich'`. \n",
    "\n",
    "*Uwaga*: do przetestowania programu możesz użyć funkcji z pakietu `random`, która generuje liczby poseudolosowe (np: `random` lub `randint`), podobnie jak w przykładzie poniżej"
   ]
  },
  {
   "cell_type": "code",
   "execution_count": 15,
   "metadata": {},
   "outputs": [
    {
     "data": {
      "text/plain": [
       "[-82, 78, -9, 72, 92, 65, -17, -12, 64, -86]"
      ]
     },
     "execution_count": 15,
     "metadata": {},
     "output_type": "execute_result"
    }
   ],
   "source": [
    "from random import randint\n",
    "\n",
    "lista_liczb_losowych = [randint(-100, 100) for i in range(10)]\n",
    "lista_liczb_losowych"
   ]
  },
  {
   "cell_type": "code",
   "execution_count": 16,
   "metadata": {},
   "outputs": [
    {
     "name": "stdout",
     "output_type": "stream",
     "text": [
      "[11, 15, 20, 94, 49, -74, -7, 29, -36, -40]\n",
      "0\n",
      "[0, 1, 2, 3, 4, 7]\n"
     ]
    }
   ],
   "source": [
    "from random import randint\n",
    "\n",
    "lista_liczb_losowych = [randint(-100, 100) for i in range(10)]\n",
    "print(lista_liczb_losowych)\n",
    "\n",
    "indeksy = [element[0] for element in enumerate(lista_liczb_losowych) if element[1] > 0]\n",
    "\n",
    "if len(indeksy) > 0:\n",
    "    print(indeksy[0])\n",
    "else:\n",
    "    print('nie znaleziono liczb dodatnich')\n",
    "print(indeksy)"
   ]
  },
  {
   "cell_type": "markdown",
   "metadata": {},
   "source": [
    "### Zadanie 3 [25 pkt]\n",
    "\n",
    "Za pomocą wyrażenia listowego utwórz listę `N` kosmitów o następujących kolorach `cz` (czerwony), `nb` (niebieski), `zl` (zielony). Posłuż się biblioteką `random`, tak by lista była losowa [10 pkt]. Lista podana ręcznie to tylko [1 pkt].\n",
    "Czerwoni kosmici warci są 5 punktów, zieloni 10, natomiast niebiescy 20.\n",
    "Używając wyrażenia listowego wylicz ile użytkownik może zdobyć punktów za zniszczenie wszystkich kosmitów obecnych w liście [10 pkt].\n",
    "Zbuduj odpowiednie struktury danych, by móc posługiwać się wyrażeniami a nie budować konstrukcje `if-elif-else` [5 pkt]."
   ]
  },
  {
   "cell_type": "code",
   "execution_count": 17,
   "metadata": {},
   "outputs": [
    {
     "name": "stdout",
     "output_type": "stream",
     "text": [
      "['zl', 'nb', 'cz', 'cz', 'zl', 'cz', 'nb', 'nb', 'nb', 'cz', 'zl', 'zl', 'zl', 'cz', 'nb', 'cz']\n",
      "180\n"
     ]
    }
   ],
   "source": [
    "import random\n",
    "\n",
    "N = 16\n",
    "\n",
    "punktacja = {\"cz\": 5, \"zl\": 10, \"nb\": 20}\n",
    "lista_kosmitow = [random.choice(list(punktacja)) for liczba in range(N)]\n",
    "suma_punktow = sum([punktacja[liczba] for liczba in lista_kosmitow])\n",
    "\n",
    "print(lista_kosmitow)\n",
    "print(suma_punktow)"
   ]
  },
  {
   "cell_type": "markdown",
   "metadata": {},
   "source": [
    "### Zadanie 4 [20 pkt]\n",
    "\n",
    "Używając pętli oraz odpowiednich instrukcji warunkowych napisz 2 podprogramy wyświetlające następujące sekwencje liczb:\n",
    "\n",
    "    1010101\n",
    "    10101\n",
    "    101\n",
    "    1\n",
    "    \n",
    "* użyj pętli `for` [5 pkt]\n",
    "* użyj pętli `while` [5 pkt]\n",
    "\n",
    "Jeżeli do **obliczenia** owych sekwencji liczb użyjesz wyrażenia liczbowego (i zapewne `sum` i `bin`) dostaniesz końcowe [10 pkt]."
   ]
  },
  {
   "cell_type": "code",
   "execution_count": 18,
   "metadata": {},
   "outputs": [
    {
     "name": "stdout",
     "output_type": "stream",
     "text": [
      "1010101\n",
      "10101\n",
      "101\n",
      "1\n",
      "1010101\n",
      "10101\n",
      "101\n",
      "1\n"
     ]
    }
   ],
   "source": [
    "S = [85, 21, 5, 1]\n",
    "\n",
    "for element in S:\n",
    "    print(bin(element)[2:])\n",
    "    \n",
    "i = 0\n",
    "while i < len(S):\n",
    "    element = S[i]\n",
    "    print(bin(element)[2:])\n",
    "    i += 1"
   ]
  },
  {
   "cell_type": "markdown",
   "metadata": {},
   "source": [
    "### Zadanie 5 [20 pkt]\n",
    "\n",
    "Zaprogramuj **algorytm wyszukiwania liniowego**. Przeszukujemy sekwencję elementów (musimy przeszukać wszystkie elementy listy nie przekraczając jej zakresu). Użyj wyrażenia listowe tam, gdzie tylko możesz.\n",
    "\n",
    "* Zadeklaruj 2 zmienne - listę `L` oraz wartość szukaną `szukana`.\n",
    "* Jeżeli  dany  element  zostaje  znaleziony  na  liście, to wydrukuj `print`-em indeks tego elementu. \n",
    "* Jeżeli element występuje kilka razy, to wydrukuj `print`-em **krotkę** zawierającą wszystkie indeksy pod jakim znajdziemy ten element.\n",
    "* Jeżeli elementu nie ma to wydrukuj `print`-em None.\n",
    "\n",
    "\n",
    "    > L = [1, 2, 3, 4, 5]\n",
    "    > szukana = 3\n",
    "    ...\n",
    "    2\n",
    "    \n",
    "    > L = [1, 2, 3, 2, 1]\n",
    "    > szukana = 2\n",
    "    ...\n",
    "    (1, 3)\n",
    "    \n",
    "* **Uwaga**: aby otrzymać punkty nie wolno używać metod wbudowanych w struktury danych (takie jak `count, index`...) a jedynie pętle, warunki i interfejs `L[idx]`.\n",
    "* **Uwaga 2**: użyj `random` to testów."
   ]
  },
  {
   "cell_type": "code",
   "execution_count": 19,
   "metadata": {},
   "outputs": [
    {
     "name": "stdout",
     "output_type": "stream",
     "text": [
      "(6, 7)\n"
     ]
    }
   ],
   "source": [
    "L = [1, 3, 6, 8, 4, 3, 5, 5]\n",
    "szukana = 5\n",
    "\n",
    "i = 0\n",
    "indeksy = ()\n",
    "while i < len(L):\n",
    "    if L[i] == szukana:\n",
    "        indeksy += (i, )\n",
    "    i += 1\n",
    "\n",
    "if len(indeksy) > 1:\n",
    "    print(indeksy)\n",
    "elif len(indeksy) == 1:\n",
    "    print(indeksy[0])\n",
    "else:\n",
    "    print(None)"
   ]
  },
  {
   "cell_type": "code",
   "execution_count": null,
   "metadata": {},
   "outputs": [],
   "source": []
  }
 ],
 "metadata": {
  "kernelspec": {
   "display_name": "Python 3",
   "language": "python",
   "name": "python3"
  },
  "language_info": {
   "codemirror_mode": {
    "name": "ipython",
    "version": 3
   },
   "file_extension": ".py",
   "mimetype": "text/x-python",
   "name": "python",
   "nbconvert_exporter": "python",
   "pygments_lexer": "ipython3",
   "version": "3.7.3"
  }
 },
 "nbformat": 4,
 "nbformat_minor": 2
}
