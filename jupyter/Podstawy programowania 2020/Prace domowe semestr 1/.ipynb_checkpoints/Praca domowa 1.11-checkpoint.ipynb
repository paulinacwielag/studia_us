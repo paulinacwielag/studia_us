{
 "cells": [
  {
   "cell_type": "markdown",
   "metadata": {},
   "source": [
    "## Podstawy programowania\n",
    "### Praca domowa 01 [100 pkt]\n",
    "\n",
    "Proszę użyć tego arkusza do rozwiązania zadań domowych. Na początek proszę zmienić 'nazwisko_imie' na Państwa nazwisko i imie, bez polskich znaków diakrytycznych.\n",
    "\n",
    "Część zadań to powtórka z zajęć. Jak już Państwo zaprogramują wszystko, proszę zapisać arkusz (File->Save and Checkpoint) oraz zapisać arkusz na dysk (File->Download as->Notebook). Ten plik proszę wgrać na classroom. \n",
    "\n",
    "Jeszcze jedna uwaga: Używamy zmiennych oraz komentarzy (tam gdzie to w/g Państwa niezbędne)."
   ]
  },
  {
   "cell_type": "code",
   "execution_count": 1,
   "metadata": {},
   "outputs": [],
   "source": [
    "# współpraca:\n",
    "# przybliżony czas poświęcony na tą pracę domową:"
   ]
  },
  {
   "cell_type": "code",
   "execution_count": null,
   "metadata": {},
   "outputs": [],
   "source": []
  },
  {
   "cell_type": "markdown",
   "metadata": {},
   "source": [
    "### Zadanie 1 [10 pkt]\n",
    "Napisz program konwertujący stopnie Celsjusza na stopnie Fahrenheita. Użyj zmiennych o sensownych nazwach."
   ]
  },
  {
   "cell_type": "code",
   "execution_count": 2,
   "metadata": {},
   "outputs": [
    {
     "name": "stdout",
     "output_type": "stream",
     "text": [
      "23° Celsjusza równa się 73.4° Fahrenheita.\n"
     ]
    }
   ],
   "source": [
    "# Konwerter stopni Celsjusza na stopnie Fahrenheita.\n",
    "# Użyłam następującego wzoru: F = (C * 1.8) + 32\n",
    "# polecenie \"round\" użyłam w celu zaokrąglenia liczb po przecinku, gdyż miejscami były horendalnie długie\n",
    "\n",
    "stopnie_celsjusza = 23\n",
    "\n",
    "stopnie_fahrenheita = (stopnie_celsjusza * 1.8) + 32\n",
    "\n",
    "print(f\"{stopnie_celsjusza}° Celsjusza równa się {round(stopnie_fahrenheita, 1)}° Fahrenheita.\")"
   ]
  },
  {
   "cell_type": "markdown",
   "metadata": {},
   "source": [
    "### Zadanie 2 [10 pkt]\n",
    "Napisz program konwertujący stopnie Fahrenheita na Celsjusza. Użyj zmiennych o sensownych nazwach."
   ]
  },
  {
   "cell_type": "code",
   "execution_count": 3,
   "metadata": {},
   "outputs": [
    {
     "name": "stdout",
     "output_type": "stream",
     "text": [
      "123.7° Fahrenheita równa się 50.9 ° Celsjusza.\n"
     ]
    }
   ],
   "source": [
    "# Konwerter stopni Fahrenheita na Celsjusza.\n",
    "# Użyłam następującego wzoru: C = (5 / 9) * (F - 32)\n",
    "\n",
    "stopnie_fahrenheita = 123.7\n",
    "\n",
    "stopnie_celsjusza = (5 / 9) * (stopnie_fahrenheita - 32)\n",
    "\n",
    "print(f\"{stopnie_fahrenheita}° Fahrenheita równa się {round(stopnie_celsjusza, 1)} ° Celsjusza.\") \n"
   ]
  },
  {
   "cell_type": "markdown",
   "metadata": {},
   "source": [
    "### Zadanie 3 [10 pkt]\n",
    "Mamy podane 3 odcinki o długości $a, b, c$. Sprawdź, czy da się z nich zrobić trójkąt. Przetestuj program dla minimum 5 zestawów odcinków. Użyj rozgałęzienia `if` i porządnie sformatuj odpowiedź."
   ]
  },
  {
   "cell_type": "code",
   "execution_count": 4,
   "metadata": {},
   "outputs": [
    {
     "name": "stdout",
     "output_type": "stream",
     "text": [
      "Z podanych odcinków nie można zbudować trójkąta.\n"
     ]
    }
   ],
   "source": [
    "# Program sprawdzający, czy z podanych odcinków można zbudować trójkąt.\n",
    "\n",
    "x, y, z = 1, 20, 3\n",
    "\n",
    "if x + y > z and y + z > x and z + x > y:\n",
    "    print(f\"Z podanych odcinków można zbudować trójkąt.\")\n",
    "\n",
    "else:\n",
    "    print(f\"Z podanych odcinków nie można zbudować trójkąta.\")"
   ]
  },
  {
   "cell_type": "markdown",
   "metadata": {},
   "source": [
    "### Zadanie 4 [10 pkt]\n",
    "W górę rzucono piłkę. Zaniedbując siły oporu, oblicz na jaką wysokość wzniesie się piłka po $t=0.54$ sekundy, jeżeli wartość początkowa prędkości wynosiła $v_0=3.44$ m∕s. Rozwiązanie równań ruchu daje nam wzór na przebytą drogę\n",
    "\n",
    "$$h(t) = v_0 t - \\frac{g t^2}{2}$$\n",
    "\n",
    "Odpowiedź proszę sformatować tak, żeby brzmiała następująco (wszystkie liczby oczywiscie obliczamy):\n",
    "\n",
    "\"Na rowniku Ziemi, pilka rzucona w gore z predkoscia poczatkowa v0 = 3.44 m/s, bedzie na wysokosci h = 0.42 m po czasie t = 0.54 sekundy\"  "
   ]
  },
  {
   "cell_type": "code",
   "execution_count": 5,
   "metadata": {},
   "outputs": [
    {
     "name": "stdout",
     "output_type": "stream",
     "text": [
      "Na rowniku Ziemi, pilka rzucona w gore z predkoscia poczatkowa v0 = 3.44 m/s, bedzie na wysokosci h = 0.43 m po czasie t = 0.54 sekundy\n"
     ]
    }
   ],
   "source": [
    "# czas\n",
    "t = 0.54\n",
    "\n",
    "# prędkość\n",
    "v0 = 3.44\n",
    "\n",
    "# siła ciężkości\n",
    "g = 9.81\n",
    "\n",
    "h = (round ((3.44 * 0.54) - ((9.81 * 0.54 ** 2) / 2), 2))\n",
    "\n",
    "print(\"Na rowniku Ziemi, pilka rzucona w gore z predkoscia poczatkowa v0 = {} m/s, bedzie na wysokosci h = {} m po czasie t = {} sekundy\".format(v0, h, t))"
   ]
  },
  {
   "cell_type": "code",
   "execution_count": 6,
   "metadata": {},
   "outputs": [
    {
     "data": {
      "text/plain": [
       "0.42730199999999985"
      ]
     },
     "execution_count": 6,
     "metadata": {},
     "output_type": "execute_result"
    }
   ],
   "source": [
    "3.44 * 0.54 - 9.81 * 0.54 ** 2 / 2"
   ]
  },
  {
   "cell_type": "markdown",
   "metadata": {},
   "source": [
    "### Zadanie 5 [10 pkt]\n",
    "Niech $p$ oznacza stopę procentową banku wyrażoną w procentach na rok. Początkowa wartość $W$ odłożonej gotówki $A$ w tym banku urośnie zgodnie ze wzorem\n",
    "\n",
    "$$W = A\\left(1 + \\frac{p}{100}\\right)^n$$\n",
    "\n",
    "o $n$ latach. Oblicz do jakiej kwoty wzrośnie\n",
    "* 1000 Euro po 3 latach dla stopy 5 procentowej\n",
    "* 23513 zł po 5 latach dla stopy 3,54%\n",
    "* 112,12 miliona Rubli po 1 roku dla stopy 7.14%\n",
    "\n",
    "Powyższe wielkości sformatuj odpowiednio dla wszystkich trzech przypadków tak, by inwestor otrzymał pełną, czytelną informację."
   ]
  },
  {
   "cell_type": "code",
   "execution_count": 7,
   "metadata": {},
   "outputs": [],
   "source": [
    "# p - stopa procentowa\n",
    "# W - początkowa wartość\n",
    "# A - odłożona gotówka\n",
    "# n - lata"
   ]
  },
  {
   "cell_type": "code",
   "execution_count": 8,
   "metadata": {},
   "outputs": [],
   "source": [
    "def PoczatkowaWartosc(A, p, n):\n",
    "    \"\"\"wejscie: A - odlozona gotowka, p - stopa procentowa, n - lata\n",
    "       wyjscie: W - obliczona wartosc zaokraglona do dwoch miejsc po przecinku\"\"\"\n",
    "    W = A * (1 + p/100) ** n\n",
    "    return round(W, 2)"
   ]
  },
  {
   "cell_type": "code",
   "execution_count": 9,
   "metadata": {},
   "outputs": [
    {
     "name": "stdout",
     "output_type": "stream",
     "text": [
      "1157.63\n"
     ]
    }
   ],
   "source": [
    "wynik1 = PoczatkowaWartosc(1000, 5, 3)\n",
    "print(wynik1)"
   ]
  },
  {
   "cell_type": "code",
   "execution_count": null,
   "metadata": {},
   "outputs": [],
   "source": []
  },
  {
   "cell_type": "markdown",
   "metadata": {},
   "source": [
    "### Zadanie 6 [10 pkt]\n",
    "Napisz program wyliczjący pole i obwód koła o zadanym promieniu. Użyj zmiennych (nazwy!). Sformatuj porządnie odpowiedź, używając metody `'łańcuch'.format()`."
   ]
  },
  {
   "cell_type": "code",
   "execution_count": 10,
   "metadata": {},
   "outputs": [
    {
     "name": "stdout",
     "output_type": "stream",
     "text": [
      "3.141592653589793\n"
     ]
    }
   ],
   "source": [
    "# Program wyliczający pole i obwód koła.\n",
    "\n",
    "from math import pi\n",
    "print(pi)"
   ]
  },
  {
   "cell_type": "code",
   "execution_count": 11,
   "metadata": {},
   "outputs": [],
   "source": [
    "def pole_obwod_kola(r):\n",
    "    pole_kola = pi * r ** 2\n",
    "    obwod_kola = 2 * pi * r\n",
    "    return \"Pole kola o promieniu {} wynosi {}, a jego obwod wynosi {}\".format(r, round(pole_kola, 2), round(obwod_kola, 2))"
   ]
  },
  {
   "cell_type": "code",
   "execution_count": 12,
   "metadata": {},
   "outputs": [
    {
     "data": {
      "text/plain": [
       "'Pole kola o promieniu 8 wynosi 201.06, a jego obwod wynosi 50.27'"
      ]
     },
     "execution_count": 12,
     "metadata": {},
     "output_type": "execute_result"
    }
   ],
   "source": [
    "pole_obwod_kola(8)"
   ]
  },
  {
   "cell_type": "code",
   "execution_count": null,
   "metadata": {},
   "outputs": [],
   "source": []
  },
  {
   "cell_type": "markdown",
   "metadata": {},
   "source": [
    "### Zadanie 7 [10 pkt]\n",
    "Napisz program sprawdzający czy liczba jest parzysta czy nieparzysta. Użyj pojedynczego polecenia `if` (nie konstrukcji `if-elif-else`). Sformatuj odpowiedź używając konstrukcji `'łańcuch'.format()`."
   ]
  },
  {
   "cell_type": "code",
   "execution_count": 13,
   "metadata": {},
   "outputs": [
    {
     "name": "stdout",
     "output_type": "stream",
     "text": [
      "Liczba 13 jest nieparzysta.\n"
     ]
    }
   ],
   "source": [
    "# Program sprawdzający czy liczba jest parzysta czy nieparzysta\n",
    "\n",
    "y = 13\n",
    "\n",
    "if y % 2 == 0:\n",
    "    print(f\"Liczba {y} jest parzysta.\")\n",
    "print(f\"Liczba {y} jest nieparzysta.\")"
   ]
  },
  {
   "cell_type": "code",
   "execution_count": 14,
   "metadata": {},
   "outputs": [],
   "source": [
    "def parzystosc_liczby(y):\n",
    "    if y % 2 == 0:\n",
    "        return \"Liczba {} jest parzysta.\".format(y)\n",
    "    return \"Liczba {} jest nieparzysta.\".format(y)"
   ]
  },
  {
   "cell_type": "code",
   "execution_count": 15,
   "metadata": {},
   "outputs": [
    {
     "data": {
      "text/plain": [
       "'Liczba 26 jest parzysta.'"
      ]
     },
     "execution_count": 15,
     "metadata": {},
     "output_type": "execute_result"
    }
   ],
   "source": [
    "parzystosc_liczby(26)"
   ]
  },
  {
   "cell_type": "markdown",
   "metadata": {},
   "source": [
    "### Zadanie 8 [10 pkt]\n",
    "Napisz program sprawdzający czy liczba jest ujemna, dodatnia czy równa zero. Użyj konstrukcji `if-elif-else` (nie pojedynczego polecenia `if`). Sformatuj odpowiedź używając f-stringów `f'łańcuch'`."
   ]
  },
  {
   "cell_type": "code",
   "execution_count": 16,
   "metadata": {},
   "outputs": [
    {
     "name": "stdout",
     "output_type": "stream",
     "text": [
      "Liczba 10 jest dodatnia\n"
     ]
    }
   ],
   "source": [
    "x = 10\n",
    "\n",
    "if x > 0:\n",
    "    print(f\"Liczba {x} jest dodatnia\")\n",
    "    \n",
    "elif x == 0:\n",
    "    print(f\"Liczba {x} jest równa zero\")\n",
    "    \n",
    "else:\n",
    "    print(f\"Liczba {x} jest ujemna\")"
   ]
  },
  {
   "cell_type": "code",
   "execution_count": 17,
   "metadata": {},
   "outputs": [],
   "source": [
    "def znak_liczby(x):\n",
    "    if x > 0:\n",
    "        return(f\"Liczba {x} jest dodatnia\")\n",
    "    elif x == 0:\n",
    "        return(f\"Liczba {x} jest równa zero\")\n",
    "    else:\n",
    "        return(f\"Liczba {x} jest ujemna\")"
   ]
  },
  {
   "cell_type": "code",
   "execution_count": 18,
   "metadata": {},
   "outputs": [
    {
     "data": {
      "text/plain": [
       "'Liczba 0 jest równa zero'"
      ]
     },
     "execution_count": 18,
     "metadata": {},
     "output_type": "execute_result"
    }
   ],
   "source": [
    "znak_liczby(0)"
   ]
  },
  {
   "cell_type": "markdown",
   "metadata": {},
   "source": [
    "### Zadanie 9* [20 pkt]\n",
    "Rozwiąż [równanie kwadratowe](https://pl.wikipedia.org/wiki/R%C3%B3wnanie_kwadratowe)\n",
    "\n",
    "$$ax^2 + bx + c = 0$$\n",
    "\n",
    "W zależności od wyróżnika równania ($\\Delta$) podaj możliwą odpowiedź:\n",
    "\n",
    "* $\\Delta>0$ - dwa różne pierwiastki `x_minus`, `x_plus`\n",
    "* $\\Delta=0$ - jeden podwójny pierwiastek `x`\n",
    "* $\\Delta<0$ - dwa pierwiastki zespolone `x_minus`, `x_plus`\n",
    "\n",
    "Uwaga: Maksymalną liczbę punktów można uzyskać jeżeli zaprogramują Państwo wszystkie trzy odpowiedzi (w tym dla $\\Delta<0$ i wyników zespolonych)."
   ]
  },
  {
   "cell_type": "code",
   "execution_count": 27,
   "metadata": {},
   "outputs": [],
   "source": [
    "# tutaj piszemy program\n",
    "a, b, c = 1, 3, 1  # x_plus = 4.0 , x2_minus = -1.0\n",
    "\n",
    "from math import sqrt\n",
    "\n",
    "def rownanie_kwadratowe(a, b, c):\n",
    "    delta = b ** 2 - 4 * a * c\n",
    "    if delta > 0:\n",
    "        x_minus = (- b - sqrt(delta)) / (2 * a)\n",
    "        x_plus = (- b + sqrt(delta)) / (2 * a)\n",
    "        return \"Funkcja ma dwa rozwiązania: {} oraz {}\".format(x_minus, x_plus)\n",
    "    elif delta == 0:\n",
    "        x = - b / (2 * a)\n",
    "        return \"Funkcja ma jedno rozwiązanie i wynosi {}\".format(x)\n",
    "    else:\n",
    "        pierwiastek = sqrt(abs(delta))\n",
    "        x_minus = - b / (2 * a)\n",
    "        x_plus = - b / (2 * a)\n",
    "        return \"Funkcja ma dwa rozwiązania zespolone: {}+ i {}j oraz {}- i {}j\".format(x_minus, pierwiastek, x_plus, pierwiastek)"
   ]
  },
  {
   "cell_type": "code",
   "execution_count": 29,
   "metadata": {},
   "outputs": [
    {
     "data": {
      "text/plain": [
       "'Funkcja ma dwa rozwiązania: -12.0 oraz 2.0'"
      ]
     },
     "execution_count": 29,
     "metadata": {},
     "output_type": "execute_result"
    }
   ],
   "source": [
    "rownanie_kwadratowe(1, 10, - 24)"
   ]
  },
  {
   "cell_type": "code",
   "execution_count": null,
   "metadata": {},
   "outputs": [],
   "source": []
  }
 ],
 "metadata": {
  "kernelspec": {
   "display_name": "Python 3",
   "language": "python",
   "name": "python3"
  },
  "language_info": {
   "codemirror_mode": {
    "name": "ipython",
    "version": 3
   },
   "file_extension": ".py",
   "mimetype": "text/x-python",
   "name": "python",
   "nbconvert_exporter": "python",
   "pygments_lexer": "ipython3",
   "version": "3.7.3"
  }
 },
 "nbformat": 4,
 "nbformat_minor": 2
}
