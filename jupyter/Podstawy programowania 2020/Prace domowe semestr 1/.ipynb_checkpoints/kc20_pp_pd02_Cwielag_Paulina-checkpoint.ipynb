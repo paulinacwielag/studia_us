{
 "cells": [
  {
   "cell_type": "markdown",
   "metadata": {},
   "source": [
    "## Podstawy programowania\n",
    "### Praca domowa 02 [100 pkt]\n",
    "\n",
    "Proszę użyć tego arkusza do rozwiązania zadań domowych. Na początek proszę zmienić 'nazwisko_imie' na Państwa nazwisko i imie, bez polskich znaków diakrytycznych.\n",
    "\n",
    "Część zadań to powtórka z zajęć. Jak już Państwo zaprogramują wszystko, proszę zapisać arkusz (File->Save and Checkpoint) oraz zapisać arkusz na dysk (File->Download as->Notebook). Ten plik proszę wgrać na classroom. \n",
    "\n",
    "Jeszcze jedna uwaga: Używamy zmiennych oraz komentarzy (tam gdzie to w/g Państwa niezbędne)."
   ]
  },
  {
   "cell_type": "code",
   "execution_count": null,
   "metadata": {},
   "outputs": [],
   "source": [
    "# współpraca:\n",
    "# przybliżony czas poświęcony na tą pracę domową:"
   ]
  },
  {
   "cell_type": "code",
   "execution_count": null,
   "metadata": {},
   "outputs": [],
   "source": []
  },
  {
   "cell_type": "markdown",
   "metadata": {},
   "source": [
    "## Snippet\n",
    "(za Wikipedią) pojęcie programowania oznaczające zwykle mały wycinek kodu źródłowego, kodu maszynowego lub tekstu do wielokrotnego użycia. Snippetów używa się zazwyczaj w celu zminimalizowania powtarzalności tego samego kodu lub tekstu. "
   ]
  },
  {
   "cell_type": "code",
   "execution_count": null,
   "metadata": {},
   "outputs": [],
   "source": []
  },
  {
   "cell_type": "markdown",
   "metadata": {},
   "source": [
    "### Zadanie 1 [10 pkt]\n",
    "Wydrukuj liczby od 178 do 232 które mają \"c\" w swoim rozwinięciu szesnastkowym."
   ]
  },
  {
   "cell_type": "code",
   "execution_count": null,
   "metadata": {},
   "outputs": [],
   "source": [
    "# przykładowo\n",
    "liczba = 188\n",
    "print(liczba, \"dwójkowo\", bin(liczba), \"ósemkowo\", oct(liczba), \"szesnastkowo\", hex(liczba))"
   ]
  },
  {
   "cell_type": "code",
   "execution_count": null,
   "metadata": {},
   "outputs": [],
   "source": [
    "# rozwiązanie tutaj"
   ]
  },
  {
   "cell_type": "code",
   "execution_count": null,
   "metadata": {},
   "outputs": [],
   "source": []
  },
  {
   "cell_type": "markdown",
   "metadata": {},
   "source": [
    "### Zadanie 2 [10 pkt]\n",
    "Przelicz stopnie Celsiusa na Fahrenheita w zakresie temperatur -27, 27 stopni Celsjusza, \n",
    "\n",
    "* co 3 stopnie (5 pkt)\n",
    "* co pół stopnia (5 pkt)\n",
    "\n",
    "zastosuj pętlę `while`. Odpowiedź sformatuj jak poniżej\n",
    "\n",
    "```\n",
    "'-25 stopni Celsiusa to -13.0 stopni Fahrenheita`\n",
    "```"
   ]
  },
  {
   "cell_type": "code",
   "execution_count": null,
   "metadata": {},
   "outputs": [],
   "source": [
    "# rozwiązanie tutaj"
   ]
  },
  {
   "cell_type": "code",
   "execution_count": null,
   "metadata": {},
   "outputs": [],
   "source": []
  },
  {
   "cell_type": "markdown",
   "metadata": {},
   "source": [
    "### Zadanie 3 [10 pkt]\n",
    "\n",
    "> Temperatura pokojowa oznacza temperaturę z zakresu od 15 do 25 stopni Celsjusza.\n",
    "\n",
    "Zmodyfikuj poprzednie zadanie, tak by przeliczyć stopnie Celsiusa na Fahrenheita w zakresie temperatur -27, 27 stopni Celsjusza, ale w zakresie temperatur pokojowych dodać informację \"temperatura pokojowa\". Zastosuj pętlę `while`. Odpowiedź sformatuj jak poniżej\n",
    "\n",
    "```\n",
    "13 stopni Celsiusa to 55.4 stopni Fahrenheita\n",
    "14 stopni Celsiusa to 57.2 stopni Fahrenheita\n",
    "temperatura pokojowa 15 stopni Celsiusa to 59.0 stopni Fahrenheita\n",
    "temperatura pokojowa 16 stopni Celsiusa to 60.8 stopni Fahrenheita\n",
    "```"
   ]
  },
  {
   "cell_type": "code",
   "execution_count": null,
   "metadata": {},
   "outputs": [],
   "source": [
    "# rozwiązanie tutaj"
   ]
  },
  {
   "cell_type": "code",
   "execution_count": null,
   "metadata": {},
   "outputs": [],
   "source": []
  },
  {
   "cell_type": "markdown",
   "metadata": {},
   "source": [
    "## Wstęp do zadania 4\n",
    "\n",
    "Sumę liczb od 1 do 10 możemy zapisać tradycyjnie\n",
    "\n",
    "    1 + 2 + 3 + 4 + 5 + 6 + 7 + 8 + 9 + 10\n",
    "    "
   ]
  },
  {
   "cell_type": "code",
   "execution_count": null,
   "metadata": {},
   "outputs": [],
   "source": [
    "suma = 1 + 2 + 3 + 4 + 5 + 6 + 7 + 8 + 9 + 10\n",
    "print(suma)"
   ]
  },
  {
   "cell_type": "markdown",
   "metadata": {},
   "source": [
    "lub za pomocą symbolu $\\sum$\n",
    "\n",
    "$$suma = \\sum_{i = 1}^{10} i$$\n",
    "\n",
    "co w przełożeniu na język Python i pętlę `while` można zapisać w postaci snippetu"
   ]
  },
  {
   "cell_type": "code",
   "execution_count": null,
   "metadata": {},
   "outputs": [],
   "source": [
    "i = 1\n",
    "suma = 0\n",
    "\n",
    "while i <= 10:\n",
    "    suma += i\n",
    "    i += 1\n",
    "    \n",
    "print(suma)"
   ]
  },
  {
   "cell_type": "markdown",
   "metadata": {},
   "source": [
    "### Zadanie 4 [30 pkt]\n",
    "Wykonaj sumowania\n",
    "\n",
    "* [5 pkt] kwadratów liczb całkowitych od -100 do 100\n",
    "* [5 pkt] pierwiastków kwadratowych liczb od 0.0001 do 3.1415 co 0.0001\n",
    "* [5 pkt] liczb parzystych od -20 do 44\n",
    "* [5 pkt] odwrotności liczb naturalnych od 1 do 99\n",
    "    $$s = \\sum_{j = 1}^{99} \\frac{1}{j}$$\n",
    "* [5 pkt] wszystkich liczb od -333 do 21345 podzielnych przez 8 i 11 \n",
    "* [5 pkt] wszystkich liczb całkowitych od -1000 do 0, w których znajdziemy cyfrę \"3\" (proszę zapoznać się/przypomnieć sobie o funkcji rzutującej `str()`)"
   ]
  },
  {
   "cell_type": "code",
   "execution_count": null,
   "metadata": {},
   "outputs": [],
   "source": [
    "# suma kwadratów liczb całkowitych od -100 do 100"
   ]
  },
  {
   "cell_type": "code",
   "execution_count": null,
   "metadata": {},
   "outputs": [],
   "source": [
    "# suma pierwiastków kwadratowych liczb od 0.0001 do 3.1415 co 0.0001"
   ]
  },
  {
   "cell_type": "code",
   "execution_count": null,
   "metadata": {},
   "outputs": [],
   "source": [
    "# suma liczb parzystych od -20 do 44"
   ]
  },
  {
   "cell_type": "code",
   "execution_count": null,
   "metadata": {},
   "outputs": [],
   "source": [
    "# suma odwrotności liczb naturalnych od 1 do 99"
   ]
  },
  {
   "cell_type": "code",
   "execution_count": null,
   "metadata": {},
   "outputs": [],
   "source": [
    "# suma wszystkich liczb podzielnych przez 8 i 11 od -333 do 21345"
   ]
  },
  {
   "cell_type": "code",
   "execution_count": null,
   "metadata": {},
   "outputs": [],
   "source": [
    "# suma wszystkich liczb całkowitych od -1000 do 0, w których znajdziemy cyfrę \"3\""
   ]
  },
  {
   "cell_type": "code",
   "execution_count": null,
   "metadata": {},
   "outputs": [],
   "source": []
  },
  {
   "cell_type": "markdown",
   "metadata": {},
   "source": [
    "### Zadanie 5 [20 pkt]\n",
    "Za pomocą funkcji `ord` możemy dowiedzieć się jaki kod ASCII jest przypisany do danego znaku. Oblicz sumę liter swojego imienia (polskie znaki diakrytyczne proszę zastąpić przez odpowiedniki bez ogonków i kropek, np. `ł` -> `l`) "
   ]
  },
  {
   "cell_type": "code",
   "execution_count": null,
   "metadata": {},
   "outputs": [],
   "source": [
    "ord('a')"
   ]
  },
  {
   "cell_type": "code",
   "execution_count": null,
   "metadata": {},
   "outputs": [],
   "source": [
    "# rozwiązanie tutaj"
   ]
  },
  {
   "cell_type": "code",
   "execution_count": null,
   "metadata": {},
   "outputs": [],
   "source": []
  },
  {
   "cell_type": "markdown",
   "metadata": {},
   "source": [
    "### Wstęp do zadania 6\n",
    "Podobnie jak z liczbami możemy postępować z ciągami znaków. Korzystając z operacji ideksowania elementów ciągu znaków (np. `napis[3]`) oraz z pętli przebiegającej po wszystkich indeksach, możemy przeiterować (odwołać się do każdego elementu ciągu znaków)."
   ]
  },
  {
   "cell_type": "code",
   "execution_count": null,
   "metadata": {},
   "outputs": [],
   "source": [
    "napis = \"Ala ma kota\"\n",
    "\n",
    "i = 0\n",
    "while i < len(napis):\n",
    "    print(f\"indeks {i} -> znak {napis[i]}\")\n",
    "    i += 1"
   ]
  },
  {
   "cell_type": "markdown",
   "metadata": {},
   "source": [
    "### Zadanie 6 [20 pkt]\n",
    "Za pomocą konkatenacji ciągu znaków (`'a' + 'b'`) napisz program bazując na powyższym snipecie kodu, który bazując na zmiennej\n",
    "\n",
    "```ciag_znakow = \"W tak pięknych okolicznościach przyrody, i niepowtarzalnej\"```\n",
    "\n",
    "będzie tworzył nową zmienną o nazwie `ciag_liter` w którym znajdziemy tylko litery z powyższej wypowiedzi, i niepowtarzalnej. \n",
    "\n",
    "Uwaga: powinniśmy otrzymać `'Wtakpięknychokolicznościachprzyrodyiniepowtarzalnej'`"
   ]
  },
  {
   "cell_type": "code",
   "execution_count": null,
   "metadata": {},
   "outputs": [],
   "source": [
    "# tutaj program\n",
    "ciag_znakow = \"W tak pięknych okolicznościach przyrody, i niepowtarzalnej\""
   ]
  },
  {
   "cell_type": "code",
   "execution_count": null,
   "metadata": {},
   "outputs": [],
   "source": []
  }
 ],
 "metadata": {
  "kernelspec": {
   "display_name": "Python 3",
   "language": "python",
   "name": "python3"
  },
  "language_info": {
   "codemirror_mode": {
    "name": "ipython",
    "version": 3
   },
   "file_extension": ".py",
   "mimetype": "text/x-python",
   "name": "python",
   "nbconvert_exporter": "python",
   "pygments_lexer": "ipython3",
   "version": "3.7.3"
  }
 },
 "nbformat": 4,
 "nbformat_minor": 2
}
