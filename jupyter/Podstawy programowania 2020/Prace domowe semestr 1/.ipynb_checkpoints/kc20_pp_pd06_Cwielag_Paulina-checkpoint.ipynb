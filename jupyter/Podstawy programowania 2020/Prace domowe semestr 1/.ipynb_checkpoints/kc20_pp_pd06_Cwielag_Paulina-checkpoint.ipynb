{
 "cells": [
  {
   "cell_type": "markdown",
   "metadata": {},
   "source": [
    "## Podstawy programowania\n",
    "### Praca domowa 05 [100 pkt]\n",
    "\n",
    "Proszę użyć tego arkusza do rozwiązania zadań domowych. Na początek proszę zmienić 'nazwisko_imie' na Państwa nazwisko i imie, bez polskich znaków diakrytycznych.\n",
    "\n",
    "Część zadań to powtórka z zajęć. Jak już Państwo zaprogramują wszystko, proszę zapisać arkusz (File->Save and Checkpoint) oraz zapisać arkusz na dysk (File->Download as->Notebook). Ten plik proszę wgrać na classroom. \n",
    "\n",
    "Jeszcze jedna uwaga: Używamy zmiennych oraz komentarzy (tam gdzie to w/g Państwa niezbędne)."
   ]
  },
  {
   "cell_type": "code",
   "execution_count": null,
   "metadata": {},
   "outputs": [],
   "source": [
    "# współpraca:\n",
    "# przybliżony czas poświęcony na tą pracę domową:"
   ]
  },
  {
   "cell_type": "code",
   "execution_count": null,
   "metadata": {},
   "outputs": [],
   "source": []
  },
  {
   "cell_type": "markdown",
   "metadata": {},
   "source": [
    "Składać listy w pętlach w jP można na kilka sposobów: za pomocą konkatenacji `L1 + L2`, metod przynależnych do list `L.append(element), L.insert(indeks, element), L.extend(L2)`. Można też wykorzystać tzw: \n",
    "\n",
    "### wyrażenia listowe\n",
    "\n",
    "```\n",
    "[f(el) for el in sekwencja]\n",
    "```\n",
    "\n",
    "Pętle w wyrażeniach listowych można zagnieżdżać, podobnie jak zwykłe pętle. Np:\n",
    "\n",
    "```\n",
    "[(el1, el2) for el1 in sekwencja1 for el2 in sekwencja2]\n",
    "```\n",
    "\n"
   ]
  },
  {
   "cell_type": "code",
   "execution_count": 1,
   "metadata": {},
   "outputs": [],
   "source": [
    "S = list(range(1, 11))"
   ]
  },
  {
   "cell_type": "markdown",
   "metadata": {},
   "source": [
    "### Zadanie 1 [30 pkt]\n",
    "Kożystając z powyższej wyjściowej sekwencji `S` liczb naturalnych od 1 do 10 zbuduj za pomocą \n",
    "\n",
    "1. pętli `while` oraz konkatenacji `+`\n",
    "2. pętli for oraz metody `append`\n",
    "3. wyrażenia listowego\n",
    "\n",
    "następujące listy\n",
    "\n",
    "1. listę pierwiastków 3 stopnia elementów `S`\n",
    "2. listę znaków ASCII po wcześniejszym dodaniu 100 do każdej wartości (`100 + 1`, `100 + 2`, ...) sekwencji `S`\n",
    "3. listę wartości funkcji $\\sin(\\pi * i / 10)$, dla `i` z sekwencji `S` (`from math import sin, pi`)\n",
    "6. listę kolejnych liczb nieparzystych mniejszych od -98765, odpowiadających elementom sekwencji `S` [pierwsza liczba nieparzysta mniejsza od -98765, druga liczba nieparzysta mniejsza od -98765...]\n",
    "7. listę krotek liczb, ich kwadratów oraz sześcianów dla elementów `S`\n",
    "8. listę wartości funkcji $(1 - k) / (k + 1)$, dla `k` z sekwencji `S`\n",
    "9. listę reszt z dzielenia przez 5 elementów `S`\n",
    "10. listę wartości `True` lub `False` warunku sprawdzającego czy element `S` jest podzielny przez `3`\n",
    "11. listę krotek elementów sekwencji `S` oraz ich wartości ze znakiem przeciwnym \n",
    "12. listę krotek elementów sekwencji `S` oraz ich kwadratów i pierwiastków kwadratowych"
   ]
  },
  {
   "cell_type": "code",
   "execution_count": 32,
   "metadata": {},
   "outputs": [],
   "source": [
    "# rozwiazanie"
   ]
  },
  {
   "cell_type": "code",
   "execution_count": 33,
   "metadata": {},
   "outputs": [
    {
     "name": "stdout",
     "output_type": "stream",
     "text": [
      "[1, 2, 3, 4, 5, 6, 7, 8, 9, 10]\n",
      "[1, 2, 3, 4, 5, 6, 7, 8, 9, 10]\n",
      "[1, 2, 3, 4, 5, 6, 7, 8, 9, 10]\n"
     ]
    }
   ],
   "source": [
    "S = list(range(1, 11))\n",
    "\n",
    "lista = []\n",
    "i = 0\n",
    "while i < len(S):\n",
    "    element = S[i]\n",
    "    lista += [element]\n",
    "    i += 1\n",
    "    \n",
    "print(lista)\n",
    "\n",
    "lista = []\n",
    "for element in S:\n",
    "    lista.append(element)\n",
    "    \n",
    "print(lista)\n",
    "\n",
    "lista = [element for element in S]\n",
    "print(lista)"
   ]
  },
  {
   "cell_type": "code",
   "execution_count": 34,
   "metadata": {},
   "outputs": [
    {
     "name": "stdout",
     "output_type": "stream",
     "text": [
      "[0.3333333333333333, 0.6666666666666666, 1.0, 1.3333333333333333, 1.6666666666666667, 2.0, 2.3333333333333335, 2.6666666666666665, 3.0, 3.3333333333333335]\n",
      "[0.3333333333333333, 0.6666666666666666, 1.0, 1.3333333333333333, 1.6666666666666667, 2.0, 2.3333333333333335, 2.6666666666666665, 3.0, 3.3333333333333335]\n",
      "[0.3333333333333333, 0.6666666666666666, 1.0, 1.3333333333333333, 1.6666666666666667, 2.0, 2.3333333333333335, 2.6666666666666665, 3.0, 3.3333333333333335]\n"
     ]
    }
   ],
   "source": [
    "# 1\n",
    "\n",
    "S = list(range(1, 11))\n",
    "\n",
    "lista = []\n",
    "i = 0\n",
    "while i < len(S):\n",
    "    element = S[i]\n",
    "    lista += [element ** 1 / 3]\n",
    "    i += 1\n",
    "    \n",
    "print(lista)\n",
    "\n",
    "lista = []\n",
    "for element in S:\n",
    "    lista.append(element ** 1 / 3)\n",
    "    \n",
    "print(lista)\n",
    "\n",
    "lista = [element ** 1 / 3 for element in S]\n",
    "print(lista)"
   ]
  },
  {
   "cell_type": "code",
   "execution_count": 35,
   "metadata": {},
   "outputs": [
    {
     "name": "stdout",
     "output_type": "stream",
     "text": [
      "['e', 'f', 'g', 'h', 'i', 'j', 'k', 'l', 'm', 'n']\n",
      "['e', 'f', 'g', 'h', 'i', 'j', 'k', 'l', 'm', 'n']\n",
      "['e', 'f', 'g', 'h', 'i', 'j', 'k', 'l', 'm', 'n']\n"
     ]
    }
   ],
   "source": [
    "# 2\n",
    "\n",
    "S = list(range(1, 11))\n",
    "\n",
    "lista = []\n",
    "i = 0\n",
    "while i < len(S):\n",
    "    element = S[i]\n",
    "    lista += [chr(element + 100)]\n",
    "    i += 1\n",
    "    \n",
    "print(lista)\n",
    "\n",
    "lista = []\n",
    "for element in S:\n",
    "    lista.append(chr(element + 100))\n",
    "    \n",
    "print(lista)\n",
    "\n",
    "lista = [chr(element + 100) for element in S]\n",
    "print(lista)"
   ]
  },
  {
   "cell_type": "code",
   "execution_count": 36,
   "metadata": {},
   "outputs": [
    {
     "name": "stdout",
     "output_type": "stream",
     "text": [
      "[0.3090169943749474, 0.5877852522924731, 0.8090169943749475, 0.9510565162951535, 1.0, 0.9510565162951536, 0.8090169943749475, 0.5877852522924732, 0.3090169943749475, 1.2246467991473532e-16]\n",
      "[0.3090169943749474, 0.5877852522924731, 0.8090169943749475, 0.9510565162951535, 1.0, 0.9510565162951536, 0.8090169943749475, 0.5877852522924732, 0.3090169943749475, 1.2246467991473532e-16]\n",
      "[0.3090169943749474, 0.5877852522924731, 0.8090169943749475, 0.9510565162951535, 1.0, 0.9510565162951536, 0.8090169943749475, 0.5877852522924732, 0.3090169943749475, 1.2246467991473532e-16]\n"
     ]
    }
   ],
   "source": [
    "# 3\n",
    "\n",
    "from math import sin, pi\n",
    "\n",
    "S = list(range(1, 11))\n",
    "\n",
    "lista = []\n",
    "i = 0\n",
    "while i < len(S):\n",
    "    element = S[i]\n",
    "    lista += [sin(pi * (element / 10))]\n",
    "    i += 1\n",
    "    \n",
    "print(lista)\n",
    "\n",
    "lista = []\n",
    "for element in S:\n",
    "    lista.append(sin(pi * (element / 10)))\n",
    "    \n",
    "print(lista)\n",
    "\n",
    "lista = [sin(pi * (element / 10)) for element in S]\n",
    "print(lista)"
   ]
  },
  {
   "cell_type": "code",
   "execution_count": 37,
   "metadata": {},
   "outputs": [
    {
     "name": "stdout",
     "output_type": "stream",
     "text": [
      "[-98767, -98769, -98771, -98773, -98775, -98777, -98779, -98781, -98783, -98785]\n",
      "[-98767, -98769, -98771, -98773, -98775, -98777, -98779, -98781, -98783, -98785]\n",
      "[-98767, -98769, -98771, -98773, -98775, -98777, -98779, -98781, -98783, -98785]\n"
     ]
    }
   ],
   "source": [
    "# 4\n",
    "\n",
    "S = list(range(1, 11))\n",
    "\n",
    "lista = []\n",
    "i = 0\n",
    "while i < len(S):\n",
    "    element = S[i]\n",
    "    lista += [-98765 - 2 * element]\n",
    "    i += 1\n",
    "    \n",
    "print(lista)\n",
    "\n",
    "lista = []\n",
    "for element in S:\n",
    "    lista.append(-98765 - 2 * element)\n",
    "    \n",
    "print(lista)\n",
    "\n",
    "lista = [-98765 - 2 * element for element in S]\n",
    "print(lista)"
   ]
  },
  {
   "cell_type": "code",
   "execution_count": 38,
   "metadata": {},
   "outputs": [
    {
     "name": "stdout",
     "output_type": "stream",
     "text": [
      "[(1, 1, 1), (2, 4, 8), (3, 9, 27), (4, 16, 64), (5, 25, 125), (6, 36, 216), (7, 49, 343), (8, 64, 512), (9, 81, 729), (10, 100, 1000)]\n",
      "[(1, 1, 1), (2, 4, 8), (3, 9, 27), (4, 16, 64), (5, 25, 125), (6, 36, 216), (7, 49, 343), (8, 64, 512), (9, 81, 729), (10, 100, 1000)]\n",
      "[(1, 1, 1), (2, 4, 8), (3, 9, 27), (4, 16, 64), (5, 25, 125), (6, 36, 216), (7, 49, 343), (8, 64, 512), (9, 81, 729), (10, 100, 1000)]\n"
     ]
    }
   ],
   "source": [
    "# 5\n",
    "\n",
    "S = list(range(1, 11))\n",
    "\n",
    "lista = []\n",
    "i = 0\n",
    "while i < len(S):\n",
    "    element = S[i]\n",
    "    lista += [(element, element ** 2, element ** 3)]\n",
    "    i += 1\n",
    "    \n",
    "print(lista)\n",
    "\n",
    "lista = []\n",
    "for element in S:\n",
    "    lista.append((element, element ** 2, element ** 3))\n",
    "    \n",
    "print(lista)\n",
    "\n",
    "lista = [(element, element ** 2, element ** 3) for element in S]\n",
    "print(lista)"
   ]
  },
  {
   "cell_type": "code",
   "execution_count": 39,
   "metadata": {},
   "outputs": [
    {
     "name": "stdout",
     "output_type": "stream",
     "text": [
      "[0.0, -0.3333333333333333, -0.5, -0.6, -0.6666666666666666, -0.7142857142857143, -0.75, -0.7777777777777778, -0.8, -0.8181818181818182]\n",
      "[0.0, -0.3333333333333333, -0.5, -0.6, -0.6666666666666666, -0.7142857142857143, -0.75, -0.7777777777777778, -0.8, -0.8181818181818182]\n",
      "[0.0, -0.3333333333333333, -0.5, -0.6, -0.6666666666666666, -0.7142857142857143, -0.75, -0.7777777777777778, -0.8, -0.8181818181818182]\n"
     ]
    }
   ],
   "source": [
    "# 6\n",
    "\n",
    "S = list(range(1, 11))\n",
    "\n",
    "lista = []\n",
    "i = 0\n",
    "while i < len(S):\n",
    "    element = S[i]\n",
    "    lista += [(1 - element)/(element + 1)]\n",
    "    i += 1\n",
    "    \n",
    "print(lista)\n",
    "\n",
    "lista = []\n",
    "for element in S:\n",
    "    lista.append((1 - element)/(element + 1))\n",
    "    \n",
    "print(lista)\n",
    "\n",
    "lista = [(1 - element)/(element + 1) for element in S]\n",
    "print(lista)"
   ]
  },
  {
   "cell_type": "code",
   "execution_count": 40,
   "metadata": {},
   "outputs": [
    {
     "name": "stdout",
     "output_type": "stream",
     "text": [
      "[1, 2, 3, 4, 0, 1, 2, 3, 4, 0]\n",
      "[1, 2, 3, 4, 0, 1, 2, 3, 4, 0]\n",
      "[1, 2, 3, 4, 0, 1, 2, 3, 4, 0]\n"
     ]
    }
   ],
   "source": [
    "# 7\n",
    "\n",
    "S = list(range(1, 11))\n",
    "\n",
    "lista = []\n",
    "i = 0\n",
    "while i < len(S):\n",
    "    element = S[i]\n",
    "    lista += [element % 5]\n",
    "    i += 1\n",
    "    \n",
    "print(lista)\n",
    "\n",
    "lista = []\n",
    "for element in S:\n",
    "    lista.append(element % 5)\n",
    "    \n",
    "print(lista)\n",
    "\n",
    "lista = [element % 5 for element in S]\n",
    "print(lista)"
   ]
  },
  {
   "cell_type": "code",
   "execution_count": 41,
   "metadata": {},
   "outputs": [
    {
     "name": "stdout",
     "output_type": "stream",
     "text": [
      "[False, False, True, False, False, True, False, False, True, False]\n",
      "[False, False, True, False, False, True, False, False, True, False]\n",
      "[False, False, True, False, False, True, False, False, True, False]\n"
     ]
    }
   ],
   "source": [
    "# 8\n",
    "\n",
    "S = list(range(1, 11))\n",
    "\n",
    "lista = []\n",
    "i = 0\n",
    "while i < len(S):\n",
    "    element = S[i]\n",
    "    lista += [bool(element % 3 == 0)]\n",
    "    i += 1\n",
    "    \n",
    "print(lista)\n",
    "\n",
    "lista = []\n",
    "for element in S:\n",
    "    lista.append(bool(element % 3 == 0))\n",
    "    \n",
    "print(lista)\n",
    "\n",
    "lista = [bool(element % 3 == 0) for element in S]\n",
    "print(lista)"
   ]
  },
  {
   "cell_type": "code",
   "execution_count": 42,
   "metadata": {},
   "outputs": [
    {
     "name": "stdout",
     "output_type": "stream",
     "text": [
      "[(1, -1), (2, -2), (3, -3), (4, -4), (5, -5), (6, -6), (7, -7), (8, -8), (9, -9), (10, -10)]\n",
      "[(1, -1), (2, -2), (3, -3), (4, -4), (5, -5), (6, -6), (7, -7), (8, -8), (9, -9), (10, -10)]\n",
      "[(1, -1), (2, -2), (3, -3), (4, -4), (5, -5), (6, -6), (7, -7), (8, -8), (9, -9), (10, -10)]\n"
     ]
    }
   ],
   "source": [
    "# 9 \n",
    "\n",
    "S = list(range(1, 11))\n",
    "\n",
    "lista = []\n",
    "i = 0\n",
    "while i < len(S):\n",
    "    element = S[i]\n",
    "    lista += [(element, element * (-1))]\n",
    "    i += 1\n",
    "    \n",
    "print(lista)\n",
    "\n",
    "lista = []\n",
    "for element in S:\n",
    "    lista.append((element, element * (-1)))\n",
    "    \n",
    "print(lista)\n",
    "\n",
    "lista = [(element, element * (-1)) for element in S]\n",
    "print(lista)"
   ]
  },
  {
   "cell_type": "code",
   "execution_count": 43,
   "metadata": {},
   "outputs": [
    {
     "name": "stdout",
     "output_type": "stream",
     "text": [
      "[(1, 1, 0.5), (2, 4, 1.0), (3, 9, 1.5), (4, 16, 2.0), (5, 25, 2.5), (6, 36, 3.0), (7, 49, 3.5), (8, 64, 4.0), (9, 81, 4.5), (10, 100, 5.0)]\n",
      "[(1, 1, 0.5), (2, 4, 1.0), (3, 9, 1.5), (4, 16, 2.0), (5, 25, 2.5), (6, 36, 3.0), (7, 49, 3.5), (8, 64, 4.0), (9, 81, 4.5), (10, 100, 5.0)]\n",
      "[(1, 1, 0.5), (2, 4, 1.0), (3, 9, 1.5), (4, 16, 2.0), (5, 25, 2.5), (6, 36, 3.0), (7, 49, 3.5), (8, 64, 4.0), (9, 81, 4.5), (10, 100, 5.0)]\n"
     ]
    }
   ],
   "source": [
    "# 10\n",
    "\n",
    "S = list(range(1, 11))\n",
    "\n",
    "lista = []\n",
    "i = 0\n",
    "while i < len(S):\n",
    "    element = S[i]\n",
    "    lista += [(element, element ** 2, element ** 1/2)]\n",
    "    i += 1\n",
    "    \n",
    "print(lista)\n",
    "\n",
    "lista = []\n",
    "for element in S:\n",
    "    lista.append((element, element ** 2, element ** 1/2))\n",
    "    \n",
    "print(lista)\n",
    "\n",
    "lista = [(element, element ** 2, element ** 1/2) for element in S]\n",
    "print(lista)"
   ]
  },
  {
   "cell_type": "markdown",
   "metadata": {},
   "source": [
    "### Zadanie 2 [20 pkt]\n",
    "Dla zdań\n",
    "\n",
    "1. `\"Good books tell the truth, even when they're about things that never have been and never will be. They're truthful in a different way.\"`\n",
    "* `\"We have no need of other worlds. We need mirrors. We don't know what to do with other worlds. A single world, our own, suffices us; but we can't accept it for what it is.\"`\n",
    "* `\"Man has gone out to explore other worlds and other civilizations without having explored his own labyrinth of dark passages and secret chambers, and without finding what lies behind doorways that he himself has sealed.\"`\n",
    "* `\"When smashing monuments, save the pedestals. They always come in handy.\"`\n",
    "* `\"We’re not searching for anything except people. We don’t need other worlds. We need mirrors.\"`\n",
    "\n",
    "Oblicz za pomocą wyrażeń listowych\n",
    "1. sumę wartości liczbowych z tablicy ASCII dla wszystkich znaków (wykorzystaj tutaj funkcję `sum`) [10 pkt]\n",
    "2. długości wszystkich wyrazów składających się na zdania [10 pkt]"
   ]
  },
  {
   "cell_type": "code",
   "execution_count": null,
   "metadata": {},
   "outputs": [],
   "source": [
    "# rozwiazanie"
   ]
  },
  {
   "cell_type": "code",
   "execution_count": 88,
   "metadata": {},
   "outputs": [
    {
     "name": "stdout",
     "output_type": "stream",
     "text": [
      "12335\n",
      "15200\n",
      "20749\n",
      "6665\n",
      "24827\n",
      "[4, 5, 4, 3, 5, 4, 4, 7, 5, 6, 4, 5, 4, 4, 3, 5, 4, 2, 7, 8, 2, 1, 9, 3]\n",
      "[2, 4, 2, 4, 2, 5, 6, 2, 4, 7, 2, 5, 4, 4, 2, 2, 4, 5, 6, 1, 6, 5, 3, 3, 8, 3, 3, 2, 5, 6, 2, 3, 4, 2, 2]\n",
      "[3, 3, 4, 3, 2, 7, 5, 6, 3, 5, 13, 7, 6, 8, 3, 3, 9, 2, 4, 8, 3, 6, 8, 3, 7, 7, 4, 4, 6, 8, 4, 2, 7, 3, 6]\n",
      "[4, 8, 9, 4, 3, 9, 4, 6, 4, 2, 5]\n",
      "[5, 3, 9, 3, 8, 6, 6, 2, 5, 4, 5, 6, 2, 4, 7]\n"
     ]
    }
   ],
   "source": [
    "zdanie1 = \"Good books tell the truth, even when they're about things that never have been and never will be. They're truthful in a different way.\"\n",
    "zdanie2 = \"We have no need of other worlds. We need mirrors. We don't know what to do with other worlds. A single world, our own, suffices us; but we can't accept it for what it is.\"\n",
    "zdanie3 = \"Man has gone out to explore other worlds and other civilizations without having explored his own labyrinth of dark passages and secret chambers, and without finding what lies behind doorways that he himself has sealed.\"\n",
    "zdanie4 = \"When smashing monuments, save the pedestals. They always come in handy.\"\n",
    "zdanie5 = \"We’re not searching for anything except people. We don’t need other worlds. We need mirrors.\"\n",
    "\n",
    "suma1 = sum([ord(znak) for znak in zdanie1])\n",
    "print(suma1)\n",
    "\n",
    "suma2 = sum([ord(znak) for znak in zdanie2])\n",
    "print(suma2)\n",
    "\n",
    "suma3 = sum([ord(znak) for znak in zdanie3])\n",
    "print(suma3)\n",
    "\n",
    "suma4 = sum([ord(znak) for znak in zdanie4])\n",
    "print(suma4)\n",
    "\n",
    "suma5 = sum([ord(znak) for znak in zdanie5])\n",
    "print(suma5)\n",
    "\n",
    "print([len(wyraz) for wyraz in zdanie1.replace('.', '').replace(',', '').split(\" \")])\n",
    "\n",
    "print([len(wyraz) for wyraz in zdanie2.replace('.', '').replace(',', '').split(\" \")])\n",
    "\n",
    "print([len(wyraz) for wyraz in zdanie3.replace('.', '').replace(',', '').split(\" \")])\n",
    "\n",
    "print([len(wyraz) for wyraz in zdanie4.replace('.', '').replace(',', '').split(\" \")])\n",
    "\n",
    "print([len(wyraz) for wyraz in zdanie5.replace('.', '').replace(',', '').split(\" \")])"
   ]
  },
  {
   "cell_type": "markdown",
   "metadata": {},
   "source": [
    "### Zadanie 3 [15 pkt]\n",
    "Mamy 2, równoliczne listy liczb `L1` i `L2`. W 1 linijce, za pomocą wyrażeń listowych (po 3 pkt)\n",
    "\n",
    "1. Zbuduj listę krotek zawierających elementy obu list o tożsamym indeksie.\n",
    "* Zbuduj listę zawierającą sumę elementów obu list o tożsamym indeksie.\n",
    "* Zbuduj listę zawierającą iloczyn wszystkich elementów obu list (każdy z każdym).\n",
    "* Znajdź najczęściej wystepujący element listy `L1`.\n",
    "\n",
    "I jako dodatek oblicz (po 1 pkt)\n",
    "\n",
    "1. oblicz sumę obu list i podaj która jest większa\n",
    "* oblicz średnią obu list i podaj która jest większa\n",
    "* sumę największych i sumę najmniejszych elementów obu list"
   ]
  },
  {
   "cell_type": "code",
   "execution_count": 94,
   "metadata": {},
   "outputs": [
    {
     "name": "stdout",
     "output_type": "stream",
     "text": [
      "[-8, 6, 3, -11, 13, -11, 9, -11, -5, -5, -10, -6, 1, -1, 0, 11, -4, -11, 6, -18, 9, 12, 18, -10, 5, 12, 19, 15, -13, -5, -9, -6, 4]\n",
      "[-3, -19, -19, -11, -10, 0, -16, -4, 12, -6, -8, -15, 6, 2, 17, -19, 11, 4, -3, 10, 13, -15, 19, -5, -13, -10, -4, 13, 11, 12, 17, -1, -12]\n"
     ]
    }
   ],
   "source": [
    "from random import randint\n",
    "A, B = -19, 19\n",
    "N = 33\n",
    "L1 = [randint(A, B) for i in range(N)]\n",
    "L2 = [randint(A, B) for i in range(N)]\n",
    "\n",
    "print(L1)\n",
    "print(L2)"
   ]
  },
  {
   "cell_type": "code",
   "execution_count": 21,
   "metadata": {},
   "outputs": [],
   "source": [
    "# rozwiazanie\n",
    "\n"
   ]
  },
  {
   "cell_type": "code",
   "execution_count": null,
   "metadata": {},
   "outputs": [],
   "source": []
  },
  {
   "cell_type": "markdown",
   "metadata": {},
   "source": [
    "### Zadanie 4 [35 pkt] Szyfr Cezara\n",
    "Każda literka posiada swoją kolejność w alfabecie \n",
    "\n",
    "```\n",
    "a   b   c   d   e   f   g   h   i   j   k   l   m   n   o   p   q   r   s   t   u   v   w   x   y   z\n",
    "0   1   2   3   4   5   6   7   8   9   10  11  12  13  14  15  16  17  18  19  20  21  22  23  24  25\n",
    "```\n",
    "\n",
    "Za pomocą przesunięcia liter jakiegoś wyrazu (zdania) o określoną ilość liter w lewo lub w prawo możemy w prosty sposób zaszyfrować jakąś wiadomość. Przykładowo, jeżeli literki słowa\n",
    "\n",
    "```\n",
    "'python'\n",
    "```\n",
    "\n",
    "przesuniemy o 3 literki w prawo, to dostaniemy\n",
    "```\n",
    "'sbwkrq'\n",
    "```\n",
    "\n",
    "Powyżej można prześledzić, że `p -> s`, `t -> w`, ale `y -> b`, ponieważ musimy wrócić do początku alfabetu bo dalej nie ma literek.\n",
    "\n",
    "### Zadanie\n",
    "Stwórz wyrażenie listowe, szyfrujące (przesuwające o zadany skok `shift`) dowolny napis `text` składający się z małych liter. Możesz ograniczyć się do literek z alfabetu ASCII.\n"
   ]
  },
  {
   "cell_type": "code",
   "execution_count": 93,
   "metadata": {},
   "outputs": [
    {
     "name": "stdout",
     "output_type": "stream",
     "text": [
      "abcdefghijklmnopqrstuvwxyz\n",
      "wkh#txlfn#eurzq#ir{#mxpsv#ryhu#wkh#od}|#grj\n"
     ]
    }
   ],
   "source": [
    "from string import ascii_lowercase as alphabet\n",
    "print(alphabet)\n",
    "\n",
    "shift = 3\n",
    "text = 'the quick brown fox jumps over the lazy dog'\n",
    "\n",
    "# jednolinijkowe rozwiazanie\n",
    "\n",
    "print(\"\".join(chr(ord(literka) + shift) for literka in text))"
   ]
  },
  {
   "cell_type": "code",
   "execution_count": null,
   "metadata": {},
   "outputs": [],
   "source": []
  },
  {
   "cell_type": "code",
   "execution_count": null,
   "metadata": {},
   "outputs": [],
   "source": []
  }
 ],
 "metadata": {
  "kernelspec": {
   "display_name": "Python 3",
   "language": "python",
   "name": "python3"
  },
  "language_info": {
   "codemirror_mode": {
    "name": "ipython",
    "version": 3
   },
   "file_extension": ".py",
   "mimetype": "text/x-python",
   "name": "python",
   "nbconvert_exporter": "python",
   "pygments_lexer": "ipython3",
   "version": "3.7.3"
  }
 },
 "nbformat": 4,
 "nbformat_minor": 2
}
