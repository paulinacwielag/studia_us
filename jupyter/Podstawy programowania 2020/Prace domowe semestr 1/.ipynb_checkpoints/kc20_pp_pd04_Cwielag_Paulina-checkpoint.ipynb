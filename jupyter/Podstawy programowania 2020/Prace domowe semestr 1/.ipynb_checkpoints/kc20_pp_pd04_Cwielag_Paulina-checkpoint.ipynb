{
 "cells": [
  {
   "cell_type": "markdown",
   "metadata": {},
   "source": [
    "## Podstawy programowania\n",
    "### Praca domowa 04 [100 pkt]\n",
    "\n",
    "Proszę użyć tego arkusza do rozwiązania zadań domowych. Na początek proszę zmienić 'nazwisko_imie' na Państwa nazwisko i imie, bez polskich znaków diakrytycznych.\n",
    "\n",
    "Część zadań to powtórka z zajęć. Jak już Państwo zaprogramują wszystko, proszę zapisać arkusz (File->Save and Checkpoint) oraz zapisać arkusz na dysk (File->Download as->Notebook). Ten plik proszę wgrać na classroom. \n",
    "\n",
    "Jeszcze jedna uwaga: Używamy zmiennych oraz komentarzy (tam gdzie to w/g Państwa niezbędne)."
   ]
  },
  {
   "cell_type": "code",
   "execution_count": null,
   "metadata": {},
   "outputs": [],
   "source": [
    "# współpraca:\n",
    "# przybliżony czas poświęcony na tą pracę domową:"
   ]
  },
  {
   "cell_type": "code",
   "execution_count": null,
   "metadata": {},
   "outputs": [],
   "source": []
  },
  {
   "cell_type": "markdown",
   "metadata": {},
   "source": [
    "### Zadanie 1 [30 pkt] Sekwencje i ich metody\n",
    "Na początku zadania stwórz pustą zmienną sekwencyjną o podanym typie. Następnie za pomocą wskazanej metody rozszerz zmienne o kolejne elementy\n",
    "\n",
    "* [4 pkt] Lista i metoda `append`. Dodaj pierwiastki kwadratowe liczb od -$\\pi$ do $\\pi$ co $\\pi/100$.\n",
    "* [4 pkt] Lista i metoda `extend`. Dodaj liczby parzyste i podzielne przez 7 od -100 do 444.\n",
    "* [4 pkt] Zbiór i metoda `add`. Dodaj odwrotności nieparzystych liczb naturalnych od -100 do 299, tych które mają cyfrę `1` na 3 miejscu rozwinięcia binarnego.\n",
    "* [4 pkt] Zbiór i metoda `update`. Dodaj wszystkie liczby od -333 do 21345 które mają literę `b` w rozwinięciu szesnastkowym.  \n",
    "* [4 pkt] Słownik i metoda `update`. Dodaj pierwiastki trzeciego stopnia liczb całkowite od 1000 do 0, w których znajdziemy cyfrę `7` w rozwinięciu ósemkowym.\n",
    "* [4 pkt] Słownik i standardowy interfejs `d[klucz] = wartosc`. Dodaj wszystkie liczb naturalne z zakresu od `A` do `B`, w których znajdziemy cyfrę `C`.\n",
    "\n",
    "Z pomocą osobnej pętli `for` oblicz sumy liczb zmagazynowanych w powyższych zbiorach danych [6 $\\times$ 1 pkt]."
   ]
  },
  {
   "cell_type": "code",
   "execution_count": 27,
   "metadata": {},
   "outputs": [],
   "source": [
    "# rozwiązania tutaj"
   ]
  },
  {
   "cell_type": "code",
   "execution_count": 35,
   "metadata": {},
   "outputs": [
    {
     "name": "stdout",
     "output_type": "stream",
     "text": [
      "[1.7724538509055159, 1.7635693145022384, 1.7546397922417005, 1.7456645937814343, 1.7366430109398425, 1.7275743170440756, 1.7184577662469354, 1.7092925928109877, 1.7000780103579398, 1.6908132110811984, 1.6814973649193792, 1.6721296186883712, 1.6627090951693926, 1.6532348921502722, 1.6437060814169986, 1.634121707692339, 1.6244807875181009, 1.6147823080773245, 1.6050252259524251, 1.5952084658149654, 1.5853309190424054, 1.5753914422567936, 1.565388855779944, 1.5553219419991942, 1.545189443637332, 1.534990061919734, 1.524722454631154, 1.5143852340539226, 1.5039769647786019, 1.4934961613773095, 1.4829412859290352, 1.4723107453852813, 1.4616028887632457, 1.4508160041525484, 1.4399483155201334, 1.428997979296462, 1.417963080724415, 1.4068416299504276, 1.3956315578352612, 1.384330711459433, 1.3729368492956557, 1.3614476360176266, 1.3498606369111168, 1.3381733118494734, 1.3263830087913107, 1.3144869567532391, 1.302482258204884, 1.2903658808270606, 1.278134648566691, 1.2657852319136924, 1.2533141373155026, 1.2407176956338635, 1.2279920495357886, 1.215133139695897, 1.2021366896702348, 1.1889981892818056, 1.175712876334828, 1.1622757164475288, 1.1486813807613139, 1.134924221246432, 1.1209982432795882, 1.1068970751158504, 1.0926139338138272, 1.0781415870970883, 1.063472310543312, 1.0485978393819209, 1.0335093140463392, 1.0181972184624335, 1.0026513098524026, 0.9868605385832594, 0.9708129562778521, 0.9544956100166437, 0.9378944199669528, 0.9209940371518422, 0.9037776772709929, 0.8862269254527606, 0.8683215054699238, 0.8500390051789724, 0.8313545475846986, 0.8122403937590528, 0.792665459521205, 0.7725947218186681, 0.751988482389303, 0.7308014443816249, 0.7089815403622094, 0.6864684246478299, 0.6631915043956574, 0.6390673242833477, 0.6139960247678966, 0.5878564381674165, 0.5604991216397968, 0.5317361552716589, 0.5013256549262044, 0.4689472099834798, 0.4341607527349656, 0.39633272976060663, 0.3544907701811094, 0.3069980123839537, 0.2506628274631088, 0.17724538509056398, 6.622220886733822e-08, 0.17724538509053925, 0.2506628274630913, 0.3069980123839394, 0.35449077018109704, 0.3963327297605956, 0.4341607527349555, 0.46894720998347045, 0.5013256549261956, 0.5317361552716506, 0.5604991216397889, 0.5878564381674091, 0.6139960247678894, 0.6390673242833408, 0.6631915043956508, 0.6864684246478234, 0.7089815403622032, 0.7308014443816189, 0.7519884823892972, 0.7725947218186624, 0.7926654595211995, 0.8122403937590473, 0.8313545475846934, 0.8500390051789672, 0.8683215054699188, 0.8862269254527557, 0.903777677270988, 0.9209940371518375, 0.9378944199669481, 0.9544956100166392, 0.9708129562778476, 0.986860538583255, 1.0026513098523981, 1.0181972184624293, 1.033509314046335, 1.0485978393819166, 1.063472310543308, 1.0781415870970843, 1.0926139338138232, 1.1068970751158465, 1.1209982432795842, 1.1349242212464283, 1.14868138076131, 1.162275716447525, 1.1757128763348241, 1.1889981892818018, 1.202136689670231, 1.2151331396958933, 1.2279920495357848, 1.24071769563386, 1.253314137315499, 1.265785231913689, 1.2781346485666873, 1.2903658808270573, 1.3024822582048807, 1.3144869567532358, 1.3263830087913073, 1.33817331184947, 1.3498606369111137, 1.3614476360176235, 1.3729368492956524, 1.3843307114594299, 1.395631557835258, 1.4068416299504245, 1.417963080724412, 1.4289979792964589, 1.4399483155201303, 1.4508160041525453, 1.4616028887632428, 1.4723107453852784, 1.4829412859290323, 1.4934961613773063, 1.503976964778599, 1.5143852340539197, 1.524722454631151, 1.5349900619197312, 1.545189443637329, 1.5553219419991913, 1.5653888557799411, 1.5753914422567907, 1.5853309190424028, 1.5952084658149626, 1.6050252259524225, 1.6147823080773218, 1.624480787518098, 1.6341217076923364, 1.643706081416996, 1.6532348921502695, 1.66270909516939, 1.6721296186883685, 1.6814973649193765, 1.6908132110811958, 1.7000780103579372, 1.709292592810985, 1.7184577662469327, 1.7275743170440732, 1.73664301093984, 1.7456645937814317, 1.7546397922416979, 1.763569314502236, 1.7724538509055134]\n"
     ]
    }
   ],
   "source": [
    "from math import pi\n",
    "from math import sqrt\n",
    "\n",
    "lista = []\n",
    "\n",
    "start = -pi\n",
    "stop = pi\n",
    "\n",
    "while start <= stop:\n",
    "    pierwiastki_kwadratowe = sqrt(abs(start))\n",
    "    lista.append(pierwiastki_kwadratowe)\n",
    "    start += pi / 100\n",
    "\n",
    "print(lista)"
   ]
  },
  {
   "cell_type": "code",
   "execution_count": 30,
   "metadata": {},
   "outputs": [
    {
     "name": "stdout",
     "output_type": "stream",
     "text": [
      "[-98, -84, -70, -56, -42, -28, -14, 0, 14, 28, 42, 56, 70, 84, 98, 112, 126, 140, 154, 168, 182, 196, 210, 224, 238, 252, 266, 280, 294, 308, 322, 336, 350, 364, 378, 392, 406, 420, 434]\n"
     ]
    }
   ],
   "source": [
    "lista = []\n",
    "\n",
    "start = -100\n",
    "stop = 444\n",
    "\n",
    "while start <= stop:\n",
    "    if (start % 7 == 0) and (start % 2 == 0):\n",
    "        lista.extend([start])\n",
    "    start += 1\n",
    "    \n",
    "print(lista)"
   ]
  },
  {
   "cell_type": "code",
   "execution_count": 23,
   "metadata": {},
   "outputs": [
    {
     "name": "stdout",
     "output_type": "stream",
     "text": [
      "{0.00398406374501992, 0.010752688172043012, 0.06666666666666667, 0.007874015748031496, 0.004149377593360996, 0.00392156862745098, -0.01639344262295082, -0.024390243902439025, 0.003952569169960474, -0.011235955056179775, 0.043478260869565216, 0.03225806451612903, 0.008264462809917356, 0.008403361344537815, 0.008547008547008548, -0.010526315789473684, 0.006134969325153374, 0.004329004329004329, 0.01098901098901099, -0.023255813953488372, 0.011764705882352941, 0.0041841004184100415, 0.01694915254237288, 0.008695652173913044, 0.005235602094240838, 0.004219409282700422, -0.012345679012345678, -0.017543859649122806, -0.047619047619047616, 0.2, 0.14285714285714285, 0.015873015873015872, 0.005405405405405406, 0.005847953216374269, 0.005988023952095809, 0.008130081300813009, -0.034482758620689655, 0.012048192771084338, 0.004048582995951417, 0.022222222222222223, 0.02127659574468085, 0.09090909090909091, -0.011494252873563218, 0.006211180124223602, 0.004366812227074236, 0.00425531914893617, 0.011494252873563218, 0.0055248618784530384, 0.00411522633744856, 0.004291845493562232, -0.09090909090909091, -0.02127659574468085, -0.022222222222222223, -0.012048192771084338, 0.034482758620689655, 0.005714285714285714, 0.005649717514124294, -0.015873015873015872, -0.14285714285714285, -0.2, 0.047619047619047616, 0.017543859649122806, 0.005291005291005291, 0.005780346820809248, 0.012345679012345678, 0.004016064257028112, 0.00558659217877095, 0.004081632653061225, -0.01694915254237288, -0.011764705882352941, 0.023255813953488372, -0.01098901098901099, 0.006060606060606061, 0.004405286343612335, 0.010526315789473684, 0.005917159763313609, 0.0044444444444444444, -0.043478260869565216, -0.03225806451612903, 0.011235955056179775, 0.0053475935828877, 0.024390243902439025, 0.01639344262295082, -0.06666666666666667, 0.008849557522123894, -0.010752688172043012, 0.008, 0.00546448087431694}\n"
     ]
    }
   ],
   "source": [
    "# Zbiór i metoda add. Dodaj odwrotności nieparzystych liczb naturalnych \n",
    "# od -100 do 299, tych które mają cyfrę 1 na 3 miejscu rozwinięcia \n",
    "# binarnego.\n",
    "\n",
    "zbior = set()\n",
    "\n",
    "start = -100\n",
    "stop = 299\n",
    "\n",
    "while start <= stop:\n",
    "    liczba_binarnie = bin(start)\n",
    "    if (start % 2 != 0) and (len(liczba_binarnie) - (liczba_binarnie.index('b') + 1) >= 3) and (liczba_binarnie[liczba_binarnie.index('b') + 3] == '1'):\n",
    "        zbior.add(1 / start)\n",
    "    start += 1\n",
    "    \n",
    "print(zbior)"
   ]
  },
  {
   "cell_type": "markdown",
   "metadata": {},
   "source": [
    "### Zadanie 2 [25 pkt] Sekwencje i ich filtrowanie\n",
    "Poniższy kod generuje `N` liczb losowych od `A` do `B`. \n",
    "\n",
    "1. za pomocą `lista.copy()` stwórz kopię listy i przypisz ją do zmiennej\n",
    "2. za pomocą podanej metody przefiltruj kopię listy tak, by\n",
    "\n",
    "    * [5 pkt] zostały tylko liczby parzyste, użyj `pop`\n",
    "    * [5 pkt] zostały tylko liczby nieparzyste, użyj `remove`\n",
    "    * [5 pkt] zostały tylko liczby mniejsze niż `(B - A)/2`, użyj `pop`\n",
    "    * [5 pkt] w miejscu liczb podzielnych przez `3` i `7` pojawiło się `None`, użyj `insert` oraz `pop`\n",
    "    * [5 pkt] w miejscu liczb podzielnych przez `5` i `6` pojawiło się `None`, \n",
    "    użyj standardowego interfejsu do list `lista[indeks] = wartosc`\n",
    "    \n",
    "**Uwaga** Punkt 1, ten z kopiowaniem, należy wykonać dla każdego pod-zadania."
   ]
  },
  {
   "cell_type": "code",
   "execution_count": 14,
   "metadata": {},
   "outputs": [],
   "source": [
    "from random import randint\n",
    "N = 333\n",
    "A = 13\n",
    "B = 1013\n",
    "liczby = [randint(A, B) for i in range(N)]"
   ]
  },
  {
   "cell_type": "code",
   "execution_count": 30,
   "metadata": {},
   "outputs": [
    {
     "name": "stdout",
     "output_type": "stream",
     "text": [
      "[886, 378, 997, 83, 715, 952, 140, 450, 226, 920, 753, 259, 641, 566, 503, 853, 775, 687, 576, 450, 76, 284, 530, 673, 612, 194, 695, 580, 853, 937, 523, 489, 469, 673, 685, 502, 966, 842, 132, 338, 977, 828, 766, 296, 876, 381, 921, 373, 962, 485, 480, 305, 811, 864, 676, 156, 883, 913, 693, 960, 109, 239, 305, 498, 849, 59, 757, 425, 913, 240, 577, 537, 355, 791, 440, 450, 120, 653, 64, 721, 806, 58, 741, 235, 710, 234, 262, 697, 892, 29, 779, 649, 38, 195, 998, 861, 145, 756, 409, 504, 438, 28, 552, 166, 797, 27, 698, 805, 505, 500, 958, 300, 657, 73, 636, 169, 818, 293, 756, 497, 482, 663, 750, 714, 225, 666, 178, 278, 129, 67, 520, 51, 25, 988, 731, 278, 169, 551, 765, 867, 609, 45, 890, 588, 236, 375, 574, 155, 214, 901, 977, 368, 442, 561, 485, 705, 1004, 747, 457, 79, 442, 844, 464, 301, 703, 160, 681, 44, 990, 24, 285, 457, 72, 763, 731, 317, 420, 841, 463, 195, 620, 472, 437, 422, 747, 1002, 52, 56, 814, 824, 429, 554, 242, 938, 253, 248, 383, 438, 211, 248, 629, 807, 125, 114, 375, 368, 274, 252, 178, 364, 511, 801, 154, 311, 836, 168, 358, 45, 832, 399, 334, 473, 769, 629, 902, 684, 44, 761, 831, 872, 164, 207, 584, 215, 970, 143, 525, 705, 941, 770, 871, 995, 184, 101, 595, 363, 702, 789, 490, 138, 152, 967, 614, 137, 994, 437, 529, 859, 549, 650, 205, 662, 65, 589, 816, 742, 920, 213, 524, 764, 942, 232, 281, 77, 705, 594, 229, 979, 778, 942, 89, 548, 502, 495, 981, 165, 639, 48, 956, 114, 554, 65, 321, 619, 429, 104, 56, 204, 1005, 867, 288, 80, 356, 587, 682, 44, 36, 395, 998, 481, 207, 333, 810, 233, 158, 349, 277, 297, 515, 206, 165, 754, 731, 797, 171, 1009, 688, 436, 233, 369, 361, 505, 220]\n",
      "[886, 378, 952, 140, 450, 226, 920, 566, 576, 450, 76, 284, 530, 612, 194, 580, 502, 966, 842, 132, 338, 828, 766, 296, 876, 962, 480, 864, 676, 156, 960, 498, 240, 440, 450, 120, 64, 806, 58, 710, 234, 262, 892, 38, 998, 756, 504, 438, 28, 552, 166, 698, 500, 958, 300, 636, 818, 756, 482, 750, 714, 666, 178, 278, 520, 988, 278, 890, 588, 236, 574, 214, 368, 442, 1004, 442, 844, 464, 160, 44, 990, 24, 72, 420, 620, 472, 422, 1002, 52, 56, 814, 824, 554, 242, 938, 248, 438, 248, 114, 368, 274, 252, 178, 364, 154, 836, 168, 358, 832, 334, 902, 684, 44, 872, 164, 584, 970, 770, 184, 702, 490, 138, 152, 614, 994, 650, 662, 816, 742, 920, 524, 764, 942, 232, 594, 778, 942, 548, 502, 48, 956, 114, 554, 104, 56, 204, 288, 80, 356, 682, 44, 36, 998, 810, 158, 206, 754, 688, 436, 220]\n"
     ]
    }
   ],
   "source": [
    "# rozwiązania tutaj\n",
    "\n",
    "from random import randint\n",
    "N = 333\n",
    "A = 13\n",
    "B = 1013\n",
    "liczby = [randint(A, B) for i in range(N)]\n",
    "\n",
    "kopia_listy = liczby.copy()\n",
    "print(liczby)\n",
    "\n",
    "start = 0\n",
    "\n",
    "while start < len(kopia_listy):\n",
    "    if kopia_listy[start] % 2 != 0:\n",
    "        kopia_listy.pop(start)\n",
    "    else:\n",
    "        start += 1\n",
    "        \n",
    "print(kopia_listy)"
   ]
  },
  {
   "cell_type": "code",
   "execution_count": null,
   "metadata": {},
   "outputs": [],
   "source": []
  },
  {
   "cell_type": "markdown",
   "metadata": {},
   "source": [
    "### Zadanie 3 [20 pkt] Zaimplementuj algorytm znajdywania wszystkich miejsc wystapienia elementu w sekwencji\n",
    "\n",
    "1. czy element istnieje\n",
    "`sekwencja.count(element)`\n",
    "2. jeżeli\n",
    "    * `== 0` -> koniec programu\n",
    "    * `== 1` -> wystarczy `sekwencja.index(element)`\n",
    "    * `> 1` -> punkt 3 \n",
    "3. `> 1`\n",
    "    * (3.1) zlokalizuj 1 wystapienie i zapisz ten indeks (`idx = sekwencja.index(element)`)\n",
    "    * (3.2) wytnij krotkę od indeksu idx + 1 do końca i wróć do punktu 3.1\n",
    "    `idx2 = sekwencja[idx + 1:].index(element) + idx + 1`"
   ]
  },
  {
   "cell_type": "code",
   "execution_count": null,
   "metadata": {},
   "outputs": [],
   "source": [
    "# rozwiązanie tutaj"
   ]
  },
  {
   "cell_type": "code",
   "execution_count": null,
   "metadata": {},
   "outputs": [],
   "source": []
  },
  {
   "cell_type": "markdown",
   "metadata": {},
   "source": [
    "### Wstęp do zadania 5\n",
    "Słowniki zwykle służą do tłumaczenia słów z jednego języka na drugi. Tak samo można wykorzystać słowniki pythonowskie. Zobaczcie ten snippet (da się ładniej, ale to kiedy indziej...)"
   ]
  },
  {
   "cell_type": "code",
   "execution_count": 21,
   "metadata": {},
   "outputs": [
    {
     "name": "stdout",
     "output_type": "stream",
     "text": [
      "cat i dog w jednym stali domu \n"
     ]
    }
   ],
   "source": [
    "d = {'kot': 'cat', 'pies': 'dog'}\n",
    "\n",
    "zdanie = 'kot i pies w jednym stali domu'\n",
    "zdanie_en = ''\n",
    "\n",
    "for slowo in zdanie.split(' '):\n",
    "    if slowo in d:\n",
    "        zdanie_en += d[slowo]\n",
    "    else:\n",
    "        zdanie_en += slowo\n",
    "    zdanie_en += ' '\n",
    "\n",
    "print(zdanie_en)"
   ]
  },
  {
   "cell_type": "markdown",
   "metadata": {},
   "source": [
    "### Zadanie 5 [25 pkt] \n",
    "Waszym zadaniem będzie (10 pkt) zbudowanie słownika zawierającego alfabet Morse'a oraz (15 pkt) napisanie programu takiego, by tłumaczył dowolne słowo/zdanie na alfabet Morse'a własnie. Możecie wykorzystać powyższy snippet."
   ]
  },
  {
   "cell_type": "code",
   "execution_count": null,
   "metadata": {},
   "outputs": [],
   "source": [
    "# rozwiązanie tutaj"
   ]
  },
  {
   "cell_type": "code",
   "execution_count": null,
   "metadata": {},
   "outputs": [],
   "source": []
  },
  {
   "cell_type": "code",
   "execution_count": null,
   "metadata": {},
   "outputs": [],
   "source": []
  }
 ],
 "metadata": {
  "kernelspec": {
   "display_name": "Python 3",
   "language": "python",
   "name": "python3"
  },
  "language_info": {
   "codemirror_mode": {
    "name": "ipython",
    "version": 3
   },
   "file_extension": ".py",
   "mimetype": "text/x-python",
   "name": "python",
   "nbconvert_exporter": "python",
   "pygments_lexer": "ipython3",
   "version": "3.7.3"
  }
 },
 "nbformat": 4,
 "nbformat_minor": 2
}
