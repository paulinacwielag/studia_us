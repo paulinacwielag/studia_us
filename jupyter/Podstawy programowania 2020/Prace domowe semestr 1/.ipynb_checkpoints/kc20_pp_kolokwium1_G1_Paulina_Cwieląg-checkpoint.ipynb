{
 "cells": [
  {
   "cell_type": "markdown",
   "metadata": {},
   "source": [
    "# Komunikacja Cyfrowa, ra 2020-2021\n",
    "## Podstawy Programowania\n",
    "### Kolokwium nr 1\n",
    "\n",
    "**Reguły**\n",
    "\n",
    "* prace są samodzielne, można korzystać ze swoich własnych kodów, wykładu, ćwiczeń, książek, manuali, dokumentacji, kursów, itp…\n",
    "* nie wolno korzystać z cudzych kodów na zasadzie copy-paste\n",
    "\n",
    "**Uwaga**\n",
    "\n",
    "   >Warto testować swoje kody. Brak testów to pierwszy krok do słabej / niezadowalającej oceny z kolokwium. Testować znaczy - po napisaniu programu (kodu) należy go kilkukrotnie uruchomić dla kilku różnych danych wejściowych.\n",
    "\n",
    "**Uwaga 2**\n",
    "   >Warto używać porządnych nazw zmiennych. "
   ]
  },
  {
   "cell_type": "code",
   "execution_count": null,
   "metadata": {},
   "outputs": [],
   "source": []
  },
  {
   "cell_type": "markdown",
   "metadata": {},
   "source": [
    "## Wstęp\n",
    "Sumę liczb naturalnych od 1 do 10 możemy zapisać tradycyjnie\n",
    "\n",
    "    s = 1 + 2 + 3 + 4 + 5 + 6 + 7 + 8 + 9 + 10\n",
    "    \n",
    "i obliczyć w następujący sposób"
   ]
  },
  {
   "cell_type": "code",
   "execution_count": 4,
   "metadata": {},
   "outputs": [
    {
     "name": "stdout",
     "output_type": "stream",
     "text": [
      "55\n"
     ]
    }
   ],
   "source": [
    "s = 1 + 2 + 3 + 4 + 5 + 6 + 7 + 8 + 9 + 10\n",
    "print(s)"
   ]
  },
  {
   "cell_type": "markdown",
   "metadata": {},
   "source": [
    "Możemy też użyć symbolu $\\sum$\n",
    "\n",
    "$$s = \\sum_{i = 1}^{10} i$$\n",
    "\n",
    "co w przełożeniu na język Python i pętlę `while` można zapisać w postaci snippetu"
   ]
  },
  {
   "cell_type": "code",
   "execution_count": 5,
   "metadata": {},
   "outputs": [
    {
     "name": "stdout",
     "output_type": "stream",
     "text": [
      "55\n"
     ]
    }
   ],
   "source": [
    "i = 1\n",
    "s = 0\n",
    "while i <= 10:\n",
    "    s += i\n",
    "    i += 1\n",
    "print(s)"
   ]
  },
  {
   "cell_type": "markdown",
   "metadata": {},
   "source": [
    "## Zad 1 (25 pkt) Suma\n",
    "Oblicz sumę `s`. Użyj takich samych zmiennych jakie widzisz we wzorze poniżej. Użyj pętli `while`. W przypadku, gdy wzór podniesie jakiś wyjątek (błąd) użyj instrukcji warunkowej `if`, by pominąć daną liczbę w pętli.\n",
    "$$s = \\sum_{i=-10}^{10} \\frac{i - 1}{i - 1}$$\n"
   ]
  },
  {
   "cell_type": "code",
   "execution_count": 6,
   "metadata": {},
   "outputs": [
    {
     "name": "stdout",
     "output_type": "stream",
     "text": [
      "20.0\n"
     ]
    }
   ],
   "source": [
    "# TUTAJ PROGRAMUJEMY\n",
    "\n",
    "i = -10\n",
    "stop = 10\n",
    "suma = 0\n",
    "\n",
    "while i <= stop:\n",
    "    if i == 1:\n",
    "        pass\n",
    "    else:\n",
    "        suma += (i - 1) / (i - 1)\n",
    "    i += 1\n",
    "\n",
    "print(suma)"
   ]
  },
  {
   "cell_type": "markdown",
   "metadata": {},
   "source": [
    "## Zad 2 (25 pkt) Sekwencja\n",
    "\n",
    "Napisz program, który za pomocą pętli `for` tworzy \n",
    "listę liczb nieparzystych od A do B oraz oblicza sumę liczb z tej listy, ale tylko tych które w rozwinięciu szesnastkowym mają literę/liczbę `b`.\n"
   ]
  },
  {
   "cell_type": "code",
   "execution_count": 7,
   "metadata": {},
   "outputs": [
    {
     "name": "stdout",
     "output_type": "stream",
     "text": [
      "[-376, -375, -374, -373, -372, -371, -370, -369, -368, -367, -366, -365, -364, -363, -362, -361, -360, -359, -358, -357, -356, -355, -354, -353, -352, -351, -350, -349, -348, -347, -346, -345, -344, -343, -342, -341, -340, -339, -338, -337, -336, -335, -334, -333, -332, -331, -330, -329, -328, -327, -326, -325, -324, -323, -322, -321, -320, -319, -318, -317, -316, -315, -314, -313, -312, -311, -310, -309, -308, -307, -306, -305, -304, -303, -302, -301, -300, -299, -298, -297, -296, -295, -294, -293, -292, -291, -290, -289, -288, -287, -286, -285, -284, -283, -282, -281, -280, -279, -278, -277, -276, -275, -274, -273, -272, -271, -270, -269, -268, -267, -266, -265, -264, -263, -262, -261, -260, -259, -258, -257, -256, -255, -254, -253, -252, -251, -250, -249, -248, -247, -246, -245, -244, -243, -242, -241, -240, -239, -238, -237, -236, -235, -234, -233, -232, -231, -230, -229, -228, -227, -226, -225, -224, -223, -222, -221, -220, -219, -218, -217, -216, -215, -214, -213, -212, -211, -210, -209, -208, -207, -206, -205, -204, -203, -202, -201, -200, -199, -198, -197, -196, -195, -194, -193, -192, -191, -190, -189, -188, -187, -186, -185, -184, -183, -182, -181, -180, -179, -178, -177, -176, -175, -174, -173, -172, -171, -170, -169, -168, -167, -166, -165, -164, -163, -162, -161, -160, -159, -158, -157, -156, -155, -154, -153, -152, -151, -150, -149, -148, -147, -146, -145, -144, -143, -142, -141, -140, -139, -138, -137, -136, -135, -134, -133, -132, -131, -130, -129, -128, -127, -126, -125, -124, -123, -122, -121, -120, -119, -118, -117, -116, -115, -114, -113, -112, -111, -110, -109, -108, -107, -106, -105, -104, -103, -102, -101, -100, -99, -98, -97, -96, -95, -94, -93, -92, -91, -90, -89, -88, -87, -86, -85, -84, -83, -82, -81, -80, -79, -78, -77, -76, -75, -74, -73, -72, -71, -70, -69, -68, -67, -66, -65, -64, -63, -62, -61, -60, -59, -58, -57, -56, -55, -54, -53, -52, -51, -50, -49, -48, -47, -46, -45, -44, -43, -42, -41, -40, -39, -38, -37, -36, -35, -34, -33, -32, -31, -30, -29, -28, -27, -26, -25, -24, -23, -22, -21, -20, -19, -18, -17, -16, -15, -14, -13, -12, -11, -10, -9, -8, -7, -6, -5, -4, -3, -2, -1, 0, 1, 2, 3, 4, 5, 6, 7, 8, 9, 10, 11, 12, 13, 14, 15, 16, 17, 18, 19, 20, 21, 22, 23, 24, 25, 26, 27, 28, 29, 30, 31, 32, 33, 34, 35, 36, 37, 38, 39, 40, 41, 42, 43, 44, 45, 46, 47, 48, 49, 50, 51, 52, 53, 54, 55, 56, 57, 58, 59, 60, 61, 62, 63, 64, 65, 66, 67, 68, 69, 70, 71, 72, 73, 74, 75, 76, 77, 78, 79, 80, 81, 82, 83, 84, 85, 86, 87, 88, 89, 90, 91, 92, 93, 94, 95, 96, 97, 98, 99, 100, 101, 102, 103, 104, 105, 106, 107, 108, 109, 110, 111, 112, 113, 114, 115, 116, 117, 118, 119, 120, 121, 122, 123, 124, 125, 126, 127, 128, 129, 130, 131, 132, 133, 134, 135, 136, 137, 138, 139, 140, 141, 142, 143, 144, 145, 146, 147, 148, 149, 150, 151, 152, 153, 154, 155, 156, 157, 158, 159, 160, 161, 162, 163, 164, 165, 166, 167, 168, 169, 170, 171, 172, 173, 174, 175, 176, 177, 178, 179, 180, 181, 182, 183, 184, 185, 186, 187, 188, 189, 190, 191, 192, 193, 194, 195, 196, 197, 198, 199, 200, 201, 202, 203, 204, 205, 206, 207, 208, 209, 210, 211, 212, 213, 214, 215, 216, 217, 218, 219, 220, 221, 222, 223, 224, 225, 226, 227, 228, 229, 230, 231, 232, 233, 234, 235, 236, 237, 238, 239, 240, 241, 242, 243, 244, 245, 246, 247, 248, 249, 250, 251, 252, 253, 254, 255, 256, 257, 258, 259, 260, 261, 262, 263, 264, 265, 266, 267, 268, 269, 270, 271, 272, 273, 274, 275, 276, 277, 278, 279, 280, 281, 282, 283, 284, 285, 286, 287, 288, 289, 290, 291, 292, 293, 294, 295, 296, 297, 298, 299, 300, 301, 302, 303, 304, 305, 306, 307, 308, 309, 310, 311, 312, 313, 314, 315, 316, 317, 318, 319, 320, 321, 322, 323, 324, 325, 326, 327, 328, 329, 330, 331, 332, 333, 334, 335, 336, 337, 338, 339, 340, 341, 342, 343, 344, 345, 346, 347, 348, 349, 350, 351, 352, 353, 354, 355, 356, 357, 358, 359, 360, 361, 362, 363, 364, 365, 366, 367, 368, 369, 370, 371, 372, 373, 374, 375, 376, 377, 378, 379, 380, 381, 382, 383, 384, 385, 386, 387, 388, 389, 390, 391, 392, 393, 394, 395, 396, 397, 398, 399]\n",
      "774\n"
     ]
    }
   ],
   "source": [
    "# TUTAJ PROGRAMUJEMY\n",
    "\n",
    "# pod A i B podstawiam własny przedział liczb\n",
    "\n",
    "liczby_nieparzyste = []\n",
    "suma = 0\n",
    "\n",
    "for liczba in range (-376, 400):\n",
    "    liczby_nieparzyste += [liczba]\n",
    "    \n",
    "print(liczby_nieparzyste)\n",
    "\n",
    "for liczba in liczby_nieparzyste:\n",
    "    if (hex(liczba).count('b')) and (liczba % 2 != 0):\n",
    "        suma += liczba\n",
    "        \n",
    "print(suma)"
   ]
  },
  {
   "cell_type": "markdown",
   "metadata": {},
   "source": [
    "## Zad 3 (25 pkt) Dzień tygodnia\n",
    "Wiedząc, że w tym roku 1 stycznia przypadał w środę podaj nazwę dnia tygodnia dla \n",
    "117\n",
    "dnia roku 2020. Obliczenia przeprowadź w komórce poniżej, tylko tak zaliczymy punkty."
   ]
  },
  {
   "cell_type": "code",
   "execution_count": 8,
   "metadata": {},
   "outputs": [
    {
     "name": "stdout",
     "output_type": "stream",
     "text": [
      "2020-04-26\n",
      "Niedziela\n"
     ]
    }
   ],
   "source": [
    "# TUTAJ PROGRAMUJEMY\n",
    "\n",
    "tydzien = (\"Poniedziałek\", \"Wtorek\", \"Środa\", \"Czwartek\", \"Piątek\", \"Sobota\", \"Niedziela\")\n",
    "\n",
    "import datetime\n",
    "\n",
    "rok = 2020\n",
    "dzien_roku = 117\n",
    "\n",
    "# szukam daty dnia roku, do 1 stycznia 2020 roku dodaję podany w kolejności dzień roku, odejmując 1, \n",
    "# by nie policzyło mi 1 stycznia\n",
    "dzien_roku = datetime.date(rok, 1, 1) + datetime.timedelta(dzien_roku - 1)\n",
    "\n",
    "print(dzien_roku)\n",
    "\n",
    "# wprowadzam datę\n",
    "data = datetime.date(2020, 4, 26)\n",
    "\n",
    "# sprawdzam, który to dzień tygodnia liczbowo (1 - poniedziałek, 2 - wtorek itd.)\n",
    "data_dzien = data.weekday()\n",
    "\n",
    "# przypisuję tę liczbę do dni tygodnia z listy \n",
    "koniec = tydzien[data_dzien]\n",
    "\n",
    "print(koniec)"
   ]
  },
  {
   "cell_type": "markdown",
   "metadata": {},
   "source": [
    "## Zad 4 (25 pkt) -1, 0, 1\n",
    "\n",
    "Napisz program, który oblicza sumę liczb w podanej liście `L` i zwracający informację (`print`)\n",
    "\n",
    "* `1` gdy suma liczb dodatnich listy `L` jest większa od wartości bezwzględnej sumy liczb ujemnych listy `L`\n",
    "* `-1` gdy wartość bezwzględna sumy liczb ujemnych listy `L` jest większa od sumy liczb dodatnich listy `L`\n",
    "* `0` gdy wartość bezwzględna sumy liczb ujemnych listy `L` jest równa sumie liczb dodatnich listy `L`\n",
    "\n",
    "Użyj pętli\n",
    "`for`\n",
    "(15 pkt)\n",
    "\n",
    "**Przykłady**\n",
    "\n",
    "    > L = [1, 2, 3, -4, -5] -->> -1\n",
    "    \n",
    "    > L = [1, 2, 3, -1, -2, -3] -->> 0\n",
    "    \n",
    "    > L = [1, 2, 3, -1, -2] -->> 1\n",
    "    \n",
    "**Uwaga**\n",
    "\n",
    "> ostatnie 10 punktów można zdobyć za **przefiltrowanie** elementów list podanych jako argumenty, tak by rozpatrywać **tylko liczby** w nich zawarte, np:\n",
    "\n",
    "    L = [1, 2, (19, 18), 'ala', 3, -4, -5] -->> [1, 2, 3, -4, -5] -->> -1"
   ]
  },
  {
   "cell_type": "code",
   "execution_count": 9,
   "metadata": {},
   "outputs": [
    {
     "name": "stdout",
     "output_type": "stream",
     "text": [
      "-1\n"
     ]
    }
   ],
   "source": [
    "# TUTAJ PROGRAMUJEMY\n",
    "\n",
    "lista = [1, 2, 3, -4, -5]\n",
    "\n",
    "lista_dodatnich = []\n",
    "\n",
    "lista_ujemnych = []\n",
    "\n",
    "for liczba in lista:\n",
    "    if liczba > 0:\n",
    "        lista_dodatnich += [liczba]\n",
    "    else:\n",
    "        lista_ujemnych += [liczba]\n",
    "\n",
    "if (sum(lista_dodatnich)) > (abs(sum(lista_ujemnych))):\n",
    "    print('1')\n",
    "if (abs(sum(lista_ujemnych))) > (sum(lista_dodatnich)):\n",
    "    print('-1')\n",
    "if (abs(sum(lista_ujemnych))) == (sum(lista_dodatnich)):\n",
    "    print('0')"
   ]
  },
  {
   "cell_type": "code",
   "execution_count": null,
   "metadata": {},
   "outputs": [],
   "source": []
  }
 ],
 "metadata": {
  "kernelspec": {
   "display_name": "Python 3",
   "language": "python",
   "name": "python3"
  },
  "language_info": {
   "codemirror_mode": {
    "name": "ipython",
    "version": 3
   },
   "file_extension": ".py",
   "mimetype": "text/x-python",
   "name": "python",
   "nbconvert_exporter": "python",
   "pygments_lexer": "ipython3",
   "version": "3.7.3"
  }
 },
 "nbformat": 4,
 "nbformat_minor": 2
}
