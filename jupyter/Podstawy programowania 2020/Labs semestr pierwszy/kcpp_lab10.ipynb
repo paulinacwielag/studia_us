{
 "cells": [
  {
   "cell_type": "markdown",
   "metadata": {},
   "source": [
    "# Zad. 1"
   ]
  },
  {
   "cell_type": "code",
   "execution_count": 34,
   "metadata": {},
   "outputs": [
    {
     "name": "stdout",
     "output_type": "stream",
     "text": [
      "[3, 6, 9, 12, 15, 18, 21, 24, 27, 30, 33, 36, 39, 42, 45, 48, 51, 54, 57, 60, 63, 66, 69, 72, 75, 78, 81, 84, 87, 90, 93, 96, 99, 102, 105, 108, 111, 114, 117, 120, 123, 126, 129, 132, 135, 138, 141, 144, 147, 150, 153, 156, 159, 162, 165, 168, 171, 174, 177, 180, 183, 186, 189, 192, 195, 198]\n"
     ]
    }
   ],
   "source": [
    "podzielne_przez_3 = [liczba for liczba in range (1, 201) if liczba % 3 == 0]\n",
    "print(podzielne_przez_3)"
   ]
  },
  {
   "cell_type": "markdown",
   "metadata": {},
   "source": [
    "# Zad. 2"
   ]
  },
  {
   "cell_type": "code",
   "execution_count": 35,
   "metadata": {},
   "outputs": [
    {
     "name": "stdout",
     "output_type": "stream",
     "text": [
      "[14, 28, 42, 56, 70, 84, 98]\n"
     ]
    }
   ],
   "source": [
    "parzyste_przez7 = [liczba for liczba in range(1, 101) if liczba % 2 == 0 and liczba % 7 == 0]\n",
    "print(parzyste_przez7)"
   ]
  },
  {
   "cell_type": "markdown",
   "metadata": {},
   "source": [
    "# Zad. 3\n",
    "\n",
    "Ilość liczb od 1000 do 9999, które mają '1' na 11 najmłodszym bicie w rozwinięciu dwójkowym."
   ]
  },
  {
   "cell_type": "code",
   "execution_count": 36,
   "metadata": {},
   "outputs": [
    {
     "name": "stdout",
     "output_type": "stream",
     "text": [
      "4880\n"
     ]
    }
   ],
   "source": [
    "ilosc_liczb = [liczba for liczba in range (1000, 9999 + 1) if bin(liczba)[-11] == '1']\n",
    "print(len(ilosc_liczb))"
   ]
  },
  {
   "cell_type": "code",
   "execution_count": 42,
   "metadata": {},
   "outputs": [
    {
     "name": "stdout",
     "output_type": "stream",
     "text": [
      "{1: 1.0, 2: 1.2599210498948732, 3: 1.4422495703074083, 4: 1.5874010519681994, 5: 1.7099759466766968, 6: 1.8171205928321397, 7: 1.912931182772389, 8: 2.0, 9: 2.080083823051904, 10: 2.154434690031884}\n"
     ]
    }
   ],
   "source": [
    "# Zad. 4\n",
    "\n",
    "S = list(range(1, 11))\n",
    "pierwiastki_3_stopnia = {liczba: liczba ** (1/3) for liczba in S}\n",
    "print(pierwiastki_3_stopnia)"
   ]
  },
  {
   "cell_type": "code",
   "execution_count": null,
   "metadata": {},
   "outputs": [],
   "source": []
  }
 ],
 "metadata": {
  "kernelspec": {
   "display_name": "Python 3",
   "language": "python",
   "name": "python3"
  },
  "language_info": {
   "codemirror_mode": {
    "name": "ipython",
    "version": 3
   },
   "file_extension": ".py",
   "mimetype": "text/x-python",
   "name": "python",
   "nbconvert_exporter": "python",
   "pygments_lexer": "ipython3",
   "version": "3.7.3"
  }
 },
 "nbformat": 4,
 "nbformat_minor": 2
}
