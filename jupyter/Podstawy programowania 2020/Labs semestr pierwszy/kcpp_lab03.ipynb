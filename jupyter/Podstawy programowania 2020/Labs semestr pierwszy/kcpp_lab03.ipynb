{
 "cells": [
  {
   "cell_type": "code",
   "execution_count": null,
   "metadata": {},
   "outputs": [],
   "source": [
    "x = -1\n",
    "\n",
    "if x > 0:\n",
    "    print(f\"Liczba {x} jest dodatnia\")"
   ]
  },
  {
   "cell_type": "code",
   "execution_count": 1,
   "metadata": {},
   "outputs": [
    {
     "data": {
      "text/plain": [
       "True"
      ]
     },
     "execution_count": 1,
     "metadata": {},
     "output_type": "execute_result"
    }
   ],
   "source": [
    "x = 0\n",
    "\n",
    "x > 0 or x < 0 or x == 0"
   ]
  },
  {
   "cell_type": "code",
   "execution_count": 2,
   "metadata": {},
   "outputs": [
    {
     "name": "stdout",
     "output_type": "stream",
     "text": [
      "Liczba 1 jest dodatnia\n"
     ]
    }
   ],
   "source": [
    "x = 1\n",
    "\n",
    "if x > 0:\n",
    "    print(f\"Liczba {x} jest dodatnia\")\n",
    "    \n",
    "if x == 0:\n",
    "    print(f\"Liczba {x} jest równa zero\")\n",
    "    \n",
    "if x < 0:\n",
    "    print(f\"Liczba {x} jest ujemna\")\n",
    "    "
   ]
  },
  {
   "cell_type": "code",
   "execution_count": 6,
   "metadata": {},
   "outputs": [
    {
     "name": "stdout",
     "output_type": "stream",
     "text": [
      "Liczba 13 jest nieparzysta\n"
     ]
    }
   ],
   "source": [
    "y = 13\n",
    "\n",
    "if y % 2 == 0:\n",
    "    print(f\"Liczba {y} jest parzysta\")\n",
    "    \n",
    "else:\n",
    "    print(f\"Liczba {y} jest nieparzysta\")"
   ]
  },
  {
   "cell_type": "code",
   "execution_count": null,
   "metadata": {},
   "outputs": [],
   "source": [
    "y = 13\n",
    "\n",
    "if y % 2 == 0:\n",
    "    print(f\"Liczba {y} jest parzysta\")\n",
    "    \n",
    "else:\n",
    "    print(f\"Liczba {y} jest nieparzysta\")"
   ]
  },
  {
   "cell_type": "code",
   "execution_count": 12,
   "metadata": {},
   "outputs": [
    {
     "name": "stdout",
     "output_type": "stream",
     "text": [
      "Ala ma 1 kota.\n",
      "Ala ma 2 koty.\n",
      "Ala ma 3 koty.\n",
      "Ala ma 4 koty.\n",
      "Ala ma 5 kotów.\n",
      "Ala ma 6 kotów.\n",
      "Ala ma 7 kotów.\n",
      "Ala ma 8 kotów.\n",
      "Ala ma 9 kotów.\n",
      "Ala ma 10 kotów.\n"
     ]
    }
   ],
   "source": [
    "i = 1\n",
    "\n",
    "while i < 11:\n",
    "    if i < 2:\n",
    "        print(f'Ala ma {i} kota.')\n",
    "    elif i < 5:\n",
    "        print(f'Ala ma {i} koty.')\n",
    "    else: print(f'Ala ma {i} kotów.')\n",
    "    i += 1"
   ]
  },
  {
   "cell_type": "code",
   "execution_count": null,
   "metadata": {},
   "outputs": [],
   "source": []
  },
  {
   "cell_type": "code",
   "execution_count": null,
   "metadata": {},
   "outputs": [],
   "source": []
  }
 ],
 "metadata": {
  "kernelspec": {
   "display_name": "Python 3 (ipykernel)",
   "language": "python",
   "name": "python3"
  },
  "language_info": {
   "codemirror_mode": {
    "name": "ipython",
    "version": 3
   },
   "file_extension": ".py",
   "mimetype": "text/x-python",
   "name": "python",
   "nbconvert_exporter": "python",
   "pygments_lexer": "ipython3",
   "version": "3.9.5"
  }
 },
 "nbformat": 4,
 "nbformat_minor": 2
}
