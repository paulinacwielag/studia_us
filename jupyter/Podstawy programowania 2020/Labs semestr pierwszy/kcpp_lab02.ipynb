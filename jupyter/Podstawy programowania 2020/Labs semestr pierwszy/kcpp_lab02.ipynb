{
 "cells": [
  {
   "cell_type": "code",
   "execution_count": 2,
   "metadata": {},
   "outputs": [
    {
     "data": {
      "text/plain": [
       "3"
      ]
     },
     "execution_count": 2,
     "metadata": {},
     "output_type": "execute_result"
    }
   ],
   "source": [
    "(3 * 2) // 2"
   ]
  },
  {
   "cell_type": "code",
   "execution_count": 6,
   "metadata": {},
   "outputs": [
    {
     "name": "stdout",
     "output_type": "stream",
     "text": [
      "3.0\n"
     ]
    }
   ],
   "source": [
    "a = 3 # zmienna, nazwa (a), wartość - literał (3), typ (int, integer, całkowity)\n",
    "h = 2\n",
    "\n",
    "p = 1 / 2  * a * h\n",
    "print(p)"
   ]
  },
  {
   "cell_type": "code",
   "execution_count": 4,
   "metadata": {},
   "outputs": [
    {
     "data": {
      "text/plain": [
       "3"
      ]
     },
     "execution_count": 4,
     "metadata": {},
     "output_type": "execute_result"
    }
   ],
   "source": [
    "a"
   ]
  },
  {
   "cell_type": "code",
   "execution_count": 9,
   "metadata": {},
   "outputs": [
    {
     "name": "stdout",
     "output_type": "stream",
     "text": [
      "3\n"
     ]
    }
   ],
   "source": [
    "print(a)"
   ]
  },
  {
   "cell_type": "code",
   "execution_count": 10,
   "metadata": {},
   "outputs": [],
   "source": [
    "# Zad. 2\n",
    "a = 3\n",
    "b = 8\n",
    "\n",
    "p = a * b"
   ]
  },
  {
   "cell_type": "code",
   "execution_count": 11,
   "metadata": {},
   "outputs": [
    {
     "data": {
      "text/plain": [
       "24"
      ]
     },
     "execution_count": 11,
     "metadata": {},
     "output_type": "execute_result"
    }
   ],
   "source": [
    "p"
   ]
  },
  {
   "cell_type": "code",
   "execution_count": 12,
   "metadata": {},
   "outputs": [],
   "source": [
    "o = 2 * (a + b)"
   ]
  },
  {
   "cell_type": "code",
   "execution_count": 13,
   "metadata": {},
   "outputs": [
    {
     "data": {
      "text/plain": [
       "22"
      ]
     },
     "execution_count": 13,
     "metadata": {},
     "output_type": "execute_result"
    }
   ],
   "source": [
    "o"
   ]
  },
  {
   "cell_type": "code",
   "execution_count": 14,
   "metadata": {},
   "outputs": [
    {
     "name": "stdout",
     "output_type": "stream",
     "text": [
      "24 22\n"
     ]
    }
   ],
   "source": [
    "bok_a = 3\n",
    "bok_b = 8\n",
    "pole_prostokata = bok_a * bok_b\n",
    "obwod_prostokata = 2 * (bok_a + bok_b)\n",
    "\n",
    "print(pole_prostokata, obwod_prostokata)"
   ]
  },
  {
   "cell_type": "code",
   "execution_count": 15,
   "metadata": {},
   "outputs": [
    {
     "data": {
      "text/plain": [
       "(24, 22)"
      ]
     },
     "execution_count": 15,
     "metadata": {},
     "output_type": "execute_result"
    }
   ],
   "source": [
    "# TAK NIE MOZNA PROGRAMOWAC!!!\n",
    "\n",
    "a = 3 # dlugosc boku a\n",
    "b = 8 #dlugosc boku b\n",
    "p = a * b # pole prostokata\n",
    "o = 2 * (a + b) # obwod prostokata\n",
    "p, o"
   ]
  },
  {
   "cell_type": "code",
   "execution_count": 20,
   "metadata": {},
   "outputs": [
    {
     "name": "stdout",
     "output_type": "stream",
     "text": [
      "33.372862\n",
      "88.67419729865\n"
     ]
    }
   ],
   "source": [
    "# Zad. 3\n",
    "# Oblicz pole i obwód koła o promieniu 5.31415\n",
    "\n",
    "pi = 3.14\n",
    "promien_kola = 5.31415\n",
    "obwod_kola = 2 * pi * promien_kola\n",
    "print(obwod_kola)\n",
    "\n",
    "pole_kola = pi * promien_kola**2 \n",
    "print(pole_kola)"
   ]
  },
  {
   "cell_type": "code",
   "execution_count": 41,
   "metadata": {},
   "outputs": [
    {
     "name": "stdout",
     "output_type": "stream",
     "text": [
      "Pole kola o promieniu 123.321 wynosi 47777.55797449197 a jego obwod wynosi 774.8486952666938\n"
     ]
    }
   ],
   "source": [
    "from math import pi\n",
    "\n",
    "r = 123.321\n",
    "obwod_kola = 2 * pi * r\n",
    "pole_kola = pi * r ** 2\n",
    "\n",
    "# 1\n",
    "print(\"Pole kola o promieniu\", r, \"wynosi\", pole_kola, \"a jego obwod wynosi\", obwod_kola)"
   ]
  },
  {
   "cell_type": "code",
   "execution_count": 23,
   "metadata": {},
   "outputs": [
    {
     "data": {
      "text/plain": [
       "'ala ma kota ala ma kota ala ma kota '"
      ]
     },
     "execution_count": 23,
     "metadata": {},
     "output_type": "execute_result"
    }
   ],
   "source": [
    "zdanie = \"ala ma kota\"\n",
    "(zdanie + \" \") * 3"
   ]
  },
  {
   "cell_type": "code",
   "execution_count": 24,
   "metadata": {},
   "outputs": [
    {
     "name": "stdout",
     "output_type": "stream",
     "text": [
      "8\n"
     ]
    }
   ],
   "source": [
    "x = 7\n",
    "x += 1\n",
    "print(x)"
   ]
  },
  {
   "cell_type": "code",
   "execution_count": null,
   "metadata": {},
   "outputs": [],
   "source": []
  }
 ],
 "metadata": {
  "kernelspec": {
   "display_name": "Python 3 (ipykernel)",
   "language": "python",
   "name": "python3"
  },
  "language_info": {
   "codemirror_mode": {
    "name": "ipython",
    "version": 3
   },
   "file_extension": ".py",
   "mimetype": "text/x-python",
   "name": "python",
   "nbconvert_exporter": "python",
   "pygments_lexer": "ipython3",
   "version": "3.9.5"
  }
 },
 "nbformat": 4,
 "nbformat_minor": 2
}
