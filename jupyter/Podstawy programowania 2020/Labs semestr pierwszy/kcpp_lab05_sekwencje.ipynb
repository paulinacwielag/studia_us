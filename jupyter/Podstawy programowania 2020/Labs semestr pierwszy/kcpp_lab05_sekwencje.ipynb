{
 "cells": [
  {
   "cell_type": "code",
   "execution_count": null,
   "metadata": {},
   "outputs": [],
   "source": [
    "# pętla liczb parzystych od 1 do 21"
   ]
  },
  {
   "cell_type": "code",
   "execution_count": 1,
   "metadata": {},
   "outputs": [
    {
     "name": "stdout",
     "output_type": "stream",
     "text": [
      "2\n",
      "4\n",
      "6\n",
      "8\n",
      "10\n",
      "12\n",
      "14\n",
      "16\n",
      "18\n",
      "20\n"
     ]
    }
   ],
   "source": [
    "i = 2\n",
    "while i <= 21:\n",
    "    print(i)\n",
    "    i = i + 2"
   ]
  },
  {
   "cell_type": "code",
   "execution_count": 18,
   "metadata": {},
   "outputs": [
    {
     "name": "stdout",
     "output_type": "stream",
     "text": [
      "2\n",
      "4\n",
      "6\n",
      "8\n",
      "10\n",
      "12\n",
      "14\n",
      "16\n",
      "18\n",
      "20\n"
     ]
    }
   ],
   "source": [
    "i = 1\n",
    "while i <= 21:\n",
    "    if i % 2 == 0:\n",
    "        print(i)\n",
    "    else:\n",
    "        pass\n",
    "    i = i + 1"
   ]
  },
  {
   "cell_type": "code",
   "execution_count": 6,
   "metadata": {},
   "outputs": [
    {
     "name": "stdout",
     "output_type": "stream",
     "text": [
      "2\n",
      "4\n",
      "6\n",
      "8\n",
      "10\n",
      "12\n",
      "14\n",
      "16\n",
      "18\n",
      "20\n"
     ]
    }
   ],
   "source": [
    "i = 1\n",
    "while i <= 21:\n",
    "    if i % 2 == 0:\n",
    "        print(i)\n",
    "    else:\n",
    "        pass\n",
    "    i = i + 1"
   ]
  },
  {
   "cell_type": "code",
   "execution_count": null,
   "metadata": {},
   "outputs": [],
   "source": [
    "# liczby nieparzyste od -21 do 0"
   ]
  },
  {
   "cell_type": "code",
   "execution_count": 21,
   "metadata": {},
   "outputs": [
    {
     "name": "stdout",
     "output_type": "stream",
     "text": [
      "-20\n",
      "-18\n",
      "-16\n",
      "-14\n",
      "-12\n",
      "-10\n",
      "-8\n",
      "-6\n",
      "-4\n",
      "-2\n",
      "0\n"
     ]
    }
   ],
   "source": [
    "# dane wejsciowe\n",
    "start = -21\n",
    "stop = 0\n",
    "\n",
    "# algorytm\n",
    "i = start\n",
    "while i <= stop:\n",
    "    if i % 2 == 0:\n",
    "        print(i)\n",
    "    i = i + 1     # i += 1\n"
   ]
  },
  {
   "cell_type": "code",
   "execution_count": null,
   "metadata": {},
   "outputs": [],
   "source": [
    "# i % 2 (liczby nieparzyste)\n",
    "# i % 2 == 0 (liczby parzyste, bo zero reszty z dzielenia)"
   ]
  },
  {
   "cell_type": "code",
   "execution_count": null,
   "metadata": {},
   "outputs": [],
   "source": [
    "start = 0\n",
    "stop = -21\n",
    "\n",
    "i = start\n",
    "while i >= stop:\n",
    "    if i % 2:\n",
    "        print(i)\n",
    "    "
   ]
  },
  {
   "cell_type": "code",
   "execution_count": 10,
   "metadata": {},
   "outputs": [],
   "source": [
    "# wydrukuj liczby od -100 do 100 podzielne przez 5 i 7"
   ]
  },
  {
   "cell_type": "code",
   "execution_count": 11,
   "metadata": {},
   "outputs": [
    {
     "name": "stdout",
     "output_type": "stream",
     "text": [
      "-70\n",
      "-35\n",
      "0\n",
      "35\n",
      "70\n"
     ]
    }
   ],
   "source": [
    "start = -100\n",
    "stop = 100\n",
    "\n",
    "i = start\n",
    "while i <= stop:\n",
    "    if (i % 5 == 0) and (i % 7 == 0):\n",
    "        print(i)\n",
    "    i += 1"
   ]
  },
  {
   "cell_type": "code",
   "execution_count": null,
   "metadata": {},
   "outputs": [],
   "source": [
    "# wydrukuj liczby od -100 do 100 podzielne przez 5 i 7"
   ]
  },
  {
   "cell_type": "code",
   "execution_count": 41,
   "metadata": {},
   "outputs": [
    {
     "name": "stdout",
     "output_type": "stream",
     "text": [
      "-70\n",
      "-35\n",
      "0\n",
      "35\n",
      "70\n"
     ]
    }
   ],
   "source": [
    "start = -100\n",
    "stop = 100\n",
    "\n",
    "i = start\n",
    "while i <= stop:\n",
    "    if (not i % 5) and (not i % 7):\n",
    "        print(i)\n",
    "    i += 1"
   ]
  },
  {
   "cell_type": "code",
   "execution_count": 49,
   "metadata": {},
   "outputs": [
    {
     "name": "stdout",
     "output_type": "stream",
     "text": [
      "-200\n",
      "-198\n",
      "-195\n",
      "-192\n",
      "-189\n",
      "-186\n",
      "-184\n",
      "-183\n",
      "-180\n",
      "-177\n",
      "-176\n",
      "-174\n",
      "-171\n",
      "-168\n",
      "-165\n",
      "-162\n",
      "-160\n",
      "-159\n",
      "-156\n",
      "-153\n",
      "-152\n",
      "-150\n",
      "-147\n",
      "-144\n",
      "-141\n",
      "-138\n",
      "-136\n",
      "-135\n",
      "-132\n",
      "-129\n",
      "-128\n",
      "-126\n",
      "-123\n",
      "-120\n",
      "-117\n",
      "-114\n",
      "-112\n",
      "-111\n",
      "-108\n",
      "-105\n",
      "-104\n",
      "-102\n",
      "-99\n",
      "-96\n",
      "-93\n",
      "-90\n",
      "-88\n",
      "-87\n",
      "-84\n",
      "-81\n",
      "-80\n",
      "-78\n",
      "-75\n",
      "-72\n",
      "-69\n",
      "-66\n",
      "-64\n",
      "-63\n",
      "-60\n",
      "-57\n",
      "-56\n",
      "-54\n",
      "-51\n",
      "-48\n",
      "-45\n",
      "-42\n",
      "-40\n",
      "-39\n",
      "-36\n",
      "-33\n",
      "-32\n",
      "-30\n",
      "-27\n",
      "-24\n",
      "-21\n",
      "-18\n",
      "-16\n",
      "-15\n",
      "-12\n",
      "-9\n",
      "-8\n",
      "-6\n",
      "-3\n",
      "0\n",
      "3\n",
      "6\n",
      "8\n",
      "9\n",
      "12\n",
      "15\n",
      "16\n",
      "18\n",
      "21\n",
      "24\n",
      "27\n",
      "30\n",
      "32\n",
      "33\n",
      "36\n",
      "39\n",
      "40\n",
      "42\n",
      "45\n",
      "48\n",
      "51\n",
      "54\n",
      "56\n",
      "57\n",
      "60\n",
      "63\n",
      "64\n",
      "66\n",
      "69\n",
      "72\n",
      "75\n",
      "78\n",
      "80\n",
      "81\n",
      "84\n",
      "87\n",
      "88\n",
      "90\n",
      "93\n",
      "96\n",
      "99\n",
      "102\n",
      "104\n",
      "105\n",
      "108\n",
      "111\n",
      "112\n",
      "114\n",
      "117\n",
      "120\n",
      "123\n",
      "126\n",
      "128\n",
      "129\n",
      "132\n",
      "135\n",
      "136\n",
      "138\n",
      "141\n",
      "144\n",
      "147\n",
      "150\n",
      "152\n",
      "153\n",
      "156\n",
      "159\n",
      "160\n",
      "162\n",
      "165\n",
      "168\n",
      "171\n",
      "174\n",
      "176\n",
      "177\n",
      "180\n",
      "183\n",
      "184\n",
      "186\n",
      "189\n",
      "192\n",
      "195\n",
      "198\n",
      "200\n"
     ]
    }
   ],
   "source": [
    "start = -200\n",
    "stop = 200\n",
    "\n",
    "i = start\n",
    "while i <= stop:\n",
    "    if (i % 3 == 0) or (i % 8 == 0):\n",
    "        print(i)\n",
    "    i += 1"
   ]
  },
  {
   "cell_type": "code",
   "execution_count": 13,
   "metadata": {},
   "outputs": [
    {
     "data": {
      "text/plain": [
       "'0b10001'"
      ]
     },
     "execution_count": 13,
     "metadata": {},
     "output_type": "execute_result"
    }
   ],
   "source": [
    "bin(17)"
   ]
  },
  {
   "cell_type": "code",
   "execution_count": 14,
   "metadata": {},
   "outputs": [
    {
     "data": {
      "text/plain": [
       "'0o21'"
      ]
     },
     "execution_count": 14,
     "metadata": {},
     "output_type": "execute_result"
    }
   ],
   "source": [
    "oct(17)"
   ]
  },
  {
   "cell_type": "code",
   "execution_count": 16,
   "metadata": {},
   "outputs": [
    {
     "data": {
      "text/plain": [
       "'0x11'"
      ]
     },
     "execution_count": 16,
     "metadata": {},
     "output_type": "execute_result"
    }
   ],
   "source": [
    "hex(17)"
   ]
  },
  {
   "cell_type": "code",
   "execution_count": 17,
   "metadata": {},
   "outputs": [
    {
     "name": "stdout",
     "output_type": "stream",
     "text": [
      "-0b1111\n",
      "-0b1110\n",
      "-0b1101\n",
      "-0b1100\n",
      "-0b111\n",
      "-0b110\n",
      "-0b101\n",
      "-0b100\n",
      "0b100\n",
      "0b101\n",
      "0b110\n",
      "0b111\n",
      "0b1100\n",
      "0b1101\n",
      "0b1110\n",
      "0b1111\n",
      "0b10100\n",
      "0b10101\n",
      "0b10110\n",
      "0b10111\n",
      "0b11100\n",
      "0b11101\n",
      "0b11110\n",
      "0b11111\n"
     ]
    }
   ],
   "source": [
    "# wydrukuj liczby od -17 do 32 które mają jedynkę na 3 miejscu rozwinięcia dwójkowego\n",
    "\n",
    "start = -17\n",
    "stop = 32\n",
    "\n",
    "zmienna = start\n",
    "while zmienna <= stop:\n",
    "    wersja_binarna = bin(zmienna)\n",
    "    if wersja_binarna[-3] == \"1\":\n",
    "        print(wersja_binarna)\n",
    "    zmienna += 1"
   ]
  },
  {
   "cell_type": "markdown",
   "metadata": {},
   "source": [
    "## Sekwencje"
   ]
  },
  {
   "cell_type": "code",
   "execution_count": 26,
   "metadata": {},
   "outputs": [
    {
     "data": {
      "text/plain": [
       "'l'"
      ]
     },
     "execution_count": 26,
     "metadata": {},
     "output_type": "execute_result"
    }
   ],
   "source": [
    "tekst1 = 'Telewizor'\n",
    "tekst2 = \"Telewizor\"\n",
    "\n",
    "tekst1[2]"
   ]
  },
  {
   "cell_type": "code",
   "execution_count": 27,
   "metadata": {},
   "outputs": [
    {
     "data": {
      "text/plain": [
       "'r'"
      ]
     },
     "execution_count": 27,
     "metadata": {},
     "output_type": "execute_result"
    }
   ],
   "source": [
    "tekst1[-1]"
   ]
  },
  {
   "cell_type": "code",
   "execution_count": 28,
   "metadata": {},
   "outputs": [
    {
     "data": {
      "text/plain": [
       "'lew'"
      ]
     },
     "execution_count": 28,
     "metadata": {},
     "output_type": "execute_result"
    }
   ],
   "source": [
    "tekst1[2:5] # litery lew, z dodatkową o jeden"
   ]
  },
  {
   "cell_type": "code",
   "execution_count": 31,
   "metadata": {},
   "outputs": [
    {
     "data": {
      "text/plain": [
       "'Te'"
      ]
     },
     "execution_count": 31,
     "metadata": {},
     "output_type": "execute_result"
    }
   ],
   "source": [
    "tekst1[:2] # od początku bez 0"
   ]
  },
  {
   "cell_type": "code",
   "execution_count": 32,
   "metadata": {},
   "outputs": [
    {
     "data": {
      "text/plain": [
       "'wizor'"
      ]
     },
     "execution_count": 32,
     "metadata": {},
     "output_type": "execute_result"
    }
   ],
   "source": [
    "tekst1[4:] # cztery od końca"
   ]
  },
  {
   "cell_type": "code",
   "execution_count": 35,
   "metadata": {},
   "outputs": [
    {
     "data": {
      "text/plain": [
       "'ewo'"
      ]
     },
     "execution_count": 35,
     "metadata": {},
     "output_type": "execute_result"
    }
   ],
   "source": [
    "tekst1[1:8:3] #przeskok, od:do:co ile "
   ]
  },
  {
   "cell_type": "markdown",
   "metadata": {},
   "source": [
    "## LEN"
   ]
  },
  {
   "cell_type": "code",
   "execution_count": 37,
   "metadata": {},
   "outputs": [
    {
     "data": {
      "text/plain": [
       "9"
      ]
     },
     "execution_count": 37,
     "metadata": {},
     "output_type": "execute_result"
    }
   ],
   "source": [
    "len(tekst1) # ile jest znaków"
   ]
  },
  {
   "cell_type": "code",
   "execution_count": 38,
   "metadata": {},
   "outputs": [
    {
     "data": {
      "text/plain": [
       "0"
      ]
     },
     "execution_count": 38,
     "metadata": {},
     "output_type": "execute_result"
    }
   ],
   "source": [
    "len(tekst1) - len(tekst2)"
   ]
  },
  {
   "cell_type": "code",
   "execution_count": 39,
   "metadata": {},
   "outputs": [
    {
     "data": {
      "text/plain": [
       "18"
      ]
     },
     "execution_count": 39,
     "metadata": {},
     "output_type": "execute_result"
    }
   ],
   "source": [
    "len(tekst1) + len(tekst2)"
   ]
  },
  {
   "cell_type": "code",
   "execution_count": 40,
   "metadata": {},
   "outputs": [
    {
     "data": {
      "text/plain": [
       "81"
      ]
     },
     "execution_count": 40,
     "metadata": {},
     "output_type": "execute_result"
    }
   ],
   "source": [
    "len(tekst1) * len(tekst2)"
   ]
  },
  {
   "cell_type": "code",
   "execution_count": 53,
   "metadata": {},
   "outputs": [
    {
     "name": "stdout",
     "output_type": "stream",
     "text": [
      "-98\n",
      "-91\n",
      "-84\n",
      "-77\n",
      "-70\n",
      "-63\n",
      "-56\n",
      "-49\n",
      "-42\n",
      "-35\n",
      "-28\n",
      "-21\n",
      "-14\n",
      "-7\n",
      "0\n",
      "7\n",
      "14\n",
      "21\n",
      "28\n",
      "35\n",
      "42\n",
      "49\n",
      "56\n",
      "63\n",
      "70\n",
      "77\n",
      "84\n",
      "91\n",
      "98\n"
     ]
    }
   ],
   "source": [
    "start = -100\n",
    "stop = 100\n",
    "\n",
    "while start <= stop:  # while — dopóki start jest większy bądź równy\n",
    "    if start % 7 == 0:\n",
    "        print(start)\n",
    "    start += 1"
   ]
  },
  {
   "cell_type": "markdown",
   "metadata": {},
   "source": [
    "## Napisz program, który wypisuje liczby podzielne przez 7 lub 9 z zakresu od 390 do -120. "
   ]
  },
  {
   "cell_type": "code",
   "execution_count": 54,
   "metadata": {},
   "outputs": [
    {
     "name": "stdout",
     "output_type": "stream",
     "text": [
      "387\n",
      "385\n",
      "378\n",
      "371\n",
      "369\n",
      "364\n",
      "360\n",
      "357\n",
      "351\n",
      "350\n",
      "343\n",
      "342\n",
      "336\n",
      "333\n",
      "329\n",
      "324\n",
      "322\n",
      "315\n",
      "308\n",
      "306\n",
      "301\n",
      "297\n",
      "294\n",
      "288\n",
      "287\n",
      "280\n",
      "279\n",
      "273\n",
      "270\n",
      "266\n",
      "261\n",
      "259\n",
      "252\n",
      "245\n",
      "243\n",
      "238\n",
      "234\n",
      "231\n",
      "225\n",
      "224\n",
      "217\n",
      "216\n",
      "210\n",
      "207\n",
      "203\n",
      "198\n",
      "196\n",
      "189\n",
      "182\n",
      "180\n",
      "175\n",
      "171\n",
      "168\n",
      "162\n",
      "161\n",
      "154\n",
      "153\n",
      "147\n",
      "144\n",
      "140\n",
      "135\n",
      "133\n",
      "126\n",
      "119\n",
      "117\n",
      "112\n",
      "108\n",
      "105\n",
      "99\n",
      "98\n",
      "91\n",
      "90\n",
      "84\n",
      "81\n",
      "77\n",
      "72\n",
      "70\n",
      "63\n",
      "56\n",
      "54\n",
      "49\n",
      "45\n",
      "42\n",
      "36\n",
      "35\n",
      "28\n",
      "27\n",
      "21\n",
      "18\n",
      "14\n",
      "9\n",
      "7\n",
      "0\n",
      "-7\n",
      "-9\n",
      "-14\n",
      "-18\n",
      "-21\n",
      "-27\n",
      "-28\n",
      "-35\n",
      "-36\n",
      "-42\n",
      "-45\n",
      "-49\n",
      "-54\n",
      "-56\n",
      "-63\n",
      "-70\n",
      "-72\n",
      "-77\n",
      "-81\n",
      "-84\n",
      "-90\n",
      "-91\n",
      "-98\n",
      "-99\n",
      "-105\n",
      "-108\n",
      "-112\n",
      "-117\n",
      "-119\n"
     ]
    }
   ],
   "source": [
    "start = 390\n",
    "stop = -120\n",
    "\n",
    "licznik = start\n",
    "while licznik >= stop:\n",
    "    if (licznik % 7 == 0) or (licznik % 9 == 0):\n",
    "        print(licznik)\n",
    "    licznik = licznik - 1"
   ]
  },
  {
   "cell_type": "code",
   "execution_count": 57,
   "metadata": {},
   "outputs": [
    {
     "name": "stdout",
     "output_type": "stream",
     "text": [
      "30\n",
      "29\n",
      "28\n",
      "27\n",
      "26\n",
      "25\n",
      "24\n",
      "23\n",
      "22\n",
      "21\n",
      "20\n",
      "19\n",
      "18\n",
      "17\n",
      "16\n",
      "15\n",
      "14\n",
      "13\n",
      "12\n",
      "11\n",
      "10\n",
      "9\n",
      "8\n",
      "7\n",
      "6\n",
      "5\n",
      "4\n",
      "3\n",
      "2\n",
      "1\n",
      "0\n",
      "-1\n",
      "-2\n",
      "-3\n",
      "-4\n",
      "-5\n",
      "-6\n",
      "-7\n",
      "-8\n",
      "-9\n"
     ]
    }
   ],
   "source": [
    "start = 30\n",
    "stop = -9 \n",
    "\n",
    "while start >= stop:\n",
    "    print(start)\n",
    "    start = start - 1"
   ]
  },
  {
   "cell_type": "code",
   "execution_count": null,
   "metadata": {},
   "outputs": [],
   "source": [
    "odp = 't'.upper() \n",
    "i = 6\n",
    "\n",
    "while odp == \"T\":\n",
    "    if i<4:\n",
    "        odp = \"F\"\n",
    "        i = i - 1\n",
    "        print(i)"
   ]
  },
  {
   "cell_type": "code",
   "execution_count": 2,
   "metadata": {},
   "outputs": [
    {
     "name": "stdout",
     "output_type": "stream",
     "text": [
      "5\n",
      "4\n",
      "3\n",
      "2\n"
     ]
    }
   ],
   "source": [
    "i = 6\n",
    "\n",
    "while i:\n",
    "    if i < 3:\n",
    "        break\n",
    "    i = i - 1\n",
    "    print(i)"
   ]
  },
  {
   "cell_type": "code",
   "execution_count": null,
   "metadata": {},
   "outputs": [],
   "source": []
  }
 ],
 "metadata": {
  "kernelspec": {
   "display_name": "Python 3",
   "language": "python",
   "name": "python3"
  },
  "language_info": {
   "codemirror_mode": {
    "name": "ipython",
    "version": 3
   },
   "file_extension": ".py",
   "mimetype": "text/x-python",
   "name": "python",
   "nbconvert_exporter": "python",
   "pygments_lexer": "ipython3",
   "version": "3.7.3"
  }
 },
 "nbformat": 4,
 "nbformat_minor": 2
}
