{
 "cells": [
  {
   "cell_type": "code",
   "execution_count": 4,
   "metadata": {},
   "outputs": [
    {
     "data": {
      "text/plain": [
       "0.9461692873594716"
      ]
     },
     "execution_count": 4,
     "metadata": {},
     "output_type": "execute_result"
    }
   ],
   "source": [
    "def zwroc_sume(A, B):\n",
    "    suma = 0\n",
    "\n",
    "    while A <= B:\n",
    "        suma += A / (A ** 3 - A ** 2 + 3 * A)\n",
    "        A += 1\n",
    "\n",
    "    return suma\n",
    "\n",
    "zwroc_sume(1, 1000)"
   ]
  },
  {
   "cell_type": "code",
   "execution_count": 6,
   "metadata": {},
   "outputs": [
    {
     "data": {
      "text/plain": [
       "4255.584415584416"
      ]
     },
     "execution_count": 6,
     "metadata": {},
     "output_type": "execute_result"
    }
   ],
   "source": [
    "def pokaz_iloczyn(A, B):\n",
    "    iloczyn = 1\n",
    "    \n",
    "    for element in range(A, B + 1):\n",
    "        iloczyn = iloczyn * (2 * element / (element + 2))\n",
    "        \n",
    "    return iloczyn\n",
    "\n",
    "pokaz_iloczyn(5, 20)"
   ]
  },
  {
   "cell_type": "code",
   "execution_count": 18,
   "metadata": {},
   "outputs": [
    {
     "data": {
      "text/plain": [
       "[-12, -6, 0, 6, 12, 18, 24, 30, 36, 42, 48, 54, 60]"
      ]
     },
     "execution_count": 18,
     "metadata": {},
     "output_type": "execute_result"
    }
   ],
   "source": [
    "def mnozenie_3n():\n",
    "    iloczyn = 1\n",
    "    lista = []\n",
    "    \n",
    "    for element in range(-5, 21):\n",
    "        wymnozenie = 3 * element\n",
    "        if wymnozenie % 2 == 0:\n",
    "            lista.append(wymnozenie)\n",
    "        \n",
    "    return lista\n",
    "\n",
    "mnozenie_3n()"
   ]
  },
  {
   "cell_type": "code",
   "execution_count": 11,
   "metadata": {},
   "outputs": [
    {
     "name": "stdout",
     "output_type": "stream",
     "text": [
      "[-12, -6, 0, 6, 12, 18, 24, 30, 36, 42, 48, 54, 60]\n"
     ]
    }
   ],
   "source": [
    "lista = [3 * n for n in range(-4,22,2)]\n",
    "print(lista)"
   ]
  },
  {
   "cell_type": "code",
   "execution_count": null,
   "metadata": {},
   "outputs": [],
   "source": [
    "def mnozenie_3n():\n",
    "    iloczyn = 1\n",
    "    lista = []\n",
    "    \n",
    "    for element in range(-5, 21):\n",
    "        wymnozenie = 3 * element\n",
    "        if wymnozenie % == 0:\n",
    "            lista.append(wymnozenie)\n",
    "        \n",
    "    return lista\n",
    "\n",
    "mnozenie_3n()"
   ]
  },
  {
   "cell_type": "code",
   "execution_count": 20,
   "metadata": {},
   "outputs": [
    {
     "data": {
      "text/plain": [
       "[-12, -6, 0, 6, 12, 18, 24, 30, 36, 42, 48, 54, 60]"
      ]
     },
     "execution_count": 20,
     "metadata": {},
     "output_type": "execute_result"
    }
   ],
   "source": [
    "def mnozenie_3n():\n",
    "    lista = []\n",
    "    \n",
    "    for element in range(-5, 21):\n",
    "        if element % 2 == 0:\n",
    "            lista.append(3 * element)\n",
    "        \n",
    "    return lista\n",
    "\n",
    "mnozenie_3n()"
   ]
  },
  {
   "cell_type": "code",
   "execution_count": 27,
   "metadata": {},
   "outputs": [
    {
     "data": {
      "text/plain": [
       "{0: -12,\n",
       " 1: -6,\n",
       " 2: 0,\n",
       " 3: 6,\n",
       " 4: 12,\n",
       " 5: 18,\n",
       " 6: 24,\n",
       " 7: 30,\n",
       " 8: 36,\n",
       " 9: 42,\n",
       " 10: 48,\n",
       " 11: 54,\n",
       " 12: 60}"
      ]
     },
     "execution_count": 27,
     "metadata": {},
     "output_type": "execute_result"
    }
   ],
   "source": [
    "def slownik_poprzedniego():\n",
    "    slownik = {indeks: wartosc for indeks, wartosc in enumerate(lista)}\n",
    "    return slownik\n",
    "\n",
    "slownik_poprzedniego()"
   ]
  },
  {
   "cell_type": "code",
   "execution_count": 45,
   "metadata": {},
   "outputs": [
    {
     "data": {
      "text/plain": [
       "[48,\n",
       " 42,\n",
       " 26,\n",
       " 29,\n",
       " 35,\n",
       " 16,\n",
       " 20,\n",
       " -41,\n",
       " 46,\n",
       " 9,\n",
       " 26,\n",
       " -41,\n",
       " 15,\n",
       " 51,\n",
       " 22,\n",
       " 22,\n",
       " 30,\n",
       " -31,\n",
       " 3,\n",
       " 47,\n",
       " -35,\n",
       " -13,\n",
       " 22,\n",
       " -2,\n",
       " -21,\n",
       " 45,\n",
       " 21,\n",
       " -17,\n",
       " -24,\n",
       " 35,\n",
       " 48,\n",
       " 17,\n",
       " 13,\n",
       " 11,\n",
       " 26,\n",
       " -50,\n",
       " -10,\n",
       " -27,\n",
       " 3,\n",
       " 45,\n",
       " -35,\n",
       " -43,\n",
       " -50,\n",
       " -4,\n",
       " 51,\n",
       " -15,\n",
       " -17,\n",
       " -7,\n",
       " -39,\n",
       " 51,\n",
       " -40,\n",
       " 7,\n",
       " 6,\n",
       " -30,\n",
       " 47,\n",
       " 49,\n",
       " -4,\n",
       " -41,\n",
       " 13,\n",
       " 18,\n",
       " 18,\n",
       " -11,\n",
       " -5,\n",
       " 9,\n",
       " 48,\n",
       " -19,\n",
       " -42,\n",
       " -5,\n",
       " 1,\n",
       " 37,\n",
       " -23,\n",
       " 40,\n",
       " -14,\n",
       " 39,\n",
       " -15,\n",
       " 10,\n",
       " 22,\n",
       " 35,\n",
       " -10,\n",
       " -15,\n",
       " 40,\n",
       " 48,\n",
       " 23,\n",
       " -24,\n",
       " 0,\n",
       " 4,\n",
       " -7,\n",
       " -42,\n",
       " 51,\n",
       " -35,\n",
       " -49,\n",
       " 31,\n",
       " -41,\n",
       " 23,\n",
       " -6,\n",
       " 27,\n",
       " -35,\n",
       " 2,\n",
       " -50,\n",
       " -13]"
      ]
     },
     "execution_count": 45,
     "metadata": {},
     "output_type": "execute_result"
    }
   ],
   "source": [
    "import random\n",
    "\n",
    "def losowe_liczby(A, B, N):\n",
    "    lista_liczb = [random.randint(A, B + 1) for i in range(N)]\n",
    "    return lista_liczb\n",
    "\n",
    "losowe_liczby(- 50, 50, 100)"
   ]
  },
  {
   "cell_type": "code",
   "execution_count": null,
   "metadata": {},
   "outputs": [],
   "source": [
    "def oddzielone(x, L):\n",
    "    \n",
    "    for element in \n",
    "\n",
    "L1 = [6, 7, 14, 30, 100]"
   ]
  }
 ],
 "metadata": {
  "kernelspec": {
   "display_name": "Python 3 (ipykernel)",
   "language": "python",
   "name": "python3"
  },
  "language_info": {
   "codemirror_mode": {
    "name": "ipython",
    "version": 3
   },
   "file_extension": ".py",
   "mimetype": "text/x-python",
   "name": "python",
   "nbconvert_exporter": "python",
   "pygments_lexer": "ipython3",
   "version": "3.9.5"
  }
 },
 "nbformat": 4,
 "nbformat_minor": 2
}
