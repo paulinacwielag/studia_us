{
 "cells": [
  {
   "cell_type": "code",
   "execution_count": 3,
   "metadata": {},
   "outputs": [
    {
     "name": "stdout",
     "output_type": "stream",
     "text": [
      "55\n"
     ]
    }
   ],
   "source": [
    "import math \n",
    "\n",
    "i = 1 \n",
    "suma = 0\n",
    "\n",
    "while i <= 10:\n",
    "    suma += i\n",
    "    i += 1\n",
    "print(suma)"
   ]
  },
  {
   "cell_type": "code",
   "execution_count": 2,
   "metadata": {},
   "outputs": [
    {
     "name": "stdout",
     "output_type": "stream",
     "text": [
      "1\n"
     ]
    }
   ],
   "source": [
    "i = 1\n",
    "iloczyn = 1\n",
    "\n",
    "while i <= 10:\n",
    "    iloczyn *= 1\n",
    "    i += 1\n",
    "print(iloczyn)"
   ]
  },
  {
   "cell_type": "code",
   "execution_count": 8,
   "metadata": {},
   "outputs": [
    {
     "name": "stdout",
     "output_type": "stream",
     "text": [
      "3.7320508075688776\n"
     ]
    }
   ],
   "source": [
    "import math \n",
    "\n",
    "i = - 3 \n",
    "suma = 0\n",
    "\n",
    "while i <= 3:\n",
    "    suma += math.cos((math.pi*i)/6)\n",
    "    i += 1\n",
    "print(suma)"
   ]
  },
  {
   "cell_type": "code",
   "execution_count": 5,
   "metadata": {},
   "outputs": [
    {
     "name": "stdout",
     "output_type": "stream",
     "text": [
      "7.030123981227462e-34\n"
     ]
    }
   ],
   "source": [
    "i = - 3\n",
    "iloczyn = 1\n",
    "\n",
    "while i <= 3:\n",
    "    iloczyn *= math.cos((math.pi*i)/6)\n",
    "    i += 1\n",
    "print(iloczyn)"
   ]
  },
  {
   "cell_type": "code",
   "execution_count": 9,
   "metadata": {},
   "outputs": [
    {
     "name": "stdout",
     "output_type": "stream",
     "text": [
      "Licznik: -3, element: 6.123233995736766e-17, bieżąca suma: 0.00000\n",
      "Licznik: -2, element: 0.5000000000000001, bieżąca suma: 0.50000\n",
      "Licznik: -1, element: 0.8660254037844387, bieżąca suma: 1.36603\n",
      "Licznik: 0, element: 1.0, bieżąca suma: 2.36603\n",
      "Licznik: 1, element: 0.8660254037844387, bieżąca suma: 3.23205\n",
      "Licznik: 2, element: 0.5000000000000001, bieżąca suma: 3.73205\n",
      "Licznik: 3, element: 6.123233995736766e-17, bieżąca suma: 3.73205\n",
      "3.7320508075688776\n"
     ]
    }
   ],
   "source": [
    "import math\n",
    "\n",
    "i = -3\n",
    "suma = 0\n",
    "\n",
    "while i <= 3:\n",
    "    element = (math.cos((math.pi*i)/6))\n",
    "    suma += element\n",
    "    print((\"Licznik: {}, element: {}, bieżąca suma: {:.5f}\").format(i, element, suma))\n",
    "    i += 1\n",
    "    \n",
    "print(suma)"
   ]
  },
  {
   "cell_type": "code",
   "execution_count": 10,
   "metadata": {},
   "outputs": [
    {
     "name": "stdout",
     "output_type": "stream",
     "text": [
      "licznik -4, element -0.3333333333333333, iloczyn -0.33333\n",
      "licznik -3, element -1.0, iloczyn 0.33333\n",
      "licznik -2, element -3.0, iloczyn -1.00000\n",
      "------\n",
      "licznik 0, element 5.0, iloczyn -5.00000\n",
      "licznik 1, element 3.0, iloczyn -15.00000\n",
      "licznik 2, element 2.3333333333333335, iloczyn -35.00000\n",
      "licznik 3, element 2.0, iloczyn -70.00000\n",
      "licznik 4, element 1.8, iloczyn -126.00000\n",
      "licznik 5, element 1.6666666666666667, iloczyn -210.00000\n",
      "licznik 6, element 1.5714285714285714, iloczyn -330.00000\n",
      "licznik 7, element 1.5, iloczyn -495.00000\n",
      "licznik 8, element 1.4444444444444444, iloczyn -715.00000\n",
      "licznik 9, element 1.4, iloczyn -1001.00000\n",
      "licznik 10, element 1.3636363636363635, iloczyn -1365.00000\n",
      "licznik 11, element 1.3333333333333333, iloczyn -1820.00000\n",
      "licznik 12, element 1.3076923076923077, iloczyn -2380.00000\n",
      "licznik 13, element 1.2857142857142858, iloczyn -3060.00000\n",
      "Wartość końcowa iloczynu = -3059.9999999999995\n"
     ]
    }
   ],
   "source": [
    "start, stop = -4, 13\n",
    "i = start\n",
    "\n",
    "iloczyn = 1\n",
    "while i <= stop:\n",
    "    if i == -1:\n",
    "        print(\"------\")\n",
    "    else:\n",
    "        element = (i + 5) / (i + 1)\n",
    "        iloczyn *= element\n",
    "        print(\"licznik {}, element {}, iloczyn {:.5f}\".format(i, element, iloczyn))\n",
    "    i += 1 \n",
    "    \n",
    "print(f\"Wartość końcowa iloczynu = {iloczyn}\")"
   ]
  },
  {
   "cell_type": "markdown",
   "metadata": {},
   "source": [
    "## Zad 2\n",
    "\n",
    "Napisz program, który z napisu Ala ma kota i dwa psy generuje napis AlaMaKotaIDwaPsy."
   ]
  },
  {
   "cell_type": "code",
   "execution_count": 30,
   "metadata": {},
   "outputs": [
    {
     "name": "stdout",
     "output_type": "stream",
     "text": [
      "AlaMaKotaIDwaPsy\n"
     ]
    }
   ],
   "source": [
    "napis = \"Ala ma kota i dwa psy\"\n",
    "koncowe_zdanie = \"\"\n",
    "litera = 0\n",
    "\n",
    "while litera < len(napis):\n",
    "    if (napis[litera] == \" \"):\n",
    "        koncowe_zdanie += (napis[litera + 1]).upper()\n",
    "        litera += 2\n",
    "    else:\n",
    "        koncowe_zdanie += napis[litera]\n",
    "        litera = litera + 1\n",
    "\n",
    "print(koncowe_zdanie)"
   ]
  },
  {
   "cell_type": "code",
   "execution_count": 16,
   "metadata": {},
   "outputs": [
    {
     "name": "stdout",
     "output_type": "stream",
     "text": [
      "AlaMaKotaIDwaPsy\n"
     ]
    }
   ],
   "source": [
    "# i\n",
    "\n",
    "napis = \"Ala ma kota i dwa psy\"\n",
    "zdanie_wyjsciowe = \"\"\n",
    "litera = 0\n",
    "while litera < len(napis):\n",
    "    if napis[litera] == \" \":\n",
    "        zdanie_wyjsciowe += (napis[litera+1]).upper()\n",
    "        litera += 2 \n",
    "    else:\n",
    "        zdanie_wyjsciowe += napis[litera]\n",
    "        litera += 1\n",
    "print(zdanie_wyjsciowe)"
   ]
  },
  {
   "cell_type": "markdown",
   "metadata": {},
   "source": [
    "## Typy sekwencyjne"
   ]
  },
  {
   "cell_type": "code",
   "execution_count": 32,
   "metadata": {},
   "outputs": [
    {
     "name": "stdout",
     "output_type": "stream",
     "text": [
      "AlaMaKotaIDwaPsy\n"
     ]
    }
   ],
   "source": [
    "#AlaMaKotaIDwaPsy\n",
    "\n",
    "# dane\n",
    "ciag_znakow = \"Ala ma kota i dwa psy\"\n",
    "\n",
    "# 1. zmiana każdego wyrazu na wyraz z dużej litery\n",
    "ciag_znakow = ciag_znakow.title()\n",
    "\n",
    "# 2. pozbycie się spacji\n",
    "\n",
    "i = 0\n",
    "ciag_liter = \"\"\n",
    "while i < len(ciag_znakow):\n",
    "    if ciag_znakow[i] != \" \":\n",
    "        ciag_liter += ciag_znakow[i]\n",
    "    i += 1\n",
    "    \n",
    "print(ciag_liter)"
   ]
  },
  {
   "cell_type": "code",
   "execution_count": 33,
   "metadata": {},
   "outputs": [
    {
     "name": "stdout",
     "output_type": "stream",
     "text": [
      "AlaMaKotaIDwaPsy\n"
     ]
    }
   ],
   "source": [
    "#AlaMaKotaIDwaPsy\n",
    "\n",
    "# dane\n",
    "ciag_znakow = \"Ala ma kota i dwa psy\"\n",
    "\n",
    "# 1. zmiana każdego wyrazu na wyraz z dużej litery\n",
    "ciag_znakow = ciag_znakow.title()\n",
    "\n",
    "# 2. pozbycie się spacji\n",
    "ciag_znakow = ciag_znakow.replace('','')\n",
    "    \n",
    "print(ciag_liter)"
   ]
  },
  {
   "cell_type": "markdown",
   "metadata": {},
   "source": [
    "## Praca domowa\n",
    "\n",
    "Zapoznaj się z metodami dla stringów."
   ]
  },
  {
   "cell_type": "markdown",
   "metadata": {},
   "source": [
    "## Tuple (krotka)"
   ]
  },
  {
   "cell_type": "code",
   "execution_count": 34,
   "metadata": {},
   "outputs": [
    {
     "data": {
      "text/plain": [
       "(1, 2, 3, 4, 5, 6, 7, 8, 9, 10)"
      ]
     },
     "execution_count": 34,
     "metadata": {},
     "output_type": "execute_result"
    }
   ],
   "source": [
    "krotka = 1, 2, 3, 4, 5, 6, 7, 8, 9, 10\n",
    "krotka"
   ]
  },
  {
   "cell_type": "code",
   "execution_count": 35,
   "metadata": {},
   "outputs": [
    {
     "name": "stdout",
     "output_type": "stream",
     "text": [
      "(1, 2, 3, 4, 5, 6, 7, 8, 9, 10)\n"
     ]
    }
   ],
   "source": [
    "print(krotka)"
   ]
  },
  {
   "cell_type": "code",
   "execution_count": 37,
   "metadata": {},
   "outputs": [
    {
     "data": {
      "text/plain": [
       "(10, 3, 9, (2, 3, 4, 5), (1, 4, 7, 10))"
      ]
     },
     "execution_count": 37,
     "metadata": {},
     "output_type": "execute_result"
    }
   ],
   "source": [
    "len(krotka), krotka[2], krotka[-2], krotka[1:5], krotka[::3]"
   ]
  },
  {
   "cell_type": "code",
   "execution_count": 42,
   "metadata": {},
   "outputs": [
    {
     "data": {
      "text/plain": [
       "(1, 2, 3, 4, 5, 6, 7, 8, 9, 10, 100, 200, 300, 100, 200, 300, 100, 200, 300)"
      ]
     },
     "execution_count": 42,
     "metadata": {},
     "output_type": "execute_result"
    }
   ],
   "source": [
    "krotka2 = krotka + (100, 200, 300)\n",
    "krotka2"
   ]
  },
  {
   "cell_type": "code",
   "execution_count": 44,
   "metadata": {},
   "outputs": [
    {
     "data": {
      "text/plain": [
       "(1, 2, 3, 3.1, 3.14159, 'ala', 'ma', 'kota', (100, 200, 300))"
      ]
     },
     "execution_count": 44,
     "metadata": {},
     "output_type": "execute_result"
    }
   ],
   "source": [
    "krotka3 = (1, 2, 3, 3.1, 3.14159, 'ala', 'ma', 'kota', (100, 200, 300))\n",
    "krotka3"
   ]
  },
  {
   "cell_type": "code",
   "execution_count": null,
   "metadata": {},
   "outputs": [],
   "source": []
  }
 ],
 "metadata": {
  "kernelspec": {
   "display_name": "Python 3",
   "language": "python",
   "name": "python3"
  },
  "language_info": {
   "codemirror_mode": {
    "name": "ipython",
    "version": 3
   },
   "file_extension": ".py",
   "mimetype": "text/x-python",
   "name": "python",
   "nbconvert_exporter": "python",
   "pygments_lexer": "ipython3",
   "version": "3.7.3"
  }
 },
 "nbformat": 4,
 "nbformat_minor": 2
}
