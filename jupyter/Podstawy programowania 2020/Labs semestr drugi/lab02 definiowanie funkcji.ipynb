{
 "cells": [
  {
   "cell_type": "code",
   "execution_count": 1,
   "metadata": {},
   "outputs": [
    {
     "data": {
      "text/plain": [
       "[[1, 2], [2, 5], [4, 5], [1, 2, 5]]"
      ]
     },
     "execution_count": 1,
     "metadata": {},
     "output_type": "execute_result"
    }
   ],
   "source": [
    "def podziel_na_n_elementowe_podciagi(L, n):\n",
    "    \"\"\"\n",
    "    Funkcja zwraca listę n-elementowych podlist sekwencji liczbowej L.\n",
    "    \"\"\"\n",
    "    ret = []\n",
    "    for start in range(len(L) - n + 1):  # [0, 1, 2] (3)\n",
    "        ret.append(L[start:start+n])     # L[4:4+2], L[10:12]\n",
    "    return ret\n",
    "\n",
    "\n",
    "def czy_rosnacy(L):\n",
    "    \"\"\"\n",
    "    Funkcja sprawdza, czy podana sekwencja liczbowa L jest ciągiem rosnącym.\n",
    "    Zwraca True gdy jest i False w przeciwnym przypadku.\n",
    "    \"\"\"\n",
    "    assert L, 'podaj niepusty L'\n",
    "    for idx in range(len(L) - 1):\n",
    "        if L[idx] >= L[idx+1]:\n",
    "            return False\n",
    "    return True\n",
    "\n",
    "\n",
    "def zwroc_wszystkie_podciagi_o_dlugosci_min_2(L):\n",
    "    '''...'''\n",
    "    podciagi = []\n",
    "    for dl in range(2, len(L) + 1):\n",
    "        p = podziel_na_n_elementowe_podciagi(L, dl)\n",
    "        podciagi.extend(p)\n",
    "    return podciagi\n",
    "\n",
    "\n",
    "def rosnace_ciagi(L):\n",
    "    '''...'''\n",
    "    podciagi = zwroc_wszystkie_podciagi_o_dlugosci_min_2(L)\n",
    "\n",
    "    rosnace = []\n",
    "    for p in podciagi:\n",
    "        if czy_rosnacy(p):\n",
    "            rosnace.append(p)\n",
    "            \n",
    "    return rosnace\n",
    "\n",
    "\n",
    "rosnace_ciagi([1, 2, 5, 4, 5])"
   ]
  },
  {
   "cell_type": "code",
   "execution_count": 8,
   "metadata": {},
   "outputs": [
    {
     "name": "stdout",
     "output_type": "stream",
     "text": [
      "False\n",
      "True\n"
     ]
    }
   ],
   "source": [
    "# 1\n",
    "\n",
    "def czy_malejacy(L):\n",
    "    \"\"\"\n",
    "    Funkcja sprawdza, czy podana sekwencja liczbowa L jest ciągiem malejącym.\n",
    "    Zwraca True gdy jest i False w przeciwnym przypadku.\n",
    "    \"\"\"\n",
    "    assert L, 'podaj niepusty L'\n",
    "    for idx in range(len(L) - 1):\n",
    "        if L[idx] <= L[idx+1]:\n",
    "            return False\n",
    "    return True\n",
    "\n",
    "print(czy_malejacy([1, 2 , 4, 4]))\n",
    "print(czy_malejacy([5, 4 , 3, 2]))"
   ]
  },
  {
   "cell_type": "code",
   "execution_count": 13,
   "metadata": {},
   "outputs": [
    {
     "name": "stdout",
     "output_type": "stream",
     "text": [
      "False\n",
      "True\n"
     ]
    }
   ],
   "source": [
    "# 6\n",
    "\n",
    "def czy_wbezwgledne_malejaco(L):\n",
    "    \"\"\"\n",
    "    Funkcja sprawdza, czy wartości bezwzględne elementów listy są ułożone malejąco.\n",
    "    Zwraca True gdy jest i False w przeciwnym przypadku.\n",
    "    \"\"\"\n",
    "    assert L, 'podaj niepusty L'\n",
    "    for idx in range(len(L) - 1):\n",
    "        if abs(L[idx]) <= abs(L[idx+1]):\n",
    "            return False\n",
    "    return True\n",
    "\n",
    "print(czy_wbezwgledne_malejaco([8, 2 , 4, 4]))\n",
    "print(czy_wbezwgledne_malejaco([5, 4 , 3, 2]))"
   ]
  },
  {
   "cell_type": "code",
   "execution_count": 35,
   "metadata": {},
   "outputs": [
    {
     "name": "stdout",
     "output_type": "stream",
     "text": [
      "[[5, 4]]\n",
      "[[6, -4], [3, 2], [2, -1], [3, 2, -1]]\n",
      "[[5, 4]]\n",
      "[[6, -4], [-4, 3], [3, 2], [2, -1], [6, -4, 3], [-4, 3, 2], [3, 2, -1], [6, -4, 3, 2], [-4, 3, 2, -1], [6, -4, 3, 2, -1]]\n"
     ]
    }
   ],
   "source": [
    "def podziel_na_n_elementowe_podciagi(L, n):\n",
    "    \"\"\"\n",
    "    Funkcja zwraca listę n-elementowych podlist sekwencji liczbowej L.\n",
    "    \"\"\"\n",
    "    ret = []\n",
    "    for start in range(len(L) - n + 1):  # [0, 1, 2] (3)\n",
    "        ret.append(L[start:start+n])     # L[4:4+2], L[10:12]\n",
    "    return ret\n",
    "\n",
    "\n",
    "def czy_malejacy(L):\n",
    "    \"\"\"\n",
    "    Funkcja sprawdza, czy podana sekwencja liczbowa L jest ciągiem malejącym.\n",
    "    Zwraca True gdy jest i False w przeciwnym przypadku.\n",
    "    \"\"\"\n",
    "    assert L, 'podaj niepusty L'\n",
    "    for idx in range(len(L) - 1):\n",
    "        if L[idx] <= L[idx+1]:\n",
    "            return False\n",
    "    return True\n",
    "\n",
    "def czy_wbezwgledne_malejaco(L):\n",
    "    \"\"\"\n",
    "    Funkcja sprawdza, czy wartości bezwzględne elementów listy są ułożone malejąco.\n",
    "    Zwraca True gdy jest i False w przeciwnym przypadku.\n",
    "    \"\"\"\n",
    "    assert L, 'podaj niepusty L'\n",
    "    for idx in range(len(L) - 1):\n",
    "        if abs(L[idx]) <= abs(L[idx+1]):\n",
    "            return False\n",
    "    return True\n",
    "\n",
    "\n",
    "def zwroc_wszystkie_podciagi_o_dlugosci_min_2(L):\n",
    "    '''...'''\n",
    "    podciagi = []\n",
    "    for dl in range(2, len(L) + 1):\n",
    "        p = podziel_na_n_elementowe_podciagi(L, dl)\n",
    "        podciagi.extend(p)\n",
    "    return podciagi\n",
    "\n",
    "\n",
    "def malejace_ciagi(L):\n",
    "    '''...'''\n",
    "    podciagi = zwroc_wszystkie_podciagi_o_dlugosci_min_2(L)\n",
    "\n",
    "    malejace = []\n",
    "    for p in podciagi:\n",
    "        if czy_malejacy(p):\n",
    "            malejace.append(p)\n",
    "            \n",
    "    return malejace\n",
    "\n",
    "def wbezwgledne_malejaco(L):\n",
    "    '''...'''\n",
    "    podciagi = zwroc_wszystkie_podciagi_o_dlugosci_min_2(L)\n",
    "\n",
    "    wbmalejaco = []\n",
    "    for p in podciagi:\n",
    "        if czy_wbezwgledne_malejaco(p):\n",
    "            wbmalejaco.append(p)\n",
    "            \n",
    "    return wbmalejaco\n",
    "\n",
    "print(malejace_ciagi([1, 2, 5, 4, 5]))\n",
    "print(malejace_ciagi([-5, 6, -4, 3, 2, -1]))\n",
    "print(wbezwgledne_malejaco([1, 2, 5, 4, 5]))\n",
    "print(wbezwgledne_malejaco([-5, 6, -4, 3, 2, -1]))"
   ]
  },
  {
   "cell_type": "code",
   "execution_count": 28,
   "metadata": {},
   "outputs": [
    {
     "name": "stdout",
     "output_type": "stream",
     "text": [
      "[[5, 4]]\n",
      "[[6, -4], [-4, 3], [3, 2], [2, -1], [6, -4, 3], [-4, 3, 2], [3, 2, -1], [6, -4, 3, 2], [-4, 3, 2, -1], [6, -4, 3, 2, -1]]\n"
     ]
    }
   ],
   "source": [
    "def podziel_na_n_elementowe_podciagi(L, n):\n",
    "    \"\"\"\n",
    "    Funkcja zwraca listę n-elementowych podlist sekwencji liczbowej L.\n",
    "    \"\"\"\n",
    "    ret = []\n",
    "    for start in range(len(L) - n + 1):  # [0, 1, 2] (3)\n",
    "        ret.append(L[start:start+n])     # L[4:4+2], L[10:12]\n",
    "    return ret\n",
    "\n",
    "\n",
    "def czy_wbezwgledne_malejaco(L):\n",
    "    \"\"\"\n",
    "    Funkcja sprawdza, czy wartości bezwzględne elementów listy są ułożone malejąco.\n",
    "    Zwraca True gdy jest i False w przeciwnym przypadku.\n",
    "    \"\"\"\n",
    "    assert L, 'podaj niepusty L'\n",
    "    for idx in range(len(L) - 1):\n",
    "        if abs(L[idx]) <= abs(L[idx+1]):\n",
    "            return False\n",
    "    return True\n",
    "\n",
    "\n",
    "def zwroc_wszystkie_podciagi_o_dlugosci_min_2(L):\n",
    "    '''...'''\n",
    "    podciagi = []\n",
    "    for dl in range(2, len(L) + 1):\n",
    "        p = podziel_na_n_elementowe_podciagi(L, dl)\n",
    "        podciagi.extend(p)\n",
    "    return podciagi\n",
    "\n",
    "\n",
    "def wbezwgledne_malejaco(L):\n",
    "    '''...'''\n",
    "    podciagi = zwroc_wszystkie_podciagi_o_dlugosci_min_2(L)\n",
    "\n",
    "    wbmalejaco = []\n",
    "    for p in podciagi:\n",
    "        if czy_wbezwgledne_malejaco(p):\n",
    "            wbmalejaco.append(p)\n",
    "            \n",
    "    return wbmalejaco\n",
    "\n",
    "\n",
    "print(wbezwgledne_malejaco([1, 2, 5, 4, 5]))\n",
    "print(wbezwgledne_malejaco([-5, 6, -4, 3, 2, -1]))"
   ]
  },
  {
   "cell_type": "code",
   "execution_count": 49,
   "metadata": {},
   "outputs": [
    {
     "name": "stdout",
     "output_type": "stream",
     "text": [
      "True\n"
     ]
    }
   ],
   "source": [
    "def usun_znaki_przestankowe(slowo):\n",
    "    poprawione = ''.join([el for el in slowo if el.isalpha()])\n",
    "    return poprawione\n",
    "\n",
    "def zamien_na_male(tekst):\n",
    "    return tekst.lower()\n",
    "\n",
    "def czy_palindrom(tekst):\n",
    "    if tekst == tekst[::-1]:\n",
    "        return True\n",
    "    else:\n",
    "        return False\n",
    "\n",
    "def czy_tekst_palindromem(tekst):\n",
    "    same_litery = usun_znaki_przestankowe(tekst)\n",
    "    male_literki = zamien_na_male(same_litery)\n",
    "    wynik = czy_palindrom(male_literki)\n",
    "    return wynik\n",
    "\n",
    "print(czy_tekst_palindromem(\"Madam, I'm Adam.\"))"
   ]
  },
  {
   "cell_type": "code",
   "execution_count": 1,
   "metadata": {},
   "outputs": [
    {
     "data": {
      "text/plain": [
       "['adventure',\n",
       " 'belles_lettres',\n",
       " 'editorial',\n",
       " 'fiction',\n",
       " 'government',\n",
       " 'hobbies',\n",
       " 'humor',\n",
       " 'learned',\n",
       " 'lore',\n",
       " 'mystery',\n",
       " 'news',\n",
       " 'religion',\n",
       " 'reviews',\n",
       " 'romance',\n",
       " 'science_fiction']"
      ]
     },
     "execution_count": 1,
     "metadata": {},
     "output_type": "execute_result"
    }
   ],
   "source": [
    "from nltk.corpus import brown\n",
    "brown.categories()"
   ]
  },
  {
   "cell_type": "code",
   "execution_count": 5,
   "metadata": {},
   "outputs": [
    {
     "data": {
      "text/plain": [
       "['The', 'Fulton', 'County', 'Grand', 'Jury', 'said', ...]"
      ]
     },
     "execution_count": 5,
     "metadata": {},
     "output_type": "execute_result"
    }
   ],
   "source": [
    "brown.words(categories='news')"
   ]
  },
  {
   "cell_type": "code",
   "execution_count": 7,
   "metadata": {},
   "outputs": [
    {
     "name": "stdout",
     "output_type": "stream",
     "text": [
      "['The', 'Fulton', 'County', 'Grand', 'Jury', 'said', ...]\n"
     ]
    }
   ],
   "source": [
    "news = brown.words(categories='news')\n",
    "print(news)"
   ]
  },
  {
   "cell_type": "code",
   "execution_count": 8,
   "metadata": {},
   "outputs": [
    {
     "data": {
      "text/plain": [
       "100554"
      ]
     },
     "execution_count": 8,
     "metadata": {},
     "output_type": "execute_result"
    }
   ],
   "source": [
    "for word in news:\n",
    "    "
   ]
  },
  {
   "cell_type": "code",
   "execution_count": 3,
   "metadata": {},
   "outputs": [
    {
     "data": {
      "text/plain": [
       "['As', 'a', 'result', ',', 'although', 'we', 'still', ...]"
      ]
     },
     "execution_count": 3,
     "metadata": {},
     "output_type": "execute_result"
    }
   ],
   "source": [
    "brown.words(categories='religion')"
   ]
  },
  {
   "cell_type": "code",
   "execution_count": null,
   "metadata": {},
   "outputs": [],
   "source": []
  }
 ],
 "metadata": {
  "kernelspec": {
   "display_name": "Python 3 (ipykernel)",
   "language": "python",
   "name": "python3"
  },
  "language_info": {
   "codemirror_mode": {
    "name": "ipython",
    "version": 3
   },
   "file_extension": ".py",
   "mimetype": "text/x-python",
   "name": "python",
   "nbconvert_exporter": "python",
   "pygments_lexer": "ipython3",
   "version": "3.9.5"
  }
 },
 "nbformat": 4,
 "nbformat_minor": 2
}
