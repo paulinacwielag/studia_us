{
 "cells": [
  {
   "cell_type": "code",
   "execution_count": 1,
   "metadata": {},
   "outputs": [
    {
     "data": {
      "text/plain": [
       "False"
      ]
     },
     "execution_count": 1,
     "metadata": {},
     "output_type": "execute_result"
    }
   ],
   "source": [
    "def jest_nie_mniejsza(a, b):\n",
    "    if a >= b:\n",
    "        return True\n",
    "    else:\n",
    "        return False\n",
    "    \n",
    "jest_nie_mniejsza(3, 4)"
   ]
  },
  {
   "cell_type": "code",
   "execution_count": 2,
   "metadata": {},
   "outputs": [
    {
     "data": {
      "text/plain": [
       "True"
      ]
     },
     "execution_count": 2,
     "metadata": {},
     "output_type": "execute_result"
    }
   ],
   "source": [
    "jest_nie_mniejsza(6, 3)"
   ]
  },
  {
   "cell_type": "code",
   "execution_count": 13,
   "metadata": {},
   "outputs": [
    {
     "name": "stdout",
     "output_type": "stream",
     "text": [
      "True\n"
     ]
    }
   ],
   "source": [
    "def jest_rowna_zero(z):\n",
    "    '''Funkcja sprawdza, czy podana liczba jest równa zero.'''\n",
    "    if  z == 0:\n",
    "        return True\n",
    "    else:\n",
    "        return False"
   ]
  },
  {
   "cell_type": "code",
   "execution_count": 8,
   "metadata": {},
   "outputs": [],
   "source": [
    "def jest_nieparzysta(y):\n",
    "    if y % 2:\n",
    "        return True\n",
    "    else:\n",
    "        return False"
   ]
  },
  {
   "cell_type": "code",
   "execution_count": 14,
   "metadata": {},
   "outputs": [],
   "source": [
    "def jest_nieparzysta(y):\n",
    "    '''\n",
    "    funkcja zwraca True gdy podana liczba jest nieparzysta lub False gdy podana liczba jest parzysta\n",
    "    '''\n",
    "    if y % 2:\n",
    "        return True\n",
    "    else:\n",
    "        return False"
   ]
  },
  {
   "cell_type": "code",
   "execution_count": 23,
   "metadata": {},
   "outputs": [
    {
     "data": {
      "text/plain": [
       "'Testy: 6, błędy: 0'"
      ]
     },
     "execution_count": 23,
     "metadata": {},
     "output_type": "execute_result"
    }
   ],
   "source": [
    "def test_jest_nieparzysta():\n",
    "    '''Funkcja testuje funkcję \"jest_nieparzysta\".'''\n",
    "    \n",
    "    dane_testowe = [\n",
    "    (1, True),\n",
    "    (2, False),\n",
    "    (12, False),\n",
    "    (-21, True),\n",
    "    (0, False),\n",
    "    (123.33, True)\n",
    "]\n",
    "    \n",
    "    bledy = 0\n",
    "    for argument, spodziewany_wynik in dane_testowe:\n",
    "        if jest_nieparzysta(argument) != spodziewany_wynik:\n",
    "            print(f'{argument}, wynik: {jest_nieparzysta(argument)}, spodziewana: {spodziewany_wynik}')\n",
    "            bledy += 1\n",
    "                  \n",
    "    return f'Testy: {len(dane_testowe)}, błędy: {bledy}'\n",
    "                  \n",
    "                  \n",
    "test_jest_nieparzysta()"
   ]
  },
  {
   "cell_type": "code",
   "execution_count": 2,
   "metadata": {},
   "outputs": [],
   "source": [
    "def jest_rowna_zero(z):\n",
    "    '''Funkcja sprawdza, czy podana liczba jest równa zero.\n",
    "    '''\n",
    "    if  z == 0:\n",
    "        return True\n",
    "    else:\n",
    "        return False\n",
    "    \n",
    "def test_suite_jest_rowna_zero():\n",
    "    for z, odp in [(3, False),\n",
    "        (0, True),\n",
    "        (1, False),\n",
    "        (0.67, False),\n",
    "        (-11, False),\n",
    "        ]:\n",
    "        test = jest_rowna_zero(z)\n",
    "        assert test == odp, f'jest_rowna_zero({z}: {test} != {odp}'"
   ]
  },
  {
   "cell_type": "code",
   "execution_count": 3,
   "metadata": {},
   "outputs": [],
   "source": [
    "test_suite_jest_rowna_zero()"
   ]
  },
  {
   "cell_type": "code",
   "execution_count": null,
   "metadata": {},
   "outputs": [],
   "source": []
  }
 ],
 "metadata": {
  "kernelspec": {
   "display_name": "Python 3 (ipykernel)",
   "language": "python",
   "name": "python3"
  },
  "language_info": {
   "codemirror_mode": {
    "name": "ipython",
    "version": 3
   },
   "file_extension": ".py",
   "mimetype": "text/x-python",
   "name": "python",
   "nbconvert_exporter": "python",
   "pygments_lexer": "ipython3",
   "version": "3.9.5"
  }
 },
 "nbformat": 4,
 "nbformat_minor": 2
}
