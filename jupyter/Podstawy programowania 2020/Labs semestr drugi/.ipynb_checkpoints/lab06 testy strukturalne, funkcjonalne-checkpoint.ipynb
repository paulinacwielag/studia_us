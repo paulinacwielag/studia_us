{
 "cells": [
  {
   "cell_type": "code",
   "execution_count": 24,
   "metadata": {},
   "outputs": [
    {
     "data": {
      "text/plain": [
       "TestResults(failed=0, attempted=12)"
      ]
     },
     "execution_count": 24,
     "metadata": {},
     "output_type": "execute_result"
    }
   ],
   "source": [
    "# glassbox, test funkcjonalny\n",
    "\n",
    "def signum(y):\n",
    "    '''\n",
    "    Funkcja zwraca znak liczby y\n",
    "    \n",
    "    >>> signum(1)\n",
    "    1\n",
    "    >>> signum(0)\n",
    "    1\n",
    "    >>> signum(-10)\n",
    "    -1\n",
    "    >>> signum(-0.1)\n",
    "    -1\n",
    "    '''\n",
    "    \n",
    "    if y < 0:\n",
    "        return -1\n",
    "    else:\n",
    "        return 1\n",
    "    \n",
    "import doctest\n",
    "doctest.testmod()"
   ]
  },
  {
   "cell_type": "code",
   "execution_count": 25,
   "metadata": {},
   "outputs": [
    {
     "data": {
      "text/plain": [
       "'Testy: 4, błędy: 0'"
      ]
     },
     "execution_count": 25,
     "metadata": {},
     "output_type": "execute_result"
    }
   ],
   "source": [
    "# test strukturalny\n",
    "\n",
    "def test_suite_signum():\n",
    "    '''\n",
    "    Funkcja zwraca znak liczby y\n",
    "    '''\n",
    "    \n",
    "    dane_testowe = [(1, 1),\n",
    "                   (0, 1),\n",
    "                   (-10, -1),\n",
    "                   (-0.1, -1)]\n",
    "    bledy = 0\n",
    "    for argument, spodziewany_wynik in dane_testowe:\n",
    "        if signum(argument) != spodziewany_wynik:\n",
    "            print(f'{argument}, wynik: {signum(argument)}, spodziewana: {spodziewany_wynik}')\n",
    "            bledy += 1\n",
    "                  \n",
    "    return f'Testy: {len(dane_testowe)}, błędy: {bledy}'\n",
    "\n",
    "test_suite_signum()"
   ]
  },
  {
   "cell_type": "markdown",
   "metadata": {},
   "source": [
    "***glassbox - testujemy ścieżki programu, znamy strukturę programu***\n",
    "**blackbox - przykłady do użycia przez program, nie znamy struktury programu**"
   ]
  },
  {
   "cell_type": "code",
   "execution_count": 26,
   "metadata": {},
   "outputs": [
    {
     "name": "stdout",
     "output_type": "stream",
     "text": [
      "x < 0 True\n",
      "x == 0 True\n",
      "x > 0 True\n"
     ]
    },
    {
     "data": {
      "text/plain": [
       "'Testy: 11, błędy: 0'"
      ]
     },
     "execution_count": 26,
     "metadata": {},
     "output_type": "execute_result"
    }
   ],
   "source": [
    "def theta(x):\n",
    "    if x < 0:\n",
    "        return 0\n",
    "    elif x == 0:\n",
    "        return (1/2)\n",
    "    else:\n",
    "        return 1\n",
    "    \n",
    "# test strukturalny\n",
    "\n",
    "def test_suite_theta():\n",
    "    # 1 sciezka x < 0\n",
    "    print('x < 0', theta(-4) == 0)\n",
    "    # 2 sciezka x == 0\n",
    "    print('x == 0', theta(0) == (1/2))\n",
    "    # 3 sciezka x > 0\n",
    "    print('x > 0', theta(6) == 1)\n",
    "    \n",
    "test_suite_theta()\n",
    "\n",
    "# test funkcjonalny\n",
    "\n",
    "def test_suite2_theta():\n",
    "    dane_testowe = ([\n",
    "        # int\n",
    "        (-4, 0),\n",
    "        (0, 1/2),\n",
    "        (6, 1),\n",
    "        (-58923, 0),\n",
    "        (-999999999999999999, 0),\n",
    " \n",
    "        # float\n",
    "        (1e34, 1),\n",
    "        (5.9043, 1),\n",
    "        (-90.0945, 0),\n",
    "        (-1e-45, 0),\n",
    "        (-4.67, 0),\n",
    "        (0.0, 1/2)\n",
    "    ])\n",
    "    \n",
    "    bledy = 0\n",
    "    for val_1, odpowiedz in dane_testowe:\n",
    "        test = theta(val_1)\n",
    "        if test != odpowiedz:\n",
    "            print(f'theta({val_1}): {test} != {odpowiedz}')\n",
    "            bledy += 1\n",
    " \n",
    "    return f'Testy: {len(dane_testowe)}, błędy: {bledy}'\n",
    " \n",
    "test_suite2_theta()"
   ]
  },
  {
   "cell_type": "code",
   "execution_count": 27,
   "metadata": {},
   "outputs": [],
   "source": [
    "def suma_ujemna(r, p):\n",
    "    '''Funkcja zwraca True, jeżeli suma dwóch podanych argumentów jest ujemna oraz False, jeżeli jest dodatnia.'''\n",
    "    if r + p < 0:\n",
    "        return True\n",
    "    else:\n",
    "        return False\n",
    "    \n",
    "def test_suite_suma_ujemna():\n",
    "    assert suma_ujemna(9, 5) == False, 'problem dla r = 4.56, p = -9.2'\n",
    "    assert suma_ujemna(-6, -5) == True, 'problem dla r = -6, p = -5'\n",
    "    \n",
    "test_suite_suma_ujemna()"
   ]
  },
  {
   "cell_type": "code",
   "execution_count": 28,
   "metadata": {},
   "outputs": [],
   "source": [
    "def jest_jednoelementowa(L):\n",
    "    if len(L) == 1:\n",
    "        return True\n",
    "    else:\n",
    "        return False\n",
    "    \n",
    "def test_suite_jest_jednoelementowa():\n",
    "    assert jest_jednoelementowa([7]) == True, 'problem dla L = [7]'\n",
    "    assert jest_jednoelementowa([9, 6]) == False, 'problem dla L = [9, 6]'\n",
    "    \n",
    "test_suite_jest_jednoelementowa()"
   ]
  },
  {
   "cell_type": "code",
   "execution_count": 29,
   "metadata": {},
   "outputs": [],
   "source": [
    "def ocena_koncowa(lista_ocen):\n",
    "    srednia = sum(lista_ocen) / len(lista_ocen)\n",
    "    if srednia < 3:\n",
    "        return 'ndst'\n",
    "    elif srednia < 3.5:\n",
    "        return 'dst'\n",
    "    elif srednia < 4:\n",
    "        return 'dst+'\n",
    "    elif srednia < 4.5:\n",
    "        return 'db'\n",
    "    elif srednia < 5:\n",
    "        return 'db+'\n",
    "    else:\n",
    "        return 'bdb'\n",
    "    \n",
    "def test_suite_ocena_koncowa():\n",
    "    assert ocena_koncowa([1, 1, 2]) == 'ndst', 'problem dla L = [1, 1, 1]'\n",
    "    assert ocena_koncowa([3, 3, 4]) == 'dst', 'problem dla L = [3, 3, 4]'\n",
    "    assert ocena_koncowa([4, 4, 3]) == 'dst+', 'problem dla L = [4, 4, 3]'\n",
    "    assert ocena_koncowa([4, 4, 5]) == 'db', 'problem dla L = [4, 4, 5]'\n",
    "    assert ocena_koncowa([5, 5, 4]) == 'db+', 'problem dla L = [5, 5, 4]'\n",
    "    assert ocena_koncowa([5, 5, 5]) == 'bdb', 'problem dla L = [5, 5, 5]'"
   ]
  },
  {
   "cell_type": "code",
   "execution_count": 30,
   "metadata": {},
   "outputs": [
    {
     "data": {
      "text/plain": [
       "TestResults(failed=0, attempted=12)"
      ]
     },
     "execution_count": 30,
     "metadata": {},
     "output_type": "execute_result"
    }
   ],
   "source": [
    "def suma_liczb_dodatnich(lista_liczb):\n",
    "    '''Funkcja sumuje liczby dodatnie z podanej listy.\n",
    "    \n",
    "    >>> suma_liczb_dodatnich([])\n",
    "    0\n",
    "    >>> suma_liczb_dodatnich([4])\n",
    "    4\n",
    "    >>> suma_liczb_dodatnich([-8])\n",
    "    0\n",
    "    >>> suma_liczb_dodatnich([-6, 2])\n",
    "    2\n",
    "    >>> suma_liczb_dodatnich([-6, -2])\n",
    "    0\n",
    "    >>> suma_liczb_dodatnich([6, 2])\n",
    "    8\n",
    "    >>> suma_liczb_dodatnich([-0.96, -2, 3])\n",
    "    3\n",
    "    >>> suma_liczb_dodatnich([450, 0, -3, 8])\n",
    "    458\n",
    "    '''\n",
    "    suma = 0\n",
    "    for element in lista_liczb:\n",
    "        if element > 0:\n",
    "            suma += element\n",
    "        else:\n",
    "            pass\n",
    "    return suma\n",
    "    \n",
    "import doctest\n",
    "doctest.testmod()"
   ]
  },
  {
   "cell_type": "code",
   "execution_count": null,
   "metadata": {},
   "outputs": [],
   "source": []
  }
 ],
 "metadata": {
  "kernelspec": {
   "display_name": "Python 3",
   "language": "python",
   "name": "python3"
  },
  "language_info": {
   "codemirror_mode": {
    "name": "ipython",
    "version": 3
   },
   "file_extension": ".py",
   "mimetype": "text/x-python",
   "name": "python",
   "nbconvert_exporter": "python",
   "pygments_lexer": "ipython3",
   "version": "3.7.3"
  }
 },
 "nbformat": 4,
 "nbformat_minor": 2
}
