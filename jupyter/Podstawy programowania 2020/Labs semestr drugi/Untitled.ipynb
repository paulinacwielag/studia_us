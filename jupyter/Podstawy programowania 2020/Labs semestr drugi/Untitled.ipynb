{
 "cells": [
  {
   "cell_type": "code",
   "execution_count": 1,
   "metadata": {},
   "outputs": [],
   "source": [
    "class Gruszka:\n",
    "    '''klasa gruszka'''\n",
    "    \n",
    "    def __init__(self, odmiana, waga, kolor):\n",
    "        self.odmiana = odmiana\n",
    "        self.waga = waga\n",
    "        self.kolor = kolor"
   ]
  },
  {
   "cell_type": "code",
   "execution_count": 2,
   "metadata": {},
   "outputs": [],
   "source": [
    "g1 = Gruszka('General Leclerc', 150, 'zolty')"
   ]
  },
  {
   "cell_type": "code",
   "execution_count": 3,
   "metadata": {},
   "outputs": [
    {
     "data": {
      "text/plain": [
       "'General Leclerc'"
      ]
     },
     "execution_count": 3,
     "metadata": {},
     "output_type": "execute_result"
    }
   ],
   "source": [
    "g1.odmiana"
   ]
  },
  {
   "cell_type": "code",
   "execution_count": 4,
   "metadata": {},
   "outputs": [
    {
     "data": {
      "text/plain": [
       "150"
      ]
     },
     "execution_count": 4,
     "metadata": {},
     "output_type": "execute_result"
    }
   ],
   "source": [
    "g1.waga"
   ]
  },
  {
   "cell_type": "code",
   "execution_count": 5,
   "metadata": {},
   "outputs": [
    {
     "data": {
      "text/plain": [
       "'zolty'"
      ]
     },
     "execution_count": 5,
     "metadata": {},
     "output_type": "execute_result"
    }
   ],
   "source": [
    "g1.kolor"
   ]
  },
  {
   "cell_type": "code",
   "execution_count": 6,
   "metadata": {},
   "outputs": [
    {
     "data": {
      "text/plain": [
       "str"
      ]
     },
     "execution_count": 6,
     "metadata": {},
     "output_type": "execute_result"
    }
   ],
   "source": [
    "type(g1.odmiana)"
   ]
  },
  {
   "cell_type": "code",
   "execution_count": 7,
   "metadata": {},
   "outputs": [],
   "source": [
    "# zmiana zawartości\n",
    "\n",
    "g1.odmiana = \"Komisówka\""
   ]
  },
  {
   "cell_type": "code",
   "execution_count": 8,
   "metadata": {},
   "outputs": [
    {
     "data": {
      "text/plain": [
       "'Komisówka'"
      ]
     },
     "execution_count": 8,
     "metadata": {},
     "output_type": "execute_result"
    }
   ],
   "source": [
    "g1.odmiana"
   ]
  },
  {
   "cell_type": "code",
   "execution_count": 9,
   "metadata": {},
   "outputs": [
    {
     "data": {
      "text/plain": [
       "['__class__',\n",
       " '__delattr__',\n",
       " '__dict__',\n",
       " '__dir__',\n",
       " '__doc__',\n",
       " '__eq__',\n",
       " '__format__',\n",
       " '__ge__',\n",
       " '__getattribute__',\n",
       " '__gt__',\n",
       " '__hash__',\n",
       " '__init__',\n",
       " '__init_subclass__',\n",
       " '__le__',\n",
       " '__lt__',\n",
       " '__module__',\n",
       " '__ne__',\n",
       " '__new__',\n",
       " '__reduce__',\n",
       " '__reduce_ex__',\n",
       " '__repr__',\n",
       " '__setattr__',\n",
       " '__sizeof__',\n",
       " '__str__',\n",
       " '__subclasshook__',\n",
       " '__weakref__',\n",
       " 'kolor',\n",
       " 'odmiana',\n",
       " 'waga']"
      ]
     },
     "execution_count": 9,
     "metadata": {},
     "output_type": "execute_result"
    }
   ],
   "source": [
    "dir(g1)"
   ]
  },
  {
   "cell_type": "code",
   "execution_count": 10,
   "metadata": {},
   "outputs": [
    {
     "data": {
      "text/plain": [
       "{'odmiana': 'Komisówka', 'waga': 150, 'kolor': 'zolty'}"
      ]
     },
     "execution_count": 10,
     "metadata": {},
     "output_type": "execute_result"
    }
   ],
   "source": [
    "g1.__dict__"
   ]
  },
  {
   "cell_type": "code",
   "execution_count": 19,
   "metadata": {},
   "outputs": [],
   "source": [
    "class Kubek:\n",
    "    '''Klasa Kubek'''\n",
    "    \n",
    "    def __init__(self, pojemność, materiał, kolor):\n",
    "        self.pojemność = pojemność\n",
    "        self.materiał = materiał\n",
    "        self.kolor = kolor\n",
    "        \n",
    "    def get_pojemność(self):\n",
    "        return self.pojemność\n",
    "    \n",
    "    def set_pojemność(self, var):\n",
    "        assert isinstance(var, int), 'pojemność musi być INT'\n",
    "        self.pojemność = var\n",
    "        \n",
    "    def get_materiał(self):\n",
    "        return self.materiał\n",
    "    \n",
    "    def set_materiał(self, var):\n",
    "        assert isinstance(var, str), 'materiał musi być STR'\n",
    "        self.materiał = var\n",
    "        \n",
    "    def get_kolor(self):\n",
    "        return self.kolor\n",
    "    \n",
    "    def set_kolor(self, var):\n",
    "        assert isinstance(var, str), 'materiał musi być STR'\n",
    "        self.kolor = var"
   ]
  },
  {
   "cell_type": "code",
   "execution_count": 20,
   "metadata": {},
   "outputs": [],
   "source": [
    "k1 = Kubek(300, 'porcelana', 'biały')"
   ]
  },
  {
   "cell_type": "code",
   "execution_count": 21,
   "metadata": {},
   "outputs": [
    {
     "data": {
      "text/plain": [
       "300"
      ]
     },
     "execution_count": 21,
     "metadata": {},
     "output_type": "execute_result"
    }
   ],
   "source": [
    "k1.pojemność"
   ]
  },
  {
   "cell_type": "code",
   "execution_count": 24,
   "metadata": {},
   "outputs": [
    {
     "data": {
      "text/plain": [
       "'biały'"
      ]
     },
     "execution_count": 24,
     "metadata": {},
     "output_type": "execute_result"
    }
   ],
   "source": [
    "k1.get_kolor()"
   ]
  },
  {
   "cell_type": "code",
   "execution_count": 28,
   "metadata": {},
   "outputs": [],
   "source": [
    "class Samochód:\n",
    "    '''klasa samochód'''\n",
    "    \n",
    "    def __init__(self, marka, model, rejestracja):\n",
    "        self.marka = marka\n",
    "        self.model = model\n",
    "        self.rejestracja = rejestracja\n",
    "        \n",
    "    def get_marka(self):\n",
    "        return self.marka\n",
    "    \n",
    "    def set_marka(self, var):\n",
    "        assert isinstance(var, str), 'marka musi być STR'\n",
    "        self.marka = var\n",
    "        \n",
    "    def get_model(self):\n",
    "        return self.model\n",
    "    \n",
    "    def set_model(self, var):\n",
    "        assert isinstance(var, str), 'model musi być STR'\n",
    "        \n",
    "    def get_rejestracja(self):\n",
    "        return self.rejestracja\n",
    "    \n",
    "    def set_rejestracja(self, var):\n",
    "        assert isinstance(var, int), 'rejestracja musi być INT'\n",
    "        self.rejestracja = var\n",
    "        \n",
    "    def __str__(self):\n",
    "        ret = 'To jest obiekt klasy Samochód '\n",
    "        ret += f'o marce {self.get_marka()} '\n",
    "        ret += f'o modelu {self.get_model()} '\n",
    "        ret += f'o rejestracji {self.get_rejestracja()} '\n",
    "        return ret\n",
    "    \n",
    "    def __repr__(self):\n",
    "        return f'marka: {self.get_marka()}; model: {self.get_model()}, rejestracja: {self.get_rejestracja()}' "
   ]
  },
  {
   "cell_type": "code",
   "execution_count": null,
   "metadata": {},
   "outputs": [],
   "source": []
  }
 ],
 "metadata": {
  "kernelspec": {
   "display_name": "Python 3 (ipykernel)",
   "language": "python",
   "name": "python3"
  },
  "language_info": {
   "codemirror_mode": {
    "name": "ipython",
    "version": 3
   },
   "file_extension": ".py",
   "mimetype": "text/x-python",
   "name": "python",
   "nbconvert_exporter": "python",
   "pygments_lexer": "ipython3",
   "version": "3.9.5"
  }
 },
 "nbformat": 4,
 "nbformat_minor": 2
}
