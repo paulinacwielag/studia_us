{
 "cells": [
  {
   "cell_type": "markdown",
   "metadata": {},
   "source": [
    "# KC, Programowanie, lab 7\n",
    "## Debugging, cz 2\n",
    "\n",
    "Umiejętność wyszukiwania błędów za pomocą `print`-a to wręcz umiejętność obowiązkowa programisty. Nie oznacza to, że jest to wyszukiwanie optymalne. Można co prawda zrobić takim `print`-em absolutnie wszystko co jest wymagane w czasie debugowania, ale konstrukcja tego 'wszystkiego' może być uciążliwa. Dlatego wymyślono programy ułatwiające debugging -> debugery.\n",
    "\n",
    "Praktycznie każdy rozsądny IDE (nawet IDLE) ma wbudowany debuger lub można go dodać jako rozszerzenie. Dziś poznamy jednak debuger, który można używać niezależnie od IDE - `pdb` (the `p`ython `d`e`b`ugger). Aby móc z niego skorzystać, wystarczy zaimportować moduł `pdb` oraz wywołać funkcję do śledzenia `set_trace()`. `pdb` to świetne narzędzie do szukania trudnych do znalezienia błędów, co pozwala na szybsze i bardziej niezawodne poprawianie kodu. \n",
    "\n",
    "> Moduł `pdb` jest interaktywnym debuggerem kodu źródłowego dla programów w języku Python. Obsługuje ustawianie (warunkowych) punktów przerwania i możliwość pojedyncze kroków na poziomie linii kodu źródłowego, inspekcję ramek stosu, listowanie kodu źródłowego i ocenę dowolnego kodu Pythona w kontekście dowolnej ramki stosu. Obsługuje również debugowanie *post-mortem* i może być wywoływany pod kontrolą programu. (za dokumentacją)\n"
   ]
  },
  {
   "cell_type": "markdown",
   "metadata": {},
   "source": [
    "Pdb i Ipdb\n",
    "* https://docs.python.org/3/library/pdb.html\n",
    "* https://davidhamann.de/2017/04/22/debugging-jupyter-notebooks/\n",
    "* https://realpython.com/python-debugging-pdb/"
   ]
  },
  {
   "cell_type": "code",
   "execution_count": null,
   "metadata": {},
   "outputs": [],
   "source": []
  },
  {
   "cell_type": "markdown",
   "metadata": {},
   "source": [
    "`pdb` jest częścią standardowej biblioteki Pythona, więc jest zawsze dostępny. Po zaimportowaniu `pdb` można zapytać helpa o polecenia i opis modułu (klasy)."
   ]
  },
  {
   "cell_type": "code",
   "execution_count": 5,
   "metadata": {},
   "outputs": [],
   "source": [
    "import pdb"
   ]
  },
  {
   "cell_type": "code",
   "execution_count": 6,
   "metadata": {},
   "outputs": [],
   "source": [
    "# help(pdb)"
   ]
  },
  {
   "cell_type": "markdown",
   "metadata": {},
   "source": [
    "## drukowanie wartości zmiennej\n",
    "Najprostszą funkcją debugera jest drukowanie wartości zmiennej. Aby uruchomić interaktywną powłokę debugera trzeba w wybranym miejscu wpisać linijkę\n",
    "\n",
    "    import pdb; pdb.set_trace()\n",
    "    \n",
    "lub, jeżeli pracujemy na wersji jP >= 3.7, to należy używać funkcji (nic nie musimy importować).\n",
    "\n",
    "    breakpoint()\n",
    "    \n",
    "### polecenie p\n",
    "Aby wydrukować zawartość jakiejś zmiennej wystarczy wpisać\n",
    "\n",
    "    p zmienna, zmienna2, zmienna3, ...\n",
    "    \n",
    "### Ćwiczenie 1: p x\n",
    "Przepisz kod (przeklej z czatu) i uruchom. Następnie wydrukuj zawartość zmiennej `x` za pomocą \n",
    "\n",
    "    p x\n",
    "    \n",
    "Aby wyjść z `pdb` możemy użyć poleceń `exit`, `q, quit` lub po prostu dać interpreterowi dojść do koncowej linii poprzez wywołanie komendy `c` (`cont, continue`)."
   ]
  },
  {
   "cell_type": "code",
   "execution_count": 46,
   "metadata": {},
   "outputs": [
    {
     "name": "stdout",
     "output_type": "stream",
     "text": [
      "--Return--\n",
      "> <ipython-input-46-36d2482f10f3>(2)<module>()->None\n",
      "-> import pdb; pdb.set_trace()\n",
      "(Pdb) p x\n",
      "3\n",
      "(Pdb) c\n"
     ]
    }
   ],
   "source": [
    "x = 3\n",
    "import pdb; pdb.set_trace()\n",
    "x += 4"
   ]
  },
  {
   "cell_type": "markdown",
   "metadata": {},
   "source": [
    "### help - polecenia pdb\n",
    "Wywołaj jeszcze raz powyższy kod, ale zastąp \n",
    "\n",
    "    import pdb; pdb.set_trace()\n",
    "    \n",
    "przez \n",
    "\n",
    "    breakpoint()\n",
    "\n",
    ", a nastepnie wpisz \n",
    "    \n",
    "    h\n",
    "    \n",
    "Dostaniesz komendy jakie możesz wywołać w `pdb`. Na razie znamy 3: `p`, `c(ont(inue))`, `exit`, `q(uit)` oraz `h`. Help też jest interaktywny. Jeżeli zapomnisz jakie `pdb` ma komendy, to `h` przypomni. Możesz też wydrukować sobie [-> ten zestaw komend pdb <-](https://drive.google.com/file/d/11YQlthzq8S-3Am2f2ykjC_ooeELyEOPC/view?usp=sharing)."
   ]
  },
  {
   "cell_type": "code",
   "execution_count": 57,
   "metadata": {},
   "outputs": [
    {
     "name": "stdout",
     "output_type": "stream",
     "text": [
      "--Return--\n",
      "> <ipython-input-57-4355f7197746>(2)<module>()->None\n",
      "-> breakpoint()\n",
      "(Pdb) c\n"
     ]
    }
   ],
   "source": [
    "x = 3\n",
    "breakpoint()\n",
    "x += 4"
   ]
  },
  {
   "cell_type": "markdown",
   "metadata": {},
   "source": [
    "Ponieważ jesteś w powłoce i używasz interfejsu wiersza poleceń (CLI), zwróć uwagę na znaki i formatowanie. Dadzą ci kontekst wywołania:\n",
    "\n",
    "* symbol `>` rozpoczyna pierwszą linię i informuje, w którym pliku źródłowym się znajdujesz. Po nazwie pliku znajduje się numer bieżącej linii w nawiasach. Dalej jest nazwa funkcji. W tym przykładzie, ponieważ nie jesteśmy wewnątrz funkcji a na poziomie modułu, widzimy `<module>()`.\n",
    "    \n",
    "* symbol `->` uruchamia drugą linię i jest bieżącą linią źródłową, w której interpretacja jest wstrzymana. Ta linia nie została jeszcze wykonana. W tym przykładzie jest to linia 3 w bardzo dziwnej funkcji `<ipython-input-52-a4eef34d04b3>` (lub podobnej). (Pdb) jest symbolem zachety `pdb` i czeka na polecenie. Użyj polecenia, `q` aby zakończyć debugowanie i wyjść."
   ]
  },
  {
   "cell_type": "code",
   "execution_count": 14,
   "metadata": {},
   "outputs": [
    {
     "name": "stdout",
     "output_type": "stream",
     "text": [
      "--Return--\n",
      "> <ipython-input-14-661784af2302>(3)<module>()->None\n",
      "-> breakpoint()\n",
      "(Pdb) c\n",
      "path = ./ex1.py\n"
     ]
    }
   ],
   "source": [
    "# przykład 2\n",
    "filename = './ex1.py'\n",
    "breakpoint()\n",
    "print(f'path = {filename}')"
   ]
  },
  {
   "cell_type": "markdown",
   "metadata": {},
   "source": [
    "### Ćwiczenie 2: \n",
    "Przepisz powyższy prosty kod, wyświetl zmienną `filename` i dokończ interpretecję za pomocą `c`."
   ]
  },
  {
   "cell_type": "code",
   "execution_count": null,
   "metadata": {},
   "outputs": [],
   "source": []
  },
  {
   "cell_type": "markdown",
   "metadata": {},
   "source": [
    "### Drukowanie wyrażeń - polecenie `p`\n",
    "\n",
    "Używając polecenia `p`, przekazujesz wyrażenie, które ma zostać zinterpretowane przez Python. Jeśli będzie to nazwa zmiennej, `pdb` wypisze jej aktualną wartość. Możesz zrobić znacznie więcej, aby zbadać stan uruchomionej aplikacji.\n",
    "\n",
    "Zamiast `p obj` można użyć pythonowskiej funkcji `print(obj)`, tylko po co?\n",
    "\n",
    "W tym przykładzie funkcja get_path() zwraca nazwę ścieżki do pliku. Aby sprawdzić, co się dzieje w tej funkcji, wstawiamy wywołanie `breakpoint()` (`pdb.set_trace()`) do zatrzymania interpretacji tuż przed `return`.\n",
    "\n",
    "**Gdzie jesteśmy?**\n",
    "\n",
    "```> <ipython-input-21-499b3c9b1c59>(7)get_path()```\n",
    "\n",
    "Po uruchomieniu znajdziemy się w \"pliku\" `<ipython-input-20-499b3c9b1c59>` (tymczasowy i-pthonowy plik), w funkcji `get_path()`, w linii `(7)`, ale przed jej uruchomieniem, co oznacza, że jeszcze nic nie zwróciliśmy z `get_path`. Aby dowiedzieć się czegoś o stanie kodu użyjmy polecenia `ll` aby zobaczyć ciało funkcji. Potem za pomocą `p` obejrzymy kilka zmiennych (`filename`, `head`, `tail`). W `pdb` możemy wywołać **dowolne** polecenie jP\n",
    "\n",
    "* print(head)\n",
    "* p getattr(get_path, '__doc__')\n",
    "* sum(1 / i for i in range(10, 20))\n",
    "\n",
    "choć to ostatnie polecenie nie ma sensu... \n",
    "Jest to szczególnie przydatne, gdy debugujesz i chcemy przetestować alternatywną implementację bezpośrednio w czasie wykonywania.\n",
    "\n",
    "Można także użyć polecenia `pp` (pretty-print), aby \"ładniej\" wydrukować wyrażenia. Drukowanie `pp` w sposób czytelny utrzymuje obiekty w jednej linii (jeśli to możliwe) lub dzieli je na wiele linii, jeśli nie mieszczą się w dozwolonej szerokości.\n",
    "\n",
    "Jak już pooglądacie, można podać np: `c`."
   ]
  },
  {
   "cell_type": "code",
   "execution_count": 38,
   "metadata": {},
   "outputs": [
    {
     "name": "stdout",
     "output_type": "stream",
     "text": [
      "> <ipython-input-38-499b3c9b1c59>(7)get_path()\n",
      "-> return head\n",
      "(Pdb) c\n",
      "path = .\n"
     ]
    }
   ],
   "source": [
    "import os\n",
    "\n",
    "def get_path(filename):\n",
    "    \"\"\"Return file's path or empty string if no path.\"\"\"\n",
    "    head, tail = os.path.split(filename)\n",
    "    breakpoint()\n",
    "    return head\n",
    "\n",
    "\n",
    "filename = './ex1.py'\n",
    "print(f'path = {get_path(filename)}')"
   ]
  },
  {
   "cell_type": "markdown",
   "metadata": {},
   "source": [
    "### Ćwiczenie 3\n",
    "Uruchom powyższy kod, wyświetl wszystkie zmienne lokalne w `get_path`, wydrukuj kod funkcji (`ll`) i zakończ debugowanie."
   ]
  },
  {
   "cell_type": "code",
   "execution_count": null,
   "metadata": {},
   "outputs": [],
   "source": []
  },
  {
   "cell_type": "markdown",
   "metadata": {},
   "source": [
    "### Przechodzenie przez kod\n",
    "Istnieją trzy polecenia, których można użyć do przechodzenia przez kod podczas debugowania:\n",
    "\n",
    "* `n` (next) - Kontynuuj wykonywanie, aż do osiągnięcia następnego wiersza w bieżącej funkcji lub do powrotu.\n",
    "* `s` (step) - Wykonuje bieżący wiersz i zatrzymuje się przy pierwszej możliwej okazji (w wywołanej funkcji lub w bieżącej funkcji).\n",
    "* `unt(il) <nrlinii>` - Bez `nrlinii`, kontynuuj wykonywanie, aż zostanie osiągnięty wiersz o numerze większym niż bieżący. Z `nrlinii` kontynuuj wykonywanie, aż zostanie osiągnięty wiersz z liczbą większą lub równą temu numerowi. W obu przypadkach zatrzymaj się również po powrocie bieżącej ramki.\n",
    "\n",
    "Różnica między `n(next)` i `s(step)` polega na tym, że pdb się zatrzymuje.\n",
    "\n",
    "* Użyj `n(next)`, aby kontynuować wykonywanie do następnej linii i pozostać w bieżącej funkcji, tj. Nie zatrzymuj się w funkcji obcej, jeśli została wywołana. Takie swego rodzaju 'zostań lokalnie'.\n",
    "* Użyj `s(step)`, aby wykonać bieżącą linię i zatrzymać się w innej funkcji, jeśli została wywołana. Po wejściu do wywołanej logicznie funkcji, zobaczymy `--Call--`\n",
    "\n",
    "Oba zatrzymają debugging na końcu bieżącej funkcji (lub `__main__`) i wypiszą `--Return--` wraz ze zwracaną wartością na końcu następnego wiersza, po symbolu `->`.\n",
    "\n",
    "\n",
    "> **Aby to dobrze zobaczyć trzeba uruchomić konsolę (terminal) i przejść kod za pomocą `s` i `n`. W Jupyter będzie lipa...** W konsoli wejść do odpowiedniego katalogu i odpalić \n",
    ">\n",
    "> `$ python3 ex3.py`\n",
    "\n",
    "`pdb` pamięta ostatnią komendę, wystarczy po jednokrotnym wpisaniu jakiegoś polecenia naciskać `Enter (Return)` by powtórzyć poprzednią komendę.\n",
    "\n",
    "### Ćwiczenie 4\n",
    "1. uruchom konsolę (New->Terminal)\n",
    "2. przejdź do bierzącego katalogu (`cd`, `pwd`)\n",
    "3. uruchom kod `$ python3 ex3.py`\n",
    "    1. za pomocą `n` przejdź przez interpretację kodu\n",
    "    1. za pomocą `s` przejdź przez interpretację kodu\n",
    "    1. pomieszaj komendy - pierwsze wywołanie `s` by wejść do funkcji get_path, kolejne `n` by w niej pozostać"
   ]
  },
  {
   "cell_type": "code",
   "execution_count": 41,
   "metadata": {},
   "outputs": [
    {
     "name": "stdout",
     "output_type": "stream",
     "text": [
      "--Return--\n",
      "> <ipython-input-41-8d9996659d92>(8)<module>()->None\n",
      "-> breakpoint()\n",
      "(Pdb) c\n",
      "path = .\n"
     ]
    }
   ],
   "source": [
    "##########\n",
    "# ex3.py #\n",
    "##########\n",
    "\n",
    "def get_path(filename):\n",
    "    \"\"\"Return file's path or empty string if no path.\"\"\"\n",
    "    head, tail = os.path.split(filename)\n",
    "    return head\n",
    "\n",
    "\n",
    "filename = './ex1.py'\n",
    "breakpoint()\n",
    "filename_path = get_path(filename)\n",
    "print(f'path = {filename_path}')"
   ]
  },
  {
   "cell_type": "code",
   "execution_count": null,
   "metadata": {},
   "outputs": [],
   "source": []
  },
  {
   "cell_type": "markdown",
   "metadata": {},
   "source": [
    "### `l`, `ll`\n",
    "Aby zobaczyć krótszy fragment kodu, użyj polecenia `l` (list), które bez dodatkowych argumentów wydrukuje 11 linii wokół bieżącej linii. Przekaż argument `.` aby zawsze wyświetlać 11 wierszy wokół bieżącej linii. `ll` (longlist) wypisuje cały kod źródłowy dla bieżącej funkcji lub ramki.\n",
    "\n",
    "### Ćwiczenie 5\n",
    "W terminalu ponownie uruchom ex3.py i przetestuj `l`, `l .` i `ll`."
   ]
  },
  {
   "cell_type": "code",
   "execution_count": null,
   "metadata": {},
   "outputs": [],
   "source": []
  },
  {
   "cell_type": "markdown",
   "metadata": {},
   "source": [
    "### Ćwiczenie 6: zdebuguj program, który powinien obliczać sumę 3 podanych liczb."
   ]
  },
  {
   "cell_type": "code",
   "execution_count": 19,
   "metadata": {},
   "outputs": [
    {
     "name": "stdout",
     "output_type": "stream",
     "text": [
      "Podaj pierwszą liczbę do dodania:\n",
      "1\n",
      "Podaj drugą liczbę do dodania:\n",
      "9\n",
      "Podaj trzecią liczbę do dodania:\n",
      "0\n",
      "--Return--\n",
      "> <ipython-input-19-38c89485eaf6>(8)<module>()->None\n",
      "-> breakpoint()\n",
      "(Pdb) p\n",
      "*** SyntaxError: unexpected EOF while parsing\n",
      "(Pdb) p all\n",
      "<built-in function all>\n",
      "(Pdb) p first\n",
      "'1'\n",
      "(Pdb) p second\n",
      "'9'\n",
      "(Pdb) p third\n",
      "'0'\n",
      "(Pdb) type(first)\n",
      "<class 'str'>\n",
      "(Pdb) first = int(input())\n",
      "12\n",
      "(Pdb) \n",
      "123\n",
      "(Pdb) c\n"
     ]
    },
    {
     "ename": "TypeError",
     "evalue": "can only concatenate str (not \"int\") to str",
     "output_type": "error",
     "traceback": [
      "\u001b[0;31m---------------------------------------------------------------------------\u001b[0m",
      "\u001b[0;31mTypeError\u001b[0m                                 Traceback (most recent call last)",
      "\u001b[0;32m<ipython-input-19-38c89485eaf6>\u001b[0m in \u001b[0;36m<module>\u001b[0;34m\u001b[0m\n\u001b[1;32m      7\u001b[0m \u001b[0mthird\u001b[0m \u001b[0;34m=\u001b[0m \u001b[0minput\u001b[0m\u001b[0;34m(\u001b[0m\u001b[0;34m)\u001b[0m\u001b[0;34m\u001b[0m\u001b[0;34m\u001b[0m\u001b[0m\n\u001b[1;32m      8\u001b[0m \u001b[0mbreakpoint\u001b[0m\u001b[0;34m(\u001b[0m\u001b[0;34m)\u001b[0m\u001b[0;34m\u001b[0m\u001b[0;34m\u001b[0m\u001b[0m\n\u001b[0;32m----> 9\u001b[0;31m \u001b[0mprint\u001b[0m\u001b[0;34m(\u001b[0m\u001b[0;34m'Suma wynosi '\u001b[0m \u001b[0;34m+\u001b[0m \u001b[0mfirst\u001b[0m \u001b[0;34m+\u001b[0m \u001b[0msecond\u001b[0m \u001b[0;34m+\u001b[0m \u001b[0mthird\u001b[0m\u001b[0;34m)\u001b[0m\u001b[0;34m\u001b[0m\u001b[0;34m\u001b[0m\u001b[0m\n\u001b[0m",
      "\u001b[0;31mTypeError\u001b[0m: can only concatenate str (not \"int\") to str"
     ]
    }
   ],
   "source": [
    "print('Podaj pierwszą liczbę do dodania:')\n",
    "first = input()\n",
    "print('Podaj drugą liczbę do dodania:')\n",
    "second = input()\n",
    "print('Podaj trzecią liczbę do dodania:')\n",
    "third = input()\n",
    "print('Suma wynosi ' + first + second + third)"
   ]
  },
  {
   "cell_type": "code",
   "execution_count": null,
   "metadata": {},
   "outputs": [],
   "source": []
  },
  {
   "cell_type": "markdown",
   "metadata": {},
   "source": [
    "### `breakpoints`\n",
    "\n",
    "Punkty przerwania są bardzo wygodne i pozwalają zaoszczędzić dużo czasu. Zamiast przechodzić przez dziesiątki linii, którymi nie jesteś zainteresowany, używając `n` czy `s`, można utwórzyć `breakpoint` w miejscu, które Cię interesuje. Opcjonalnie można również zmusić `pdb`, aby przerywał pracę tylko wtedy, gdy określony warunek jest spełniony.\n",
    "\n",
    "```b(reak) [ ([filename:]lineno | function) [, condition] ]```\n",
    "\n",
    "Jeżeli nie okreśono nazwy pliku `filename` to używany jest bierzący. Można ustawić `b` na nr linii (lineno) lub na nazwie funkcji `function`. Dodając warunek możemy sterować czy `pdb` zatrzyma się na wybranej linii/funkcji czy nie.\n",
    "\n",
    "Aby zobaczyć wszystkie istniejące punkty przerwania wpisz `b` bez argumentów. Możesz wyłączyć i ponownie włączyć punkty przerwania za pomocą polecenia `disable numer_bp` lub `enable number_bp`, gdzie `nuemr_bp` to numer punktu przerwania z pierwszej kolumny listy punktów przerwania `Num`.\n",
    "\n",
    "Aby usunąć punkt przerwania, użyj polecenia `cl` (clear):\n",
    "\n",
    "```\n",
    "cl(ear) filename:lineno\n",
    "cl(ear) [bpnumber [bpnumber...]]\n",
    "```\n",
    "\n",
    "### Ćwiczenie 7 (breakpoints)\n",
    "Wersja z numerem lini\n",
    "1. wywołujemy komórkę poniższą\n",
    "2. oglądamy kod (`ll`)\n",
    "3. ustawiamy `b lab7:5` -> `Breakpoint 1 at <sciezka_do_pliku>/lab7.py:5`\n",
    "4. dajemy `c` -> nastepuje stop na wybranej linii (`> <sciezka_do_pliku>/lab7.py(5)get_path()`)\n",
    "5. drukujemy zmienne `pp head, tail, filename`\n",
    "6. kończymy (np: `c`)\n",
    "\n",
    "\n",
    "Wersja z nazwą funkcji\n",
    "1. wywołujemy komórkę poniższą\n",
    "2. oglądamy kod (`ll`)\n",
    "3. ustawiamy `b lab7.get_path` -> `Breakpoint 1 at <sciezka_do_pliku>/lab7.py:1`\n",
    "4. dajemy `c` -> nastepuje stop na wybranej linii (`> <sciezka_do_pliku>/lab7.py(5)get_path()`)\n",
    "5. drukujemy zmienne `pp head, tail, filename`\n",
    "6. kończymy (np: `c`)"
   ]
  },
  {
   "cell_type": "code",
   "execution_count": 56,
   "metadata": {},
   "outputs": [
    {
     "name": "stdout",
     "output_type": "stream",
     "text": [
      "--Return--\n",
      "> <ipython-input-56-bd254663e8f4>(4)<module>()->None\n",
      "-> breakpoint()\n",
      "(Pdb) c\n",
      "path = .\n"
     ]
    }
   ],
   "source": [
    "import lab7 \n",
    "\n",
    "filename = './ex4.py'\n",
    "breakpoint()\n",
    "filename_path = lab7.get_path(filename)\n",
    "print(f'path = {filename_path}')"
   ]
  },
  {
   "cell_type": "code",
   "execution_count": null,
   "metadata": {},
   "outputs": [],
   "source": []
  },
  {
   "cell_type": "markdown",
   "metadata": {},
   "source": [
    "### warunki w `b`\n",
    "\n",
    "W alternatywnej wersji modułu lab7, w pliku `lab7b.py`, funkcj get_path zachowuje się dziwnie, gdy nie podamy ścieżki absolutnej do pliku:"
   ]
  },
  {
   "cell_type": "code",
   "execution_count": 57,
   "metadata": {},
   "outputs": [
    {
     "data": {
      "text/plain": [
       "'Ala ma kota.'"
      ]
     },
     "execution_count": 57,
     "metadata": {},
     "output_type": "execute_result"
    }
   ],
   "source": [
    "import lab7b\n",
    "lab7b.get_path('./ex4.py')"
   ]
  },
  {
   "cell_type": "code",
   "execution_count": 58,
   "metadata": {},
   "outputs": [
    {
     "data": {
      "text/plain": [
       "'/'"
      ]
     },
     "execution_count": 58,
     "metadata": {},
     "output_type": "execute_result"
    }
   ],
   "source": [
    "lab7b.get_path('/ex4.py')"
   ]
  },
  {
   "cell_type": "markdown",
   "metadata": {},
   "source": [
    "Aby sprawdzić co i jak, można dodać do `b` warunek by zatrzymywać się w tej funkcji gry podamy co innego niż scieżkę absolutną przed nazwą pliku.\n",
    "\n",
    "\n",
    "### Ćwiczenie 8\n",
    "Wersja z nazwą funkcji\n",
    "1. wywołujemy komórkę poniższą\n",
    "2. ustawiamy `b lab7b.get_path, not head.startswith('/')`\n",
    "4. dajemy `c`\n",
    "5. drukujemy zmienne `pp head, tail, filename` lub używamy `a` (drukuje wszytskie `a`rgumenty funkcji)\n",
    "6. kończymy (np: `c`)"
   ]
  },
  {
   "cell_type": "code",
   "execution_count": 59,
   "metadata": {},
   "outputs": [
    {
     "name": "stdout",
     "output_type": "stream",
     "text": [
      "--Return--\n",
      "> <ipython-input-59-3d18539a7e7a>(2)<module>()->None\n",
      "-> breakpoint()\n",
      "(Pdb) ll\n",
      "  1  \tfilename = './ex4.py'\n",
      "  2  ->\tbreakpoint()\n",
      "  3  \tfilename_path = lab7b.get_path(filename)\n",
      "  4  \tprint(f'path = {filename_path}')\n",
      "(Pdb) b lab7b.get_path, not head.startswith('/')\n",
      "Breakpoint 5 at /home/users/lukasz.machura/uni/kc/Programowanie/kc_p_lab07_debug_pdb/lab7b.py:1\n",
      "(Pdb) b\n",
      "Num Type         Disp Enb   Where\n",
      "2   breakpoint   keep yes   at /home/users/lukasz.machura/uni/kc/Programowanie/kc_p_lab07_debug_pdb/lab7.py:5\n",
      "4   breakpoint   keep yes   at /home/users/lukasz.machura/uni/kc/Programowanie/kc_p_lab07_debug_pdb/lab7.py:1\n",
      "\tbreakpoint already hit 1 time\n",
      "5   breakpoint   keep yes   at /home/users/lukasz.machura/uni/kc/Programowanie/kc_p_lab07_debug_pdb/lab7b.py:1\n",
      "\tstop only if not head.startswith('/')\n",
      "(Pdb) c\n",
      "> /home/users/lukasz.machura/uni/kc/Programowanie/kc_p_lab07_debug_pdb/lab7b.py(3)get_path()\n",
      "-> import os\n",
      "(Pdb) a\n",
      "filename = './ex4.py'\n",
      "(Pdb) c\n",
      "path = Ala ma kota.\n"
     ]
    }
   ],
   "source": [
    "filename = './ex4.py'\n",
    "breakpoint()\n",
    "filename_path = lab7b.get_path(filename)\n",
    "print(f'path = {filename_path}')"
   ]
  },
  {
   "cell_type": "code",
   "execution_count": null,
   "metadata": {},
   "outputs": [],
   "source": []
  },
  {
   "cell_type": "markdown",
   "metadata": {},
   "source": [
    "### Kontynuacja wykonywania - `unt(il)`\n",
    "\n",
    "`unt` uzywamy by kontynuować wykonywanie, podobnie jak `c`, ale by zatrzymać się na następnej linii większej niż bieżąca linia. \n",
    "\n",
    "* `unt [numer]` - bez `numer`, kontynuuje wykonywanie, aż zostanie osiągnięty wiersz o numerze większym niż bieżący. Z `numer` kontynuuj wykonywanie, aż zostanie osiągnięty wiersz z liczbą większą lub równą wybranemu `numer`owi linii. W obu przypadkach zatrzymaj się również po powrocie bieżącej ramki.\n",
    "\n",
    "Użyj, `unt` jeśli chcesz kontynuować wykonywanie i zatrzymać się *niżej* w bieżącym pliku źródłowym. Możesz traktować to jak hybrydę `n(next)` i `b(break)`, w zależności od tego, czy przekazujesz argument z numerem linii, czy nie.\n",
    "\n",
    "### Ćwiczenie 9\n",
    "1. uruchom kod\n",
    "2. opcjonalnie: ll\n",
    "3. unt x 3 (aż do `-> return head`)\n",
    "4. `p char, head, tail` - można zobaczyć, ze cała pętla się wywołała, pomimo, że nie podaliśmy więcej niż raz `unt` po wejściu w nią\n",
    "5. `c`"
   ]
  },
  {
   "cell_type": "code",
   "execution_count": 61,
   "metadata": {},
   "outputs": [
    {
     "name": "stdout",
     "output_type": "stream",
     "text": [
      "> <ipython-input-61-08bb97e09b5f>(7)get_path()\n",
      "-> head, tail = os.path.split(fname)\n",
      "(Pdb) unt\n",
      "> <ipython-input-61-08bb97e09b5f>(8)get_path()\n",
      "-> for char in tail:\n",
      "(Pdb) \n",
      "> <ipython-input-61-08bb97e09b5f>(9)get_path()\n",
      "-> pass  # Check filename char\n",
      "(Pdb) \n",
      "> <ipython-input-61-08bb97e09b5f>(10)get_path()\n",
      "-> return head\n",
      "(Pdb) p char, head, tail\n",
      "('y', '', 'ex4u.py')\n",
      "(Pdb) c\n",
      "path = \n"
     ]
    }
   ],
   "source": [
    "import os\n",
    "\n",
    "\n",
    "def get_path(fname):\n",
    "    \"\"\"Return file's path or empty string if no path.\"\"\"\n",
    "    import pdb; pdb.set_trace()\n",
    "    head, tail = os.path.split(fname)\n",
    "    for char in tail:\n",
    "        pass  # Check filename char\n",
    "    return head\n",
    "\n",
    "\n",
    "filename = './ex4u.py'\n",
    "filename_path = get_path(filename)\n",
    "print(f'path = {filename_path}')"
   ]
  },
  {
   "cell_type": "markdown",
   "metadata": {},
   "source": [
    "### Wyświetlanie wyrażeń\n",
    "Podobnie jak w przypadku drukowania wyrażeń za pomocą `p` i `pp`, możesz użyć polecenia, `display [wyrazenie]` aby automatycznie wyświetlać wartość `wyrażenia`, jeśli uległo zmianie po zatrzymaniu. Aby przestać wyświetlać użyj `undisplay [wyrazenie]`.\n",
    "\n",
    "### Ćwiczenie 10\n",
    "1. uruchom kod\n",
    "2. ustaw breakpoint na linii gdzie jest `pass`\n",
    "3. przejdź do przerwania (powinieneś mieć `-> pass`)\n",
    "4. wpisz komendę `display char`\n",
    "5. wpisuj `c` (lub po jednokrotnym wpisaniu naciskaj enter) by zobaczyć co zwraca `pdb`"
   ]
  },
  {
   "cell_type": "code",
   "execution_count": 64,
   "metadata": {},
   "outputs": [
    {
     "name": "stdout",
     "output_type": "stream",
     "text": [
      "> <ipython-input-64-9fc02607be70>(4)get_path()\n",
      "-> head, tail = os.path.split(fname)\n",
      "(Pdb) b\n",
      "(Pdb) b 6\n",
      "Breakpoint 7 at <ipython-input-64-9fc02607be70>:6\n",
      "(Pdb) c\n",
      "> <ipython-input-64-9fc02607be70>(6)get_path()\n",
      "-> pass\n",
      "(Pdb) display head\n",
      "display head: ''\n",
      "(Pdb) display tail\n",
      "display tail: 'jakis_plik'\n",
      "(Pdb) display char\n",
      "display char: 'j'\n",
      "(Pdb) c\n",
      "> <ipython-input-64-9fc02607be70>(6)get_path()\n",
      "-> pass\n",
      "display char: 'a'  [old: 'j']\n",
      "(Pdb) c\n",
      "> <ipython-input-64-9fc02607be70>(6)get_path()\n",
      "-> pass\n",
      "display char: 'k'  [old: 'a']\n",
      "(Pdb) c\n",
      "> <ipython-input-64-9fc02607be70>(6)get_path()\n",
      "-> pass\n",
      "display char: 'i'  [old: 'k']\n",
      "(Pdb) display\n",
      "Currently displaying:\n",
      "head: ''\n",
      "tail: 'jakis_plik'\n",
      "char: 'i'\n",
      "(Pdb) \n",
      "Currently displaying:\n",
      "head: ''\n",
      "tail: 'jakis_plik'\n",
      "char: 'i'\n",
      "(Pdb) c\n",
      "> <ipython-input-64-9fc02607be70>(6)get_path()\n",
      "-> pass\n",
      "display char: 's'  [old: 'i']\n",
      "(Pdb) \n",
      "> <ipython-input-64-9fc02607be70>(6)get_path()\n",
      "-> pass\n",
      "display char: '_'  [old: 's']\n",
      "(Pdb) \n",
      "> <ipython-input-64-9fc02607be70>(6)get_path()\n",
      "-> pass\n",
      "display char: 'p'  [old: '_']\n",
      "(Pdb) \n",
      "> <ipython-input-64-9fc02607be70>(6)get_path()\n",
      "-> pass\n",
      "display char: 'l'  [old: 'p']\n",
      "(Pdb) \n",
      "> <ipython-input-64-9fc02607be70>(6)get_path()\n",
      "-> pass\n",
      "display char: 'i'  [old: 'l']\n",
      "(Pdb) \n",
      "> <ipython-input-64-9fc02607be70>(6)get_path()\n",
      "-> pass\n",
      "display char: 'k'  [old: 'i']\n",
      "(Pdb) \n",
      "path = \n"
     ]
    }
   ],
   "source": [
    "def get_path(fname):\n",
    "    \"\"\"Return file's path or empty string if no path.\"\"\"\n",
    "    breakpoint()\n",
    "    head, tail = os.path.split(fname)\n",
    "    for char in tail:\n",
    "        pass\n",
    "    return head\n",
    "\n",
    "\n",
    "filename = 'jakis_folder/jakis_plik'\n",
    "filename_path = get_path(filename)\n",
    "print(f'path = {filename_path}')"
   ]
  },
  {
   "cell_type": "code",
   "execution_count": null,
   "metadata": {},
   "outputs": [],
   "source": []
  },
  {
   "cell_type": "markdown",
   "metadata": {},
   "source": [
    "### wielokrotne display\n",
    "Jeżeli zdefiniujemy `display` kilkukrotnie, to pusta komenda `display` pokaże nam wszystkie zmienne. \n",
    "\n",
    "### Ćwiczenie 11\n",
    "1. ponownie uruchom powyższy kod\n",
    "2. ustaw breakpoint na linii gdzie jest `pass`\n",
    "3. przejdź do przerwania (powinieneś mieć `-> pass`)\n",
    "4. wpisz komendę `display char`\n",
    "4. wpisz komendę `display head`\n",
    "4. wpisz komendę `display tail`\n",
    "5. wpisuj `c` raz lub dwa razy by zobaczyć co zwraca `pdb` -> pojawią się TYLKO ZMIENNE KTÓRYCH STAN/ZAWARTOŚĆ SIĘ ZMIENIA\n",
    "6. wpisz `display`\n",
    "7. zakończ debugging"
   ]
  },
  {
   "cell_type": "code",
   "execution_count": null,
   "metadata": {},
   "outputs": [],
   "source": []
  },
  {
   "cell_type": "markdown",
   "metadata": {},
   "source": [
    "### Ramki i stos\n",
    "Aby obejrzeć aktualny stos użyj polecenia `w(here)`. Ponieważ najnowsza ramka znajduje się na dole, zacznij od niej i czytaj od dołu do góry. Spójrz na linie zaczynające się od `->`, ale pomiń pierwszą instancję, ponieważ tam ustawiliśmy `breakpoint()`. W tym przykładzie wiersz źródłowy, który wywołał funkcję, `get_path()` to:\n",
    "\n",
    "```-> file_path = lab7w.get_path(full_fname)```\n",
    "\n",
    "Linia nad każdym z `->` zawiera nazwę pliku, numer linii (w nawiasach) i nazwę funkcji, w której znajduje się linia źródłowa. Zatem wywołującym jest:\n",
    "\n",
    "```\n",
    "<ipython-input-68-ca06aed92376>(5)get_file_info()\n",
    "-> file_path = lab7w.get_path(full_fname)\n",
    "```\n",
    "\n",
    "Oczywiście te cyferki to wirtualne funkcje ipythona... Lepiej będzie to widoczne na terminalu.\n",
    "\n",
    "### Ćwiczenie 11\n",
    "1. Uruchom terminal (lub przejdź do uruchomiego) i przejdź do katalogu z plikami z dzisiejszych zajęć\n",
    "2. uruchom `python3 ex5.py`\n",
    "3. wpisz `w` i znajdź informacje \n",
    "    ```\n",
    "    <sciezka_do_pliku>/ex5.py(7)get_file_info()\n",
    "    -> file_path = lab7w.get_path(full_fname)\n",
    "    > <sciezka_do_pliku>/lab7w.py(5)get_path()\n",
    "    ```"
   ]
  },
  {
   "cell_type": "code",
   "execution_count": 68,
   "metadata": {},
   "outputs": [
    {
     "name": "stdout",
     "output_type": "stream",
     "text": [
      "> /home/users/lukasz.machura/uni/kc/Programowanie/kc_p_lab07_debug_pdb/lab7w.py(5)get_path()\n",
      "-> head, tail = os.path.split(fname)\n",
      "(Pdb) ll\n",
      "  1  \tdef get_path(fname):\n",
      "  2  \t    \"\"\"Return file's path or empty string if no path.\"\"\"\n",
      "  3  \t    import os\n",
      "  4  \t    breakpoint()\n",
      "  5  ->\t    head, tail = os.path.split(fname)\n",
      "  6  \t    return head\n",
      "(Pdb) w\n",
      "  /opt/conda/lib/python3.7/runpy.py(193)_run_module_as_main()\n",
      "-> \"__main__\", mod_spec)\n",
      "  /opt/conda/lib/python3.7/runpy.py(85)_run_code()\n",
      "-> exec(code, run_globals)\n",
      "  /opt/conda/lib/python3.7/site-packages/ipykernel_launcher.py(16)<module>()\n",
      "-> app.launch_new_instance()\n",
      "  /opt/conda/lib/python3.7/site-packages/traitlets/config/application.py(664)launch_instance()\n",
      "-> app.start()\n",
      "  /opt/conda/lib/python3.7/site-packages/ipykernel/kernelapp.py(563)start()\n",
      "-> self.io_loop.start()\n",
      "  /opt/conda/lib/python3.7/site-packages/tornado/platform/asyncio.py(148)start()\n",
      "-> self.asyncio_loop.run_forever()\n",
      "  /opt/conda/lib/python3.7/asyncio/base_events.py(539)run_forever()\n",
      "-> self._run_once()\n",
      "  /opt/conda/lib/python3.7/asyncio/base_events.py(1775)_run_once()\n",
      "-> handle._run()\n",
      "  /opt/conda/lib/python3.7/asyncio/events.py(88)_run()\n",
      "-> self._context.run(self._callback, *self._args)\n",
      "  /opt/conda/lib/python3.7/site-packages/tornado/ioloop.py(690)<lambda>()\n",
      "-> lambda f: self._run_callback(functools.partial(callback, future))\n",
      "  /opt/conda/lib/python3.7/site-packages/tornado/ioloop.py(743)_run_callback()\n",
      "-> ret = callback()\n",
      "  /opt/conda/lib/python3.7/site-packages/tornado/gen.py(787)inner()\n",
      "-> self.run()\n",
      "  /opt/conda/lib/python3.7/site-packages/tornado/gen.py(748)run()\n",
      "-> yielded = self.gen.send(value)\n",
      "  /opt/conda/lib/python3.7/site-packages/ipykernel/kernelbase.py(365)process_one()\n",
      "-> yield gen.maybe_future(dispatch(*args))\n",
      "  /opt/conda/lib/python3.7/site-packages/tornado/gen.py(209)wrapper()\n",
      "-> yielded = next(result)\n",
      "  /opt/conda/lib/python3.7/site-packages/ipykernel/kernelbase.py(272)dispatch_shell()\n",
      "-> yield gen.maybe_future(handler(stream, idents, msg))\n",
      "  /opt/conda/lib/python3.7/site-packages/tornado/gen.py(209)wrapper()\n",
      "-> yielded = next(result)\n",
      "  /opt/conda/lib/python3.7/site-packages/ipykernel/kernelbase.py(542)execute_request()\n",
      "-> user_expressions, allow_stdin,\n",
      "  /opt/conda/lib/python3.7/site-packages/tornado/gen.py(209)wrapper()\n",
      "-> yielded = next(result)\n",
      "  /opt/conda/lib/python3.7/site-packages/ipykernel/ipkernel.py(294)do_execute()\n",
      "-> res = shell.run_cell(code, store_history=store_history, silent=silent)\n",
      "  /opt/conda/lib/python3.7/site-packages/ipykernel/zmqshell.py(536)run_cell()\n",
      "-> return super(ZMQInteractiveShell, self).run_cell(*args, **kwargs)\n",
      "  /opt/conda/lib/python3.7/site-packages/IPython/core/interactiveshell.py(2855)run_cell()\n",
      "-> raw_cell, store_history, silent, shell_futures)\n",
      "  /opt/conda/lib/python3.7/site-packages/IPython/core/interactiveshell.py(2881)_run_cell()\n",
      "-> return runner(coro)\n",
      "  /opt/conda/lib/python3.7/site-packages/IPython/core/async_helpers.py(68)_pseudo_sync_runner()\n",
      "-> coro.send(None)\n",
      "  /opt/conda/lib/python3.7/site-packages/IPython/core/interactiveshell.py(3058)run_cell_async()\n",
      "-> interactivity=interactivity, compiler=compiler, result=result)\n",
      "  /opt/conda/lib/python3.7/site-packages/IPython/core/interactiveshell.py(3249)run_ast_nodes()\n",
      "-> if (await self.run_code(code, result,  async_=asy)):\n",
      "  /opt/conda/lib/python3.7/site-packages/IPython/core/interactiveshell.py(3326)run_code()\n",
      "-> exec(code_obj, self.user_global_ns, self.user_ns)\n",
      "  <ipython-input-68-ca06aed92376>(10)<module>()->None\n",
      "-> filename_path = get_file_info(filename)\n",
      "  <ipython-input-68-ca06aed92376>(5)get_file_info()\n",
      "-> file_path = lab7w.get_path(full_fname)\n",
      "> /home/users/lukasz.machura/uni/kc/Programowanie/kc_p_lab07_debug_pdb/lab7w.py(5)get_path()\n",
      "-> head, tail = os.path.split(fname)\n",
      "(Pdb) c\n",
      "path = jakis_folder\n"
     ]
    }
   ],
   "source": [
    "import lab7w\n",
    "\n",
    "\n",
    "def get_file_info(full_fname):\n",
    "    file_path = lab7w.get_path(full_fname)\n",
    "    return file_path\n",
    "\n",
    "\n",
    "filename = 'jakis_folder/jakis_plik'\n",
    "filename_path = get_file_info(filename)\n",
    "print(f'path = {filename_path}')"
   ]
  },
  {
   "cell_type": "markdown",
   "metadata": {},
   "source": [
    "Już wiemy, gdzie jestesmy w strukturze stosu. Co więcej - możemy się po nim poruszać za pomocą poleceń\n",
    "\n",
    "* `u(p) [liczba]` - przejdź o `liczba` (domyślnie 1) ramek w górę stosu\n",
    "* `d(own) [liczba]` - przejdź o `liczba` (domyślnie 1) ramek w dół stosu\n",
    "\n",
    "### Ćwiczenie 12\n",
    "1. Uruchom terminal (lub przejdź do uruchomiego) i przejdź do katalogu z plikami z dzisiejszych zajęć\n",
    "2. uruchom `python3 ex5.py`\n",
    "3. wpisz `w` i obejrz stos\n",
    "4. wydrukuj zmienną z obecjen ramki (spróbuj `a` lub `p zmienna`), jeżeli nie pamiętasz ich nazw -> `l` lub `ll`\n",
    "5. przejdź się w górę stosu `u` i zerknij w inne zmienne, zależne od ramki\n",
    "6. wróć na dół stosu `u`\n",
    "7. zakończ `pdb`"
   ]
  },
  {
   "cell_type": "code",
   "execution_count": null,
   "metadata": {},
   "outputs": [],
   "source": []
  },
  {
   "cell_type": "markdown",
   "metadata": {},
   "source": [
    "## koniec ;)\n",
    "\n",
    "* `p`\tWydrukuj wartość wyrażenia.\n",
    "* `pp`\tWydrukuj wartość wyrażenia.\n",
    "* `n`\tKontynuuj wykonywanie, aż do osiągnięcia następnego wiersza w bieżącej funkcji lub do `return`.\n",
    "* `s`\tWykonuje bieżący wiersz i zatrzymuje się przy pierwszej możliwej okazji (w wywołanej funkcji lub w bieżącej funkcji).\n",
    "* `c`\tKontynuuj wykonywanie i zatrzymaj się tylko po napotkaniu punktu przerwania.\n",
    "* `unt <arg>`\tKontynuuj wykonywanie, aż zostanie osiągnięta linia z liczbą większą niż bieżąca. Z argumentem numeru linii kontynuuj wykonywanie, aż zostanie osiągnięty wiersz z liczbą większą lub równą temu argumentowi.\n",
    "* `l`\tWyświetla kod źródłowy dla bieżącego pliku. Bez argumentów wypisz 11 linii wokół bieżącej linii.\n",
    "* `ll`\tWypisz cały kod źródłowy dla bieżącej funkcji lub ramki.\n",
    "* `b <arg>`\tWypisz wszystkie przerwy bez argumentów. Za pomocą argumentu ustaw punkt przerwania w tym wierszu w bieżącym pliku.\n",
    "* `w`\tWydrukuj stos z najnowszą ramką na dole. Strzałka wskazuje bieżącą ramkę, która określa kontekst większości poleceń.\n",
    "* `u <arg>`\tPrzenieś `arg` liczbę ramek (domyślnie jeden) w górę w stosie (do starszej ramki).\n",
    "* `d `\tPrzenieś `arg` liczbę klatek (domyślnie jeden) w dół w stosie (do nowszej klatki).\n",
    "* `h`\tZobacz listę dostępnych poleceń.\n",
    "* `h <temat>`\tPokaż pomoc dotyczącą polecenia lub tematu.\n",
    "* `h pdb`\tPokaż pełną dokumentację PDB.\n",
    "* `q`\tZamknij debuger i zakończ."
   ]
  },
  {
   "cell_type": "code",
   "execution_count": null,
   "metadata": {},
   "outputs": [],
   "source": []
  },
  {
   "cell_type": "markdown",
   "metadata": {},
   "source": [
    "### Ćwiczenie 13\n",
    "Zdebuguj grę, powinna być grywalna."
   ]
  },
  {
   "cell_type": "code",
   "execution_count": 12,
   "metadata": {},
   "outputs": [
    {
     "name": "stdout",
     "output_type": "stream",
     "text": [
      "Odgadnij wynik rzutu monetą! Wpisz orzeł lub reszka:\n",
      "1\n",
      "Odgadnij wynik rzutu monetą! Wpisz orzeł lub reszka:\n",
      "1\n",
      "Odgadnij wynik rzutu monetą! Wpisz orzeł lub reszka:\n",
      "0\n",
      "Odgadnij wynik rzutu monetą! Wpisz orzeł lub reszka:\n",
      "1\n",
      "Odgadnij wynik rzutu monetą! Wpisz orzeł lub reszka:\n",
      "\n",
      "Odgadnij wynik rzutu monetą! Wpisz orzeł lub reszka:\n",
      "0\n",
      "Odgadnij wynik rzutu monetą! Wpisz orzeł lub reszka:\n",
      "0\n",
      "Odgadnij wynik rzutu monetą! Wpisz orzeł lub reszka:\n",
      "0\n",
      "Odgadnij wynik rzutu monetą! Wpisz orzeł lub reszka:\n",
      "reszka\n",
      "Nie udało się! Spróbuj ponownie!\n",
      "orzeł\n",
      "Nie udało się! Naprawdę kiepsko Ci dziś idzie.\n"
     ]
    }
   ],
   "source": [
    "import random\n",
    "guess = ''\n",
    "while guess not in ('orzeł', 'reszka'):\n",
    "    print('Odgadnij wynik rzutu monetą! Wpisz orzeł lub reszka:')\n",
    "    guess = input()\n",
    "toss = random.randint(0, 1) # 0 oznacza reszkę, natomiast 1 to orzeł.\n",
    "if toss == guess:\n",
    "    print('Odgadłeś!')\n",
    "else:\n",
    "    print('Nie udało się! Spróbuj ponownie!')\n",
    "    guesss = input()\n",
    "    if toss == guess:\n",
    "        print('Odgadłeś!')\n",
    "    else:\n",
    "        print('Nie udało się! Naprawdę kiepsko Ci dziś idzie.')"
   ]
  },
  {
   "cell_type": "code",
   "execution_count": null,
   "metadata": {},
   "outputs": [],
   "source": []
  },
  {
   "cell_type": "code",
   "execution_count": 70,
   "metadata": {},
   "outputs": [],
   "source": [
    "# ### Przykład - zamiast drukować wszystkie 1000 reszek/orłów, patrzymy co i jak po 500set...\n",
    "# import random\n",
    "# reszka = 0\n",
    "# for i in range(1, 1001):\n",
    "#     if random.randint(0, 1) == 1: \n",
    "#         reszka = reszka + 1\n",
    "#     if i == 500:\n",
    "#         print('Połowa już zrobiona!')\n",
    "#         breakpoint()\n",
    "# print('Reszka wypadła ' + str(reszka) + ' razy.')"
   ]
  },
  {
   "cell_type": "raw",
   "metadata": {},
   "source": []
  },
  {
   "cell_type": "markdown",
   "metadata": {},
   "source": [
    "## Szybki dodatek 1\n",
    "Jupyter ma swoją własnę wersję `pdb`, ale nie ma ona żadnych wodotrysków..."
   ]
  },
  {
   "cell_type": "code",
   "execution_count": 5,
   "metadata": {},
   "outputs": [
    {
     "name": "stdout",
     "output_type": "stream",
     "text": [
      "> \u001b[0;32m<ipython-input-5-4ee524d13e07>\u001b[0m(6)\u001b[0;36madd_to_life_universe_everything\u001b[0;34m()\u001b[0m\n",
      "\u001b[0;32m      4 \u001b[0;31m    \u001b[0manswer\u001b[0m \u001b[0;34m=\u001b[0m \u001b[0;36m42\u001b[0m\u001b[0;34m\u001b[0m\u001b[0;34m\u001b[0m\u001b[0m\n",
      "\u001b[0m\u001b[0;32m      5 \u001b[0;31m    \u001b[0mset_trace\u001b[0m\u001b[0;34m(\u001b[0m\u001b[0;34m)\u001b[0m\u001b[0;34m\u001b[0m\u001b[0;34m\u001b[0m\u001b[0m\n",
      "\u001b[0m\u001b[0;32m----> 6 \u001b[0;31m    \u001b[0manswer\u001b[0m \u001b[0;34m+=\u001b[0m \u001b[0mx\u001b[0m\u001b[0;34m\u001b[0m\u001b[0;34m\u001b[0m\u001b[0m\n",
      "\u001b[0m\u001b[0;32m      7 \u001b[0;31m    \u001b[0;32mreturn\u001b[0m \u001b[0manswer\u001b[0m\u001b[0;34m\u001b[0m\u001b[0;34m\u001b[0m\u001b[0m\n",
      "\u001b[0m\u001b[0;32m      8 \u001b[0;31m\u001b[0;34m\u001b[0m\u001b[0m\n",
      "\u001b[0m\n",
      "ipdb> a\n",
      "x = 12\n",
      "ipdb> c\n"
     ]
    },
    {
     "data": {
      "text/plain": [
       "54"
      ]
     },
     "execution_count": 5,
     "metadata": {},
     "output_type": "execute_result"
    }
   ],
   "source": [
    "from IPython.core.debugger import set_trace\n",
    "\n",
    "def add_to_life_universe_everything(x):\n",
    "    answer = 42\n",
    "    set_trace()\n",
    "    answer += x\n",
    "    return answer\n",
    "\n",
    "add_to_life_universe_everything(12)"
   ]
  },
  {
   "cell_type": "code",
   "execution_count": null,
   "metadata": {},
   "outputs": [],
   "source": []
  },
  {
   "cell_type": "markdown",
   "metadata": {},
   "source": [
    "## Dodatek2: post-mortem\n",
    "\n",
    "Jak coś nie pójdzie za dobrze, wciąż można uruchomić `pdb`, w trybie `post-mortem`. Tak, po śmierci naszego programu wciąż można w nim grzebać..."
   ]
  },
  {
   "cell_type": "code",
   "execution_count": 2,
   "metadata": {},
   "outputs": [
    {
     "ename": "TypeError",
     "evalue": "can only concatenate str (not \"int\") to str",
     "output_type": "error",
     "traceback": [
      "\u001b[0;31m---------------------------------------------------------------------------\u001b[0m",
      "\u001b[0;31mTypeError\u001b[0m                                 Traceback (most recent call last)",
      "\u001b[0;32m<ipython-input-2-682fd0dbf8c2>\u001b[0m in \u001b[0;36m<module>\u001b[0;34m\u001b[0m\n\u001b[1;32m      1\u001b[0m \u001b[0mzla_zmienna\u001b[0m \u001b[0;34m=\u001b[0m \u001b[0;34m'ala'\u001b[0m\u001b[0;34m\u001b[0m\u001b[0;34m\u001b[0m\u001b[0m\n\u001b[0;32m----> 2\u001b[0;31m \u001b[0mprint\u001b[0m\u001b[0;34m(\u001b[0m\u001b[0mzla_zmienna\u001b[0m \u001b[0;34m+\u001b[0m \u001b[0;36m2\u001b[0m\u001b[0;34m)\u001b[0m\u001b[0;34m\u001b[0m\u001b[0;34m\u001b[0m\u001b[0m\n\u001b[0m",
      "\u001b[0;31mTypeError\u001b[0m: can only concatenate str (not \"int\") to str"
     ]
    }
   ],
   "source": [
    "zla_zmienna = 'ala'\n",
    "print(zla_zmienna + 2)"
   ]
  },
  {
   "cell_type": "code",
   "execution_count": 4,
   "metadata": {},
   "outputs": [
    {
     "name": "stdout",
     "output_type": "stream",
     "text": [
      "> <ipython-input-3-497882a8ebc0>(1)<module>()\n",
      "-> pdb.pm()\n",
      "(Pdb) w\n",
      "  /opt/conda/lib/python3.7/site-packages/IPython/core/interactiveshell.py(3326)run_code()\n",
      "-> exec(code_obj, self.user_global_ns, self.user_ns)\n",
      "> <ipython-input-3-497882a8ebc0>(1)<module>()\n",
      "-> pdb.pm()\n",
      "(Pdb) a\n",
      "(Pdb) p zla_zmienna\n",
      "'ala'\n",
      "(Pdb) ll\n",
      "  1  ->\tpdb.pm()\n",
      "(Pdb) l\n",
      "  1  ->\tpdb.pm()\n",
      "[EOF]\n",
      "(Pdb) c\n"
     ]
    }
   ],
   "source": [
    "import pdb; pdb.pm()"
   ]
  },
  {
   "cell_type": "code",
   "execution_count": null,
   "metadata": {},
   "outputs": [],
   "source": []
  },
  {
   "cell_type": "code",
   "execution_count": null,
   "metadata": {},
   "outputs": [],
   "source": []
  },
  {
   "cell_type": "markdown",
   "metadata": {},
   "source": [
    "## Dodatek 3\n",
    "### `logger` zamiast `print-a`\n",
    "\n",
    "* https://docs.python-guide.org/writing/logging/"
   ]
  },
  {
   "cell_type": "code",
   "execution_count": 1,
   "metadata": {},
   "outputs": [
    {
     "name": "stderr",
     "output_type": "stream",
     "text": [
      " 2021-04-12 20:40:50,211 -  DEBUG  -  Początek programu\n",
      " 2021-04-12 20:40:50,213 -  DEBUG  -  Początek wywołania funkcji factorial(5)\n",
      " 2021-04-12 20:40:50,214 -  DEBUG  -  i wynosi 0, wartość całkowita wynosi 0\n",
      " 2021-04-12 20:40:50,215 -  DEBUG  -  i wynosi 1, wartość całkowita wynosi 0\n",
      " 2021-04-12 20:40:50,216 -  DEBUG  -  i wynosi 2, wartość całkowita wynosi 0\n",
      " 2021-04-12 20:40:50,217 -  DEBUG  -  i wynosi 3, wartość całkowita wynosi 0\n",
      " 2021-04-12 20:40:50,218 -  DEBUG  -  i wynosi 4, wartość całkowita wynosi 0\n",
      " 2021-04-12 20:40:50,219 -  DEBUG  -  i wynosi 5, wartość całkowita wynosi 0\n",
      " 2021-04-12 20:40:50,220 -  DEBUG  -  Koniec wywołania funkcji factorial(5)\n",
      " 2021-04-12 20:40:50,224 -  DEBUG  -  Koniec programu\n"
     ]
    },
    {
     "name": "stdout",
     "output_type": "stream",
     "text": [
      "0\n"
     ]
    }
   ],
   "source": [
    "import logging\n",
    "logging.basicConfig(level=logging.DEBUG, format=' %(asctime)s -  %(levelname)s  -  %(message)s')\n",
    "logging.debug('Początek programu')\n",
    "\n",
    "def factorial(n):\n",
    "    logging.debug('Początek wywołania funkcji factorial(%s)'  % (n))\n",
    "    total = 1\n",
    "    for i in range(n + 1):\n",
    "        total *= i\n",
    "        logging.debug('i wynosi ' + str(i) + ', wartość całkowita wynosi ' + str(total))\n",
    "    logging.debug('Koniec wywołania funkcji factorial(%s)'  % (n))\n",
    "    return total\n",
    "\n",
    "print(factorial(5))\n",
    "logging.debug('Koniec programu')"
   ]
  },
  {
   "cell_type": "code",
   "execution_count": null,
   "metadata": {},
   "outputs": [],
   "source": []
  },
  {
   "cell_type": "code",
   "execution_count": null,
   "metadata": {},
   "outputs": [],
   "source": []
  }
 ],
 "metadata": {
  "kernelspec": {
   "display_name": "Python 3",
   "language": "python",
   "name": "python3"
  },
  "language_info": {
   "codemirror_mode": {
    "name": "ipython",
    "version": 3
   },
   "file_extension": ".py",
   "mimetype": "text/x-python",
   "name": "python",
   "nbconvert_exporter": "python",
   "pygments_lexer": "ipython3",
   "version": "3.7.3"
  }
 },
 "nbformat": 4,
 "nbformat_minor": 2
}
