{
 "cells": [
  {
   "cell_type": "code",
   "execution_count": 3,
   "metadata": {},
   "outputs": [
    {
     "name": "stdout",
     "output_type": "stream",
     "text": [
      "--Return--\n",
      "> <ipython-input-3-36d2482f10f3>(2)<module>()->None\n",
      "-> import pdb; pdb.set_trace()\n",
      "(Pdb) x\n",
      "3\n",
      "(Pdb) c\n"
     ]
    }
   ],
   "source": [
    "x = 3\n",
    "import pdb; pdb.set_trace()\n",
    "x += 4"
   ]
  },
  {
   "cell_type": "code",
   "execution_count": null,
   "metadata": {},
   "outputs": [
    {
     "name": "stdout",
     "output_type": "stream",
     "text": [
      "--Return--\n",
      "> <ipython-input-4-4355f7197746>(2)<module>()->None\n",
      "-> breakpoint()\n",
      "--KeyboardInterrupt--\n",
      "--KeyboardInterrupt--\n"
     ]
    }
   ],
   "source": [
    "x = 3\n",
    "breakpoint()\n",
    "x += 4"
   ]
  },
  {
   "cell_type": "code",
   "execution_count": 1,
   "metadata": {},
   "outputs": [
    {
     "name": "stdout",
     "output_type": "stream",
     "text": [
      "--Return--\n",
      "> <ipython-input-1-de4f94aabf12>(2)<module>()->None\n",
      "-> breakpoint()\n",
      "(Pdb) p filename\n",
      "'./exl.py'\n",
      "(Pdb) c\n",
      "path = ./exl.py\n"
     ]
    }
   ],
   "source": [
    "filename = './exl.py'\n",
    "breakpoint()\n",
    "print(f'path = {filename}')"
   ]
  },
  {
   "cell_type": "code",
   "execution_count": null,
   "metadata": {},
   "outputs": [],
   "source": []
  }
 ],
 "metadata": {
  "kernelspec": {
   "display_name": "Python 3",
   "language": "python",
   "name": "python3"
  },
  "language_info": {
   "codemirror_mode": {
    "name": "ipython",
    "version": 3
   },
   "file_extension": ".py",
   "mimetype": "text/x-python",
   "name": "python",
   "nbconvert_exporter": "python",
   "pygments_lexer": "ipython3",
   "version": "3.7.3"
  }
 },
 "nbformat": 4,
 "nbformat_minor": 2
}
