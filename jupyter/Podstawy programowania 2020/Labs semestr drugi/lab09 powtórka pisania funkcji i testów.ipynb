{
 "cells": [
  {
   "cell_type": "code",
   "execution_count": 3,
   "metadata": {},
   "outputs": [
    {
     "data": {
      "text/plain": [
       "'pRAWdZIWy PRZyJACIEL NiGDY NIe STANIE CI Na DRoDZE, ChybA ŻE IDziESZ W dół.'"
      ]
     },
     "execution_count": 3,
     "metadata": {},
     "output_type": "execute_result"
    }
   ],
   "source": [
    "# GLASSBOX\n",
    "\n",
    "def flip(s):\n",
    "    '''\n",
    "    Funkcja zamienia w zdaniu małe litery na duże i duże na małe.\n",
    "    WE: \n",
    "        s (str) — ciąg znaków do zamiany\n",
    "    WY: \n",
    "        (string) — ciąg znaków z podmienionymi małymi literami na duże i odwrotnie\n",
    "        \n",
    "    >>> flip('PIES')\n",
    "    'pies'\n",
    "    >>> flip('pies')\n",
    "    'PIES'\n",
    "    >>> flip('pIEs')\n",
    "    'PieS'\n",
    "    >>> flip('123')\n",
    "    '123'\n",
    "    >>> flip('5sS5')\n",
    "    '5Ss5'\n",
    "    >>> flip('Magnez.wapń')\n",
    "    'mAGNEZ.WAPŃ'\n",
    "    >>> flip('')\n",
    "    ''\n",
    "    '''\n",
    "    \n",
    "    zdanie_koncowe = ''\n",
    "    for litera in s:\n",
    "        if litera.isupper():\n",
    "            zdanie_koncowe += litera.lower()\n",
    "        else:\n",
    "            zdanie_koncowe += litera.upper()\n",
    "            \n",
    "    return zdanie_koncowe\n",
    "\n",
    "flip('PrawDziwY przYjaciel nIgdy niE stanie ci nA drOdze, cHYBa że idZIesz w DÓŁ.')"
   ]
  },
  {
   "cell_type": "code",
   "execution_count": 4,
   "metadata": {},
   "outputs": [
    {
     "data": {
      "text/plain": [
       "TestResults(failed=0, attempted=7)"
      ]
     },
     "execution_count": 4,
     "metadata": {},
     "output_type": "execute_result"
    }
   ],
   "source": [
    "import doctest\n",
    "doctest.testmod()"
   ]
  },
  {
   "cell_type": "code",
   "execution_count": 5,
   "metadata": {},
   "outputs": [],
   "source": [
    "def test_suite_flip():\n",
    "    # same duże\n",
    "    assert flip('pies') == 'PIES', f\"Błąd! flip('pies' != 'PIES')\"\n",
    "    # same małe\n",
    "    assert flip('PIES') == 'pies', f\"Błąd! flip('PIES' != 'pies')\"\n",
    "    # mieszane\n",
    "    assert flip('PiEs') == 'pIeS', f\"Błąd! flip('PiEs' != 'pIeS')\"\n",
    "    \n",
    "test_suite_flip()"
   ]
  },
  {
   "cell_type": "code",
   "execution_count": 6,
   "metadata": {},
   "outputs": [],
   "source": [
    "# BLACKBOX\n",
    "\n",
    "def test_suite_flip():\n",
    "    \n",
    "    testowe = [('PIES', 'pies'),\n",
    "              ('pies', 'PIES'),\n",
    "              ('123.Pp','123.pP'),\n",
    "              ('', '')]\n",
    "    \n",
    "    problemy = 0\n",
    "    for przyklad, poprawny_wynik in testowe:\n",
    "        if flip(przyklad) != poprawny_wynik:\n",
    "            print(f'BŁĄD DLA: {przyklad} MIAŁ BYĆ: {poprawny_wynik} A JEST: {test_suite_flip(przyklad)}')\n",
    "            problemy += 1\n",
    "                  \n",
    "    return f'Wykonanych testów: {len(testowe)} Błędów: {problemy}'"
   ]
  },
  {
   "cell_type": "code",
   "execution_count": 7,
   "metadata": {},
   "outputs": [
    {
     "data": {
      "text/plain": [
       "'Wykonanych testów: 4 Błędów: 0'"
      ]
     },
     "execution_count": 7,
     "metadata": {},
     "output_type": "execute_result"
    }
   ],
   "source": [
    "test_suite_flip()"
   ]
  },
  {
   "cell_type": "code",
   "execution_count": null,
   "metadata": {},
   "outputs": [],
   "source": [
    "def test_flip():\n",
    "    \n",
    "    dane_testowe = [\n",
    "        ('Test', 'tEST'),\n",
    "        ('To jest zdanie.', 'tO JEST ZDANIE.'),\n",
    "        ('Wartości: 1,2,3', 'wARTOŚCI: 1,2,3'),\n",
    "        ('1', '1'),\n",
    "        ('5555131231234.,./\\;[]-=', '5555131231234.,./\\;[]-='),\n",
    "        ('ąęśćńółżź', 'ĄĘŚĆŃÓŁŻŹ'),\n",
    "        ('', '')\n",
    "    ]\n",
    "    \n",
    "    err = 0\n",
    "    for val, exp in dane_testowe:\n",
    "        if flip(val) != exp:\n",
    "            print(f'{val} res: {flip(val)} exp: {exp}')\n",
    "            err += 1\n",
    "    \n",
    "    return f'Testy: {len(dane_testowe)}, błędy: {err}'"
   ]
  },
  {
   "cell_type": "code",
   "execution_count": 91,
   "metadata": {},
   "outputs": [],
   "source": [
    "# GLASSBOX\n",
    "\n",
    "def cwiartka(punkt):\n",
    "    '''\n",
    "    Funkcja pokazuje, w której ćwiartce układu kartezjańskiego znajduej się podany punkt \n",
    "    (punkt należy podać w tzw. krotce, czyli w okrągłych nawiasach).\n",
    "    \n",
    "    >>> cwiartka((1, 2))\n",
    "    'Punkt ten znajduje się w prawej górnej ćwiartce.'\n",
    "    >>> cwiartka((-1, 2))\n",
    "    'Punkt ten znajduje się w lewej górnej ćwiartce.'\n",
    "    >>> cwiartka((-1, -2))\n",
    "    'Punkt ten znajduje się w lewej dolnej ćwiartce.'\n",
    "    >>> cwiartka((1, -2))\n",
    "    'Punkt ten znajduje się w prawej dolnej ćwiartce.'\n",
    "    >>> cwiartka((0, 0))\n",
    "    'Punkt znajduje się na początku układu (w jego centrum) i nie nalezy do żadnej ćwiartki.'\n",
    "    >>> cwiartka((0, 2))\n",
    "    'Punkt ten leży na osi y.'\n",
    "    >>> cwiartka((1, 0))\n",
    "    'Punkt ten leży na osi x.'\n",
    "    '''\n",
    "    x = punkt[0]\n",
    "    y = punkt[1]\n",
    "\n",
    "    if x > 0 and y > 0:\n",
    "        return f'Punkt ten znajduje się w prawej górnej ćwiartce.'\n",
    "    elif x < 0 and y > 0:\n",
    "        return f'Punkt ten znajduje się w lewej górnej ćwiartce.'\n",
    "    elif x < 0 and y < 0:\n",
    "        return f'Punkt ten znajduje się w lewej dolnej ćwiartce.'\n",
    "    elif x > 0 and y < 0:\n",
    "        return f'Punkt ten znajduje się w prawej dolnej ćwiartce.'\n",
    "    elif x == 0 and y == 0:\n",
    "        return f'Punkt znajduje się na początku układu (w jego centrum) i nie nalezy do żadnej ćwiartki.'\n",
    "    elif x == 0 and y != 0:\n",
    "        return f'Punkt ten leży na osi y.'\n",
    "    elif x != 0 and y == 0:\n",
    "        return f'Punkt ten leży na osi x.'"
   ]
  },
  {
   "cell_type": "code",
   "execution_count": 92,
   "metadata": {},
   "outputs": [
    {
     "data": {
      "text/plain": [
       "'Punkt ten leży na osi x.'"
      ]
     },
     "execution_count": 92,
     "metadata": {},
     "output_type": "execute_result"
    }
   ],
   "source": [
    "cwiartka((10, 0))"
   ]
  },
  {
   "cell_type": "code",
   "execution_count": 93,
   "metadata": {},
   "outputs": [
    {
     "data": {
      "text/plain": [
       "TestResults(failed=0, attempted=7)"
      ]
     },
     "execution_count": 93,
     "metadata": {},
     "output_type": "execute_result"
    }
   ],
   "source": [
    "import doctest\n",
    "doctest.testmod()"
   ]
  },
  {
   "cell_type": "code",
   "execution_count": null,
   "metadata": {},
   "outputs": [],
   "source": [
    "# DOMOWE"
   ]
  }
 ],
 "metadata": {
  "kernelspec": {
   "display_name": "Python 3 (ipykernel)",
   "language": "python",
   "name": "python3"
  },
  "language_info": {
   "codemirror_mode": {
    "name": "ipython",
    "version": 3
   },
   "file_extension": ".py",
   "mimetype": "text/x-python",
   "name": "python",
   "nbconvert_exporter": "python",
   "pygments_lexer": "ipython3",
   "version": "3.9.5"
  }
 },
 "nbformat": 4,
 "nbformat_minor": 2
}
