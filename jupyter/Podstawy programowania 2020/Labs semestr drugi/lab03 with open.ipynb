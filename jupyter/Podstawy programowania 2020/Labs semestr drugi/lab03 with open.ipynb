{
 "cells": [
  {
   "cell_type": "code",
   "execution_count": null,
   "metadata": {},
   "outputs": [],
   "source": [
    "plik = \"nazwapliku.txt\"\n",
    "\n",
    "# odczyt plików - atrybut 'r'\n",
    "# wczytywanie zawartości pliku i w\n",
    "with open(plik, mode='r') as plik:\n",
    "    for linijka.replace('\\n', '') in plik:\n",
    "        print(f\"{linijka}\\n\")\n",
    "\n",
    "# nadpisanie pliku - atrybut 'w'\n",
    "# zapisywanie do pliku\n",
    "with open(plik, mode='w') as plik:\n",
    "    for numer_linii in range(1,11):\n",
    "        plik.write(f\"Linijka numer: {numer_linii}\\n\")\n",
    "\n",
    "# dodanie do pliku - atrybut 'a'\n",
    "# dodaje do pliku bez usuwania jego poprzedniej zawartości\n",
    "with open(plik, mode='a') as plik:\n",
    "    for numer_linii in range(11,21):\n",
    "        plik.write(f\"Linijka numer: {numer_linii}\")"
   ]
  },
  {
   "cell_type": "code",
   "execution_count": 1,
   "metadata": {},
   "outputs": [],
   "source": [
    "with open('numseq.py', 'w') as f:\n",
    "    f.write(\"\")"
   ]
  },
  {
   "cell_type": "code",
   "execution_count": 3,
   "metadata": {},
   "outputs": [
    {
     "name": "stdout",
     "output_type": "stream",
     "text": [
      "def podziel_na_n_elementowe_podciagi(L, n):\n",
      "    ret = []\n",
      "    for start in range(len(L) - n + 1):\n",
      "        ret.append(L[start:start+n])\n",
      "    return ret\n",
      "\n",
      "\n",
      "def czy_malejacy(L):\n",
      "    for idx in range(len(L) - 1):\n",
      "        if L[idx] <= L[idx+1]:\n",
      "            return False\n",
      "    return True\n",
      "\n",
      "\n",
      "def czy_staly(L):\n",
      "    for idx in range(len(L) - 1):\n",
      "        if L[idx] != L[idx+1]:\n",
      "            return False\n",
      "    return True\n",
      "\n",
      "\n",
      "def czy_rosnacy(L):\n",
      "    for idx in range(len(L) - 1):\n",
      "        if L[idx] >= L[idx+1]:\n",
      "            return False\n",
      "    return True\n",
      "\n",
      "\n",
      "def czy_niemalejacy(L):\n",
      "    for idx in range(len(L) - 1):\n",
      "        if L[idx] > L[idx+1]:\n",
      "            return False\n",
      "    return True\n",
      "\n",
      "def czy_nierosnacy(L):\n",
      "    for idx in range(len(L) - 1):\n",
      "        if L[idx] < L[idx+1]:\n",
      "            return False\n",
      "    return True\n",
      "\n",
      "\n",
      "def czy_naprzemienny(L):\n",
      "    for idx in range(len(L) - 2):\n",
      "        if (czy_nierosnacy(L[idx:idx+2]) and czy_nierosnacy(L[idx+1:idx+3])\n",
      "           or\n",
      "            czy_niemalejacy(L[idx:idx+2]) and czy_niemalejacy(L[idx+1:idx+3])\n",
      "           ):\n",
      "            return False\n",
      "    return True\n",
      "\n",
      "\n",
      "def podziel_na_podciagi(L, m=2):\n",
      "    \"\"\"\n",
      "    Funkcja zwraca listę wszystkich podciągów ciągu L o dlugosci m=2 lub większej\n",
      "    \"\"\"\n",
      "    podciagi = []\n",
      "    for dlugosc in range(m, len(L) + 1):  # 2, 3, 4, ..., n\n",
      "        podciagi.extend(podziel_na_n_elementowe_podciagi(L, dlugosc))\n",
      "    return podciagi\n",
      "\n",
      "\n",
      "def podciagi(L):\n",
      "    \"\"\"\n",
      "    Funkcja zwraca słownik rosnących, malejących i stałych \n",
      "    podciągów ciągu L o dlugosci 2 lub wiekszej.\n",
      "    \"\"\"\n",
      "    ret = {}\n",
      "    podciagi = podziel_na_podciagi(L, 2)\n",
      "    \n",
      "    rosnace = []\n",
      "    malejace = []\n",
      "    stale = []\n",
      "    for ciag in podciagi:\n",
      "        if czy_rosnacy(ciag):\n",
      "            rosnace.append(ciag)\n",
      "        if czy_malejacy(ciag):\n",
      "            malejace.append(ciag)\n",
      "        if czy_staly(ciag):\n",
      "            stale.append(ciag)\n",
      "            \n",
      "    ret['rosnace'] = rosnace\n",
      "    ret['malejace'] = malejace\n",
      "    ret['stale'] = stale\n",
      "    return ret\n",
      "\n",
      "\n",
      "for L in ([1, 2, 3, 4], [1, 3, 4, 2, 2]):\n",
      "    print(L, podciagi(L), sep=' -> ')"
     ]
    }
   ],
   "source": [
    "%%bash\n",
    "cat numseq.py"
   ]
  },
  {
   "cell_type": "code",
   "execution_count": 4,
   "metadata": {},
   "outputs": [
    {
     "name": "stdout",
     "output_type": "stream",
     "text": [
      "[1, 2, 3, 4] -> {'rosnace': [[1, 2], [2, 3], [3, 4], [1, 2, 3], [2, 3, 4], [1, 2, 3, 4]], 'malejace': [], 'stale': []}\n",
      "[1, 3, 4, 2, 2] -> {'rosnace': [[1, 3], [3, 4], [1, 3, 4]], 'malejace': [[4, 2]], 'stale': [[2, 2]]}\n"
     ]
    }
   ],
   "source": [
    "import numseq"
   ]
  },
  {
   "cell_type": "code",
   "execution_count": 5,
   "metadata": {},
   "outputs": [
    {
     "data": {
      "text/plain": [
       "False"
      ]
     },
     "execution_count": 5,
     "metadata": {},
     "output_type": "execute_result"
    }
   ],
   "source": [
    "numseq.czy_malejacy([1, 3, 6])"
   ]
  },
  {
   "cell_type": "code",
   "execution_count": 7,
   "metadata": {},
   "outputs": [
    {
     "data": {
      "text/plain": [
       "True"
      ]
     },
     "execution_count": 7,
     "metadata": {},
     "output_type": "execute_result"
    }
   ],
   "source": [
    "import numseq as ns\n",
    "ns.czy_rosnacy([1, 6, 9])"
   ]
  },
  {
   "cell_type": "code",
   "execution_count": 8,
   "metadata": {},
   "outputs": [],
   "source": [
    "from numseq import czy_rosnacy"
   ]
  },
  {
   "cell_type": "code",
   "execution_count": 9,
   "metadata": {},
   "outputs": [
    {
     "data": {
      "text/plain": [
       "True"
      ]
     },
     "execution_count": 9,
     "metadata": {},
     "output_type": "execute_result"
    }
   ],
   "source": [
    "# czy_ + TAB\n",
    "\n",
    "czy_rosnacy([3, 4, 5])"
   ]
  },
  {
   "cell_type": "code",
   "execution_count": 10,
   "metadata": {},
   "outputs": [],
   "source": [
    "from numseq import czy_rosnacy as cr"
   ]
  },
  {
   "cell_type": "code",
   "execution_count": 11,
   "metadata": {},
   "outputs": [
    {
     "data": {
      "text/plain": [
       "True"
      ]
     },
     "execution_count": 11,
     "metadata": {},
     "output_type": "execute_result"
    }
   ],
   "source": [
    "cr([10, 20, 30])"
   ]
  },
  {
   "cell_type": "code",
   "execution_count": 12,
   "metadata": {},
   "outputs": [],
   "source": [
    "# importowanie wiekszej ilosci funkcji\n",
    "\n",
    "from numseq import czy_malejacy, czy_staly"
   ]
  },
  {
   "cell_type": "code",
   "execution_count": 13,
   "metadata": {},
   "outputs": [
    {
     "data": {
      "text/plain": [
       "True"
      ]
     },
     "execution_count": 13,
     "metadata": {},
     "output_type": "execute_result"
    }
   ],
   "source": [
    "czy_staly([2, 2, 2, 2])"
   ]
  },
  {
   "cell_type": "code",
   "execution_count": null,
   "metadata": {},
   "outputs": [],
   "source": [
    "# import wszytskich możliwych funkcji, obiektow ktore znajduja sie w module numseq.py\n",
    "# tylko jeżeli jest krótki\n",
    "\n",
    "from numseq import *"
   ]
  },
  {
   "cell_type": "code",
   "execution_count": 23,
   "metadata": {},
   "outputs": [
    {
     "data": {
      "text/plain": [
       "8"
      ]
     },
     "execution_count": 23,
     "metadata": {},
     "output_type": "execute_result"
    }
   ],
   "source": [
    "def najwiekszy(L):\n",
    "    najwieksza_liczba = L[0]\n",
    "    for element in L:\n",
    "        if element > najwieksza_liczba:\n",
    "            najwieksza_liczba = element\n",
    "    return najwieksza_liczba\n",
    "\n",
    "najwiekszy([-1, 2, 8])"
   ]
  },
  {
   "cell_type": "code",
   "execution_count": 24,
   "metadata": {},
   "outputs": [
    {
     "data": {
      "text/plain": [
       "3"
      ]
     },
     "execution_count": 24,
     "metadata": {},
     "output_type": "execute_result"
    }
   ],
   "source": [
    "def najwiekszy(L):\n",
    "    \"\"\"Funckja zwraca największy element listy\"\"\"\n",
    "    x=0\n",
    "    for element in L:\n",
    "        if L[0]==element:\n",
    "            x=element\n",
    "        else: \n",
    "            if element>x:\n",
    "                x=element\n",
    "    return x\n",
    "  \n",
    "najwiekszy([1,2,3])"
   ]
  },
  {
   "cell_type": "code",
   "execution_count": 29,
   "metadata": {},
   "outputs": [],
   "source": [
    "import numseq"
   ]
  },
  {
   "cell_type": "code",
   "execution_count": 30,
   "metadata": {},
   "outputs": [],
   "source": [
    "import importlib "
   ]
  },
  {
   "cell_type": "code",
   "execution_count": 31,
   "metadata": {},
   "outputs": [
    {
     "name": "stdout",
     "output_type": "stream",
     "text": [
      "[1, 2, 3, 4] -> {'rosnace': [[1, 2], [2, 3], [3, 4], [1, 2, 3], [2, 3, 4], [1, 2, 3, 4]], 'malejace': [], 'stale': []}\n",
      "[1, 3, 4, 2, 2] -> {'rosnace': [[1, 3], [3, 4], [1, 3, 4]], 'malejace': [[4, 2]], 'stale': [[2, 2]]}\n"
     ]
    },
    {
     "data": {
      "text/plain": [
       "<module 'numseq' from '/home/users/paulina.cwielag/Podstawy programowania 2020/Labs/numseq.py'>"
      ]
     },
     "execution_count": 31,
     "metadata": {},
     "output_type": "execute_result"
    }
   ],
   "source": [
    "importlib.reload(numseq)"
   ]
  },
  {
   "cell_type": "code",
   "execution_count": 32,
   "metadata": {},
   "outputs": [
    {
     "name": "stdout",
     "output_type": "stream",
     "text": [
      "    Funkcja zwraca listę wszystkich podciągów ciągu L o dlugosci m=2 lub większej\n",
      "    for dlugosc in range(m, len(L) + 1):  # 2, 3, 4, ..., n\n",
      "        podciagi.extend(podziel_na_n_elementowe_podciagi(L, dlugosc))\n",
      "    podciągów ciągu L o dlugosci 2 lub wiekszej.\n",
      "def dlugosc(L): \n"
     ]
    }
   ],
   "source": [
    "%%bash\n",
    "grep dlugosc numseq.py"
   ]
  },
  {
   "cell_type": "code",
   "execution_count": 41,
   "metadata": {},
   "outputs": [],
   "source": [
    "with open('statystyka.py', 'w') as f:\n",
    "    f.write(\"\")"
   ]
  },
  {
   "cell_type": "code",
   "execution_count": 42,
   "metadata": {},
   "outputs": [],
   "source": [
    "import statystyka"
   ]
  },
  {
   "cell_type": "code",
   "execution_count": 44,
   "metadata": {},
   "outputs": [
    {
     "name": "stdout",
     "output_type": "stream",
     "text": [
      "Help on module statystyka:\n",
      "\n",
      "NAME\n",
      "    statystyka\n",
      "\n",
      "FILE\n",
      "    /home/users/paulina.cwielag/Podstawy programowania 2020/Labs/statystyka.py\n",
      "\n",
      "\n"
     ]
    }
   ],
   "source": [
    "help(statystyka)"
   ]
  },
  {
   "cell_type": "code",
   "execution_count": 45,
   "metadata": {},
   "outputs": [],
   "source": [
    "import importlib "
   ]
  },
  {
   "cell_type": "code",
   "execution_count": 46,
   "metadata": {},
   "outputs": [
    {
     "data": {
      "text/plain": [
       "<module 'statystyka' from '/home/users/paulina.cwielag/Podstawy programowania 2020/Labs/statystyka.py'>"
      ]
     },
     "execution_count": 46,
     "metadata": {},
     "output_type": "execute_result"
    }
   ],
   "source": [
    "importlib.reload(statystyka)"
   ]
  },
  {
   "cell_type": "code",
   "execution_count": 47,
   "metadata": {},
   "outputs": [
    {
     "name": "stdout",
     "output_type": "stream",
     "text": [
      "Help on module statystyka:\n",
      "\n",
      "NAME\n",
      "    statystyka\n",
      "\n",
      "DESCRIPTION\n",
      "    Moduł statystyka służy do obliczania podstawowych wielkości statystycznych \n",
      "    w oparciu o listy liczb (INT, FLOAT)\n",
      "\n",
      "DATA\n",
      "    L = [1, 3, 4, 2, 2]\n",
      "\n",
      "FILE\n",
      "    /home/users/paulina.cwielag/Podstawy programowania 2020/Labs/statystyka.py\n",
      "\n",
      "\n"
     ]
    }
   ],
   "source": [
    "help(statystyka)"
   ]
  },
  {
   "cell_type": "code",
   "execution_count": 48,
   "metadata": {},
   "outputs": [
    {
     "data": {
      "text/plain": [
       "0.14285714285714285"
      ]
     },
     "execution_count": 48,
     "metadata": {},
     "output_type": "execute_result"
    }
   ],
   "source": [
    "def srednia_harmoniczna(L):\n",
    "    from numseq import suma\n",
    "    suma = 0\n",
    "    for element in L:\n",
    "        suma += 1 / element\n",
    "    srednia = dlugosc / suma\n",
    "    return srednia\n",
    "    "
   ]
  },
  {
   "cell_type": "code",
   "execution_count": 53,
   "metadata": {},
   "outputs": [
    {
     "data": {
      "text/plain": [
       "5.108108108108109"
      ]
     },
     "execution_count": 53,
     "metadata": {},
     "output_type": "execute_result"
    }
   ],
   "source": [
    "def srednia_harmoniczna(L):\n",
    "    'Funkcja oblicza srednia harmoniczna'\n",
    "    \n",
    "    dlugosc_listy = numseq.dlugosc(L)\n",
    "\n",
    "    suma = 0\n",
    "    for element in L:\n",
    "        suma += 1/element\n",
    "        \n",
    "    srednia = dlugosc_listy / suma\n",
    "    return srednia\n",
    "\n",
    "srednia_harmoniczna([3, 9, 7])"
   ]
  },
  {
   "cell_type": "code",
   "execution_count": null,
   "metadata": {},
   "outputs": [],
   "source": []
  }
 ],
 "metadata": {
  "kernelspec": {
   "display_name": "Python 3 (ipykernel)",
   "language": "python",
   "name": "python3"
  },
  "language_info": {
   "codemirror_mode": {
    "name": "ipython",
    "version": 3
   },
   "file_extension": ".py",
   "mimetype": "text/x-python",
   "name": "python",
   "nbconvert_exporter": "python",
   "pygments_lexer": "ipython3",
   "version": "3.9.5"
  }
 },
 "nbformat": 4,
 "nbformat_minor": 2
}
