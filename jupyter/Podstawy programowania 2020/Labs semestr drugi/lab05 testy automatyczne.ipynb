{
 "cells": [
  {
   "cell_type": "code",
   "execution_count": 14,
   "metadata": {},
   "outputs": [],
   "source": [
    "def wszystkie_parzyste(L):\n",
    "    '''Funkcja sprawdza, czy wszystkie elementy listy są parzyste.'''\n",
    "    for element in L:\n",
    "        if element % 2 == 0:\n",
    "            return True\n",
    "        else:\n",
    "            return False"
   ]
  },
  {
   "cell_type": "code",
   "execution_count": 45,
   "metadata": {},
   "outputs": [
    {
     "name": "stdout",
     "output_type": "stream",
     "text": [
      "[0.4, 0.2], wynik: False, spodziewana: True\n"
     ]
    },
    {
     "data": {
      "text/plain": [
       "'Testy: 5, błędy: 1'"
      ]
     },
     "execution_count": 45,
     "metadata": {},
     "output_type": "execute_result"
    }
   ],
   "source": [
    "def wszystkie_parzyste(L):\n",
    "    '''Funkcja sprawdza, czy wszystkie elementy listy są parzyste.'''\n",
    "    for element in L:\n",
    "        if element % 2 == 0:\n",
    "            return True \n",
    "        else:\n",
    "            return False\n",
    "\n",
    "def test_suite_wszystkie_parzyste():\n",
    "    dane_testowe = [([3, 1, 7], False),\n",
    "             ([4, 2, 6], True),\n",
    "             ([-10, -22, 6], True),\n",
    "             ([0], True),\n",
    "             ([0.4, 0.2], True)\n",
    "             ]\n",
    "\n",
    "    bledy = 0\n",
    "    for argument, spodziewany_wynik in dane_testowe:\n",
    "        if wszystkie_parzyste(argument) != spodziewany_wynik:\n",
    "            print(f'{argument}, wynik: {wszystkie_parzyste(argument)}, spodziewana: {spodziewany_wynik}')\n",
    "            bledy += 1\n",
    "                  \n",
    "    return f'Testy: {len(dane_testowe)}, błędy: {bledy}'\n",
    "\n",
    "test_suite_wszystkie_parzyste()"
   ]
  },
  {
   "cell_type": "code",
   "execution_count": 44,
   "metadata": {},
   "outputs": [
    {
     "name": "stdout",
     "output_type": "stream",
     "text": [
      "[0.4, 0.2], wynik: False, spodziewana: True\n"
     ]
    },
    {
     "data": {
      "text/plain": [
       "'Testy: 5, błędy: 1'"
      ]
     },
     "execution_count": 44,
     "metadata": {},
     "output_type": "execute_result"
    }
   ],
   "source": [
    "test_suite_wszystkie_parzyste()"
   ]
  },
  {
   "cell_type": "code",
   "execution_count": 51,
   "metadata": {},
   "outputs": [
    {
     "data": {
      "text/plain": [
       "TestResults(failed=0, attempted=5)"
      ]
     },
     "execution_count": 51,
     "metadata": {},
     "output_type": "execute_result"
    }
   ],
   "source": [
    "def jest_rowna_zero(z):\n",
    "    '''Funkcja sprawdza, czy podana liczba jest równa zero.\n",
    "    \n",
    "    >>> jest_rowna_zero(3)\n",
    "    False\n",
    "    >>> jest_rowna_zero(0)\n",
    "    True\n",
    "    >>> jest_rowna_zero(1)\n",
    "    False\n",
    "    >>> jest_rowna_zero(0.67)\n",
    "    False\n",
    "    >>> jest_rowna_zero(-11)\n",
    "    False\n",
    "    '''\n",
    "    if  z == 0:\n",
    "        return True\n",
    "    else:\n",
    "        return False\n",
    "    \n",
    "import doctest\n",
    "doctest.testmod()"
   ]
  },
  {
   "cell_type": "code",
   "execution_count": null,
   "metadata": {},
   "outputs": [],
   "source": [
    "# testy glass box"
   ]
  },
  {
   "cell_type": "code",
   "execution_count": 57,
   "metadata": {},
   "outputs": [
    {
     "name": "stdout",
     "output_type": "stream",
     "text": [
      "**********************************************************************\n",
      "File \"__main__\", line 15, in __main__.is_prime\n",
      "Failed example:\n",
      "    is_prime(4)\n",
      "Expected:\n",
      "    False\n",
      "Got:\n",
      "    True\n",
      "**********************************************************************\n",
      "1 items had failures:\n",
      "   1 of   6 in __main__.is_prime\n",
      "***Test Failed*** 1 failures.\n"
     ]
    },
    {
     "data": {
      "text/plain": [
       "TestResults(failed=1, attempted=11)"
      ]
     },
     "execution_count": 57,
     "metadata": {},
     "output_type": "execute_result"
    }
   ],
   "source": [
    "def is_prime(x):\n",
    "    '''\n",
    "    Funkcja sprawdza, czy nieujemna liczba x jest liczbą pierwszą.\n",
    "    \n",
    "    >>> is_prime(1)\n",
    "    False\n",
    "    >>> is_prime(2)\n",
    "    True\n",
    "    >>> is_prime(15)\n",
    "    False\n",
    "    >>> is_prime(23)\n",
    "    True\n",
    "    >>> is_prime(0)\n",
    "    False\n",
    "    >>> is_prime(4)\n",
    "    False\n",
    "    '''\n",
    "    if x < 2:  # 0, 1, 2\n",
    "        return False\n",
    "    \n",
    "    for k in range(2, x // 2):\n",
    "        if x % k == 0:\n",
    "            return False\n",
    "\n",
    "    return True\n",
    "\n",
    "import doctest\n",
    "doctest.testmod()"
   ]
  },
  {
   "cell_type": "code",
   "execution_count": 56,
   "metadata": {},
   "outputs": [
    {
     "name": "stdout",
     "output_type": "stream",
     "text": [
      "_._     _,-'\"\"`-._\n",
      "(,-.`._,'(       |\\`-/|\n",
      "    `-.-' \\ )-`( , o o)\n",
      "          `-    \\`_`\"'-\n"
     ]
    }
   ],
   "source": [
    "def kitku():\n",
    "    '''Funkcja rysuje kitku'''\n",
    "    \n",
    "    cat = '''_._     _,-'\"\"`-._\\n(,-.`._,'(       |\\`-/|\\n    `-.-' \\ )-`( , o o)\\n          `-    \\`_`\"'-'''\n",
    "    \n",
    "    print(cat)\n",
    "\n",
    "kitku()"
   ]
  },
  {
   "cell_type": "code",
   "execution_count": null,
   "metadata": {},
   "outputs": [],
   "source": []
  }
 ],
 "metadata": {
  "kernelspec": {
   "display_name": "Python 3 (ipykernel)",
   "language": "python",
   "name": "python3"
  },
  "language_info": {
   "codemirror_mode": {
    "name": "ipython",
    "version": 3
   },
   "file_extension": ".py",
   "mimetype": "text/x-python",
   "name": "python",
   "nbconvert_exporter": "python",
   "pygments_lexer": "ipython3",
   "version": "3.9.5"
  }
 },
 "nbformat": 4,
 "nbformat_minor": 2
}
