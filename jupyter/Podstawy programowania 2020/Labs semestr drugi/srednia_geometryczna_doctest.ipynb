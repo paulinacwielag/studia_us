{
 "cells": [
  {
   "cell_type": "code",
   "execution_count": 14,
   "metadata": {},
   "outputs": [
    {
     "data": {
      "text/plain": [
       "TestResults(failed=0, attempted=7)"
      ]
     },
     "execution_count": 14,
     "metadata": {},
     "output_type": "execute_result"
    }
   ],
   "source": [
    "def srednia_geometryczna(L):\n",
    "    '''\n",
    "    Funkcja oblicza średnią geometryczną z liczb listy L.\n",
    "    WE: L - lista liczb\n",
    "    WY: FLOAT - średnia geometryczna liczb z listy L\n",
    "    \n",
    "    >>> srednia_geometryczna([1])\n",
    "    1.0\n",
    "    >>> srednia_geometryczna([2, 2, 2])\n",
    "    2.0\n",
    "    >>> srednia_geometryczna([1])\n",
    "    1.0\n",
    "    >>> srednia_geometryczna([4, 6, 8, 10])\n",
    "    6.6195\n",
    "    >>> srednia_geometryczna([])\n",
    "    0.0\n",
    "    >>> srednia_geometryczna([0])\n",
    "    0.0\n",
    "    >>> srednia_geometryczna([3.2, 2.4, 8.9, 5.6])\n",
    "    4.42318\n",
    "    '''\n",
    "    from math import sqrt\n",
    "    srednia = 1\n",
    "    i = 0\n",
    "    while L:\n",
    "        srednia = srednia * L.pop()\n",
    "        i += 1\n",
    "    if i != 0:\n",
    "        return round(srednia ** (1/i), 5)\n",
    "    else:\n",
    "        return 0.0\n",
    "\n",
    "import doctest\n",
    "doctest.testmod()"
   ]
  }
 ],
 "metadata": {
  "kernelspec": {
   "display_name": "Python 3",
   "language": "python",
   "name": "python3"
  },
  "language_info": {
   "codemirror_mode": {
    "name": "ipython",
    "version": 3
   },
   "file_extension": ".py",
   "mimetype": "text/x-python",
   "name": "python",
   "nbconvert_exporter": "python",
   "pygments_lexer": "ipython3",
   "version": "3.7.3"
  }
 },
 "nbformat": 4,
 "nbformat_minor": 2
}
