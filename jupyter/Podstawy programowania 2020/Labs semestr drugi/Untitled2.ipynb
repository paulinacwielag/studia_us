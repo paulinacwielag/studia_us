{
 "cells": [
  {
   "cell_type": "code",
   "execution_count": 1,
   "metadata": {},
   "outputs": [],
   "source": [
    "class Rakieta:\n",
    "    '''Rakieta'''\n",
    "    \n",
    "    def __init__(self, pozycja=(0, 0)):\n",
    "        self.set_pozycja(pozycja)\n",
    "    \n",
    "    def sprawdz_pozycje(pozycja):  # NIE MA self !!!\n",
    "        assert isinstance(pozycja, (tuple, list)), 'pozycja powinna być listą/krotką'\n",
    "        assert len(pozycja) == 2, 'pozycja powinna mieć 2 elementy'\n",
    "        assert isinstance(pozycja[0], (int, float)), '1 element pozycji ma być liczbą'\n",
    "        assert isinstance(pozycja[1], (int, float)), '2 element pozycji ma być liczbą'     \n",
    "        assert pozycja[1] >= 0, 'drugi element pozycji >= 0'\n",
    "    \n",
    "    def get_pozycja(self):\n",
    "        return self.pozycja\n",
    "    \n",
    "    def set_pozycja(self, nowa_pozycja):\n",
    "        'ustaw var jako nową wartość pozycji'\n",
    "        Rakieta.sprawdz_pozycje(nowa_pozycja)  # __class__.sprawdz_pozycje(nowa_pozycja)\n",
    "        self.pozycja = nowa_pozycja\n",
    "        \n",
    "    def przesun_rakiete(self, przesuniecie):\n",
    "        x, y = self.get_pozycja()  # czytaj pozycję\n",
    "        dx, dy = przesuniecie  # czytaj przesuniecie\n",
    "        nowa_pozycja = (x + dx, y + dy)  # oblicz nowa pozycje\n",
    "        self.set_pozycja(nowa_pozycja)  # ustaw nową pozycję\n",
    "        \n",
    "    def w_gore(self, gora):\n",
    "        self.przesun_rakiete((0, gora))\n",
    "        \n",
    "    def w_dol(self, dol):\n",
    "        self.przesun_rakiete((0, -dol))\n",
    "        \n",
    "    def w_prawo(self, prawo):\n",
    "        self.przesun_rakiete((prawo, 0))\n",
    "        \n",
    "    def w_lewo(self, lewo):\n",
    "        self.przesun_rakiete((-lewo, 0))\n",
    "        \n",
    "    def laduj(self):\n",
    "        x, y = self.get_pozycja()\n",
    "        self.set_pozycja((x, 0))\n",
    "        \n",
    "    def __repr__(self):\n",
    "        return f'Rakieta na pozycji {self.get_pozycja()}'\n",
    "    \n",
    "    def __str__(self):\n",
    "        return self.__repr__()\n",
    "\n",
    "\n",
    "class TwinTail(Rakieta):\n",
    "    '''Twin Tail'''\n",
    "    \n",
    "    def __init__(self, pozycja = (0, 0), wytrzymalosc = 0, moc = 0):\n",
    "        self.set_moc(moc)\n",
    "        self.set_wytrzymalosc(wytrzymalosc)\n",
    "        Rakieta.__init__(self, pozycja = pozycja)\n",
    "        \n",
    "    def get_moc(self):\n",
    "        return self.moc\n",
    "    \n",
    "    def set_moc(self, moc):\n",
    "        assert isinstance(moc, (int, float)), 'moc musi być INT'\n",
    "        assert moc >= 0\n",
    "        self.moc = moc\n",
    "        \n",
    "    def get_wytrzymalosc(self):\n",
    "        return self.wytrzymalosc\n",
    "    \n",
    "    def set_wytrzymalosc(self, wytrzymalosc):\n",
    "        assert isinstance(wytrzymalosc, (int, float)), 'wytrzymalosc musi być INT'\n",
    "        assert wytrzymalosc >= 0\n",
    "        self.wytrzymalosc = wytrzymalosc\n",
    "        \n",
    "    def __repr__(self):\n",
    "        return f'Twin Tail na pozycji {self.get_pozycja()} o mocy {self.get_moc()} i wytrzymałości {self.get_wytrzymalosc()}.'\n",
    "                 \n",
    "    def czy_mocniejsza(self, other):\n",
    "        moc_self = self.get_moc()\n",
    "        moc_other = other.get_moc()\n",
    "        return moc_self > moc_other\n",
    "                 \n",
    "    def czy_wytrzymalszy(self, other):\n",
    "        wytrzymalosc_self = self.get_wytrzymalosc()\n",
    "        wytrzymalosc_other = other.get_wytrzymalosc()\n",
    "        return wytrzymalosc_self > wytrzymalosc_other\n",
    "    \n",
    "    def sumuj_moc(self, other, other2):\n",
    "        moc_self = self.get_moc()\n",
    "        moc_other = other.get_moc()\n",
    "        moc_other2 = other.get_moc()\n",
    "        return moc_self + moc_other + moc_other2"
   ]
  },
  {
   "cell_type": "code",
   "execution_count": 7,
   "metadata": {},
   "outputs": [
    {
     "data": {
      "text/plain": [
       "Twin Tail na pozycji (-30, 100) o mocy 240 i wytrzymałości 0."
      ]
     },
     "execution_count": 7,
     "metadata": {},
     "output_type": "execute_result"
    }
   ],
   "source": [
    "rA = TwinTail(pozycja = (0, 0), moc = 240)\n",
    "rA.w_gore(100)\n",
    "rA.w_prawo(30)\n",
    "rA.w_lewo(60)\n",
    "rA"
   ]
  },
  {
   "cell_type": "code",
   "execution_count": 8,
   "metadata": {},
   "outputs": [
    {
     "name": "stdout",
     "output_type": "stream",
     "text": [
      "Twin Tail na pozycji (100, 100) o mocy 100 i wytrzymałości 300.\n",
      "Twin Tail na pozycji (-100, 100) o mocy 200 i wytrzymałości 170.\n"
     ]
    }
   ],
   "source": [
    "rA = TwinTail(pozycja = (100, 100), wytrzymalosc = 300, moc = 100)\n",
    "print(rA)\n",
    "rB = TwinTail(pozycja = (-100, 100), wytrzymalosc = 170, moc = 200)\n",
    "print(rB)"
   ]
  },
  {
   "cell_type": "code",
   "execution_count": 9,
   "metadata": {},
   "outputs": [
    {
     "name": "stdout",
     "output_type": "stream",
     "text": [
      "True\n",
      "False\n"
     ]
    }
   ],
   "source": [
    "print(rB.czy_mocniejsza(rA))\n",
    "print(rB.czy_wytrzymalszy(rA))"
   ]
  },
  {
   "cell_type": "code",
   "execution_count": 18,
   "metadata": {},
   "outputs": [],
   "source": [
    "class Czworobok:\n",
    "    '''Klasa Czworobok'''\n",
    "    \n",
    "    def __init__(self, a, b, c, d):\n",
    "        self.set_a(a)\n",
    "        self.set_b(b)\n",
    "        self.set_c(c)\n",
    "        self.set_d(d)\n",
    "        \n",
    "    def sprawdz_bok(bok):\n",
    "        assert isinstance(bok, (int, float))\n",
    "        assert bok > 0\n",
    "        \n",
    "    def get_a(self):\n",
    "        return self.a\n",
    "    \n",
    "    def set_a(self, bok):\n",
    "        __class__.sprawdz_bok(bok)\n",
    "        self.a = bok\n",
    "        \n",
    "    def get_b(self):\n",
    "        return self.b\n",
    "    \n",
    "    def set_b(self, bok):\n",
    "        __class__.sprawdz_bok(bok)\n",
    "        self.b = bok\n",
    "        \n",
    "    def get_c(self):\n",
    "        return self.c\n",
    "    \n",
    "    def set_c(self, bok):\n",
    "        __class__.sprawdz_bok(bok)\n",
    "        self.c = bok\n",
    "        \n",
    "    def get_d(self):\n",
    "        return self.d\n",
    "    \n",
    "    def set_d(self, bok):\n",
    "        __class__.sprawdz_bok(bok)\n",
    "        self.d = bok\n",
    "        \n",
    "    def obwod(self):\n",
    "        return self.get_a() + self.get_b() + self.get_c() + self.get_d()\n",
    "    \n",
    "    def pole(self):\n",
    "        raise NotImplementedError('Pole nie zaimplementowane')\n",
    "        \n",
    "    def czy_wiekszy(self, other):\n",
    "        return self.obwod() > other.obwod()\n",
    "    \n",
    "    def __gt__(self, other): # (nie obowiazuje na egzaminie) \"wieksze od\"\n",
    "        return self.obwod() > other.obwod()\n",
    "    \n",
    "    def __eq__(self, other): #równa się\n",
    "        return self.obwod() == other.obwod()\n",
    "    \n",
    "    def __str__(self):\n",
    "        return f'Czworobok o obwodzie {self.obwod()}.'\n",
    "    \n",
    "    def __repr__(self):\n",
    "        return str(self)"
   ]
  },
  {
   "cell_type": "code",
   "execution_count": 19,
   "metadata": {},
   "outputs": [
    {
     "data": {
      "text/plain": [
       "6"
      ]
     },
     "execution_count": 19,
     "metadata": {},
     "output_type": "execute_result"
    }
   ],
   "source": [
    "c = Czworobok(1, 2, 2, 1)\n",
    "c.obwod()"
   ]
  },
  {
   "cell_type": "code",
   "execution_count": 20,
   "metadata": {},
   "outputs": [],
   "source": [
    "class Prostokat(Czworobok):\n",
    "    \n",
    "    def __init__(self, a, b):\n",
    "        Czworobok.__init__(self, a, b, a, b)\n",
    "        \n",
    "    def pole(self):\n",
    "        return self.get_a() * self.get_b()\n",
    "    \n",
    "    def __str__(self):\n",
    "        return f'{self.__class__.__name__} o obwodzie {self.obwod} i polu {self.pole()}'"
   ]
  },
  {
   "cell_type": "code",
   "execution_count": 21,
   "metadata": {},
   "outputs": [],
   "source": [
    "class Kwadrat(Prostokat):\n",
    "    def __init__(self, a):\n",
    "        Prostokat.__init__(self, a, a)"
   ]
  },
  {
   "cell_type": "code",
   "execution_count": null,
   "metadata": {},
   "outputs": [],
   "source": []
  }
 ],
 "metadata": {
  "kernelspec": {
   "display_name": "Python 3 (ipykernel)",
   "language": "python",
   "name": "python3"
  },
  "language_info": {
   "codemirror_mode": {
    "name": "ipython",
    "version": 3
   },
   "file_extension": ".py",
   "mimetype": "text/x-python",
   "name": "python",
   "nbconvert_exporter": "python",
   "pygments_lexer": "ipython3",
   "version": "3.9.5"
  }
 },
 "nbformat": 4,
 "nbformat_minor": 2
}
