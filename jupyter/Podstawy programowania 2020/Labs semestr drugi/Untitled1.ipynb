{
 "cells": [
  {
   "cell_type": "code",
   "execution_count": 11,
   "metadata": {},
   "outputs": [],
   "source": [
    "class Koliber:\n",
    "    '''Koliber'''\n",
    "    \n",
    "    def __init__(self, wielkosc, pozycja = (0, 0)):\n",
    "        self.set_wielkosc(wielkosc)\n",
    "        self.set_pozycja(pozycja)\n",
    "        \n",
    "    def get_wielkosc(self):\n",
    "        return self.wielkosc\n",
    "    \n",
    "    def sprawdz_wielkosc(wielkosc):\n",
    "        assert isinstance(var, str), 'wielkość musi być STR'\n",
    "    \n",
    "    def set_wielkosc(self, nowa_wielkosc):\n",
    "        'ustaw var jako nową wartość wielkości'\n",
    "        Koliber.sprawdz_wielkosc(nowa_wielkosc)\n",
    "        self.kierunek = nowa_wielkosc\n",
    "        \n",
    "    def get_pozycja(self):\n",
    "        return self.pozycja\n",
    "    \n",
    "    def sprawdz_pozycje(pozycja):\n",
    "        assert isinstance(nowa_pozycja, (tuple, list)), 'poycja powinna być listą/krotką'\n",
    "        assert len(nowa_pozycja) == 2, 'pozycja powinna mieć 2 elementy'\n",
    "        assert isinstance(nowa_pozycja[0], (int, float)), '1 element pozycji ma być liczbą'\n",
    "        assert isinstance(nowa_pozycja[1], (int, float)), '2 element pozycji ma być liczbą'\n",
    "        assert nowa_pozycja[1] >= 0, 'drugi element pozycji >= 0'\n",
    "        \n",
    "    def set_pozycja(self, nowa_pozycja):\n",
    "        'ustaw var jako nową wartość pozycji'\n",
    "        Koliber.sprawdz_pozycje(nowa_pozycja)\n",
    "        self.pozycja = nowa_pozycja\n",
    "        \n",
    "    def przelec(self, ruch):\n",
    "        x, y = self.get_pozycja()\n",
    "        dx, dy = ruch\n",
    "        nowa_pozycja = (x + dx, y + dy)\n",
    "        self.set_pozycja(nowa_pozycja)\n",
    "        \n",
    "    def __repr__(self):\n",
    "        return f'Rakieta na pozycji {self.get_pozycja()}'\n",
    "        \n",
    "    def __str__(self):\n",
    "        return self.__repr__()"
   ]
  },
  {
   "cell_type": "code",
   "execution_count": null,
   "metadata": {},
   "outputs": [],
   "source": []
  },
  {
   "cell_type": "code",
   "execution_count": null,
   "metadata": {},
   "outputs": [],
   "source": []
  }
 ],
 "metadata": {
  "kernelspec": {
   "display_name": "Python 3 (ipykernel)",
   "language": "python",
   "name": "python3"
  },
  "language_info": {
   "codemirror_mode": {
    "name": "ipython",
    "version": 3
   },
   "file_extension": ".py",
   "mimetype": "text/x-python",
   "name": "python",
   "nbconvert_exporter": "python",
   "pygments_lexer": "ipython3",
   "version": "3.9.5"
  }
 },
 "nbformat": 4,
 "nbformat_minor": 2
}
