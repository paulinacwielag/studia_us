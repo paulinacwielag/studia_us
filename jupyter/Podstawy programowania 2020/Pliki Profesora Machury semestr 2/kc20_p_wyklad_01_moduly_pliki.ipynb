{
 "cells": [
  {
   "cell_type": "markdown",
   "metadata": {
    "id": "Dcpk7GJALOdw"
   },
   "source": [
    "# Komunikacja Cyfrowa\n",
    "## Programowanie, wykład 1, ra 2020-21\n",
    "\n",
    "### Zmienne globalne, moduły, obsługa plików"
   ]
  },
  {
   "cell_type": "code",
   "execution_count": null,
   "metadata": {
    "id": "MPfHTcpELOdx"
   },
   "outputs": [],
   "source": [
    ""
   ]
  },
  {
   "cell_type": "markdown",
   "metadata": {
    "id": "w5TmOqQLLOdy"
   },
   "source": [
    "### zmienne globalne i nielokalne\n",
    "\n",
    "* `global` - jest deklaracją, która dotyczy całego bieżącego bloku kodu. Oznacza to, że wymienione identyfikatory mają być interpretowane jako globalne. Nie byłoby możliwe przypisanie do zmiennej globalnej bez zmiennej globalnej, chociaż zmienne wolne mogą odnosić się do zmiennych globalnych bez zadeklarowania ich jako globalne.\n",
    "* `nonlocal` - powoduje, że wymienione identyfikatory odwołują się do poprzednio powiązanych zmiennych w najbliższym obejmującym zakresie **z wyłączeniem zakresów globalnych**. Jest to ważne, ponieważ domyślne zachowanie wiązania polega na przeszukaniu najpierw lokalnej przestrzeni nazw. Instrukcja umożliwia hermetyzowanemu kodowi ponowne wiązanie zmiennych poza zakresem lokalnym, poza zakresem globalnym (modułu)."
   ]
  },
  {
   "cell_type": "code",
   "execution_count": null,
   "metadata": {
    "id": "QCVaeMSjLOdy",
    "outputId": "e6cd48f6-0a61-4895-9ae6-cf53ce4a95ab"
   },
   "outputs": [
    {
     "name": "stdout",
     "output_type": "stream",
     "text": [
      "{'b': <function a.<locals>.b at 0x7ff7596a3ae8>, 'x': 20}\n",
      "20\n",
      "-10\n"
     ]
    }
   ],
   "source": [
    "def a():\n",
    "    x = 10  # zmienna lokalna w a()\n",
    "    def b():\n",
    "        nonlocal x  # odwołanie do zm. nielokalnej w b() - czyli do x z a()\n",
    "#         global x  # odwołanie do zm. globalnej x (tej w __main__)\n",
    "        x += 10\n",
    "    b()\n",
    "    print(locals())\n",
    "    return x\n",
    "\n",
    "\n",
    "x = -10  # zmienna globalna x\n",
    "print(a())\n",
    "print(x)"
   ]
  },
  {
   "cell_type": "code",
   "execution_count": null,
   "metadata": {
    "id": "o0wZezvMLOdz",
    "outputId": "094f4b65-f222-48cd-d769-5c4d1a44fa4f"
   },
   "outputs": [
    {
     "data": {
      "text/plain": [
       "-10"
      ]
     },
     "execution_count": 5,
     "metadata": {
      "tags": []
     },
     "output_type": "execute_result"
    }
   ],
   "source": [
    "globals()['x']"
   ]
  },
  {
   "cell_type": "code",
   "execution_count": null,
   "metadata": {
    "id": "cOrW1CHfLOdz"
   },
   "outputs": [],
   "source": [
    ""
   ]
  },
  {
   "cell_type": "code",
   "execution_count": null,
   "metadata": {
    "id": "FTPNzQu_LOdz"
   },
   "outputs": [],
   "source": [
    "def fib(x):\n",
    "    global licznik\n",
    "    licznik += 1\n",
    "    \n",
    "    if x in [0, 1]:\n",
    "        return 1\n",
    "    else:\n",
    "        return fib(x - 1) + fib(x - 2)\n",
    "    \n",
    "\n",
    "def test_fib(n):\n",
    "    global licznik\n",
    "    for i in range(n + 1):\n",
    "        licznik = 0\n",
    "        print(f'{i}-ty wyraz ciągu Fibonacciego = {fib(i)}', end='\\t')\n",
    "        print(f'funkcję wywołano {licznik} razy')"
   ]
  },
  {
   "cell_type": "code",
   "execution_count": null,
   "metadata": {
    "id": "JdIjg15sLOd0",
    "outputId": "577ee5bd-7c78-4e70-9667-42742577bb8c"
   },
   "outputs": [
    {
     "name": "stdout",
     "output_type": "stream",
     "text": [
      "0-ty wyraz ciągu Fibonacciego = 1\tfunkcję wywołano 1 razy\n",
      "1-ty wyraz ciągu Fibonacciego = 1\tfunkcję wywołano 1 razy\n",
      "2-ty wyraz ciągu Fibonacciego = 2\tfunkcję wywołano 3 razy\n",
      "3-ty wyraz ciągu Fibonacciego = 3\tfunkcję wywołano 5 razy\n",
      "4-ty wyraz ciągu Fibonacciego = 5\tfunkcję wywołano 9 razy\n",
      "5-ty wyraz ciągu Fibonacciego = 8\tfunkcję wywołano 15 razy\n",
      "6-ty wyraz ciągu Fibonacciego = 13\tfunkcję wywołano 25 razy\n",
      "7-ty wyraz ciągu Fibonacciego = 21\tfunkcję wywołano 41 razy\n",
      "8-ty wyraz ciągu Fibonacciego = 34\tfunkcję wywołano 67 razy\n",
      "9-ty wyraz ciągu Fibonacciego = 55\tfunkcję wywołano 109 razy\n",
      "10-ty wyraz ciągu Fibonacciego = 89\tfunkcję wywołano 177 razy\n",
      "11-ty wyraz ciągu Fibonacciego = 144\tfunkcję wywołano 287 razy\n",
      "12-ty wyraz ciągu Fibonacciego = 233\tfunkcję wywołano 465 razy\n",
      "13-ty wyraz ciągu Fibonacciego = 377\tfunkcję wywołano 753 razy\n",
      "14-ty wyraz ciągu Fibonacciego = 610\tfunkcję wywołano 1219 razy\n",
      "15-ty wyraz ciągu Fibonacciego = 987\tfunkcję wywołano 1973 razy\n",
      "16-ty wyraz ciągu Fibonacciego = 1597\tfunkcję wywołano 3193 razy\n",
      "17-ty wyraz ciągu Fibonacciego = 2584\tfunkcję wywołano 5167 razy\n",
      "18-ty wyraz ciągu Fibonacciego = 4181\tfunkcję wywołano 8361 razy\n",
      "19-ty wyraz ciągu Fibonacciego = 6765\tfunkcję wywołano 13529 razy\n",
      "20-ty wyraz ciągu Fibonacciego = 10946\tfunkcję wywołano 21891 razy\n"
     ]
    }
   ],
   "source": [
    "test_fib(20)"
   ]
  },
  {
   "cell_type": "code",
   "execution_count": null,
   "metadata": {
    "id": "q9lekuyeLOd0"
   },
   "outputs": [],
   "source": [
    ""
   ]
  },
  {
   "cell_type": "code",
   "execution_count": null,
   "metadata": {
    "id": "N9ZHy-eZLOd0"
   },
   "outputs": [],
   "source": [
    ""
   ]
  },
  {
   "cell_type": "markdown",
   "metadata": {
    "id": "xtPjylABLOd1"
   },
   "source": [
    "### moduły"
   ]
  },
  {
   "cell_type": "code",
   "execution_count": null,
   "metadata": {
    "id": "YVX5DiuZLOd1"
   },
   "outputs": [],
   "source": [
    "# znamy już...\n",
    "import math\n",
    "# math.pi"
   ]
  },
  {
   "cell_type": "code",
   "execution_count": null,
   "metadata": {
    "id": "BJFmOHgcLOd1",
    "outputId": "1d26dbf6-0c1a-44ca-8fe1-a242ccd430ed"
   },
   "outputs": [
    {
     "data": {
      "text/plain": [
       "3.141592653589793"
      ]
     },
     "execution_count": 13,
     "metadata": {
      "tags": []
     },
     "output_type": "execute_result"
    }
   ],
   "source": [
    "import math as matematyka\n",
    "import math as m\n",
    "matematyka.pi\n",
    "m.pi"
   ]
  },
  {
   "cell_type": "code",
   "execution_count": null,
   "metadata": {
    "id": "6g2WoiEXLOd1",
    "outputId": "eb845035-4339-40d1-9739-d10fb4ec3e22"
   },
   "outputs": [
    {
     "data": {
      "text/plain": [
       "3.141592653589793"
      ]
     },
     "execution_count": 14,
     "metadata": {
      "tags": []
     },
     "output_type": "execute_result"
    }
   ],
   "source": [
    "from math import pi\n",
    "pi"
   ]
  },
  {
   "cell_type": "code",
   "execution_count": null,
   "metadata": {
    "id": "7kUSe0i5LOd2",
    "outputId": "37927550-24ce-447a-c7eb-e78d64787ea0"
   },
   "outputs": [
    {
     "data": {
      "text/plain": [
       "3.141592653589793"
      ]
     },
     "execution_count": 15,
     "metadata": {
      "tags": []
     },
     "output_type": "execute_result"
    }
   ],
   "source": [
    "from math import pi as liczba_pi\n",
    "liczba_pi"
   ]
  },
  {
   "cell_type": "code",
   "execution_count": null,
   "metadata": {
    "id": "8ZPC0vRVLOd2"
   },
   "outputs": [],
   "source": [
    "# # !!!\n",
    "# from math import *\n",
    "# # !!!"
   ]
  },
  {
   "cell_type": "code",
   "execution_count": null,
   "metadata": {
    "id": "0HBBsv-hLOd2"
   },
   "outputs": [],
   "source": [
    ""
   ]
  },
  {
   "cell_type": "markdown",
   "metadata": {
    "id": "hBJMl3kULOd2"
   },
   "source": [
    "### własny moduł - `circle.py`"
   ]
  },
  {
   "cell_type": "code",
   "execution_count": null,
   "metadata": {
    "id": "OGW8ruhjLOd2",
    "outputId": "daaebcfb-5eea-46ad-c5c8-a8a2fc29a959"
   },
   "outputs": [
    {
     "name": "stdout",
     "output_type": "stream",
     "text": [
      "Hello World from Circle Module!\n"
     ]
    }
   ],
   "source": [
    "import circle"
   ]
  },
  {
   "cell_type": "code",
   "execution_count": null,
   "metadata": {
    "id": "upXXYv4_LOd3",
    "outputId": "a3b9d5b9-8ac6-4d7c-f355-52e7ab2c5b58"
   },
   "outputs": [
    {
     "data": {
      "text/plain": [
       "['__builtins__',\n",
       " '__cached__',\n",
       " '__doc__',\n",
       " '__file__',\n",
       " '__loader__',\n",
       " '__name__',\n",
       " '__package__',\n",
       " '__spec__',\n",
       " 'objetosc_sfery',\n",
       " 'obwod',\n",
       " 'pi',\n",
       " 'pole',\n",
       " 'pole_sfery']"
      ]
     },
     "execution_count": 8,
     "metadata": {
      "tags": []
     },
     "output_type": "execute_result"
    }
   ],
   "source": [
    "dir(circle)"
   ]
  },
  {
   "cell_type": "code",
   "execution_count": null,
   "metadata": {
    "id": "akZEbtkgLOd3",
    "outputId": "5f9dbe4a-5bfd-4c4f-f507-f093bb95579f"
   },
   "outputs": [
    {
     "data": {
      "text/plain": [
       "function"
      ]
     },
     "execution_count": 9,
     "metadata": {
      "tags": []
     },
     "output_type": "execute_result"
    }
   ],
   "source": [
    "type(circle.obwod)"
   ]
  },
  {
   "cell_type": "code",
   "execution_count": null,
   "metadata": {
    "id": "WUOEe2bWLOd3",
    "outputId": "bf7484b2-31b3-440f-e2de-05f848ef60b2"
   },
   "outputs": [
    {
     "data": {
      "text/plain": [
       "3.14159265359"
      ]
     },
     "execution_count": 10,
     "metadata": {
      "tags": []
     },
     "output_type": "execute_result"
    }
   ],
   "source": [
    "circle.pi"
   ]
  },
  {
   "cell_type": "code",
   "execution_count": null,
   "metadata": {
    "id": "lbSkzPcOLOd3"
   },
   "outputs": [],
   "source": [
    "# help(circle)"
   ]
  },
  {
   "cell_type": "code",
   "execution_count": null,
   "metadata": {
    "id": "8fcCcHo0LOd4"
   },
   "outputs": [],
   "source": [
    "circle.pi = 3.14"
   ]
  },
  {
   "cell_type": "code",
   "execution_count": null,
   "metadata": {
    "id": "H54UU3jCLOd4"
   },
   "outputs": [],
   "source": [
    "pi = 3.1"
   ]
  },
  {
   "cell_type": "code",
   "execution_count": null,
   "metadata": {
    "id": "uX_CYQRcLOd4",
    "outputId": "8871041e-9501-4975-8ac9-46808f158120"
   },
   "outputs": [
    {
     "name": "stdout",
     "output_type": "stream",
     "text": [
      "3.14159265359\n",
      "452.38934211696\n",
      "12.56637061436\n",
      "50.26548245744\n",
      "7238.22947387136\n"
     ]
    }
   ],
   "source": [
    "print(circle.pi)\n",
    "print(circle.pole(12))\n",
    "print(circle.obwod(2))\n",
    "print(circle.pole_sfery(2))\n",
    "print(circle.objetosc_sfery(12))"
   ]
  },
  {
   "cell_type": "code",
   "execution_count": null,
   "metadata": {
    "id": "y8pY48-1LOd4",
    "outputId": "4e993b9e-1cae-4dc2-ed40-3c913d7bb2bb"
   },
   "outputs": [
    {
     "name": "stdout",
     "output_type": "stream",
     "text": [
      "4\n"
     ]
    }
   ],
   "source": [
    "print(circle.srednica(2))"
   ]
  },
  {
   "cell_type": "code",
   "execution_count": null,
   "metadata": {
    "id": "bFir_IsnLOd5"
   },
   "outputs": [],
   "source": [
    "import importlib"
   ]
  },
  {
   "cell_type": "code",
   "execution_count": null,
   "metadata": {
    "id": "vLY-SI85LOd5",
    "outputId": "4ba8d01b-471c-45e5-a980-6d6fdef5d739"
   },
   "outputs": [
    {
     "data": {
      "text/plain": [
       "<module 'circle' from '/home/users/lukasz.machura/uni/kc/Programowanie/kc20_p_wyklad/circle.py'>"
      ]
     },
     "execution_count": 10,
     "metadata": {
      "tags": []
     },
     "output_type": "execute_result"
    }
   ],
   "source": [
    "importlib.reload(circle)"
   ]
  },
  {
   "cell_type": "code",
   "execution_count": null,
   "metadata": {
    "id": "1QUyaL5TLOd5"
   },
   "outputs": [],
   "source": [
    ""
   ]
  },
  {
   "cell_type": "markdown",
   "metadata": {
    "id": "MlUb5QaKLOd5"
   },
   "source": [
    "## Obsługa plików\n",
    "* `open`\n",
    "* `with`"
   ]
  },
  {
   "cell_type": "code",
   "execution_count": null,
   "metadata": {
    "id": "HW4DHoBvLOd5"
   },
   "outputs": [],
   "source": [
    "uchwyt = open('studenci', 'w')"
   ]
  },
  {
   "cell_type": "code",
   "execution_count": null,
   "metadata": {
    "id": "h3qBYt_WLOd5",
    "outputId": "94bcfe4b-99f2-45fd-c133-dd96b19b1dac"
   },
   "outputs": [
    {
     "name": "stdout",
     "output_type": "stream",
     "text": [
      "podaj nazwisko Kajko\n",
      "podaj nazwisko Kokosz\n"
     ]
    }
   ],
   "source": [
    "for i in range(2):\n",
    "    nazwisko = input('podaj nazwisko ')\n",
    "    uchwyt.write(nazwisko + '\\n')\n",
    "uchwyt.close()"
   ]
  },
  {
   "cell_type": "code",
   "execution_count": null,
   "metadata": {
    "id": "P6jZovttLOd6",
    "outputId": "8cd33905-c364-419f-afa5-934422b24a7a"
   },
   "outputs": [
    {
     "data": {
      "text/plain": [
       "'\\n \\t \\r \\x08 \\\\ \\' \"  \" '"
      ]
     },
     "execution_count": 14,
     "metadata": {
      "tags": []
     },
     "output_type": "execute_result"
    }
   ],
   "source": [
    "'\\n \\t \\r \\b \\\\ \\' \\\"  \" '"
   ]
  },
  {
   "cell_type": "code",
   "execution_count": null,
   "metadata": {
    "id": "iZQpeoBHLOd6",
    "outputId": "0cbf30ad-7ff9-4325-ba67-489a30639729"
   },
   "outputs": [
    {
     "data": {
      "text/plain": [
       "_io.TextIOWrapper"
      ]
     },
     "execution_count": 15,
     "metadata": {
      "tags": []
     },
     "output_type": "execute_result"
    }
   ],
   "source": [
    "type(uchwyt)"
   ]
  },
  {
   "cell_type": "code",
   "execution_count": null,
   "metadata": {
    "id": "WluzPo50LOd6",
    "outputId": "cfe065de-c614-4ed9-9aee-c461afcab9f1"
   },
   "outputs": [
    {
     "data": {
      "text/plain": [
       "True"
      ]
     },
     "execution_count": 20,
     "metadata": {
      "tags": []
     },
     "output_type": "execute_result"
    }
   ],
   "source": [
    "uchwyt.closed"
   ]
  },
  {
   "cell_type": "code",
   "execution_count": null,
   "metadata": {
    "id": "oMOy-03eLOd6",
    "outputId": "8d0bf540-835d-4bf2-ad15-e9dc3a077bb4"
   },
   "outputs": [
    {
     "name": "stdout",
     "output_type": "stream",
     "text": [
      "__pycache__\n",
      "circle.py\n",
      "kc20_p_wyklad_01_moduly_pliki.ipynb\n",
      "studenci\n"
     ]
    }
   ],
   "source": [
    "%%bash\n",
    "ls"
   ]
  },
  {
   "cell_type": "code",
   "execution_count": null,
   "metadata": {
    "id": "gvxjMixwLOd7",
    "outputId": "317deedb-af27-41d3-b64d-d194fb99ed89"
   },
   "outputs": [
    {
     "name": "stdout",
     "output_type": "stream",
     "text": [
      "Kajko\n",
      "\n",
      "Kokosz\n",
      "\n"
     ]
    }
   ],
   "source": [
    "with open('studenci') as h:\n",
    "    for line in h:\n",
    "        print(line)"
   ]
  },
  {
   "cell_type": "code",
   "execution_count": null,
   "metadata": {
    "id": "p7lCm85fLOd7",
    "outputId": "a378d7e5-a962-4444-95b3-1047cd87328e"
   },
   "outputs": [
    {
     "data": {
      "text/plain": [
       "True"
      ]
     },
     "execution_count": 23,
     "metadata": {
      "tags": []
     },
     "output_type": "execute_result"
    }
   ],
   "source": [
    "h.closed"
   ]
  },
  {
   "cell_type": "code",
   "execution_count": null,
   "metadata": {
    "id": "Z-xP9nJPLOd7",
    "outputId": "46dbc61e-0104-4346-a1b6-5830af1c6ffa"
   },
   "outputs": [
    {
     "name": "stdout",
     "output_type": "stream",
     "text": [
      "podaj nazwisko Mirmił\n",
      "podaj nazwisko Hegemon\n"
     ]
    }
   ],
   "source": [
    "with open('studenci', mode='a') as h:\n",
    "    for i in range(2):\n",
    "        nazwisko = input('podaj nazwisko ')\n",
    "        h.write(nazwisko + '\\n')"
   ]
  },
  {
   "cell_type": "code",
   "execution_count": null,
   "metadata": {
    "id": "vkyTgLmeLOd7"
   },
   "outputs": [],
   "source": [
    "# help(open)"
   ]
  },
  {
   "cell_type": "code",
   "execution_count": null,
   "metadata": {
    "id": "n8TjJedNLOd7"
   },
   "outputs": [],
   "source": [
    "# h\n",
    "# h.encoding\n",
    "# h.buffer\n",
    "# h.closed\n",
    "# h.fileno\n",
    "# h.name\n",
    "# h.isatty()"
   ]
  },
  {
   "cell_type": "code",
   "execution_count": null,
   "metadata": {
    "id": "e7DRkUAbLOd8"
   },
   "outputs": [],
   "source": [
    ""
   ]
  }
 ],
 "metadata": {
  "colab": {
   "name": "kc20_p_wyklad_01_moduly_pliki.ipynb",
   "provenance": []
  },
  "kernelspec": {
   "display_name": "Python 3",
   "language": "python",
   "name": "python3"
  },
  "language_info": {
   "codemirror_mode": {
    "name": "ipython",
    "version": 3
   },
   "file_extension": ".py",
   "mimetype": "text/x-python",
   "name": "python",
   "nbconvert_exporter": "python",
   "pygments_lexer": "ipython3",
   "version": "3.7.3"
  }
 },
 "nbformat": 4,
 "nbformat_minor": 0
}
