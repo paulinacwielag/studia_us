{
 "cells": [
  {
   "cell_type": "markdown",
   "metadata": {},
   "source": [
    "# Komunikacja cyfrowa\n",
    "## Programowanie, lab 01, obsługa plików\n",
    "\n",
    "**start: 13:50** (czekamy na wszystkich)"
   ]
  },
  {
   "cell_type": "code",
   "execution_count": null,
   "metadata": {},
   "outputs": [],
   "source": [
    "# help(open)"
   ]
  },
  {
   "cell_type": "code",
   "execution_count": null,
   "metadata": {},
   "outputs": [],
   "source": [
    "# %%bash\n",
    "# # echo \"Ala ma kota\" > ala.txt\n",
    "# # echo \"Milicja ma Ale\" >> ala.txt\n",
    "# cat ala.txt"
   ]
  },
  {
   "cell_type": "markdown",
   "metadata": {},
   "source": [
    "## open, read, close"
   ]
  },
  {
   "cell_type": "code",
   "execution_count": null,
   "metadata": {},
   "outputs": [],
   "source": [
    "ala = open('ala.txt')"
   ]
  },
  {
   "cell_type": "code",
   "execution_count": null,
   "metadata": {},
   "outputs": [],
   "source": [
    "ala"
   ]
  },
  {
   "cell_type": "code",
   "execution_count": null,
   "metadata": {},
   "outputs": [],
   "source": [
    "ala.read()"
   ]
  },
  {
   "cell_type": "code",
   "execution_count": null,
   "metadata": {},
   "outputs": [],
   "source": [
    "ala.close()"
   ]
  },
  {
   "cell_type": "code",
   "execution_count": null,
   "metadata": {},
   "outputs": [],
   "source": [
    "ala.read()"
   ]
  },
  {
   "cell_type": "code",
   "execution_count": null,
   "metadata": {},
   "outputs": [],
   "source": [
    "with open('ala.txt') as ala:\n",
    "    print(ala.read())"
   ]
  },
  {
   "cell_type": "code",
   "execution_count": null,
   "metadata": {},
   "outputs": [],
   "source": [
    "ala = open('ala.txt')\n",
    "print(ala.read())\n",
    "ala.close()"
   ]
  },
  {
   "cell_type": "code",
   "execution_count": null,
   "metadata": {},
   "outputs": [],
   "source": [
    "with open('ala.txt') as ala:\n",
    "    print(ala.read())"
   ]
  },
  {
   "cell_type": "code",
   "execution_count": null,
   "metadata": {},
   "outputs": [],
   "source": [
    "with open('ala.txt', mode='r') as ala:\n",
    "    for line in ala:\n",
    "        for znak in line:\n",
    "            print(znak, end='-')"
   ]
  },
  {
   "cell_type": "code",
   "execution_count": null,
   "metadata": {},
   "outputs": [],
   "source": [
    "with open('ala.txt', mode='r') as ala:\n",
    "    for line in ala:\n",
    "        print(line)"
   ]
  },
  {
   "cell_type": "code",
   "execution_count": null,
   "metadata": {},
   "outputs": [],
   "source": [
    "plik = \"nazwapliku.txt\"\n",
    "\n",
    "# odczyt plików - atrybut 'r'\n",
    "# wczytywanie zawartości pliku i w\n",
    "with open(plik, mode='r') as plik:\n",
    "    for linijka.replace('\\n', '') in plik:\n",
    "        print(f\"{linijka}\\n\")\n",
    "\n",
    "# nadpisanie pliku - atrybut 'w'\n",
    "# zapisywanie do pliku\n",
    "with open(plik, mode='w') as plik:\n",
    "    for numer_linii in range(1,11):\n",
    "        plik.write(f\"Linijka numer: {numer_linii}\\n\")\n",
    "\n",
    "# dodanie do pliku - atrybut 'a'\n",
    "# dodaje do pliku bez usuwania jego poprzedniej zawartości\n",
    "with open(plik, mode='a') as plik:\n",
    "    for numer_linii in range(11,21):\n",
    "        plik.write(f\"Linijka numer: {numer_linii}\")"
   ]
  },
  {
   "cell_type": "code",
   "execution_count": 18,
   "metadata": {},
   "outputs": [
    {
     "name": "stdout",
     "output_type": "stream",
     "text": [
      "['ab', 'ab', 'abc', 'cd', 'ebe', 'ebe']\n"
     ]
    }
   ],
   "source": [
    "# druk linijka po linijce\n",
    "\n",
    "L = []\n",
    "with open('nowy.txt', mode='r') as plik:\n",
    "    for linijka in plik:\n",
    "        for wyraz in linijka.split():\n",
    "            L += [wyraz]\n",
    "    print(L)\n",
    "    \n",
    "with open('nowy2.txt', mode='w') as plik:\n",
    "    for element in L:\n",
    "        plik.write(element + ' ')"
   ]
  },
  {
   "cell_type": "markdown",
   "metadata": {},
   "source": [
    "### Ćwiczenie 1\n",
    "Za pomocą standardowego interfejsu Jupyter `New -> Text File` stwórz plik o nazwie `wykonawca_utwor.txt` i wklej do niego tekst swojego ulubionego/ostatnio słuchanego/jakiegokolwiek utworu muzycznego. Następnie za pomocą obu konstrukcji (z `with` i standardowo) i metody `read` pobierz zawartość pliku, a następnie wydrukuj go linijka po linijce wraz z numerami linii\n",
    "\n",
    "```\n",
    "1. Ala ma kota\n",
    "2. Milicja ma Ale\n",
    "```\n",
    "\n",
    "* Paulina, Marcin, Igor -> with\n",
    "* Taisja, Bartosz, Marek -> open/close"
   ]
  },
  {
   "cell_type": "code",
   "execution_count": 24,
   "metadata": {},
   "outputs": [
    {
     "name": "stdout",
     "output_type": "stream",
     "text": [
      "1. An angel on a Harley\n",
      "\n"
     ]
    }
   ],
   "source": [
    "utwor = 'waters_501am.txt'\n",
    "\n",
    "song = open(utwor, mode = 'r')\n",
    "x = 1\n",
    "for line in song:\n",
    "    print(str(x) + \". \" + line)\n",
    "    break\n",
    "    x += 1\n",
    "song.close()"
   ]
  },
  {
   "cell_type": "code",
   "execution_count": 23,
   "metadata": {},
   "outputs": [
    {
     "name": "stdout",
     "output_type": "stream",
     "text": [
      "1. An angel on a Harley\n",
      "\n"
     ]
    }
   ],
   "source": [
    "with open(utwor, mode = 'r') as sanah:\n",
    "    for numer_linii, linia in enumerate(sanah):\n",
    "        print(f\"{numer_linii + 1}. {linia}\")\n",
    "        break"
   ]
  },
  {
   "cell_type": "code",
   "execution_count": 46,
   "metadata": {},
   "outputs": [
    {
     "name": "stdout",
     "output_type": "stream",
     "text": [
      "1. An angel on a Harley\n",
      "1 . An angel on a Harley\n"
     ]
    }
   ],
   "source": [
    "with open(utwor, mode = 'r') as tekst:\n",
    "    indeks = 1\n",
    "    for linia in tekst:\n",
    "        print(f\"{indeks}. {linia.strip()}\")\n",
    "        indeks += 1\n",
    "        break\n",
    "\n",
    "utwor1 = open(utwor)\n",
    "nr = 1\n",
    "for line in utwor1:\n",
    "        print(nr, \".\", line.replace('\\n', ''))\n",
    "        nr += 1\n",
    "        break\n",
    "utwor1.close()"
   ]
  },
  {
   "cell_type": "code",
   "execution_count": 33,
   "metadata": {},
   "outputs": [
    {
     "name": "stdout",
     "output_type": "stream",
     "text": [
      "1 An angel on a Harley\n"
     ]
    }
   ],
   "source": [
    "with open(utwor, mode='r') as utwor2:\n",
    "    x = 0\n",
    "    for line in utwor2:\n",
    "        x += 1\n",
    "        print(x, line[:-1])\n",
    "        break"
   ]
  },
  {
   "cell_type": "code",
   "execution_count": 34,
   "metadata": {},
   "outputs": [
    {
     "data": {
      "text/plain": [
       "'An angel on a Harley\\n'"
      ]
     },
     "execution_count": 34,
     "metadata": {},
     "output_type": "execute_result"
    }
   ],
   "source": [
    "line"
   ]
  },
  {
   "cell_type": "code",
   "execution_count": null,
   "metadata": {},
   "outputs": [],
   "source": []
  },
  {
   "cell_type": "code",
   "execution_count": 47,
   "metadata": {},
   "outputs": [],
   "source": [
    "# dekompozycja\n",
    "# 1. przeczytaj plik\n",
    "# 2. dopisz numer do kazdej linii\n",
    "# 2. wpisać do (tego samego) pliku nowe linijki"
   ]
  },
  {
   "cell_type": "code",
   "execution_count": 48,
   "metadata": {},
   "outputs": [],
   "source": [
    "# 1. przeczytaj plik\n",
    "utwor = 'waters_501am.txt'\n",
    "with open(utwor, mode='r') as h:\n",
    "    tekst = h.read()"
   ]
  },
  {
   "cell_type": "code",
   "execution_count": 57,
   "metadata": {},
   "outputs": [],
   "source": [
    "# 2. dopisz numer do kazdej linii\n",
    "tekst_z_numerami = [f'{idx + 1}. {el}\\n' for idx, el in enumerate(tekst.split('\\n'))]"
   ]
  },
  {
   "cell_type": "code",
   "execution_count": 58,
   "metadata": {},
   "outputs": [],
   "source": [
    "utwor = 'waters_501am_numery.txt'\n",
    "with open(utwor, mode='w') as h:\n",
    "    h.writelines(tekst_z_numerami)"
   ]
  },
  {
   "cell_type": "code",
   "execution_count": 60,
   "metadata": {},
   "outputs": [],
   "source": [
    "# %%bash\n",
    "# cat waters_501am_numery.txt"
   ]
  },
  {
   "cell_type": "code",
   "execution_count": 61,
   "metadata": {},
   "outputs": [],
   "source": [
    "with open('pusty_plik', mode='w') as h: pass"
   ]
  },
  {
   "cell_type": "markdown",
   "metadata": {},
   "source": [
    "### Ćwiczenie 2\n",
    "Korzystając z tekstu znajdującego się w Twoim pliku `wykonawca_utwor.txt` stwórz słownik gdzie kluczami będą wszystkie unikalne słowa widniejące w tekscie, a wartościami ilość ich wystąpień. Aby było to miarodajne, musisz pozbyć się wszystkich znaków interpunkcyjnych i białych oraz nie rozróżniać dużych i małych liter. Na końcu wydrukuj ten słownik czytelnie `klucz -> wartość`.\n",
    "\n",
    "```\n",
    "'''\n",
    "Ala ma kota\n",
    "Ala ma psa\n",
    "Ola ma psa\n",
    "'''\n",
    "\n",
    "{'Ala': 2, 'Ola': 1, 'ma': 3, 'kota': 1, 'psa': 2}\n",
    "```\n",
    "\n",
    "`strip(), replace(), split()`"
   ]
  },
  {
   "cell_type": "code",
   "execution_count": 94,
   "metadata": {},
   "outputs": [
    {
     "name": "stdout",
     "output_type": "stream",
     "text": [
      "{'an': 1, 'angel': 1, 'on': 6, 'a': 8, 'harley': 1, 'pulls': 1, 'across': 1, 'to': 2, 'greet': 1, 'fellow': 1, 'rolling': 1, 'stone': 1, 'puts': 1, 'his': 2, 'bike': 1, 'up': 1, \"it's\": 1, 'stand': 1, 'leans': 1, 'back': 3, 'and': 12, 'then': 2, 'extends': 1, 'scarred': 1, 'greasy': 1, 'hand': 2, 'he': 2, 'said': 2, '\"how': 1, 'ya': 3, \"doin'\": 1, 'bro?': 1, 'where': 3, 'been?': 1, 'goin\\'?\"': 1, 'takes': 2, 'your': 3, 'in': 4, 'some': 1, 'strange': 1, 'californian': 1, 'handshake': 1, 'breaks': 2, 'the': 17, 'bone': 1, '(have': 1, 'nice': 1, 'day)': 1, 'housewife': 1, 'from': 1, 'encino': 1, 'whose': 1, \"husband's\": 1, 'golf': 1, 'course': 1, 'with': 1, 'book': 2, 'of': 6, 'rules': 1, 'makes': 1, \"'u'\": 1, 'idles': 1, 'take': 1, 'second': 1, 'look': 1, 'at': 1, 'you': 7, 'flex': 1, 'rod': 1, 'fish': 1, 'hook': 1, 'sweet': 1, 'vodka': 1, 'tobacco': 1, 'her': 1, 'breath': 1, 'another': 1, 'number': 1, 'little': 1, 'black': 1, 'these': 5, 'are': 5, 'pros': 5, 'cons': 5, 'hitchhiking': 5, 'oh': 2, 'babe,': 2, 'i': 4, 'must': 3, 'be': 2, 'dreaming': 2, \"i'm\": 1, 'standing': 1, 'leading': 1, 'edge': 1, 'eastern': 1, 'seaboard': 1, 'spread': 1, 'before': 1, 'my': 1, 'eyes': 1, '\"jump\"': 1, 'says': 2, 'yoko': 2, 'ono': 1, '\"i\\'m': 1, 'too': 2, 'scared': 1, 'good': 1, 'looking\"': 1, 'cried': 1, '\"go': 1, 'on\",': 1, 'she': 1, '\"why': 1, \"don't\": 1, 'give': 1, 'it': 2, 'try?': 1, 'why': 1, 'prolong': 1, 'agony': 1, 'all': 2, 'men': 1, 'die\"': 1, 'do': 2, 'remember': 2, 'dick': 1, 'tracy?': 1, 'shane?': 1, 'child:': 3, '\"and': 1, 'mother': 1, 'wants': 1, 'you\"': 1, 'could': 1, 'see': 1, 'him': 1, 'selling': 1, 'tickets': 1, 'buzzard': 1, 'circles': 1, 'over': 1, '\"shane\"': 2, 'body': 1, 'plain': 1, 'did': 1, 'understand': 1, 'music': 1, 'or': 1, 'was': 1, 'vain?': 1, 'bitch': 1, 'something': 1, 'mystical': 1, '\"herro\"': 1, 'so': 1, 'stepped': 1, 'kerb': 1, 'again': 2}\n"
     ]
    }
   ],
   "source": [
    "from collections import Counter\n",
    "\n",
    "listofwords = []\n",
    "with open(utwor,'r') as song:\n",
    "    for line in song:\n",
    "        for word in line.split():\n",
    "#             word = usun_znaki_przestankowe(word)\n",
    "            listofwords.append(word.lower())\n",
    "            \n",
    "dictofwords = dict(Counter(listofwords))\n",
    "print(dictofwords)"
   ]
  },
  {
   "cell_type": "code",
   "execution_count": 81,
   "metadata": {},
   "outputs": [
    {
     "name": "stdout",
     "output_type": "stream",
     "text": [
      "{'an': 1, 'angel': 1, 'on': 6, 'a': 4, 'harley': 1, 'pulls': 1, 'across': 1, 'to': 1, 'greet': 1, 'fellow': 1, 'rolling': 1, 'stone': 1, 'puts': 1, 'his': 2, 'bike': 1, 'up': 1, \"it's\": 1, 'stand': 1, 'leans': 1, 'back': 3, 'and': 10, 'then': 1, 'extends': 1, 'scarred': 1, 'greasy': 1, 'hand': 2, 'he': 2, 'said': 2, '\"how': 1, 'ya': 3, \"doin'\": 1, 'bro': 1, 'where': 1, 'been': 1, 'goin\\'\"': 1, 'takes': 2, 'your': 3, 'in': 4, 'some': 1, 'strange': 1, 'californian': 1, 'handshake': 1, 'breaks': 1, 'the': 5, 'bone': 1, 'have': 1, 'nice': 1, 'day': 1, 'housewife': 1, 'from': 1, 'encino': 1, 'whose': 1, \"husband's\": 1, 'golf': 1, 'course': 1, 'with': 1, 'book': 2, 'of': 6, 'rules': 1, 'makes': 1, \"'u'\": 1, 'idles': 1, 'take': 1, 'second': 1, 'look': 1, 'at': 1, 'you': 6, 'flex': 1, 'rod': 1, 'fish': 1, 'hook': 1, 'sweet': 1, 'vodka': 1, 'tobacco': 1, 'her': 1, 'breath': 1, 'another': 1, 'number': 1, 'little': 1, 'black': 1, 'these': 1, 'are': 5, 'pros': 5, 'cons': 5, 'hitchhiking': 5, 'oh': 1, 'babe': 2, 'i': 1, 'must': 3, 'be': 2, 'dreaming': 2, \"i'm\": 1, 'standing': 1, 'leading': 1, 'edge': 1, 'eastern': 1, 'seaboard': 1, 'spread': 1, 'before': 1, 'my': 1, 'eyes': 1, '\"jump\"': 1, 'says': 2, 'yoko': 1, 'ono': 1, '\"i\\'m': 1, 'too': 2, 'scared': 1, 'good': 1, 'looking\"': 1, 'cried': 1, '\"go': 1, 'on\"': 1, 'she': 1, '\"why': 1, \"don't\": 1, 'give': 1, 'it': 2, 'try': 1, 'why': 1, 'prolong': 1, 'agony': 1, 'all': 2, 'men': 1, 'die\"': 1, 'do': 1, 'remember': 2, 'dick': 1, 'tracy': 1, 'shane': 1, 'child:': 1, '\"and': 1, 'mother': 1, 'wants': 1, 'you\"': 1, 'could': 1, 'see': 1, 'him': 1, 'selling': 1, 'tickets': 1, 'buzzard': 1, 'circles': 1, 'over': 1, '\"shane\"': 1, 'body': 1, 'plain': 1, 'did': 1, 'understand': 1, 'music': 1, 'or': 1, 'was': 1, 'vain': 1, 'bitch': 1, 'something': 1, 'mystical': 1, '\"herro\"': 1, 'so': 1, 'stepped': 1, 'kerb': 1, 'again': 2}\n"
     ]
    }
   ],
   "source": [
    "def usun_znaki_przestankowe(slowo):\n",
    "    from string import ascii_letters\n",
    "    ret = \"\"\n",
    "    for z in slowo:\n",
    "        if z in ascii_letters + ' ':\n",
    "            ret += z\n",
    "            \n",
    "#     for znak in ',.?!()':\n",
    "#         slowo = slowo.replace(znak, '')\n",
    "\n",
    "    return ret\n",
    "    \n",
    "\n",
    "utwor = 'waters_501am.txt'\n",
    "\n",
    "slownik = {}\n",
    "with open(utwor, mode = 'r') as sanah:\n",
    "    for numer_linii, linia in enumerate(sanah):\n",
    "\n",
    "        for znak in ',.?!()':\n",
    "            linia = linia.replace(znak, '')\n",
    "            \n",
    "        linijka = linia.strip().split()    \n",
    "        for slowo in linijka:\n",
    "#             slowo = usun_znaki_przestankowe(slowo)\n",
    "            if slowo in slownik:\n",
    "                slownik[slowo.lower()] += 1\n",
    "            else:\n",
    "                slownik[slowo.lower()] = 1\n",
    "\n",
    "print(slownik)"
   ]
  },
  {
   "cell_type": "code",
   "execution_count": null,
   "metadata": {},
   "outputs": [],
   "source": []
  },
  {
   "cell_type": "code",
   "execution_count": 1,
   "metadata": {},
   "outputs": [],
   "source": [
    "# nie mamy pliku 'piwko.txt'\n",
    "\n",
    "tekst = \"\"\"Lekiem na kaca jest piwko\n",
    "Pierwsze, drugie, trzecie\n",
    "Ale czwarte, piąte i szóste\n",
    "To już raczej bardziej zmuli\n",
    "\"\"\"\n",
    "\n",
    "with open('piwko.txt', 'w') as plik:\n",
    "    plik.write(tekst)"
   ]
  },
  {
   "cell_type": "code",
   "execution_count": 2,
   "metadata": {},
   "outputs": [
    {
     "name": "stdout",
     "output_type": "stream",
     "text": [
      "Lekiem na kaca jest piwko\n",
      "Pierwsze, drugie, trzecie\n",
      "Ale czwarte, piąte i szóste\n",
      "To już raczej bardziej zmuli\n"
     ]
    }
   ],
   "source": [
    "%%bash \n",
    "cat piwko.txt"
   ]
  },
  {
   "cell_type": "code",
   "execution_count": 3,
   "metadata": {},
   "outputs": [],
   "source": [
    "refren = \"\"\"Gdyż każdy lek niewłaściwie stosowany \n",
    "Zagraża twojemu zdrowiu \n",
    "Każdy lek niewłaściwie stosowany \n",
    "Zagraża twojemu zdrowiu\n",
    "\"\"\"\n",
    "\n",
    "with open('piwko.txt', 'a') as plik:\n",
    "    plik.write(refren)"
   ]
  },
  {
   "cell_type": "code",
   "execution_count": 97,
   "metadata": {},
   "outputs": [
    {
     "data": {
      "text/plain": [
       "'Ala ma kota aaygqrgsa'"
      ]
     },
     "execution_count": 97,
     "metadata": {},
     "output_type": "execute_result"
    }
   ],
   "source": [
    "def usun_znaki_przestankowe(x):\n",
    "    x = ''.join([i for i in x if i.isalpha() or i == ' '])\n",
    "    return x\n",
    "usun_znaki_przestankowe('Ala ma kota ;aa56yg35qrg,??321sa')"
   ]
  },
  {
   "cell_type": "code",
   "execution_count": null,
   "metadata": {},
   "outputs": [],
   "source": []
  },
  {
   "cell_type": "markdown",
   "metadata": {},
   "source": [
    "### Ćwiczenie 3\n",
    "Bazując na kodzie z ćwiczenia nr 2, zapisz do pliku `ilosci.csv` w kolejności malejącej wyniki analizy ilości słów w wybranej piosence, najlepiej w formie zgodnej z plikami CSV.\n",
    "\n",
    "```\n",
    "#slowo,ilość\n",
    "the,17\n",
    "and,13\n",
    "a,8\n",
    "you,8\n",
    "on,7\n",
    "of,6\n",
    "i,6\n",
    "these,5\n",
    "are,5\n",
    "pros,5\n",
    "```"
   ]
  },
  {
   "cell_type": "code",
   "execution_count": 99,
   "metadata": {},
   "outputs": [],
   "source": [
    "# slownik"
   ]
  },
  {
   "cell_type": "code",
   "execution_count": 122,
   "metadata": {},
   "outputs": [],
   "source": [
    "def sortowanko(slownik, plik):\n",
    "    'Funkcja zapisuje do pliku słownik posortowany wartościami malejąco'\n",
    "    with open(plik, mode='w') as plik:\n",
    "        \n",
    "        slowa_wartosci = [(v, k) for k, v in slownik.items()]\n",
    "        slowa_wartosci.sort(reverse=True)\n",
    "        \n",
    "        plik.write(f\"#slowo,ilość\\n\")\n",
    "        for l, p in slowa_wartosci:\n",
    "            plik.write(f\"{p},{l}\\n\")"
   ]
  },
  {
   "cell_type": "code",
   "execution_count": 125,
   "metadata": {},
   "outputs": [],
   "source": [
    "sortowanko(slownik, 'slownik_01.csv')"
   ]
  },
  {
   "cell_type": "code",
   "execution_count": 128,
   "metadata": {},
   "outputs": [],
   "source": [
    "# %%bash \n",
    "# cat slownik_01.csv"
   ]
  },
  {
   "cell_type": "code",
   "execution_count": null,
   "metadata": {},
   "outputs": [],
   "source": []
  },
  {
   "cell_type": "code",
   "execution_count": 129,
   "metadata": {},
   "outputs": [],
   "source": [
    "import pickle"
   ]
  },
  {
   "cell_type": "code",
   "execution_count": 130,
   "metadata": {},
   "outputs": [],
   "source": [
    "with open('slownik.p', 'wb') as f:\n",
    "    pickle.dump(slownik, f)"
   ]
  },
  {
   "cell_type": "code",
   "execution_count": 134,
   "metadata": {},
   "outputs": [
    {
     "name": "stdout",
     "output_type": "stream",
     "text": [
      "-rw-r----- 1 lukasz.machura staff_smcebi 2.2K Feb 23 14:50 slownik.p\n"
     ]
    }
   ],
   "source": [
    "%%bash\n",
    "ls -lah slownik.p\n",
    "# cat slownik.p"
   ]
  },
  {
   "cell_type": "code",
   "execution_count": 135,
   "metadata": {},
   "outputs": [],
   "source": [
    "with open('slownik.p', 'rb') as f:\n",
    "    slownik_z_pickla = pickle.load(f)"
   ]
  },
  {
   "cell_type": "code",
   "execution_count": 137,
   "metadata": {},
   "outputs": [
    {
     "data": {
      "text/plain": [
       "True"
      ]
     },
     "execution_count": 137,
     "metadata": {},
     "output_type": "execute_result"
    }
   ],
   "source": [
    "slownik_z_pickla == slownik"
   ]
  },
  {
   "cell_type": "code",
   "execution_count": null,
   "metadata": {},
   "outputs": [],
   "source": []
  },
  {
   "cell_type": "code",
   "execution_count": null,
   "metadata": {},
   "outputs": [],
   "source": []
  }
 ],
 "metadata": {
  "kernelspec": {
   "display_name": "Python 3",
   "language": "python",
   "name": "python3"
  },
  "language_info": {
   "codemirror_mode": {
    "name": "ipython",
    "version": 3
   },
   "file_extension": ".py",
   "mimetype": "text/x-python",
   "name": "python",
   "nbconvert_exporter": "python",
   "pygments_lexer": "ipython3",
   "version": "3.7.3"
  }
 },
 "nbformat": 4,
 "nbformat_minor": 2
}
