{
 "cells": [
  {
   "cell_type": "markdown",
   "metadata": {},
   "source": [
    "### KC, Programowanie, lab 12, PZO cz2\n",
    "**start 13:47**"
   ]
  },
  {
   "cell_type": "code",
   "execution_count": 13,
   "metadata": {},
   "outputs": [
    {
     "name": "stdout",
     "output_type": "stream",
     "text": [
      "radian 0.7853981633974483\n",
      "stopnie 45.0\n",
      "stopnie z math 45.0\n"
     ]
    }
   ],
   "source": [
    "import math\n",
    "\n",
    "xa, ya = 0, 0  \n",
    "xb, yb = 2, 2  \n",
    "\n",
    "a = xb - xa\n",
    "b = yb - ya\n",
    "\n",
    "# tg(alfa) = b / a\n",
    "# alfa = arctg (b / a)\n",
    "\n",
    "# kąt między wektorem a osią X\n",
    "print('radian', math.atan(b / a))\n",
    "print('stopnie', math.atan(b / a) * 180 / math.pi)\n",
    "print('stopnie z math', math.degrees(math.atan(b / a)))"
   ]
  },
  {
   "cell_type": "code",
   "execution_count": null,
   "metadata": {},
   "outputs": [],
   "source": []
  },
  {
   "cell_type": "markdown",
   "metadata": {},
   "source": [
    "### `Rakieta`\n",
    "Wracamy do klasy `Rakieta`. Może ona robić różne rzeczy, ale przede wszystkim jest obiektem latającym. Może mieć kilka ciekawych i typowych dla rakiet atrybutów: waga, ilość paliwa, położenie, prędkość... Pewnie i więcej, ale proszę sobie wyobrazić coś takiego:\n",
    "\n",
    "```\n",
    " ∧\n",
    " |\n",
    " |               ∧\n",
    " |              / \\\n",
    "y|--------------|o|  pozycja = (x, y)\n",
    " |              | |\n",
    " |               ᚄ\n",
    " |               |\n",
    " |               |\n",
    " +-------------------------->\n",
    "                 x\n",
    "```\n",
    "\n",
    "Zapomnimy o większości problemów z rakietami i ograniczymy się do latania rakietą. Będziemy po prostu opisywać, jak na obrazku powyżej **położenie rakiety** w układzie kartezjańskim. \n",
    "\n",
    "Zaczniemy krok po kroku, od najprostszej realizacji klasy Rakieta"
   ]
  },
  {
   "cell_type": "code",
   "execution_count": 2,
   "metadata": {},
   "outputs": [],
   "source": [
    "class Rakieta:\n",
    "    '''Rakieta'''\n",
    "    \n",
    "    def __init__(self, pozycja=(0, 0)):\n",
    "        self.pozycja = pozycja\n",
    "        \n",
    "    def get_pozycja(self):\n",
    "        return self.pozycja\n",
    "    \n",
    "    def set_pozycja(self, var):\n",
    "        'ustaw var jako nową wartość pozycji'\n",
    "        self.pozycja = var\n",
    "        \n",
    "    def __repr__(self):\n",
    "        return f'Rakieta na pozycji {self.get_pozycja()}'\n",
    "    \n",
    "    def __str__(self):\n",
    "        return self.__repr__()"
   ]
  },
  {
   "cell_type": "code",
   "execution_count": 3,
   "metadata": {},
   "outputs": [
    {
     "name": "stdout",
     "output_type": "stream",
     "text": [
      "Rakieta na pozycji (0, 0)\n"
     ]
    }
   ],
   "source": [
    "r = Rakieta()\n",
    "print(r)"
   ]
  },
  {
   "cell_type": "markdown",
   "metadata": {},
   "source": [
    "### Ćwiczenie 1\n",
    "Na bazie klasy `Rakieta` zbuduj klasę\n",
    "\n",
    "1. `Bocian` - Bartosz\n",
    "* `Kruk` - Igor\n",
    "* `Czapla` - Marcin\n",
    "* `Koliber` - Paulina\n",
    "* `Papuga` - Taisja\n",
    "\n",
    "Takie klasy też będą latać, jak powyższa rakieta. Dodaj 1 argument `__init__` wyróżniający swoją klasę np: kolor, wagę. Przypisz go do atrybutu instancji (`self`), dodaj setter i getter."
   ]
  },
  {
   "cell_type": "code",
   "execution_count": null,
   "metadata": {},
   "outputs": [],
   "source": []
  },
  {
   "cell_type": "code",
   "execution_count": 22,
   "metadata": {},
   "outputs": [],
   "source": [
    "class Rakieta:\n",
    "    '''Rakieta'''\n",
    "    \n",
    "    def __init__(self, pozycja=(0, 0)):\n",
    "        self.pozycja = pozycja\n",
    "        \n",
    "    def get_pozycja(self):\n",
    "        return self.pozycja\n",
    "    \n",
    "    def set_pozycja(self, nowa_pozycja):\n",
    "        'ustaw var jako nową wartość pozycji'\n",
    "        assert isinstance(nowa_pozycja, (tuple, list)), 'pozycja powinna być listą/krotką'\n",
    "        assert len(nowa_pozycja) == 2, 'pozycja powinna mieć 2 elementy'\n",
    "        assert isinstance(nowa_pozycja[0], (int, float)), '1 element pozycji ma być liczbą'\n",
    "        assert isinstance(nowa_pozycja[1], (int, float)), '2 element pozycji ma być liczbą'     \n",
    "        assert nowa_pozycja[1] >= 0, 'drugi element pozycji >= 0'\n",
    "        self.pozycja = nowa_pozycja\n",
    "        \n",
    "    def __repr__(self):\n",
    "        return f'Rakieta na pozycji {self.get_pozycja()}'\n",
    "    \n",
    "    def __str__(self):\n",
    "        return self.__repr__()"
   ]
  },
  {
   "cell_type": "markdown",
   "metadata": {},
   "source": [
    "### Ćwiczenie 2\n",
    "Zmodyfikuj settery swojej klasy w podobny sposób do powyższego."
   ]
  },
  {
   "cell_type": "code",
   "execution_count": 23,
   "metadata": {},
   "outputs": [
    {
     "name": "stdout",
     "output_type": "stream",
     "text": [
      "Rakieta na pozycji (3, 4)\n",
      "Rakieta na pozycji (10, 20)\n",
      "pozycja powinna być listą/krotką\n"
     ]
    }
   ],
   "source": [
    "r = Rakieta((3, 4))\n",
    "print(r)\n",
    "\n",
    "r.set_pozycja((10, 20))\n",
    "print(r)\n",
    "\n",
    "try: \n",
    "    r.set_pozycja(23)\n",
    "    print(r)\n",
    "except AssertionError as e:\n",
    "    print(e)"
   ]
  },
  {
   "cell_type": "markdown",
   "metadata": {},
   "source": [
    "### Ćwiczenie 3\n",
    "Zmodyfikuj `__init__` swojej klasy w podobny sposób do powyższego dla obu atrybutów."
   ]
  },
  {
   "cell_type": "code",
   "execution_count": null,
   "metadata": {},
   "outputs": [],
   "source": []
  },
  {
   "cell_type": "code",
   "execution_count": 57,
   "metadata": {},
   "outputs": [],
   "source": [
    "class Rakieta:\n",
    "    '''Rakieta'''\n",
    "    \n",
    "    def __init__(self, pozycja=(0, 0)):\n",
    "        self.set_pozycja(pozycja)\n",
    "    \n",
    "    def sprawdz_pozycje(pozycja):  # NIE MA self !!!\n",
    "        assert isinstance(pozycja, (tuple, list)), 'pozycja powinna być listą/krotką'\n",
    "        assert len(pozycja) == 2, 'pozycja powinna mieć 2 elementy'\n",
    "        assert isinstance(pozycja[0], (int, float)), '1 element pozycji ma być liczbą'\n",
    "        assert isinstance(pozycja[1], (int, float)), '2 element pozycji ma być liczbą'     \n",
    "        assert pozycja[1] >= 0, 'drugi element pozycji >= 0'\n",
    "    \n",
    "    def get_pozycja(self):\n",
    "        return self.pozycja\n",
    "    \n",
    "    def set_pozycja(self, nowa_pozycja):\n",
    "        'ustaw var jako nową wartość pozycji'\n",
    "        Rakieta.sprawdz_pozycje(nowa_pozycja)  # __class__.sprawdz_pozycje(nowa_pozycja)\n",
    "        self.pozycja = nowa_pozycja\n",
    "        \n",
    "    def __repr__(self):\n",
    "        return f'Rakieta na pozycji {self.get_pozycja()}'\n",
    "    \n",
    "    def __str__(self):\n",
    "        return self.__repr__()"
   ]
  },
  {
   "cell_type": "code",
   "execution_count": 56,
   "metadata": {},
   "outputs": [
    {
     "name": "stdout",
     "output_type": "stream",
     "text": [
      "Rakieta na pozycji (1, 10)\n"
     ]
    }
   ],
   "source": [
    "r = Rakieta((1, 10))\n",
    "print(r)"
   ]
  },
  {
   "cell_type": "markdown",
   "metadata": {},
   "source": [
    "### Ćwiczenie 4\n",
    "Dopisz funkcje klas `sprawdz_AAA` dla atrybutów klasy. Wykorzystaj odwołanie `__class__.sprawdz_AAA` w setterach."
   ]
  },
  {
   "cell_type": "code",
   "execution_count": 43,
   "metadata": {},
   "outputs": [
    {
     "name": "stdout",
     "output_type": "stream",
     "text": [
      "coś nie tak\n"
     ]
    }
   ],
   "source": [
    "try:\n",
    "    r.set_pozycja((23, 'a'))\n",
    "except:\n",
    "    print('coś nie tak')"
   ]
  },
  {
   "cell_type": "code",
   "execution_count": 46,
   "metadata": {},
   "outputs": [
    {
     "ename": "AssertionError",
     "evalue": "2 element pozycji ma być liczbą",
     "output_type": "error",
     "traceback": [
      "\u001b[0;31m---------------------------------------------------------------------------\u001b[0m",
      "\u001b[0;31mAssertionError\u001b[0m                            Traceback (most recent call last)",
      "\u001b[0;32m<ipython-input-46-8d190d92c703>\u001b[0m in \u001b[0;36m<module>\u001b[0;34m\u001b[0m\n\u001b[0;32m----> 1\u001b[0;31m \u001b[0mRakieta\u001b[0m\u001b[0;34m.\u001b[0m\u001b[0msprawdz_pozycje\u001b[0m\u001b[0;34m(\u001b[0m\u001b[0;34m(\u001b[0m\u001b[0;36m1\u001b[0m\u001b[0;34m,\u001b[0m \u001b[0;34m\"1\"\u001b[0m\u001b[0;34m)\u001b[0m\u001b[0;34m)\u001b[0m\u001b[0;34m\u001b[0m\u001b[0;34m\u001b[0m\u001b[0m\n\u001b[0m",
      "\u001b[0;32m<ipython-input-38-51152afd406e>\u001b[0m in \u001b[0;36msprawdz_pozycje\u001b[0;34m(pozycja)\u001b[0m\n\u001b[1;32m      9\u001b[0m         \u001b[0;32massert\u001b[0m \u001b[0mlen\u001b[0m\u001b[0;34m(\u001b[0m\u001b[0mpozycja\u001b[0m\u001b[0;34m)\u001b[0m \u001b[0;34m==\u001b[0m \u001b[0;36m2\u001b[0m\u001b[0;34m,\u001b[0m \u001b[0;34m'pozycja powinna mieć 2 elementy'\u001b[0m\u001b[0;34m\u001b[0m\u001b[0;34m\u001b[0m\u001b[0m\n\u001b[1;32m     10\u001b[0m         \u001b[0;32massert\u001b[0m \u001b[0misinstance\u001b[0m\u001b[0;34m(\u001b[0m\u001b[0mpozycja\u001b[0m\u001b[0;34m[\u001b[0m\u001b[0;36m0\u001b[0m\u001b[0;34m]\u001b[0m\u001b[0;34m,\u001b[0m \u001b[0;34m(\u001b[0m\u001b[0mint\u001b[0m\u001b[0;34m,\u001b[0m \u001b[0mfloat\u001b[0m\u001b[0;34m)\u001b[0m\u001b[0;34m)\u001b[0m\u001b[0;34m,\u001b[0m \u001b[0;34m'1 element pozycji ma być liczbą'\u001b[0m\u001b[0;34m\u001b[0m\u001b[0;34m\u001b[0m\u001b[0m\n\u001b[0;32m---> 11\u001b[0;31m         \u001b[0;32massert\u001b[0m \u001b[0misinstance\u001b[0m\u001b[0;34m(\u001b[0m\u001b[0mpozycja\u001b[0m\u001b[0;34m[\u001b[0m\u001b[0;36m1\u001b[0m\u001b[0;34m]\u001b[0m\u001b[0;34m,\u001b[0m \u001b[0;34m(\u001b[0m\u001b[0mint\u001b[0m\u001b[0;34m,\u001b[0m \u001b[0mfloat\u001b[0m\u001b[0;34m)\u001b[0m\u001b[0;34m)\u001b[0m\u001b[0;34m,\u001b[0m \u001b[0;34m'2 element pozycji ma być liczbą'\u001b[0m\u001b[0;34m\u001b[0m\u001b[0;34m\u001b[0m\u001b[0m\n\u001b[0m\u001b[1;32m     12\u001b[0m         \u001b[0;32massert\u001b[0m \u001b[0mpozycja\u001b[0m\u001b[0;34m[\u001b[0m\u001b[0;36m1\u001b[0m\u001b[0;34m]\u001b[0m \u001b[0;34m>=\u001b[0m \u001b[0;36m0\u001b[0m\u001b[0;34m,\u001b[0m \u001b[0;34m'drugi element pozycji >= 0'\u001b[0m\u001b[0;34m\u001b[0m\u001b[0;34m\u001b[0m\u001b[0m\n\u001b[1;32m     13\u001b[0m \u001b[0;34m\u001b[0m\u001b[0m\n",
      "\u001b[0;31mAssertionError\u001b[0m: 2 element pozycji ma być liczbą"
     ]
    }
   ],
   "source": [
    "Rakieta.sprawdz_pozycje((1, \"1\"))"
   ]
  },
  {
   "cell_type": "code",
   "execution_count": null,
   "metadata": {},
   "outputs": [],
   "source": []
  },
  {
   "cell_type": "code",
   "execution_count": null,
   "metadata": {},
   "outputs": [],
   "source": []
  },
  {
   "cell_type": "code",
   "execution_count": null,
   "metadata": {},
   "outputs": [],
   "source": []
  },
  {
   "cell_type": "code",
   "execution_count": 58,
   "metadata": {},
   "outputs": [],
   "source": [
    "class Rakieta:\n",
    "    '''Rakieta'''\n",
    "    \n",
    "    def __init__(self, pozycja=(0, 0)):\n",
    "        self.set_pozycja(pozycja)\n",
    "    \n",
    "    def sprawdz_pozycje(pozycja):  # NIE MA self !!!\n",
    "        assert isinstance(pozycja, (tuple, list)), 'pozycja powinna być listą/krotką'\n",
    "        assert len(pozycja) == 2, 'pozycja powinna mieć 2 elementy'\n",
    "        assert isinstance(pozycja[0], (int, float)), '1 element pozycji ma być liczbą'\n",
    "        assert isinstance(pozycja[1], (int, float)), '2 element pozycji ma być liczbą'     \n",
    "        assert pozycja[1] >= 0, 'drugi element pozycji >= 0'\n",
    "    \n",
    "    def get_pozycja(self):\n",
    "        return self.pozycja\n",
    "    \n",
    "    def set_pozycja(self, nowa_pozycja):\n",
    "        'ustaw var jako nową wartość pozycji'\n",
    "        Rakieta.sprawdz_pozycje(nowa_pozycja)  # __class__.sprawdz_pozycje(nowa_pozycja)\n",
    "        self.pozycja = nowa_pozycja\n",
    "        \n",
    "    def przesun_rakiete(self, przesuniecie):\n",
    "        x, y = self.get_pozycja()  # czytaj pozycję\n",
    "        dx, dy = przesuniecie  # czytaj przesuniecie\n",
    "        nowa_pozycja = (x + dx, y + dy)  # oblicz nowa pozycje\n",
    "        self.set_pozycja(nowa_pozycja)  # ustaw nową pozycję\n",
    "        \n",
    "    def __repr__(self):\n",
    "        return f'Rakieta na pozycji {self.get_pozycja()}'\n",
    "    \n",
    "    def __str__(self):\n",
    "        return self.__repr__()"
   ]
  },
  {
   "cell_type": "markdown",
   "metadata": {},
   "source": [
    "### Ćwiczenie 5\n",
    "Dopisz lekko abstrakcyjną funkcję `przelec(self, ruch)` do swojej ptasiej klasy."
   ]
  },
  {
   "cell_type": "code",
   "execution_count": 62,
   "metadata": {},
   "outputs": [
    {
     "name": "stdout",
     "output_type": "stream",
     "text": [
      "Rakieta na pozycji (0, 0)\n",
      "Rakieta na pozycji (1, 1)\n",
      "Rakieta na pozycji (2, 2)\n",
      "Rakieta na pozycji (0, 6)\n"
     ]
    }
   ],
   "source": [
    "r = Rakieta()\n",
    "print(r)\n",
    "\n",
    "r.przesun_rakiete((1, 1))\n",
    "print(r)\n",
    "\n",
    "r.przesun_rakiete((1, 1))\n",
    "print(r)\n",
    "\n",
    "r.przesun_rakiete((-2, 4))\n",
    "print(r)"
   ]
  },
  {
   "cell_type": "code",
   "execution_count": 64,
   "metadata": {},
   "outputs": [
    {
     "name": "stdout",
     "output_type": "stream",
     "text": [
      "cos nie tak\n"
     ]
    }
   ],
   "source": [
    "try:\n",
    "    r.przesun_rakiete((3, -8))\n",
    "except:\n",
    "    print('cos nie tak')"
   ]
  },
  {
   "cell_type": "code",
   "execution_count": null,
   "metadata": {},
   "outputs": [],
   "source": []
  },
  {
   "cell_type": "code",
   "execution_count": null,
   "metadata": {},
   "outputs": [],
   "source": []
  },
  {
   "cell_type": "code",
   "execution_count": 73,
   "metadata": {},
   "outputs": [],
   "source": [
    "class Rakieta:\n",
    "    '''Rakieta'''\n",
    "    \n",
    "    def __init__(self, pozycja=(0, 0)):\n",
    "        self.set_pozycja(pozycja)\n",
    "    \n",
    "    def sprawdz_pozycje(pozycja):  # NIE MA self !!!\n",
    "        assert isinstance(pozycja, (tuple, list)), 'pozycja powinna być listą/krotką'\n",
    "        assert len(pozycja) == 2, 'pozycja powinna mieć 2 elementy'\n",
    "        assert isinstance(pozycja[0], (int, float)), '1 element pozycji ma być liczbą'\n",
    "        assert isinstance(pozycja[1], (int, float)), '2 element pozycji ma być liczbą'     \n",
    "        assert pozycja[1] >= 0, 'drugi element pozycji >= 0'\n",
    "    \n",
    "    def get_pozycja(self):\n",
    "        return self.pozycja\n",
    "    \n",
    "    def set_pozycja(self, nowa_pozycja):\n",
    "        'ustaw var jako nową wartość pozycji'\n",
    "        Rakieta.sprawdz_pozycje(nowa_pozycja)  # __class__.sprawdz_pozycje(nowa_pozycja)\n",
    "        self.pozycja = nowa_pozycja\n",
    "        \n",
    "    def przesun_rakiete(self, przesuniecie):\n",
    "        x, y = self.get_pozycja()  # czytaj pozycję\n",
    "        dx, dy = przesuniecie  # czytaj przesuniecie\n",
    "        nowa_pozycja = (x + dx, y + dy)  # oblicz nowa pozycje\n",
    "        self.set_pozycja(nowa_pozycja)  # ustaw nową pozycję\n",
    "        \n",
    "    def w_gore(self, gora):\n",
    "        self.przesun_rakiete((0, gora))\n",
    "        \n",
    "    def w_dol(self, dol):\n",
    "        self.przesun_rakiete((0, -dol))\n",
    "        \n",
    "    def w_prawo(self, prawo):\n",
    "        self.przesun_rakiete((prawo, 0))\n",
    "        \n",
    "    def w_lewo(self, lewo):\n",
    "        self.przesun_rakiete((-lewo, 0))\n",
    "        \n",
    "    def laduj(self):\n",
    "        x, y = self.get_pozycja()\n",
    "        self.set_pozycja((x, 0))\n",
    "        \n",
    "    def __repr__(self):\n",
    "        return f'Rakieta na pozycji {self.get_pozycja()}'\n",
    "    \n",
    "    def __str__(self):\n",
    "        return self.__repr__()"
   ]
  },
  {
   "cell_type": "code",
   "execution_count": 74,
   "metadata": {},
   "outputs": [
    {
     "name": "stdout",
     "output_type": "stream",
     "text": [
      "Rakieta na pozycji (0, 0)\n",
      "Rakieta na pozycji (0, 100)\n",
      "Rakieta na pozycji (0, 80)\n",
      "Rakieta na pozycji (-20, 80)\n"
     ]
    }
   ],
   "source": [
    "r = Rakieta()\n",
    "print(r)\n",
    "\n",
    "r.w_gore(100)\n",
    "print(r)\n",
    "\n",
    "r.w_dol(20)\n",
    "print(r)\n",
    "\n",
    "r.w_lewo(20)\n",
    "print(r)"
   ]
  },
  {
   "cell_type": "code",
   "execution_count": 75,
   "metadata": {},
   "outputs": [
    {
     "name": "stdout",
     "output_type": "stream",
     "text": [
      "[(0, 0), (0, 10), (0, 2), (16, 12), (94, 22), (127, 24), (56, 29), (64, 27), (-10, 37), (-78, 30), (2, 34), (-97, 39), (-97, 0)]\n"
     ]
    },
    {
     "data": {
      "text/plain": [
       "[<matplotlib.lines.Line2D at 0x7f2fbe69ec50>]"
      ]
     },
     "execution_count": 75,
     "metadata": {},
     "output_type": "execute_result"
    },
    {
     "data": {
      "image/png": "[encoded data removed]",
      "text/plain": [
       "<Figure size 432x288 with 1 Axes>"
      ]
     },
     "metadata": {
      "needs_background": "light"
     },
     "output_type": "display_data"
    }
   ],
   "source": [
    "import random\n",
    "\n",
    "rakieta = Rakieta()\n",
    "pozycja = []\n",
    "pozycja.append(rakieta.get_pozycja())\n",
    "\n",
    "# start pionowy\n",
    "rakieta.w_gore(10)\n",
    "pozycja.append(rakieta.get_pozycja())\n",
    "\n",
    "ilosc_skokow = 10\n",
    "for i in range(ilosc_skokow):\n",
    "    # góra czy dół?\n",
    "    dy = random.randint(0, 10)\n",
    "    if random.random() > 0.5:\n",
    "        rakieta.w_gore(dy)\n",
    "    else:\n",
    "        try:\n",
    "            rakieta.w_dol(dy)\n",
    "        except:\n",
    "            pass\n",
    "    \n",
    "    # lewo czy prawo?\n",
    "    dx = random.randint(0, 100)\n",
    "    if random.random() > 0.5:\n",
    "        rakieta.w_prawo(dx)\n",
    "    else:\n",
    "        rakieta.w_lewo(dx)\n",
    "    \n",
    "    pozycja.append(rakieta.get_pozycja())\n",
    "    \n",
    "#lądujemy\n",
    "rakieta.laduj()\n",
    "pozycja.append(rakieta.get_pozycja())\n",
    "print(pozycja)\n",
    "\n",
    "### Odkomentuj jeżeli chcesz zobaczyć jak latała rakieta...\n",
    "import pylab\n",
    "%matplotlib inline\n",
    "x, y = zip(*pozycja)\n",
    "pylab.plot(x, y, '*-')\n",
    "pylab.plot(x[:1], y[:1], '^r', markersize=10)\n",
    "pylab.plot(x[-1:], y[-1:], 'vr', markersize=10)"
   ]
  },
  {
   "cell_type": "code",
   "execution_count": null,
   "metadata": {},
   "outputs": [],
   "source": []
  }
 ],
 "metadata": {
  "kernelspec": {
   "display_name": "Python 3",
   "language": "python",
   "name": "python3"
  },
  "language_info": {
   "codemirror_mode": {
    "name": "ipython",
    "version": 3
   },
   "file_extension": ".py",
   "mimetype": "text/x-python",
   "name": "python",
   "nbconvert_exporter": "python",
   "pygments_lexer": "ipython3",
   "version": "3.7.3"
  }
 },
 "nbformat": 4,
 "nbformat_minor": 2
}
