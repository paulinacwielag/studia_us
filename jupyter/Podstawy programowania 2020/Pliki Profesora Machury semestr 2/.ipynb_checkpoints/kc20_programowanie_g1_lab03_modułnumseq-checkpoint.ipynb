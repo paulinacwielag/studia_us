{
 "cells": [
  {
   "cell_type": "code",
   "execution_count": 1,
   "metadata": {},
   "outputs": [],
   "source": [
    "# KC, Programowanie\n",
    "# Lab 03: dekompozycja - moduły\n",
    "\n",
    "# start: 13:50"
   ]
  },
  {
   "cell_type": "markdown",
   "metadata": {},
   "source": [
    "### Przykład z lab 02\n",
    "Mamy dany ciąg liczbowy `L` w postaci sekwencji (np. listy). Sprawdź czy istnieją \n",
    "\n",
    "* rosnące \n",
    "* malejące\n",
    "* stałe\n",
    "* nierosnące\n",
    "* niemalejące\n",
    "* naprzemienne\n",
    "* ...\n",
    "\n",
    "podciągi ciągu `L`."
   ]
  },
  {
   "cell_type": "code",
   "execution_count": 1,
   "metadata": {},
   "outputs": [],
   "source": [
    "# def czy_malejacy(L):\n",
    "#     for idx in range(len(L) - 1):\n",
    "#         if L[idx] <= L[idx+1]:\n",
    "#             return False\n",
    "#     return True\n",
    "\n",
    "\n",
    "# def czy_staly(L):\n",
    "#     for idx in range(len(L) - 1):\n",
    "#         if L[idx] != L[idx+1]:\n",
    "#             return False\n",
    "#     return True\n",
    "\n",
    "\n",
    "# def czy_rosnacy(L):\n",
    "#     for idx in range(len(L) - 1):\n",
    "#         if L[idx] >= L[idx+1]:\n",
    "#             return False\n",
    "#     return True\n",
    "\n",
    "\n",
    "# def czy_niemalejacy(L):\n",
    "#     for idx in range(len(L) - 1):\n",
    "#         if L[idx] > L[idx+1]:\n",
    "#             return False\n",
    "#     return True\n",
    "\n",
    "# def czy_nierosnacy(L):\n",
    "#     for idx in range(len(L) - 1):\n",
    "#         if L[idx] < L[idx+1]:\n",
    "#             return False\n",
    "#     return True\n",
    "\n",
    "\n",
    "# def czy_naprzemienny(L):\n",
    "#     for idx in range(len(L) - 2):\n",
    "#         if (czy_nierosnacy(L[idx:idx+2]) and czy_nierosnacy(L[idx+1:idx+3])\n",
    "#            or\n",
    "#             czy_niemalejacy(L[idx:idx+2]) and czy_niemalejacy(L[idx+1:idx+3])\n",
    "#            ):\n",
    "#             return False\n",
    "#     return True\n",
    "\n",
    "\n",
    "# ####\n",
    "\n",
    "\n",
    "# def podziel_na_n_elementowe_podciagi(L, n):\n",
    "#     ret = []\n",
    "#     for start in range(len(L) - n + 1):\n",
    "#         ret.append(L[start:start+n])\n",
    "#     return ret\n",
    "\n",
    "\n",
    "# def podziel_na_podciagi(L, m=2):\n",
    "#     \"\"\"\n",
    "#     Funkcja zwraca listę wszystkich podciągów ciągu L o dlugosci m=2 lub większej\n",
    "#     \"\"\"\n",
    "#     podciagi = []\n",
    "#     for dlugosc in range(m, len(L) + 1):  # 2, 3, 4, ..., n\n",
    "#         podciagi.extend(podziel_na_n_elementowe_podciagi(L, dlugosc))\n",
    "#     return podciagi\n",
    "\n",
    "\n",
    "# ###\n",
    "\n",
    "\n",
    "# def podciagi(L):\n",
    "#     \"\"\"\n",
    "#     Funkcja zwraca słownik rosnących, malejących i stałych \n",
    "#     podciągów ciągu L o dlugosci 2 lub wiekszej.\n",
    "#     \"\"\"\n",
    "#     ret = {}\n",
    "#     podciagi = podziel_na_podciagi(L, 2)\n",
    "    \n",
    "#     rosnace = []\n",
    "#     malejace = []\n",
    "#     stale = []\n",
    "#     for ciag in podciagi:\n",
    "#         if czy_rosnacy(ciag):\n",
    "#             rosnace.append(ciag)\n",
    "#         if czy_malejacy(ciag):\n",
    "#             malejace.append(ciag)\n",
    "#         if czy_staly(ciag):\n",
    "#             stale.append(ciag)\n",
    "            \n",
    "#     ret['rosnace'] = rosnace\n",
    "#     ret['malejace'] = malejace\n",
    "#     ret['stale'] = stale\n",
    "#     return ret\n",
    "\n",
    "\n",
    "# for L in ([1, 2, 3, 4], [1, 3, 4, 2, 2]):\n",
    "#     print(L, podciagi(L), sep=' -> ')"
   ]
  },
  {
   "cell_type": "code",
   "execution_count": null,
   "metadata": {},
   "outputs": [],
   "source": []
  },
  {
   "cell_type": "markdown",
   "metadata": {},
   "source": [
    "## moduł `numseq`\n",
    "\n",
    "### Ćwiczenie 1: Tworzymy moduł\n",
    "1. (A) lub (B)\n",
    "    1. Otwieramy plik tekstowy (np: Jupyter -> Text File) i nazwywamy go `'numseq.py'`. \n",
    "    2. uruchomić poniższy snippet, w Jupyter klikamy na niego, \n",
    "    3. bash\n",
    "2. Przeklejamy do niego wszystkie funkcje `czy_***`. Moduł gotowy. "
   ]
  },
  {
   "cell_type": "code",
   "execution_count": 2,
   "metadata": {},
   "outputs": [],
   "source": [
    "# with open('numseq.py', 'w') as f:\n",
    "#     f.write(\"\")"
   ]
  },
  {
   "cell_type": "code",
   "execution_count": 8,
   "metadata": {},
   "outputs": [],
   "source": [
    "# %%bash\n",
    "# cat numseq.py"
   ]
  },
  {
   "cell_type": "code",
   "execution_count": 2,
   "metadata": {},
   "outputs": [],
   "source": [
    "import numseq"
   ]
  },
  {
   "cell_type": "code",
   "execution_count": 3,
   "metadata": {},
   "outputs": [
    {
     "data": {
      "text/plain": [
       "True"
      ]
     },
     "execution_count": 3,
     "metadata": {},
     "output_type": "execute_result"
    }
   ],
   "source": [
    "numseq.czy_malejacy([1, 0, -1, -2])"
   ]
  },
  {
   "cell_type": "code",
   "execution_count": 4,
   "metadata": {},
   "outputs": [
    {
     "data": {
      "text/plain": [
       "True"
      ]
     },
     "execution_count": 4,
     "metadata": {},
     "output_type": "execute_result"
    }
   ],
   "source": [
    "import numseq as ns\n",
    "ns.czy_rosnacy([1, 2, 3])"
   ]
  },
  {
   "cell_type": "code",
   "execution_count": 5,
   "metadata": {},
   "outputs": [],
   "source": [
    "from numseq import czy_rosnacy"
   ]
  },
  {
   "cell_type": "code",
   "execution_count": 6,
   "metadata": {},
   "outputs": [
    {
     "data": {
      "text/plain": [
       "False"
      ]
     },
     "execution_count": 6,
     "metadata": {},
     "output_type": "execute_result"
    }
   ],
   "source": [
    "czy_rosnacy([0, -1, -100])"
   ]
  },
  {
   "cell_type": "code",
   "execution_count": 7,
   "metadata": {},
   "outputs": [
    {
     "data": {
      "text/plain": [
       "True"
      ]
     },
     "execution_count": 7,
     "metadata": {},
     "output_type": "execute_result"
    }
   ],
   "source": [
    "from numseq import czy_rosnacy as cr\n",
    "cr([10, 20, 30])"
   ]
  },
  {
   "cell_type": "code",
   "execution_count": 8,
   "metadata": {},
   "outputs": [],
   "source": [
    "from numseq import czy_malejacy, czy_staly"
   ]
  },
  {
   "cell_type": "code",
   "execution_count": 9,
   "metadata": {},
   "outputs": [
    {
     "data": {
      "text/plain": [
       "True"
      ]
     },
     "execution_count": 9,
     "metadata": {},
     "output_type": "execute_result"
    }
   ],
   "source": [
    "czy_staly([1, 1, 1, 1, 1])"
   ]
  },
  {
   "cell_type": "code",
   "execution_count": 1,
   "metadata": {},
   "outputs": [
    {
     "name": "stdout",
     "output_type": "stream",
     "text": [
      "[1, 2, 3, 4] -> {'rosnace': [[1, 2], [2, 3], [3, 4], [1, 2, 3], [2, 3, 4], [1, 2, 3, 4]], 'malejace': [], 'stale': []}\n",
      "[1, 3, 4, 2, 2] -> {'rosnace': [[1, 3], [3, 4], [1, 3, 4]], 'malejace': [[4, 2]], 'stale': [[2, 2]]}\n"
     ]
    }
   ],
   "source": [
    "from numseq import czy_rosnacy, czy_malejacy, czy_staly\n",
    "\n",
    "def podziel_na_n_elementowe_podciagi(L, n):\n",
    "    ret = []\n",
    "    for start in range(len(L) - n + 1):\n",
    "        ret.append(L[start:start+n])\n",
    "    return ret\n",
    "\n",
    "\n",
    "def podziel_na_podciagi(L, m=2):\n",
    "    \"\"\"\n",
    "    Funkcja zwraca listę wszystkich podciągów ciągu L o dlugosci m=2 lub większej\n",
    "    \"\"\"\n",
    "    podciagi = []\n",
    "    for dlugosc in range(m, len(L) + 1):  # 2, 3, 4, ..., n\n",
    "        podciagi.extend(podziel_na_n_elementowe_podciagi(L, dlugosc))\n",
    "    return podciagi\n",
    "\n",
    "\n",
    "def podciagi(L):\n",
    "    \"\"\"\n",
    "    Funkcja zwraca słownik rosnących, malejących i stałych \n",
    "    podciągów ciągu L o dlugosci 2 lub wiekszej.\n",
    "    \"\"\"\n",
    "    ret = {}\n",
    "    podciagi = podziel_na_podciagi(L, 2)\n",
    "    \n",
    "    rosnace = []\n",
    "    malejace = []\n",
    "    stale = []\n",
    "    for ciag in podciagi:\n",
    "        if czy_rosnacy(ciag):\n",
    "            rosnace.append(ciag)\n",
    "        if czy_malejacy(ciag):\n",
    "            malejace.append(ciag)\n",
    "        if czy_staly(ciag):\n",
    "            stale.append(ciag)\n",
    "            \n",
    "    ret['rosnace'] = rosnace\n",
    "    ret['malejace'] = malejace\n",
    "    ret['stale'] = stale\n",
    "    return ret\n",
    "\n",
    "\n",
    "for L in ([1, 2, 3, 4], [1, 3, 4, 2, 2]):\n",
    "    print(L, podciagi(L), sep=' -> ')"
   ]
  },
  {
   "cell_type": "code",
   "execution_count": null,
   "metadata": {},
   "outputs": [],
   "source": []
  },
  {
   "cell_type": "markdown",
   "metadata": {},
   "source": [
    "### Ćwiczenie 2: Rozbudowa modułu `numseq`\n",
    "\n",
    "Do modułu dodaj nastepujące funkcje. Nie wolno używać funkcjonalności wbudowanych w jP (`len`, `max`...)\n",
    "\n",
    "1. `dlugosc(L)` - zwraca dlugość ciągu `L`\n",
    "* `najwiekszy(L)` - zwraca największy element ciągu `L`\n",
    "* `najmniejszy(L)` - zwraca największy element ciągu `L`\n",
    "* `tylko_liczby(L)` - zwraca kopię ciągu `L` filtrując elementy nieliczbowe (zostawia INT i FLOAT)\n",
    "* `odwroc(L)` - zwraca kopię ciągu `L`, ale w kolejności odwrotnej do oryginału\n",
    "* `suma(L)` - zwraca sumę wyrazów ciągu `L`\n",
    "* `zmiennoprzecinkowe(L)` - zwraca elementy ciągu `L` typu FLOAT\n",
    "* `calkowite(L)` - zwraca elementy ciągu `L` typu INT\n",
    "* `wieksze(n, L)` - zwraca elementy liczbowe ciągu `L` większe od `n`\n",
    "* `mniejsze(n, L)` - zwraca elementy liczbowe ciągu `L` mniejsze od `n`\n",
    "* `znajdz(n, L)` - zwraca listę indeksów wszystkich elementów ciągu `L` równych `n` (patrz PD z podstaw programowania)\n",
    "\n",
    "Ekstra trudne, tylko dla odważnych\n",
    "12. `sortuj_rosnaco(L)` - zwraca kopię ciągu, ale posortowaną rosnąco metodą bąbelkową\n",
    "\n",
    "Po kolei\n",
    "\n",
    "* Aleksandra Gorbaszewicz:1\n",
    "* Alicja Palka :2\n",
    "* Bartosz Kowalik:3\n",
    "* Daria Okrzesik :4\n",
    "* Igor Juraszek:5\n",
    "* Jakub Pawlik :6\n",
    "* Krystian Osmenda :7\n",
    "* Magdalena Migoda :8\n",
    "* Magdalena Polak :9\n",
    "* Marcin Jargiło:10\n",
    "* Marek Lisowski:11\n",
    "* Patrycja Nogaj :1\n",
    "* Paulina Cwieląg:2\n",
    "* Pawel Piskozub :3\n",
    "* Sara Lyko :4\n",
    "* Taisja Konowałow:5\n",
    "* Weronika Frączkiewicz:6\n",
    "* Wiktor Krzyzanowski :7\n",
    "* Zuzanna Miglas :8"
   ]
  },
  {
   "cell_type": "code",
   "execution_count": 7,
   "metadata": {},
   "outputs": [],
   "source": [
    "import numseq"
   ]
  },
  {
   "cell_type": "code",
   "execution_count": 4,
   "metadata": {},
   "outputs": [
    {
     "data": {
      "text/plain": [
       "3"
      ]
     },
     "execution_count": 4,
     "metadata": {},
     "output_type": "execute_result"
    }
   ],
   "source": [
    "numseq.dlugosc([1, 2, 3])"
   ]
  },
  {
   "cell_type": "code",
   "execution_count": 5,
   "metadata": {},
   "outputs": [
    {
     "name": "stdout",
     "output_type": "stream",
     "text": [
      "def dlugosc(L):\n"
     ]
    }
   ],
   "source": [
    "%%bash\n",
    "grep dlugosc numseq.py"
   ]
  },
  {
   "cell_type": "code",
   "execution_count": 8,
   "metadata": {},
   "outputs": [
    {
     "name": "stdout",
     "output_type": "stream",
     "text": [
      "Pozdrawiamy z modułu numseq!\n"
     ]
    },
    {
     "data": {
      "text/plain": [
       "<module 'numseq' from '/home/users/lukasz.machura/uni/kc/Programowanie/kc_p_lab03_modules/numseq.py'>"
      ]
     },
     "execution_count": 8,
     "metadata": {},
     "output_type": "execute_result"
    }
   ],
   "source": [
    "import importlib\n",
    "importlib.reload(numseq)"
   ]
  },
  {
   "cell_type": "code",
   "execution_count": null,
   "metadata": {},
   "outputs": [],
   "source": []
  },
  {
   "cell_type": "markdown",
   "metadata": {},
   "source": [
    "## moduł `statystyka`\n",
    "Teraz jednak zbudujemy nowy moduł, bazując na nowo powstałym i bogatym module `numseq`.\n",
    "\n",
    "### Ćwiczenie 3\n",
    "Budujemy moduł `statystyka`, który będzie bazował na module `numseq`. W tym ćwiczeniu zakładamy, że wszystkie funkcje z ćw 3 są już dostępne w module `numseq`, będziemy z nich korzystać...\n",
    "\n",
    "Na początek tworzymy plik `statystyka.py` (jakkolwiek), gdzie w nagłówku wpisujemy (można skopiować)\n",
    "\n",
    "```\n",
    "\"\"\"\n",
    "Moduł statystyka służy do obliczania podstawowych wielkości statystycznych \n",
    "w oparciu o listy liczb (INT, FLOAT)\n",
    "\"\"\"\n",
    "from numseq import *\n",
    "```\n",
    "\n",
    "Opis modułu (krótki i nie do końca pełny...) nieprzypadkowo jest ujęty w `\"\"\"...\"\"\"`. Dzięki temu zyskujemy `docstring` - opis modułu dostepny za pomocą funkcji `help(moduł)`.\n"
   ]
  },
  {
   "cell_type": "code",
   "execution_count": 9,
   "metadata": {},
   "outputs": [],
   "source": [
    "import statystyka"
   ]
  },
  {
   "cell_type": "code",
   "execution_count": 11,
   "metadata": {},
   "outputs": [],
   "source": [
    "# help(statystyka)"
   ]
  },
  {
   "cell_type": "markdown",
   "metadata": {},
   "source": [
    "#### zadanie właściwe - pakiet (moduł) statystyka\n",
    "Zbuduj funkcję obliczającą i zwracającą daną funkcjonalność. Wykorzystaj funkcje, które zaprogramowaliśmy w module `numseq`. Jeżeli funkcjonalność nie występuje w `numseq` to można użyć funkcji wbudowanych. \n",
    "\n",
    "1. `moda(L)` - (modalna, dominanta) wartość najczęściej występująca w liście liczb `L`\n",
    "* `srednia_arytmetyczna(L)` - średnią arytmetyczną liczb z listy `L`\n",
    "* `srednia_harmoniczna(L)` - średnią harmoniczną liczb z listy `L`\n",
    "* `srednia_geometryczna(L)` - średnią geometryczną liczb z listy `L`\n",
    "* `srednia_kwadratowa(L)` - średnią kwadratową liczb z listy `L`\n",
    "* `modalna(L)` - (dominanta, moda) wartość najczęściej występująca w liście liczb `L`\n",
    "* `mediana(L)` - medianę liczb z listy `L`\n",
    "* `dolny_kwartyl(L)` - 1-wszy (dolny) kwartyl liczb z listy `L`\n",
    "* `gorny_kwartyl(L)` - 3-ci (górny) kwartyl liczb z listy `L`\n",
    "* `dominanta(L)` - (modalna, moda) wartość najczęściej występująca w liście liczb `L`\n",
    "\n",
    "Lista\n",
    "* Alicja Palka :2\n",
    "* Bartosz Kowalik:3\n",
    "* Daria Okrzesik :4\n",
    "* Igor Juraszek:5\n",
    "* Jakub Pawlik :6\n",
    "* Krystian Osmenda :7\n",
    "* Magdalena Migoda :8\n",
    "* Magdalena Polak :9\n",
    "* Marcin Jargiło:10\n",
    "* Marek Lisowski:1\n",
    "* Patrycja Nogaj :2\n",
    "* Paulina Cwieląg:3\n",
    "* Pawel Piskozub :4\n",
    "* Sara Lyko :5\n",
    "* Taisja Konowałow:6\n",
    "* Zuzanna Miglas :9"
   ]
  },
  {
   "cell_type": "code",
   "execution_count": null,
   "metadata": {},
   "outputs": [],
   "source": []
  },
  {
   "cell_type": "code",
   "execution_count": 16,
   "metadata": {},
   "outputs": [],
   "source": [
    "import statystyka as s"
   ]
  },
  {
   "cell_type": "code",
   "execution_count": 17,
   "metadata": {},
   "outputs": [
    {
     "data": {
      "text/plain": [
       "2"
      ]
     },
     "execution_count": 17,
     "metadata": {},
     "output_type": "execute_result"
    }
   ],
   "source": [
    "s.dominanta([1, 2, 2, 3, 4, 2, 2])"
   ]
  },
  {
   "cell_type": "code",
   "execution_count": 18,
   "metadata": {},
   "outputs": [
    {
     "data": {
      "text/plain": [
       "<module 'statystyka' from '/home/users/lukasz.machura/uni/kc/Programowanie/kc_p_lab03_modules/statystyka.py'>"
      ]
     },
     "execution_count": 18,
     "metadata": {},
     "output_type": "execute_result"
    }
   ],
   "source": [
    "importlib.reload(statystyka)"
   ]
  },
  {
   "cell_type": "code",
   "execution_count": 19,
   "metadata": {},
   "outputs": [
    {
     "data": {
      "text/plain": [
       "<module 'statystyka' from '/home/users/lukasz.machura/uni/kc/Programowanie/kc_p_lab03_modules/statystyka.py'>"
      ]
     },
     "execution_count": 19,
     "metadata": {},
     "output_type": "execute_result"
    }
   ],
   "source": [
    "importlib.reload(s)"
   ]
  },
  {
   "cell_type": "code",
   "execution_count": 20,
   "metadata": {},
   "outputs": [
    {
     "data": {
      "text/plain": [
       "2.0"
      ]
     },
     "execution_count": 20,
     "metadata": {},
     "output_type": "execute_result"
    }
   ],
   "source": [
    "s.srednia_arytmetyczna([2, 2, 2])"
   ]
  },
  {
   "cell_type": "code",
   "execution_count": 21,
   "metadata": {},
   "outputs": [
    {
     "name": "stdout",
     "output_type": "stream",
     "text": [
      "2\n"
     ]
    }
   ],
   "source": [
    "def modalna(L):\n",
    "    def ileWystapien(liczba):\n",
    "        licznik = 0\n",
    "        for i in L:\n",
    "            if i == liczba:\n",
    "                licznik += 1\n",
    "        return licznik\n",
    "   \n",
    "    def najwieksza(lista):\n",
    "        output = 0\n",
    "        naj = lista[0][1]\n",
    "        for i in lista:\n",
    "            if i[1] > naj:\n",
    "                naj = i[1]\n",
    "                output = i[0]\n",
    "        return output\n",
    "   \n",
    "    zbior = set(L)\n",
    "    output = list()\n",
    " \n",
    "    for i in zbior:\n",
    "        output.append([i,ileWystapien(i)])\n",
    " \n",
    "    return najwieksza(output)\n",
    "   \n",
    "print(modalna([1,2,3,3,2,2]))"
   ]
  },
  {
   "cell_type": "code",
   "execution_count": null,
   "metadata": {},
   "outputs": [],
   "source": []
  }
 ],
 "metadata": {
  "kernelspec": {
   "display_name": "Python 3",
   "language": "python",
   "name": "python3"
  },
  "language_info": {
   "codemirror_mode": {
    "name": "ipython",
    "version": 3
   },
   "file_extension": ".py",
   "mimetype": "text/x-python",
   "name": "python",
   "nbconvert_exporter": "python",
   "pygments_lexer": "ipython3",
   "version": "3.7.3"
  }
 },
 "nbformat": 4,
 "nbformat_minor": 2
}
