{
 "cells": [
  {
   "cell_type": "markdown",
   "metadata": {
    "id": "FxgIS2hvNRXm"
   },
   "source": [
    "# Programowanie, lab 4, testy\n",
    "\n",
    "start: 13:50"
   ]
  },
  {
   "cell_type": "code",
   "execution_count": null,
   "metadata": {
    "id": "k01NLj2iNRXt"
   },
   "outputs": [],
   "source": [
    ""
   ]
  },
  {
   "cell_type": "markdown",
   "metadata": {
    "id": "hAnZQoGdNRXt"
   },
   "source": [
    "## prosta funkcja\n",
    "\n",
    "Załóżmy, że zaprojektowaliśmy funkcję logiczną o takiej specyfikacji\n",
    "\n",
    "```\n",
    "def jest_nie_mniejsza(a, b):\n",
    "    '''\n",
    "    Funkcja sprawdza czy pierwszy argument nie jest mniejszy od drugiego agrumentu\n",
    "    \n",
    "    WE\n",
    "        a: literał liczbowy\n",
    "        b: literał liczbowy\n",
    "        \n",
    "    WY\n",
    "        True: gdy a jest nie mniejsza od b\n",
    "        False: w przeciwnym przypadku\n",
    "    '''\n",
    "```"
   ]
  },
  {
   "cell_type": "code",
   "execution_count": null,
   "metadata": {
    "id": "gtloptwNNRXu"
   },
   "outputs": [],
   "source": [
    ""
   ]
  },
  {
   "cell_type": "markdown",
   "metadata": {
    "id": "BiKnG1D5NRXu"
   },
   "source": [
    "### Ćwiczenie 1 (1 min)\n",
    "Napisz funkcję o powyższej specyfikacji. Kto pierwszy ten lepszy."
   ]
  },
  {
   "cell_type": "code",
   "execution_count": null,
   "metadata": {
    "id": "yZ1Vdc7UNRXu"
   },
   "outputs": [],
   "source": [
    "def jest_nie_mniejsza(a, b):\n",
    "    '''\n",
    "    Funkcja sprawdza czy pierwszy argument nie jest mniejszy od drugiego agrumentu\n",
    "    WE: a, b: literały liczbowy\n",
    "    WY: True gdy a jest nie mniejsza od b, False w przeciwnym przypadku\n",
    "    '''\n",
    "    if a <= b:\n",
    "        return False\n",
    "    else:\n",
    "        return True"
   ]
  },
  {
   "cell_type": "markdown",
   "metadata": {
    "id": "j52lk3HHNRXv"
   },
   "source": [
    "### Ćwiczenie 2 (5 min)\n",
    "Podaj 1 (dowolny) test funkcji `jest_nie_mniejsza`.\n",
    "\n",
    "Jeżeli teraz wywołamy sobie takie najszybciej przychodzące do głowy testy np:"
   ]
  },
  {
   "cell_type": "code",
   "execution_count": null,
   "metadata": {
    "id": "6X5YpbsJNRXv",
    "outputId": "7ecab1c7-2efd-4be3-9f32-8a903031d3ed"
   },
   "outputs": [
    {
     "name": "stdout",
     "output_type": "stream",
     "text": [
      "(3, 4) False\n",
      "(-12, -15) True\n",
      "(3, 4) False\n",
      "(3, 3) False\n",
      "(4.0, 4) False\n",
      "(33.000000000001, 33) True\n",
      "(-9, 2) False\n",
      "(0, 0) False\n"
     ]
    }
   ],
   "source": [
    "print(jest_nie_mniejsza(3, 4))\n",
    "print(jest_nie_mniejsza(-12, -15))\n",
    "print(jest_nie_mniejsza(3, 4))\n",
    "print(jest_nie_mniejsza(3, 3))\n",
    "print(jest_nie_mniejsza(4.0, 4))\n",
    "print(jest_nie_mniejsza(33.000000000001, 33))\n",
    "print(jest_nie_mniejsza(-9, 2))\n",
    "print(jest_nie_mniejsza(0, 0))"
   ]
  },
  {
   "cell_type": "code",
   "execution_count": null,
   "metadata": {
    "id": "5dKtzpZkNRXw",
    "outputId": "50dacc04-a60f-4954-8f12-58650f1e8751"
   },
   "outputs": [
    {
     "name": "stdout",
     "output_type": "stream",
     "text": [
      "(3, 4) False\n",
      "(-12, -15) True\n",
      "(3, 4) False\n",
      "!!!(3, 3) False\n",
      "!!!(4.0, 4) False\n",
      "(33.000000000001, 33) True\n",
      "(-9, 2) False\n",
      "!!!(0, 0) False\n"
     ]
    }
   ],
   "source": [
    "print(\"(3, 4)\", jest_nie_mniejsza(3, 4))\n",
    "print(\"(-12, -15)\", jest_nie_mniejsza(-12, -15))\n",
    "print(\"(3, 4)\", jest_nie_mniejsza(3, 4))\n",
    "print(\"!!!(3, 3)\", jest_nie_mniejsza(3, 3))\n",
    "print(\"!!!(4.0, 4)\", jest_nie_mniejsza(4.0, 4))\n",
    "print(\"(33.000000000001, 33)\", jest_nie_mniejsza(33.000000000001, 33))\n",
    "print(\"(-9, 2)\", jest_nie_mniejsza(-9, 2))\n",
    "print(\"!!!(0, 0)\", jest_nie_mniejsza(0, 0))"
   ]
  },
  {
   "cell_type": "code",
   "execution_count": null,
   "metadata": {
    "id": "MEiXokjXNRXx",
    "outputId": "c22ddd7b-0c1d-4ee0-acaa-1214a72398cd"
   },
   "outputs": [
    {
     "name": "stdout",
     "output_type": "stream",
     "text": [
      "(3, 4) False False\n",
      "(-12, -15) True True\n",
      "(3, 4) False False\n",
      "(3, 3) False True\n",
      "(4.0, 4) False True\n",
      "(33.000000000001, 33) True True\n",
      "(-9, 2) False False\n",
      "(0, 0) False True\n"
     ]
    }
   ],
   "source": [
    "print(\"(3, 4)\", jest_nie_mniejsza(3, 4), False)\n",
    "print(\"(-12, -15)\", jest_nie_mniejsza(-12, -15), True)\n",
    "print(\"(3, 4)\", jest_nie_mniejsza(3, 4), False)\n",
    "print(\"(3, 3)\", jest_nie_mniejsza(3, 3), True)\n",
    "print(\"(4.0, 4)\", jest_nie_mniejsza(4.0, 4), True)\n",
    "print(\"(33.000000000001, 33)\", jest_nie_mniejsza(33.000000000001, 33), True)\n",
    "print(\"(-9, 2)\", jest_nie_mniejsza(-9, 2), False)\n",
    "print(\"(0, 0)\", jest_nie_mniejsza(0, 0), True)"
   ]
  },
  {
   "cell_type": "code",
   "execution_count": null,
   "metadata": {
    "id": "6m2xdJFINRXx",
    "outputId": "a4da4f69-ab76-40c2-e424-66eeb24a3997"
   },
   "outputs": [
    {
     "name": "stdout",
     "output_type": "stream",
     "text": [
      "(3, 4) True\n",
      "(-12, -15) True\n",
      "(3, 4) True\n",
      "(3, 3) False\n",
      "(4.0, 4) False\n",
      "(33.000000000001, 33) True\n",
      "(-9, 2) True\n",
      "(0, 0) False\n"
     ]
    }
   ],
   "source": [
    "print(\"(3, 4)\", jest_nie_mniejsza(3, 4) == False)\n",
    "print(\"(-12, -15)\", jest_nie_mniejsza(-12, -15) == True)\n",
    "print(\"(3, 4)\", jest_nie_mniejsza(3, 4) == False)\n",
    "print(\"(3, 3)\", jest_nie_mniejsza(3, 3) == True)\n",
    "print(\"(4.0, 4)\", jest_nie_mniejsza(4.0, 4) == True)\n",
    "print(\"(33.000000000001, 33)\", jest_nie_mniejsza(33.000000000001, 33) == True)\n",
    "print(\"(-9, 2)\", jest_nie_mniejsza(-9, 2) == False)\n",
    "print(\"(0, 0)\", jest_nie_mniejsza(0, 0) == True)"
   ]
  },
  {
   "cell_type": "code",
   "execution_count": null,
   "metadata": {
    "id": "M2NPo5paNRXx"
   },
   "outputs": [],
   "source": [
    "def jest_nie_mniejsza(a, b):\n",
    "    '''\n",
    "    Funkcja sprawdza czy pierwszy argument nie jest mniejszy od drugiego agrumentu\n",
    "    WE: a, b: literały liczbowy\n",
    "    WY: True gdy a jest nie mniejsza od b, False w przeciwnym przypadku\n",
    "    '''\n",
    "    if a < b:  # tutaj był błąd\n",
    "        return False\n",
    "    else:\n",
    "        return True\n",
    "    \n",
    "#     return a >= b"
   ]
  },
  {
   "cell_type": "code",
   "execution_count": null,
   "metadata": {
    "id": "6oPQ4nuJNRXy",
    "outputId": "d6a662d7-60a9-4fb3-b2c6-8ce9cec7c9e4"
   },
   "outputs": [
    {
     "name": "stdout",
     "output_type": "stream",
     "text": [
      "(3, 4) True\n",
      "(-12, -15) True\n",
      "(3, 4) True\n",
      "(3, 3) False\n",
      "(4.0, 4) False\n",
      "(33.000000000001, 33) True\n",
      "(-9, 2) True\n",
      "(0, 0) False\n"
     ]
    }
   ],
   "source": [
    "print(\"(3, 4)\", jest_nie_mniejsza(3, 4) == False)\n",
    "print(\"(-12, -15)\", jest_nie_mniejsza(-12, -15) == True)\n",
    "print(\"(3, 4)\", jest_nie_mniejsza(3, 4) == False)\n",
    "print(\"(3, 3)\", jest_nie_mniejsza(3, 3) == True)\n",
    "print(\"(4.0, 4)\", jest_nie_mniejsza(4.0, 4) == True)\n",
    "print(\"(33.000000000001, 33)\", jest_nie_mniejsza(33.000000000001, 33) == True)\n",
    "print(\"(-9, 2)\", jest_nie_mniejsza(-9, 2) == False)\n",
    "print(\"(0, 0)\", jest_nie_mniejsza(0, 0) == True)"
   ]
  },
  {
   "cell_type": "code",
   "execution_count": null,
   "metadata": {
    "id": "avtmKrkaNRXy",
    "outputId": "efc5d185-b100-4632-e5b5-c187499e23a8"
   },
   "outputs": [
    {
     "data": {
      "text/plain": [
       "'testow 10, w tym bledow 0'"
      ]
     },
     "execution_count": 46,
     "metadata": {
      "tags": []
     },
     "output_type": "execute_result"
    }
   ],
   "source": [
    "def jest_nie_mniejsza(a, b):\n",
    "    '''\n",
    "    Funkcja sprawdza czy pierwszy argument nie jest mniejszy od drugiego agrumentu\n",
    "    WE: a, b: literały liczbowy\n",
    "    WY: True gdy a jest nie mniejsza od b, False w przeciwnym przypadku\n",
    "    '''\n",
    "    return a >= b\n",
    "\n",
    "\n",
    "def test_jest_nie_mniejsza():\n",
    "    dane_testowe = [\n",
    "        (3, 4, False), (-12, -15, True),\n",
    "        (4, 3, True), (4.0, 4, True),\n",
    "        (3, 3, True), (0, 0, True),\n",
    "        (33.000000000001, 33, True), (33.00000000000, 33, True),\n",
    "        (1, 1, True), (-1, -1, True)\n",
    "    ]\n",
    "    bledy = 0\n",
    "    for w1, w2, spodziewany_wynik in dane_testowe:\n",
    "        if jest_nie_mniejsza(w1, w2) != spodziewany_wynik:\n",
    "            bledy += 1\n",
    "            print(f\"a={w1}, b={w2} res: {jest_nie_mniejsza(w1, w2)} exp: {spodziewany_wynik}\")\n",
    "    return f'testow {len(dane_testowe)}, w tym bledow {bledy}'\n",
    "\n",
    "\n",
    "test_jest_nie_mniejsza()"
   ]
  },
  {
   "cell_type": "code",
   "execution_count": null,
   "metadata": {
    "id": "xOX0ZbVkNRXz"
   },
   "outputs": [],
   "source": [
    "def test_all_functions(fun, zestaw_testow):\n",
    "    pass"
   ]
  },
  {
   "cell_type": "code",
   "execution_count": null,
   "metadata": {
    "id": "AvRm5ie3NRXz"
   },
   "outputs": [],
   "source": [
    ""
   ]
  },
  {
   "cell_type": "markdown",
   "metadata": {
    "id": "UX0EtRQ_NRXz"
   },
   "source": [
    "### Ćwiczenie 3\n",
    "Zaprojektuj podaną funkcję. Napisz porządny `docstring`, tak by inna osoba była w stanie przetestować Twoją funkcję. Następnie napisz testy jednostkowe do funkcji innej osoby.\n",
    "\n",
    "1. `jest_wieksza(a, b)` - True gdy a jest większe od b, False w odwrotnym przypadku\n",
    "* `jest_parzysta(x)` - True gdy x jest parzyste, False w odwrotnym przypadku\n",
    "* `jest_lista(w)` - True gdy w jest listą, False w odwrotnym przypadku\n",
    "* `jest_nieparzysta(y)` - True gdy y jest nieparzyste, False w odwrotnym przypadku\n",
    "* `jest_rowna_zero(z)` - True gdy z jest równe `0`, False w odwrotnym przypadku\n",
    "* `jest_ujemna(a)` - True gdy a jest ujemną liczbą, False w odwrotnym przypadku\n",
    "* `jest_nieujemna(r)` - True gdy r jest liczbą nieujemną, False w odwrotnym przypadku\n",
    "* `ocena_niedostateczna(L)` - L to lista liczb, jeżeli średnia jest < 3, to funkcja zwraca True, w odwrotnym przypadku False\n",
    "* `jest_bezwzglednie_wieksza(a, b)` - True gdy wartość bezwzględna liczby a jest większe od wartości bezwzględnej liczby b, False w odwrotnym przypadku\n",
    "* `suma_zero(u, v)` - True gdy suma liczb u i v jest równa `0`, False w odwrotnym przypadku\n",
    "\n",
    "Jedna osoba buduje funkcję `fun` (nazwy powyżej) - może być z błędami!, druga ją testuje budując funkcję `test_fun`. Co oznacza, że każdy i-ty student dostaje (a) funkcję jedną z powyższych do napisania (5 min) a potem (b) testuje funkcję (i+1)-go kolegi/koleżanki (10 min???)\n",
    "\n",
    "1. Bartosz (Taisja)\n",
    "2. Igor (Bartosz)\n",
    "1. Marcin (Igor)\n",
    "1. Marek (Marcin)\n",
    "1. Paulina (Marek)\n",
    "1. Taisja (Paulina)"
   ]
  },
  {
   "cell_type": "code",
   "execution_count": null,
   "metadata": {
    "id": "n6h_QLJQNRX0"
   },
   "outputs": [],
   "source": [
    "def jest_wieksza(a, b):\n",
    "    '''Sprawdza, czy argument pierwszy jest większy od argumentu drugiego\n",
    "    WEJ: a(int, float), b(int, float)\n",
    "    WYJ: True - gdy a jest większe od b; False - gdy a jest mniejsze od b'''\n",
    "    return a > b\n",
    "\n",
    "def jest_parzysta(x):\n",
    "    'Funkcja zwraca true, gdy podana liczba jest parzysta' \n",
    "    return not bool(x % 2)\n",
    "\n",
    "def jest_ujemna(a):\n",
    "    '''\n",
    "    Funkcja zwraca True, gdy a jest ujemną liczbą, False w odwrotnym przypadku\n",
    "    '''\n",
    "    if a < 0:\n",
    "        return True\n",
    "    else:\n",
    "        return False\n",
    "\n",
    "def jest_nieparzysta(y):\n",
    "    '''\n",
    "    funkcja zwraca True gdy podana liczba jest nieparzysta lub False gdy podana liczba jest parzysta\n",
    "    '''\n",
    "    if y % 2:\n",
    "        return True\n",
    "    else:\n",
    "        return False\n",
    "\n",
    "def jest_rowna_zero(z):\n",
    "    '''Funkcja sprawdza, czy podana liczba jest równa zero, \n",
    "    jeżeli tak, zwraca True, jeżeli nie, zwraca False.'''\n",
    "    if  z == 0:\n",
    "        return True\n",
    "    else:\n",
    "        return False\n",
    "\n",
    "def jest_lista(w):\n",
    "    'funkcja sprawdza czy W jest lista'\n",
    "    if type(w) == list:\n",
    "        return True\n",
    "    else:\n",
    "        return False\n",
    "    \n",
    "    \n",
    "def test_jest_wieksza():\n",
    "    'Testy do funkcji \"jest wieksza\"'\n",
    "    \n",
    "    dane_testowe = [\n",
    "        (0, 0, False),\n",
    "        (2, 1, True),\n",
    "        (2.0, 1, True),\n",
    "        (-1, -2, True)\n",
    "    ]\n",
    "    \n",
    "    err = 0\n",
    "    for val_1, val_2, exp in dane_testowe:\n",
    "        if jest_wieksza(val_1, val_2) != exp:\n",
    "            print(f'{val_1}, {val_2}, res: {jest_wieksza(val_1, val_2)} exp: {exp}')\n",
    "            err += 1\n",
    "    \n",
    "    return f'Testy: {len(dane_testowe)}, błędy: {err}'\n",
    "\n",
    "\n",
    "def test_jest_rowna_zero():\n",
    "    testy = [\n",
    "        (3, False),\n",
    "        (0, True),\n",
    "        (1, False),\n",
    "        (0.67, False),\n",
    "    ]\n",
    "\n",
    "    for wartosc_y, spodziewany_wynik in testy:\n",
    "        if not jest_rowna_zero(wartosc_y) == spodziewany_wynik:\n",
    "            print(f\"Wartość y: {wartosc_y} Rezultat próby: {jest_rowna_zero(wartosc_y)} Poprawny wynik: {spodziewany_wynik}\")\n",
    "\n",
    "\n",
    "def test_jest_ujemna():\n",
    "    \n",
    "    dane_testowe = [\n",
    "        (0, False), (-0.1, True), (-1, True), (1, False), (0.1, False)\n",
    "    ]\n",
    "    \n",
    "    bledy = 0\n",
    "    for val, exp in dane_testowe:\n",
    "        if exp != jest_ujemna(val):\n",
    "            print(f'jest_ujemna({val})', jest_ujemna(val))\n",
    "            bledy += 1\n",
    "            \n",
    "    return f'Zrobionych testów {len(dane_testowe)}, błędów: {bledy}.'\n",
    "\n",
    "\n",
    "def test_jest_parzysta():\n",
    "    'Funkcja testuje funkcje jest_parzysta'\n",
    "    \n",
    "    test = [\n",
    "        (0, True),\n",
    "        (1, False),\n",
    "        (2, True),\n",
    "        (-1, False),\n",
    "        (-2, True)\n",
    "    ]\n",
    "    \n",
    "    for wartosc, wynik in test:\n",
    "        if jest_parzysta(wartosc) != wynik:\n",
    "            print(f\"Wartosc: {wartosc} Wynik: {wynik}\")\n",
    "    \n",
    "    return\n",
    "\n",
    "\n",
    "def test_jest_lista():\n",
    "    testy = [\n",
    "        (2, False),\n",
    "        ([2, 1], True),\n",
    "        (1, False)\n",
    "    ]\n",
    "\n",
    "    for wartosc_y, spodziewany_wynik in testy:\n",
    "        if type(wartosc_y) == list:\n",
    "            print(f\"Wartość y: {wartosc_y} Rezultat próby: {jest_rowna_zero(wartosc_y)} Poprawny wynik: {spodziewany_wynik}\")\n",
    "\n",
    "\n",
    "def test_jest_nieparzysta():\n",
    "    '''Funkcja testuje funkcję \"jest_nieparzysta\".'''\n",
    "    dane_testowe = [\n",
    "        (1, True),\n",
    "        (2, False),\n",
    "        (12, False),\n",
    "        (-21, True),\n",
    "        (0, False),\n",
    "        (123.33, True)\n",
    "    ]\n",
    "    \n",
    "    bledy = 0\n",
    "    for argument, spodziewany_wynik in dane_testowe:\n",
    "        if jest_nieparzysta(argument) != spodziewany_wynik:\n",
    "            print(f'{argument}, wynik: {jest_nieparzysta(argument)}, spodziewana: {spodziewany_wynik}')\n",
    "            bledy += 1\n",
    "                  \n",
    "    return f'Testy: {len(dane_testowe)}, błędy: {bledy}'"
   ]
  },
  {
   "cell_type": "code",
   "execution_count": null,
   "metadata": {
    "id": "c26-7QUYNRX1",
    "outputId": "a906c0a2-7879-4cd1-ebdd-80b8b8b7b86d"
   },
   "outputs": [
    {
     "name": "stdout",
     "output_type": "stream",
     "text": [
      "Testy: 4, błędy: 0\n",
      "Zrobionych testów 5, błędów: 0.\n",
      "None\n",
      "None\n",
      "Testy: 6, błędy: 0\n",
      "Wartość y: [2, 1] Rezultat próby: False Poprawny wynik: True\n",
      "None\n"
     ]
    }
   ],
   "source": [
    "print(test_jest_wieksza())\n",
    "print(test_jest_ujemna())\n",
    "print(test_jest_rowna_zero())\n",
    "print(test_jest_parzysta())\n",
    "print(test_jest_nieparzysta(jest_nieparzysta))\n",
    "print(test_jest_lista())"
   ]
  },
  {
   "cell_type": "code",
   "execution_count": null,
   "metadata": {
    "id": "k6ItAYw5NRX1"
   },
   "outputs": [],
   "source": [
    ""
   ]
  },
  {
   "cell_type": "markdown",
   "metadata": {
    "id": "VVdy53HdNRX1"
   },
   "source": [
    "## asercje\n",
    "\n",
    "Mechanizm `if-else` jest całkiem w porządku w czasie testów. Lepiej jednak używać metody, która zatrzyma nam program i jego działanie, jeżeli jakiś test nie przejdzie. Aby upewnić się, że jakiś warunek spełniony jest bezwzględnie posługujemy się komendą \n",
    "\n",
    "```\n",
    "assert WARUNEK, 'wiadomość'\n",
    "```\n",
    "\n",
    "Jeżeli `WARUNEK` nie będzie spełniony, to interpreter podniesie wyjątek `AssertionError` i wydrukuje `wiadomość`. Np:"
   ]
  },
  {
   "cell_type": "code",
   "execution_count": null,
   "metadata": {
    "id": "fFO9ddQxNRX1",
    "outputId": "0c12256f-5547-4ae7-ea24-6ad38d5fec36"
   },
   "outputs": [
    {
     "ename": "AssertionError",
     "evalue": "na 100% będzie wyjątek!",
     "output_type": "error",
     "traceback": [
      "\u001b[0;31m---------------------------------------------------------------------------\u001b[0m",
      "\u001b[0;31mAssertionError\u001b[0m                            Traceback (most recent call last)",
      "\u001b[0;32m<ipython-input-80-f882987b492f>\u001b[0m in \u001b[0;36m<module>\u001b[0;34m\u001b[0m\n\u001b[0;32m----> 1\u001b[0;31m \u001b[0;32massert\u001b[0m \u001b[0;32mFalse\u001b[0m\u001b[0;34m,\u001b[0m \u001b[0;34m'na 100% będzie wyjątek!'\u001b[0m\u001b[0;34m\u001b[0m\u001b[0;34m\u001b[0m\u001b[0m\n\u001b[0m",
      "\u001b[0;31mAssertionError\u001b[0m: na 100% będzie wyjątek!"
     ]
    }
   ],
   "source": [
    "assert False, 'na 100% będzie wyjątek!'"
   ]
  },
  {
   "cell_type": "code",
   "execution_count": null,
   "metadata": {
    "id": "7_VjoTUvNRX2"
   },
   "outputs": [],
   "source": [
    "def test_jest_nieparzysta_assert():\n",
    "    '''Funkcja testuje funkcję \"jest_nieparzysta\".'''\n",
    "    dane_testowe = [\n",
    "        (1, True),\n",
    "        (2, False),\n",
    "        (12, False),\n",
    "        (-21, True),\n",
    "        (0, False),\n",
    "        (123.33, False)\n",
    "    ]\n",
    "    \n",
    "    bledy = 0\n",
    "    for a, sw in dane_testowe:\n",
    "        test = jest_nieparzysta(a)\n",
    "        assert test == sw, f'{a}, wynik: {test}, spodziewana: {sw}'\n",
    "        bledy += 1\n",
    "                  \n",
    "    #return f'Testy: {len(dane_testowe)}, błędy: {bledy}'"
   ]
  },
  {
   "cell_type": "code",
   "execution_count": null,
   "metadata": {
    "id": "XT2e6N1mNRX2",
    "outputId": "d77f6449-817f-4669-9ea1-e51cdc27ca04"
   },
   "outputs": [
    {
     "ename": "AssertionError",
     "evalue": "123.33, wynik: True, spodziewana: False",
     "output_type": "error",
     "traceback": [
      "\u001b[0;31m---------------------------------------------------------------------------\u001b[0m",
      "\u001b[0;31mAssertionError\u001b[0m                            Traceback (most recent call last)",
      "\u001b[0;32m<ipython-input-99-4afa500b2cb1>\u001b[0m in \u001b[0;36m<module>\u001b[0;34m\u001b[0m\n\u001b[0;32m----> 1\u001b[0;31m \u001b[0mtest_jest_nieparzysta_assert\u001b[0m\u001b[0;34m(\u001b[0m\u001b[0;34m)\u001b[0m\u001b[0;34m\u001b[0m\u001b[0;34m\u001b[0m\u001b[0m\n\u001b[0m",
      "\u001b[0;32m<ipython-input-98-23d53a2d79ff>\u001b[0m in \u001b[0;36mtest_jest_nieparzysta_assert\u001b[0;34m()\u001b[0m\n\u001b[1;32m     13\u001b[0m     \u001b[0;32mfor\u001b[0m \u001b[0ma\u001b[0m\u001b[0;34m,\u001b[0m \u001b[0msw\u001b[0m \u001b[0;32min\u001b[0m \u001b[0mdane_testowe\u001b[0m\u001b[0;34m:\u001b[0m\u001b[0;34m\u001b[0m\u001b[0;34m\u001b[0m\u001b[0m\n\u001b[1;32m     14\u001b[0m         \u001b[0mtest\u001b[0m \u001b[0;34m=\u001b[0m \u001b[0mjest_nieparzysta\u001b[0m\u001b[0;34m(\u001b[0m\u001b[0ma\u001b[0m\u001b[0;34m)\u001b[0m\u001b[0;34m\u001b[0m\u001b[0;34m\u001b[0m\u001b[0m\n\u001b[0;32m---> 15\u001b[0;31m         \u001b[0;32massert\u001b[0m \u001b[0mtest\u001b[0m \u001b[0;34m==\u001b[0m \u001b[0msw\u001b[0m\u001b[0;34m,\u001b[0m \u001b[0;34mf'{a}, wynik: {test}, spodziewana: {sw}'\u001b[0m\u001b[0;34m\u001b[0m\u001b[0;34m\u001b[0m\u001b[0m\n\u001b[0m\u001b[1;32m     16\u001b[0m         \u001b[0mbledy\u001b[0m \u001b[0;34m+=\u001b[0m \u001b[0;36m1\u001b[0m\u001b[0;34m\u001b[0m\u001b[0;34m\u001b[0m\u001b[0m\n\u001b[1;32m     17\u001b[0m \u001b[0;34m\u001b[0m\u001b[0m\n",
      "\u001b[0;31mAssertionError\u001b[0m: 123.33, wynik: True, spodziewana: False"
     ]
    }
   ],
   "source": [
    "test_jest_nieparzysta_assert()"
   ]
  },
  {
   "cell_type": "code",
   "execution_count": null,
   "metadata": {
    "id": "OX4AJHnLNRX2",
    "outputId": "39b1b168-0d69-43c8-e5dc-ab61651ab645"
   },
   "outputs": [
    {
     "name": "stdout",
     "output_type": "stream",
     "text": [
      "Help on function jest_nie_mniejsza in module __main__:\n",
      "\n",
      "jest_nie_mniejsza(a, b)\n",
      "    Funkcja sprawdza czy pierwszy argument nie jest mniejszy od drugiego agrumentu\n",
      "    WE: a, b: literały liczbowy\n",
      "    WY: True gdy a jest nie mniejsza od b, False w przeciwnym przypadku\n",
      "\n"
     ]
    }
   ],
   "source": [
    "help(jest_nie_mniejsza)"
   ]
  },
  {
   "cell_type": "code",
   "execution_count": null,
   "metadata": {
    "id": "bh-zEqkSNRX3"
   },
   "outputs": [],
   "source": [
    ""
   ]
  },
  {
   "cell_type": "markdown",
   "metadata": {
    "id": "koNkz6woNRX3"
   },
   "source": [
    "* dla (a, b: int), (a, b: float), (a: float, b: int), (a: int, b: float)\n",
    "    * a, b > 0\n",
    "    * a, b < 0\n",
    "    * a > 0, b < 0\n",
    "    * a < 0, b > 0\n",
    "    * a == b\n",
    "    * a = 0, b != 0\n",
    "    * a != 0, b = 0\n",
    "    * a = b = 0\n"
   ]
  },
  {
   "cell_type": "code",
   "execution_count": null,
   "metadata": {
    "id": "68nm7DwENRX3"
   },
   "outputs": [],
   "source": [
    "def test_suite_jest_nie_mniejsza():\n",
    "    for a, b, odp in [(12, 10, True),  # int\n",
    "                      (-1, -2, True), \n",
    "                      (-2, 1, False),\n",
    "                      (10, -10, True),\n",
    "                      (100, 100, True), (-100, -100, True),\n",
    "                      (0, 0, True),\n",
    "                      (0, -10, True),\n",
    "                      (10, 0, True)\n",
    "                     ] + [(12., 10., True),   # float\n",
    "                      (-1., -2., True), \n",
    "                      (-2., 1., False),\n",
    "                      (10., -10., True),\n",
    "                      (100., 100., True), (-100., -100., True),\n",
    "                      (0., 0., True),\n",
    "                      (0., -10., True),\n",
    "                      (10., 0., True)\n",
    "                     ]:\n",
    "            test = jest_nie_mniejsza(a, b)\n",
    "            assert test == odp, f'jest_nie_mniejsza({a}, {b}): {test} != {odp}'"
   ]
  },
  {
   "cell_type": "code",
   "execution_count": null,
   "metadata": {
    "id": "CH_FtosMNRX3"
   },
   "outputs": [],
   "source": [
    "test_suite_jest_nie_mniejsza()"
   ]
  },
  {
   "cell_type": "code",
   "execution_count": null,
   "metadata": {
    "id": "lsyp94nLNRX3"
   },
   "outputs": [],
   "source": [
    ""
   ]
  },
  {
   "cell_type": "markdown",
   "metadata": {
    "id": "jdY8mTfVNRX3"
   },
   "source": [
    "### Ćwiczenie 4\n",
    "Ułóż **zestaw testów** do swojej funkcji z ćwiczenia 3. Przedstaw zarówno podział przestrzeni możliwych argumentów jak i implementację testu."
   ]
  },
  {
   "cell_type": "code",
   "execution_count": null,
   "metadata": {
    "id": "oRi0NbsiNRX3"
   },
   "outputs": [],
   "source": [
    "def jest_parzysta(x):\n",
    "    'Funkcja zwraca true, gdy podana liczba jest parzysta'\n",
    "    return not bool(x % 2)\n",
    "\n",
    "\n",
    "def test_suite_jest_parzysta():\n",
    "    for val_1, odpowiedz in ([\n",
    "        (1, False), (-1, False),\n",
    "        (2, True), (-2, True),\n",
    "        (3, False), (-3, False),\n",
    "        (11, False),\n",
    "        (0, True),\n",
    "        (2.0, True), (-2.0, True),\n",
    "        (2.01, False), (-2.01, False),\n",
    "    ]):\n",
    "        test = jest_parzysta(val_1)\n",
    "        assert test == odpowiedz, f'jest_parzysta({val_1}): {test} != {odpowiedz}'\n",
    "        \n",
    "test_suite_jest_parzysta()"
   ]
  },
  {
   "cell_type": "code",
   "execution_count": null,
   "metadata": {
    "id": "8VZvB2OzNRX4"
   },
   "outputs": [],
   "source": [
    "def jest_rowna_zero(z):\n",
    "    '''Funkcja sprawdza, czy podana liczba jest równa zero.'''\n",
    "    if  z == 0:\n",
    "        return True\n",
    "    else:\n",
    "        return False\n",
    "    \n",
    "def test_suite_jest_rowna_zero():\n",
    "    for z, odp in [\n",
    "        (3, False),\n",
    "        (0, True), (0.0, True),\n",
    "        (1, False),\n",
    "        (0.67, False), (-0.67, False),\n",
    "        (-11, False)\n",
    "        ]:\n",
    "        test = jest_rowna_zero(z)\n",
    "        assert test == odp, f'jest_rowna_zero({z}: {test} != {odp}'\n",
    "\n",
    "test_suite_jest_rowna_zero()"
   ]
  },
  {
   "cell_type": "code",
   "execution_count": null,
   "metadata": {
    "id": "YI18GQYnNRX4"
   },
   "outputs": [],
   "source": [
    ""
   ]
  }
 ],
 "metadata": {
  "colab": {
   "name": "kc20_programowanie_g1_lab04.ipynb",
   "provenance": []
  },
  "kernelspec": {
   "display_name": "Python 3",
   "language": "python",
   "name": "python3"
  },
  "language_info": {
   "codemirror_mode": {
    "name": "ipython",
    "version": 3
   },
   "file_extension": ".py",
   "mimetype": "text/x-python",
   "name": "python",
   "nbconvert_exporter": "python",
   "pygments_lexer": "ipython3",
   "version": "3.7.3"
  }
 },
 "nbformat": 4,
 "nbformat_minor": 0
}
