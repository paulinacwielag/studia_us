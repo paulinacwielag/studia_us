{
 "cells": [
  {
   "cell_type": "markdown",
   "metadata": {},
   "source": [
    "# KC, Programowanie\n",
    "\n",
    "## Progamowanie zorientowane obiektowo (PZO), część 1\n",
    "\n",
    "**start 13:47**"
   ]
  },
  {
   "cell_type": "code",
   "execution_count": 8,
   "metadata": {},
   "outputs": [],
   "source": [
    "class NazwaKlasy:\n",
    "    '''docstr dla klasy'''\n",
    "    \n",
    "    def __init__(self):\n",
    "        pass"
   ]
  },
  {
   "cell_type": "code",
   "execution_count": 9,
   "metadata": {},
   "outputs": [],
   "source": [
    "class NazwaKlasy2(object):\n",
    "    '''docstr dla klasy'''\n",
    "    pass"
   ]
  },
  {
   "cell_type": "code",
   "execution_count": null,
   "metadata": {},
   "outputs": [],
   "source": []
  },
  {
   "cell_type": "code",
   "execution_count": 2,
   "metadata": {},
   "outputs": [],
   "source": [
    "class Gruszka:\n",
    "    '''Klasa Gruszka'''\n",
    "    \n",
    "    def __init__(self, odmiana, waga, kolor):\n",
    "        self.odmiana = odmiana\n",
    "        self.waga = waga\n",
    "        self.kolor = kolor"
   ]
  },
  {
   "cell_type": "markdown",
   "metadata": {},
   "source": [
    "### Ćwiczenie 1\n",
    "Na bazie klasy `Gruszka` proszę stworzyć proste klasy uwzględniając podane atrybuty.\n",
    "\n",
    "1. klasa `Orzech`: odmiana (str), rozmiar (num), cena (num)\n",
    "* klasa `Motor`: marka (str), pojemnosc (num), KM (int)\n",
    "* klasa `Kot`: rasa (str), umaszczenie (str), imie (str)\n",
    "* klasa `Ksiazka`: tytul (str), autor (str), rok_wydania (int)\n",
    "* klasa `Kubek`: pojemność (num), materiał (str), kolor (str)\n",
    "* klasa `Obraz`: autor (str), technika (str), cena (float)\n",
    "\n",
    "\n",
    "1. Bartosz\n",
    "* Igor\n",
    "* Marcin\n",
    "* Marek\n",
    "* Paulina\n",
    "* Taisja"
   ]
  },
  {
   "cell_type": "code",
   "execution_count": 3,
   "metadata": {},
   "outputs": [],
   "source": [
    "g1 = Gruszka('General Leclerc', 150, 'żółty')"
   ]
  },
  {
   "cell_type": "code",
   "execution_count": 4,
   "metadata": {},
   "outputs": [
    {
     "data": {
      "text/plain": [
       "'General Leclerc'"
      ]
     },
     "execution_count": 4,
     "metadata": {},
     "output_type": "execute_result"
    }
   ],
   "source": [
    "g1.odmiana"
   ]
  },
  {
   "cell_type": "code",
   "execution_count": 5,
   "metadata": {},
   "outputs": [
    {
     "data": {
      "text/plain": [
       "150"
      ]
     },
     "execution_count": 5,
     "metadata": {},
     "output_type": "execute_result"
    }
   ],
   "source": [
    "g1.waga"
   ]
  },
  {
   "cell_type": "code",
   "execution_count": 6,
   "metadata": {},
   "outputs": [
    {
     "data": {
      "text/plain": [
       "'żółty'"
      ]
     },
     "execution_count": 6,
     "metadata": {},
     "output_type": "execute_result"
    }
   ],
   "source": [
    "g1.kolor"
   ]
  },
  {
   "cell_type": "code",
   "execution_count": 7,
   "metadata": {},
   "outputs": [
    {
     "data": {
      "text/plain": [
       "str"
      ]
     },
     "execution_count": 7,
     "metadata": {},
     "output_type": "execute_result"
    }
   ],
   "source": [
    "type(g1.odmiana)"
   ]
  },
  {
   "cell_type": "code",
   "execution_count": 8,
   "metadata": {},
   "outputs": [
    {
     "data": {
      "text/plain": [
       "'crelceL lareneG'"
      ]
     },
     "execution_count": 8,
     "metadata": {},
     "output_type": "execute_result"
    }
   ],
   "source": [
    "g1.odmiana[::-1]"
   ]
  },
  {
   "cell_type": "code",
   "execution_count": 9,
   "metadata": {},
   "outputs": [],
   "source": [
    "g1.odmiana = 'Komisówka'"
   ]
  },
  {
   "cell_type": "code",
   "execution_count": 10,
   "metadata": {},
   "outputs": [
    {
     "data": {
      "text/plain": [
       "'Komisówka'"
      ]
     },
     "execution_count": 10,
     "metadata": {},
     "output_type": "execute_result"
    }
   ],
   "source": [
    "g1.odmiana"
   ]
  },
  {
   "cell_type": "code",
   "execution_count": 13,
   "metadata": {},
   "outputs": [
    {
     "data": {
      "text/plain": [
       "{'odmiana': 'Komisówka', 'waga': 150, 'kolor': 'żółty'}"
      ]
     },
     "execution_count": 13,
     "metadata": {},
     "output_type": "execute_result"
    }
   ],
   "source": [
    "g1.__dict__"
   ]
  },
  {
   "cell_type": "code",
   "execution_count": 15,
   "metadata": {},
   "outputs": [],
   "source": [
    "# dir(g1)"
   ]
  },
  {
   "cell_type": "code",
   "execution_count": null,
   "metadata": {},
   "outputs": [],
   "source": []
  },
  {
   "cell_type": "code",
   "execution_count": 55,
   "metadata": {},
   "outputs": [],
   "source": [
    "class Gruszka:\n",
    "    '''Klasa Gruszka'''\n",
    "    \n",
    "    def __init__(self, odmiana, waga, kolor):\n",
    "        self.odmiana = odmiana\n",
    "        self.waga = waga\n",
    "        self.kolor = kolor\n",
    "        \n",
    "    def get_odmiana(self):\n",
    "        return self.odmiana\n",
    "    \n",
    "    def set_odmiana(self, var):\n",
    "        assert isinstance(var, str), 'odmiana musi być STR'\n",
    "        self.odmiana = var\n",
    "    \n",
    "    def get_waga(self):\n",
    "        return self.waga\n",
    "    \n",
    "    def set_waga(self, var):\n",
    "        assert isinstance(var, (int, float)), 'waga musi być INT/FLOAT'\n",
    "        self.waga = var\n",
    "    \n",
    "    def get_kolor(self):  # funkcja get_kolor(self) dla klasy Gruszka\n",
    "        return self.kolor\n",
    "    \n",
    "    def set_kolor(self, var):\n",
    "        assert isinstance(var, str), 'kolor musi być STR'\n",
    "        self.kolor = var\n",
    "        \n",
    "    def __str__(self):\n",
    "        ret = 'To jest obiekt klasy Gruszka '\n",
    "        ret += f'o odmianie {self.get_odmiana()} '\n",
    "        ret += f'o kolorze {self.get_kolor()} '\n",
    "        ret += f'o wadze {self.get_waga()} gram.'\n",
    "        return ret\n",
    "    \n",
    "    def __repr__(self):\n",
    "        return f'odmiana: {self.get_odmiana()}; kolor {self.get_kolor()}; waga {self.get_waga()}'"
   ]
  },
  {
   "cell_type": "markdown",
   "metadata": {},
   "source": [
    "### Ćwiczenie 2\n",
    "Dopisz gettery i settery do swojej klasy. Settery zaprogramuj *defensywnie*."
   ]
  },
  {
   "cell_type": "code",
   "execution_count": 56,
   "metadata": {},
   "outputs": [],
   "source": [
    "g2 = Gruszka('General Leclerc', 180, 'żółto-zielona')"
   ]
  },
  {
   "cell_type": "code",
   "execution_count": 57,
   "metadata": {},
   "outputs": [
    {
     "name": "stdout",
     "output_type": "stream",
     "text": [
      "To jest obiekt klasy Gruszka o odmianie General Leclerc o kolorze żółto-zielona o wadze 180 gram.\n"
     ]
    }
   ],
   "source": [
    "print(g2)"
   ]
  },
  {
   "cell_type": "code",
   "execution_count": 58,
   "metadata": {},
   "outputs": [
    {
     "data": {
      "text/plain": [
       "'To jest obiekt klasy Gruszka o odmianie General Leclerc o kolorze żółto-zielona o wadze 180 gram.'"
      ]
     },
     "execution_count": 58,
     "metadata": {},
     "output_type": "execute_result"
    }
   ],
   "source": [
    "str(g2)"
   ]
  },
  {
   "cell_type": "code",
   "execution_count": 59,
   "metadata": {},
   "outputs": [
    {
     "data": {
      "text/plain": [
       "odmiana: General Leclerc; kolor żółto-zielona; waga 180"
      ]
     },
     "execution_count": 59,
     "metadata": {},
     "output_type": "execute_result"
    }
   ],
   "source": [
    "g2"
   ]
  },
  {
   "cell_type": "code",
   "execution_count": null,
   "metadata": {},
   "outputs": [],
   "source": []
  },
  {
   "cell_type": "code",
   "execution_count": null,
   "metadata": {},
   "outputs": [],
   "source": []
  },
  {
   "cell_type": "code",
   "execution_count": 32,
   "metadata": {},
   "outputs": [
    {
     "data": {
      "text/plain": [
       "'żółto-zielona'"
      ]
     },
     "execution_count": 32,
     "metadata": {},
     "output_type": "execute_result"
    }
   ],
   "source": [
    "g2.kolor"
   ]
  },
  {
   "cell_type": "code",
   "execution_count": 33,
   "metadata": {},
   "outputs": [
    {
     "data": {
      "text/plain": [
       "'żółto-zielona'"
      ]
     },
     "execution_count": 33,
     "metadata": {},
     "output_type": "execute_result"
    }
   ],
   "source": [
    "g2.get_kolor()  # metoda get_kolor dla instancji g2"
   ]
  },
  {
   "cell_type": "code",
   "execution_count": 34,
   "metadata": {},
   "outputs": [],
   "source": [
    "g2.set_kolor('niebieska')"
   ]
  },
  {
   "cell_type": "code",
   "execution_count": 26,
   "metadata": {},
   "outputs": [
    {
     "data": {
      "text/plain": [
       "'niebieska'"
      ]
     },
     "execution_count": 26,
     "metadata": {},
     "output_type": "execute_result"
    }
   ],
   "source": [
    "g2.get_kolor()"
   ]
  },
  {
   "cell_type": "code",
   "execution_count": 37,
   "metadata": {},
   "outputs": [],
   "source": [
    "# g2.set_kolor([1, 2, 3])"
   ]
  },
  {
   "cell_type": "code",
   "execution_count": 43,
   "metadata": {},
   "outputs": [
    {
     "name": "stdout",
     "output_type": "stream",
     "text": [
      "To jest obiekt klasy Gruszka\n"
     ]
    }
   ],
   "source": [
    "print(g2)"
   ]
  },
  {
   "cell_type": "code",
   "execution_count": 39,
   "metadata": {},
   "outputs": [],
   "source": [
    "L = [1, 2, 3]"
   ]
  },
  {
   "cell_type": "code",
   "execution_count": 40,
   "metadata": {},
   "outputs": [
    {
     "name": "stdout",
     "output_type": "stream",
     "text": [
      "[1, 2, 3]\n"
     ]
    }
   ],
   "source": [
    "print(L)"
   ]
  },
  {
   "cell_type": "markdown",
   "metadata": {},
   "source": [
    "### Ćwiczenie 3\n",
    "Zaimplementuj klasę. Każda instancja powinna mieć trzy dowolne atrybuty. Dopisz docstring. Dodaj gettery i settery. Zbuduj `__str__` i `__repr__`.\n",
    "\n",
    "1. Bartosz : przyjaciel\n",
    "* Igor : bohater z gry komp.\n",
    "* Marcin : produkt w sklepie\n",
    "* Marek : aktor\n",
    "* Paulina : samochód\n",
    "* Taisja : taniec\n"
   ]
  },
  {
   "cell_type": "code",
   "execution_count": null,
   "metadata": {},
   "outputs": [],
   "source": []
  },
  {
   "cell_type": "markdown",
   "metadata": {},
   "source": [
    "### Rakieta\n",
    "Pora na nieco szerszy przykład. Oto klasa `Rakieta`. Może ona robić różne rzeczy, ale przede wszystkim jest obiektem latającym. Może mieć kilka ciekawych i typowych dla rakiet atrybutów: waga, ilość paliwa, położenie, prędkość... Pewnie i więcej, ale proszę sobie wyobrazić coś takiego:\n",
    "\n",
    "```\n",
    " ∧\n",
    " |\n",
    " |               ∧\n",
    " |              / \\\n",
    "y|--------------|o|  pozycja = (x, y)\n",
    " |              | |\n",
    " |               ᚄ\n",
    " |               |\n",
    " |               |\n",
    " +-------------------------->\n",
    "                 x\n",
    "```\n",
    "\n",
    "Zapomnimy o większości problemów z rakietami i ograniczymy się do latania rakietą. Będziemy po prostu opisywać, jak na obrazku powyżej położenie rakiety w układzie kartezjańskim."
   ]
  },
  {
   "cell_type": "code",
   "execution_count": 84,
   "metadata": {},
   "outputs": [],
   "source": [
    "class Rakieta:\n",
    "    def __init__(self, pozycja=(0, 0)):\n",
    "        self.pozycja = pozycja\n",
    "        \n",
    "    def get_pozycja(self):\n",
    "        return self.pozycja\n",
    "    \n",
    "    def set_pozycja(self, var):\n",
    "        assert isinstance(var, (tuple, list))\n",
    "        assert len(var) == 2\n",
    "        assert all([isinstance(el, (int, float)) for el in var])\n",
    "        assert var[1] >= 0\n",
    "        self.pozycja = var\n",
    "        \n",
    "    def w_gore(self, y):\n",
    "        # czytaj obecną pozycję\n",
    "        obecna_pozycja = self.get_pozycja()\n",
    "        obecna_x = obecna_pozycja[0]\n",
    "        obecna_y = obecna_pozycja[1]\n",
    "        \n",
    "        # ustaw nową\n",
    "        nowa_pozycja = (obecna_x, obecna_y + y)\n",
    "        \n",
    "        # zapisz nowy stan rakiety\n",
    "        self.set_pozycja(nowa_pozycja)\n",
    "    \n",
    "    def __repr__(self):\n",
    "        return f'rakieta w pozycji {self.get_pozycja()}'\n",
    "    \n",
    "    def __str__(self):\n",
    "        return self.__repr__()"
   ]
  },
  {
   "cell_type": "code",
   "execution_count": 85,
   "metadata": {},
   "outputs": [
    {
     "data": {
      "text/plain": [
       "rakieta w pozycji (0, 0)"
      ]
     },
     "execution_count": 85,
     "metadata": {},
     "output_type": "execute_result"
    }
   ],
   "source": [
    "r = Rakieta()\n",
    "r"
   ]
  },
  {
   "cell_type": "code",
   "execution_count": 86,
   "metadata": {},
   "outputs": [
    {
     "data": {
      "text/plain": [
       "rakieta w pozycji (0, 10)"
      ]
     },
     "execution_count": 86,
     "metadata": {},
     "output_type": "execute_result"
    }
   ],
   "source": [
    "r.w_gore(10)\n",
    "r"
   ]
  },
  {
   "cell_type": "code",
   "execution_count": 87,
   "metadata": {},
   "outputs": [],
   "source": [
    "r.w_gore(100)"
   ]
  },
  {
   "cell_type": "code",
   "execution_count": 88,
   "metadata": {},
   "outputs": [
    {
     "data": {
      "text/plain": [
       "rakieta w pozycji (0, 110)"
      ]
     },
     "execution_count": 88,
     "metadata": {},
     "output_type": "execute_result"
    }
   ],
   "source": [
    "r"
   ]
  },
  {
   "cell_type": "code",
   "execution_count": null,
   "metadata": {},
   "outputs": [],
   "source": []
  },
  {
   "cell_type": "code",
   "execution_count": null,
   "metadata": {},
   "outputs": [],
   "source": []
  }
 ],
 "metadata": {
  "kernelspec": {
   "display_name": "Python 3",
   "language": "python",
   "name": "python3"
  },
  "language_info": {
   "codemirror_mode": {
    "name": "ipython",
    "version": 3
   },
   "file_extension": ".py",
   "mimetype": "text/x-python",
   "name": "python",
   "nbconvert_exporter": "python",
   "pygments_lexer": "ipython3",
   "version": "3.7.3"
  }
 },
 "nbformat": 4,
 "nbformat_minor": 2
}
