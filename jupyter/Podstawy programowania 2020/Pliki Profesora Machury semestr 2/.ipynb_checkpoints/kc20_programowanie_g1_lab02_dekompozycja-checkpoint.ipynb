{
 "cells": [
  {
   "cell_type": "markdown",
   "metadata": {},
   "source": [
    "# Komunikacja cyfrowa\n",
    "## Programowanie, lab 02, sztuka programowania: dekompozycja i abstrakcja\n",
    "\n",
    "<font color='red'>**start: 13:50**</font>"
   ]
  },
  {
   "cell_type": "markdown",
   "metadata": {},
   "source": [
    "**Motto**\n",
    "> Istnieją dwa sposoby tworzenia projektu oprogramowania. Jednym ze sposobów jest uczynienie tego tak prostym, że oczywiście nie ma żadnych niedociągnięć. Innym sposobem jest tak skomplikowane, że nie ma oczywistych niedociągnięć. -- C. A. R. Hoare\n",
    "\n",
    "**Motto 2**\n",
    "\n",
    "> Design is messy\n",
    "\n",
    "\n",
    "__Zasada pojedynczej odpowiedzialności__\n",
    "> (single responsibility principle), zasada mówiąca, że nigdy nie powinno być więcej niż jednego powodu do istnienia podprogramu (za Wikipedią)"
   ]
  },
  {
   "cell_type": "code",
   "execution_count": null,
   "metadata": {},
   "outputs": [],
   "source": []
  },
  {
   "cell_type": "markdown",
   "metadata": {},
   "source": [
    "## Przykład z wykładu PP\n",
    "Mamy dany ciąg liczbowy `L` w postaci sekwencji (np. listy). Sprawdź czy istnieją rosnące podciągi ciągu `L`. Podaj je.\n",
    "\n",
    "```\n",
    "    [1, 2, 3] -> [1, 2], [2, 3], [1, 2, 3]\n",
    "    [2, 1, 3, 3] -> [1, 3]\n",
    "```\n",
    "\n",
    "Rozwiązanie typowe dla wszystkich początkujących programistów to wrzucenie wszystkich możliwych pętli jedna w drugą i sprawdzanie *on the fly*, m/w tak jak tu"
   ]
  },
  {
   "cell_type": "code",
   "execution_count": 4,
   "metadata": {},
   "outputs": [],
   "source": [
    "def rosnace_podciagi(L):\n",
    "    \"\"\"\n",
    "    Funkcja zwraca wszystkie rosnące podciągi ciągu L\n",
    "    \"\"\"\n",
    "    ret = []\n",
    "    for dlugosc in range(2, len(L) + 1):\n",
    "        for start in range(len(L) - dlugosc + 1):\n",
    "            rosnacy = True\n",
    "            for idx in range(start, start + dlugosc - 1):\n",
    "                if L[idx] > L[idx+1]:\n",
    "                    rosnacy = False\n",
    "                    break\n",
    "            if rosnacy:\n",
    "                ret.append(L[start:start+dlugosc])\n",
    "    return ret"
   ]
  },
  {
   "cell_type": "code",
   "execution_count": 3,
   "metadata": {},
   "outputs": [
    {
     "name": "stdout",
     "output_type": "stream",
     "text": [
      "[1, 2, 3] -> [[1, 2], [2, 3], [1, 2, 3]]\n",
      "[2, 1, 3] -> [[1, 3]]\n",
      "[1, 2, 3, 4] -> [[1, 2], [2, 3], [3, 4], [1, 2, 3], [2, 3, 4], [1, 2, 3, 4]]\n",
      "[1, 3, 4, 2] -> [[1, 3], [3, 4], [1, 3, 4]]\n",
      "[4, 3, 2, 1] -> []\n"
     ]
    }
   ],
   "source": [
    "for L in ([1, 2, 3], \n",
    "          [2, 1, 3], \n",
    "          [1, 2, 3, 4], \n",
    "          [1, 3, 4, 2], \n",
    "          [4, 3, 2, 1]):\n",
    "    print(L, rosnace_podciagi(L), sep=' -> ')"
   ]
  },
  {
   "cell_type": "markdown",
   "metadata": {},
   "source": [
    "## Dekompozycja\n",
    "Tak naprawdę mamy do czynienia z kilkoma problemami, które są rozdzielne\n",
    "\n",
    "1. podprogram 1: dzielenie listy `L` na podlisty o zadanych długościach, np. z trzyelementowej listy `[1, 2, 3]` możemy stworzyć 2 dwuelementowe podlisty `[1, 2], [2, 3]`\n",
    "* podprogram 2: sprawdzić czy elementy listy są ułożone w rosnąco (lub jakkolwiek inaczej, malejąco, stale... w zależności od specyfikacji zadania)\n",
    "\n",
    "Jak już stworzymy powyższe podprogramy (u nas - funkcje), to możemy pokusić się o prosty algorytm"
   ]
  },
  {
   "cell_type": "code",
   "execution_count": 12,
   "metadata": {},
   "outputs": [
    {
     "name": "stdout",
     "output_type": "stream",
     "text": [
      "[[100], [200], [300], [400]]\n",
      "[[100, 200], [200, 300], [300, 400]]\n",
      "[[100, 200, 300], [200, 300, 400]]\n",
      "[[100, 200, 300, 400]]\n",
      "[]\n"
     ]
    }
   ],
   "source": [
    "# podprogram 1: dzielenie listy L na podlisty o zadanych długościach\n",
    "# [100, 200, 300, 400]  ->   [0:0+2], [1:1+2], [2:2+2]\n",
    "def podziel_na_n_elementowe_podciagi(L, n):\n",
    "    \"\"\"\n",
    "    Funkcja zwraca listę n-elementowych podlist sekwencji liczbowej L.\n",
    "    \"\"\"\n",
    "    ret = []\n",
    "    for start in range(len(L) - n + 1):  # [0, 1, 2] (3)\n",
    "        ret.append(L[start:start+n])     # L[4:4+2], L[10:12]\n",
    "    return ret\n",
    "\n",
    "\n",
    "print(podziel_na_n_elementowe_podciagi([100, 200, 300, 400], 1))\n",
    "print(podziel_na_n_elementowe_podciagi([100, 200, 300, 400], 2))\n",
    "print(podziel_na_n_elementowe_podciagi([100, 200, 300, 400], 3))\n",
    "print(podziel_na_n_elementowe_podciagi([100, 200, 300, 400], 4))\n",
    "print(podziel_na_n_elementowe_podciagi([100, 200, 300, 400], 5))"
   ]
  },
  {
   "cell_type": "code",
   "execution_count": 22,
   "metadata": {},
   "outputs": [
    {
     "name": "stdout",
     "output_type": "stream",
     "text": [
      "True True\n",
      "False False\n",
      "True True\n"
     ]
    }
   ],
   "source": [
    "# podprogram 2: sprawdzić czy elementy listy są ułożone w rosnąco\n",
    "def czy_rosnacy(L):\n",
    "    \"\"\"\n",
    "    Funkcja sprawdza, czy podana sekwencja liczbowa L jest ciągiem rosnącym.\n",
    "    Zwraca True gdy jest i False w przeciwnym przypadku.\n",
    "    \"\"\"\n",
    "    assert L, 'podaj niepusty L'\n",
    "    for idx in range(len(L) - 1):\n",
    "        if L[idx] >= L[idx+1]:\n",
    "            return False\n",
    "    return True\n",
    "\n",
    "\n",
    "print(czy_rosnacy([1, 2, 3]), True)\n",
    "print(czy_rosnacy([1, 4, 3]), False)\n",
    "print(czy_rosnacy([1, 4, 13, 13434, 413413413, 131234312423]), True)\n",
    "# print(czy_rosnacy([]), True) ## !!!"
   ]
  },
  {
   "cell_type": "code",
   "execution_count": null,
   "metadata": {},
   "outputs": [],
   "source": []
  },
  {
   "cell_type": "markdown",
   "metadata": {},
   "source": [
    "### Algorytm\n",
    "dane wejściowe: lista liczb `L` o długości `n`\n",
    "\n",
    "1. podzielić L na podciagi (podlisty) o długości 2, 3, 4, ..., n\n",
    "2. sprawdzić każdy podciąg\n",
    "    * jest rosnący?: dodać do zbioru odpowiedzi\n",
    "    * nie?: odrzucić\n",
    "3. zwrócić zbiór podciągów (podlist)"
   ]
  },
  {
   "cell_type": "code",
   "execution_count": 35,
   "metadata": {},
   "outputs": [
    {
     "data": {
      "text/plain": [
       "[[1, 2], [2, 5], [4, 5], [1, 2, 5]]"
      ]
     },
     "execution_count": 35,
     "metadata": {},
     "output_type": "execute_result"
    }
   ],
   "source": [
    "def podziel_na_n_elementowe_podciagi(L, n):\n",
    "    \"\"\"\n",
    "    Funkcja zwraca listę n-elementowych podlist sekwencji liczbowej L.\n",
    "    \"\"\"\n",
    "    ret = []\n",
    "    for start in range(len(L) - n + 1):  # [0, 1, 2] (3)\n",
    "        ret.append(L[start:start+n])     # L[4:4+2], L[10:12]\n",
    "    return ret\n",
    "\n",
    "\n",
    "def czy_rosnacy(L):\n",
    "    for idx in range(len(L) - 1):\n",
    "        if L[idx] >= L[idx+1]:\n",
    "            return False\n",
    "    return True\n",
    "\n",
    "\n",
    "def zwroc_wszystkie_podciagi_o_dlugosci_min_2(L):\n",
    "    '''...'''\n",
    "    podciagi = []\n",
    "    for dl in range(2, len(L) + 1):\n",
    "        p = podziel_na_n_elementowe_podciagi(L, dl)\n",
    "        podciagi.extend(p)\n",
    "    return podciagi\n",
    "\n",
    "\n",
    "def rosnace_ciagi(L):\n",
    "    '''...'''\n",
    "    podciagi = zwroc_wszystkie_podciagi_o_dlugosci_min_2(L)\n",
    "\n",
    "    rosnace = []\n",
    "    for p in podciagi:\n",
    "        if czy_rosnacy(p):\n",
    "            rosnace.append(p)\n",
    "            \n",
    "    return rosnace\n",
    "\n",
    "\n",
    "rosnace_ciagi([1, 2, 5, 4, 5])"
   ]
  },
  {
   "cell_type": "markdown",
   "metadata": {},
   "source": [
    "### Ćwiczenie 1\n",
    "Proszę do powyższego zestawu funkcji dopisać \n",
    "\n",
    "1. funkcję sprawdzającą czy elementy listy są ułożone malejąco\n",
    "* funkcję sprawdzającą czy elementy listy są ułożone niemalejąco\n",
    "* funkcję sprawdzającą czy elementy listy są ułożone nierosnąco\n",
    "* funkcję sprawdzającą czy elementy listy są ułożone malejąco\n",
    "* funkcję sprawdzającą czy elementy listy są stałe\n",
    "* funkcję sprawdzającą czy wartości bezwzględne elementów listy są ułożone malejąco\n",
    "* funkcję sprawdzającą czy wartości bezwzględne elementów listy są ułożone niemalejąco\n",
    "* funkcję sprawdzającą czy wartości bezwzględne elementów listy są ułożone nierosnąco\n",
    "* funkcję sprawdzającą czy wartości bezwzględne elementów listy są ułożone malejąco\n",
    "* funkcję sprawdzającą czy wartości bezwzględne elementów listy są stałe\n",
    "* **funkcję sprawdzającą czy wartości bezwzględne elementów listy są naprzemian (mniejszy - większy - mniejszy - większy -...)**\n",
    "* **funkcję sprawdzającą czy elementy listy są naprzemian (mniejszy - większy - mniejszy - większy -...)**\n",
    "\n",
    "Każdy student - swoje zadanie, 5 min maks / zadanie. **Wyboldowane** dla ochotnika.\n",
    "\n",
    "Paulina 1, 6\n",
    "Marcin 2, 7\n",
    "Igor 3, 8\n",
    "Taisja 4, 9\n",
    "Bartosz 5, 10"
   ]
  },
  {
   "cell_type": "code",
   "execution_count": 41,
   "metadata": {},
   "outputs": [],
   "source": [
    "# Paulina 1, 6\n",
    "def czy_malejacy(L):\n",
    "    for idx in range(len(L) - 1):\n",
    "        if L[idx] <= L[idx+1]:\n",
    "            return False\n",
    "    return True\n",
    "\n",
    "def czy_wbezwgledne_malejaco(L):\n",
    "    for idx in range(len(L) - 1):\n",
    "        if abs(L[idx]) <= abs(L[idx+1]):\n",
    "            return False\n",
    "    return True"
   ]
  },
  {
   "cell_type": "code",
   "execution_count": 39,
   "metadata": {},
   "outputs": [],
   "source": [
    "# Marcin 2, 7\n",
    "def czy_niemalejacy(L):\n",
    "    for idx in range(len(L) - 1):\n",
    "        if L[idx] >= L[idx+1]:\n",
    "            return False\n",
    "    return True\n",
    "\n",
    "def czy_niemalejace_wartosci_bezwzgledne(L):\n",
    "    ''\n",
    "    for idx in range(len(L) - 1):\n",
    "        if abs(L[idx]) >= abs(L[idx+1]):\n",
    "            return False\n",
    "    return True"
   ]
  },
  {
   "cell_type": "code",
   "execution_count": 47,
   "metadata": {},
   "outputs": [
    {
     "data": {
      "text/plain": [
       "True"
      ]
     },
     "execution_count": 47,
     "metadata": {},
     "output_type": "execute_result"
    }
   ],
   "source": [
    "# 3 Igor 3, 8\n",
    "def czy_nierosnacy(L):\n",
    "    for idx in range(len(L) - 1):\n",
    "        if L[idx] >= L[idx+1]:\n",
    "            return True\n",
    "    return False\n",
    "\n",
    "def czy_nierosnacy_bezwzgledne(L):\n",
    "    for idx in range(len(L) - 1):\n",
    "        if abs(L[idx]) >= abs(L[idx+1]):\n",
    "            return True\n",
    "    return False\n",
    "\n",
    "czy_nierosnacy([3, 2, 1, 2])"
   ]
  },
  {
   "cell_type": "code",
   "execution_count": 44,
   "metadata": {},
   "outputs": [],
   "source": [
    "# Taisja 4, 9\n",
    "def czy_malejace(L):\n",
    "    for idx in range(len(L) - 1):\n",
    "        if L[idx] <= L[idx+1]:\n",
    "            return False\n",
    "    return True\n",
    "\n",
    "def czy_malejace_bezwględne(L):\n",
    "    for idx in range(len(L) - 1):\n",
    "        if abs(L[idx]) <= abs(L[idx+1]):\n",
    "            return False\n",
    "    return True"
   ]
  },
  {
   "cell_type": "code",
   "execution_count": 43,
   "metadata": {},
   "outputs": [],
   "source": [
    "# Bartosz 5, 10\n",
    "def czy_stale(L):\n",
    "    for idx in range(len(L) - 1):\n",
    "        if L[idx] != L[idx + 1]:\n",
    "            return False\n",
    "    return True\n",
    "\n",
    "def czy_war_bezwzgledna_stala(L):\n",
    "    for idx in range(len(L) - 1):\n",
    "        if abs(L[idx]) != abs(L[idx + 1]):\n",
    "            return False\n",
    "        \n",
    "    return True"
   ]
  },
  {
   "cell_type": "code",
   "execution_count": null,
   "metadata": {},
   "outputs": [],
   "source": []
  },
  {
   "cell_type": "markdown",
   "metadata": {},
   "source": [
    "### Ćwiczenie 2\n",
    "Parafraza głównego problemu. Proszę do powyższego zestawu funkcji dopisać funkcje zwracające wszystkie przynajmniej 2 elementowe podciągi listy `L`\n",
    "\n",
    "1. ułożone malejąco\n",
    "* ułożone niemalejąco\n",
    "* ułożone nierosnąco\n",
    "* ułożone malejąco\n",
    "* gdzie elementy są stałe\n",
    "* gdzie wartości bezwzględne elementów podciągów są ułożone malejąco\n",
    "* gdzie wartości bezwzględne elementów podciągów są ułożone niemalejąco\n",
    "* gdzie wartości bezwzględne elementów podciągów są ułożone nierosnąco\n",
    "* gdzie wartości bezwzględne elementów podciągów są ułożone malejąco\n",
    "* gdzie wartości bezwzględne elementów podciągów są są stałe\n",
    "* **gdzie elementy są ułożone naprzemian (mniejszy - większy - mniejszy - większy -...)**\n",
    "* **gdzie wartości bezwzględne elementów podciągów są są naprzemian (mniejszy - większy - mniejszy - większy-...)**\n",
    "\n",
    "\n",
    "\n",
    "* 1, 6 Paulina\n",
    "* 2, 7 Igor\n",
    "* 3, 8 Taisja\n",
    "* 4, 9 Bartosz\n",
    "* 5, 10 Marcin\n"
   ]
  },
  {
   "cell_type": "code",
   "execution_count": 52,
   "metadata": {},
   "outputs": [
    {
     "name": "stdout",
     "output_type": "stream",
     "text": [
      "{'wbmalejaco': [[6, -4], [-4, 3], [3, 2], [2, -1], [6, -4, 3], [-4, 3, 2], [3, 2, -1], [6, -4, 3, 2], [-4, 3, 2, -1], [6, -4, 3, 2, -1]], 'malejace': [[6, -4], [3, 2], [2, -1], [3, 2, -1]], 'rosnace': [[-5, 6], [-4, 3]], 'naprzemienne': []}\n"
     ]
    }
   ],
   "source": [
    "def podziel_na_n_elementowe_podciagi(L, n):\n",
    "    \"\"\"\n",
    "    Funkcja zwraca listę n-elementowych podlist sekwencji liczbowej L.\n",
    "    \"\"\"\n",
    "    ret = []\n",
    "    for start in range(len(L) - n + 1):  # [0, 1, 2] (3)\n",
    "        ret.append(L[start:start+n])     # L[4:4+2], L[10:12]\n",
    "    return ret\n",
    "\n",
    "def czy_malejacy(L):\n",
    "    \"\"\"\n",
    "    Funkcja sprawdza, czy podana sekwencja liczbowa L jest ciągiem malejącym.\n",
    "    Zwraca True gdy jest i False w przeciwnym przypadku.\n",
    "    \"\"\"\n",
    "    assert L, 'podaj niepusty L'\n",
    "    for idx in range(len(L) - 1):\n",
    "        if L[idx] <= L[idx+1]:\n",
    "            return False\n",
    "    return True\n",
    "\n",
    "def czy_wbezwgledne_malejaco(L):\n",
    "    \"\"\"\n",
    "    Funkcja sprawdza, czy wartości bezwzględne elementów listy są ułożone malejąco.\n",
    "    Zwraca True gdy jest i False w przeciwnym przypadku.\n",
    "    \"\"\"\n",
    "    assert L, 'podaj niepusty L'\n",
    "    for idx in range(len(L) - 1):\n",
    "        if abs(L[idx]) <= abs(L[idx+1]):\n",
    "            return False\n",
    "    return True\n",
    "\n",
    "\n",
    "def zwroc_wszystkie_podciagi_o_dlugosci_min_2(L):\n",
    "    '''...'''\n",
    "    podciagi = []\n",
    "    for dl in range(2, len(L) + 1):\n",
    "        p = podziel_na_n_elementowe_podciagi(L, dl)\n",
    "        podciagi.extend(p)\n",
    "    return podciagi\n",
    "\n",
    "\n",
    "def czy_naprzemienne(p):\n",
    "    '''True gdy P jest naprzemienne, False gdy nie jest'''\n",
    "    return False\n",
    "\n",
    "\n",
    "def zad2(L):\n",
    "    '''...'''\n",
    "    podciagi = zwroc_wszystkie_podciagi_o_dlugosci_min_2(L)\n",
    "\n",
    "    malejace = []\n",
    "    wbmalejaco = []\n",
    "    rosnace = []\n",
    "    naprzemienne = []\n",
    "    for p in podciagi:\n",
    "        \n",
    "        if czy_naprzemienne(p):\n",
    "            naprzemienne.append(p)\n",
    "        \n",
    "        if czy_rosnacy(p):\n",
    "            rosnace.append(p)\n",
    "            \n",
    "        if czy_malejacy(p):\n",
    "            malejace.append(p)\n",
    "            \n",
    "        if czy_wbezwgledne_malejaco(p):\n",
    "            wbmalejaco.append(p)\n",
    "            \n",
    "    d = {\n",
    "        'wbmalejaco': wbmalejaco, \n",
    "         'malejace': malejace, \n",
    "         'rosnace': rosnace,\n",
    "         'naprzemienne': naprzemienne\n",
    "        }\n",
    "    return d\n",
    "\n",
    "print(zad2([-5, 6, -4, 3, 2, -1]))"
   ]
  },
  {
   "cell_type": "code",
   "execution_count": null,
   "metadata": {},
   "outputs": [],
   "source": []
  },
  {
   "cell_type": "code",
   "execution_count": null,
   "metadata": {},
   "outputs": [],
   "source": []
  },
  {
   "cell_type": "markdown",
   "metadata": {},
   "source": [
    "## Proces budowania aplikacji (w stylu waterfall)\n",
    "\n",
    "```\n",
    "__PROBLEM__\n",
    "           \\__Wymagania__\n",
    "                         \\__Analiza__\n",
    "                                     \\__Projekt__\n",
    "                                                 \\__Implementacja__\n",
    "                                                                   \\__ROZWIĄZANIE__\n",
    "```\n",
    "\n",
    "Dwa pierwsze to rola klienta, musi powiedzieć co chce. Dwa koleje są kluczowe i najczęściej poświęca się im najwięcej czasu. Dwa ostatnie to w zasadzie jedno i to samo i jest to najłatwiejsza część procesu. Tego typu rozwiązania (waterfall) są wydajne, gdy problem postawiony jest jednoznaczny i posiada ostateczne rozwiązanie, może niekoniecznie jedno, ale ich skończoną ilość. Takie problemy nazywamy zagadnieniami łagodnymi (*Tame problems*). Jeżeli problem wydaje się nie mieć końca, lub możliwości skończonego rozwiązania, to nazywamy go niegodziwym/nikczemnym (*Wicked problem*), przykładowo: tworzenie strony www dla dyrekcji IF...\n",
    "\n",
    "Wracając do diagramu. Aby móc zaimplementować rozwiązanie, musimy mieć projekt, powstający w oparciu o szczegółową analizę problemu. Jeżeli zaczniemy od dołu (od implementacji) to będziemy musieli często poprawiać ją w nieskończoność..."
   ]
  },
  {
   "cell_type": "code",
   "execution_count": null,
   "metadata": {},
   "outputs": [],
   "source": []
  },
  {
   "cell_type": "markdown",
   "metadata": {},
   "source": [
    "### Ćwiczenie 3\n",
    "Napisz program, który będzie **zwracał** `n` kopii ciągu znaków `s`, każda kopia w nowej linii. Jeżeli `s` jest pustym ciągiem znaków, to `s = 'Hello world'`.\n"
   ]
  },
  {
   "cell_type": "code",
   "execution_count": 59,
   "metadata": {},
   "outputs": [
    {
     "name": "stdout",
     "output_type": "stream",
     "text": [
      "Hello world\n",
      "Hello world\n",
      "Hello world\n",
      "Kola\n",
      "Kola\n",
      "Kola\n"
     ]
    },
    {
     "data": {
      "text/plain": [
       "(None, None)"
      ]
     },
     "execution_count": 59,
     "metadata": {},
     "output_type": "execute_result"
    }
   ],
   "source": [
    "# Igor\n",
    "def ciagi_znakow(ciag_znakow, ilosc_powtorzen):\n",
    "    if ciag_znakow == '':\n",
    "        ciag_znakow = \"Hello world\"\n",
    "    for ilosc in range(ilosc_powtorzen):\n",
    "        print(ciag_znakow)\n",
    "        \n",
    "ciagi_znakow(\"\", 3), ciagi_znakow(\"Kola\", 3)"
   ]
  },
  {
   "cell_type": "code",
   "execution_count": 60,
   "metadata": {},
   "outputs": [
    {
     "name": "stdout",
     "output_type": "stream",
     "text": [
      "[1, 2, 3, 4, 5, 6, 7]\n",
      "[1, 2, 3, 4, 5, 6, 7]\n",
      "[1, 2, 3, 4, 5, 6, 7]\n",
      "[1, 2, 3, 4, 5, 6, 7]\n",
      "[1, 2, 3, 4, 5, 6, 7]\n",
      "\n",
      "\n",
      "\n",
      "\n",
      "\n"
     ]
    }
   ],
   "source": [
    "# Marcin\n",
    "def n_kopii_ciagu_znakow(L, n):\n",
    "    ''\n",
    "    i = 0\n",
    "    while i < n:\n",
    "        i += 1\n",
    "        print(L)\n",
    "        \n",
    "n_kopii_ciagu_znakow([1, 2, 3, 4, 5, 6, 7], 5)\n",
    "n_kopii_ciagu_znakow(\"\", 5)  #???"
   ]
  },
  {
   "cell_type": "code",
   "execution_count": 66,
   "metadata": {},
   "outputs": [],
   "source": [
    "# Bartosz\n",
    "def mnozenie_stringa(s, n):\n",
    "    ret = ''\n",
    "    \n",
    "    if s == '':\n",
    "        s = 'Hello world'\n",
    "    \n",
    "    else:\n",
    "        for num in range(n + 1):\n",
    "            ret += s + '\\n'\n",
    "        return ret"
   ]
  },
  {
   "cell_type": "code",
   "execution_count": 67,
   "metadata": {},
   "outputs": [
    {
     "name": "stdout",
     "output_type": "stream",
     "text": [
      "Ala\n",
      "Ala\n",
      "Ala\n",
      "Ala\n",
      "Ala\n",
      "Ala\n",
      "Ala\n",
      "Ala\n",
      "Ala\n",
      "Ala\n",
      "Ala\n",
      "\n",
      "None\n"
     ]
    }
   ],
   "source": [
    "print(mnozenie_stringa(\"Ala\", 10))\n",
    "print(mnozenie_stringa(\"\", 10))"
   ]
  },
  {
   "cell_type": "code",
   "execution_count": 68,
   "metadata": {},
   "outputs": [
    {
     "name": "stdout",
     "output_type": "stream",
     "text": [
      "Hello WorldHello WorldHello World\n",
      "Ala ma kotaAla ma kotaAla ma kota\n"
     ]
    }
   ],
   "source": [
    "def hello_str_n(s, n):\n",
    "    \"...\"\n",
    "    if s == \"\":\n",
    "        return \"Hello World\" * n\n",
    "    else:\n",
    "        return s * n\n",
    "    \n",
    "print(hello_str_n(\"\", 3))\n",
    "print(hello_str_n(\"Ala ma kota\", 3))"
   ]
  },
  {
   "cell_type": "code",
   "execution_count": 71,
   "metadata": {},
   "outputs": [
    {
     "name": "stdout",
     "output_type": "stream",
     "text": [
      "Hello World\n",
      "Hello World\n",
      "Hello World\n",
      "None\n",
      "Ala ma kota\n",
      "Ala ma kota\n",
      "Ala ma kota\n",
      "None\n"
     ]
    }
   ],
   "source": [
    "def hello_str_n_v2(s, n):\n",
    "    \"...\"\n",
    "    if s:\n",
    "        ret = s\n",
    "    else:\n",
    "        ret = \"Hello World\"\n",
    "    \n",
    "    for i in range(n):\n",
    "        print(ret)\n",
    "        \n",
    "    \n",
    "print(hello_str_n_v2(\"\", 3))\n",
    "print(hello_str_n_v2(\"Ala ma kota\", 3))"
   ]
  },
  {
   "cell_type": "code",
   "execution_count": 72,
   "metadata": {},
   "outputs": [
    {
     "name": "stdout",
     "output_type": "stream",
     "text": [
      "0 Hello World\n",
      "1 Hello World\n",
      "2 Hello World\n",
      "\n",
      "0 Ala ma kota\n",
      "1 Ala ma kota\n",
      "2 Ala ma kota\n",
      "\n"
     ]
    }
   ],
   "source": [
    "def hello_str_n_v3(s, n=1):\n",
    "    \"...\"\n",
    "    if not s:\n",
    "        tekst = \"Hello World\"\n",
    "    else:\n",
    "        tekst = s\n",
    "    \n",
    "    ret = \"\"\n",
    "    for i in range(n):\n",
    "        ret += str(i) + \" \" + tekst + \"\\n\"\n",
    "        \n",
    "    return ret\n",
    "    \n",
    "r = hello_str_n_v3(\"\", 3)\n",
    "print(r)\n",
    "\n",
    "print(hello_str_n_v3(\"Ala ma kota\", 3))"
   ]
  },
  {
   "cell_type": "markdown",
   "metadata": {},
   "source": [
    "### Ćwiczenie 4\n",
    "Napisz program, który będzie zwracał `n` kopii ciągu znaków `s`, każda kopia w nowej linii. Jeżeli `s` jest pustym ciągiem znaków, to `s = 'Hello world'`.\n",
    "Zaimplementuj rozwiązanie w/g projektu podanego poniżej."
   ]
  },
  {
   "cell_type": "code",
   "execution_count": 80,
   "metadata": {},
   "outputs": [],
   "source": [
    "def hello_lub_string(s):\n",
    "    return s if s else 'Hello world'\n",
    "\n",
    "def zwroc_tekst_n_razy(tekst, n):\n",
    "    wyjscie = ''\n",
    "    for ilosc in range(n):\n",
    "        wyjscie += tekst + '\\n'\n",
    "    return wyjscie\n",
    "\n",
    "def str_n(s, n=1):\n",
    "    '''\n",
    "    Funkcja zwraca string s n razy. \n",
    "    Jezeli s jest puste, zwraca n razy \"Hello World\"\n",
    "    '''\n",
    "    tekst = hello_lub_string(s)\n",
    "    ret = zwroc_tekst_n_razy(tekst, n)\n",
    "    return ret"
   ]
  },
  {
   "cell_type": "code",
   "execution_count": 82,
   "metadata": {},
   "outputs": [
    {
     "name": "stdout",
     "output_type": "stream",
     "text": [
      "Hello world\n",
      "Hello world\n",
      "Hello world\n",
      "\n",
      "Palindrom\n",
      "Palindrom\n",
      "Palindrom\n",
      "\n"
     ]
    }
   ],
   "source": [
    "print(str_n(\"\", 3))\n",
    "print(str_n(\"Palindrom\", 3))"
   ]
  },
  {
   "cell_type": "markdown",
   "metadata": {},
   "source": [
    "### Ćwiczenie 5 Znów palindrom\n",
    "Zaprojektuj program sprawdzający czy dany ciąg znaków jest palindromem, tak by dowolne palindromy mogły być sprawdzane. \n",
    "\n",
    "* `czy_palindrom('kajak') -> True`\n",
    "* `czy_palindrom('Kajak.') -> True`\n",
    "* `czy_palindrom('Kobyła ma za mały bok!') -> True`\n",
    "* `czy_palindrom('Może jutro ta dama da tortu jeżom...') -> True`\n",
    "* `czy_palindrom('Madam, I'm Adam.') -> True`\n",
    "* `czy_palindrom('A wart wór kota? To krów trawa!') -> True`\n",
    "* `czy_palindrom('O, ty z Katowic, Iwo? Tak, Zyto.') -> True`\n",
    "\n",
    "Projekt\n",
    "1. pozbyć się wszystkiego oprócz liter\n",
    "2. zamienić wszystkie duże literki na małe (lub odwrotnie)\n",
    "3. sprawdzić czy palindrom\n",
    "4. zwrócić True/False"
   ]
  },
  {
   "cell_type": "code",
   "execution_count": 86,
   "metadata": {},
   "outputs": [
    {
     "data": {
      "text/plain": [
       "True"
      ]
     },
     "execution_count": 86,
     "metadata": {},
     "output_type": "execute_result"
    }
   ],
   "source": [
    "def zwroc_tylko_litery(s):\n",
    "    return ''.join([el for el in s if el.isalpha()])\n",
    "\n",
    "def tylko_male_litery(s):\n",
    "    return s.lower()\n",
    "\n",
    "def czy_palindrom(s):\n",
    "    return s == s[::-1]\n",
    "\n",
    "def sprawdz_czy_palindrom(s):\n",
    "    s = tylko_male_litery(s)\n",
    "    s = zwroc_tylko_litery(s)\n",
    "    ret = czy_palindrom(s)\n",
    "    return ret\n",
    "\n",
    "sprawdz_czy_palindrom('O, ty z Katowic, Iwo? Tak, Zyto.')"
   ]
  },
  {
   "cell_type": "code",
   "execution_count": null,
   "metadata": {},
   "outputs": [],
   "source": []
  },
  {
   "cell_type": "markdown",
   "metadata": {},
   "source": [
    "### Ćwiczenie 6 Śmiertelne króliki Fibonacciego\n",
    "\n",
    "Leonardo Fibonacci opracował swój słynny ciąg modelując liczebność populacji królików. Zaczynamy od jednej pary królików, która po miesiącu dojrzewa i po następnym miesiącu wydaje parę młodych i natychmiast ponownie zachodzi w ciążę, po następnym miesiącu pierwsza para wydaje kolejne młode a druga dojrzewa i zachodzi w ciążę itd. Wielkość populacji (liczba par) w kolejnych miesiącach wynosi 1, 1, 2, 3, 5, 8... Model ten zakłada, że każdej parze zawsze rodzą się dokładnie jeden samiec i jedna samica, ale głównym problemem w modelu jest to, że króliki są nieśmiertelne!\n",
    "\n",
    "![Image of rabbits](http://www.drawinghowtodraw.com/drawing-lessons/drawing-animals-creatures-lessons/images/howtodrawrabbiesbunniesdrawinglessons_html_37f16756.png)\n",
    "\n",
    "Urealnijmy trochę ten problem. Napisz funkcję obliczającą liczebność populacji śmiertelnych królików. Funkcja przyjmuje trzy argumenty - ``miesiąc``, dla którego obliczamy liczebność, ``miot`` - liczba par, które się rodzą jednorazowo z jednej pary oraz ``zycie`` - czas życia królików (w miesiącach). Minimalna długość życia królików to 3 miesiące. Oznacza to, że każda para zdąży się rozmnożyć przynajmniej 2 razy. W ostatnim miesiącu życia nastąpi **najpierw poród, a dopiero potem śmierć** pary królików.\n",
    "\n",
    "Jak teraz wyglądać będzie populacja króli po czasie jaki zadajemy w parametrze ``miesiac``? Rozwiązanie zaprojektuj z użyciem abstrakcji oraz dekompozycji. Rozbij zadanie na podproblemy i do każdego zbuduj funkcję. Na koniec wykorzystaj podprogramy do odpowiedzi na pytanie Pana Leonarda: ile to będzie tych króli po `n` miesiącach?\n",
    "\n",
    "__Specyfikacja__\n",
    "\n",
    "Wejście\n",
    "* miesiac: INT > 0\n",
    "* miot: INT > 0\n",
    "* zycie: INT >= 3\n",
    "\n",
    "Wyjście\n",
    "* populacja: INT"
   ]
  },
  {
   "cell_type": "code",
   "execution_count": null,
   "metadata": {},
   "outputs": [],
   "source": []
  }
 ],
 "metadata": {
  "kernelspec": {
   "display_name": "Python 3",
   "language": "python",
   "name": "python3"
  },
  "language_info": {
   "codemirror_mode": {
    "name": "ipython",
    "version": 3
   },
   "file_extension": ".py",
   "mimetype": "text/x-python",
   "name": "python",
   "nbconvert_exporter": "python",
   "pygments_lexer": "ipython3",
   "version": "3.7.3"
  }
 },
 "nbformat": 4,
 "nbformat_minor": 2
}
