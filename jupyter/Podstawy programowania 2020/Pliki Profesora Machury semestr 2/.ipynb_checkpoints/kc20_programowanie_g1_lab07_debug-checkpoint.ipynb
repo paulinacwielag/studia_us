{
 "cells": [
  {
   "cell_type": "markdown",
   "metadata": {
    "id": "TPnnEoMsNZUi"
   },
   "source": [
    "# KC, Programowanie, lab 7\n",
    "## Debug, cz 1\n",
    "\n",
    "**start 13:48**"
   ]
  },
  {
   "cell_type": "code",
   "execution_count": null,
   "metadata": {
    "id": "cwZY5Z_-NZUk"
   },
   "outputs": [],
   "source": [
    "# import doctest\n",
    "# doctest.testmod()"
   ]
  },
  {
   "cell_type": "markdown",
   "metadata": {
    "id": "zygX3kUrNZUl"
   },
   "source": [
    "### Ćwiczenie 1\n",
    "Napisz testy \n",
    "* testy strukturalne (*glass box*): Bartosz, Igor, Marcin, Weronika\n",
    "* druga połowa oparte o specyfikacje (*black box*): Paulina, Taisja, Marek, Aleksandra\n",
    "do funkcji `czy_pal` .\n",
    "\n",
    "Zbieramy wyniki testów i szukamy błędów."
   ]
  },
  {
   "cell_type": "code",
   "execution_count": null,
   "metadata": {
    "id": "t2oWRD3_NZUl"
   },
   "outputs": [],
   "source": [
    "def czy_pal(x):\n",
    "    \"\"\"x: lista\n",
    "       zwraca True jezeli lista jest palindromem\n",
    "       jezeli nie zwraca False\n",
    "    \n",
    "    Przyklady\n",
    "    ---------\n",
    "    >>> czy_pal(['z', 'a', 'r', 'a', 'z'])\n",
    "    True\n",
    "    >>> czy_pal(['h', 'e', 'r', 'b', 'a', 't', 'a'])\n",
    "    False\n",
    "    >>> czy_pal(['k', 'a', 'j', 'a', 'k', '1'])\n",
    "    False\n",
    "    >>> czy_pal(['9', 'k', 'a', 'j', 'a', 'k', '9'])\n",
    "    True\n",
    "    >>> czy_pal([])\n",
    "    True\n",
    "    >>> czy_pal(['i'])\n",
    "    True\n",
    "    >>> czy_pal([1, 2, 3])\n",
    "    False\n",
    "    >>> czy_pal([1, 2, 1])\n",
    "    True\n",
    "    \"\"\"\n",
    "    temp = x.copy()  # lub x[::-1]\n",
    "    temp.reverse()\n",
    "#     print(f'przed IF: x={x}, temp={temp}')  #, temp.reverse={temp.reverse()}')\n",
    "    if temp == x:\n",
    "#         print(f'po IF: x={x}, temp={temp}')\n",
    "        return True\n",
    "    else: \n",
    "        return False\n",
    "    \n",
    "    \n",
    "def test_czy_pal():\n",
    "    # 1: palindrom\n",
    "    assert czy_pal(['a', 'b', 'a']) == True, \"czy_pal(['a', 'b', 'a']) != True\"\n",
    "    # 2: nie palindrom\n",
    "    assert czy_pal(['a', 'b', 'b']) == False, \"czy_pal(['a', 'b', 'b']) != False\""
   ]
  },
  {
   "cell_type": "code",
   "execution_count": null,
   "metadata": {
    "id": "HClEtNvENZUm",
    "outputId": "d162ec3a-3b1a-4ab0-cd9e-b5b9609f5d0c"
   },
   "outputs": [
    {
     "data": {
      "text/plain": [
       "False"
      ]
     },
     "execution_count": 65,
     "metadata": {
      "tags": []
     },
     "output_type": "execute_result"
    }
   ],
   "source": [
    "czy_pal(['a', 'b', 'b'])"
   ]
  },
  {
   "cell_type": "code",
   "execution_count": null,
   "metadata": {
    "id": "l0Ap_IH4NZUm"
   },
   "outputs": [],
   "source": [
    "test_czy_pal()"
   ]
  },
  {
   "cell_type": "code",
   "execution_count": null,
   "metadata": {
    "id": "qrnWOTQRNZUm",
    "outputId": "254cbb6c-2cd4-45c4-8032-af3780c54582"
   },
   "outputs": [
    {
     "data": {
      "text/plain": [
       "TestResults(failed=0, attempted=8)"
      ]
     },
     "execution_count": 67,
     "metadata": {
      "tags": []
     },
     "output_type": "execute_result"
    }
   ],
   "source": [
    "doctest.testmod()"
   ]
  },
  {
   "cell_type": "markdown",
   "metadata": {
    "id": "BBAk6sabNZUn"
   },
   "source": [
    "### Ćwiczenie 2\n",
    "Znajdź błędy w funkcjach. "
   ]
  },
  {
   "cell_type": "code",
   "execution_count": null,
   "metadata": {
    "id": "eQILMNRONZUn"
   },
   "outputs": [],
   "source": [
    ""
   ]
  },
  {
   "cell_type": "code",
   "execution_count": null,
   "metadata": {
    "id": "MxQVntQRNZUn"
   },
   "outputs": [],
   "source": [
    ""
   ]
  },
  {
   "cell_type": "code",
   "execution_count": null,
   "metadata": {
    "id": "LhvisdOCNZUn"
   },
   "outputs": [],
   "source": [
    ""
   ]
  }
 ],
 "metadata": {
  "colab": {
   "name": "kc20_programowanie_g1_lab07.ipynb",
   "provenance": []
  },
  "kernelspec": {
   "display_name": "Python 3",
   "language": "python",
   "name": "python3"
  },
  "language_info": {
   "codemirror_mode": {
    "name": "ipython",
    "version": 3
   },
   "file_extension": ".py",
   "mimetype": "text/x-python",
   "name": "python",
   "nbconvert_exporter": "python",
   "pygments_lexer": "ipython3",
   "version": "3.7.3"
  }
 },
 "nbformat": 4,
 "nbformat_minor": 0
}
