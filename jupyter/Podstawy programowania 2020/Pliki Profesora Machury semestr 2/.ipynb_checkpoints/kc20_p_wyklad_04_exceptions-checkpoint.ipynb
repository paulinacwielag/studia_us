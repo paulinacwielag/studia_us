{
 "cells": [
  {
   "cell_type": "markdown",
   "metadata": {
    "id": "I6R0FTFlK7uT"
   },
   "source": [
    "# KC20, Programowanie\n",
    "## wykład 4: wyjątki"
   ]
  },
  {
   "cell_type": "code",
   "execution_count": null,
   "metadata": {
    "id": "Wfeapt87K7ua",
    "outputId": "a70e7290-e9cf-4706-c433-1b926e0790b4"
   },
   "outputs": [
    {
     "ename": "IndexError",
     "evalue": "list index out of range",
     "output_type": "error",
     "traceback": [
      "\u001b[0;31m---------------------------------------------------------------------------\u001b[0m",
      "\u001b[0;31mIndexError\u001b[0m                                Traceback (most recent call last)",
      "\u001b[0;32m<ipython-input-4-c518219db439>\u001b[0m in \u001b[0;36m<module>\u001b[0;34m\u001b[0m\n\u001b[1;32m      1\u001b[0m \u001b[0ma\u001b[0m \u001b[0;34m=\u001b[0m \u001b[0;34m[\u001b[0m\u001b[0;36m1\u001b[0m\u001b[0;34m,\u001b[0m \u001b[0;36m2\u001b[0m\u001b[0;34m,\u001b[0m \u001b[0;36m3\u001b[0m\u001b[0;34m]\u001b[0m\u001b[0;34m\u001b[0m\u001b[0;34m\u001b[0m\u001b[0m\n\u001b[0;32m----> 2\u001b[0;31m \u001b[0mprint\u001b[0m\u001b[0;34m(\u001b[0m\u001b[0ma\u001b[0m\u001b[0;34m[\u001b[0m\u001b[0;36m3\u001b[0m\u001b[0;34m]\u001b[0m\u001b[0;34m)\u001b[0m\u001b[0;34m\u001b[0m\u001b[0;34m\u001b[0m\u001b[0m\n\u001b[0m\u001b[1;32m      3\u001b[0m \u001b[0mprint\u001b[0m\u001b[0;34m(\u001b[0m\u001b[0;34m'Hej'\u001b[0m\u001b[0;34m)\u001b[0m\u001b[0;34m\u001b[0m\u001b[0;34m\u001b[0m\u001b[0m\n",
      "\u001b[0;31mIndexError\u001b[0m: list index out of range"
     ]
    }
   ],
   "source": [
    "a = [1, 2, 3]\n",
    "print(a[3])\n",
    "print('Hej')"
   ]
  },
  {
   "cell_type": "code",
   "execution_count": null,
   "metadata": {
    "id": "WfwB2M27K7ub",
    "outputId": "bdb29d05-8cd9-4d59-f10c-25d5e8527ef4"
   },
   "outputs": [
    {
     "ename": "TypeError",
     "evalue": "int() argument must be a string, a bytes-like object or a number, not 'list'",
     "output_type": "error",
     "traceback": [
      "\u001b[0;31m---------------------------------------------------------------------------\u001b[0m",
      "\u001b[0;31mTypeError\u001b[0m                                 Traceback (most recent call last)",
      "\u001b[0;32m<ipython-input-2-8b2ab3991dae>\u001b[0m in \u001b[0;36m<module>\u001b[0;34m\u001b[0m\n\u001b[0;32m----> 1\u001b[0;31m \u001b[0mint\u001b[0m\u001b[0;34m(\u001b[0m\u001b[0ma\u001b[0m\u001b[0;34m)\u001b[0m\u001b[0;34m\u001b[0m\u001b[0;34m\u001b[0m\u001b[0m\n\u001b[0m",
      "\u001b[0;31mTypeError\u001b[0m: int() argument must be a string, a bytes-like object or a number, not 'list'"
     ]
    }
   ],
   "source": [
    "int(a)"
   ]
  },
  {
   "cell_type": "code",
   "execution_count": null,
   "metadata": {
    "id": "LxNsBXvAK7uc",
    "outputId": "c197874b-aad9-4b11-f179-c85aaae59a88"
   },
   "outputs": [
    {
     "ename": "NameError",
     "evalue": "name 'test' is not defined",
     "output_type": "error",
     "traceback": [
      "\u001b[0;31m---------------------------------------------------------------------------\u001b[0m",
      "\u001b[0;31mNameError\u001b[0m                                 Traceback (most recent call last)",
      "\u001b[0;32m<ipython-input-3-4e1243bd22c6>\u001b[0m in \u001b[0;36m<module>\u001b[0;34m\u001b[0m\n\u001b[0;32m----> 1\u001b[0;31m \u001b[0mtest\u001b[0m\u001b[0;34m\u001b[0m\u001b[0;34m\u001b[0m\u001b[0m\n\u001b[0m",
      "\u001b[0;31mNameError\u001b[0m: name 'test' is not defined"
     ]
    }
   ],
   "source": [
    "test"
   ]
  },
  {
   "cell_type": "code",
   "execution_count": null,
   "metadata": {
    "id": "WkUsHjj-K7uc"
   },
   "outputs": [],
   "source": [
    ""
   ]
  },
  {
   "cell_type": "code",
   "execution_count": null,
   "metadata": {
    "id": "w2eMFqMyK7uc",
    "outputId": "cc040bdb-3cea-4bda-c7cf-f9ff54e1dab7"
   },
   "outputs": [
    {
     "ename": "ZeroDivisionError",
     "evalue": "division by zero",
     "output_type": "error",
     "traceback": [
      "\u001b[0;31m---------------------------------------------------------------------------\u001b[0m",
      "\u001b[0;31mZeroDivisionError\u001b[0m                         Traceback (most recent call last)",
      "\u001b[0;32m<ipython-input-6-4e5dc06fb090>\u001b[0m in \u001b[0;36m<module>\u001b[0;34m\u001b[0m\n\u001b[1;32m      1\u001b[0m \u001b[0mx\u001b[0m\u001b[0;34m,\u001b[0m \u001b[0my\u001b[0m \u001b[0;34m=\u001b[0m \u001b[0;36m10\u001b[0m\u001b[0;34m,\u001b[0m \u001b[0;36m0\u001b[0m\u001b[0;34m\u001b[0m\u001b[0;34m\u001b[0m\u001b[0m\n\u001b[0;32m----> 2\u001b[0;31m \u001b[0mz\u001b[0m \u001b[0;34m=\u001b[0m \u001b[0mx\u001b[0m \u001b[0;34m/\u001b[0m \u001b[0my\u001b[0m\u001b[0;34m\u001b[0m\u001b[0;34m\u001b[0m\u001b[0m\n\u001b[0m\u001b[1;32m      3\u001b[0m \u001b[0mz\u001b[0m\u001b[0;34m\u001b[0m\u001b[0;34m\u001b[0m\u001b[0m\n",
      "\u001b[0;31mZeroDivisionError\u001b[0m: division by zero"
     ]
    }
   ],
   "source": [
    "x, y = 10, 0\n",
    "z = x / y\n",
    "z"
   ]
  },
  {
   "cell_type": "code",
   "execution_count": null,
   "metadata": {
    "id": "cnZMHj2uK7ud"
   },
   "outputs": [],
   "source": [
    ""
   ]
  },
  {
   "cell_type": "code",
   "execution_count": null,
   "metadata": {
    "id": "fRoFTmzBK7ud",
    "outputId": "2adacdc8-039b-470e-f87d-4c1ccc0cd0b0"
   },
   "outputs": [
    {
     "name": "stdout",
     "output_type": "stream",
     "text": [
      "przed problemem\n",
      "nie dziel przez zero cholero\n"
     ]
    }
   ],
   "source": [
    "x, y = 10, 0\n",
    "try:\n",
    "    print(\"przed problemem\")\n",
    "    w2 = x / y\n",
    "    print(\"po problemie\")\n",
    "    # ...\n",
    "except:\n",
    "    print(\"nie dziel przez zero cholero\")"
   ]
  },
  {
   "cell_type": "code",
   "execution_count": null,
   "metadata": {
    "id": "7Ackbd4GK7ud",
    "outputId": "014d9006-9635-4d17-f061-120d0a990e3c"
   },
   "outputs": [
    {
     "ename": "NameError",
     "evalue": "name 'w2' is not defined",
     "output_type": "error",
     "traceback": [
      "\u001b[0;31m---------------------------------------------------------------------------\u001b[0m",
      "\u001b[0;31mNameError\u001b[0m                                 Traceback (most recent call last)",
      "\u001b[0;32m<ipython-input-12-e5a9cd46aee8>\u001b[0m in \u001b[0;36m<module>\u001b[0;34m\u001b[0m\n\u001b[1;32m      1\u001b[0m \u001b[0;31m# co sie stanie?\u001b[0m\u001b[0;34m\u001b[0m\u001b[0;34m\u001b[0m\u001b[0;34m\u001b[0m\u001b[0m\n\u001b[0;32m----> 2\u001b[0;31m \u001b[0mw2\u001b[0m\u001b[0;34m\u001b[0m\u001b[0;34m\u001b[0m\u001b[0m\n\u001b[0m",
      "\u001b[0;31mNameError\u001b[0m: name 'w2' is not defined"
     ]
    }
   ],
   "source": [
    "# co sie stanie?\n",
    "w2"
   ]
  },
  {
   "cell_type": "code",
   "execution_count": null,
   "metadata": {
    "id": "xt5zI_KtK7ue",
    "outputId": "c777fa2c-99cb-4f3f-f55d-8c92757810e1"
   },
   "outputs": [
    {
     "ename": "NameError",
     "evalue": "name 'x1' is not defined",
     "output_type": "error",
     "traceback": [
      "\u001b[0;31m---------------------------------------------------------------------------\u001b[0m",
      "\u001b[0;31mNameError\u001b[0m                                 Traceback (most recent call last)",
      "\u001b[0;32m<ipython-input-16-60ba4fb363db>\u001b[0m in \u001b[0;36m<module>\u001b[0;34m\u001b[0m\n\u001b[1;32m      1\u001b[0m \u001b[0mx\u001b[0m\u001b[0;34m,\u001b[0m \u001b[0my\u001b[0m \u001b[0;34m=\u001b[0m \u001b[0;36m5\u001b[0m\u001b[0;34m,\u001b[0m \u001b[0;36m0\u001b[0m\u001b[0;34m\u001b[0m\u001b[0;34m\u001b[0m\u001b[0m\n\u001b[1;32m      2\u001b[0m \u001b[0;32mtry\u001b[0m\u001b[0;34m:\u001b[0m\u001b[0;34m\u001b[0m\u001b[0;34m\u001b[0m\u001b[0m\n\u001b[0;32m----> 3\u001b[0;31m     \u001b[0mw3\u001b[0m \u001b[0;34m=\u001b[0m \u001b[0mx1\u001b[0m \u001b[0;34m/\u001b[0m \u001b[0my\u001b[0m\u001b[0;34m\u001b[0m\u001b[0;34m\u001b[0m\u001b[0m\n\u001b[0m\u001b[1;32m      4\u001b[0m \u001b[0;32mexcept\u001b[0m \u001b[0mZeroDivisionError\u001b[0m \u001b[0;32mas\u001b[0m \u001b[0me231\u001b[0m\u001b[0;34m:\u001b[0m\u001b[0;34m\u001b[0m\u001b[0;34m\u001b[0m\u001b[0m\n\u001b[1;32m      5\u001b[0m     \u001b[0mprint\u001b[0m\u001b[0;34m(\u001b[0m\u001b[0me231\u001b[0m\u001b[0;34m)\u001b[0m  \u001b[0;31m# output: \"division by zero\"\u001b[0m\u001b[0;34m\u001b[0m\u001b[0;34m\u001b[0m\u001b[0m\n",
      "\u001b[0;31mNameError\u001b[0m: name 'x1' is not defined"
     ]
    }
   ],
   "source": [
    "x, y = 5, 0\n",
    "try:\n",
    "    w3 = x1 / y\n",
    "except ZeroDivisionError as e231:\n",
    "    print(e231)  # output: \"division by zero\""
   ]
  },
  {
   "cell_type": "code",
   "execution_count": null,
   "metadata": {
    "id": "NdduwWEwK7ue",
    "outputId": "29a86ddd-5421-4605-f77d-211785f6c260"
   },
   "outputs": [
    {
     "name": "stdout",
     "output_type": "stream",
     "text": [
      "division by zero\n",
      "mianownik = 0, podstawiam domyślną wartość mianownika = 1\n",
      "5\n"
     ]
    }
   ],
   "source": [
    "x, y = 5, 0\n",
    "\n",
    "try:\n",
    "    w3 = x / y\n",
    "except ZeroDivisionError as e231:\n",
    "    print(e231)  # output: \"division by zero\"\n",
    "    print('mianownik = 0, podstawiam domyślną wartość mianownika = 1')\n",
    "    w3 = x\n",
    "    \n",
    "print(w3)"
   ]
  },
  {
   "cell_type": "code",
   "execution_count": null,
   "metadata": {
    "id": "QUHbSN1KK7ue"
   },
   "outputs": [],
   "source": [
    ""
   ]
  },
  {
   "cell_type": "code",
   "execution_count": null,
   "metadata": {
    "id": "EtJRM9jiK7uf"
   },
   "outputs": [],
   "source": [
    "def czytaj_zmienna(typ_zmiennej, ikomunikat, ekomunikat, maks_prob=3):\n",
    "    \n",
    "    while maks_prob:\n",
    "        zmienna = input(ikomunikat)\n",
    "        try:\n",
    "            zmienna = typ_zmiennej(zmienna)\n",
    "            return zmienna\n",
    "        except ValueError:\n",
    "            print(ekomunikat)\n",
    "            maks_prob -= 1\n",
    "        print(f'zostało {maks_prob}' if maks_prob else 'koniec', 'prób')\n",
    "    \n",
    "    raise TypeError('Przekroczono maksymalną ilość prób')"
   ]
  },
  {
   "cell_type": "code",
   "execution_count": null,
   "metadata": {
    "id": "qvOvXcerK7uf",
    "outputId": "ec9675ff-c476-4d0f-90f8-f5a27bb25c32"
   },
   "outputs": [
    {
     "name": "stdout",
     "output_type": "stream",
     "text": [
      "Podaj int: f\n",
      "To nie int.\n",
      "zostało 2 prób\n",
      "Podaj int: f\n",
      "To nie int.\n",
      "zostało 1 prób\n",
      "Podaj int: f\n",
      "To nie int.\n",
      "koniec prób\n"
     ]
    },
    {
     "ename": "TypeError",
     "evalue": "Przekroczono maksymalną ilość prób",
     "output_type": "error",
     "traceback": [
      "\u001b[0;31m---------------------------------------------------------------------------\u001b[0m",
      "\u001b[0;31mTypeError\u001b[0m                                 Traceback (most recent call last)",
      "\u001b[0;32m<ipython-input-31-467c03afc8ab>\u001b[0m in \u001b[0;36m<module>\u001b[0;34m\u001b[0m\n\u001b[0;32m----> 1\u001b[0;31m \u001b[0mprint\u001b[0m\u001b[0;34m(\u001b[0m\u001b[0mczytaj_zmienna\u001b[0m\u001b[0;34m(\u001b[0m\u001b[0mint\u001b[0m\u001b[0;34m,\u001b[0m \u001b[0;34m'Podaj int: '\u001b[0m\u001b[0;34m,\u001b[0m \u001b[0;34m'To nie int.'\u001b[0m\u001b[0;34m)\u001b[0m\u001b[0;34m)\u001b[0m\u001b[0;34m\u001b[0m\u001b[0;34m\u001b[0m\u001b[0m\n\u001b[0m",
      "\u001b[0;32m<ipython-input-30-78ac49194fed>\u001b[0m in \u001b[0;36mczytaj_zmienna\u001b[0;34m(typ_zmiennej, ikomunikat, ekomunikat, maks_prob)\u001b[0m\n\u001b[1;32m     11\u001b[0m         \u001b[0mprint\u001b[0m\u001b[0;34m(\u001b[0m\u001b[0;34mf'zostało {maks_prob}'\u001b[0m \u001b[0;32mif\u001b[0m \u001b[0mmaks_prob\u001b[0m \u001b[0;32melse\u001b[0m \u001b[0;34m'koniec'\u001b[0m\u001b[0;34m,\u001b[0m \u001b[0;34m'prób'\u001b[0m\u001b[0;34m)\u001b[0m\u001b[0;34m\u001b[0m\u001b[0;34m\u001b[0m\u001b[0m\n\u001b[1;32m     12\u001b[0m \u001b[0;34m\u001b[0m\u001b[0m\n\u001b[0;32m---> 13\u001b[0;31m     \u001b[0;32mraise\u001b[0m \u001b[0mTypeError\u001b[0m\u001b[0;34m(\u001b[0m\u001b[0;34m'Przekroczono maksymalną ilość prób'\u001b[0m\u001b[0;34m)\u001b[0m\u001b[0;34m\u001b[0m\u001b[0;34m\u001b[0m\u001b[0m\n\u001b[0m",
      "\u001b[0;31mTypeError\u001b[0m: Przekroczono maksymalną ilość prób"
     ]
    }
   ],
   "source": [
    "print(czytaj_zmienna(int, 'Podaj int: ', 'To nie int.'))"
   ]
  },
  {
   "cell_type": "code",
   "execution_count": null,
   "metadata": {
    "id": "mKuUIjvZK7uf"
   },
   "outputs": [],
   "source": [
    ""
   ]
  },
  {
   "cell_type": "markdown",
   "metadata": {
    "id": "TI33GJywK7uf"
   },
   "source": [
    "## print(czytaj_zmienna(list, 'Podaj string: ', 'Konwersja do listy nieudana.'))"
   ]
  },
  {
   "cell_type": "code",
   "execution_count": null,
   "metadata": {
    "id": "DV-eitEpK7ug",
    "outputId": "d3d2ed75-a194-4f78-c54e-b2e75bf3208d"
   },
   "outputs": [
    {
     "name": "stdout",
     "output_type": "stream",
     "text": [
      "Podaj int: l\n",
      "To nie int.\n",
      "zostało 2 prób\n",
      "Podaj int: k\n",
      "To nie int.\n",
      "zostało 1 prób\n",
      "Podaj int: h\n",
      "To nie int.\n",
      "koniec prób\n",
      "Python mówi: Przekroczono maksymalną ilość prób\n"
     ]
    }
   ],
   "source": [
    "try:\n",
    "    czytaj_zmienna(int, 'Podaj int: ', 'To nie int.')\n",
    "except TypeError as s:\n",
    "    print('Python mówi:', s)"
   ]
  },
  {
   "cell_type": "markdown",
   "metadata": {
    "id": "Fhs1pFgnK7ug"
   },
   "source": [
    "Aby zadziałał poniższy przykład odkomentuj i uruchom poniższą komórkę"
   ]
  },
  {
   "cell_type": "code",
   "execution_count": null,
   "metadata": {
    "id": "qUkqnm9DK7ug"
   },
   "outputs": [],
   "source": [
    "# %%bash\n",
    "# echo \"Ala ma kota\" > a.txt"
   ]
  },
  {
   "cell_type": "code",
   "execution_count": null,
   "metadata": {
    "id": "bCNaDWmzK7ug"
   },
   "outputs": [],
   "source": [
    "def kopiuj_plik(z_pliku, do_pliku):\n",
    "    try:\n",
    "        with open(do_pliku, 'w') as dF:\n",
    "            try:\n",
    "                with open(z_pliku, 'r') as zF:\n",
    "                    for l in zF:\n",
    "                        dF.write(l)\n",
    "            except IOError:\n",
    "                print(\"kopiuj_plik: nie znaleziono pliku źródłowego %s\" % z_pliku)\n",
    "    except IOError:\n",
    "        print(\"kopiuj_plik: nie da się stworzyć pliku docelowego %s\" % do_pliku)"
   ]
  },
  {
   "cell_type": "code",
   "execution_count": null,
   "metadata": {
    "id": "EUKDs0j4K7uh",
    "outputId": "3e31f1e2-2678-4375-f0c4-d68ec16336dd"
   },
   "outputs": [
    {
     "name": "stdout",
     "output_type": "stream",
     "text": [
      "kopiuj_plik: nie da się stworzyć pliku docelowego /b.txt\n"
     ]
    }
   ],
   "source": [
    "# kopiuj_plik('a.txt', 'b.txt')\n",
    "# kopiuj_plik('c.txt', 'b.txt')\n",
    "# kopiuj_plik('a.txt', '/b.txt')"
   ]
  },
  {
   "cell_type": "code",
   "execution_count": null,
   "metadata": {
    "id": "B9zKlN-TK7uh",
    "outputId": "a0952e36-7a98-4f22-8b2c-99830e95c024"
   },
   "outputs": [
    {
     "name": "stdout",
     "output_type": "stream",
     "text": [
      "Ala ma kota\n",
      "Ala ma kota\n"
     ]
    }
   ],
   "source": [
    "%%bash \n",
    "cat a.txt b.txt"
   ]
  },
  {
   "cell_type": "markdown",
   "metadata": {
    "id": "UoMQnnPMK7uh"
   },
   "source": [
    "### asercja"
   ]
  },
  {
   "cell_type": "code",
   "execution_count": null,
   "metadata": {
    "id": "fJ3-64vTK7uh",
    "outputId": "6fe645b2-f1c9-405a-b48e-96a7e88cfe03"
   },
   "outputs": [
    {
     "ename": "AssertionError",
     "evalue": "to na pewno podniesie wyjątek",
     "output_type": "error",
     "traceback": [
      "\u001b[0;31m---------------------------------------------------------------------------\u001b[0m",
      "\u001b[0;31mAssertionError\u001b[0m                            Traceback (most recent call last)",
      "\u001b[0;32m<ipython-input-41-5fc93bcd5dfc>\u001b[0m in \u001b[0;36m<module>\u001b[0;34m\u001b[0m\n\u001b[0;32m----> 1\u001b[0;31m \u001b[0;32massert\u001b[0m \u001b[0;32mFalse\u001b[0m\u001b[0;34m,\u001b[0m \u001b[0;34m'to na pewno podniesie wyjątek'\u001b[0m\u001b[0;34m\u001b[0m\u001b[0;34m\u001b[0m\u001b[0m\n\u001b[0m",
      "\u001b[0;31mAssertionError\u001b[0m: to na pewno podniesie wyjątek"
     ]
    }
   ],
   "source": [
    "assert False, 'to na pewno podniesie wyjątek'"
   ]
  },
  {
   "cell_type": "code",
   "execution_count": null,
   "metadata": {
    "id": "Lb6ghBJoK7ui",
    "outputId": "1104a8af-af01-42a4-831b-3fac144fe17b"
   },
   "outputs": [
    {
     "name": "stdout",
     "output_type": "stream",
     "text": [
      "to na pewno podniesie wyjątek\n"
     ]
    }
   ],
   "source": [
    "try:\n",
    "    assert False, 'to na pewno podniesie wyjątek'\n",
    "    \n",
    "    import life\n",
    "    print(life.function_that_returns_the_meaning_of_life())\n",
    "    \n",
    "except AssertionError as ae:\n",
    "    print(ae)"
   ]
  },
  {
   "cell_type": "code",
   "execution_count": null,
   "metadata": {
    "id": "TtPKGhyTK7ui"
   },
   "outputs": [],
   "source": [
    ""
   ]
  },
  {
   "cell_type": "markdown",
   "metadata": {
    "id": "8lR-y7Z0K7ui"
   },
   "source": [
    "### try - except - else - finally; raise / assert"
   ]
  },
  {
   "cell_type": "code",
   "execution_count": null,
   "metadata": {
    "id": "-Ct3I5QAK7ui"
   },
   "outputs": [],
   "source": [
    "def dziel(x, y):\n",
    "    try:\n",
    "        odp = x / y\n",
    "    except ZeroDivisionError:\n",
    "        print(\"nie dziel przez zero cholero\")\n",
    "    except TypeError:\n",
    "        try:\n",
    "            x = float(x)\n",
    "            y = float(y)\n",
    "            dziel(x, y)\n",
    "        except TypeError:\n",
    "            print(\"Nie do konca ma to sens\")\n",
    "            raise TypeError(\"podaj liczby\")\n",
    "    else:\n",
    "        print(f\"{x}/{y} = {odp}\")\n",
    "    finally:\n",
    "        print(\"this is the end, my only friend the end...\")\n",
    "        "
   ]
  },
  {
   "cell_type": "code",
   "execution_count": null,
   "metadata": {
    "id": "Hqk5PItcK7ui",
    "outputId": "4c467e41-93f3-4132-a331-22d1fc45e7b2"
   },
   "outputs": [
    {
     "name": "stdout",
     "output_type": "stream",
     "text": [
      "12/2 = 6.0\n",
      "this is the end, my only friend the end...\n"
     ]
    }
   ],
   "source": [
    "dziel(12, 2)"
   ]
  },
  {
   "cell_type": "code",
   "execution_count": null,
   "metadata": {
    "id": "UeTES6tAK7uj",
    "outputId": "8dac6c5b-b522-42fa-b970-ced762956bf6"
   },
   "outputs": [
    {
     "name": "stdout",
     "output_type": "stream",
     "text": [
      "nie dziel przez zero cholero\n",
      "this is the end, my only friend the end...\n"
     ]
    }
   ],
   "source": [
    "dziel(2.0, 0)"
   ]
  },
  {
   "cell_type": "code",
   "execution_count": null,
   "metadata": {
    "id": "sdEVyQjnK7uj",
    "outputId": "7bd19133-7fea-42df-d349-06e9ad3ad311"
   },
   "outputs": [
    {
     "name": "stdout",
     "output_type": "stream",
     "text": [
      "2.0/2.0 = 1.0\n",
      "this is the end, my only friend the end...\n",
      "this is the end, my only friend the end...\n"
     ]
    }
   ],
   "source": [
    "dziel(\"2\", \"2\")"
   ]
  },
  {
   "cell_type": "code",
   "execution_count": null,
   "metadata": {
    "id": "_PzVa7-jK7uk",
    "outputId": "595f5e27-a91b-469e-9767-e9c2f1f94993"
   },
   "outputs": [
    {
     "name": "stdout",
     "output_type": "stream",
     "text": [
      "2.0/3.0 = 0.6666666666666666\n",
      "this is the end, my only friend the end...\n",
      "this is the end, my only friend the end...\n"
     ]
    }
   ],
   "source": [
    "dziel(\"2\", 3.0)"
   ]
  },
  {
   "cell_type": "code",
   "execution_count": null,
   "metadata": {
    "id": "ly1ULnGxK7uk",
    "outputId": "6ce5e970-bd78-49e6-d473-381dd53cd001"
   },
   "outputs": [
    {
     "name": "stdout",
     "output_type": "stream",
     "text": [
      "Nie do konca ma to sens\n",
      "this is the end, my only friend the end...\n"
     ]
    },
    {
     "ename": "TypeError",
     "evalue": "podaj liczby",
     "output_type": "error",
     "traceback": [
      "\u001b[0;31m---------------------------------------------------------------------------\u001b[0m",
      "\u001b[0;31mTypeError\u001b[0m                                 Traceback (most recent call last)",
      "\u001b[0;32m<ipython-input-44-4e1996619f6e>\u001b[0m in \u001b[0;36mdziel\u001b[0;34m(x, y)\u001b[0m\n\u001b[1;32m      2\u001b[0m     \u001b[0;32mtry\u001b[0m\u001b[0;34m:\u001b[0m\u001b[0;34m\u001b[0m\u001b[0;34m\u001b[0m\u001b[0m\n\u001b[0;32m----> 3\u001b[0;31m         \u001b[0modp\u001b[0m \u001b[0;34m=\u001b[0m \u001b[0mx\u001b[0m \u001b[0;34m/\u001b[0m \u001b[0my\u001b[0m\u001b[0;34m\u001b[0m\u001b[0;34m\u001b[0m\u001b[0m\n\u001b[0m\u001b[1;32m      4\u001b[0m     \u001b[0;32mexcept\u001b[0m \u001b[0mZeroDivisionError\u001b[0m\u001b[0;34m:\u001b[0m\u001b[0;34m\u001b[0m\u001b[0;34m\u001b[0m\u001b[0m\n",
      "\u001b[0;31mTypeError\u001b[0m: unsupported operand type(s) for /: 'list' and 'list'",
      "\nDuring handling of the above exception, another exception occurred:\n",
      "\u001b[0;31mTypeError\u001b[0m                                 Traceback (most recent call last)",
      "\u001b[0;32m<ipython-input-44-4e1996619f6e>\u001b[0m in \u001b[0;36mdziel\u001b[0;34m(x, y)\u001b[0m\n\u001b[1;32m      7\u001b[0m         \u001b[0;32mtry\u001b[0m\u001b[0;34m:\u001b[0m\u001b[0;34m\u001b[0m\u001b[0;34m\u001b[0m\u001b[0m\n\u001b[0;32m----> 8\u001b[0;31m             \u001b[0mx\u001b[0m \u001b[0;34m=\u001b[0m \u001b[0mfloat\u001b[0m\u001b[0;34m(\u001b[0m\u001b[0mx\u001b[0m\u001b[0;34m)\u001b[0m\u001b[0;34m\u001b[0m\u001b[0;34m\u001b[0m\u001b[0m\n\u001b[0m\u001b[1;32m      9\u001b[0m             \u001b[0my\u001b[0m \u001b[0;34m=\u001b[0m \u001b[0mfloat\u001b[0m\u001b[0;34m(\u001b[0m\u001b[0my\u001b[0m\u001b[0;34m)\u001b[0m\u001b[0;34m\u001b[0m\u001b[0;34m\u001b[0m\u001b[0m\n",
      "\u001b[0;31mTypeError\u001b[0m: float() argument must be a string or a number, not 'list'",
      "\nDuring handling of the above exception, another exception occurred:\n",
      "\u001b[0;31mTypeError\u001b[0m                                 Traceback (most recent call last)",
      "\u001b[0;32m<ipython-input-49-0fd4d8ccefc5>\u001b[0m in \u001b[0;36m<module>\u001b[0;34m\u001b[0m\n\u001b[0;32m----> 1\u001b[0;31m \u001b[0mdziel\u001b[0m\u001b[0;34m(\u001b[0m\u001b[0;34m[\u001b[0m\u001b[0;36m2\u001b[0m\u001b[0;34m]\u001b[0m\u001b[0;34m,\u001b[0m \u001b[0;34m[\u001b[0m\u001b[0;36m3\u001b[0m\u001b[0;34m]\u001b[0m\u001b[0;34m)\u001b[0m\u001b[0;34m\u001b[0m\u001b[0;34m\u001b[0m\u001b[0m\n\u001b[0m",
      "\u001b[0;32m<ipython-input-44-4e1996619f6e>\u001b[0m in \u001b[0;36mdziel\u001b[0;34m(x, y)\u001b[0m\n\u001b[1;32m     11\u001b[0m         \u001b[0;32mexcept\u001b[0m \u001b[0mTypeError\u001b[0m\u001b[0;34m:\u001b[0m\u001b[0;34m\u001b[0m\u001b[0;34m\u001b[0m\u001b[0m\n\u001b[1;32m     12\u001b[0m             \u001b[0mprint\u001b[0m\u001b[0;34m(\u001b[0m\u001b[0;34m\"Nie do konca ma to sens\"\u001b[0m\u001b[0;34m)\u001b[0m\u001b[0;34m\u001b[0m\u001b[0;34m\u001b[0m\u001b[0m\n\u001b[0;32m---> 13\u001b[0;31m             \u001b[0;32mraise\u001b[0m \u001b[0mTypeError\u001b[0m\u001b[0;34m(\u001b[0m\u001b[0;34m\"podaj liczby\"\u001b[0m\u001b[0;34m)\u001b[0m\u001b[0;34m\u001b[0m\u001b[0;34m\u001b[0m\u001b[0m\n\u001b[0m\u001b[1;32m     14\u001b[0m     \u001b[0;32melse\u001b[0m\u001b[0;34m:\u001b[0m\u001b[0;34m\u001b[0m\u001b[0;34m\u001b[0m\u001b[0m\n\u001b[1;32m     15\u001b[0m         \u001b[0mprint\u001b[0m\u001b[0;34m(\u001b[0m\u001b[0;34mf\"{x}/{y} = {odp}\"\u001b[0m\u001b[0;34m)\u001b[0m\u001b[0;34m\u001b[0m\u001b[0;34m\u001b[0m\u001b[0m\n",
      "\u001b[0;31mTypeError\u001b[0m: podaj liczby"
     ]
    }
   ],
   "source": [
    "dziel([2], [3])"
   ]
  },
  {
   "cell_type": "code",
   "execution_count": null,
   "metadata": {
    "id": "l0qgjX0ZK7ul"
   },
   "outputs": [],
   "source": [
    ""
   ]
  },
  {
   "cell_type": "code",
   "execution_count": null,
   "metadata": {
    "id": "0o934edgK7ul",
    "outputId": "153e62b2-db67-419a-93bc-47298062998e"
   },
   "outputs": [
    {
     "ename": "TypeError",
     "evalue": "",
     "output_type": "error",
     "traceback": [
      "\u001b[0;31m---------------------------------------------------------------------------\u001b[0m",
      "\u001b[0;31mTypeError\u001b[0m                                 Traceback (most recent call last)",
      "\u001b[0;32m<ipython-input-51-edb832a6149f>\u001b[0m in \u001b[0;36m<module>\u001b[0;34m\u001b[0m\n\u001b[0;32m----> 1\u001b[0;31m \u001b[0;32mraise\u001b[0m \u001b[0mTypeError\u001b[0m\u001b[0;34m\u001b[0m\u001b[0;34m\u001b[0m\u001b[0m\n\u001b[0m",
      "\u001b[0;31mTypeError\u001b[0m: "
     ]
    }
   ],
   "source": [
    "raise TypeError"
   ]
  },
  {
   "cell_type": "markdown",
   "metadata": {
    "id": "jyB6D7NcK7ul"
   },
   "source": [
    "# Exceptions"
   ]
  },
  {
   "cell_type": "code",
   "execution_count": null,
   "metadata": {
    "id": "cQK3BmuGK7ul"
   },
   "outputs": [],
   "source": [
    "def drzewo_klasy(klasa, wciecie=0):\n",
    "    \"\"\"drukuje wszystkie drzewo klasy cls\"\"\"\n",
    "    print(\"...\" * wciecie, klasa.__name__)\n",
    "    for podklasa in klasa.__subclasses__():\n",
    "        drzewo_klasy(podklasa, wciecie=wciecie+1)\n",
    "\n",
    "# drzewo_klasy(BaseException)\n",
    "# drzewo_klasy(Exception)"
   ]
  },
  {
   "cell_type": "code",
   "execution_count": null,
   "metadata": {
    "id": "_63qZJuxK7ul"
   },
   "outputs": [],
   "source": [
    ""
   ]
  },
  {
   "cell_type": "code",
   "execution_count": null,
   "metadata": {
    "id": "pVAwfSnnK7um"
   },
   "outputs": [],
   "source": [
    "class MyError(Exception):\n",
    "    \"\"\"my error class\"\"\"\n",
    "    \n",
    "    def __init__(self, value):\n",
    "        self.value = value\n",
    "    \n",
    "    def __str__(self):\n",
    "        return str(self.value)"
   ]
  },
  {
   "cell_type": "code",
   "execution_count": null,
   "metadata": {
    "id": "T62xl1txK7um",
    "outputId": "fe8eca73-c965-4405-9f38-ab562df2565c"
   },
   "outputs": [
    {
     "ename": "MyError",
     "evalue": "4",
     "output_type": "error",
     "traceback": [
      "\u001b[0;31m---------------------------------------------------------------------------\u001b[0m",
      "\u001b[0;31mMyError\u001b[0m                                   Traceback (most recent call last)",
      "\u001b[0;32m<ipython-input-58-3a497ebe134d>\u001b[0m in \u001b[0;36m<module>\u001b[0;34m\u001b[0m\n\u001b[0;32m----> 1\u001b[0;31m \u001b[0;32mraise\u001b[0m \u001b[0mMyError\u001b[0m\u001b[0;34m(\u001b[0m\u001b[0;36m2\u001b[0m \u001b[0;34m*\u001b[0m \u001b[0;36m2\u001b[0m\u001b[0;34m)\u001b[0m\u001b[0;34m\u001b[0m\u001b[0;34m\u001b[0m\u001b[0m\n\u001b[0m",
      "\u001b[0;31mMyError\u001b[0m: 4"
     ]
    }
   ],
   "source": [
    "raise MyError(2 * 2)"
   ]
  },
  {
   "cell_type": "code",
   "execution_count": null,
   "metadata": {
    "id": "vQ1fmo6jK7um",
    "outputId": "2924ac59-6a0c-488a-d7a2-f139d76817f0"
   },
   "outputs": [
    {
     "name": "stdout",
     "output_type": "stream",
     "text": [
      "My exception occurred, value: 4\n"
     ]
    }
   ],
   "source": [
    "try:\n",
    "    raise MyError(2 * 2)\n",
    "except MyError as e:\n",
    "    print('My exception occurred, value:', e.value)"
   ]
  },
  {
   "cell_type": "code",
   "execution_count": null,
   "metadata": {
    "id": "8mC7b3FwK7um"
   },
   "outputs": [],
   "source": [
    ""
   ]
  },
  {
   "cell_type": "code",
   "execution_count": null,
   "metadata": {
    "id": "XHH9T4pbK7um"
   },
   "outputs": [],
   "source": [
    "class MyError3(Exception):\n",
    "    \"\"\"my error class\"\"\"\n",
    "    \n",
    "    def __init__(self, value):\n",
    "        self.value = value\n",
    "    \n",
    "    def __str__(self):\n",
    "        return str(self.value) * 3"
   ]
  },
  {
   "cell_type": "code",
   "execution_count": null,
   "metadata": {
    "id": "RUhTIO4qK7un",
    "outputId": "865ad29a-13e1-4777-b21f-486a396468b8"
   },
   "outputs": [
    {
     "ename": "MyError3",
     "evalue": "444",
     "output_type": "error",
     "traceback": [
      "\u001b[0;31m---------------------------------------------------------------------------\u001b[0m",
      "\u001b[0;31mMyError3\u001b[0m                                  Traceback (most recent call last)",
      "\u001b[0;32m<ipython-input-61-1799891f95f5>\u001b[0m in \u001b[0;36m<module>\u001b[0;34m\u001b[0m\n\u001b[0;32m----> 1\u001b[0;31m \u001b[0;32mraise\u001b[0m \u001b[0mMyError3\u001b[0m\u001b[0;34m(\u001b[0m\u001b[0;36m2\u001b[0m \u001b[0;34m*\u001b[0m \u001b[0;36m2\u001b[0m\u001b[0;34m)\u001b[0m\u001b[0;34m\u001b[0m\u001b[0;34m\u001b[0m\u001b[0m\n\u001b[0m",
      "\u001b[0;31mMyError3\u001b[0m: 444"
     ]
    }
   ],
   "source": [
    "raise MyError3(2 * 2)"
   ]
  },
  {
   "cell_type": "code",
   "execution_count": null,
   "metadata": {
    "id": "vWUceuD0K7un",
    "outputId": "8b0f1ab0-8e6d-48a8-d11e-53780fb5dbea"
   },
   "outputs": [
    {
     "ename": "MyError3",
     "evalue": "oops!oops!oops!",
     "output_type": "error",
     "traceback": [
      "\u001b[0;31m---------------------------------------------------------------------------\u001b[0m",
      "\u001b[0;31mMyError3\u001b[0m                                  Traceback (most recent call last)",
      "\u001b[0;32m<ipython-input-62-ac45d89d4854>\u001b[0m in \u001b[0;36m<module>\u001b[0;34m\u001b[0m\n\u001b[0;32m----> 1\u001b[0;31m \u001b[0;32mraise\u001b[0m \u001b[0mMyError3\u001b[0m\u001b[0;34m(\u001b[0m\u001b[0;34m'oops!'\u001b[0m\u001b[0;34m)\u001b[0m\u001b[0;34m\u001b[0m\u001b[0;34m\u001b[0m\u001b[0m\n\u001b[0m",
      "\u001b[0;31mMyError3\u001b[0m: oops!oops!oops!"
     ]
    }
   ],
   "source": [
    "raise MyError3('oops!')"
   ]
  },
  {
   "cell_type": "code",
   "execution_count": null,
   "metadata": {
    "id": "iM6Gx6SLK7un"
   },
   "outputs": [],
   "source": [
    ""
   ]
  },
  {
   "cell_type": "code",
   "execution_count": null,
   "metadata": {
    "id": "qUCWOR05K7un"
   },
   "outputs": [],
   "source": [
    "class Olaboga(Exception): pass"
   ]
  },
  {
   "cell_type": "code",
   "execution_count": null,
   "metadata": {
    "id": "-gf3P01oK7un",
    "outputId": "5a8d7f7b-aad3-4af7-c50d-d0e0ebb2f1a3"
   },
   "outputs": [
    {
     "ename": "Olaboga",
     "evalue": "ŁOOOOLABOGA!",
     "output_type": "error",
     "traceback": [
      "\u001b[0;31m---------------------------------------------------------------------------\u001b[0m",
      "\u001b[0;31mOlaboga\u001b[0m                                   Traceback (most recent call last)",
      "\u001b[0;32m<ipython-input-56-d56d32dbad24>\u001b[0m in \u001b[0;36m<module>\u001b[0;34m\u001b[0m\n\u001b[0;32m----> 1\u001b[0;31m \u001b[0;32mraise\u001b[0m \u001b[0mOlaboga\u001b[0m\u001b[0;34m(\u001b[0m\u001b[0;34m\"ŁOOOOLABOGA!\"\u001b[0m\u001b[0;34m)\u001b[0m\u001b[0;34m\u001b[0m\u001b[0;34m\u001b[0m\u001b[0m\n\u001b[0m",
      "\u001b[0;31mOlaboga\u001b[0m: ŁOOOOLABOGA!"
     ]
    }
   ],
   "source": [
    "raise Olaboga(\"ŁOOOOLABOGA!\")"
   ]
  },
  {
   "cell_type": "code",
   "execution_count": null,
   "metadata": {
    "id": "b9Prj8hmK7uo"
   },
   "outputs": [],
   "source": [
    ""
   ]
  },
  {
   "cell_type": "code",
   "execution_count": null,
   "metadata": {
    "id": "WYTCzULvK7uo"
   },
   "outputs": [],
   "source": [
    ""
   ]
  },
  {
   "cell_type": "code",
   "execution_count": null,
   "metadata": {
    "id": "9hz5rnBvK7uo"
   },
   "outputs": [],
   "source": [
    ""
   ]
  },
  {
   "cell_type": "code",
   "execution_count": null,
   "metadata": {
    "id": "NPHXHSDeK7uo"
   },
   "outputs": [],
   "source": [
    ""
   ]
  }
 ],
 "metadata": {
  "colab": {
   "name": "kc20_p_wyklad_04_exceptions.ipynb",
   "provenance": []
  },
  "kernelspec": {
   "display_name": "Python 3",
   "language": "python",
   "name": "python3"
  },
  "language_info": {
   "codemirror_mode": {
    "name": "ipython",
    "version": 3
   },
   "file_extension": ".py",
   "mimetype": "text/x-python",
   "name": "python",
   "nbconvert_exporter": "python",
   "pygments_lexer": "ipython3",
   "version": "3.7.3"
  }
 },
 "nbformat": 4,
 "nbformat_minor": 0
}
