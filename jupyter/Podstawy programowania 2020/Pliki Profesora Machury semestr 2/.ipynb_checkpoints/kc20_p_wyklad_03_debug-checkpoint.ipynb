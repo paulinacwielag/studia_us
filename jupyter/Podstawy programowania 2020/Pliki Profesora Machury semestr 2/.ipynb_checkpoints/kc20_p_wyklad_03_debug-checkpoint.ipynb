{
 "cells": [
  {
   "cell_type": "markdown",
   "metadata": {
    "id": "kWJt2jnyLF_s"
   },
   "source": [
    "# Komunikacja Cyfrowa\n",
    "## Programowanie, wykład 3, ra 2020-21\n",
    "\n",
    "### Debugowanie\n",
    "\n",
    "* **testowanie** - proces sprawdzania czy program pracuje tak, jak programista zaplanował\n",
    "* **debugowanie** - proces naprawiania programu, o którym wiemy, że nie działa poprawnie (za 2 tygodnie)"
   ]
  },
  {
   "cell_type": "code",
   "execution_count": null,
   "metadata": {
    "id": "tVXxnBM0LF_z"
   },
   "outputs": [],
   "source": [
    "def czy_pal(x):\n",
    "    \"\"\"x: lista\n",
    "       zwraca True jezeli lista jest palindromem\n",
    "       jezeli nie zwraca False\"\"\"\n",
    "    temp = x.copy()  # x[:]\n",
    "    temp.reverse()\n",
    "    # temp = x[::-1]\n",
    "    \n",
    "#     print(f'czy_pal: x={x}, temp={temp}')\n",
    "    \n",
    "    if temp == x:\n",
    "        return True\n",
    "    else:\n",
    "        return False"
   ]
  },
  {
   "cell_type": "code",
   "execution_count": null,
   "metadata": {
    "id": "MmPUG6lbLF_0",
    "outputId": "a0534c99-3c0d-4193-a0b1-5fc4e7e232f3"
   },
   "outputs": [
    {
     "name": "stdout",
     "output_type": "stream",
     "text": [
      "['a', 'b'] powinno byc False: False\n",
      "['a', 'b', 'a'] powinno byc True: True\n",
      "['a', 'a'] powinno byc True: True\n"
     ]
    }
   ],
   "source": [
    "test_czy_pal()"
   ]
  },
  {
   "cell_type": "code",
   "execution_count": null,
   "metadata": {
    "id": "GYh8r-XKLF_1"
   },
   "outputs": [],
   "source": [
    ""
   ]
  },
  {
   "cell_type": "code",
   "execution_count": null,
   "metadata": {
    "id": "D86OkkpeLF_1"
   },
   "outputs": [],
   "source": [
    "    \n",
    "def fun(n):\n",
    "    \"\"\"n: int > 0\n",
    "    pobiera n wpisow\n",
    "    Drukuje \"tak\" jezeli wpisy tworza palindrom\n",
    "    Drukuje \"nie\" jezeli nie tworza\"\"\"\n",
    "    \n",
    "    wynik = []\n",
    "    for i in range(n): \n",
    "        # print(f'for: n={n}, i={i}, wynik={wynik}')\n",
    "        elem = input('Podaj cos: ')\n",
    "        wynik.append(elem)\n",
    "        \n",
    "#     print(f'po for: n={n}, i={i}, wynik={wynik}, elem={elem}')\n",
    "    \n",
    "    if czy_pal(wynik):\n",
    "        print('jest palindromem')\n",
    "    else:\n",
    "        print('nie jest palindromem')"
   ]
  },
  {
   "cell_type": "code",
   "execution_count": null,
   "metadata": {
    "id": "vu61FksWLF_1",
    "outputId": "6d10b784-d848-4568-923e-a02a9efde794"
   },
   "outputs": [
    {
     "name": "stdout",
     "output_type": "stream",
     "text": [
      "Podaj cos: a\n",
      "Podaj cos: b\n",
      "nie jest palindromem\n"
     ]
    }
   ],
   "source": [
    "fun(2)"
   ]
  },
  {
   "cell_type": "code",
   "execution_count": null,
   "metadata": {
    "id": "kPEvGG4JLF_2"
   },
   "outputs": [],
   "source": [
    "def test_czy_pal():\n",
    "    L = ['a', 'b']\n",
    "    wynik = czy_pal(L)\n",
    "    print(L, 'powinno byc False:', wynik)\n",
    "#     print(wynik == False)\n",
    "\n",
    "    L = ['a', 'b', 'a']\n",
    "    wynik = czy_pal(L)\n",
    "#     print(wynik == True)\n",
    "    print(L, 'powinno byc True:', wynik)\n",
    "    \n",
    "    L = ['a', 'a']\n",
    "    wynik = czy_pal(L)\n",
    "#     print(wynik == True)\n",
    "    print(L, 'powinno byc True:', wynik)"
   ]
  },
  {
   "cell_type": "code",
   "execution_count": null,
   "metadata": {
    "id": "jnvgo0vILF_2",
    "outputId": "5fa7eff4-c749-4e3c-cacb-9af3350c34ce"
   },
   "outputs": [
    {
     "name": "stdout",
     "output_type": "stream",
     "text": [
      "['a', 'b'] powinno byc False: True\n",
      "['a', 'b', 'a'] powinno byc True: True\n",
      "['a', 'a'] powinno byc True: True\n"
     ]
    }
   ],
   "source": [
    "test_czy_pal()"
   ]
  },
  {
   "cell_type": "code",
   "execution_count": null,
   "metadata": {
    "id": "P5zBzcxzLF_3"
   },
   "outputs": [],
   "source": [
    ""
   ]
  }
 ],
 "metadata": {
  "colab": {
   "name": "kc20_p_wyklad_03_debug.ipynb",
   "provenance": []
  },
  "kernelspec": {
   "display_name": "Python 3",
   "language": "python",
   "name": "python3"
  },
  "language_info": {
   "codemirror_mode": {
    "name": "ipython",
    "version": 3
   },
   "file_extension": ".py",
   "mimetype": "text/x-python",
   "name": "python",
   "nbconvert_exporter": "python",
   "pygments_lexer": "ipython3",
   "version": "3.7.3"
  }
 },
 "nbformat": 4,
 "nbformat_minor": 0
}
