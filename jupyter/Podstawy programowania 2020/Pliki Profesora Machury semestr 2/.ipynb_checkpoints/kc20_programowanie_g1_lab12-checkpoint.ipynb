{
 "cells": [
  {
   "cell_type": "markdown",
   "metadata": {},
   "source": [
    "**start 13:48**"
   ]
  },
  {
   "cell_type": "markdown",
   "metadata": {},
   "source": [
    "# KC, Programowanie\n",
    "\n",
    "## Programowanie zorientowane obiektowo (PZO), część 3\n",
    "\n",
    "### `Rakieta`\n",
    "Ponownie wracamy do klasy `Rakieta`. \n",
    "\n",
    "```\n",
    " ∧\n",
    " |\n",
    " |               ∧\n",
    " |              / \\\n",
    "y|--------------|o|  pozycja = (x, y)\n",
    " |              | |\n",
    " |               ᚄ\n",
    " |               |\n",
    " |               |\n",
    " +-------------------------->\n",
    "                 x\n",
    "```\n"
   ]
  },
  {
   "cell_type": "code",
   "execution_count": 1,
   "metadata": {},
   "outputs": [],
   "source": [
    "class Rakieta:\n",
    "    '''Rakieta'''\n",
    "    \n",
    "    def __init__(self, pozycja=(0, 0)):\n",
    "        self.set_pozycja(pozycja)\n",
    "    \n",
    "    def sprawdz_pozycje(pozycja):\n",
    "        assert isinstance(pozycja, (tuple, list)), 'pozycja powinna być listą/krotką'\n",
    "        assert len(pozycja) == 2, 'pozycja powinna mieć 2 elementy'\n",
    "        assert isinstance(pozycja[0], (int, float)), '1 element pozycji ma być liczbą'\n",
    "        assert isinstance(pozycja[1], (int, float)), '2 element pozycji ma być liczbą'     \n",
    "        assert pozycja[1] >= 0, 'drugi element pozycji >= 0'\n",
    "    \n",
    "    def get_pozycja(self):\n",
    "        return self.pozycja\n",
    "    \n",
    "    def set_pozycja(self, nowa_pozycja):\n",
    "        'ustaw var jako nową wartość pozycji'\n",
    "        Rakieta.sprawdz_pozycje(nowa_pozycja)  # __class__.sprawdz_pozycje(nowa_pozycja)\n",
    "        self.pozycja = nowa_pozycja\n",
    "        \n",
    "    def przesun_rakiete(self, przesuniecie):\n",
    "        x, y = self.get_pozycja()  # czytaj pozycję\n",
    "        dx, dy = przesuniecie  # czytaj przesuniecie\n",
    "        nowa_pozycja = (x + dx, y + dy)  # oblicz nowa pozycje\n",
    "        self.set_pozycja(nowa_pozycja)  # ustaw nową pozycję\n",
    "        \n",
    "    def w_gore(self, gora):\n",
    "        self.przesun_rakiete((0, gora))\n",
    "        \n",
    "    def w_dol(self, dol):\n",
    "        self.przesun_rakiete((0, -dol))\n",
    "        \n",
    "    def w_prawo(self, prawo):\n",
    "        self.przesun_rakiete((prawo, 0))\n",
    "        \n",
    "    def w_lewo(self, lewo):\n",
    "        self.przesun_rakiete((-lewo, 0))\n",
    "        \n",
    "    def laduj(self):\n",
    "        x, y = self.get_pozycja()\n",
    "        self.set_pozycja((x, 0))\n",
    "        \n",
    "    def __repr__(self):\n",
    "        return f'Rakieta na pozycji {self.get_pozycja()}'\n",
    "    \n",
    "    def __str__(self):\n",
    "        return self.__repr__()"
   ]
  },
  {
   "cell_type": "code",
   "execution_count": 2,
   "metadata": {},
   "outputs": [
    {
     "data": {
      "text/plain": [
       "Rakieta na pozycji (0, 0)"
      ]
     },
     "execution_count": 2,
     "metadata": {},
     "output_type": "execute_result"
    }
   ],
   "source": [
    "r = Rakieta()\n",
    "r"
   ]
  },
  {
   "cell_type": "code",
   "execution_count": 3,
   "metadata": {},
   "outputs": [
    {
     "data": {
      "text/plain": [
       "Rakieta na pozycji (0, 100)"
      ]
     },
     "execution_count": 3,
     "metadata": {},
     "output_type": "execute_result"
    }
   ],
   "source": [
    "r.w_gore(100)\n",
    "r"
   ]
  },
  {
   "cell_type": "code",
   "execution_count": null,
   "metadata": {},
   "outputs": [],
   "source": []
  },
  {
   "cell_type": "code",
   "execution_count": 44,
   "metadata": {},
   "outputs": [],
   "source": [
    "class RakietaBojowa:\n",
    "    '''Rakieta Bojowa'''\n",
    "    \n",
    "    def __init__(self, pozycja=(0, 0), moc=0):\n",
    "        self.set_pozycja(pozycja)\n",
    "        self.set_moc(moc)\n",
    "    \n",
    "    def get_moc(self):\n",
    "        return self.moc\n",
    "    \n",
    "    def set_moc(self, moc):\n",
    "        assert isinstance(moc, (int, float))\n",
    "        assert moc >= 0\n",
    "        self.moc = moc\n",
    "        \n",
    "    def sprawdz_pozycje(pozycja):\n",
    "        assert isinstance(pozycja, (tuple, list)), 'pozycja powinna być listą/krotką'\n",
    "        assert len(pozycja) == 2, 'pozycja powinna mieć 2 elementy'\n",
    "        assert isinstance(pozycja[0], (int, float)), '1 element pozycji ma być liczbą'\n",
    "        assert isinstance(pozycja[1], (int, float)), '2 element pozycji ma być liczbą'     \n",
    "        assert pozycja[1] >= 0, 'drugi element pozycji >= 0'\n",
    "    \n",
    "    def get_pozycja(self):\n",
    "        return self.pozycja\n",
    "    \n",
    "    def set_pozycja(self, nowa_pozycja):\n",
    "        'ustaw var jako nową wartość pozycji'\n",
    "        Rakieta.sprawdz_pozycje(nowa_pozycja)  # __class__.sprawdz_pozycje(nowa_pozycja)\n",
    "        self.pozycja = nowa_pozycja\n",
    "        \n",
    "    def przesun_rakiete(self, przesuniecie):\n",
    "        x, y = self.get_pozycja()  # czytaj pozycję\n",
    "        dx, dy = przesuniecie  # czytaj przesuniecie\n",
    "        nowa_pozycja = (x + dx, y + dy)  # oblicz nowa pozycje\n",
    "        self.set_pozycja(nowa_pozycja)  # ustaw nową pozycję\n",
    "        \n",
    "    def w_gore(self, gora):\n",
    "        self.przesun_rakiete((0, gora))\n",
    "        \n",
    "    def w_dol(self, dol):\n",
    "        self.przesun_rakiete((0, -dol))\n",
    "        \n",
    "    def w_prawo(self, prawo):\n",
    "        self.przesun_rakiete((prawo, 0))\n",
    "        \n",
    "    def w_lewo(self, lewo):\n",
    "        self.przesun_rakiete((-lewo, 0))\n",
    "        \n",
    "    def laduj(self):\n",
    "        x, y = self.get_pozycja()\n",
    "        self.set_pozycja((x, 0))\n",
    "        \n",
    "    def __repr__(self):\n",
    "        return f'Rakieta Bojowa na pozycji {self.get_pozycja()} o mocy {self.get_moc()}'\n",
    "    \n",
    "    def __str__(self):\n",
    "        return self.__repr__()"
   ]
  },
  {
   "cell_type": "code",
   "execution_count": 45,
   "metadata": {},
   "outputs": [
    {
     "data": {
      "text/plain": [
       "Rakieta Bojowa na pozycji (0, 0) o mocy 100"
      ]
     },
     "execution_count": 45,
     "metadata": {},
     "output_type": "execute_result"
    }
   ],
   "source": [
    "rb = RakietaBojowa(pozycja=(0, 0), moc=100)\n",
    "rb"
   ]
  },
  {
   "cell_type": "code",
   "execution_count": null,
   "metadata": {},
   "outputs": [],
   "source": []
  },
  {
   "cell_type": "markdown",
   "metadata": {},
   "source": [
    "### dziedziczenie"
   ]
  },
  {
   "cell_type": "code",
   "execution_count": 46,
   "metadata": {},
   "outputs": [],
   "source": [
    "class RakietaBojowa(Rakieta):\n",
    "    '''Rakieta Bojowa'''\n",
    "    \n",
    "    def __init__(self, pozycja=(0, 0), moc=0):\n",
    "        self.set_moc(moc)\n",
    "        Rakieta.__init__(self, pozycja=pozycja)\n",
    "    \n",
    "    def get_moc(self):\n",
    "        return self.moc\n",
    "    \n",
    "    def set_moc(self, moc):\n",
    "        assert isinstance(moc, (int, float))\n",
    "        assert moc > 0\n",
    "        self.moc = moc\n",
    "        \n",
    "    def __repr__(self):\n",
    "        return f'Rakieta Bojowa na pozycji {self.get_pozycja()} o mocy {self.get_moc()}'"
   ]
  },
  {
   "cell_type": "code",
   "execution_count": 47,
   "metadata": {},
   "outputs": [
    {
     "data": {
      "text/plain": [
       "Rakieta Bojowa na pozycji (-30, 100) o mocy 100"
      ]
     },
     "execution_count": 47,
     "metadata": {},
     "output_type": "execute_result"
    }
   ],
   "source": [
    "rb = RakietaBojowa(pozycja=(0, 0), moc=100)\n",
    "rb.w_gore(100)\n",
    "rb.w_prawo(30)\n",
    "rb.w_lewo(60)\n",
    "rb"
   ]
  },
  {
   "cell_type": "markdown",
   "metadata": {},
   "source": [
    "### Ćwiczenie 1\n",
    "Sluis Van (http://www.sluisvan.net) to strona opisująca wszelkiego rodzaju statki kosmiczne ze świata Gwiezdnych wojen. Proszę wybrać sobie 1 statek (unikalny) i na bazie rakiety bojowej którą widać powyżej stworzyć swoją klasę, dziedzicząc z `RakietaBojowa`, ale dodając 1 dodatkową funkcjonalność (get/set i modyfikacja `__repr__`)"
   ]
  },
  {
   "cell_type": "code",
   "execution_count": null,
   "metadata": {},
   "outputs": [],
   "source": []
  },
  {
   "cell_type": "code",
   "execution_count": null,
   "metadata": {},
   "outputs": [],
   "source": []
  },
  {
   "cell_type": "markdown",
   "metadata": {},
   "source": [
    "### interakcja"
   ]
  },
  {
   "cell_type": "code",
   "execution_count": 48,
   "metadata": {},
   "outputs": [
    {
     "data": {
      "text/plain": [
       "False"
      ]
     },
     "execution_count": 48,
     "metadata": {},
     "output_type": "execute_result"
    }
   ],
   "source": [
    "x = 1\n",
    "y = 2\n",
    "x > y   # __gt__"
   ]
  },
  {
   "cell_type": "code",
   "execution_count": 49,
   "metadata": {},
   "outputs": [
    {
     "data": {
      "text/plain": [
       "2"
      ]
     },
     "execution_count": 49,
     "metadata": {},
     "output_type": "execute_result"
    }
   ],
   "source": [
    "x + 1"
   ]
  },
  {
   "cell_type": "code",
   "execution_count": 50,
   "metadata": {},
   "outputs": [
    {
     "data": {
      "text/plain": [
       "3"
      ]
     },
     "execution_count": 50,
     "metadata": {},
     "output_type": "execute_result"
    }
   ],
   "source": [
    "x + y"
   ]
  },
  {
   "cell_type": "code",
   "execution_count": 64,
   "metadata": {},
   "outputs": [],
   "source": [
    "class RakietaBojowa(Rakieta):\n",
    "    '''Rakieta Bojowa'''\n",
    "    \n",
    "    def __init__(self, pozycja=(0, 0), moc=0):\n",
    "        self.set_moc(moc)\n",
    "        Rakieta.__init__(self, pozycja=pozycja)\n",
    "    \n",
    "    def get_moc(self):\n",
    "        return self.moc\n",
    "    \n",
    "    def set_moc(self, moc):\n",
    "        assert isinstance(moc, (int, float))\n",
    "        assert moc >= 0\n",
    "        self.moc = moc\n",
    "        \n",
    "    def __repr__(self):\n",
    "        return f'Rakieta Bojowa na pozycji {self.get_pozycja()} o mocy {self.get_moc()}'\n",
    "    \n",
    "    def czy_mocniejsza(self, other):\n",
    "        moc_self = self.get_moc()\n",
    "        moc_other = other.get_moc()\n",
    "        return moc_self > moc_other"
   ]
  },
  {
   "cell_type": "markdown",
   "metadata": {},
   "source": [
    "### Ćwiczenie 2\n",
    "Proszę dopisać do swojej klasy funkcję porównującą w dwóch instancjach (`self` i `other`) ów drugi atrybut jaki Państwo dodali do swoich statków z uniwersum SW."
   ]
  },
  {
   "cell_type": "code",
   "execution_count": 52,
   "metadata": {},
   "outputs": [
    {
     "name": "stdout",
     "output_type": "stream",
     "text": [
      "Rakieta Bojowa na pozycji (100, 100) o mocy 100\n",
      "Rakieta Bojowa na pozycji (-100, 100) o mocy 200\n"
     ]
    }
   ],
   "source": [
    "rA = RakietaBojowa(pozycja=(100, 100), moc=100)\n",
    "print(rA)\n",
    "rB = RakietaBojowa(pozycja=(-100, 100), moc=200)\n",
    "print(rB)"
   ]
  },
  {
   "cell_type": "code",
   "execution_count": 53,
   "metadata": {},
   "outputs": [
    {
     "data": {
      "text/plain": [
       "False"
      ]
     },
     "execution_count": 53,
     "metadata": {},
     "output_type": "execute_result"
    }
   ],
   "source": [
    "rA.czy_mocniejsza(rB)"
   ]
  },
  {
   "cell_type": "code",
   "execution_count": 54,
   "metadata": {},
   "outputs": [
    {
     "data": {
      "text/plain": [
       "True"
      ]
     },
     "execution_count": 54,
     "metadata": {},
     "output_type": "execute_result"
    }
   ],
   "source": [
    "rB.czy_mocniejsza(rA)"
   ]
  },
  {
   "cell_type": "code",
   "execution_count": 55,
   "metadata": {},
   "outputs": [],
   "source": [
    "rC = RakietaBojowa(pozycja=(0, 100), moc=300)"
   ]
  },
  {
   "cell_type": "code",
   "execution_count": 56,
   "metadata": {},
   "outputs": [
    {
     "data": {
      "text/plain": [
       "600"
      ]
     },
     "execution_count": 56,
     "metadata": {},
     "output_type": "execute_result"
    }
   ],
   "source": [
    "rC.sumuj_moc(rA, rB)"
   ]
  },
  {
   "cell_type": "markdown",
   "metadata": {},
   "source": [
    "### Imperium"
   ]
  },
  {
   "cell_type": "code",
   "execution_count": 119,
   "metadata": {},
   "outputs": [],
   "source": [
    "class Naboo(RakietaBojowa):\n",
    "    \"\"\"Mysliwiec Naboo N-1 Starfighter\"\"\"\n",
    "    def __init__(self, pozycja=(0, 0), moc=0, wytrzymalosc=60, nazwa='Naboo'):\n",
    "        RakietaBojowa.__init__(self, pozycja=pozycja, moc=moc)\n",
    "        self.set_wytrzymalosc(wytrzymalosc)\n",
    "        self.name = nazwa\n",
    "        \n",
    "    def get_wytrzymalosc(self):\n",
    "        return self.wytrzymalosc\n",
    "    \n",
    "    def set_wytrzymalosc(self, wytrzymalosc):\n",
    "        assert isinstance(wytrzymalosc, (int, float))\n",
    "        assert wytrzymalosc >= 0\n",
    "        self.wytrzymalosc = wytrzymalosc\n",
    "    \n",
    "    def __repr__(self):\n",
    "        return f'''Rakieta na pozycji {self.get_pozycja()}, \n",
    "                    mocy {self.get_moc()} i \n",
    "                    wytrzymalosci {self.get_wytrzymalosc()}'''\n",
    "        \n",
    "    def czy_mocniejsza(self, other):\n",
    "        GS_self = self.get_moc() + self.get_wytrzymalosc()\n",
    "        GS_other = other.get_moc() + other.get_wytrzymalosc()\n",
    "        return GS_self > GS_other"
   ]
  },
  {
   "cell_type": "code",
   "execution_count": 94,
   "metadata": {},
   "outputs": [
    {
     "data": {
      "text/plain": [
       "TwinTail na pozycji (0, 0) o mocy 0 w 170"
      ]
     },
     "execution_count": 94,
     "metadata": {},
     "output_type": "execute_result"
    }
   ],
   "source": [
    "tt = TwinTail()\n",
    "tt"
   ]
  },
  {
   "cell_type": "code",
   "execution_count": 95,
   "metadata": {},
   "outputs": [
    {
     "data": {
      "text/plain": [
       "'nabooX123'"
      ]
     },
     "execution_count": 95,
     "metadata": {},
     "output_type": "execute_result"
    }
   ],
   "source": [
    "nabooX123 = Naboo(nazwa='nabooX123')\n",
    "nabooX123.name\n",
    "nabooX123"
   ]
  },
  {
   "cell_type": "code",
   "execution_count": 96,
   "metadata": {},
   "outputs": [],
   "source": [
    "# id(nabooX123)"
   ]
  },
  {
   "cell_type": "code",
   "execution_count": 97,
   "metadata": {},
   "outputs": [],
   "source": [
    "v = Venator()"
   ]
  },
  {
   "cell_type": "code",
   "execution_count": 98,
   "metadata": {},
   "outputs": [],
   "source": [
    "# v"
   ]
  },
  {
   "cell_type": "code",
   "execution_count": 99,
   "metadata": {},
   "outputs": [],
   "source": [
    "m1 = Mysliwiec_CloakShape()\n",
    "m2 = Mysliwiec_CloakShape(predkosc=100000)"
   ]
  },
  {
   "cell_type": "code",
   "execution_count": 100,
   "metadata": {},
   "outputs": [
    {
     "ename": "AttributeError",
     "evalue": "'Mysliwiec_CloakShape' object has no attribute 'predkosc'",
     "output_type": "error",
     "traceback": [
      "\u001b[0;31m---------------------------------------------------------------------------\u001b[0m",
      "\u001b[0;31mAttributeError\u001b[0m                            Traceback (most recent call last)",
      "\u001b[0;32m<ipython-input-100-15aeb02dff8d>\u001b[0m in \u001b[0;36m<module>\u001b[0;34m\u001b[0m\n\u001b[0;32m----> 1\u001b[0;31m \u001b[0mm1\u001b[0m\u001b[0;34m.\u001b[0m\u001b[0mczy_szybsza\u001b[0m\u001b[0;34m(\u001b[0m\u001b[0mm2\u001b[0m\u001b[0;34m)\u001b[0m\u001b[0;34m\u001b[0m\u001b[0;34m\u001b[0m\u001b[0m\n\u001b[0m",
      "\u001b[0;32m<ipython-input-93-74a46a83d167>\u001b[0m in \u001b[0;36mczy_szybsza\u001b[0;34m(self, other)\u001b[0m\n\u001b[1;32m     17\u001b[0m \u001b[0;34m\u001b[0m\u001b[0m\n\u001b[1;32m     18\u001b[0m     \u001b[0;32mdef\u001b[0m \u001b[0mczy_szybsza\u001b[0m\u001b[0;34m(\u001b[0m\u001b[0mself\u001b[0m\u001b[0;34m,\u001b[0m \u001b[0mother\u001b[0m\u001b[0;34m)\u001b[0m\u001b[0;34m:\u001b[0m\u001b[0;34m\u001b[0m\u001b[0;34m\u001b[0m\u001b[0m\n\u001b[0;32m---> 19\u001b[0;31m         \u001b[0mpredkosc_self\u001b[0m \u001b[0;34m=\u001b[0m \u001b[0mself\u001b[0m\u001b[0;34m.\u001b[0m\u001b[0mget_predkosc\u001b[0m\u001b[0;34m(\u001b[0m\u001b[0;34m)\u001b[0m\u001b[0;34m\u001b[0m\u001b[0;34m\u001b[0m\u001b[0m\n\u001b[0m\u001b[1;32m     20\u001b[0m         \u001b[0mpredkosc_other\u001b[0m \u001b[0;34m=\u001b[0m \u001b[0mother\u001b[0m\u001b[0;34m.\u001b[0m\u001b[0mget_predkosc\u001b[0m\u001b[0;34m(\u001b[0m\u001b[0;34m)\u001b[0m\u001b[0;34m\u001b[0m\u001b[0;34m\u001b[0m\u001b[0m\n\u001b[1;32m     21\u001b[0m         \u001b[0;32mreturn\u001b[0m \u001b[0mpredkosc_self\u001b[0m \u001b[0;34m>\u001b[0m \u001b[0mpredkosc_other\u001b[0m\u001b[0;34m\u001b[0m\u001b[0;34m\u001b[0m\u001b[0m\n",
      "\u001b[0;32m<ipython-input-93-74a46a83d167>\u001b[0m in \u001b[0;36mget_predkosc\u001b[0;34m(self)\u001b[0m\n\u001b[1;32m      7\u001b[0m \u001b[0;34m\u001b[0m\u001b[0m\n\u001b[1;32m      8\u001b[0m     \u001b[0;32mdef\u001b[0m \u001b[0mget_predkosc\u001b[0m\u001b[0;34m(\u001b[0m\u001b[0mself\u001b[0m\u001b[0;34m)\u001b[0m\u001b[0;34m:\u001b[0m\u001b[0;34m\u001b[0m\u001b[0;34m\u001b[0m\u001b[0m\n\u001b[0;32m----> 9\u001b[0;31m         \u001b[0;32mreturn\u001b[0m \u001b[0mself\u001b[0m\u001b[0;34m.\u001b[0m\u001b[0mpredkosc\u001b[0m\u001b[0;34m\u001b[0m\u001b[0;34m\u001b[0m\u001b[0m\n\u001b[0m\u001b[1;32m     10\u001b[0m \u001b[0;34m\u001b[0m\u001b[0m\n\u001b[1;32m     11\u001b[0m     \u001b[0;32mdef\u001b[0m \u001b[0mset_predkosc\u001b[0m\u001b[0;34m(\u001b[0m\u001b[0mself\u001b[0m\u001b[0;34m,\u001b[0m \u001b[0mpredkosc\u001b[0m\u001b[0;34m)\u001b[0m\u001b[0;34m:\u001b[0m\u001b[0;34m\u001b[0m\u001b[0;34m\u001b[0m\u001b[0m\n",
      "\u001b[0;31mAttributeError\u001b[0m: 'Mysliwiec_CloakShape' object has no attribute 'predkosc'"
     ]
    }
   ],
   "source": [
    "m1.czy_szybsza(m2)"
   ]
  },
  {
   "cell_type": "code",
   "execution_count": null,
   "metadata": {},
   "outputs": [],
   "source": []
  },
  {
   "cell_type": "code",
   "execution_count": 107,
   "metadata": {},
   "outputs": [],
   "source": [
    "class TwinTail(Rakieta):\n",
    "    '''Twin Tail'''\n",
    "    \n",
    "    def __init__(self, pozycja = (0, 0), wytrzymalosc = 0, moc = 0):\n",
    "        self.set_moc(moc)\n",
    "        self.set_wytrzymalosc(wytrzymalosc)\n",
    "        Rakieta.__init__(self, pozycja = pozycja)\n",
    "        \n",
    "    def get_moc(self):\n",
    "        return self.moc\n",
    "    \n",
    "    def set_moc(self, moc):\n",
    "        assert isinstance(moc, (int, float)), 'moc musi być INT'\n",
    "        assert moc >= 0\n",
    "        self.moc = moc\n",
    "        \n",
    "    def get_wytrzymalosc(self):\n",
    "        return self.wytrzymalosc\n",
    "    \n",
    "    def set_wytrzymalosc(self, wytrzymalosc):\n",
    "        assert isinstance(wytrzymalosc, (int, float)), 'wytrzymalosc musi być INT'\n",
    "        assert wytrzymalosc >= 0\n",
    "        self.wytrzymalosc = wytrzymalosc\n",
    "        \n",
    "    def __repr__(self):\n",
    "        return f'Twin Tail na pozycji {self.get_pozycja()} o mocy {self.get_moc()} i wytrzymałości {self.get_wytrzymalosc()}.'\n",
    "                 \n",
    "    def czy_mocniejsza(self, other):\n",
    "        moc_self = self.get_moc()\n",
    "        moc_other = other.get_moc()\n",
    "        return moc_self > moc_other\n",
    "                 \n",
    "    def czy_wytrzymalszy(self, other):\n",
    "        wytrzymalosc_self = self.get_wytrzymalosc()\n",
    "        wytrzymalosc_other = other.get_wytrzymalosc()\n",
    "        return wytrzymalosc_self > wytrzymalosc_other"
   ]
  },
  {
   "cell_type": "code",
   "execution_count": 108,
   "metadata": {},
   "outputs": [
    {
     "data": {
      "text/plain": [
       "Twin Tail na pozycji (0, 0) o mocy 0 i wytrzymałości 0."
      ]
     },
     "execution_count": 108,
     "metadata": {},
     "output_type": "execute_result"
    }
   ],
   "source": [
    "tt1 = TwinTail()\n",
    "tt1"
   ]
  },
  {
   "cell_type": "code",
   "execution_count": 109,
   "metadata": {},
   "outputs": [
    {
     "data": {
      "text/plain": [
       "Twin Tail na pozycji (0, 0) o mocy 100 i wytrzymałości 33."
      ]
     },
     "execution_count": 109,
     "metadata": {},
     "output_type": "execute_result"
    }
   ],
   "source": [
    "tt2 = TwinTail(moc=100, wytrzymalosc=33)\n",
    "tt2"
   ]
  },
  {
   "cell_type": "code",
   "execution_count": 110,
   "metadata": {},
   "outputs": [
    {
     "data": {
      "text/plain": [
       "True"
      ]
     },
     "execution_count": 110,
     "metadata": {},
     "output_type": "execute_result"
    }
   ],
   "source": [
    "tt2.czy_mocniejsza(tt1)"
   ]
  },
  {
   "cell_type": "code",
   "execution_count": 111,
   "metadata": {},
   "outputs": [
    {
     "data": {
      "text/plain": [
       "True"
      ]
     },
     "execution_count": 111,
     "metadata": {},
     "output_type": "execute_result"
    }
   ],
   "source": [
    "tt2.czy_wytrzymalszy(tt1)"
   ]
  },
  {
   "cell_type": "code",
   "execution_count": null,
   "metadata": {},
   "outputs": [],
   "source": []
  },
  {
   "cell_type": "code",
   "execution_count": 112,
   "metadata": {},
   "outputs": [],
   "source": [
    "class Venator(Rakieta):\n",
    "    '''Venator Gwiezdny Niszczyciel'''\n",
    "    \n",
    "    def __init__(self, pozycja=(0, 0), moc=0, wytrzymalosc=533):\n",
    "        self.set_pozycja(pozycja)\n",
    "        self.set_moc(moc)\n",
    "        self.set_wytrzymalosc(wytrzymalosc)\n",
    "        Rakieta.__init__(self, pozycja = pozycja)\n",
    "\n",
    "    def set_moc(self, moc):\n",
    "        assert isinstance(moc, (int, float))\n",
    "        assert moc >= 0\n",
    "        self.moc = moc\n",
    "    \n",
    "    def get_moc(self):\n",
    "        return self.moc\n",
    "    \n",
    "    def set_wytrzymalosc(self, wytrzymalosc):\n",
    "        assert isinstance(wytrzymalosc, (int, float))\n",
    "        assert wytrzymalosc >= 0\n",
    "        self.wytrzymalosc = wytrzymalosc\n",
    "    \n",
    "    def get_wytrzymalosc(self):\n",
    "        return self.wytrzymalosc\n",
    "\n",
    "    def __repr__(self):\n",
    "        return f'Venator na pozycji: {self.get_pozycja()} o mocy {self.get_moc()} i wytrzymałości: {self.get_wytrzymalosc()}'\n",
    "    \n",
    "    def czy_mocniejsze(self, other):\n",
    "        moc_self = self.get_moc()\n",
    "        moc_other = other.get_moc()\n",
    "        return moc_self > moc_other\n",
    "    \n",
    "    def czy_bardziej_wytrzymale(self, other):\n",
    "        wytrzymalosc_self = self.get_wytrzymalosc()\n",
    "        wytrzymalosc_other = other.get_wytrzymalosc()\n",
    "        return wytrzymalosc_self > wytrzymalosc_other"
   ]
  },
  {
   "cell_type": "code",
   "execution_count": 113,
   "metadata": {},
   "outputs": [],
   "source": [
    "v1 = Venator()"
   ]
  },
  {
   "cell_type": "code",
   "execution_count": 114,
   "metadata": {},
   "outputs": [
    {
     "data": {
      "text/plain": [
       "Venator na pozycji: (0, 0) o mocy 0 i wytrzymałości: 533"
      ]
     },
     "execution_count": 114,
     "metadata": {},
     "output_type": "execute_result"
    }
   ],
   "source": [
    "v1"
   ]
  },
  {
   "cell_type": "code",
   "execution_count": 115,
   "metadata": {},
   "outputs": [],
   "source": [
    "v2 = Venator(moc=100, wytrzymalosc=33)"
   ]
  },
  {
   "cell_type": "code",
   "execution_count": 116,
   "metadata": {},
   "outputs": [
    {
     "data": {
      "text/plain": [
       "Venator na pozycji: (0, 0) o mocy 100 i wytrzymałości: 33"
      ]
     },
     "execution_count": 116,
     "metadata": {},
     "output_type": "execute_result"
    }
   ],
   "source": [
    "v2"
   ]
  },
  {
   "cell_type": "code",
   "execution_count": 117,
   "metadata": {},
   "outputs": [
    {
     "data": {
      "text/plain": [
       "True"
      ]
     },
     "execution_count": 117,
     "metadata": {},
     "output_type": "execute_result"
    }
   ],
   "source": [
    "v1.czy_bardziej_wytrzymale(v2)"
   ]
  },
  {
   "cell_type": "code",
   "execution_count": 118,
   "metadata": {},
   "outputs": [
    {
     "data": {
      "text/plain": [
       "False"
      ]
     },
     "execution_count": 118,
     "metadata": {},
     "output_type": "execute_result"
    }
   ],
   "source": [
    "v1.czy_mocniejsze(v2)"
   ]
  },
  {
   "cell_type": "code",
   "execution_count": 140,
   "metadata": {},
   "outputs": [],
   "source": [
    "class Mysliwiec_CloakShape(RakietaBojowa):\n",
    "    '''Myśliwiec CloakShape'''\n",
    "    \n",
    "    def __init__(self, pozycja = (0,0), predkosc = 6, moc=1):\n",
    "        self.set_predkosc(predkosc)\n",
    "        RakietaBojowa.__init__(self, pozycja=pozycja, moc=moc)\n",
    "#         super().__init__(pozycja=pozycja, moc=moc)\n",
    "        \n",
    "    def get_predkosc(self):\n",
    "        return self.predkosc\n",
    "    \n",
    "    def set_predkosc(self, predkosc):\n",
    "        assert isinstance(predkosc, (int, float))\n",
    "        assert predkosc > 0\n",
    "        self.predkosc = predkosc\n",
    "        \n",
    "    def __repr__(self):\n",
    "        return f'Myśliwiec CloakShape na pozycji {self.get_pozycja()} o predkosci {self.get_predkosc()}'\n",
    "    \n",
    "    def czy_szybsza(self, other):\n",
    "        predkosc_self = self.get_predkosc()\n",
    "        predkosc_other = other.get_predkosc()\n",
    "        return predkosc_self > predkosc_other"
   ]
  },
  {
   "cell_type": "code",
   "execution_count": 141,
   "metadata": {},
   "outputs": [
    {
     "data": {
      "text/plain": [
       "Myśliwiec CloakShape na pozycji (0, 0) o predkosci 6"
      ]
     },
     "execution_count": 141,
     "metadata": {},
     "output_type": "execute_result"
    }
   ],
   "source": [
    "m1 = Mysliwiec_CloakShape()\n",
    "m1"
   ]
  },
  {
   "cell_type": "code",
   "execution_count": 142,
   "metadata": {},
   "outputs": [
    {
     "data": {
      "text/plain": [
       "Myśliwiec CloakShape na pozycji (0, 0) o predkosci 100"
      ]
     },
     "execution_count": 142,
     "metadata": {},
     "output_type": "execute_result"
    }
   ],
   "source": [
    "m2 = Mysliwiec_CloakShape(predkosc=100)\n",
    "m2"
   ]
  },
  {
   "cell_type": "code",
   "execution_count": 143,
   "metadata": {},
   "outputs": [
    {
     "data": {
      "text/plain": [
       "False"
      ]
     },
     "execution_count": 143,
     "metadata": {},
     "output_type": "execute_result"
    }
   ],
   "source": [
    "m1.czy_szybsza(m2)"
   ]
  },
  {
   "cell_type": "code",
   "execution_count": 144,
   "metadata": {},
   "outputs": [
    {
     "data": {
      "text/plain": [
       "False"
      ]
     },
     "execution_count": 144,
     "metadata": {},
     "output_type": "execute_result"
    }
   ],
   "source": [
    "m1.czy_mocniejsza(m2)"
   ]
  },
  {
   "cell_type": "code",
   "execution_count": 145,
   "metadata": {},
   "outputs": [
    {
     "data": {
      "text/plain": [
       "1"
      ]
     },
     "execution_count": 145,
     "metadata": {},
     "output_type": "execute_result"
    }
   ],
   "source": [
    "m1.moc"
   ]
  },
  {
   "cell_type": "code",
   "execution_count": null,
   "metadata": {},
   "outputs": [],
   "source": []
  },
  {
   "cell_type": "code",
   "execution_count": null,
   "metadata": {},
   "outputs": [],
   "source": []
  },
  {
   "cell_type": "code",
   "execution_count": null,
   "metadata": {},
   "outputs": [],
   "source": []
  },
  {
   "cell_type": "code",
   "execution_count": null,
   "metadata": {},
   "outputs": [],
   "source": []
  },
  {
   "cell_type": "markdown",
   "metadata": {},
   "source": [
    "### Ćwiczenie 3\n",
    "Budujemy hierarchię klas. \n",
    "\n",
    "#### Ćwiczenie 3.1\n",
    "Zbuduj klasę `Czworobok`\n",
    "* 4 boki (set/get)\n",
    "* `obwod`\n",
    "* `pole` -> metoda abstrakcyjna\n",
    "* `jest_wiekszy` w oparciu o obwód (da się obliczyć)\n",
    "* lub `__gt__` jeżeli wprowadziliśmy"
   ]
  },
  {
   "cell_type": "code",
   "execution_count": 176,
   "metadata": {},
   "outputs": [],
   "source": [
    "class Czworobok:\n",
    "    '''Klasa Czworobok'''\n",
    "    def __init__(self, a, b, c, d):\n",
    "        self.set_a(a)\n",
    "        self.set_b(b)\n",
    "        self.set_c(c)\n",
    "        self.set_d(d)\n",
    "        \n",
    "    def sprawdz_bok(bok):\n",
    "        assert isinstance(bok, (int, float))\n",
    "        assert bok > 0\n",
    "    \n",
    "    def get_a(self):\n",
    "        return self.a\n",
    "    \n",
    "    def set_a(self, bok):\n",
    "        __class__.sprawdz_bok(bok)\n",
    "        self.a = bok\n",
    "        \n",
    "    def get_b(self):\n",
    "        return self.b\n",
    "    \n",
    "    def set_b(self, bok):\n",
    "        __class__.sprawdz_bok(bok)\n",
    "        self.b = bok\n",
    "        \n",
    "    def get_c(self):\n",
    "        return self.c\n",
    "    \n",
    "    def set_c(self, bok):\n",
    "        __class__.sprawdz_bok(bok)\n",
    "        self.c = bok\n",
    "        \n",
    "    def get_d(self):\n",
    "        return self.d\n",
    "    \n",
    "    def set_d(self, bok):\n",
    "        __class__.sprawdz_bok(bok)\n",
    "        self.d = bok\n",
    "        \n",
    "    def obwod(self):\n",
    "        return self.get_a() + self.get_b() + self.get_c() + self.get_d()\n",
    "    \n",
    "    def pole(self):\n",
    "        raise NotImplementedError('Pole nie zaimplementowane')  # lub pass\n",
    "        \n",
    "    def czy_wiekszy(self, other):\n",
    "        return self.obwod() > other.obwod()\n",
    "    \n",
    "    def __gt__(self, other):\n",
    "        return self.obwod() > other.obwod()\n",
    "    \n",
    "    def __eq__(self, other):\n",
    "        return self.obwod() == other.obwod()\n",
    "    \n",
    "    def __str__(self):\n",
    "        return f'Czworobok o obwodzie {self.obwod()}'\n",
    "    \n",
    "    def __repr__(self):\n",
    "        return str(self)"
   ]
  },
  {
   "cell_type": "code",
   "execution_count": 177,
   "metadata": {},
   "outputs": [],
   "source": [
    "c1 = Czworobok(1, 2, 2, 1)\n",
    "c2 = Czworobok(1, 2, 2, 2)"
   ]
  },
  {
   "cell_type": "code",
   "execution_count": 178,
   "metadata": {},
   "outputs": [
    {
     "data": {
      "text/plain": [
       "False"
      ]
     },
     "execution_count": 178,
     "metadata": {},
     "output_type": "execute_result"
    }
   ],
   "source": [
    "c1.czy_wiekszy(c2)"
   ]
  },
  {
   "cell_type": "code",
   "execution_count": 179,
   "metadata": {},
   "outputs": [
    {
     "data": {
      "text/plain": [
       "False"
      ]
     },
     "execution_count": 179,
     "metadata": {},
     "output_type": "execute_result"
    }
   ],
   "source": [
    "c1 > c2"
   ]
  },
  {
   "cell_type": "code",
   "execution_count": 180,
   "metadata": {},
   "outputs": [
    {
     "data": {
      "text/plain": [
       "True"
      ]
     },
     "execution_count": 180,
     "metadata": {},
     "output_type": "execute_result"
    }
   ],
   "source": [
    "c2 > c1"
   ]
  },
  {
   "cell_type": "code",
   "execution_count": 181,
   "metadata": {},
   "outputs": [
    {
     "data": {
      "text/plain": [
       "False"
      ]
     },
     "execution_count": 181,
     "metadata": {},
     "output_type": "execute_result"
    }
   ],
   "source": [
    "c1 == c2"
   ]
  },
  {
   "cell_type": "code",
   "execution_count": null,
   "metadata": {},
   "outputs": [],
   "source": []
  },
  {
   "cell_type": "code",
   "execution_count": null,
   "metadata": {},
   "outputs": [],
   "source": []
  },
  {
   "cell_type": "markdown",
   "metadata": {},
   "source": [
    "## Prostokąt\n",
    "\n",
    "\n",
    "Czworobok(a, b, a, b);"
   ]
  },
  {
   "cell_type": "code",
   "execution_count": 198,
   "metadata": {},
   "outputs": [],
   "source": [
    "class Prostokat(Czworobok):\n",
    "    \n",
    "    def __init__(self, a, b):\n",
    "        Czworobok.__init__(self, a, b, a, b)  # prostokat\n",
    "        \n",
    "    def pole(self):\n",
    "        return self.get_a() * self.get_b()\n",
    "        \n",
    "    def __str__(self):\n",
    "        return f'{self.__class__.__name__} o obwodzie {self.obwod()} i polu {self.pole()}'\n",
    "        # return f'Prostokat o obwodzie {self.obwod()} i polu {self.pole()}'"
   ]
  },
  {
   "cell_type": "code",
   "execution_count": 199,
   "metadata": {},
   "outputs": [
    {
     "data": {
      "text/plain": [
       "Prostokat o obwodzie 6 i polu 2"
      ]
     },
     "execution_count": 199,
     "metadata": {},
     "output_type": "execute_result"
    }
   ],
   "source": [
    "p = Prostokat(1, 2)\n",
    "p"
   ]
  },
  {
   "cell_type": "markdown",
   "metadata": {},
   "source": [
    "### Kwadrat\n",
    "\n",
    "Prostokat(a, a)"
   ]
  },
  {
   "cell_type": "code",
   "execution_count": 200,
   "metadata": {},
   "outputs": [],
   "source": [
    "class Kwadrat(Prostokat):\n",
    "    def __init__(self, a):\n",
    "        Prostokat.__init__(self, a, a)  # kwadrat"
   ]
  },
  {
   "cell_type": "code",
   "execution_count": 201,
   "metadata": {},
   "outputs": [
    {
     "data": {
      "text/plain": [
       "Kwadrat o obwodzie 16 i polu 16"
      ]
     },
     "execution_count": 201,
     "metadata": {},
     "output_type": "execute_result"
    }
   ],
   "source": [
    "k = Kwadrat(4)\n",
    "k"
   ]
  },
  {
   "cell_type": "code",
   "execution_count": null,
   "metadata": {},
   "outputs": [],
   "source": []
  },
  {
   "cell_type": "code",
   "execution_count": null,
   "metadata": {},
   "outputs": [],
   "source": []
  }
 ],
 "metadata": {
  "kernelspec": {
   "display_name": "Python 3",
   "language": "python",
   "name": "python3"
  },
  "language_info": {
   "codemirror_mode": {
    "name": "ipython",
    "version": 3
   },
   "file_extension": ".py",
   "mimetype": "text/x-python",
   "name": "python",
   "nbconvert_exporter": "python",
   "pygments_lexer": "ipython3",
   "version": "3.7.3"
  }
 },
 "nbformat": 4,
 "nbformat_minor": 2
}
