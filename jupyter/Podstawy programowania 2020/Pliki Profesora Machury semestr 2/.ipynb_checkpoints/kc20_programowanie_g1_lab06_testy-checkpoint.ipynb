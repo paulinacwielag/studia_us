{
 "cells": [
  {
   "cell_type": "markdown",
   "metadata": {
    "id": "ncP6yE52NWe8"
   },
   "source": [
    "# Programowanie, lab 6, testy\n",
    "\n",
    "start: 13:50\n",
    "\n",
    " \n",
    "\n",
    "### Ćwiczenie 0 - powtórka laby 4 i 5\n",
    "1. Zbuduj jednostkowe testy **funkcjonalne** aby sprawdzić, czy poniższa funkcja działa poprawnie.\n",
    "2. Zbuduj jednostkowe testy **strukturalne** aby sprawdzić, czy poniższa funkcja działa poprawnie."
   ]
  },
  {
   "cell_type": "code",
   "execution_count": null,
   "metadata": {
    "id": "lkDCyABPNWfD"
   },
   "outputs": [],
   "source": [
    "def signum(y):  #7\n",
    "    '''\n",
    "    Funkcja zwraca znak liczby y\n",
    "    '''\n",
    "    if y < 0:\n",
    "        return -1\n",
    "    else:\n",
    "        return 1"
   ]
  },
  {
   "cell_type": "code",
   "execution_count": null,
   "metadata": {
    "id": "1RUI3FguNWfE",
    "outputId": "469d4d0f-5be8-4fe7-b4f1-2719c5a0cf39"
   },
   "outputs": [
    {
     "name": "stdout",
     "output_type": "stream",
     "text": [
      "y >= 0 True\n",
      "y < 0 True\n"
     ]
    }
   ],
   "source": [
    "# testy strukturalne {2, -2}\n",
    "def test_suite_signum_s():\n",
    "    # 1 sciezka y >= 0\n",
    "    print('y >= 0', signum(2) == 1)\n",
    "    # 2 sciezka y < 0\n",
    "    print('y < 0', signum(-2) == -1)\n",
    "    \n",
    "    \n",
    "test_suite_signum_s()"
   ]
  },
  {
   "cell_type": "code",
   "execution_count": null,
   "metadata": {
    "id": "l1qzW2eJNWfF"
   },
   "outputs": [],
   "source": [
    "# testy funkcjonalne\n",
    "# def signum(y):\n",
    "#     '''\n",
    "#     Funkcja zwraca znak liczby y\n",
    "#     '''"
   ]
  },
  {
   "cell_type": "code",
   "execution_count": null,
   "metadata": {
    "id": "QydTiWR1NWfF",
    "outputId": "0b5b5bf5-cd55-4b97-ad49-7f9b3f5ee442"
   },
   "outputs": [
    {
     "data": {
      "text/plain": [
       "'Testy: 14, błędy: 0'"
      ]
     },
     "execution_count": 27,
     "metadata": {
      "tags": []
     },
     "output_type": "execute_result"
    }
   ],
   "source": [
    "def test_suite_signum_f():\n",
    "    dane_testowe = ([\n",
    "        # int\n",
    "        (999999999999999999, 1),\n",
    "        (3, 1),\n",
    "        (0, 1),\n",
    "        (-9, -1),\n",
    "        (-999999999999999999, -1),\n",
    "        \n",
    "        # float\n",
    "        (1e64, 1),\n",
    "        (3.637, 1),\n",
    "        (0.67, 1),\n",
    "        (1e-64, 1),\n",
    "        (0.0, 1),\n",
    "        (-1e-64, -1),\n",
    "        (-0.98, -1),\n",
    "        (-3.637, -1),\n",
    "        (-1e64, -1),\n",
    "    ])\n",
    "    bledy = 0\n",
    "    for val_1, odpowiedz in dane_testowe:\n",
    "        test = signum(val_1)\n",
    "        if test != odpowiedz:\n",
    "            print(f'signum({val_1}): {test} != {odpowiedz}')\n",
    "            bledy += 1\n",
    "            \n",
    "    return f'Testy: {len(dane_testowe)}, błędy: {bledy}'\n",
    "\n",
    "test_suite_signum_f()"
   ]
  },
  {
   "cell_type": "code",
   "execution_count": null,
   "metadata": {
    "id": "ZEtC-g7TNWfG"
   },
   "outputs": [],
   "source": [
    ""
   ]
  },
  {
   "cell_type": "markdown",
   "metadata": {
    "id": "GtAR3huYNWfG"
   },
   "source": [
    "### Ćwiczenie 1 Theta Heavisidea\n",
    "Napisz funkcję, która zwraca 0 jeżeli liczba jest ujemna, 1/2 jeżeli jest równa 0 oraz 1 jeżeli jest większa od zera. \n",
    "1. Zbuduj jednostkowe testy **funkcjonalne** aby sprawdzić, czy poniższa funkcja działa poprawnie.\n",
    "2. Zbuduj jednostkowe testy **strukturalne** aby sprawdzić, czy poniższa funkcja działa poprawnie."
   ]
  },
  {
   "cell_type": "code",
   "execution_count": null,
   "metadata": {
    "id": "Q2Sf5qPDNWfG",
    "outputId": "8b78a8ac-5052-4003-fa3b-c56055fb6dd0"
   },
   "outputs": [
    {
     "data": {
      "text/plain": [
       "float"
      ]
     },
     "execution_count": 19,
     "metadata": {
      "tags": []
     },
     "output_type": "execute_result"
    }
   ],
   "source": [
    "type(1e64)"
   ]
  },
  {
   "cell_type": "code",
   "execution_count": null,
   "metadata": {
    "id": "H_1EgkfINWfH"
   },
   "outputs": [],
   "source": [
    ""
   ]
  },
  {
   "cell_type": "code",
   "execution_count": null,
   "metadata": {
    "id": "YBtvHaKPNWfH"
   },
   "outputs": [],
   "source": [
    "# testy strukturalne {2, -2}\n",
    "def test_suite_signum_s_asercje():\n",
    "    assert signum(2) == 1, 'problem dla y=2'\n",
    "    assert signum(-2) == -1, 'problem dla y=-2'\n",
    "    \n",
    "    \n",
    "test_suite_signum_s_asercje()"
   ]
  },
  {
   "cell_type": "markdown",
   "metadata": {
    "id": "Pz_a6rbTNWfH"
   },
   "source": [
    "### Ćwiczenie 2\n",
    "Zaprojektuj podaną funkcję logiczną oraz funkcję testującą *obie* ścieżki w programie. Użyj asercji.\n",
    "\n",
    "1. `jest_ciagiem_znakow(a)`\n",
    "* `ma_zero(lista)`\n",
    "* `jest_krotka(k)`\n",
    "* `jest_podzielna_przez_5(y)`\n",
    "* `roznica_zero(u, v)`\n",
    "* `suma_dodatnia(m, n)`\n",
    "* `suma_ujemna(r, p)`\n",
    "* `jest_jednoelementowa(lista)`\n",
    "* `rowne(u, v)`\n",
    "* `jest_dodatnia(z)`\n",
    "\n",
    "\n",
    "* Bartosz 1, 2\n",
    "* Igor 3, 4\n",
    "* Marcin 5, 6\n",
    "* Paulina 7, 8\n",
    "* Taisja 9, 10"
   ]
  },
  {
   "cell_type": "code",
   "execution_count": null,
   "metadata": {
    "id": "6tK57VMwNWfI"
   },
   "outputs": [],
   "source": [
    "def ma_zero(lista):\n",
    "    '''\n",
    "    Funkcja sprawdza, czy lista podana w argumencie zawiera w sobie zero typu int lub float, tj. 0 lub 0.0\n",
    "    >>> ma_zero([2, 1, 1.09])\n",
    "    False\n",
    "    >>> ma_zero([0, 1, 3])\n",
    "    True\n",
    "    >>> ma_zero(['0', 1, 'abcd'])\n",
    "    False\n",
    "    '''\n",
    "    return 0 in lista"
   ]
  },
  {
   "cell_type": "code",
   "execution_count": null,
   "metadata": {
    "id": "851WrPYkNWfI",
    "outputId": "cf0ef252-2fe5-462b-d889-8634d3d56b7e"
   },
   "outputs": [
    {
     "data": {
      "text/plain": [
       "TestResults(failed=0, attempted=3)"
      ]
     },
     "execution_count": 41,
     "metadata": {
      "tags": []
     },
     "output_type": "execute_result"
    }
   ],
   "source": [
    "import doctest\n",
    "doctest.testmod()  # verbose=True)"
   ]
  },
  {
   "cell_type": "code",
   "execution_count": null,
   "metadata": {
    "id": "mpUvjgi4NWfI"
   },
   "outputs": [],
   "source": [
    "def rowne(u, v):\n",
    "    '''\n",
    "    Funkcja zwraca True jeżeli podane liczby są sobie równe oraz False jeśli nie są.\n",
    "    '''\n",
    "    #return u == v\n",
    "    \n",
    "    if u == v:\n",
    "        return True\n",
    "    else:\n",
    "        return False"
   ]
  },
  {
   "cell_type": "code",
   "execution_count": null,
   "metadata": {
    "id": "rCFhN-hBNWfI",
    "outputId": "1868c6e7-d444-4933-dafd-804ff29f0fbe"
   },
   "outputs": [
    {
     "data": {
      "text/plain": [
       "False"
      ]
     },
     "execution_count": 44,
     "metadata": {
      "tags": []
     },
     "output_type": "execute_result"
    }
   ],
   "source": [
    "10 == 11"
   ]
  },
  {
   "cell_type": "code",
   "execution_count": null,
   "metadata": {
    "id": "s3XrvR-_NWfJ"
   },
   "outputs": [],
   "source": [
    ""
   ]
  },
  {
   "cell_type": "code",
   "execution_count": null,
   "metadata": {
    "id": "6sXFsHM-NWfJ"
   },
   "outputs": [],
   "source": [
    "# for el in L:\n",
    "#     1"
   ]
  },
  {
   "cell_type": "code",
   "execution_count": null,
   "metadata": {
    "id": "kYN4vX9oNWfJ"
   },
   "outputs": [],
   "source": [
    "def ocena_koncowa(lista_ocen):\n",
    "    srednia = sum(lista_ocen) / len(lista_ocen)\n",
    "    if srednia < 3:\n",
    "        return 'ndst'\n",
    "    elif srednia < 3.5:\n",
    "        return 'dst'\n",
    "    elif srednia < 4:\n",
    "        return 'dst+'\n",
    "    elif srednia < 4.5:\n",
    "        return 'db'\n",
    "    elif srednia < 5:\n",
    "        return 'db+'\n",
    "    else:\n",
    "        return 'bdb'"
   ]
  },
  {
   "cell_type": "markdown",
   "metadata": {
    "id": "3BGJwy6-NWfJ"
   },
   "source": [
    "### Ćwiczenie 4\n",
    "Napisz testy strukturalne do funkcji `ocena_koncowa` - każda ścieżka rozgałęzienia musi zostać odwiedzona raz."
   ]
  },
  {
   "cell_type": "code",
   "execution_count": null,
   "metadata": {
    "id": "GJedEWzYNWfK",
    "outputId": "6d4130e9-0d07-48ec-8fa4-a6c2a4d09cd7"
   },
   "outputs": [
    {
     "name": "stdout",
     "output_type": "stream",
     "text": [
      "[2] -> ndst: True\n",
      "[3] -> dst: True\n",
      "[3.8] -> dst+: True\n",
      "[4.13] -> db: True\n",
      "[4.5] -> db+: True\n",
      "[5] -> bdb: True\n"
     ]
    }
   ],
   "source": [
    "def test_ocena_koncowa():\n",
    "    for lista, odp in (([2], 'ndst'), ([3], 'dst'), \n",
    "                       ([3.8], 'dst+'), ([4.13], 'db'), \n",
    "                       ([4.5], 'db+'), ([5], 'bdb')):\n",
    "        print(f'{lista} -> {odp}: {ocena_koncowa(lista) == odp}')\n",
    "        \n",
    "test_ocena_koncowa()"
   ]
  },
  {
   "cell_type": "code",
   "execution_count": null,
   "metadata": {
    "id": "FGsIOYIwNWfK"
   },
   "outputs": [],
   "source": [
    ""
   ]
  },
  {
   "cell_type": "markdown",
   "metadata": {
    "id": "mzoMig1LNWfK"
   },
   "source": [
    "* dla każdej pętli `for`\n",
    "    * test bez wejścia do pętli \n",
    "    * test z tylko 1 obrotem pętli\n",
    "    * test z kilkoma obrotami pętli\n",
    "* dla każdej pętli `while`\n",
    "    * zacząć od trzech przypadków takich jak dla `for`\n",
    "    * jeżeli warunek jest złożony, przetestować każdą możliwość"
   ]
  },
  {
   "cell_type": "code",
   "execution_count": null,
   "metadata": {
    "id": "mUdVogxWNWfK"
   },
   "outputs": [],
   "source": [
    ""
   ]
  },
  {
   "cell_type": "markdown",
   "metadata": {
    "id": "TpiiiLqZNWfK"
   },
   "source": [
    "### Ćwiczenie 5\n",
    "Zaprogramuj funkcje z użyciem pętli `for` lub `while`, nie używaj wbudowanych funkcji typu `sum`, `obj.count(o)`... Napisz do nich jak najlepsze testy strukturalne. Nazwy powinny wystarczyć za specyfikację.\n",
    "\n",
    "1. `ilosc_zer_binarnych(lista_liczb)` - zwraca ilość wszystkich zer w reprezentacjach binarnych liczb z listy\n",
    "* `ilosc_jedynek_binarnych(lista_liczb)` - zwraca ilość wszystkich jedynek w reprezentacjach binarnych liczb z listy\n",
    "* `suma_liczb_ujemnych(lista_liczb)`\n",
    "* `suma_liczb_dodatnich(lista_liczb)`\n",
    "* `ilosc_zer_w_liscie(lista_liczb)`\n",
    "\n",
    "\n",
    "* Bartosz 1\n",
    "* Igor 2\n",
    "* Marcin 3\n",
    "* Paulina 4\n",
    "* Taisja 5"
   ]
  },
  {
   "cell_type": "code",
   "execution_count": null,
   "metadata": {
    "id": "5ilcb7ogNWfL"
   },
   "outputs": [],
   "source": [
    "def ilosc_zer_binarnych(num):\n",
    "    '''\n",
    "    >>> ilosc_zer_binarnych(1)\n",
    "    0\n",
    "    >>> ilosc_zer_binarnych(4)\n",
    "    2\n",
    "    >>> ilosc_zer_binarnych(0)\n",
    "    1\n",
    "    >>> pi=3.14; ilosc_zer_binarnych(int(pi))\n",
    "    0\n",
    "    '''\n",
    "    \n",
    "    ilosc_zer = 0\n",
    "    \n",
    "    assert type(num) == int, 'Podaj liczbę typu int!'\n",
    "    \n",
    "    for el in bin(num)[2:]:\n",
    "        if el == '0':\n",
    "            ilosc_zer += 1\n",
    "    \n",
    "    return ilosc_zer"
   ]
  },
  {
   "cell_type": "code",
   "execution_count": null,
   "metadata": {
    "id": "8TtZz_TwNWfL",
    "outputId": "4066c479-b4d3-4694-bd23-5fe45882bda5"
   },
   "outputs": [
    {
     "data": {
      "text/plain": [
       "TestResults(failed=0, attempted=7)"
      ]
     },
     "execution_count": 55,
     "metadata": {
      "tags": []
     },
     "output_type": "execute_result"
    }
   ],
   "source": [
    "doctest.testmod()"
   ]
  },
  {
   "cell_type": "code",
   "execution_count": null,
   "metadata": {
    "id": "BM9636jANWfL",
    "outputId": "c32dbbd7-2e3a-420b-8703-c51ec58cd523"
   },
   "outputs": [
    {
     "data": {
      "text/plain": [
       "TestResults(failed=0, attempted=15)"
      ]
     },
     "execution_count": 56,
     "metadata": {
      "tags": []
     },
     "output_type": "execute_result"
    }
   ],
   "source": [
    "def suma_liczb_dodatnich(lista_liczb):\n",
    "    '''Funkcja sumuje liczby dodatnie z podanej listy.\n",
    "    \n",
    "    >>> suma_liczb_dodatnich([])\n",
    "    0\n",
    "    >>> suma_liczb_dodatnich([4])\n",
    "    4\n",
    "    >>> suma_liczb_dodatnich([-8])\n",
    "    0\n",
    "    >>> suma_liczb_dodatnich([-6, 2])\n",
    "    2\n",
    "    >>> suma_liczb_dodatnich([-6, -2])\n",
    "    0\n",
    "    >>> suma_liczb_dodatnich(range(10))\n",
    "    45\n",
    "    >>> suma_liczb_dodatnich([-0.96, -2, 3])\n",
    "    3\n",
    "    >>> suma_liczb_dodatnich([450, 0, -3, 8])\n",
    "    458\n",
    "    '''\n",
    "    suma = 0\n",
    "    for element in lista_liczb:\n",
    "        if element > 0:\n",
    "            suma += element\n",
    "        else:\n",
    "            pass\n",
    "    return suma\n",
    "    \n",
    "import doctest\n",
    "doctest.testmod()"
   ]
  },
  {
   "cell_type": "code",
   "execution_count": null,
   "metadata": {
    "id": "lZzTpn58NWfM",
    "outputId": "2304a5f9-7197-4384-c45f-3d32c425c479"
   },
   "outputs": [
    {
     "data": {
      "text/plain": [
       "TestResults(failed=0, attempted=23)"
      ]
     },
     "execution_count": 63,
     "metadata": {
      "tags": []
     },
     "output_type": "execute_result"
    }
   ],
   "source": [
    "def ilosc_zer_w_liscie(lista_liczb):\n",
    "    '''\n",
    "    Funkcja sprawdza ilość zer w liście.\n",
    "    >>> ilosc_zer_w_liscie([])\n",
    "    0\n",
    "    >>> ilosc_zer_w_liscie([1])\n",
    "    0\n",
    "    >>> ilosc_zer_w_liscie([0])\n",
    "    1\n",
    "    >>> ilosc_zer_w_liscie([5, 3, 2])\n",
    "    0\n",
    "    >>> ilosc_zer_w_liscie([0, 1, 3])\n",
    "    1\n",
    "    >>> ilosc_zer_w_liscie([0, 0, 1, 9])\n",
    "    2\n",
    "    >>> ilosc_zer_w_liscie([0, 0, 7, 0, 2, 0, 0])\n",
    "    5\n",
    "    >>> ilosc_zer_w_liscie([0.0, 0, 1, 5.5, 1, 0.0])\n",
    "    3\n",
    "    '''\n",
    "    zera = 0\n",
    "    \n",
    "    for el in lista_liczb:\n",
    "        if el == 0:\n",
    "            zera += 1\n",
    "    return zera\n",
    "\n",
    "doctest.testmod()"
   ]
  },
  {
   "cell_type": "code",
   "execution_count": null,
   "metadata": {
    "id": "CSgygugeNWfM"
   },
   "outputs": [],
   "source": [
    ""
   ]
  }
 ],
 "metadata": {
  "colab": {
   "name": "kc20_programowanie_g1_lab06.ipynb",
   "provenance": []
  },
  "kernelspec": {
   "display_name": "Python 3",
   "language": "python",
   "name": "python3"
  },
  "language_info": {
   "codemirror_mode": {
    "name": "ipython",
    "version": 3
   },
   "file_extension": ".py",
   "mimetype": "text/x-python",
   "name": "python",
   "nbconvert_exporter": "python",
   "pygments_lexer": "ipython3",
   "version": "3.7.3"
  }
 },
 "nbformat": 4,
 "nbformat_minor": 0
}
