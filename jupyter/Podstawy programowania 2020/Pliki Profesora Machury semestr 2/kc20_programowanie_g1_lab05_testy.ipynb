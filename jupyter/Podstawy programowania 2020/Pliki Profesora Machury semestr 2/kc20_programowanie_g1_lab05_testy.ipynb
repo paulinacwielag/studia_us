{
 "cells": [
  {
   "cell_type": "markdown",
   "metadata": {},
   "source": [
    "# Programowanie, lab 5, testy\n",
    "\n",
    "start: 13:50\n",
    "\n",
    " \n",
    "\n",
    "### Ćwiczenie 0 - powtórka lab 4\n",
    "1. Zaprogramuj funkcję `wszystkie_parzyste(L)`, która sprawdza, czy wszystkie elementy listy `L` są parzyste. Jeżeli są zwraca `True`, jeżeli nie zwraca `False`. \n",
    "2. Zbuduj odpowiedni zestaw testów jednostkowych (`test_wszystkie_parzyste(L)`) i przetestuj powyższą funkcję."
   ]
  },
  {
   "cell_type": "code",
   "execution_count": null,
   "metadata": {},
   "outputs": [],
   "source": []
  },
  {
   "cell_type": "markdown",
   "metadata": {},
   "source": [
    "Kurtoza\n",
    "$${Kurt} = \\frac{\\mu_4}{\\sigma^4} - 3$$\n",
    "\n",
    "4 moment\n",
    "$$\\mu_4 = \\frac{1}{n} \\sum_{i=0}^{n-1} (x_i - m)^4$$"
   ]
  },
  {
   "cell_type": "code",
   "execution_count": 5,
   "metadata": {},
   "outputs": [],
   "source": [
    "## czwartu moment centralny\n",
    "def srednia(L):\n",
    "    s = 0\n",
    "    for el in L:\n",
    "        s += el\n",
    "    return s / len(L)\n",
    "\n",
    "\n",
    "def std(L):\n",
    "    m = srednia(L)\n",
    "    s = 0\n",
    "    for el in L:\n",
    "        s += el ** 2\n",
    "    return s / len(L) - m**2\n",
    "\n",
    "\n",
    "def mu4(L):\n",
    "    m = srednia(L)\n",
    "    s = 0\n",
    "    for el in L:\n",
    "        s += (el - m) ** 4\n",
    "    return s / len(L)\n",
    "\n",
    "\n",
    "def kurtoza(L):\n",
    "    return mu4(L) / std(L) ** 4 - 3"
   ]
  },
  {
   "cell_type": "code",
   "execution_count": 6,
   "metadata": {},
   "outputs": [
    {
     "data": {
      "text/plain": [
       "-2.97390989787684"
      ]
     },
     "execution_count": 6,
     "metadata": {},
     "output_type": "execute_result"
    }
   ],
   "source": [
    "L = list(range(10))\n",
    "kurtoza(L)"
   ]
  },
  {
   "cell_type": "code",
   "execution_count": null,
   "metadata": {},
   "outputs": [],
   "source": []
  },
  {
   "cell_type": "markdown",
   "metadata": {},
   "source": [
    "## testy automatyczne\n",
    "* unittest\n",
    "* doctest"
   ]
  },
  {
   "cell_type": "code",
   "execution_count": 13,
   "metadata": {},
   "outputs": [],
   "source": [
    "import doctest"
   ]
  },
  {
   "cell_type": "code",
   "execution_count": 7,
   "metadata": {},
   "outputs": [],
   "source": [
    "def suma(*liczby):\n",
    "    '''\n",
    "    Funkcja sumuje argumenty, np:\n",
    "    >>> suma(3, 4, 5)\n",
    "    12\n",
    "    '''\n",
    "    return sum(liczby)"
   ]
  },
  {
   "cell_type": "code",
   "execution_count": 8,
   "metadata": {},
   "outputs": [
    {
     "data": {
      "text/plain": [
       "15"
      ]
     },
     "execution_count": 8,
     "metadata": {},
     "output_type": "execute_result"
    }
   ],
   "source": [
    "suma(1, 2, 3, 4, 5)"
   ]
  },
  {
   "cell_type": "code",
   "execution_count": 21,
   "metadata": {},
   "outputs": [],
   "source": [
    "def jest_nie_mniejsza(a, b):\n",
    "    '''\n",
    "    Funkcja sprawdza czy pierwszy argument nie jest mniejszy od drugiego agrumentu\n",
    "\n",
    "    WE\n",
    "        a: INT\n",
    "        b: INT\n",
    "        \n",
    "    WY\n",
    "        True: gdy a jest nie mniejsza od b\n",
    "        False: w przeciwnym przypadku\n",
    "        \n",
    "    Przyklady\n",
    "        >>> jest_nie_mniejsza(12, 10)\n",
    "        True\n",
    "        >>> jest_nie_mniejsza(-1, -2)\n",
    "        True\n",
    "        >>> jest_nie_mniejsza(-2, 1)\n",
    "        False\n",
    "        >>> jest_nie_mniejsza(10, -10)\n",
    "        True\n",
    "        >>> jest_nie_mniejsza(0, 0)\n",
    "        True\n",
    "        >>> jest_nie_mniejsza(0, -10)\n",
    "        True\n",
    "        >>> jest_nie_mniejsza(10, 0)\n",
    "        True\n",
    "    '''\n",
    "    return a >= b"
   ]
  },
  {
   "cell_type": "code",
   "execution_count": 22,
   "metadata": {},
   "outputs": [
    {
     "data": {
      "text/plain": [
       "TestResults(failed=0, attempted=8)"
      ]
     },
     "execution_count": 22,
     "metadata": {},
     "output_type": "execute_result"
    }
   ],
   "source": [
    "doctest.testmod()  #verbose=True)"
   ]
  },
  {
   "cell_type": "code",
   "execution_count": 23,
   "metadata": {},
   "outputs": [
    {
     "data": {
      "text/plain": [
       "True"
      ]
     },
     "execution_count": 23,
     "metadata": {},
     "output_type": "execute_result"
    }
   ],
   "source": [
    "jest_nie_mniejsza(12, 10)"
   ]
  },
  {
   "cell_type": "code",
   "execution_count": 26,
   "metadata": {},
   "outputs": [],
   "source": [
    "# help(doctest.testmod)"
   ]
  },
  {
   "cell_type": "code",
   "execution_count": 27,
   "metadata": {},
   "outputs": [
    {
     "data": {
      "text/plain": [
       "'__main__'"
      ]
     },
     "execution_count": 27,
     "metadata": {},
     "output_type": "execute_result"
    }
   ],
   "source": [
    "__name__"
   ]
  },
  {
   "cell_type": "code",
   "execution_count": 38,
   "metadata": {},
   "outputs": [],
   "source": [
    "def double_x(x):\n",
    "    '''\n",
    "    Funkcja podwajająca wartość x.\n",
    "    >>> double_x(10)\n",
    "    20\n",
    "    >>> double_x(-10)\n",
    "    20\n",
    "    '''\n",
    "    return 2 * abs(x)"
   ]
  },
  {
   "cell_type": "code",
   "execution_count": 39,
   "metadata": {},
   "outputs": [
    {
     "data": {
      "text/plain": [
       "TestResults(failed=0, attempted=28)"
      ]
     },
     "execution_count": 39,
     "metadata": {},
     "output_type": "execute_result"
    }
   ],
   "source": [
    "import doctest\n",
    "doctest.testmod()"
   ]
  },
  {
   "cell_type": "markdown",
   "metadata": {},
   "source": [
    "### Ćwiczenie 1\n",
    "Dodaj ułożony przez Ciebie zestaw testów do swojej funkcji z ćwiczenia 3 do `docstring`-u. Nastepnie przetestuj go za pomocą funkcji `testmode` z modułu `doctest`."
   ]
  },
  {
   "cell_type": "code",
   "execution_count": 41,
   "metadata": {},
   "outputs": [],
   "source": [
    "# Paulina Cwielag15:12\n",
    "def jest_rowna_zero(z):\n",
    "    '''Funkcja sprawdza, czy podana liczba jest równa zero.\n",
    "    \n",
    "    >>> jest_rowna_zero(3)\n",
    "    False\n",
    "    >>> jest_rowna_zero(0)\n",
    "    True\n",
    "    >>> jest_rowna_zero(1)\n",
    "    False\n",
    "    >>> jest_rowna_zero(0.67)\n",
    "    False\n",
    "    >>> jest_rowna_zero(-11)\n",
    "    False\n",
    "    '''\n",
    "    if  z == 0:\n",
    "        return True\n",
    "    else:\n",
    "        return False\n",
    "    \n",
    "\n",
    "# Igor Juraszek15:12\n",
    "def jest_parzysta(x):\n",
    "    '''Funkcja zwraca true, gdy podana liczba jest parzysta\n",
    "    WE:\n",
    "        x(int)\n",
    "    WY:\n",
    "        True: jeśli podana liczba jest parzysta\n",
    "        False: jeśli podana liczba jest nieparzysta\n",
    "    PRZYKŁADY:\n",
    "        >>> jest_parzysta(1)\n",
    "        False\n",
    "        >>> jest_parzysta(2)\n",
    "        True\n",
    "        >>> jest_parzysta(3)\n",
    "        False\n",
    "        >>> jest_parzysta(11)\n",
    "        False\n",
    "        >>> jest_parzysta(0)\n",
    "        True\n",
    "    '''\n",
    "    return not bool(x % 2)\n",
    "\n",
    "\n",
    "# Taisja Konowalow15:16\n",
    "def jest_rowna_zero(z):\n",
    "    '''\n",
    "    Funkcja sprawdza, czy podana liczba jest równa zero, jeżeli tak, zwraca True, jeżeli nie, zwraca False.\n",
    "    >>> jest_rowna_zero(0)\n",
    "    True\n",
    "    >>> jest_rowna_zero(1)\n",
    "    False\n",
    "    >>> jest_rowna_zero(8)\n",
    "    False\n",
    "    '''\n",
    "    if  z == 0:\n",
    "        return True\n",
    "    else:\n",
    "        return False\n",
    "\n",
    "\n",
    "# Marcin Jargilo15:16\n",
    "def jest_lista(w):\n",
    "    '''\n",
    "    funkcja sprawdza czy W jest lista\n",
    "    WEJ: W(list)\n",
    "    WYJ: True - gdy jest lista; False - gdy nie jest\n",
    "    \n",
    "    >>> jest_lista(0)\n",
    "    False\n",
    "    >>> jest_lista([1, 2])\n",
    "    True\n",
    "    >>> jest_lista([])\n",
    "    True\n",
    "    >>> x = 1; jest_lista(x)\n",
    "    False\n",
    "    '''\n",
    "    if type(w) == list:\n",
    "        return True\n",
    "    else:\n",
    "        return False\n",
    "    \n",
    "    \n",
    "# Marek Lisowski15:17\n",
    "def jest_nieparzysta(y):\n",
    "    '''\n",
    "    funkcja zwraca True gdy podana liczba jest nieparzysta lub False gdy podana liczba jest parzysta\n",
    "    \n",
    "    Przykłady:\n",
    "    >>> jest_nieparzysta(1)\n",
    "    True\n",
    "    >>> jest_nieparzysta(2)\n",
    "    False\n",
    "    >>> jest_nieparzysta(12)\n",
    "    False\n",
    "    >>> jest_nieparzysta(-21)\n",
    "    True\n",
    "    >>> jest_nieparzysta(0)\n",
    "    False\n",
    "    >>> jest_nieparzysta(123.33)\n",
    "    True\n",
    "    '''\n",
    "    if y % 2:\n",
    "        return True\n",
    "    else:\n",
    "        return False\n",
    "    \n",
    "    \n",
    "def jest_wieksza(a, b):\n",
    "    '''\n",
    "    Sprawdza, czy argument pierwszy jest większy od argumentu drugiego\n",
    "    WEJ: a(int, float), b(int, float)\n",
    "    WYJ: True - gdy a jest większe od b; False - gdy a jest mniejsze od b\n",
    "    >>> jest_wieksza(0, 0)\n",
    "    False\n",
    "    >>> jest_wieksza(2, 1)\n",
    "    True\n",
    "    >>> jest_wieksza(2.0, 1)\n",
    "    True\n",
    "    >>> jest_wieksza(-1, -2)\n",
    "    True\n",
    "    '''\n",
    "    return a > b"
   ]
  },
  {
   "cell_type": "code",
   "execution_count": 48,
   "metadata": {},
   "outputs": [
    {
     "data": {
      "text/plain": [
       "TestResults(failed=0, attempted=33)"
      ]
     },
     "execution_count": 48,
     "metadata": {},
     "output_type": "execute_result"
    }
   ],
   "source": [
    "doctest.testmod()"
   ]
  },
  {
   "cell_type": "code",
   "execution_count": 62,
   "metadata": {},
   "outputs": [],
   "source": [
    "def dl(L):\n",
    "    \"\"\"\n",
    "    >>> dl([1, 2, 3])\n",
    "    3\n",
    "    >>> dl(33)\n",
    "    Traceback (most recent call last):\n",
    "      File \"/opt/conda/lib/python3.7/doctest.py\", line 1329, in __run\n",
    "        compileflags, 1), test.globs)\n",
    "      File \"<doctest __main__.dl[1]>\", line 1, in <module>\n",
    "        dl(33)\n",
    "      File \"<ipython-input-52-396b483a8e2c>\", line 18, in dl\n",
    "        return len(L)\n",
    "    TypeError: object of type 'int' has no len()\n",
    "    >>> dl([1, 2, 3, 5])\n",
    "    4\n",
    "    \"\"\"\n",
    "    return len(L)"
   ]
  },
  {
   "cell_type": "code",
   "execution_count": 63,
   "metadata": {},
   "outputs": [
    {
     "data": {
      "text/plain": [
       "TestResults(failed=0, attempted=35)"
      ]
     },
     "execution_count": 63,
     "metadata": {},
     "output_type": "execute_result"
    }
   ],
   "source": [
    "doctest.testmod()"
   ]
  },
  {
   "cell_type": "code",
   "execution_count": 64,
   "metadata": {},
   "outputs": [
    {
     "data": {
      "text/plain": [
       "3"
      ]
     },
     "execution_count": 64,
     "metadata": {},
     "output_type": "execute_result"
    }
   ],
   "source": [
    "dl([1, 2, 3])"
   ]
  },
  {
   "cell_type": "markdown",
   "metadata": {},
   "source": [
    "# testy glass-box (strukturalne)"
   ]
  },
  {
   "cell_type": "code",
   "execution_count": 65,
   "metadata": {},
   "outputs": [],
   "source": [
    "def is_prime(x):\n",
    "    '''\n",
    "    Funkcja sprawdza, czy nieujemna liczba x jest liczbą pierwszą.\n",
    "    '''\n",
    "    if x <= 2:  # 0, 1, 2\n",
    "        return False\n",
    "    \n",
    "    for k in range(2, x // 2):\n",
    "        if x % k == 0:\n",
    "            return False\n",
    "\n",
    "    return True"
   ]
  },
  {
   "cell_type": "markdown",
   "metadata": {},
   "source": [
    "### Ćwiczenie 2\n",
    "Skonstuuj funkcję testującą `is_prime` bazując na testach opartych o specyfikację.\n"
   ]
  },
  {
   "cell_type": "code",
   "execution_count": 120,
   "metadata": {},
   "outputs": [],
   "source": [
    "# Bartosz Kowalik15:38\n",
    "def is_prime(x):\n",
    "    '''\n",
    "    Funkcja sprawdza, czy nieujemna liczba x jest liczbą pierwszą.\n",
    "    >>> is_prime(2)\n",
    "    True\n",
    "    >>> is_prime(3)\n",
    "    True\n",
    "    >>> is_prime(997)\n",
    "    True\n",
    "    >>> is_prime(10)\n",
    "    False\n",
    "    '''\n",
    "    if x <= 2:  # 0, 1, 2\n",
    "        return False\n",
    "    \n",
    "    for k in range(2, x // 2):\n",
    "        if x % k == 0:\n",
    "            return False\n",
    "\n",
    "    return True\n",
    "\n",
    "# Taisja Konowalow15:39\n",
    "def is_prime(x):\n",
    "    '''\n",
    "    Funkcja sprawdza, czy nieujemna liczba x jest liczbą pierwszą.\n",
    "    >>> is_prime(2)\n",
    "    False\n",
    "    >>> is_prime(1)\n",
    "    False\n",
    "    >>> is_prime(4)\n",
    "    True\n",
    "    >>> is_prime(9)\n",
    "    False\n",
    "    >>> is_prime(67)\n",
    "    True\n",
    "    '''\n",
    "    if x <= 2:  # 0, 1, 2\n",
    "        return False\n",
    "    \n",
    "    for k in range(2, x // 2):\n",
    "        if x % k == 0:\n",
    "            return False\n",
    "\n",
    "    return True\n",
    "\n",
    "#Marcin Jargilo15:39\n",
    "def is_prime(x):\n",
    "    '''\n",
    "    Funkcja sprawdza, czy nieujemna liczba x jest liczbą pierwszą.\n",
    "    >>> is_prime(2)\n",
    "    True\n",
    "    >>> is_prime(3)\n",
    "    True\n",
    "    >>> is_prime(10)\n",
    "    False\n",
    "    >>> is_prime(0)\n",
    "    False\n",
    "    '''\n",
    "    if x <= 2:  # 0, 1, 2\n",
    "        return False\n",
    "    \n",
    "    for k in range(2, x // 2):\n",
    "        if x % k == 0:\n",
    "            return False\n",
    "\n",
    "    return True\n",
    "\n",
    "# Igor Juraszek15:39\n",
    "def test_suite_is_prime():\n",
    "    bledy = 0\n",
    "    dane_testowe = ([\n",
    "        (1, not True),\n",
    "        (2, True),\n",
    "        (4, False),\n",
    "        (7, True),\n",
    "        (2137, True),\n",
    "    ])\n",
    "    for val_1, odpowiedz in dane_testowe:\n",
    "        test = is_prime(val_1)\n",
    "        if test != odpowiedz:\n",
    "            print(f'is_prime({val_1}): {test} != {odpowiedz}')\n",
    "            bledy += 1\n",
    "    return f'Testy: {len(dane_testowe)}, błędy: {bledy}'\n",
    "\n",
    "\n",
    "# Marek Lisowski15:39\n",
    "def test_is_prime():\n",
    "    dane_testowe = [\n",
    "        [1, False], [2, True], [3, True]\n",
    "    ]\n",
    "    \n",
    "    \n",
    "    for val, exp in dane_testowe:\n",
    "        assert is_prime(val) == exp, f'{val} res: {is_prime(val)} exp: {exp}'\n",
    "    \n",
    "    return f'Testy: {len(dane_testowe)}'\n",
    "\n",
    "\n",
    "# Paulina Cwielag15:41\n",
    "def is_prime(x):\n",
    "    '''\n",
    "    Funkcja sprawdza, czy nieujemna liczba x jest liczbą pierwszą.\n",
    "    \n",
    "    >>> is_prime(1)\n",
    "    False\n",
    "    >>> is_prime(2)\n",
    "    True\n",
    "    >>> is_prime(15)\n",
    "    False\n",
    "    >>> is_prime(23)\n",
    "    True\n",
    "    >>> is_prime(0)\n",
    "    False\n",
    "    '''\n",
    "    if x < 2:  # 0, 1, 2      !!!if x <= 2:!!!\n",
    "        return False\n",
    "    \n",
    "    for k in range(2, x // 2 + 1):  # int(x / 2)\n",
    "        if x % k == 0:\n",
    "            return False\n",
    "\n",
    "    return True"
   ]
  },
  {
   "cell_type": "code",
   "execution_count": 121,
   "metadata": {},
   "outputs": [
    {
     "data": {
      "text/plain": [
       "'Testy: 5, błędy: 0'"
      ]
     },
     "execution_count": 121,
     "metadata": {},
     "output_type": "execute_result"
    }
   ],
   "source": [
    "test_suite_is_prime()"
   ]
  },
  {
   "cell_type": "code",
   "execution_count": null,
   "metadata": {},
   "outputs": [],
   "source": []
  },
  {
   "cell_type": "code",
   "execution_count": 122,
   "metadata": {},
   "outputs": [
    {
     "data": {
      "text/plain": [
       "TestResults(failed=0, attempted=40)"
      ]
     },
     "execution_count": 122,
     "metadata": {},
     "output_type": "execute_result"
    }
   ],
   "source": [
    "doctest.testmod()"
   ]
  },
  {
   "cell_type": "code",
   "execution_count": 123,
   "metadata": {},
   "outputs": [
    {
     "data": {
      "text/plain": [
       "'Testy: 5, błędy: 0'"
      ]
     },
     "execution_count": 123,
     "metadata": {},
     "output_type": "execute_result"
    }
   ],
   "source": [
    "test_suite_is_prime()"
   ]
  },
  {
   "cell_type": "code",
   "execution_count": 124,
   "metadata": {},
   "outputs": [
    {
     "data": {
      "text/plain": [
       "'Testy: 3'"
      ]
     },
     "execution_count": 124,
     "metadata": {},
     "output_type": "execute_result"
    }
   ],
   "source": [
    "test_is_prime()"
   ]
  },
  {
   "cell_type": "markdown",
   "metadata": {},
   "source": [
    "### Ćwiczenie 3\n",
    "Napraw funkcję `is_prime`. Kto pierwszy ten lepszy..."
   ]
  },
  {
   "cell_type": "code",
   "execution_count": 99,
   "metadata": {},
   "outputs": [
    {
     "data": {
      "text/plain": [
       "5.5"
      ]
     },
     "execution_count": 99,
     "metadata": {},
     "output_type": "execute_result"
    }
   ],
   "source": [
    "11 / 2"
   ]
  },
  {
   "cell_type": "code",
   "execution_count": 79,
   "metadata": {},
   "outputs": [
    {
     "data": {
      "text/plain": [
       "5"
      ]
     },
     "execution_count": 79,
     "metadata": {},
     "output_type": "execute_result"
    }
   ],
   "source": [
    "11 // 2"
   ]
  },
  {
   "cell_type": "code",
   "execution_count": 125,
   "metadata": {},
   "outputs": [],
   "source": [
    "def czy_pierwsza(liczba):\n",
    "    'Funkcja sprawdza czy podana liczba jest liczbą pierwszą'\n",
    "\n",
    "    dzielniki = 0\n",
    "    for dzielnik in range(1, liczba + 1):\n",
    "        if liczba % dzielnik == 0:\n",
    "            dzielniki += 1\n",
    "\n",
    "    if dzielniki == 2:\n",
    "        return True\n",
    "    else:\n",
    "        return False"
   ]
  },
  {
   "cell_type": "code",
   "execution_count": null,
   "metadata": {},
   "outputs": [],
   "source": []
  }
 ],
 "metadata": {
  "kernelspec": {
   "display_name": "Python 3",
   "language": "python",
   "name": "python3"
  },
  "language_info": {
   "codemirror_mode": {
    "name": "ipython",
    "version": 3
   },
   "file_extension": ".py",
   "mimetype": "text/x-python",
   "name": "python",
   "nbconvert_exporter": "python",
   "pygments_lexer": "ipython3",
   "version": "3.7.3"
  }
 },
 "nbformat": 4,
 "nbformat_minor": 2
}
