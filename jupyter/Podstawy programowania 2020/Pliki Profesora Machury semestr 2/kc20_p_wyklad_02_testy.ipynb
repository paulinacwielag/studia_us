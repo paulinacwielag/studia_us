{
 "cells": [
  {
   "cell_type": "markdown",
   "metadata": {
    "id": "Gtb-i7BRLLEH"
   },
   "source": [
    "# Komunikacja Cyfrowa\n",
    "## Programowanie, wykład 2, ra 2020-21\n",
    "\n",
    "### Testy\n",
    "\n",
    "* **testowanie** - proces sprawdzania czy program pracuje tak, jak programista zaplanował\n",
    "* **debugowanie** - proces naprawiania programu, o którym wiemy, że nie działa poprawnie (za 2 tygodnie)"
   ]
  },
  {
   "cell_type": "code",
   "execution_count": null,
   "metadata": {
    "id": "e9NDsn6ALLEO"
   },
   "outputs": [],
   "source": [
    "import kcw2"
   ]
  },
  {
   "cell_type": "code",
   "execution_count": null,
   "metadata": {
    "id": "_tAMoW-BLLEP",
    "outputId": "e33cdf6b-f4a3-4d7a-dc07-600f64462c39"
   },
   "outputs": [
    {
     "data": {
      "text/plain": [
       "<module 'kcw2' from '/home/users/lukasz.machura/uni/kc/Programowanie/kc20_p_wyklad/kcw2.py'>"
      ]
     },
     "execution_count": 56,
     "metadata": {
      "tags": []
     },
     "output_type": "execute_result"
    }
   ],
   "source": [
    "import importlib\n",
    "importlib.reload(kcw2)"
   ]
  },
  {
   "cell_type": "code",
   "execution_count": null,
   "metadata": {
    "id": "0Dn8MPSaLLEQ",
    "outputId": "02d9fafa-a4c8-48d9-a0e3-50c8c7f75b50"
   },
   "outputs": [
    {
     "name": "stdout",
     "output_type": "stream",
     "text": [
      "Help on function jest_wieksza in module kcw2:\n",
      "\n",
      "jest_wieksza(x, y)\n",
      "    WE\n",
      "        x, y: INT\n",
      "    WY\n",
      "        True: gdy x jest większe od y\n",
      "        False: w innych przypadkach\n",
      "\n"
     ]
    }
   ],
   "source": [
    "help(kcw2.jest_wieksza)"
   ]
  },
  {
   "cell_type": "code",
   "execution_count": null,
   "metadata": {
    "id": "yzAs9qQVLLER",
    "outputId": "8cab084b-0321-4bf8-b325-17966e0c39ed"
   },
   "outputs": [
    {
     "data": {
      "text/plain": [
       "True"
      ]
     },
     "execution_count": 4,
     "metadata": {
      "tags": []
     },
     "output_type": "execute_result"
    }
   ],
   "source": [
    "kcw2.jest_wieksza(12, 10)"
   ]
  },
  {
   "cell_type": "code",
   "execution_count": null,
   "metadata": {
    "id": "mW2RashrLLER",
    "outputId": "d72dc212-a545-4b4c-8a67-962ea60386c6"
   },
   "outputs": [
    {
     "data": {
      "text/plain": [
       "False"
      ]
     },
     "execution_count": 5,
     "metadata": {
      "tags": []
     },
     "output_type": "execute_result"
    }
   ],
   "source": [
    "kcw2.jest_wieksza(12, 15)"
   ]
  },
  {
   "cell_type": "code",
   "execution_count": null,
   "metadata": {
    "id": "E6DHhAY8LLER",
    "outputId": "ee19f6d5-02d8-4ed3-95dc-e56cc028710c"
   },
   "outputs": [
    {
     "data": {
      "text/plain": [
       "True"
      ]
     },
     "execution_count": 11,
     "metadata": {
      "tags": []
     },
     "output_type": "execute_result"
    }
   ],
   "source": [
    "kcw2.jest_wieksza(-12, 10)"
   ]
  },
  {
   "cell_type": "code",
   "execution_count": null,
   "metadata": {
    "id": "YLUIHX1_LLES"
   },
   "outputs": [],
   "source": [
    "# kcw2.jest_wieksza??  # x > y"
   ]
  },
  {
   "cell_type": "code",
   "execution_count": null,
   "metadata": {
    "id": "fd2wVc12LLES"
   },
   "outputs": [],
   "source": [
    ""
   ]
  },
  {
   "cell_type": "code",
   "execution_count": null,
   "metadata": {
    "id": "bmJt7AoeLLES",
    "outputId": "f6357339-83e6-4d45-e941-2cacf888ceee"
   },
   "outputs": [
    {
     "name": "stdout",
     "output_type": "stream",
     "text": [
      "Help on function pierwiastek in module kcw2:\n",
      "\n",
      "pierwiastek(x, eps)\n",
      "    WE\n",
      "        x: FLOAT >= 0\n",
      "        eps: FLOAT > 0\n",
      "    WY\n",
      "        wynik: FLOAT, x-eps <= wynik * wynik <= x + eps\n",
      "\n"
     ]
    }
   ],
   "source": [
    "help(kcw2.pierwiastek)"
   ]
  },
  {
   "cell_type": "code",
   "execution_count": null,
   "metadata": {
    "id": "0YueML46LLES",
    "outputId": "8e0076e0-e625-4e9a-d26d-05fd281d68dc"
   },
   "outputs": [
    {
     "data": {
      "text/plain": [
       "0.0"
      ]
     },
     "execution_count": 15,
     "metadata": {
      "tags": []
     },
     "output_type": "execute_result"
    }
   ],
   "source": [
    "kcw2.pierwiastek(0, 0.01)"
   ]
  },
  {
   "cell_type": "code",
   "execution_count": null,
   "metadata": {
    "id": "185yvqCqLLET",
    "outputId": "dbaef943-9f3c-4b63-8d15-307916217923"
   },
   "outputs": [
    {
     "data": {
      "text/plain": [
       "2.0"
      ]
     },
     "execution_count": 16,
     "metadata": {
      "tags": []
     },
     "output_type": "execute_result"
    }
   ],
   "source": [
    "kcw2.pierwiastek(4, 0.01)"
   ]
  },
  {
   "cell_type": "code",
   "execution_count": null,
   "metadata": {
    "id": "CoC6-u88LLET",
    "outputId": "edb0ae17-3e2b-4e21-eb62-fff2777aefc8"
   },
   "outputs": [
    {
     "name": "stdout",
     "output_type": "stream",
     "text": [
      "Help on function pierwiastek in module kcw2:\n",
      "\n",
      "pierwiastek(x, eps)\n",
      "    WE\n",
      "        x: FLOAT >= 0\n",
      "        eps: FLOAT > 0\n",
      "    WY\n",
      "        wynik: FLOAT, x-eps <= wynik * wynik <= x + eps\n",
      "\n"
     ]
    }
   ],
   "source": [
    "help(kcw2.pierwiastek)"
   ]
  },
  {
   "cell_type": "code",
   "execution_count": null,
   "metadata": {
    "id": "UKhfYumtLLET",
    "outputId": "48b6f085-9ff4-44bb-90a9-00f65874876c"
   },
   "outputs": [
    {
     "name": "stdout",
     "output_type": "stream",
     "text": [
      "x=0.0, eps=0.0001 -> True\n",
      "x=25.0, eps=0.0001 -> True\n",
      "x=0.5, eps=0.0001 -> True\n",
      "x=2, eps=0.0001 -> True\n",
      "x=5.421010862427522e-20, eps=5.421010862427522e-20 -> True\n",
      "x=1.8446744073709552e+19, eps=5.421010862427522e-20 -> True\n",
      "x=5.421010862427522e-20, eps=1.8446744073709552e+19 -> True\n",
      "x=1.8446744073709552e+19, eps=1.8446744073709552e+19 -> True\n"
     ]
    }
   ],
   "source": [
    "for x, eps in [ \n",
    "    (0.0, 0.0001),\n",
    "    (25.0, 0.0001),\n",
    "    (0.5, 0.0001),\n",
    "    (2, 0.0001),\n",
    "    # (2, 1.0 / 2.0 ** 64),\n",
    "    (1.0 / 2.0 ** 64.0, 1.0 / 2.0 ** 64),\n",
    "    (2.0 ** 64.0, 1.0 / 2.0 ** 64),\n",
    "    (1.0 / 2.0 ** 64.0, 2.0 ** 64.0), \n",
    "    (2.0 ** 64.0, 2.0 ** 64.0)\n",
    "]:\n",
    "    # 1\n",
    "    wynik = abs(kcw2.pierwiastek(x, eps) ** 2 - x) < eps\n",
    "    # 2\n",
    "    # wynik = abs(kcw2.pierwiastek(x, eps) - x ** 0.5) < eps\n",
    "    \n",
    "    print(f'x={x}, eps={eps} -> {wynik}')"
   ]
  },
  {
   "cell_type": "code",
   "execution_count": null,
   "metadata": {
    "id": "L-HXzLMmLLEU"
   },
   "outputs": [],
   "source": [
    ""
   ]
  },
  {
   "cell_type": "code",
   "execution_count": null,
   "metadata": {
    "id": "ScQerVfvLLEU"
   },
   "outputs": [],
   "source": [
    ""
   ]
  },
  {
   "cell_type": "code",
   "execution_count": null,
   "metadata": {
    "id": "tGp6eOw1LLEU",
    "outputId": "655783f5-5cd9-4093-f243-95742dfd7d6e"
   },
   "outputs": [
    {
     "name": "stdout",
     "output_type": "stream",
     "text": [
      "Help on function kopiuj in module kcw2:\n",
      "\n",
      "kopiuj(L1, L2)\n",
      "    Funkcja zmienia L2 tak by była kopią L1\n",
      "    WE\n",
      "        L1, L2: listy\n",
      "\n"
     ]
    }
   ],
   "source": [
    "help(kcw2.kopiuj)"
   ]
  },
  {
   "cell_type": "code",
   "execution_count": null,
   "metadata": {
    "id": "9YF62jIxLLEU"
   },
   "outputs": [],
   "source": [
    ""
   ]
  },
  {
   "cell_type": "code",
   "execution_count": null,
   "metadata": {
    "id": "Vb7RtnUDLLEU",
    "outputId": "bbd75dd3-70b1-4bb9-e062-ba4966d48ee8"
   },
   "outputs": [
    {
     "data": {
      "text/plain": [
       "True"
      ]
     },
     "execution_count": 46,
     "metadata": {
      "tags": []
     },
     "output_type": "execute_result"
    }
   ],
   "source": [
    "Z = [10, \"20\"]  #, 30, 40, 'ala', (1, 2, 3), [1, 2, 3]] # []\n",
    "DO = [1, 2, 3, [1, 2, 3]]\n",
    "\n",
    "kcw2.kopiuj(Z, DO)\n",
    "Z == DO"
   ]
  },
  {
   "cell_type": "code",
   "execution_count": null,
   "metadata": {
    "id": "6BtkKPbZLLEV",
    "outputId": "60238f4e-ec96-4743-8182-1ae6dc74783d"
   },
   "outputs": [
    {
     "data": {
      "text/plain": [
       "([10, '20'], [10, '20'])"
      ]
     },
     "execution_count": 47,
     "metadata": {
      "tags": []
     },
     "output_type": "execute_result"
    }
   ],
   "source": [
    "DO, Z"
   ]
  },
  {
   "cell_type": "code",
   "execution_count": null,
   "metadata": {
    "id": "aHE4JChoLLEV"
   },
   "outputs": [],
   "source": [
    "L = [1, 2, 3]\n",
    "kcw2.kopiuj(L, L)"
   ]
  },
  {
   "cell_type": "code",
   "execution_count": null,
   "metadata": {
    "id": "4AiGRVgqLLEV",
    "outputId": "e054a441-726e-42c2-8ffc-f19de362ac42"
   },
   "outputs": [
    {
     "data": {
      "text/plain": [
       "[]"
      ]
     },
     "execution_count": 50,
     "metadata": {
      "tags": []
     },
     "output_type": "execute_result"
    }
   ],
   "source": [
    "L"
   ]
  },
  {
   "cell_type": "code",
   "execution_count": null,
   "metadata": {
    "id": "EuI2xtCJLLEW",
    "outputId": "173bb760-ca4c-4459-8ae8-7b66bbb427c1"
   },
   "outputs": [
    {
     "name": "stdout",
     "output_type": "stream",
     "text": [
      "Help on function czy_pierwsza in module kcw2:\n",
      "\n",
      "czy_pierwsza(x)\n",
      "    WE\n",
      "        nieujemne calkowite x\n",
      "    WY\n",
      "        True gdy x jest liczbą pierwsza\n",
      "        False gdy nie\n",
      "\n"
     ]
    }
   ],
   "source": [
    "help(kcw2.czy_pierwsza)"
   ]
  },
  {
   "cell_type": "code",
   "execution_count": null,
   "metadata": {
    "id": "KAOp0P-vLLEW",
    "outputId": "553e4dc9-422a-47c9-b059-777fd765e01d"
   },
   "outputs": [
    {
     "name": "stdout",
     "output_type": "stream",
     "text": [
      "13 True True\n",
      "10 False False\n",
      "7 True True\n",
      "3 True True\n",
      "4 False False\n",
      "997 True True\n",
      "1002 False False\n",
      "2 True True\n"
     ]
    }
   ],
   "source": [
    "for x, odp in [(13, True), \n",
    "               (10, False),\n",
    "               (7, True),\n",
    "               (3, True),\n",
    "               (4, False),\n",
    "               (997, True),\n",
    "               (1002, False),\n",
    "               (2, True)\n",
    "              ]:\n",
    "    print(x, kcw2.czy_pierwsza(x), odp)"
   ]
  },
  {
   "cell_type": "code",
   "execution_count": null,
   "metadata": {
    "id": "V8-EYEKhLLEW"
   },
   "outputs": [],
   "source": [
    "kcw2.czy_pierwsza??"
   ]
  },
  {
   "cell_type": "code",
   "execution_count": null,
   "metadata": {
    "id": "_6u2T67eLLEW"
   },
   "outputs": [],
   "source": [
    ""
   ]
  }
 ],
 "metadata": {
  "colab": {
   "name": "kc20_p_wyklad_02_testy.ipynb",
   "provenance": []
  },
  "kernelspec": {
   "display_name": "Python 3",
   "language": "python",
   "name": "python3"
  },
  "language_info": {
   "codemirror_mode": {
    "name": "ipython",
    "version": 3
   },
   "file_extension": ".py",
   "mimetype": "text/x-python",
   "name": "python",
   "nbconvert_exporter": "python",
   "pygments_lexer": "ipython3",
   "version": "3.7.3"
  }
 },
 "nbformat": 4,
 "nbformat_minor": 0
}
