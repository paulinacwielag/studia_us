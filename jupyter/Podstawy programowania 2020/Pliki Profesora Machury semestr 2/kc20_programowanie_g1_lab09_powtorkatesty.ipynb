{
 "cells": [
  {
   "cell_type": "markdown",
   "metadata": {
    "id": "xnF2SZjfNhMS"
   },
   "source": [
    "### KC, Programowanie, lab 08"
   ]
  },
  {
   "cell_type": "markdown",
   "metadata": {
    "id": "cx-an6UWNhMY"
   },
   "source": [
    "### Ćwiczenie 1\n",
    "Napisz funkcję `flip(s)` zamieniającą małe litery z ciągu znaków `s` na duże a duże na małe. Napisz porządny docstring."
   ]
  },
  {
   "cell_type": "code",
   "execution_count": null,
   "metadata": {
    "id": "FTdjyJ-_NhMY"
   },
   "outputs": [],
   "source": [
    "import doctest"
   ]
  },
  {
   "cell_type": "code",
   "execution_count": null,
   "metadata": {
    "id": "DlUodX3gNhMZ",
    "outputId": "42ee2c57-4343-48ea-f148-63c93a7fac55"
   },
   "outputs": [
    {
     "data": {
      "text/plain": [
       "'fUNKCJA ZAMIENIAJĄCA MAŁE LITERY Z CIĄGU ZNAKÓW `S` NA DUŻE A DUŻE NA MAŁE.'"
      ]
     },
     "execution_count": 15,
     "metadata": {
      "tags": []
     },
     "output_type": "execute_result"
    }
   ],
   "source": [
    "def flip(s):\n",
    "    '''\n",
    "    Funkcja zamieniająca małe litery z ciągu znaków `s` na duże a duże na małe.\n",
    "    \n",
    "    WE: \n",
    "        s (str) - ciąg znaków do zamiany\n",
    "        \n",
    "    WY: \n",
    "        (str) - ciąg znaków, z podmnienionymi małymi literami na duże i odwrotnie\n",
    "    \n",
    "    Przyklady:\n",
    "    >>> flip('')\n",
    "    ''\n",
    "    >>> flip('a')\n",
    "    'A'\n",
    "    >>> flip('A')\n",
    "    'a'\n",
    "    >>> flip('.')\n",
    "    '.'\n",
    "    >>> flip('aA1')\n",
    "    'Aa1'\n",
    "    '''\n",
    "    r = ''\n",
    "    for znak in s:\n",
    "        if znak.islower():  # znak in 'abcde...' + 'ąćęłóśńźż'\n",
    "            r += znak.upper()\n",
    "        elif znak.isupper():\n",
    "            r += znak.lower()\n",
    "        else:\n",
    "            r += znak\n",
    "    return r\n",
    "\n",
    "flip('Funkcja zamieniająca małe litery z ciągu znaków `s` na duże a duże na małe.')"
   ]
  },
  {
   "cell_type": "code",
   "execution_count": null,
   "metadata": {
    "id": "wpSm9jJRNhMa"
   },
   "outputs": [],
   "source": [
    ""
   ]
  },
  {
   "cell_type": "markdown",
   "metadata": {
    "id": "1hyFiw80NhMa"
   },
   "source": [
    "### Ćwiczenie 2\n",
    "Do `docstring`-a poprzedniej funkcji dopisz testy glass-box.\n",
    "\n",
    "1. nie wchodzę do pętli (`s = ''`)\n",
    "2. wchodzę do pętli (`s != ''`)\n",
    "    1. odwiedzam `if` -> `s = 'a'`\n",
    "    2. odwiedzam `elif` -> `s = 'A'`\n",
    "    3. odwiedzam `else` -> `s = '.'`\n",
    "    4. (opcjonalne) odwiedzam wszystkie rozgałęzienia `if` w sekwencji `s= 'aA1'`"
   ]
  },
  {
   "cell_type": "code",
   "execution_count": null,
   "metadata": {
    "id": "yLsHpgvFNhMb",
    "outputId": "29da5051-805d-4cc4-98f0-2b3a3fb03096"
   },
   "outputs": [
    {
     "data": {
      "text/plain": [
       "TestResults(failed=0, attempted=5)"
      ]
     },
     "execution_count": 17,
     "metadata": {
      "tags": []
     },
     "output_type": "execute_result"
    }
   ],
   "source": [
    "doctest.testmod()"
   ]
  },
  {
   "cell_type": "code",
   "execution_count": null,
   "metadata": {
    "id": "DynBXNw3NhMb"
   },
   "outputs": [],
   "source": [
    ""
   ]
  },
  {
   "cell_type": "markdown",
   "metadata": {
    "id": "QwFH2hpFNhMb"
   },
   "source": [
    "### Ćwiczenie 3\n",
    "Napisz funkcję `test_flip` zawierającą jak najpełniejszy zestaw testów black-box.\n",
    "```\n",
    "def flip(s):\n",
    "    '''\n",
    "    Funkcja zamieniająca małe litery z ciągu znaków `s` na duże a duże na małe.\n",
    "    \n",
    "    WE: \n",
    "        s (str) - ciąg znaków do zamiany\n",
    "        \n",
    "    WY: \n",
    "        (str) - ciąg znaków, z podmnienionymi małymi literami na duże i odwrotnie\n",
    "```"
   ]
  },
  {
   "cell_type": "code",
   "execution_count": null,
   "metadata": {
    "id": "Rz54eX4nNhMc",
    "outputId": "dbf20b16-3368-4490-ce74-7bda56c674c7"
   },
   "outputs": [
    {
     "data": {
      "text/plain": [
       "'Testy: 7, błędy: 0'"
      ]
     },
     "execution_count": 22,
     "metadata": {
      "tags": []
     },
     "output_type": "execute_result"
    }
   ],
   "source": [
    "def test_flip():\n",
    "    dane_testowe = [\n",
    "        ('Test', 'tEST'),\n",
    "        ('To jest zdanie.', 'tO JEST ZDANIE.'),\n",
    "        ('Wartości: 1,2,3', 'wARTOŚCI: 1,2,3'),\n",
    "        ('1', '1'),\n",
    "        ('5555131231234.,./\\;[]-=', '5555131231234.,./\\;[]-='),\n",
    "        ('ąęśćńółżź', 'ĄĘŚĆŃÓŁŻŹ'),\n",
    "        ('', '')\n",
    "    ]\n",
    "    \n",
    "    err = 0\n",
    "    for val, exp in dane_testowe:\n",
    "        if flip(val) != exp:\n",
    "            print(f'{val} res: {flip(val)} exp: {exp}')\n",
    "            err += 1\n",
    "    \n",
    "    return f'Testy: {len(dane_testowe)}, błędy: {err}'\n",
    "\n",
    "test_flip()"
   ]
  },
  {
   "cell_type": "code",
   "execution_count": null,
   "metadata": {
    "id": "gthYBtJvNhMc",
    "outputId": "af476683-40cc-4914-9edf-0efed267330f"
   },
   "outputs": [
    {
     "data": {
      "text/plain": [
       "'Testy: 12, błędy: 0'"
      ]
     },
     "execution_count": 29,
     "metadata": {
      "tags": []
     },
     "output_type": "execute_result"
    }
   ],
   "source": [
    "def test_flip():\n",
    "    dane_testowe = [\n",
    "        # wartosci typowe\n",
    "        ('cHCIAŁABYM zDAĆ kOLOSA ', 'Chciałabym Zdać Kolosa '),\n",
    "        ('cHOCIAŻ nA tRZY', 'Chociaż Na Trzy'),\n",
    "        ('Moje Życie Nabrałoby Sensu', 'mOJE żYCIE nABRAŁOBY sENSU'),\n",
    "        ('a dUSZA zAZNAŁA sPOKOJU', 'A Dusza Zaznała Spokoju'),\n",
    "        \n",
    "        # wartosci brzegowe\n",
    "        ('', ''),\n",
    "        ('cnuipudnpq92r89yc4298yrh bcunj brty120nrux-1b49c8yfnhcfibyrywbecqrhpoewyrbery', \n",
    "         'cnuipudnpq92r89yc4298yrh bcunj brty120nrux-1b49c8yfnhcfibyrywbecqrhpoewyrbery'.upper()),\n",
    "        ('cnuipudnpq92r89yc4298yrh bcunj brty120nrux-1b49c8yfnhcfibyrywbecqrhpoewyrbery'.upper(), \n",
    "         'cnuipudnpq92r89yc4298yrh bcunj brty120nrux-1b49c8yfnhcfibyrywbecqrhpoewyrbery'),\n",
    "        \n",
    "        # wartosci niezmienne\n",
    "        ('12345', '12345'),\n",
    "        ('.,!@#$%^&*()', '.,!@#$%^&*()'),\n",
    "        \n",
    "        # wartosci wymieszane\n",
    "        ('Wartości: 1,2,3', 'wARTOŚCI: 1,2,3'),\n",
    "        ('abcd1234', 'ABCD1234'),\n",
    "        ('XYZ-+*', 'xyz-+*')\n",
    "    ]\n",
    "    bledy = 0\n",
    "    for val_1, odpowiedz in dane_testowe:\n",
    "        test = flip(val_1)\n",
    "        if test != odpowiedz:\n",
    "            print(f'flip({val_1}): {test} != {odpowiedz}')\n",
    "            bledy += 1\n",
    "    return f'Testy: {len(dane_testowe)}, błędy: {bledy}'\n",
    "\n",
    "test_flip()"
   ]
  },
  {
   "cell_type": "code",
   "execution_count": null,
   "metadata": {
    "id": "2JKKbNUTNhMd"
   },
   "outputs": [],
   "source": [
    ""
   ]
  },
  {
   "cell_type": "code",
   "execution_count": null,
   "metadata": {
    "id": "Av8qu5WsNhMd"
   },
   "outputs": [],
   "source": [
    ""
   ]
  },
  {
   "cell_type": "markdown",
   "metadata": {
    "id": "6ss5Kq6tNhMd"
   },
   "source": [
    "### Ćwiczenie 4\n",
    "Punkt `(x, y)` może znaleźć się w jednej z 4 ćwiartek układu kartezjańskiego definiowanych przez dwie proste `x=0` i `y=0`. \n",
    "\n",
    "![image](https://upload.wikimedia.org/wikipedia/commons/thumb/0/0e/Cartesian-coordinate-system.svg/354px-Cartesian-coordinate-system.svg.png)\n",
    "\n",
    "Napisz funkcję `cwiartka(punkt)` __zwracającą__ informację w której ćwiartce jest punkt `punkt = (x, y)`. Uwaga: co z punktem `(0, 0)`?"
   ]
  },
  {
   "cell_type": "code",
   "execution_count": null,
   "metadata": {
    "id": "MGhUWxEFNhMd"
   },
   "outputs": [],
   "source": [
    "def cwiartka(punkt):\n",
    "    '''\n",
    "    Funkcja pokazuje, w której ćwiartce układu kartezjańskiego znajduej się podany punkt \n",
    "    (punkt należy podać w tzw. krotce, czyli w okrągłych nawiasach).\n",
    "    \n",
    "    >>> cwiartka((1, 2))\n",
    "    'Punkt ten znajduje się w prawej górnej ćwiartce.'\n",
    "    >>> cwiartka((-1, 2))\n",
    "    'Punkt ten znajduje się w lewej górnej ćwiartce.'\n",
    "    >>> cwiartka((-1, -2))\n",
    "    'Punkt ten znajduje się w lewej dolnej ćwiartce.'\n",
    "    >>> cwiartka((1, -2))\n",
    "    'Punkt ten znajduje się w prawej dolnej ćwiartce.'\n",
    "    >>> cwiartka((0, 0))\n",
    "    'Punkt znajduje się na początku układu (w jego centrum) i nie nalezy do żadnej ćwiartki.'\n",
    "    >>> cwiartka((0, 2))\n",
    "    'Punkt ten leży na osi y.'\n",
    "    >>> cwiartka((1, 0))\n",
    "    'Punkt ten leży na osi x.'\n",
    "    '''\n",
    "    x = punkt[0]\n",
    "    y = punkt[1]\n",
    "\n",
    "    if x > 0 and y > 0:\n",
    "        return f'Punkt ten znajduje się w prawej górnej ćwiartce.'\n",
    "    elif x < 0 and y > 0:\n",
    "        return f'Punkt ten znajduje się w lewej górnej ćwiartce.'\n",
    "    elif x < 0 and y < 0:\n",
    "        return f'Punkt ten znajduje się w lewej dolnej ćwiartce.'\n",
    "    elif x > 0 and y < 0:\n",
    "        return f'Punkt ten znajduje się w prawej dolnej ćwiartce.'\n",
    "    elif x == 0 and y == 0:\n",
    "        return f'Punkt znajduje się na początku układu (w jego centrum) i nie nalezy do żadnej ćwiartki.'\n",
    "    elif x == 0 and y != 0:\n",
    "        return f'Punkt ten leży na osi y.'\n",
    "    elif x != 0 and y == 0:\n",
    "        return f'Punkt ten leży na osi x.'"
   ]
  },
  {
   "cell_type": "code",
   "execution_count": null,
   "metadata": {
    "id": "aApQsFgjNhMe",
    "outputId": "b02fdf46-8c8c-4891-a716-7646620aef54"
   },
   "outputs": [
    {
     "data": {
      "text/plain": [
       "TestResults(failed=0, attempted=12)"
      ]
     },
     "execution_count": 38,
     "metadata": {
      "tags": []
     },
     "output_type": "execute_result"
    }
   ],
   "source": [
    "doctest.testmod()"
   ]
  },
  {
   "cell_type": "code",
   "execution_count": null,
   "metadata": {
    "id": "xz1J2OnINhMi"
   },
   "outputs": [],
   "source": [
    ""
   ]
  },
  {
   "cell_type": "markdown",
   "metadata": {
    "id": "SaFB9b1sNhMi"
   },
   "source": [
    "### Ćwiczenie 5\n",
    "Do `docstring`-a funkcji `cwiartka` dopisz testy glass-box.\n",
    "\n",
    "### Ćwiczenie 6\n",
    "Napisz funkcję `test_cwiartka` zawierającą jak najpełniejszy zestaw testów black-box."
   ]
  },
  {
   "cell_type": "code",
   "execution_count": null,
   "metadata": {
    "id": "7_CUJLDWNhMi"
   },
   "outputs": [],
   "source": [
    "def cwiartka(punkt):\n",
    "    '''\n",
    "    Funkcja zwraca położenie punktu w układzie współrzędnych.\n",
    "    WE:\n",
    "    punkt - TUPLE o 2 elementach liczbowych typu INT\n",
    "    WY:\n",
    "    STRING\n",
    "    TESTY:\n",
    "    >>> cwiartka((1,1))\n",
    "    'Ćwiartka I'\n",
    "    >>> cwiartka((-1, 1))\n",
    "    'Ćwiartka II'\n",
    "    >>> cwiartka((-1,-1))\n",
    "    'Ćwiartka III'\n",
    "    >>> cwiartka((1,-1))\n",
    "    'Ćwiartka IV'\n",
    "    >>> cwiartka((0,0))\n",
    "    'Początek układy współrzędnych'\n",
    "    >>> cwiartka((0,1))\n",
    "    'Punkt leży na osi X'\n",
    "    >>> cwiartka((1,0))\n",
    "    'Punkt leży na osi Y'\n",
    "    '''\n",
    "    \n",
    "    x = punkt[0]\n",
    "    y = punkt[1]\n",
    "    \n",
    "    if x > 0 and y > 0:\n",
    "        return 'Ćwiartka I'\n",
    "    if x < 0 and y > 0:\n",
    "        return 'Ćwiartka II'\n",
    "    if x < 0 and y < 0:\n",
    "        return 'Ćwiartka III'\n",
    "    if x > 0 and y < 0:\n",
    "        return 'Ćwiartka IV'\n",
    "    if x == 0 and y == 0:\n",
    "        return 'Początek układy współrzędnych'\n",
    "    if x == 0:\n",
    "        return 'Punkt leży na osi X'\n",
    "    if y == 0:\n",
    "        return 'Punkt leży na osi Y'\n",
    "        \n",
    "# doctest.testmod(name = 'cwiartka', verbose = True)\n",
    "    "
   ]
  },
  {
   "cell_type": "code",
   "execution_count": null,
   "metadata": {
    "id": "ecslKhhTNhMj",
    "outputId": "78d92c94-3fa5-4b42-e288-310d22d62095"
   },
   "outputs": [
    {
     "data": {
      "text/plain": [
       "'Ćwiartka I'"
      ]
     },
     "execution_count": 43,
     "metadata": {
      "tags": []
     },
     "output_type": "execute_result"
    }
   ],
   "source": [
    "cwiartka((0.000000000000000001, 0.000000000000000000001))"
   ]
  },
  {
   "cell_type": "code",
   "execution_count": null,
   "metadata": {
    "id": "Mr1rpw8GNhMj",
    "outputId": "3fdf4b36-58a0-4368-af91-b73ec0ba8274"
   },
   "outputs": [
    {
     "data": {
      "text/plain": [
       "'Ćwiartka IV'"
      ]
     },
     "execution_count": 44,
     "metadata": {
      "tags": []
     },
     "output_type": "execute_result"
    }
   ],
   "source": [
    "cwiartka((1e-12, -1e-19))"
   ]
  },
  {
   "cell_type": "code",
   "execution_count": null,
   "metadata": {
    "id": "UVsxjNb9NhMj",
    "outputId": "388e60b1-fe42-4dd5-bad1-2bb2e2c8ba8d"
   },
   "outputs": [
    {
     "data": {
      "text/plain": [
       "'Ćwiartka I'"
      ]
     },
     "execution_count": 47,
     "metadata": {
      "tags": []
     },
     "output_type": "execute_result"
    }
   ],
   "source": [
    "cwiartka((1e39, 10**119))"
   ]
  },
  {
   "cell_type": "code",
   "execution_count": null,
   "metadata": {
    "id": "qJUY4IMONhMj",
    "outputId": "94456807-0e17-46c0-8200-1ab1b8b0e802"
   },
   "outputs": [
    {
     "data": {
      "text/plain": [
       "1e+119"
      ]
     },
     "execution_count": 49,
     "metadata": {
      "tags": []
     },
     "output_type": "execute_result"
    }
   ],
   "source": [
    "10.**119"
   ]
  },
  {
   "cell_type": "markdown",
   "metadata": {
    "id": "MewcA3A6NhMk"
   },
   "source": [
    "### Ćwiczenie D1\n",
    "1. Napisz 3 funkcje o funkcjonalności wynikającej z nazw. Dodaj porządny docstring.\n",
    "    * `wartosc_odwrotna(x)`\n",
    "    * `wartosc_przeciwna(x)`\n",
    "    * `wartosc_bezwzgledna(x)`\n",
    "\n",
    "2. Dodaj je do modułu `wartosc`. \n",
    "3. Do wszystkich trzech dopisz testy glass-box. Umieść je w `docstring`.\n",
    "4. Do funkcji `wartosc_przeciwna(x)` napisz testy black-box. Umieść je w funkcji `test_wartosc_przeciwna`. \n",
    "5. Przeprowadź testy funkcji. Oceń ich wyniki. Są jakieś błędy?\n",
    "\n",
    "### Ćwiczenie D2\n",
    "**A**\n",
    "\n",
    "Zaimportuj moduł `liczby`. Na podstawie poniższego snippetu wygeneruj listę 2222 liczb losowych. Używając funkcji z modułu `liczby`, odpowiedz na pytania. Odpowiedzi, wraz z numerami pytań (6 pytań), zapisz w pliku 'odp.txt'.\n",
    "\n",
    "1. Która suma jest większa - oryginalnych liczb w liście, czy liczb przeciwnych?\n",
    "2. Ile wynosi suma bezwzględnych wartości liczb z listy?\n",
    "3. Która suma jest większa - oryginalnych liczb w liście, czy liczb odwrotnych?\n",
    "\n",
    "**B**\n",
    "\n",
    "Napisz funkcję `sumy_czesciowe(L)` obliczajacą listę sum częściowych dla kolejnych elementów listy `L`. Suma częściowa to suma elementów od elementu zerowego do i-tego:\n",
    "\n",
    "$$s_i = \\sum_{k=0}^{k=i} x_k$$\n",
    "\n",
    "np: L = [1, 4, -3, 5], lista sum częściowych `S = [1, 5, 2, 7]`, bo \n",
    "```\n",
    "S[0] = L[0]\n",
    "S[1] = L[0] + L[1] = S[0] + L[1]\n",
    "S[2] = L[0] + L[1] + L[2] = S[1] + L[2]\n",
    "S[3] = L[0] + L[1] + L[2] + L[3] = S[2] + L[3]\n",
    "```\n",
    "\n",
    "Odpowiedz na pytania\n",
    "\n",
    "4. Która suma liczb jest większa: sum częściowych powstałych z oryginalnej listy liczb czy sum częściowych powstałych z liczb przeciwnych?\n",
    "5. Która suma liczb jest większa: sum częściowych powstałych z oryginalnej listy liczb czy sum częściowych powstałych z liczb odwrotnych?\n",
    "6. Która suma liczb jest większa: sum częściowych powstałych z listy liczb odwrotnych czy sum częściowych powstałych z liczb przeciwnych?"
   ]
  },
  {
   "cell_type": "code",
   "execution_count": null,
   "metadata": {
    "id": "h2CD6z4PNhMk",
    "outputId": "2b052aa6-3f60-42cd-bebf-6a75f2512e2d"
   },
   "outputs": [
    {
     "data": {
      "text/plain": [
       "2222"
      ]
     },
     "execution_count": 40,
     "metadata": {
      "tags": []
     },
     "output_type": "execute_result"
    }
   ],
   "source": [
    "import random\n",
    "N = 2222\n",
    "lista_liczb = [random.random() for i in range(N//2)]\n",
    "lista_liczb += [random.randint(-N, N) for i in range(N//2)]\n",
    "random.shuffle(lista_liczb)\n",
    "len(lista_liczb)"
   ]
  },
  {
   "cell_type": "code",
   "execution_count": null,
   "metadata": {
    "id": "JZ-KlV3xNhMk"
   },
   "outputs": [],
   "source": [
    ""
   ]
  }
 ],
 "metadata": {
  "colab": {
   "name": "kc20_programowanie_g1_lab09.ipynb",
   "provenance": []
  },
  "kernelspec": {
   "display_name": "Python 3",
   "language": "python",
   "name": "python3"
  },
  "language_info": {
   "codemirror_mode": {
    "name": "ipython",
    "version": 3
   },
   "file_extension": ".py",
   "mimetype": "text/x-python",
   "name": "python",
   "nbconvert_exporter": "python",
   "pygments_lexer": "ipython3",
   "version": "3.7.3"
  }
 },
 "nbformat": 4,
 "nbformat_minor": 0
}
