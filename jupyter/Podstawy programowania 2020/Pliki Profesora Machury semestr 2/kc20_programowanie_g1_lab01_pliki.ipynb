{
 "cells": [
  {
   "cell_type": "markdown",
   "metadata": {},
   "source": [
    "# Komunikacja cyfrowa\n",
    "## Programowanie, lab 01, obsługa plików\n",
    "\n",
    "**Warto wiedzieć wcześniej** - wrzucić na classroom na kilka dni przez zajęciami.\n",
    "- co to jest plik\n",
    "- co znajduje się na końcu linijek w plikach txt (`\\n`)\n",
    "- co to jest standard CSV\n",
    "- co to jest serializacja\n",
    "- grafika rastrowa\n",
    "- magic numbers (sygnatury plików)\n",
    "- ASCII-art\n",
    "\n",
    "\n",
    "## część 1 - open\n",
    "\n",
    "Powłoka Pythona daje nam możliwośc operacji na plikach za pomocą funkcji `open`. Pobiera ona jeden obowiązkowy parametr właściwy `file`, reszta parametrów jest opcjonalnych, choć często się z nich korzysta. Więcej np: help."
   ]
  },
  {
   "cell_type": "code",
   "execution_count": 1,
   "metadata": {},
   "outputs": [],
   "source": [
    "# help(open)"
   ]
  },
  {
   "cell_type": "markdown",
   "metadata": {},
   "source": [
    "Najprostsze stworzenie pliku, by miał jakąś zawartość i był tekstowy jest w komórce poniżej. Można oczywiście też w Jupyter dać `New->Text File`, wpisać coś (ala ma kota) i zapisać jako `ala.txt`. Bez znaczenia."
   ]
  },
  {
   "cell_type": "code",
   "execution_count": 24,
   "metadata": {},
   "outputs": [],
   "source": [
    "# %%bash\n",
    "# echo \"Ala ma kota\" > ala.txt\n",
    "# echo \"Milicja ma Ale\" >> ala.txt"
   ]
  },
  {
   "cell_type": "markdown",
   "metadata": {},
   "source": [
    "### open, read, close\n",
    "\n",
    "Najprostsze wywołanie, bez dodatkowych parametrów tworzy uchwyt do pliku o nazwie takiej jak zmienna po lewej str operatora przypisania"
   ]
  },
  {
   "cell_type": "code",
   "execution_count": 10,
   "metadata": {},
   "outputs": [],
   "source": [
    "ala = open('ala.txt')"
   ]
  },
  {
   "cell_type": "code",
   "execution_count": 11,
   "metadata": {},
   "outputs": [
    {
     "data": {
      "text/plain": [
       "<_io.TextIOWrapper name='ala.txt' mode='r' encoding='UTF-8'>"
      ]
     },
     "execution_count": 11,
     "metadata": {},
     "output_type": "execute_result"
    }
   ],
   "source": [
    "ala"
   ]
  },
  {
   "cell_type": "markdown",
   "metadata": {},
   "source": [
    "`mode=r` oznacza, że plik jest tylko do odczytu, a `encoding='UTF-8'`, że kodowanie domyślne pliku to UTF-8. Aby odczytać, co w pliku jest, posłużymy się metodą `read`"
   ]
  },
  {
   "cell_type": "code",
   "execution_count": 12,
   "metadata": {},
   "outputs": [
    {
     "data": {
      "text/plain": [
       "'Ala ma kota\\n'"
      ]
     },
     "execution_count": 12,
     "metadata": {},
     "output_type": "execute_result"
    }
   ],
   "source": [
    "ala.read()"
   ]
  },
  {
   "cell_type": "markdown",
   "metadata": {},
   "source": [
    "możemy oczywiście przechwycić to co zwraca `read` do zmiennej, tak by móc dalej operować na tych danych. Aby nie pozostawiać uchwytów otwartych, co może czasem powodować pewne problemy IO (np: gdy inne programy systemowe lub inni użytkownicy będą chciały korzystać z danego pliku), warto pamiętać by plik zamknać metodą `close`"
   ]
  },
  {
   "cell_type": "code",
   "execution_count": 14,
   "metadata": {},
   "outputs": [],
   "source": [
    "ala.close()"
   ]
  },
  {
   "cell_type": "markdown",
   "metadata": {},
   "source": [
    "Co powoduje, że nie można np: ponownie odczytać pliku."
   ]
  },
  {
   "cell_type": "code",
   "execution_count": 18,
   "metadata": {},
   "outputs": [
    {
     "ename": "ValueError",
     "evalue": "I/O operation on closed file.",
     "output_type": "error",
     "traceback": [
      "\u001b[0;31m---------------------------------------------------------------------------\u001b[0m",
      "\u001b[0;31mValueError\u001b[0m                                Traceback (most recent call last)",
      "\u001b[0;32m<ipython-input-18-6af19fae406e>\u001b[0m in \u001b[0;36m<module>\u001b[0;34m\u001b[0m\n\u001b[0;32m----> 1\u001b[0;31m \u001b[0mala\u001b[0m\u001b[0;34m.\u001b[0m\u001b[0mread\u001b[0m\u001b[0;34m(\u001b[0m\u001b[0;34m)\u001b[0m\u001b[0;34m\u001b[0m\u001b[0;34m\u001b[0m\u001b[0m\n\u001b[0m",
      "\u001b[0;31mValueError\u001b[0m: I/O operation on closed file."
     ]
    }
   ],
   "source": [
    "ala.read()"
   ]
  },
  {
   "cell_type": "markdown",
   "metadata": {},
   "source": [
    "Każdorazowo powinniśmy zadbać o to, by po otwarciu pliku go zamknąć. Mamy dwie możliwości, wersję standardową\n",
    "\n",
    "```\n",
    "p = open('plik')\n",
    "OPERACJE NA PLIKU\n",
    "p.close()\n",
    "```\n",
    "\n",
    "lub (lepszą) wersję za pomocą bloku `with`\n",
    "\n",
    "```\n",
    "with open('plik') as p:\n",
    "    OPERACJE NA PLIKU\n",
    "```\n",
    "\n",
    "gdzie wyjście z bloku zapewnia nam zamknięcie pliku."
   ]
  },
  {
   "cell_type": "code",
   "execution_count": 27,
   "metadata": {},
   "outputs": [
    {
     "name": "stdout",
     "output_type": "stream",
     "text": [
      "Ala ma kota\n",
      "Milicja ma Ale\n",
      "\n"
     ]
    }
   ],
   "source": [
    "with open('ala.txt') as ala:\n",
    "    print(ala.read())"
   ]
  },
  {
   "cell_type": "code",
   "execution_count": 21,
   "metadata": {},
   "outputs": [
    {
     "ename": "ValueError",
     "evalue": "I/O operation on closed file.",
     "output_type": "error",
     "traceback": [
      "\u001b[0;31m---------------------------------------------------------------------------\u001b[0m",
      "\u001b[0;31mValueError\u001b[0m                                Traceback (most recent call last)",
      "\u001b[0;32m<ipython-input-21-6af19fae406e>\u001b[0m in \u001b[0;36m<module>\u001b[0;34m\u001b[0m\n\u001b[0;32m----> 1\u001b[0;31m \u001b[0mala\u001b[0m\u001b[0;34m.\u001b[0m\u001b[0mread\u001b[0m\u001b[0;34m(\u001b[0m\u001b[0;34m)\u001b[0m\u001b[0;34m\u001b[0m\u001b[0;34m\u001b[0m\u001b[0m\n\u001b[0m",
      "\u001b[0;31mValueError\u001b[0m: I/O operation on closed file."
     ]
    }
   ],
   "source": [
    "ala.read()"
   ]
  },
  {
   "cell_type": "markdown",
   "metadata": {},
   "source": [
    "Inną możliwością jest zczytanie pliku linia po linii metodą `readline`"
   ]
  },
  {
   "cell_type": "code",
   "execution_count": 28,
   "metadata": {},
   "outputs": [
    {
     "name": "stdout",
     "output_type": "stream",
     "text": [
      "Ala ma kota\n",
      "\n",
      "Milicja ma Ale\n",
      "\n"
     ]
    }
   ],
   "source": [
    "with open('ala.txt', 'r') as ala:\n",
    "    for line in ala:\n",
    "        print(line)"
   ]
  },
  {
   "cell_type": "code",
   "execution_count": null,
   "metadata": {},
   "outputs": [],
   "source": []
  },
  {
   "cell_type": "markdown",
   "metadata": {},
   "source": [
    "### Ćwiczenie 1\n",
    "Za pomocą standardowego interfejsu Jupyter `New -> Text File` stwórz plik o nazwie `wykonawca_utwor.txt` i wklej do niego tekst swojego ulubionego/ostatnio słuchanego/jakiegokolwiek utworu muzycznego. Następnie za pomocą obu konstrukcji (z `with` i standardowo) i metody `read` pobierz zawartość pliku, a następnie wydrukuj go linijka po linijce wraz z numerami linii"
   ]
  },
  {
   "cell_type": "code",
   "execution_count": 21,
   "metadata": {},
   "outputs": [
    {
     "name": "stdout",
     "output_type": "stream",
     "text": [
      "1. An angel on a Harley\n",
      "2. Pulls across to greet a fellow rolling stone\n",
      "3. Puts his bike up on it's stand\n",
      "4. Leans back and then extends\n",
      "5. A scarred and greasy hand\n",
      "6. \n",
      "7. He said \"How ya doin' bro? Where ya been? Where ya goin'?\"\n",
      "8. \n",
      "9. Then he takes your hand\n",
      "10. In some strange Californian handshake\n",
      "11. And breaks the bone\n",
      "12. \n",
      "13. (Have a nice day)\n",
      "14. \n",
      "15. A housewife from Encino\n",
      "16. Whose husband's on the golf course\n",
      "17. With his book of rules\n",
      "18. Breaks and makes a 'U' and idles back\n",
      "19. To take a second look at you\n",
      "20. You flex your rod\n",
      "21. Fish takes the hook\n",
      "22. Sweet vodka and tobacco in her breath\n",
      "23. Another number in your little black book\n",
      "24. \n",
      "25. These are the pros and cons of hitchhiking\n",
      "26. These are the pros and cons of hitchhiking\n",
      "27. Oh babe, I must be dreaming\n",
      "28. I'm standing on the leading edge\n",
      "29. The Eastern seaboard spread before my eyes\n",
      "30. \"Jump\" says Yoko Ono\n",
      "31. \"I'm too scared and too good looking\" I cried\n",
      "32. \"Go on\", she says\n",
      "33. \"Why don't you give it a try?\n",
      "34. Why prolong the agony all men must die\"\n",
      "35. Do you remember Dick Tracy?\n",
      "36. Do you remember Shane?\n",
      "37. \n",
      "38. Child: \"And mother wants you\"\n",
      "39. \n",
      "40. Could you see him selling tickets\n",
      "41. Where the buzzard circles over\n",
      "42. \n",
      "43. Child: \"Shane\"\n",
      "44. \n",
      "45. The body on the plain\n",
      "46. Did you understand the music Yoko\n",
      "47. Or was it all in vain?\n",
      "48. \n",
      "49. Child: \"Shane\"\n",
      "50. \n",
      "51. The bitch said something mystical \"Herro\"\n",
      "52. So I stepped back on the kerb again\n",
      "53. \n",
      "54. These are the pros and cons of hitchhiking\n",
      "55. These are the pros and cons of hitchhiking\n",
      "56. Oh babe, I must be dreaming again\n",
      "57. These are the pros and cons of hitchhiking\n"
     ]
    }
   ],
   "source": [
    "# przykładowe rozwiązanie\n",
    "utwor = 'waters_501am.txt'\n",
    "with open(utwor, mode='r') as muza:\n",
    "    a = muza.read()\n",
    "    for number, line in enumerate(a.split('\\n')):\n",
    "        print(number + 1, line, sep='. ')"
   ]
  },
  {
   "cell_type": "markdown",
   "metadata": {},
   "source": [
    "### open i pętla for\n",
    "\n",
    "Uchwyt do pliku tworzony za pomocą `open` jest iteratorem, może być w takim razie użyty w pętli for, do iteracji po liniach, co wydaje się łatwiejsze niż powyższy `split('\\n')`, "
   ]
  },
  {
   "cell_type": "code",
   "execution_count": 38,
   "metadata": {},
   "outputs": [
    {
     "name": "stdout",
     "output_type": "stream",
     "text": [
      "Ala ma kota\n",
      "\n",
      "Milicja ma Ale\n",
      "\n"
     ]
    }
   ],
   "source": [
    "with open('ala.txt') as plik:\n",
    "    for line in plik:\n",
    "        print(line)"
   ]
  },
  {
   "cell_type": "markdown",
   "metadata": {},
   "source": [
    "nadmiarowe linie biorą się z interpretacji właśnie owych `\\n` na końcu linii przez fukcje `print`. Można się ich pozbyć za pomocą choćby metody `strip`, ale nie trzeba..."
   ]
  },
  {
   "cell_type": "code",
   "execution_count": 39,
   "metadata": {},
   "outputs": [
    {
     "name": "stdout",
     "output_type": "stream",
     "text": [
      "Ala ma kota\n",
      "Milicja ma Ale\n"
     ]
    }
   ],
   "source": [
    "with open('ala.txt') as plik:\n",
    "    for line in plik:\n",
    "        print(line.strip())"
   ]
  },
  {
   "cell_type": "markdown",
   "metadata": {},
   "source": [
    "### Ćwiczenie 2\n",
    "Korzystając z tekstu znajdującego się w Twoim pliku `wykonawca_utwor.txt` stwórz słownik gdzie kluczami będą wszystkie unikalne słowa widniejące w tekscie, a wartościami ilość ich wystąpień. Aby było to miarodajne, musisz pozbyć się wszystkich znaków interpunkcyjnych i białych oraz nie rozróżniać dużych i małych liter. Na końcu wydrukuj ten słownik czytelnie `klucz -> wartość`."
   ]
  },
  {
   "cell_type": "code",
   "execution_count": 53,
   "metadata": {},
   "outputs": [
    {
     "name": "stdout",
     "output_type": "stream",
     "text": [
      "an -> 1\n",
      "angel -> 1\n",
      "on -> 7\n",
      "a -> 8\n",
      "harley -> 1\n"
     ]
    }
   ],
   "source": [
    "# przykładowe rozwiązanie\n",
    "def check_apostrophes(words):\n",
    "    ret = []\n",
    "    for w in words:\n",
    "        if not w:\n",
    "            continue\n",
    "        elif w == \"it's\":\n",
    "            ret += ['it', 'is']\n",
    "        elif w == \"i'm\":\n",
    "            ret += ['i', 'am']\n",
    "        elif w[-3:] == \"n't\":\n",
    "            ret += [w[:-3], 'not']\n",
    "        elif w[-1] == \"'\":\n",
    "            ret.append(w[:-1])\n",
    "        elif w[-2:] == \"'s\":\n",
    "            ret.append(w[:-2])\n",
    "        elif \"'\" in w:\n",
    "            ret.append(w.replace(\"'\", \"\"))\n",
    "        else:\n",
    "            ret.append(w)          \n",
    "    return ret\n",
    "\n",
    "def remove_punctuation(words):\n",
    "    from string import ascii_letters\n",
    "    ret = []\n",
    "    for word in words:\n",
    "        w = \"\"\n",
    "        for letter in word:\n",
    "            if letter in ascii_letters + \"'\":\n",
    "                w += letter\n",
    "        ret.append(w)\n",
    "    return ret\n",
    "\n",
    "def split_sentence(sentence):\n",
    "    s = sentence.lower()\n",
    "    words = [el.strip() for el in s.split(' ')]\n",
    "    words = remove_punctuation(words)\n",
    "    words = check_apostrophes(words)\n",
    "    return words\n",
    "\n",
    "def calculate_words(list_of_words, d={}):\n",
    "    for word in list_of_words:\n",
    "        if word in d:\n",
    "            d[word] += 1\n",
    "        else:\n",
    "            d[word] = 1\n",
    "    return d\n",
    "\n",
    "\n",
    "utwor = 'waters_501am.txt'\n",
    "with open(utwor, 'r') as muza:\n",
    "    dwaters = {}\n",
    "    for line in muza:\n",
    "        sline = split_sentence(line)\n",
    "        dwaters = calculate_words(sline, dwaters)\n",
    "\n",
    "for key, val in tuple(dwaters.items())[:5]:\n",
    "    print(key, val, sep=' -> ')"
   ]
  },
  {
   "cell_type": "markdown",
   "metadata": {},
   "source": [
    "### tryby zapisu 'w' oraz 'a'\n",
    "Oczywiście każdy plik można otworzyć również do zapisu. Podstawowym trybem zapisu jest `mode='w'`. Utworzenie uchwytu  wtrybie `w` (write) spowoduje albo (a) stworzenie nowego pliku o zadanej nazwie, albo (b) wyczyszczenie już istniejącego. "
   ]
  },
  {
   "cell_type": "code",
   "execution_count": 13,
   "metadata": {},
   "outputs": [],
   "source": [
    "# nie mamy pliku 'piwko.txt'\n",
    "\n",
    "tekst = \"\"\"Lekiem na kaca jest piwko \n",
    "Pierwsze, drugie, trzecie \n",
    "Ale czwarte, piąte i szóste \n",
    "To już raczej bardziej zmuli\n",
    "\"\"\"\n",
    "\n",
    "with open('piwko.txt', 'w') as plik:\n",
    "    plik.write(tekst)"
   ]
  },
  {
   "cell_type": "code",
   "execution_count": 14,
   "metadata": {},
   "outputs": [
    {
     "name": "stdout",
     "output_type": "stream",
     "text": [
      "Lekiem na kaca jest piwko \n",
      "Pierwsze, drugie, trzecie \n",
      "Ale czwarte, piąte i szóste \n",
      "To już raczej bardziej zmuli\n"
     ]
    }
   ],
   "source": [
    "%%bash \n",
    "cat piwko.txt"
   ]
  },
  {
   "cell_type": "code",
   "execution_count": 19,
   "metadata": {},
   "outputs": [],
   "source": [
    "# plik 'piwko.txt' jest obecny - nadpisujemy zawartość\n",
    "\n",
    "tekst = \"\"\"Gdyż każdy lek niewłaściwie stosowany \n",
    "Zagraża twojemu zdrowiu \n",
    "Każdy lek niewłaściwie stosowany \n",
    "Zagraża twojemu zdrowiu\n",
    "\"\"\"\n",
    "\n",
    "with open('piwko.txt', 'w') as plik:\n",
    "    plik.write(tekst)"
   ]
  },
  {
   "cell_type": "code",
   "execution_count": 20,
   "metadata": {},
   "outputs": [
    {
     "name": "stdout",
     "output_type": "stream",
     "text": [
      "Gdyż każdy lek niewłaściwie stosowany \n",
      "Zagraża twojemu zdrowiu \n",
      "Każdy lek niewłaściwie stosowany \n",
      "Zagraża twojemu zdrowiu\n"
     ]
    }
   ],
   "source": [
    "%%bash \n",
    "cat piwko.txt"
   ]
  },
  {
   "cell_type": "markdown",
   "metadata": {},
   "source": [
    "Drugą opcją jest użycie trybu `mode='a'` (append) po to aby nie nadpisywać zawartości plików, a raczej dodawać zawartość na końcu pliku."
   ]
  },
  {
   "cell_type": "code",
   "execution_count": 17,
   "metadata": {},
   "outputs": [],
   "source": [
    "# nie mamy pliku 'piwko.txt'\n",
    "\n",
    "tekst = \"\"\"Lekiem na kaca jest piwko \n",
    "Pierwsze, drugie, trzecie \n",
    "Ale czwarte, piąte i szóste \n",
    "To już raczej bardziej zmuli\n",
    "\"\"\"\n",
    "\n",
    "with open('piwko.txt', 'w') as plik:\n",
    "    plik.write(tekst)\n",
    "    \n",
    "    \n",
    "tekst = \"\"\"Gdyż każdy lek niewłaściwie stosowany \n",
    "Zagraża twojemu zdrowiu \n",
    "Każdy lek niewłaściwie stosowany \n",
    "Zagraża twojemu zdrowiu\n",
    "\"\"\"\n",
    "\n",
    "with open('piwko.txt', 'a') as plik:\n",
    "    plik.write(tekst)"
   ]
  },
  {
   "cell_type": "code",
   "execution_count": 18,
   "metadata": {},
   "outputs": [
    {
     "name": "stdout",
     "output_type": "stream",
     "text": [
      "Lekiem na kaca jest piwko \n",
      "Pierwsze, drugie, trzecie \n",
      "Ale czwarte, piąte i szóste \n",
      "To już raczej bardziej zmuli\n",
      "Gdyż Lek niewłaściwie stosowany \n",
      "Zagraża twojemu zdrowiu \n",
      "Każdy Lek niewłaściwie stosowany \n",
      "Zagraża twojemu zdrowiu\n"
     ]
    }
   ],
   "source": [
    "%%bash \n",
    "cat piwko.txt"
   ]
  },
  {
   "cell_type": "markdown",
   "metadata": {},
   "source": [
    "### Ćwiczenie 3\n",
    "Bazując na kodzie z ćwiczenia nr 2, zapisz do pliku w kolejności malejącej wyniki analizy ilości słów w wybranej piosence, najlepiej w formie zgodnej z plikami CSV.\n",
    "\n",
    "```\n",
    "#slowo,ilość\n",
    "the,17\n",
    "and,13\n",
    "a,8\n",
    "you,8\n",
    "on,7\n",
    "of,6\n",
    "i,6\n",
    "these,5\n",
    "are,5\n",
    "pros,5\n",
    "```"
   ]
  },
  {
   "cell_type": "code",
   "execution_count": 54,
   "metadata": {},
   "outputs": [
    {
     "name": "stdout",
     "output_type": "stream",
     "text": [
      "#slowo,ilość\n",
      "the,17\n",
      "and,13\n",
      "a,8\n",
      "you,8\n",
      "on,7\n",
      "of,6\n",
      "i,6\n",
      "these,5\n",
      "are,5\n",
      "pros,5\n"
     ]
    }
   ],
   "source": [
    "# to już dowolnie...\n",
    "# maks = max(d.keys(), key=len)\n",
    "# for key, val in sorted(d.items(), key=lambda x: x[1], reverse=True)[:10]:\n",
    "#     print(key + ' '*(len(maks)-len(key)), \"*\" * val)\n",
    "\n",
    "print(\"#slowo\", \"ilość\", sep=',')\n",
    "for key, val in sorted(dwaters.items(), key=lambda x: x[1], reverse=True)[:10]:\n",
    "    print(key, val, sep=',')"
   ]
  },
  {
   "cell_type": "markdown",
   "metadata": {},
   "source": [
    "### tryb binarny\n",
    "W prosty sposób możemy również pracować na plikach binarnych. W wielkim skrócie - to takie pliki, które nie są tekstowe ;) Aby stworzyć uchwyt w trybie binarnym, należy użyć trybu `mode='br'`, co otworzy binarny plik do czytania, natomiast tryb `mode='bw'` utworzy uchwyt do pliku binarnego do piasania, no i oczywiście `mode='ba'` do nadpisywania. Nie ma znaczenia czy napiszemy `br` czy `rb`, ake nie możemy podać samego `b`."
   ]
  },
  {
   "cell_type": "code",
   "execution_count": 110,
   "metadata": {},
   "outputs": [],
   "source": [
    "with open('binarka.bin', 'wb') as plikbin:\n",
    "    plikbin.write(b\"napis, ale binarnie\")"
   ]
  },
  {
   "cell_type": "code",
   "execution_count": 51,
   "metadata": {},
   "outputs": [
    {
     "data": {
      "text/plain": [
       "b'\\x89PNG\\r\\n\\x1a\\n\\x00\\x00'"
      ]
     },
     "execution_count": 51,
     "metadata": {},
     "output_type": "execute_result"
    }
   ],
   "source": [
    "with open('python.png', 'br') as pythonfile:\n",
    "    pf = pythonfile.read()\n",
    "pf[:10]"
   ]
  },
  {
   "cell_type": "code",
   "execution_count": null,
   "metadata": {},
   "outputs": [],
   "source": []
  },
  {
   "cell_type": "code",
   "execution_count": null,
   "metadata": {},
   "outputs": [],
   "source": []
  },
  {
   "cell_type": "markdown",
   "metadata": {},
   "source": [
    "## część 2 - pickle\n",
    "W Pythonie mamy możliwość zapisywania do pliku kompletnego stanu danego obiektu, co może ułatwić życie w czasie. Służy do tego peklowanie. Jest to przykład **serializacji** - procesu przekształcania obiektów, tj. instancji określonych klas, do postaci szeregowej, czyli w strumień bajtów, z zachowaniem aktualnego stanu obiektu (za Wiki). Typowym rozszerzeniem dla plików po peklowaniu jest proste `*.p`. Aby móc peklować obiekty, musimy zaimportować odpowiedni moduł\n",
    "\n",
    "```import pickle```\n",
    "\n",
    "Do zapisywania obiektów na dysku w postaci plików 'p' złuży metoda `dump`, pobiera ona 2 argumenty - obiekt, który chcemy zapisać oraz uchwyt otwarty do zapisywania w trybie binarnym."
   ]
  },
  {
   "cell_type": "code",
   "execution_count": 55,
   "metadata": {},
   "outputs": [],
   "source": [
    "import pickle\n",
    "with open('waters_501am.p', 'wb') as file:\n",
    "    pickle.dump(dwaters, file)"
   ]
  },
  {
   "cell_type": "markdown",
   "metadata": {},
   "source": [
    "Aby pobrać obiekt musimy użyć komendy `load`..."
   ]
  },
  {
   "cell_type": "code",
   "execution_count": 61,
   "metadata": {},
   "outputs": [],
   "source": [
    "with open('waters_501am.p', 'rb') as file:\n",
    "    slownik_waters_501am = pickle.load(file)"
   ]
  },
  {
   "cell_type": "code",
   "execution_count": 62,
   "metadata": {},
   "outputs": [
    {
     "data": {
      "text/plain": [
       "True"
      ]
     },
     "execution_count": 62,
     "metadata": {},
     "output_type": "execute_result"
    }
   ],
   "source": [
    "slownik_waters_501am == dwaters"
   ]
  },
  {
   "cell_type": "markdown",
   "metadata": {},
   "source": [
    "### Ćwiczenie 4\n",
    "Zapekluj swój własny słownik ze statystyką wyrazów tekstu wybranej piosenki."
   ]
  },
  {
   "cell_type": "code",
   "execution_count": null,
   "metadata": {},
   "outputs": [],
   "source": []
  },
  {
   "cell_type": "markdown",
   "metadata": {},
   "source": [
    "Na koniec tej części taka krótka uwaga. Można oczywiście peklować (i czytać) na szybko, w 1 linijce, za pomocą"
   ]
  },
  {
   "cell_type": "code",
   "execution_count": 64,
   "metadata": {},
   "outputs": [
    {
     "data": {
      "text/plain": [
       "True"
      ]
     },
     "execution_count": 64,
     "metadata": {},
     "output_type": "execute_result"
    }
   ],
   "source": [
    "buf = pickle.load(open('waters_501am.p', 'rb'))\n",
    "buf == dwaters"
   ]
  },
  {
   "cell_type": "markdown",
   "metadata": {},
   "source": [
    "...ale pozostawia to niezamknięty uchwyt do pliku. Komputer co prawda nie wybuchnie, i w momencie wyjścia z shella wszystko się posprząta, ale nie polecam takich rozwiązań."
   ]
  },
  {
   "cell_type": "code",
   "execution_count": null,
   "metadata": {},
   "outputs": [],
   "source": []
  },
  {
   "cell_type": "markdown",
   "metadata": {},
   "source": [
    "## część 3: Przykład operacji na plikach - grafika rastrowa\n",
    "\n",
    "Nie wiadomo ile zejdzie czasu na to co było powyżej, ale jeżeli tylko się uda to jest to całkiem niezły przykład na czytanie / zapisywanie do plików. Będziemy tworzyć program przekształcający napisy na pliki graficzne. \n",
    "\n",
    "Wiki mówi nam, że\n",
    "\n",
    "> **Grafika rastrowa** (potocznie bitmapa) – prezentacja obrazu za pomocą matrycy punktów w postaci prostokątnej siatki odpowiednio kolorowanych pikseli na monitorze komputera, drukarce lub innym urządzeniu wyjściowym. W systemach komputerowych grafika rastrowa jest przechowywana w sposób skompresowany (stratnie lub bezstratnie) albo nieskompresowany w wielu formatach plików graficznych.\n",
    "\n",
    "Jednym z najprostszych formatów, które odpowiadają takiej definicji, jest format graficzny PBM (portable bitmap format). W zasadzie jest to plik tekstowy, który w miejscach, gdzie powinien być interpretowany jako kolor czarny ma liczbę `1` a tam gdzie ma być biały, liczbę `0`. W takim wypadku, aby stworzyć plik, w którym jest czarny okrąg, trzeba by do pliku o rozszerzeniu `pbm` wpisać początkową sygnaturę pliku `P1`, ilość kolumn i wierszy oraz sam okrąg w ASCII-art\n",
    "\n",
    "```\n",
    "P1\n",
    "8 8\n",
    "00000000\n",
    "00011000\n",
    "00100100\n",
    "01000010\n",
    "01000010\n",
    "00100100\n",
    "00011000\n",
    "00000000\n",
    "```\n",
    "\n",
    "Pomiędzy liczbami `01` można dać spacje, co oznacza, że powyższe i poniższ kółko to dokładnie to samo...\n",
    "\n",
    "```\n",
    "P1\n",
    "8 8\n",
    "0 0 0 0 0 0 0 0\n",
    "0 0 0 1 1 0 0 0\n",
    "0 0 1 0 0 1 0 0\n",
    "0 1 0 0 0 0 1 0\n",
    "0 1 0 0 0 0 1 0\n",
    "0 0 1 0 0 1 0 0\n",
    "0 0 0 1 1 0 0 0\n",
    "0 0 0 0 0 0 0 0\n",
    "```\n",
    "\n",
    "Ta pierwsza linijka to tzw: magick number, czyli sygnatura pliku identyfikująca jego własności i strukturę, dzięki niej programy komputerowe wiedzą jak interpretować różne pliki. Spróbujmy..."
   ]
  },
  {
   "cell_type": "code",
   "execution_count": 72,
   "metadata": {},
   "outputs": [],
   "source": [
    "okrag = \"\"\"P1\n",
    "# przyklad okregu\n",
    "8 8\n",
    "00000000\n",
    "00011000\n",
    "00100100\n",
    "01000010\n",
    "01000010\n",
    "00100100\n",
    "00011000\n",
    "00000000\n",
    "\"\"\"\n",
    "\n",
    "with open('okrag.pbm', 'w') as ofile:\n",
    "    ofile.write(okrag)"
   ]
  },
  {
   "cell_type": "markdown",
   "metadata": {},
   "source": [
    "zerknijcie do katalogu... Żeby zobaczyć, że to prawdziwy plik rastrowy, możecie obejrzeć go w dowolnym programie graficznym. Nie będzie to za duże kółko, nawet wcale nie będzie to kółko, ale choć ciut będzie przypominać...\n",
    "\n",
    "Co ciekawe - struktura zer i jedynek może być płaska, wystarczy, że zadbamy o dwie liczby w linii trzeciej (ilość kolumn i wierszy)"
   ]
  },
  {
   "cell_type": "code",
   "execution_count": 109,
   "metadata": {},
   "outputs": [],
   "source": [
    "okrag = \"\"\"P1\n",
    "# przyklad okregu\n",
    "8 8\n",
    "0000000000011000001001000100001001000010001001000001100000000000\"\"\"\n",
    "\n",
    "with open('okrag_plaski.pbm', 'w') as ofile:\n",
    "    ofile.write(okrag)"
   ]
  },
  {
   "cell_type": "code",
   "execution_count": null,
   "metadata": {},
   "outputs": [],
   "source": []
  },
  {
   "cell_type": "markdown",
   "metadata": {},
   "source": [
    "### Ćwiczenie 5\n",
    "Opracujcie wspólnie nastepujące literki: `['a', 'k', 'l', 'm', 'o', 't']`. Wpiszcie je od razu do plików (lub podobnie jak powyżej/poniżej). Odpowiednie pliki powinny się nazywać tak jak literki. Każdy student - jedna literka. Są też w komórce poniżej, ale lepiej dać się wykazać studentom, niech się pobawią w ASCII-art...\n",
    "\n",
    "Uwaga: najlepiej ustalić odgórnie ilość kolumn, ale w szczególności wierszy... Proponuję 12 wierszy, a ilość kolumn to zależy od szerokości literki."
   ]
  },
  {
   "cell_type": "code",
   "execution_count": 106,
   "metadata": {},
   "outputs": [],
   "source": [
    "a = \"\"\"P1\n",
    "# a\n",
    "8 12\n",
    "00000000\n",
    "00000000\n",
    "00000000\n",
    "00000000\n",
    "00111000\n",
    "01000100\n",
    "00000100\n",
    "00111000\n",
    "01000100\n",
    "01000100\n",
    "00111010\n",
    "00000000\n",
    "\"\"\"\n",
    "\n",
    "with open('a.pbm', 'w') as ofile:\n",
    "    ofile.write(a)\n",
    "    \n",
    "t = \"\"\"P1\n",
    "# t\n",
    "7 12\n",
    "0000000\n",
    "0010000\n",
    "0010000\n",
    "0111000\n",
    "0010000\n",
    "0010000\n",
    "0010000\n",
    "0010000\n",
    "0010000\n",
    "0010000\n",
    "0001110\n",
    "0000000\n",
    "\"\"\"\n",
    "\n",
    "with open('t.pbm', 'w') as ofile:\n",
    "    ofile.write(t)\n",
    "    \n",
    "k = \"\"\"P1\n",
    "# k\n",
    "7 12\n",
    "0000000\n",
    "0010000\n",
    "0010000\n",
    "0010000\n",
    "0010010\n",
    "0010100\n",
    "0011000\n",
    "0010000\n",
    "0011000\n",
    "0010100\n",
    "0010010\n",
    "0000000\n",
    "\"\"\"\n",
    "\n",
    "with open('k.pbm', 'w') as ofile:\n",
    "    ofile.write(k)\n",
    "    \n",
    "l = \"\"\"P1\n",
    "# l\n",
    "9 12\n",
    "0000000\n",
    "0010000\n",
    "0010000\n",
    "0010000\n",
    "0010000\n",
    "0010000\n",
    "0010000\n",
    "0010000\n",
    "0010000\n",
    "0010000\n",
    "0001110\n",
    "0000000\n",
    "\"\"\"\n",
    "\n",
    "with open('l.pbm', 'w') as ofile:\n",
    "    ofile.write(l)\n",
    "    \n",
    "o = \"\"\"P1\n",
    "# o\n",
    "9 12\n",
    "000000000\n",
    "000000000\n",
    "000000000\n",
    "000000000\n",
    "000111000\n",
    "001000100\n",
    "010000010\n",
    "010000010\n",
    "010000010\n",
    "001000100\n",
    "000111000\n",
    "000000000\n",
    "\"\"\"\n",
    "\n",
    "with open('o.pbm', 'w') as ofile:\n",
    "    ofile.write(o)\n",
    "    \n",
    "m = \"\"\"P1\n",
    "# m\n",
    "11 12\n",
    "00000000000\n",
    "00000000000\n",
    "00000000000\n",
    "00000000000\n",
    "01011011000\n",
    "00100100100\n",
    "00100100100\n",
    "00100100100\n",
    "00100100100\n",
    "00100100100\n",
    "00100100010\n",
    "00000000000\n",
    "\"\"\"\n",
    "\n",
    "with open('m.pbm', 'w') as ofile:\n",
    "    ofile.write(m)\n",
    "    \n",
    "space = \"\"\"P1\n",
    "# space\n",
    "4 12\n",
    "0000\n",
    "0000\n",
    "0000\n",
    "0000\n",
    "0000\n",
    "0000\n",
    "0000\n",
    "0000\n",
    "0000\n",
    "0000\n",
    "0000\n",
    "0000\n",
    "\"\"\"\n",
    "\n",
    "with open('space.pbm', 'w') as ofile:\n",
    "    ofile.write(space)"
   ]
  },
  {
   "cell_type": "markdown",
   "metadata": {},
   "source": [
    "### Ćwiczenie 6\n",
    "Bazując na literkach składowych zbuduj napis \"ala ma kota\" w postaci graficznego pliku rastrowego 'ala_ma_kota.pbm'. "
   ]
  },
  {
   "cell_type": "code",
   "execution_count": 108,
   "metadata": {},
   "outputs": [],
   "source": [
    "def get_nth_line(handle, n):\n",
    "    for i in range(n):\n",
    "        ret = handle.readline().strip()\n",
    "    return ret\n",
    "\n",
    "\n",
    "napis = 'ala ma kota'\n",
    "wiersze = 12\n",
    "dlugosc = 0\n",
    "\n",
    "napis_pbm = ''\n",
    "\n",
    "start = 4  # 1, 2, 3 to P1, hasz i wymiary\n",
    "\n",
    "# zaczynamy linia po linii\n",
    "for i in range(start, start + wiersze + 1):\n",
    "    \n",
    "    # sklejamy i-tą linię litery\n",
    "    # dla wszystkich literek napisu \n",
    "    line = ''\n",
    "    for letter in napis:\n",
    "        if letter == ' ':\n",
    "            letter = 'space'\n",
    "            \n",
    "        with open(letter + '.pbm') as l:\n",
    "            line += get_nth_line(l, i)\n",
    "            \n",
    "    napis_pbm += line\n",
    "    \n",
    "    if i == start:\n",
    "        dlugosc += len(line)\n",
    "\n",
    "\n",
    "with open(napis.replace(' ', '_') + '.pbm', 'w') as ala:\n",
    "    ala.write(f'P1\\n{dlugosc} 12\\n')\n",
    "    ala.write(napis_pbm)"
   ]
  },
  {
   "cell_type": "markdown",
   "metadata": {},
   "source": [
    "Tyle na te zajęcia. W pracy domowej więcej o standardzie *Netpbm* w pracy domowej."
   ]
  },
  {
   "cell_type": "code",
   "execution_count": null,
   "metadata": {},
   "outputs": [],
   "source": []
  }
 ],
 "metadata": {
  "kernelspec": {
   "display_name": "Python 3",
   "language": "python",
   "name": "python3"
  },
  "language_info": {
   "codemirror_mode": {
    "name": "ipython",
    "version": 3
   },
   "file_extension": ".py",
   "mimetype": "text/x-python",
   "name": "python",
   "nbconvert_exporter": "python",
   "pygments_lexer": "ipython3",
   "version": "3.7.3"
  }
 },
 "nbformat": 4,
 "nbformat_minor": 2
}
