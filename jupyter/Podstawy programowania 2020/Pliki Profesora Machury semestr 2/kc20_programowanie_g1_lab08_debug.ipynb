{
 "cells": [
  {
   "cell_type": "markdown",
   "metadata": {
    "id": "6lVn3mLVNc7H"
   },
   "source": [
    "# KC, Programowanie, lab 8\n",
    "## Debug, cz 2\n"
   ]
  },
  {
   "cell_type": "markdown",
   "metadata": {
    "id": "PvVSdXf9Nc7N"
   },
   "source": [
    "### Ćwiczenie X\n",
    "Proszę grupowo napisać program, który będzie grał w **Wisielca** tak dobrze, jak to tylko możliwe.\n",
    "\n",
    "0. Zaczynamy od przedyskutowanie problemu -> tworzymy projekt gry, razem na meet (wszyscy mikrofony, jedna osoba notuje)\n",
    "1. Piszemy moduł z potrzebnymi funkcjami, potem tylko `import wisielec` i `wisielec.wisielec()`. Dzielimy odpowiedzialność. Używamy dekompozycji, nawet do przesady - obowiązuje **zasada pojedynczej odpowiedzialności**.\n",
    "2. Budujemy testy od razu w `docstring`-ach. Testujemy przyrostowo!\n",
    "3. Budujemy duże testy samej gry (np. błędne dane WE).\n",
    "\n",
    "Można zacząć na zajęciach a skończyć w domu (jako projekt). Potem już tylko pozostaje sobie pograć... "
   ]
  },
  {
   "cell_type": "code",
   "execution_count": null,
   "metadata": {
    "id": "em8LrZPzNc7O"
   },
   "outputs": [],
   "source": [
    ""
   ]
  },
  {
   "cell_type": "code",
   "execution_count": null,
   "metadata": {
    "id": "OM5KKQA4Nc7O"
   },
   "outputs": [],
   "source": [
    "import pdb"
   ]
  },
  {
   "cell_type": "code",
   "execution_count": null,
   "metadata": {
    "id": "kKV5yCpcNc7P"
   },
   "outputs": [],
   "source": [
    "# help(pdb)"
   ]
  },
  {
   "cell_type": "code",
   "execution_count": null,
   "metadata": {
    "id": "Dc62J9UXNc7P"
   },
   "outputs": [],
   "source": [
    ""
   ]
  },
  {
   "cell_type": "code",
   "execution_count": null,
   "metadata": {
    "id": "hHxnlxZ4Nc7P",
    "outputId": "aef69a40-2bd4-4299-a4e5-ad932523cc40"
   },
   "outputs": [
    {
     "name": "stdout",
     "output_type": "stream",
     "text": [
      "--Return--\n",
      "> <ipython-input-9-36d2482f10f3>(2)<module>()->None\n",
      "-> import pdb; pdb.set_trace()\n",
      "(Pdb) c\n"
     ]
    }
   ],
   "source": [
    "# P2, P3\n",
    "x = 3\n",
    "import pdb; pdb.set_trace()\n",
    "x += 4"
   ]
  },
  {
   "cell_type": "code",
   "execution_count": null,
   "metadata": {
    "id": "XkenBYwKNc7Q",
    "outputId": "97c1238c-ca18-4194-fb2a-45c5755957ef"
   },
   "outputs": [
    {
     "name": "stdout",
     "output_type": "stream",
     "text": [
      "--Return--\n",
      "> <ipython-input-12-4355f7197746>(2)<module>()->None\n",
      "-> breakpoint()\n",
      "(Pdb) p x\n",
      "3\n",
      "(Pdb) c\n"
     ]
    }
   ],
   "source": [
    "x = 3\n",
    "breakpoint()\n",
    "x += 4"
   ]
  },
  {
   "cell_type": "code",
   "execution_count": null,
   "metadata": {
    "id": "5L-q86q1Nc7R",
    "outputId": "eb7c394b-fcf2-47f4-8899-7b3677a76989",
    "scrolled": false
   },
   "outputs": [
    {
     "name": "stdout",
     "output_type": "stream",
     "text": [
      "--Return--\n",
      "> <ipython-input-14-f145fb02aede>(2)<module>()->None\n",
      "-> breakpoint()\n",
      "(Pdb) p filename\n",
      "'./ex1.py'\n",
      "(Pdb) print(filename)\n",
      "./ex1.py\n",
      "(Pdb) h\n",
      "\n",
      "Documented commands (type help <topic>):\n",
      "========================================\n",
      "EOF    c          d        h         list      q        rv       undisplay\n",
      "a      cl         debug    help      ll        quit     s        unt      \n",
      "alias  clear      disable  ignore    longlist  r        source   until    \n",
      "args   commands   display  interact  n         restart  step     up       \n",
      "b      condition  down     j         next      return   tbreak   w        \n",
      "break  cont       enable   jump      p         retval   u        whatis   \n",
      "bt     continue   exit     l         pp        run      unalias  where    \n",
      "\n",
      "Miscellaneous help topics:\n",
      "==========================\n",
      "exec  pdb\n",
      "\n",
      "(Pdb) pp filename\n",
      "'./ex1.py'\n",
      "(Pdb) cont\n",
      "path = ./ex1.py\n"
     ]
    }
   ],
   "source": [
    "filename = './ex1.py'\n",
    "breakpoint()\n",
    "print(f'path = {filename}')"
   ]
  },
  {
   "cell_type": "markdown",
   "metadata": {
    "id": "qgJTPYPeNc7R"
   },
   "source": [
    "### Ćwiczenie 2: \n",
    "Przepisz powyższy prosty kod, wyświetl zmienną `filename` i dokończ interpretecję za pomocą `c`."
   ]
  },
  {
   "cell_type": "code",
   "execution_count": null,
   "metadata": {
    "id": "3k_6-SwQNc7R"
   },
   "outputs": [],
   "source": [
    ""
   ]
  },
  {
   "cell_type": "markdown",
   "metadata": {
    "id": "zzb5tIHDNc7R"
   },
   "source": [
    "### Ćwiczenie 6: zdebuguj program, który powinien obliczać sumę 3 podanych liczb."
   ]
  },
  {
   "cell_type": "code",
   "execution_count": null,
   "metadata": {
    "id": "bezQS3l_Nc7S",
    "outputId": "13beb2c9-2d3f-43ee-9bcc-b13a833aa7d8"
   },
   "outputs": [
    {
     "name": "stdout",
     "output_type": "stream",
     "text": [
      "Podaj pierwszą liczbę do dodania:\n",
      "2\n",
      "Podaj drugą liczbę do dodania:\n",
      "3\n",
      "Podaj trzecią liczbę do dodania:\n",
      "4\n",
      "Suma wynosi  9.0\n"
     ]
    }
   ],
   "source": [
    "print('Podaj pierwszą liczbę do dodania:')\n",
    "first = float(input())\n",
    "# breakpoint()\n",
    "print('Podaj drugą liczbę do dodania:')\n",
    "second = float(input())\n",
    "print('Podaj trzecią liczbę do dodania:')\n",
    "third = float(input())\n",
    "suma = first + second + third\n",
    "print('Suma wynosi ', suma)"
   ]
  },
  {
   "cell_type": "code",
   "execution_count": null,
   "metadata": {
    "id": "HWbgRFS0Nc7S",
    "outputId": "5a05c756-44ce-43f7-a764-70bbc59d5a18"
   },
   "outputs": [
    {
     "name": "stdout",
     "output_type": "stream",
     "text": [
      "/home/users/lukasz.machura/uni/kc/Programowanie/kc_p_lab07_debug_pdb\n"
     ]
    }
   ],
   "source": [
    "%%bash \n",
    "# cat lab7.py\n",
    "pwd"
   ]
  },
  {
   "cell_type": "code",
   "execution_count": null,
   "metadata": {
    "id": "-6C43NiTNc7S",
    "outputId": "29429384-78d1-4515-f997-137fa481eec2",
    "scrolled": false
   },
   "outputs": [
    {
     "name": "stdout",
     "output_type": "stream",
     "text": [
      "--Return--\n",
      "> <ipython-input-25-bd254663e8f4>(4)<module>()->None\n",
      "-> breakpoint()\n",
      "(Pdb) b\n",
      "(Pdb) b lab7.get_path\n",
      "Breakpoint 3 at /home/users/lukasz.machura/uni/kc/Programowanie/kc_p_lab07_debug_pdb/lab7.py:1\n",
      "(Pdb) b\n",
      "Num Type         Disp Enb   Where\n",
      "1   breakpoint   keep yes   at /home/users/lukasz.machura/uni/kc/Programowanie/kc_p_lab07_debug_pdb/lab7.py:5\n",
      "\tbreakpoint already hit 1 time\n",
      "2   breakpoint   keep yes   at /home/users/lukasz.machura/uni/kc/Programowanie/kc_p_lab07_debug_pdb/lab7.py:1\n",
      "\tbreakpoint already hit 1 time\n",
      "3   breakpoint   keep yes   at /home/users/lukasz.machura/uni/kc/Programowanie/kc_p_lab07_debug_pdb/lab7.py:1\n",
      "(Pdb) disable 1\n",
      "Disabled breakpoint 1 at /home/users/lukasz.machura/uni/kc/Programowanie/kc_p_lab07_debug_pdb/lab7.py:5\n",
      "(Pdb) b\n",
      "Num Type         Disp Enb   Where\n",
      "1   breakpoint   keep no    at /home/users/lukasz.machura/uni/kc/Programowanie/kc_p_lab07_debug_pdb/lab7.py:5\n",
      "\tbreakpoint already hit 1 time\n",
      "2   breakpoint   keep yes   at /home/users/lukasz.machura/uni/kc/Programowanie/kc_p_lab07_debug_pdb/lab7.py:1\n",
      "\tbreakpoint already hit 1 time\n",
      "3   breakpoint   keep yes   at /home/users/lukasz.machura/uni/kc/Programowanie/kc_p_lab07_debug_pdb/lab7.py:1\n",
      "(Pdb) cl 2\n",
      "Deleted breakpoint 2 at /home/users/lukasz.machura/uni/kc/Programowanie/kc_p_lab07_debug_pdb/lab7.py:1\n",
      "(Pdb) b\n",
      "Num Type         Disp Enb   Where\n",
      "1   breakpoint   keep no    at /home/users/lukasz.machura/uni/kc/Programowanie/kc_p_lab07_debug_pdb/lab7.py:5\n",
      "\tbreakpoint already hit 1 time\n",
      "3   breakpoint   keep yes   at /home/users/lukasz.machura/uni/kc/Programowanie/kc_p_lab07_debug_pdb/lab7.py:1\n",
      "(Pdb) c\n",
      "> /home/users/lukasz.machura/uni/kc/Programowanie/kc_p_lab07_debug_pdb/lab7.py(3)get_path()\n",
      "-> import os\n",
      "(Pdb) ll\n",
      "  1 B\tdef get_path(filename):\n",
      "  2  \t    \"\"\"Return file's path or empty string if no path.\"\"\"\n",
      "  3  ->\t    import os\n",
      "  4  \t    head, tail = os.path.split(filename)\n",
      "  5  \t    return head\n",
      "(Pdb) n\n",
      "> /home/users/lukasz.machura/uni/kc/Programowanie/kc_p_lab07_debug_pdb/lab7.py(4)get_path()\n",
      "-> head, tail = os.path.split(filename)\n",
      "(Pdb) n\n",
      "> /home/users/lukasz.machura/uni/kc/Programowanie/kc_p_lab07_debug_pdb/lab7.py(5)get_path()\n",
      "-> return head\n",
      "(Pdb) n\n",
      "--Return--\n",
      "> /home/users/lukasz.machura/uni/kc/Programowanie/kc_p_lab07_debug_pdb/lab7.py(5)get_path()->'.'\n",
      "-> return head\n",
      "(Pdb) ll\n",
      "  1 B\tdef get_path(filename):\n",
      "  2  \t    \"\"\"Return file's path or empty string if no path.\"\"\"\n",
      "  3  \t    import os\n",
      "  4  \t    head, tail = os.path.split(filename)\n",
      "  5  ->\t    return head\n",
      "(Pdb) n\n",
      "> /opt/conda/lib/python3.7/site-packages/IPython/core/interactiveshell.py(3241)run_ast_nodes()\n",
      "-> for node,mode in to_run:\n",
      "(Pdb) c\n",
      "path = .\n"
     ]
    }
   ],
   "source": [
    "import lab7 \n",
    "\n",
    "filename = './ex4.py'\n",
    "breakpoint()\n",
    "filename_path = lab7.get_path(filename)\n",
    "print(f'path = {filename_path}')"
   ]
  },
  {
   "cell_type": "code",
   "execution_count": null,
   "metadata": {
    "id": "bLSWlvBMNc7T"
   },
   "outputs": [],
   "source": [
    ""
   ]
  }
 ],
 "metadata": {
  "colab": {
   "name": "kc20_programowanie_g1_lab08.ipynb",
   "provenance": []
  },
  "kernelspec": {
   "display_name": "Python 3",
   "language": "python",
   "name": "python3"
  },
  "language_info": {
   "codemirror_mode": {
    "name": "ipython",
    "version": 3
   },
   "file_extension": ".py",
   "mimetype": "text/x-python",
   "name": "python",
   "nbconvert_exporter": "python",
   "pygments_lexer": "ipython3",
   "version": "3.7.3"
  }
 },
 "nbformat": 4,
 "nbformat_minor": 0
}
