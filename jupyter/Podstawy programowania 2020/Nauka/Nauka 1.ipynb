{
 "cells": [
  {
   "cell_type": "markdown",
   "metadata": {},
   "source": [
    "## 1\n",
    "Wypisz liczby od 1 do 100, przy czym liczby podzielne przez 3 zastąp słowem ‘Fizz’, liczby podzielne przez 5, zastąp słowem ‘Buzz’, natomiast liczby podzielne i przez 3 i przez 5 zastąp słowem ‘FizzBuzz’."
   ]
  },
  {
   "cell_type": "code",
   "execution_count": 67,
   "metadata": {},
   "outputs": [
    {
     "name": "stdout",
     "output_type": "stream",
     "text": [
      "1\n",
      "2\n",
      "Fizz\n",
      "4\n",
      "Buzz\n",
      "Fizz\n",
      "7\n",
      "8\n",
      "Fizz\n",
      "Buzz\n",
      "11\n",
      "Fizz\n",
      "13\n",
      "14\n",
      "FizzBuzz\n",
      "16\n",
      "17\n",
      "Fizz\n",
      "19\n",
      "Buzz\n",
      "Fizz\n",
      "22\n",
      "23\n",
      "Fizz\n",
      "Buzz\n",
      "26\n",
      "Fizz\n",
      "28\n",
      "29\n",
      "FizzBuzz\n",
      "31\n",
      "32\n",
      "Fizz\n",
      "34\n",
      "Buzz\n",
      "Fizz\n",
      "37\n",
      "38\n",
      "Fizz\n",
      "Buzz\n",
      "41\n",
      "Fizz\n",
      "43\n",
      "44\n",
      "FizzBuzz\n",
      "46\n",
      "47\n",
      "Fizz\n",
      "49\n",
      "Buzz\n",
      "Fizz\n",
      "52\n",
      "53\n",
      "Fizz\n",
      "Buzz\n",
      "56\n",
      "Fizz\n",
      "58\n",
      "59\n",
      "FizzBuzz\n",
      "61\n",
      "62\n",
      "Fizz\n",
      "64\n",
      "Buzz\n",
      "Fizz\n",
      "67\n",
      "68\n",
      "Fizz\n",
      "Buzz\n",
      "71\n",
      "Fizz\n",
      "73\n",
      "74\n",
      "FizzBuzz\n",
      "76\n",
      "77\n",
      "Fizz\n",
      "79\n",
      "Buzz\n",
      "Fizz\n",
      "82\n",
      "83\n",
      "Fizz\n",
      "Buzz\n",
      "86\n",
      "Fizz\n",
      "88\n",
      "89\n",
      "FizzBuzz\n",
      "91\n",
      "92\n",
      "Fizz\n",
      "94\n",
      "Buzz\n",
      "Fizz\n",
      "97\n",
      "98\n",
      "Fizz\n",
      "Buzz\n"
     ]
    }
   ],
   "source": [
    "start = 1\n",
    "stop = 100\n",
    "\n",
    "while start <= stop:\n",
    "    if start % 3 == 0 and start % 5 == 0:\n",
    "        print(f\"FizzBuzz\")\n",
    "    elif start % 3 == 0:\n",
    "        print(f\"Fizz\")\n",
    "    elif start % 5 == 0:\n",
    "        print(f\"Buzz\")\n",
    "    else:\n",
    "        print(start)\n",
    "    start += 1"
   ]
  },
  {
   "cell_type": "code",
   "execution_count": 15,
   "metadata": {},
   "outputs": [
    {
     "name": "stdout",
     "output_type": "stream",
     "text": [
      "1\n",
      "2\n",
      "Fizz\n",
      "4\n",
      "Buzz\n",
      "Fizz\n",
      "7\n",
      "8\n",
      "Fizz\n",
      "Buzz\n",
      "11\n",
      "Fizz\n",
      "13\n",
      "14\n",
      "FizzBuzz\n",
      "16\n",
      "17\n",
      "Fizz\n",
      "19\n",
      "Buzz\n",
      "Fizz\n",
      "22\n",
      "23\n",
      "Fizz\n",
      "Buzz\n",
      "26\n",
      "Fizz\n",
      "28\n",
      "29\n",
      "FizzBuzz\n",
      "31\n",
      "32\n",
      "Fizz\n",
      "34\n",
      "Buzz\n",
      "Fizz\n",
      "37\n",
      "38\n",
      "Fizz\n",
      "Buzz\n",
      "41\n",
      "Fizz\n",
      "43\n",
      "44\n",
      "FizzBuzz\n",
      "46\n",
      "47\n",
      "Fizz\n",
      "49\n",
      "Buzz\n",
      "Fizz\n",
      "52\n",
      "53\n",
      "Fizz\n",
      "Buzz\n",
      "56\n",
      "Fizz\n",
      "58\n",
      "59\n",
      "FizzBuzz\n",
      "61\n",
      "62\n",
      "Fizz\n",
      "64\n",
      "Buzz\n",
      "Fizz\n",
      "67\n",
      "68\n",
      "Fizz\n",
      "Buzz\n",
      "71\n",
      "Fizz\n",
      "73\n",
      "74\n",
      "FizzBuzz\n",
      "76\n",
      "77\n",
      "Fizz\n",
      "79\n",
      "Buzz\n",
      "Fizz\n",
      "82\n",
      "83\n",
      "Fizz\n",
      "Buzz\n",
      "86\n",
      "Fizz\n",
      "88\n",
      "89\n",
      "FizzBuzz\n",
      "91\n",
      "92\n",
      "Fizz\n",
      "94\n",
      "Buzz\n",
      "Fizz\n",
      "97\n",
      "98\n",
      "Fizz\n",
      "Buzz\n"
     ]
    }
   ],
   "source": [
    "# rozwiązanie ze strony\n",
    "\n",
    "for i in range(1,101):\n",
    "    if i % 3 == 0 and i % 5 == 0:\n",
    "        print ('FizzBuzz')\n",
    "    elif i % 3 == 0:\n",
    "        print ('Fizz')\n",
    "    elif i % 5 == 0:\n",
    "        print ('Buzz')\n",
    "    else:\n",
    "        print (i)"
   ]
  },
  {
   "cell_type": "markdown",
   "metadata": {},
   "source": [
    "## 2\n",
    "Napisz program z wykorzystaniem pętli while, który dla 10 kolejnych liczb naturalnych wyświetli sumę poprzedników.\n",
    "      Oczekiwany wynik: 1, 3, 6, 10, 15, 21, 28, 36, 45, 55"
   ]
  },
  {
   "cell_type": "code",
   "execution_count": 39,
   "metadata": {},
   "outputs": [
    {
     "name": "stdout",
     "output_type": "stream",
     "text": [
      "1\n",
      "3\n",
      "6\n",
      "10\n",
      "15\n",
      "21\n",
      "28\n",
      "36\n",
      "45\n",
      "55\n",
      "55\n"
     ]
    }
   ],
   "source": [
    "i = 1\n",
    "suma = 0\n",
    "\n",
    "while i <= 10:\n",
    "    print(i + suma)\n",
    "    suma = suma + i\n",
    "    i += 1\n",
    "    \n",
    "print(suma)"
   ]
  },
  {
   "cell_type": "markdown",
   "metadata": {},
   "source": [
    "## 3\n",
    "Write a Python program to print the following string in a specific format (see the output)."
   ]
  },
  {
   "cell_type": "code",
   "execution_count": 54,
   "metadata": {},
   "outputs": [
    {
     "name": "stdout",
     "output_type": "stream",
     "text": [
      "Twinkle, twinkle, little star, \n",
      "\tHow I wonder what you are! \n",
      "\t\tUp above the world so high, \n",
      "\t\tLike a diamond in the sky. \n",
      "Twinkle, twinkle, little star, \n",
      "\tHow I wonder what you are!\n"
     ]
    }
   ],
   "source": [
    "print(\"Twinkle, twinkle, little star, \\n\\tHow I wonder what you are! \\n\\t\\tUp above the world so high, \\n\\t\\tLike a diamond in the sky. \\nTwinkle, twinkle, little star, \\n\\tHow I wonder what you are!\")"
   ]
  },
  {
   "cell_type": "markdown",
   "metadata": {},
   "source": [
    "## 4\n",
    "Write a Python program which accepts the user's first and last name and print them in reverse order with a space between them."
   ]
  },
  {
   "cell_type": "code",
   "execution_count": 64,
   "metadata": {},
   "outputs": [
    {
     "name": "stdout",
     "output_type": "stream",
     "text": [
      "Podaj swoje imię: Paulina\n",
      "Podaj swoje nazwisko: Cwieląg\n",
      "Cwieląg Paulina\n"
     ]
    }
   ],
   "source": [
    "imie = input(f\"Podaj swoje imię: \")\n",
    "nazwisko = input(f\"Podaj swoje nazwisko: \")\n",
    "\n",
    "print(nazwisko, imie)"
   ]
  },
  {
   "cell_type": "markdown",
   "metadata": {},
   "source": [
    "## Praca domowa\n",
    "Zapoznaj się z metodami dla stringów."
   ]
  },
  {
   "cell_type": "code",
   "execution_count": 68,
   "metadata": {},
   "outputs": [],
   "source": [
    "napis = \"Lubie jesc rabarbar pozna noca\""
   ]
  },
  {
   "cell_type": "code",
   "execution_count": 69,
   "metadata": {},
   "outputs": [
    {
     "data": {
      "text/plain": [
       "30"
      ]
     },
     "execution_count": 69,
     "metadata": {},
     "output_type": "execute_result"
    }
   ],
   "source": [
    "# ilość znaków w napisie\n",
    "len(napis)"
   ]
  },
  {
   "cell_type": "code",
   "execution_count": 70,
   "metadata": {},
   "outputs": [
    {
     "name": "stdout",
     "output_type": "stream",
     "text": [
      "Lubie jesc rabarbar pozna noca, a czasami nawet nad ranem\n"
     ]
    }
   ],
   "source": [
    "# połączenie napisu z nowym napisem, dodanie ich do siebie\n",
    "napis2 = napis + \",\" + \" \" + \"a czasami nawet nad ranem\"\n",
    "print(napis2)"
   ]
  },
  {
   "cell_type": "code",
   "execution_count": 71,
   "metadata": {},
   "outputs": [
    {
     "data": {
      "text/plain": [
       "57"
      ]
     },
     "execution_count": 71,
     "metadata": {},
     "output_type": "execute_result"
    }
   ],
   "source": [
    "len(napis2)"
   ]
  },
  {
   "cell_type": "code",
   "execution_count": 75,
   "metadata": {},
   "outputs": [
    {
     "data": {
      "text/plain": [
       "'Lubie placki'"
      ]
     },
     "execution_count": 75,
     "metadata": {},
     "output_type": "execute_result"
    }
   ],
   "source": [
    "# pierwsza duża litera\n",
    "napis3 = \"lubie placki\"\n",
    "napis3.capitalize()"
   ]
  },
  {
   "cell_type": "code",
   "execution_count": 77,
   "metadata": {},
   "outputs": [
    {
     "data": {
      "text/plain": [
       "'lubie jesc rabarbar pozna noca, a czasami nawet nad ranem'"
      ]
     },
     "execution_count": 77,
     "metadata": {},
     "output_type": "execute_result"
    }
   ],
   "source": [
    "# pierwsza mała litera\n",
    "napis2.casefold()"
   ]
  },
  {
   "cell_type": "code",
   "execution_count": 104,
   "metadata": {},
   "outputs": [
    {
     "name": "stdout",
     "output_type": "stream",
     "text": [
      "OrabarbarO\n"
     ]
    }
   ],
   "source": [
    "# dodawanie po bokach literki, wypisując ją tyle razy, ile potrzeba do uzupełnienia ilości znaków\n",
    "\n",
    "napis5 = \"rabarbar\"\n",
    "\n",
    "boki = napis5.center(10, \"O\") \n",
    "\n",
    "print(boki)"
   ]
  },
  {
   "cell_type": "code",
   "execution_count": 100,
   "metadata": {},
   "outputs": [
    {
     "name": "stdout",
     "output_type": "stream",
     "text": [
      "OOOOOOrabarbarOOOOOO\n"
     ]
    }
   ],
   "source": [
    "napis5 = \"rabarbar\"\n",
    "\n",
    "x = napis5.center(20, \"O\")\n",
    "\n",
    "print(x)"
   ]
  },
  {
   "cell_type": "code",
   "execution_count": 108,
   "metadata": {},
   "outputs": [
    {
     "data": {
      "text/plain": [
       "4"
      ]
     },
     "execution_count": 108,
     "metadata": {},
     "output_type": "execute_result"
    }
   ],
   "source": [
    "# liczy ilość czegoś\n",
    "napis2.count(\"r\")"
   ]
  },
  {
   "cell_type": "code",
   "execution_count": 110,
   "metadata": {},
   "outputs": [
    {
     "data": {
      "text/plain": [
       "b'Lubie jesc rabarbar pozna noca, a czasami nawet nad ranem'"
      ]
     },
     "execution_count": 110,
     "metadata": {},
     "output_type": "execute_result"
    }
   ],
   "source": [
    "# ???\n",
    "napis2.encode()"
   ]
  },
  {
   "cell_type": "code",
   "execution_count": 115,
   "metadata": {},
   "outputs": [
    {
     "data": {
      "text/plain": [
       "False"
      ]
     },
     "execution_count": 115,
     "metadata": {},
     "output_type": "execute_result"
    }
   ],
   "source": [
    "# prawda czy fałsz; czy napis kończy się na daną literę\n",
    "napis2.endswith(\"a\")"
   ]
  },
  {
   "cell_type": "code",
   "execution_count": 116,
   "metadata": {},
   "outputs": [
    {
     "data": {
      "text/plain": [
       "True"
      ]
     },
     "execution_count": 116,
     "metadata": {},
     "output_type": "execute_result"
    }
   ],
   "source": [
    "napis2.endswith(\"m\")"
   ]
  },
  {
   "cell_type": "code",
   "execution_count": 17,
   "metadata": {},
   "outputs": [
    {
     "name": "stdout",
     "output_type": "stream",
     "text": [
      "r\n",
      "\ta\n",
      "\t\tb\n",
      "\t\t\ta\n",
      "\t\t\t\tr\n",
      "\t\t\t\t\tb\n",
      "\t\t\t\t\t\ta\n",
      "\t\t\t\t\t\t\tr\n"
     ]
    }
   ],
   "source": [
    "napis7 = \"r\\n\\ta\\n\\t\\tb\\n\\t\\t\\ta\\n\\t\\t\\t\\tr\\n\\t\\t\\t\\t\\tb\\n\\t\\t\\t\\t\\t\\ta\\n\\t\\t\\t\\t\\t\\t\\tr\"\n",
    "napis7.expandtabs(4)\n",
    "print(napis7)"
   ]
  },
  {
   "cell_type": "code",
   "execution_count": 119,
   "metadata": {},
   "outputs": [
    {
     "name": "stdout",
     "output_type": "stream",
     "text": [
      "H e l l o\n"
     ]
    }
   ],
   "source": [
    "txt = \"H\\te\\tl\\tl\\to\"\n",
    "\n",
    "x =  txt.expandtabs(2)\n",
    "\n",
    "print(x)"
   ]
  },
  {
   "cell_type": "code",
   "execution_count": null,
   "metadata": {},
   "outputs": [],
   "source": [
    "# sprawdzanie typu danych zmiennej\n",
    "\n",
    "type()"
   ]
  },
  {
   "cell_type": "code",
   "execution_count": 1,
   "metadata": {},
   "outputs": [
    {
     "name": "stdout",
     "output_type": "stream",
     "text": [
      "Wpisz przykładowe hasło: AaBbCc\n",
      "A\n",
      "B\n",
      "C\n"
     ]
    }
   ],
   "source": [
    "haslo = input(str(\"Wpisz przykładowe hasło: \"))\n",
    "znak = 0\n",
    "\n",
    "while znak < len(haslo):\n",
    "    if haslo[znak].isupper():\n",
    "        print(haslo[znak])\n",
    "    znak += 1"
   ]
  },
  {
   "cell_type": "code",
   "execution_count": 2,
   "metadata": {},
   "outputs": [
    {
     "name": "stdout",
     "output_type": "stream",
     "text": [
      "Wpisz przykładowe hasło: AaBbCc\n",
      "A\n",
      "B\n",
      "C\n"
     ]
    }
   ],
   "source": [
    "haslo = input(str(\"Wpisz przykładowe hasło: \"))\n",
    "\n",
    "for znak in haslo:\n",
    "    if znak.isupper():\n",
    "        print(znak)"
   ]
  },
  {
   "cell_type": "code",
   "execution_count": 1,
   "metadata": {},
   "outputs": [
    {
     "name": "stdout",
     "output_type": "stream",
     "text": [
      "Podaj rok, którego szukasz: 2000\n",
      "\n",
      "Osoby urodzone w roku 2000:\n",
      "Kamila Rudowicz: 10.02.2000\n",
      "\n",
      "Osoby urodzone przed rokiem 2000:\n",
      "Jan Kowalski: 13.04.1965\n",
      "Adam Nowak: 05.11.1930\n",
      "Justyna Święs: 24.01.1999\n",
      "Tomasz Dubeltówka: 17.12.1982\n",
      "Gabriel Wykidajło: 29.07.1943\n",
      "Dariusz Poncewicz: 31.05.1999\n",
      "Marcelina Musioł: 18.09.1970\n",
      "\n",
      "Osoby urodzone po roku 2000:\n",
      "Antonina Narta: 12.08.2005\n",
      "Serafina Kotarska: 22.03.2009\n",
      "Paweł Leonowicz: 09.03.2003\n",
      "Grażyna Igiełka: 01.01.2020\n"
     ]
    }
   ],
   "source": [
    "data_urodzenia = {\n",
    "        (\"Jan\", \"Kowalski\"): \"13.04.1965\",\n",
    "        (\"Adam\", \"Nowak\"): \"05.11.1930\",\n",
    "        (\"Justyna\", \"Święs\"): \"24.01.1999\",\n",
    "        (\"Antonina\", \"Narta\"): \"12.08.2005\",\n",
    "        (\"Kamila\", \"Rudowicz\"): \"10.02.2000\",\n",
    "        (\"Tomasz\", \"Dubeltówka\"): \"17.12.1982\",\n",
    "        (\"Gabriel\", \"Wykidajło\"): \"29.07.1943\",\n",
    "        (\"Serafina\", \"Kotarska\"): \"22.03.2009\",\n",
    "        (\"Dariusz\", \"Poncewicz\"): \"31.05.1999\",\n",
    "        (\"Marcelina\", \"Musioł\"): \"18.09.1970\",\n",
    "        (\"Paweł\", \"Leonowicz\"): \"09.03.2003\",\n",
    "        (\"Grażyna\", \"Igiełka\"): \"01.01.2020\"\n",
    "        }\n",
    "\n",
    "wprowadzony_rok = int(input(\"Podaj rok, którego szukasz: \"))\n",
    "\n",
    "print(f\"\\nOsoby urodzone w roku {wprowadzony_rok}:\")\n",
    "for osoba in data_urodzenia:\n",
    "    rok_urodzenia = int(data_urodzenia[osoba][-4:])\n",
    "    if wprowadzony_rok == rok_urodzenia:\n",
    "        print(f\"{osoba[0]} {osoba[1]}: {data_urodzenia[osoba]}\")\n",
    "    \n",
    "print(f\"\\nOsoby urodzone przed rokiem {wprowadzony_rok}:\") \n",
    "for osoba in data_urodzenia:\n",
    "    rok_urodzenia = int(data_urodzenia[osoba][-4:])\n",
    "    if wprowadzony_rok > rok_urodzenia:\n",
    "        print(f\"{osoba[0]} {osoba[1]}: {data_urodzenia[osoba]}\")\n",
    "\n",
    "print(f\"\\nOsoby urodzone po roku {wprowadzony_rok}:\") \n",
    "for osoba in data_urodzenia:\n",
    "    rok_urodzenia = int(data_urodzenia[osoba][-4:])\n",
    "    if wprowadzony_rok < rok_urodzenia:\n",
    "        print(f\"{osoba[0]} {osoba[1]}: {data_urodzenia[osoba]}\")"
   ]
  },
  {
   "cell_type": "code",
   "execution_count": null,
   "metadata": {},
   "outputs": [],
   "source": []
  }
 ],
 "metadata": {
  "kernelspec": {
   "display_name": "Python 3 (ipykernel)",
   "language": "python",
   "name": "python3"
  },
  "language_info": {
   "codemirror_mode": {
    "name": "ipython",
    "version": 3
   },
   "file_extension": ".py",
   "mimetype": "text/x-python",
   "name": "python",
   "nbconvert_exporter": "python",
   "pygments_lexer": "ipython3",
   "version": "3.9.5"
  }
 },
 "nbformat": 4,
 "nbformat_minor": 2
}
