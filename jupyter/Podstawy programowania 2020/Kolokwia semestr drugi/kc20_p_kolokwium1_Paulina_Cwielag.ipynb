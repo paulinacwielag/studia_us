{
 "cells": [
  {
   "cell_type": "markdown",
   "metadata": {
    "id": "ScJ3b6c5P6pP"
   },
   "source": [
    "# Komunikacja Cyfrowa, ra 2020-2021\n",
    "## Programowanie\n",
    "### Kolokwium nr 1\n",
    "\n",
    "**Reguły**\n",
    "\n",
    "1. prace są samodzielne, ale można korzystać ze swoich własnych kodów, wykładu, ćwiczeń, książek, manuali, dokumentacji, kursów, stack-a, itp…\n",
    "2. nie wolno korzystać z cudzych kodów na zasadzie copy-paste, co więcej <font color='red'>identyczne kopie kodu oceniane będą automatycznie na 0 punktów</font>; wyjątek stanowią fragmenty programów, które powstały jako Wasze prace domowe - te możecie kopiować\n",
    "\n",
    "**Uwaga 1**\n",
    "   >Przed oddaniem notebooka, warto nacisnąć `Restart` i uruchomić wszystkie komórki od nowa. Taką wersję my dostaniemy do oceny.\n",
    "\n",
    "**Uwaga 2**\n",
    "   >Warto używać porządnych nazw zmiennych i funkcji. My lubimy porządne nazwy. Nieporządne nazwy sugerują oceniającym niższą punktację..."
   ]
  },
  {
   "cell_type": "code",
   "execution_count": null,
   "metadata": {
    "id": "Q62b3kKoP6pV"
   },
   "outputs": [],
   "source": []
  },
  {
   "cell_type": "markdown",
   "metadata": {
    "id": "VNUnSsmgP6pW"
   },
   "source": [
    "### Zadanie 1. Trzy proste funkcje [30 pkt]\n",
    "\n",
    "Zaprojektuj i zaprogramuj podane poniżej 3 funkcje (po 7 pkt). Nie zapomnij o `return` (+1 pkt) i `docstring` (+2 pkt). \n",
    "\n",
    "1. `cyfra(arg)` - zwraca `True` gdy parametr `arg` jest cyfrą (lierałem liczbowym - od 0 do 9, lub ciągiem znaków - od 'zero' do 'dziewięć') lub `False` gdy nie jest; funkcja powinna być [*case insensitive*](https://pl.wikipedia.org/wiki/Case_sensitivity) - nie przejmować się wielkością znaków.\n",
    "\n",
    "2. `tekst_i_cyfry(string)` - filtruje dowolny ciąg znaków zwracając tylko litery alfabetu (polskiego), cyfry (0-9 lub 'zero' - 'dziewięć') i spacje lub pusty ciąg znaków gdy ciąg znaków nie zawiera liter/cyfr/spacji.\n",
    "\n",
    "3. `sumuj(string)` - zwraca sumę cyfr występujących w dowolnym ciągu znaków niezależnie od tego czy cyfry podane są jako cyfry arabskie (0-9) czy fonetycznie; jeżeli w parametrze `string` nie występują takie cyfry, zwraca `None`.\n"
   ]
  },
  {
   "cell_type": "code",
   "execution_count": 38,
   "metadata": {
    "id": "A5nCH6rLP6pW"
   },
   "outputs": [],
   "source": [
    "# funkcja 1\n",
    "\n",
    "def cyfra(arg):\n",
    "    '''Funkcja  zwraca True gdy parametr arg jest cyfrą (literałem liczbowym - od 0 do 9\n",
    "    lub ciągiem znaków - od 'zero' do 'dziewięć') lub False gdy nie jest.'''\n",
    "    \n",
    "    slownie = {\n",
    "        'zero': '0',\n",
    "        'jeden': '1',\n",
    "        'dwa': '2',\n",
    "        'trzy': '3',\n",
    "        'cztery': '4',\n",
    "        'pięć': '5',\n",
    "        'sześć': '6',\n",
    "        'siedem': '7',\n",
    "        'osiem': '8',\n",
    "        'dziewięć': '9'\n",
    "    }\n",
    "    if isinstance(arg, int):\n",
    "        return True\n",
    "    elif isinstance(arg, str):\n",
    "        for element in slownie:\n",
    "            if arg.lower() == element:\n",
    "                return True\n",
    "    else:\n",
    "        return False"
   ]
  },
  {
   "cell_type": "code",
   "execution_count": 39,
   "metadata": {
    "id": "ERCG_tyOP6pX"
   },
   "outputs": [],
   "source": [
    "# funkcja 2\n",
    "\n",
    "def tekst_i_cyfry(string):\n",
    "    '''Filtruje dowolny ciąg znaków zwracając tylko litery alfabetu (polskiego), cyfry (0-9 lub 'zero' - 'dziewięć')\n",
    "    i spacje lub pusty ciąg znaków gdy ciąg znaków nie zawiera liter/cyfr/spacji.'''\n",
    "    \n",
    "    alfabet_liczby = \"0123456789 AĄBCĆDEĘFGHIJKLŁMNŃOÓPRSTUWYZŹŻaąbcćdeęfghijklłmnńoóprstuwyzźż\"\n",
    "    \n",
    "    filtr = ''\n",
    "    for znak in string:\n",
    "        if znak in alfabet_liczby:\n",
    "            filtr += znak\n",
    "    return filtr"
   ]
  },
  {
   "cell_type": "code",
   "execution_count": 40,
   "metadata": {
    "id": "l1qBhigZP6pX"
   },
   "outputs": [],
   "source": [
    "# funkcja 3\n",
    "\n",
    "def sumuj(string):\n",
    "    '''zwraca sumę cyfr występujących w dowolnym ciągu znaków niezależnie od tego czy cyfry podane są jako \n",
    "    cyfry arabskie (0-9) czy fonetycznie; jeżeli w parametrze string nie występują takie cyfry, zwraca None'''\n",
    "    \n",
    "    slownie = {\n",
    "        'zero': 0,\n",
    "        'jeden': 1,\n",
    "        'dwa': 2,\n",
    "        'trzy': 3,\n",
    "        'cztery': 4,\n",
    "        'pięć': 5,\n",
    "        'sześć': 6,\n",
    "        'siedem': 7,\n",
    "        'osiem': 8,\n",
    "        'dziewięć': 9\n",
    "    }\n",
    "    \n",
    "    liczby = []\n",
    "    for slowo in string.split():\n",
    "        if slowo in slownie:\n",
    "            liczby += [slownie[slowo]]\n",
    "        else:\n",
    "            for cyfra in slowo:\n",
    "                if cyfra in '0123456789':\n",
    "                    liczby += [int(cyfra)]\n",
    "    \n",
    "    if len(liczby) == 0:\n",
    "        print(None)\n",
    "    else:\n",
    "        return sum(liczby)        "
   ]
  },
  {
   "cell_type": "markdown",
   "metadata": {
    "id": "axWzVwmLP6pX"
   },
   "source": [
    "### Zadanie 2. Moduł, czyli najłatwiejsze 10 pkt w historii programowania na KC [10 pkt]\n",
    "Stwórz moduł `cyfry` wpisując do niego (dowolną metodą) funkcje z zadania 1."
   ]
  },
  {
   "cell_type": "code",
   "execution_count": 41,
   "metadata": {
    "id": "Ib9Z-G4sP6pY"
   },
   "outputs": [],
   "source": [
    "with open('cyfry.py', 'w') as cyfry:\n",
    "    cyfry.write('')\n",
    "    \n",
    "# funkcje skopiowałam do utworzonego dokumentu i go zapisałam"
   ]
  },
  {
   "cell_type": "markdown",
   "metadata": {
    "id": "vpl7l30tP6pY"
   },
   "source": [
    "### Zadanie 3. Testy glass-box [30 pkt].\n",
    "Do `docstring`-a każdej funkcji **w module `cyfry`** dopisz testy *glass box* (testy strukturalne). Za każde *poprawne* testy przyznajemy 10 pkt na funkcję. Uwaga: testy nie mogą być nadmiarowe."
   ]
  },
  {
   "cell_type": "code",
   "execution_count": 42,
   "metadata": {
    "id": "Rgu2CuqhP6pY"
   },
   "outputs": [],
   "source": [
    "def cyfra(arg):\n",
    "    '''Funkcja zwraca True gdy parametr arg jest cyfrą (literałem liczbowym - od 0 do 9\n",
    "    lub ciągiem znaków - od 'zero' do 'dziewięć') lub False gdy nie jest.\n",
    "    \n",
    "    WE: \n",
    "        arg (int), arg (str) - parametr lub ciąg znaków do sprawdzenia\n",
    "    WY: \n",
    "        bool - czy parametr jest cyfrą, lub czy ciąg znaków jest fonetycznie zapisaną cyfrą\n",
    "        \n",
    "   >>> cyfra(1)\n",
    "   True\n",
    "   >>> cyfra('osiem')\n",
    "   True\n",
    "   >>> cyfra('')\n",
    "   False\n",
    "   >>> cyfra(0.5)\n",
    "   False\n",
    "   >>> cyfra('kot')\n",
    "   False\n",
    "   '''\n",
    "    \n",
    "    slownie = {\n",
    "        'zero': '0',\n",
    "        'jeden': '1',\n",
    "        'dwa': '2',\n",
    "        'trzy': '3',\n",
    "        'cztery': '4',\n",
    "        'pięć': '5',\n",
    "        'sześć': '6',\n",
    "        'siedem': '7',\n",
    "        'osiem': '8',\n",
    "        'dziewięć': '9'\n",
    "    }\n",
    "    if isinstance(arg, int):\n",
    "        return True\n",
    "    elif isinstance(arg, str):\n",
    "        for element in slownie:\n",
    "            if arg.lower() == element:\n",
    "                return True\n",
    "    else:\n",
    "        return False\n",
    "    \n",
    "def tekst_i_cyfry(string):\n",
    "    '''Filtruje dowolny ciąg znaków zwracając tylko litery alfabetu (polskiego), cyfry (0-9 lub 'zero' - 'dziewięć')\n",
    "    i spacje lub pusty ciąg znaków gdy ciąg znaków nie zawiera liter/cyfr/spacji.\n",
    "    \n",
    "    WE:\n",
    "        string (int), string (string) - parametr lub ciąg znaków do sprawdzenia\n",
    "    WY:\n",
    "        string - zawierający litery polskeigo alfabetu, cyfry fonetycznie lub rzymskie i spacje\n",
    "        \n",
    "    >>> tekst_i_cyfry('coco chanel12')\n",
    "    'coco chanel12'\n",
    "    >>> tekst_i_cyfry('coco $%')\n",
    "    'coco '\n",
    "    >>> tekst_i_cyfry('#$%')\n",
    "    '''\n",
    "    \n",
    "    alfabet_liczby = \"0123456789 AĄBCĆDEĘFGHIJKLŁMNŃOÓPRSTUWYZŹŻaąbcćdeęfghijklłmnńoóprstuwyzźż\"\n",
    "    \n",
    "    filtr = ''\n",
    "    for znak in string:\n",
    "        if znak in alfabet_liczby:\n",
    "            filtr += znak\n",
    "    return filtr\n",
    "\n",
    "def sumuj(string):\n",
    "    '''zwraca sumę cyfr występujących w dowolnym ciągu znaków niezależnie od tego czy cyfry podane są jako \n",
    "    cyfry arabskie (0-9) czy fonetycznie; jeżeli w parametrze string nie występują takie cyfry, zwraca None.\n",
    "    \n",
    "    WE:\n",
    "        string (str) - ciąg znaków do zsumowania\n",
    "    WY:\n",
    "        int - suma ciągu znaków\n",
    "    \n",
    "    >>> sumuj('9 8')\n",
    "    17\n",
    "    >>> sumuj('dziewięć osiem')\n",
    "    17\n",
    "    >>> sumuj('dziewięć', 8)\n",
    "    17\n",
    "    >>> sumuj('kot')\n",
    "    None\n",
    "    >>> sumuj('0.5, 0.5')\n",
    "    10\n",
    "    >>> sumuj('')\n",
    "    None\n",
    "    '''\n",
    "    \n",
    "    slownie = {\n",
    "        'zero': 0,\n",
    "        'jeden': 1,\n",
    "        'dwa': 2,\n",
    "        'trzy': 3,\n",
    "        'cztery': 4,\n",
    "        'pięć': 5,\n",
    "        'sześć': 6,\n",
    "        'siedem': 7,\n",
    "        'osiem': 8,\n",
    "        'dziewięć': 9\n",
    "    }\n",
    "    \n",
    "    liczby = []\n",
    "    for slowo in string.split():\n",
    "        if slowo in slownie:\n",
    "            liczby += [slownie[slowo]]\n",
    "        else:\n",
    "            for cyfra in slowo:\n",
    "                if cyfra in '0123456789':\n",
    "                    liczby += [int(cyfra)]\n",
    "    \n",
    "    if len(liczby) == 0:\n",
    "        return None\n",
    "    else:\n",
    "        return sum(liczby)  "
   ]
  },
  {
   "cell_type": "markdown",
   "metadata": {
    "id": "TrUROGcbP6pY"
   },
   "source": [
    "### Zadanie 4. Test [10 pkt].\n",
    "No dobra - to jest najłatwiejsze 10 pkt w tym semestrze: przetestuj moduł `cyfry` pakietem `doctest`. "
   ]
  },
  {
   "cell_type": "code",
   "execution_count": 43,
   "metadata": {
    "id": "tfCD5aVNP6pZ"
   },
   "outputs": [
    {
     "name": "stdout",
     "output_type": "stream",
     "text": [
      "**********************************************************************\n",
      "File \"__main__\", line 14, in __main__.cyfra\n",
      "Failed example:\n",
      "    cyfra('')\n",
      "Expected:\n",
      "    False\n",
      "Got nothing\n",
      "**********************************************************************\n",
      "File \"__main__\", line 18, in __main__.cyfra\n",
      "Failed example:\n",
      "    cyfra('kot')\n",
      "Expected:\n",
      "    False\n",
      "Got nothing\n",
      "**********************************************************************\n",
      "File \"__main__\", line 80, in __main__.sumuj\n",
      "Failed example:\n",
      "    sumuj('dziewięć', 8)\n",
      "Exception raised:\n",
      "    Traceback (most recent call last):\n",
      "      File \"/opt/conda/lib/python3.7/doctest.py\", line 1329, in __run\n",
      "        compileflags, 1), test.globs)\n",
      "      File \"<doctest __main__.sumuj[2]>\", line 1, in <module>\n",
      "        sumuj('dziewięć', 8)\n",
      "    TypeError: sumuj() takes 1 positional argument but 2 were given\n",
      "**********************************************************************\n",
      "File \"__main__\", line 82, in __main__.sumuj\n",
      "Failed example:\n",
      "    sumuj('kot')\n",
      "Expected:\n",
      "    None\n",
      "Got nothing\n",
      "**********************************************************************\n",
      "File \"__main__\", line 86, in __main__.sumuj\n",
      "Failed example:\n",
      "    sumuj('')\n",
      "Expected:\n",
      "    None\n",
      "Got nothing\n",
      "**********************************************************************\n",
      "File \"__main__\", line 56, in __main__.tekst_i_cyfry\n",
      "Failed example:\n",
      "    tekst_i_cyfry('#$%')\n",
      "Expected nothing\n",
      "Got:\n",
      "    ''\n",
      "**********************************************************************\n",
      "3 items had failures:\n",
      "   2 of   5 in __main__.cyfra\n",
      "   3 of   6 in __main__.sumuj\n",
      "   1 of   3 in __main__.tekst_i_cyfry\n",
      "***Test Failed*** 6 failures.\n"
     ]
    },
    {
     "data": {
      "text/plain": [
       "TestResults(failed=6, attempted=14)"
      ]
     },
     "execution_count": 43,
     "metadata": {},
     "output_type": "execute_result"
    }
   ],
   "source": [
    "import doctest\n",
    "doctest.testmod()"
   ]
  },
  {
   "cell_type": "markdown",
   "metadata": {
    "id": "E9DpcdO5P6pZ"
   },
   "source": [
    "### Zadanie 5. Suma [20 pkt]\n",
    "W katalogu [`biblioteczka`](https://drive.google.com/drive/folders/1rU8eh5Bj8-RjdWlAV5cqViYzqRWum6PE?usp=sharing) znajdziecie plik ze swoim imieniem i nazwiskiem. Zadanie polega na obliczeniu sumy wszystkich **cyfr** jakie znajdują się w pliku, niezależnie od tego czy są one liczbowe (`0, 1, 2, 3, 4, 5, 6, 7, 8, 9`), czy słowne (`'zero', 'jeden', 'dwa', ..., 'dziewięć'`).\n",
    "\n",
    "* czytanie z pliku: 10 pkt (wklejenie zawartości tutaj = 0 pkt)\n",
    "* poprawna suma: 10 pkt"
   ]
  },
  {
   "cell_type": "code",
   "execution_count": 44,
   "metadata": {
    "id": "t9aQdh7DP6pZ"
   },
   "outputs": [
    {
     "name": "stdout",
     "output_type": "stream",
     "text": [
      "686\n"
     ]
    }
   ],
   "source": [
    "sumy = []\n",
    "with open('Cwieląg_Paulina.txt', mode='r') as plik:\n",
    "    for linijka in plik:\n",
    "        filtr_linijka = tekst_i_cyfry(linijka)\n",
    "        suma = sumuj(filtr_linijka)\n",
    "        if isinstance(suma, int):\n",
    "            sumy += [suma]\n",
    "print(sum(sumy))"
   ]
  },
  {
   "cell_type": "code",
   "execution_count": null,
   "metadata": {},
   "outputs": [],
   "source": []
  }
 ],
 "metadata": {
  "colab": {
   "name": "kc20_p_kolokwium1.ipynb",
   "provenance": []
  },
  "kernelspec": {
   "display_name": "Python 3 (ipykernel)",
   "language": "python",
   "name": "python3"
  },
  "language_info": {
   "codemirror_mode": {
    "name": "ipython",
    "version": 3
   },
   "file_extension": ".py",
   "mimetype": "text/x-python",
   "name": "python",
   "nbconvert_exporter": "python",
   "pygments_lexer": "ipython3",
   "version": "3.9.5"
  }
 },
 "nbformat": 4,
 "nbformat_minor": 1
}
