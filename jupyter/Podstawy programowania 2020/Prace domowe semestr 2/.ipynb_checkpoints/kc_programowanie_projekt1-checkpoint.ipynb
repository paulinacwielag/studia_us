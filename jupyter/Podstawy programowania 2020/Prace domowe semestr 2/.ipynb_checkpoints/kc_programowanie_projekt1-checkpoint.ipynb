{
 "cells": [
  {
   "cell_type": "markdown",
   "metadata": {},
   "source": [
    "# Projekt 1\n",
    "### lab 02, Ćwiczenie 6 Śmiertelne króliki Fibonacciego\n",
    "\n",
    "Leonardo Fibonacci opracował swój słynny ciąg modelując liczebność populacji królików. Zaczynamy od jednej pary królików, która po miesiącu dojrzewa i po następnym miesiącu wydaje parę młodych i natychmiast ponownie zachodzi w ciążę, po następnym miesiącu pierwsza para wydaje kolejne młode a druga dojrzewa i zachodzi w ciążę itd. Wielkość populacji (liczba par) w kolejnych miesiącach wynosi 1, 1, 2, 3, 5, 8... Model ten zakłada, że każdej parze zawsze rodzą się dokładnie jeden samiec i jedna samica, ale głównym problemem w modelu jest to, że króliki są nieśmiertelne!\n",
    "\n",
    "![Image of rabbits](http://www.drawinghowtodraw.com/drawing-lessons/drawing-animals-creatures-lessons/images/howtodrawrabbiesbunniesdrawinglessons_html_37f16756.png)\n",
    "\n",
    "Urealnijmy trochę ten problem. Napisz funkcję obliczającą liczebność populacji śmiertelnych królików. Funkcja przyjmuje trzy argumenty - ``miesiąc``, dla którego obliczamy liczebność, ``miot`` - liczba par, które się rodzą jednorazowo z jednej pary oraz ``zycie`` - czas życia królików (w miesiącach). Minimalna długość życia królików to 3 miesiące. Oznacza to, że każda para zdąży się rozmnożyć przynajmniej 2 razy. W ostatnim miesiącu życia nastąpi **najpierw poród, a dopiero potem śmierć** pary królików.\n",
    "\n",
    "Jak teraz wyglądać będzie populacja króli po czasie jaki zadajemy w parametrze ``miesiac``? Rozwiązanie zaprojektuj z użyciem abstrakcji oraz dekompozycji. Rozbij zadanie na podproblemy i do każdego zbuduj funkcję. Na koniec wykorzystaj podprogramy do odpowiedzi na pytanie Pana Leonarda: ile to będzie tych króli po `n` miesiącach?\n",
    "\n",
    "__Specyfikacja__\n",
    "\n",
    "Wejście\n",
    "* miesiac: INT > 0\n",
    "* miot: INT > 0\n",
    "* zycie: INT >= 3\n",
    "\n",
    "Wyjście\n",
    "* populacja: INT"
   ]
  },
  {
   "cell_type": "code",
   "execution_count": 1,
   "metadata": {},
   "outputs": [],
   "source": [
    "# osoby współpracujące przy rozwiązaniu: \n",
    "# czas: "
   ]
  },
  {
   "cell_type": "code",
   "execution_count": null,
   "metadata": {},
   "outputs": [],
   "source": []
  },
  {
   "cell_type": "code",
   "execution_count": null,
   "metadata": {},
   "outputs": [],
   "source": []
  }
 ],
 "metadata": {
  "kernelspec": {
   "display_name": "Python 3",
   "language": "python",
   "name": "python3"
  },
  "language_info": {
   "codemirror_mode": {
    "name": "ipython",
    "version": 3
   },
   "file_extension": ".py",
   "mimetype": "text/x-python",
   "name": "python",
   "nbconvert_exporter": "python",
   "pygments_lexer": "ipython3",
   "version": "3.7.3"
  }
 },
 "nbformat": 4,
 "nbformat_minor": 2
}
