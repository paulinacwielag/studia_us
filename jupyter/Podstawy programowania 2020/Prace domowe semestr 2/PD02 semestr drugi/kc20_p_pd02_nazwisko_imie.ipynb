{
 "cells": [
  {
   "cell_type": "markdown",
   "metadata": {},
   "source": [
    "# Komunikacja Cyfrowa\n",
    "## Programowanie\n",
    "### Praca domowa 02 [100 pkt]\n",
    "\n",
    "Proszę użyć tego arkusza do rozwiązania zadań domowych. Na początek proszę zmienić 'nazwisko_imie' na Państwa nazwisko i imie, bez polskich znaków diakrytycznych.\n",
    "\n",
    "Jak już Państwo zaprogramują wszystko, proszę zapisać arkusz (File->Save and Checkpoint) oraz zapisać arkusz na dysk (File->Download as->Notebook). Ten plik proszę wgrać na classroom. \n",
    "\n",
    "**Uwaga** Przed oddaniem pliku warto zrestartować kernel Python-a, i uruchomić wszystkie komórki ręcznie, patrząc czy wszystko jest OK. Błędy rzucane przez interpreter spowodują 0 punktów."
   ]
  },
  {
   "cell_type": "code",
   "execution_count": null,
   "metadata": {},
   "outputs": [],
   "source": []
  },
  {
   "cell_type": "code",
   "execution_count": null,
   "metadata": {},
   "outputs": [],
   "source": []
  },
  {
   "cell_type": "markdown",
   "metadata": {},
   "source": [
    "### `statystyka`\n",
    "\n",
    "Jeżeli nie zdążyliście do końca zaprogramować wszystkich dziesięciu funkcji podstawowych z ćwiczenia 3 na zajęciach, to proszę zaprogramować je do końca teraz i wkleić do pliku `statystyka.py`. Takie zadanie rozgrzewkowe za 0 pkt. Ale jeżeli zdążyliście, to od razu...\n",
    "\n",
    "### Zadanie 1 Rozwijamy moduł `statystyka`: statystyki wyższych rzędów [30 pkt]\n",
    "Bazujac na module, zaprogramuj poniższe funkcje i dodaj je do modułu `statystyka.py`\n",
    "1. `odchylenie_standardowe(L)` - odchylenie standardowe liczb z listy `L`\n",
    "* `rozstep_kwartylny(L)` - różnica między trzecim i pierwszym kwartylem `L`\n",
    "* `odchylenie_cwiartkowe(L)` - połowa to rozstepu kwartylnego\n",
    "* `kurtoza(L)` - kurtozę liczb z listy `L`\n",
    "* `skosnosc(L)` - współczynnik skośności liczb z listy `L`\n",
    "\n",
    "Każda funkcja to [6 pkt] - 4 pkt obliczenia, 1 pkt docstring, 1 pkt test. Wszystkie definicje znajdziecie na Wikipedii."
   ]
  },
  {
   "cell_type": "code",
   "execution_count": 12,
   "metadata": {},
   "outputs": [
    {
     "name": "stdout",
     "output_type": "stream",
     "text": [
      "1.2909944487358056\n"
     ]
    }
   ],
   "source": [
    "import numseq as ns\n",
    "import statystyka as st\n",
    "\n",
    "def odchylenie_standardowe(L):\n",
    "    '''Funkcja oblicza odchylenie standardowe liczb z listy L.'''\n",
    "    \n",
    "    dlugosc_ciagu = ns.dlugosc(L)\n",
    "    srednia_arytmetyczna = st.srednia_arytmetyczna(L)\n",
    "    \n",
    "    suma = 0\n",
    "    for element in L:\n",
    "        suma += (element - srednia_arytmetyczna) ** 2\n",
    "        \n",
    "    wynik = (suma / dlugosc_ciagu) ** (1/2)\n",
    "    \n",
    "    return wynik\n",
    "\n",
    "print(odchylenie_standardowe([1, 2, 3]))"
   ]
  },
  {
   "cell_type": "code",
   "execution_count": null,
   "metadata": {},
   "outputs": [],
   "source": [
    "def rozstep_kwartylny(L):\n",
    "    "
   ]
  },
  {
   "cell_type": "markdown",
   "metadata": {},
   "source": [
    "### Zadanie 2 Rozwijamy moduł `statystyka`: wartości odstające [30 pkt]\n",
    "Nie ma sztywnej matematycznej definicji określającej wartość odstającą. Ustalenie, czy obserwacja jest wartością odstającą, jest ostatecznie zadaniem subiektywnym. Z braku definicji, **wartość odstająca** to taka, która sporo się różni od większości danych. Istnieją różne metody wykrywania wartości odstających.\n",
    "\n",
    "Bazując na 2 [definicjach wartości odstających](https://en.wikipedia.org/wiki/Outlier) i modułach `statystyka` oraz `numseq` napisz dwie funkcje wyszukujące wartości odstających \n",
    "\n",
    "* `outlier_sixsigma(L, s=3)` - funkcja wyszukująca wartości odstające bazując na \n",
    "    ograniczeniu *six sigma*, co oznacza, że wartość `x` jest odstająca\n",
    "    jeżeli leży poza zakresem $[\\mu - s \\sigma, \\mu + s\\sigma]$, gdzie\n",
    "    $\\mu$ to wartość oczekiwana (średnia) a $\\sigma$ to odchylenie\n",
    "    standardowe, a liczba `s>0` to dowolna wartość nieujemna, przyjmująca w \n",
    "    modelach *six sigma* wartość `s=3`\n",
    "    \n",
    "* `outlier_tukey(L, k=1.5)` - funkcja wyszukująca wartości odstające bazując \n",
    "    na ograniczeniu Tukeya (Tukey's fences) mówi, że wartość `x` jest odstająca \n",
    "    jeżeli leży poza zakresem $[ Q_1 - k \\Delta_Q, Q_3 + k \\Delta_Q ]$\n",
    "    gdzie $Q_1, Q_3$ to odpowiednio dolny i górny kwartyl, $\\Delta_Q$ to \n",
    "    rozstęp kwartylny, a liczba `k>0` to dowolna wartość nieujemna, \n",
    "    John Tukey zaproponował ten test dla `k=1.5`, dlatego też będzie to wartość domyślna\n",
    "\n",
    "Funkcje powinny sprawdzać czy w serii liczb `L` są jakieś wartości odstające i zwracać słownik wartości odstających i nieodstających `{'odstajace': lista_wartosci_odstajacych, 'nieodstajace': lista_wartosci_nieodstajacych}`\n",
    "\n",
    "Punkty (na funkcję)\n",
    "* obliczenia [8 pkt]\n",
    "* słownik [2 pkt]\n",
    "* docstring [2 pkt] (gdy sensowny, jeżeli 1-linijkowy to tylko 1 pkt)\n",
    "* testy - każdy test to 1 punkt, maksymalnie [3 pkt]\n",
    "\n",
    "Oczywiście obie funkcje proszę zaprogramować poniżej i następnie dodać do modułu `statystyka.py`."
   ]
  },
  {
   "cell_type": "code",
   "execution_count": null,
   "metadata": {},
   "outputs": [],
   "source": []
  },
  {
   "cell_type": "code",
   "execution_count": null,
   "metadata": {},
   "outputs": [],
   "source": []
  },
  {
   "cell_type": "markdown",
   "metadata": {},
   "source": [
    "### Standard & Poors 500\n",
    "Pobawimy się w ekonometrów i opracujemy statystykę dla [S&P 500](https://pl.wikipedia.org/wiki/S%26P_500). Zadanie będzie polegać na obliczeniu podstawowych statystyk rzeczywistych danych dla jednego z najważniejszych indeksów giełdowych świata. Zwykle taka statystyka dla danych opiera się o dwie podstawowe strategie realizowane łącznie\n",
    "\n",
    "* Podejście ilościowe: opisuje i podsumowuje dane liczbowo\n",
    "* Podejście wizualne: ilustruje dane za pomocą wykresów, wykresów, histogramów i innych wykresów\n",
    "\n",
    "Wy zajmiecie się tym pierwszym (zadanie 3), w końcu w jakimś celu zbudowaliśmy potężny pakiet `statystyka`. Trzeba by go użyć (choć raz)... My pokażemy wam jak prezentować dane. Na samym początku musimy te dane zdobyć. Odkomentujcie poniższy snippet, a do listy `data` dodadzą się wartości dziennych zweryfikowanych cen zamknięcia (adjusted closing price) od 30/12/1927 roku do wczoraj.\n",
    "\n",
    "Na tych danych będziemy bazować, opracowując naszą statystykę. Uwaga: gdyby się coś psuło, na classroom-ie znajdziecie zapeklowane dane z 8 lutego 2021 (`SaP500.p`)."
   ]
  },
  {
   "cell_type": "code",
   "execution_count": 1,
   "metadata": {},
   "outputs": [],
   "source": [
    "# # import Adj Close of S&P 500 from yahoo finance\n",
    "# import urllib\n",
    "# with urllib.request.urlopen(\"https://query1.finance.yahoo.com/v7/finance/download/%5EGSPC?period1=-1325635200&period2=1612742400&interval=1d&events=history&includeAdjustedClose=false\") as f:\n",
    "#     data = [float(el) for idx, el in enumerate(f.read().decode('utf-8').split(',')) if idx % 6 == 5 if idx > 5] "
   ]
  },
  {
   "cell_type": "code",
   "execution_count": 10,
   "metadata": {},
   "outputs": [
    {
     "data": {
      "text/plain": [
       "Text(0.5, 1.0, 'S&P 500')"
      ]
     },
     "execution_count": 10,
     "metadata": {},
     "output_type": "execute_result"
    },
    {
     "data": {
      "image/png": "[encoded data removed]",
      "text/plain": [
       "<Figure size 432x288 with 1 Axes>"
      ]
     },
     "metadata": {
      "needs_background": "light"
     },
     "output_type": "display_data"
    }
   ],
   "source": [
    "# import matplotlib.pyplot as plt\n",
    "# %matplotlib inline\n",
    "# plt.plot(data)\n",
    "# plt.xlabel('idx')\n",
    "# plt.ylabel('adj close')\n",
    "# plt.title('S&P 500')"
   ]
  },
  {
   "cell_type": "markdown",
   "metadata": {},
   "source": [
    "### Zadanie 3 [40 pkt]\n",
    "Dla powyższych danych S&P 500, z wykorzystaniem naszych autorskich (!) modułów `statystyka` i `numseq` oblicz poszczególne statystyki. Najpierw przefiltruj dane, upewniając się, że są w nich tylko liczby [2 pkt].\n",
    "\n",
    "Statystyka globalna (dla wszystkich wartości) [8 pkt - po 1 pkt]\n",
    "* średnią arytmetyczną i kwadratową\n",
    "* odchylenie standardowe\n",
    "* kwartle (dolny, górny i medianę)\n",
    "* kurtozę i skośność\n",
    "\n",
    "Dla każdego roku (rok ma 365 dni, ale w weekendy giełda nie pracuje) [10 pkt]\n",
    "* roczna średnia arytmetyczna, 3 pkt\n",
    "* roczne odchylenie standardowe, 3 pkt\n",
    "* od wszystkich danych w danym roku odejmij roczną średnią i zapisz te dane jako `reszty`, 4 pkt\n",
    "\n",
    "Dla reszt, w każdym roku [6 pkt]\n",
    "* oblicz średnią i odchylenie standardowe, 2 pkt\n",
    "* oblicz medianę i odchylenie ćwiartkowe, 2 pkt\n",
    "* znajdź wartości odstające obiema metodami, 2 pkt\n",
    "\n",
    "Dla reszt bez wartości odstających oblicz [4 pkt]\n",
    "* oblicz średnią i odchylenie standardowe, 2 pkt\n",
    "* oblicz medianę i odchylenie ćwiartkowe, 2 pkt\n",
    "\n",
    "Na sam koniec stwórz fajny, czytelny i bogaty w informacje raport [10 pkt]. Może być to funkcja `raport(data)` produkująca taki raport dla danych. Im więcej informacji i im bardziej czytelne tym więcej punktów.\n",
    "\n",
    "> Punkty przyznajemy TYLKO gdy wykorzystacie prawidłowo moduły `statystyka` i `numseq`, za `numpy, scipy` czy inne `pandas`-y nie dajemy punktów!"
   ]
  },
  {
   "cell_type": "code",
   "execution_count": null,
   "metadata": {},
   "outputs": [],
   "source": []
  },
  {
   "cell_type": "code",
   "execution_count": null,
   "metadata": {},
   "outputs": [],
   "source": []
  },
  {
   "cell_type": "code",
   "execution_count": null,
   "metadata": {},
   "outputs": [],
   "source": []
  }
 ],
 "metadata": {
  "kernelspec": {
   "display_name": "Python 3 (ipykernel)",
   "language": "python",
   "name": "python3"
  },
  "language_info": {
   "codemirror_mode": {
    "name": "ipython",
    "version": 3
   },
   "file_extension": ".py",
   "mimetype": "text/x-python",
   "name": "python",
   "nbconvert_exporter": "python",
   "pygments_lexer": "ipython3",
   "version": "3.9.5"
  }
 },
 "nbformat": 4,
 "nbformat_minor": 2
}
