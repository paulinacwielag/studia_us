{
 "cells": [
  {
   "cell_type": "markdown",
   "metadata": {
    "id": "SPERWWaKRsFO"
   },
   "source": [
    "# Komunikacja Cyfrowa\n",
    "## Programowanie\n",
    "### Praca domowa 03 [100 pkt]\n",
    "\n",
    "Proszę użyć tego arkusza do rozwiązania zadań domowych. Na początek proszę zmienić 'nazwisko_imie' na Państwa nazwisko i imie, bez polskich znaków diakrytycznych.\n",
    "\n",
    "Jak już Państwo zaprogramują wszystko, proszę zapisać arkusz (File->Save and Checkpoint) oraz zapisać arkusz na dysk (File->Download as->Notebook). <font color='red'>**Ten plik oraz zmieniony o testy moduł `numseq` proszę wgrać na classroom jako osobne pliki**</font>, proszę nie wgrywać archiwów (zip, rar, tar...).\n",
    "\n",
    "**Uwaga** Przed oddaniem pliku warto zrestartować kernel Python-a, i uruchomić wszystkie komórki ręcznie, patrząc czy wszystko jest OK. Błędy rzucane przez interpreter spowodują 0 punktów.\n"
   ]
  },
  {
   "cell_type": "markdown",
   "metadata": {
    "id": "4JD5TKXKRsFV"
   },
   "source": [
    "### współpraca: Igor Juraszek\n",
    "\n",
    "### W poniższej pracy domowej, podczas wykonywania testów, testy wykazały błędy w funkcjach, postanowiłam jednak ich nie poprawiać, gdyż poprawki nie były zawarte w treściach zadań."
   ]
  },
  {
   "cell_type": "markdown",
   "metadata": {
    "id": "Io8mga_lRsFV"
   },
   "source": [
    "# `numseq`\n",
    "\n",
    "W ramach pracy domowej 2 dodaliśmy następujące funkcje:\n",
    "\n",
    "```\n",
    "iloczyn\n",
    "iloraz\n",
    "abs\n",
    "suma_par\n",
    "iloczyn_par\n",
    "bezwzgledna_roznica_par\n",
    "czy_palindrom\n",
    "potegi\n",
    "czy_krecony_palindrom\n",
    "znajdz_wzorzec\n",
    "podzial\n",
    "rozdziel_na_podlisty\n",
    "system_rzymski\n",
    "slownie\n",
    "```"
   ]
  },
  {
   "cell_type": "code",
   "execution_count": 1,
   "metadata": {
    "id": "BLsKaE-aRsFW"
   },
   "outputs": [],
   "source": [
    "from numseq import *"
   ]
  },
  {
   "cell_type": "markdown",
   "metadata": {
    "id": "gpR8fCaWRsFW"
   },
   "source": [
    "### Zadanie 1 [50 pkt]\n",
    "Zbuduj testy **black box** do wszystkich funkcji z modułu `numseq` budowanego w pracy domowej 2. Do każdej funkcji (powinno być ich 14) stwórz funkcję `test_nazwa_funkcji()` w której zawrzesz zestaw testów bazujących na specyfikacjach. Funkcje te dodaj do modułu `numseq`.\n",
    "\n",
    "* dodaj testy (14 * 3 pkt)\n",
    "* uruchom testy (8 pkt)"
   ]
  },
  {
   "cell_type": "code",
   "execution_count": 2,
   "metadata": {
    "id": "U5CqoXxBRsFW"
   },
   "outputs": [
    {
     "name": "stdout",
     "output_type": "stream",
     "text": [
      "BŁĄD DLA: [] MIAŁ BYĆ: 0 A JEST: 1\n"
     ]
    },
    {
     "data": {
      "text/plain": [
       "'Wykonanych testów: 10 Błędów: 1'"
      ]
     },
     "execution_count": 2,
     "metadata": {},
     "output_type": "execute_result"
    }
   ],
   "source": [
    "def test_suite_iloczyn():\n",
    "    testowe = [\n",
    "    #int \n",
    "        ([3, 4, 5], 60),\n",
    "        ([2], 2),\n",
    "         \n",
    "    #float\n",
    "         ([2.0, 2], 4.0),\n",
    "         ([2.0, 2.0], 4.0),\n",
    "         \n",
    "    # mieszane\n",
    "         ([2, 'k', 3], 6),\n",
    "         ([2.0, 'k', 3.0], 6),\n",
    "         ([2.0, 'k', 3], 6),\n",
    "         \n",
    "    # wartości graniczne (bardzo małe i bardzo duże liczby)\n",
    "         ([1e24], 1e+24),\n",
    "         ([1e-24], 1e-24),\n",
    "    \n",
    "    # pusta lista\n",
    "         ([], 0)]\n",
    "    \n",
    "    problemy = 0\n",
    "    for przyklad, poprawny_wynik in testowe:\n",
    "        if iloczyn(przyklad) != poprawny_wynik:\n",
    "            print(f'BŁĄD DLA: {przyklad} MIAŁ BYĆ: {poprawny_wynik} A JEST: {iloczyn(przyklad)}')\n",
    "            problemy += 1\n",
    "                  \n",
    "    return f'Wykonanych testów: {len(testowe)} Błędów: {problemy}'\n",
    "\n",
    "test_suite_iloczyn()"
   ]
  },
  {
   "cell_type": "code",
   "execution_count": 3,
   "metadata": {},
   "outputs": [
    {
     "data": {
      "text/plain": [
       "'Wykonanych testów: 9 Błędów: 0'"
      ]
     },
     "execution_count": 3,
     "metadata": {},
     "output_type": "execute_result"
    }
   ],
   "source": [
    "def test_suite_iloraz():\n",
    "    testowe = [\n",
    "        # int\n",
    "            ([60, 2, 2], 15.0),\n",
    "            ([2], 2),\n",
    "        \n",
    "        # float\n",
    "            ([4, 2.0], 2.0),\n",
    "        \n",
    "        # mieszane\n",
    "            ([10, 'k', 5.0], 2.0),            \n",
    "            ([10.0, 'k', 5.0], 2.0),\n",
    "            ([10.0, 'k', 5], 2.0),\n",
    "        \n",
    "        # wartości graniczne\n",
    "            ([1e24], 1e+24),\n",
    "            ([1e-24], 1e-24),\n",
    "        \n",
    "        # pusta linia\n",
    "            ([], 0.0)]\n",
    "    \n",
    "    problemy = 0\n",
    "    for przyklad, poprawny_wynik in testowe:\n",
    "        if iloraz(przyklad) != poprawny_wynik:\n",
    "            print(f'BŁĄD DLA: {przyklad} MIAŁ BYĆ: {poprawny_wynik} A JEST: {iloraz(przyklad)}')\n",
    "            problemy += 1\n",
    "                  \n",
    "    return f'Wykonanych testów: {len(testowe)} Błędów: {problemy}'\n",
    "\n",
    "test_suite_iloraz()"
   ]
  },
  {
   "cell_type": "code",
   "execution_count": 4,
   "metadata": {},
   "outputs": [
    {
     "data": {
      "text/plain": [
       "'Wykonanych testów: 13 Błędów: 0'"
      ]
     },
     "execution_count": 4,
     "metadata": {},
     "output_type": "execute_result"
    }
   ],
   "source": [
    "def test_suite_wartosc_bezwzgledna():\n",
    "    testowe = [\n",
    "    # int\n",
    "        ([1, 2, 3], [1, 2, 3]),\n",
    "        ([-1, -2, -3], [1, 2, 3]),\n",
    "        ([-1, 2, -3], [1, 2, 3]),\n",
    "        \n",
    "    # float\n",
    "        ([1.0, 2.5, 3.5], [1.0, 2.5, 3.5]),\n",
    "        ([-1.0, -2.5, -3.5], [1.0, 2.5, 3.5]),\n",
    "        ([-1.0, 2.5, -3.5], [1.0, 2.5, 3.5]),\n",
    "        \n",
    "    # mieszane \n",
    "        ([1.0, 2, 3.5], [1.0, 2, 3.5]),\n",
    "        ([-1.0, -2, -3.5], [1.0, 2, 3.5]),\n",
    "        ([-1.0, 2, -3.5], [1.0, 2, 3.5]),\n",
    "        \n",
    "    # pusta lista\n",
    "        ([],[]),\n",
    "        \n",
    "    # wartości graniczne (bardzo małe i bardzo duże liczby )\n",
    "        ([1e24, 1e23, 1e22], [1e+24, 1e+23, 1e+22]),\n",
    "        ([1e-24, 1e-23, 1e-22], [1e-24, 1e-23, 1e-22]),\n",
    "        ([1e-24, 1e23, 1e-22], [1e-24, 1e+23, 1e-22])\n",
    "        ]\n",
    "    \n",
    "    problemy = 0\n",
    "    for przyklad, poprawny_wynik in testowe:\n",
    "        if wartosc_bezwzgledna(przyklad) != poprawny_wynik:\n",
    "            print(f'BŁĄD DLA: {przyklad} MIAŁ BYĆ: {poprawny_wynik} A JEST: {wartosc_bezwzgledna(przyklad)}')\n",
    "            problemy += 1\n",
    "                  \n",
    "    return f'Wykonanych testów: {len(testowe)} Błędów: {problemy}'\n",
    "\n",
    "test_suite_wartosc_bezwzgledna()"
   ]
  },
  {
   "cell_type": "code",
   "execution_count": 5,
   "metadata": {},
   "outputs": [
    {
     "data": {
      "text/plain": [
       "'Wykonanych testów: 16 Błędów: 0'"
      ]
     },
     "execution_count": 5,
     "metadata": {},
     "output_type": "execute_result"
    }
   ],
   "source": [
    "def test_suite_suma_par():\n",
    "    testowe = [\n",
    "        # int\n",
    "            ([1, 2, 3], [1, 2, 3], [2, 4, 6]),\n",
    "            ([-1, -2, -3], [1, 2, 3], [0, 0, 0]),\n",
    "            ([-1, 2, -3], [1, 2, 3], [0, 4, 0]),\n",
    "        # float\n",
    "            ([1.0, 2.5, 3.5], [1.0, 2.5, 3.5], [2.0, 5.0, 7.0]),\n",
    "            ([-1.0, -2.5, -3.5], [1.0, 2.5, 3.5], [0, 0, 0]),\n",
    "            ([-1.0, 2.5, -3.5], [1.0, 2.5, 3.5], [0.0, 5.0, 0.0]),\n",
    "        # mieszane \n",
    "            ([1.0, 2, 3.5], [1.0, 2, 3.5], [2.0, 4, 7.0]),\n",
    "            ([-1.0, -2, -3.5], [1.0, 2, 3.5], [0.0, 0, 0.0]),\n",
    "            ([-1.0, 2, -3.5], [1.0, 2, 3.5], [0.0, 4, 0.0]),\n",
    "        # pusta lista\n",
    "            ([], [], []),\n",
    "        # wartości graniczne (bardzo małe i bardzo duże liczby )\n",
    "            ([1e24, 1e23, 1e22], [1e24, 1e23, 1e22], [2e+24, 2e+23, 2e+22]),\n",
    "            ([1e-24, 1e-23, 1e-22], [1e24, 1e23, 1e22], [1e+24, 1e+23, 1e+22]),\n",
    "            ([1e-24, 1e23, 1e-22], [1e24, 1e23, 1e22], [1e+24, 2e+23, 1e+22]),\n",
    "\n",
    "        # listy nierównej długości\n",
    "            ([1, 2, 3], [1, 2, 3, 4], 'listy nie są równej długości'),\n",
    "            ([1, 2, 3, 4], [1, 2, 3], 'listy nie są równej długości'),\n",
    "            ([1, 2, 3], [], 'listy nie są równej długości')]\n",
    "    \n",
    "    problemy = 0\n",
    "    for przyklad_1, przyklad_2, poprawny_wynik in testowe:\n",
    "        if suma_par(przyklad_1, przyklad_2) != poprawny_wynik:\n",
    "            print(f'BŁĄD DLA: {przyklad_1, przyklad_2} MIAŁ BYĆ: {poprawny_wynik} A JEST: {suma_par(przyklad_1, przyklad_2)}')\n",
    "            problemy += 1\n",
    "                  \n",
    "    return f'Wykonanych testów: {len(testowe)} Błędów: {problemy}'\n",
    "\n",
    "test_suite_suma_par()"
   ]
  },
  {
   "cell_type": "code",
   "execution_count": 6,
   "metadata": {},
   "outputs": [
    {
     "data": {
      "text/plain": [
       "'Wykonanych testów: 16 Błędów: 0'"
      ]
     },
     "execution_count": 6,
     "metadata": {},
     "output_type": "execute_result"
    }
   ],
   "source": [
    "def test_suite_iloczyn_par():\n",
    "    testowe = [\n",
    "        # int\n",
    "            ([1, 2, 3], [1, 2, 3], [1, 4, 9]),\n",
    "            ([-1, -2, -3], [1, 2, 3], [-1, -4, -9]),\n",
    "            ([-1, 2, -3], [1, 2, 3], [-1, 4, -9]),\n",
    "        \n",
    "        # float\n",
    "            ([1.0, 2.5, 3.5], [1.0, 2.5, 3.5], [1.0, 6.25, 12.25]),\n",
    "            ([-1.0, -2.5, -3.5], [1.0, 2.5, 3.5], [-1.0, -6.25, -12.25]),\n",
    "            ([-1.0, 2.5, -3.5], [1.0, 2.5, 3.5], [-1.0, 6.25, -12.25]),\n",
    "        \n",
    "        # mieszane \n",
    "            ([1.0, 2, 3.5], [1.0, 2, 3.5], [1.0, 4, 12.25]),\n",
    "            ([-1.0, -2, -3.5], [1.0, 2, 3.5], [-1.0, -4, -12.25]),\n",
    "            ([-1.0, 2, -3.5], [1.0, 2, 3.5], [-1.0, 4, -12.25]),\n",
    "        \n",
    "        # pusta lista\n",
    "            ([], [], []),\n",
    "        \n",
    "        # wartości graniczne (bardzo małe i bardzo duże liczby )\n",
    "            ([1e24, 1e23, 1e22], [1e24, 1e23, 1e22], [1e+48, 9.999999999999999e+45, 1e+44]),\n",
    "            ([1e-24, 1e-23, 1e-22], [1e24, 1e23, 1e22], [0.9999999999999999, 0.9999999999999999, 1.0]),\n",
    "            ([1e-24, 1e23, 1e-22], [1e24, 1e23, 1e22], [0.9999999999999999, 9.999999999999999e+45, 1.0]),\n",
    "    \n",
    "        # listy nierównej długości\n",
    "            ([1, 2, 3], [1, 2, 3, 4], 'listy nie są równej długości'),\n",
    "            ([1, 2, 3, 4], [1, 2, 3], 'listy nie są równej długości'),\n",
    "            ([1, 2, 3], [], 'listy nie są równej długości')]\n",
    "    \n",
    "    \n",
    "    problemy = 0\n",
    "    for przyklad_1, przyklad_2, poprawny_wynik in testowe:\n",
    "        if iloczyn_par(przyklad_1, przyklad_2) != poprawny_wynik:\n",
    "            print(f'BŁĄD DLA: {przyklad_1, przyklad_2} MIAŁ BYĆ: {poprawny_wynik} A JEST: {iloczyn_par(przyklad_1, przyklad_2)}')\n",
    "            problemy += 1\n",
    "                  \n",
    "    return f'Wykonanych testów: {len(testowe)} Błędów: {problemy}'\n",
    "\n",
    "test_suite_iloczyn_par()"
   ]
  },
  {
   "cell_type": "code",
   "execution_count": 7,
   "metadata": {},
   "outputs": [
    {
     "data": {
      "text/plain": [
       "'Wykonanych testów: 16 Błędów: 0'"
      ]
     },
     "execution_count": 7,
     "metadata": {},
     "output_type": "execute_result"
    }
   ],
   "source": [
    "def test_suite_bezwzgledna_roznica_par():\n",
    "    testowe = [\n",
    "    # int\n",
    "         ([1, 2, 3], [1, 2, 3], [0, 0, 0]),\n",
    "         ([-1, -2, -3], [1, 2, 3], [2, 4, 6]),\n",
    "         ([-1, 2, -3], [1, 2, 3], [2, 0, 6]),\n",
    "        \n",
    "    # float\n",
    "         ([1.0, 2.5, 3.5], [1.0, 2.5, 3.5], [0.0, 0.0, 0.0]),\n",
    "         ([-1.0, -2.5, -3.5], [1.0, 2.5, 3.5], [2.0, 5.0, 7.0]),\n",
    "         ([-1.0, 2.5, -3.5], [1.0, 2.5, 3.5], [2.0, 0.0, 7.0]),\n",
    "        \n",
    "    # mieszane \n",
    "         ([1.0, 2, 3.5], [1.0, 2, 3.5], [0.0, 0, 0.0]),\n",
    "         ([-1.0, -2, -3.5], [1.0, 2, 3.5], [2.0, 4, 7.0]),\n",
    "         ([-1.0, 2, -3.5], [1.0, 2, 3.5], [2.0, 0, 7.0]),\n",
    "        \n",
    "    # pusta lista\n",
    "    ([], [], []),\n",
    "        \n",
    "    # wartości graniczne (bardzo małe i bardzo duże liczby )\n",
    "         ([1e24, 1e23, 1e22], [1e24, 1e23, 1e22], [0.0, 0.0, 0.0]),\n",
    "         ([1e-24, 1e-23, 1e-22], [1e24, 1e23, 1e22], [1e+24, 1e+23, 1e+22]),\n",
    "         ([1e-24, 1e23, 1e-22], [1e24, 1e23, 1e22], [1e+24, 0.0, 1e+22]),\n",
    "    \n",
    "    # listy nierównej długości\n",
    "         ([1, 2, 3], [1, 2, 3, 4], 'listy nie są równej długości'),\n",
    "         ([1, 2, 3, 4], [1, 2, 3], 'listy nie są równej długości'),\n",
    "         ([1, 2, 3], [], 'listy nie są równej długości')\n",
    "        ]\n",
    "    \n",
    "    problemy = 0\n",
    "    for przyklad_1, przyklad_2, poprawny_wynik in testowe:\n",
    "        if bezwzgledna_roznica_par(przyklad_1, przyklad_2) != poprawny_wynik:\n",
    "            print(f'BŁĄD DLA: {przyklad_1, przyklad_2} MIAŁ BYĆ: {poprawny_wynik} A JEST: {bezwzgledna_roznica_par(przyklad_1, przyklad_2)}')\n",
    "            problemy += 1\n",
    "                  \n",
    "    return f'Wykonanych testów: {len(testowe)} Błędów: {problemy}'\n",
    "\n",
    "test_suite_bezwzgledna_roznica_par()"
   ]
  },
  {
   "cell_type": "code",
   "execution_count": 8,
   "metadata": {},
   "outputs": [
    {
     "name": "stdout",
     "output_type": "stream",
     "text": [
      "BŁĄD DLA: ['Z', 'A', 'r', 'a', 'Z'] MIAŁ BYĆ: True A JEST: False\n"
     ]
    },
    {
     "data": {
      "text/plain": [
       "'Wykonanych testów: 13 Błędów: 1'"
      ]
     },
     "execution_count": 8,
     "metadata": {},
     "output_type": "execute_result"
    }
   ],
   "source": [
    "def test_suite_czy_palindrom():\n",
    "    testowe = [\n",
    "    # string\n",
    "        (['z','a','r','a','z'], True),\n",
    "        (['Z','A','R','A','Z'], True),\n",
    "        (['Z','A','r','a','Z'], True),\n",
    "        \n",
    "    # int\n",
    "        ([1, 2, 3], False),\n",
    "        ([1, 2, 1], True),\n",
    "        ([1], True),\n",
    "        \n",
    "    # float\n",
    "        ([1.0, 2.0, 3.0], False),\n",
    "        ([1.0, 2.0, 1.0], True),\n",
    "        ([1.0], True),\n",
    "     # mieszane\n",
    "        \n",
    "        (['a', 1, 'b'], False),\n",
    "        (['a', 1, 'a'], True),\n",
    "        (['a', 'a', 1, 1, 'a', 'a'], True),\n",
    "        \n",
    "    # pusta lista\n",
    "        ([], True)]\n",
    "    \n",
    "    problemy = 0\n",
    "    for przyklad, poprawny_wynik in testowe:\n",
    "        if czy_palindrom(przyklad) != poprawny_wynik:\n",
    "            print(f'BŁĄD DLA: {przyklad} MIAŁ BYĆ: {poprawny_wynik} A JEST: {czy_palindrom(przyklad)}')\n",
    "            problemy += 1\n",
    "                  \n",
    "    return f'Wykonanych testów: {len(testowe)} Błędów: {problemy}'\n",
    "\n",
    "test_suite_czy_palindrom()"
   ]
  },
  {
   "cell_type": "code",
   "execution_count": 9,
   "metadata": {},
   "outputs": [
    {
     "data": {
      "text/plain": [
       "'Wykonanych testów: 13 Błędów: 0'"
      ]
     },
     "execution_count": 9,
     "metadata": {},
     "output_type": "execute_result"
    }
   ],
   "source": [
    "def test_suite_potegi():\n",
    "    testowe = [\n",
    "    # int\n",
    "            ([2, 3, 4], 2, [4, 9, 16]),\n",
    "            ([-5, -2], 3, [-125, -8]),\n",
    "            ([2, 3, 4], -2, [0.25, 0.1111111111111111, 0.0625]),\n",
    "            ([-5, -2], -3, [-0.008, -0.125]),\n",
    "        \n",
    "    # float\n",
    "            ([2.0, 3, 4], 2, [4, 9, 16]),\n",
    "            ([-5.0, -2], 3, [-125, -8]),\n",
    "            ([2.0, 3, 4], -2, [0.25, 0.1111111111111111, 0.0625]),\n",
    "            ([-5, -2.0], -3, [-0.008, -0.125]),\n",
    "            ([2.0, 3, 4], 2.0, [4, 9, 16]),\n",
    "            ([-5.0, -2], 3.0, [-125, -8]),\n",
    "            ([2.0, 3, 4], -2.0, [0.25, 0.1111111111111111, 0.0625]),\n",
    "            ([-5, -2.0], -3.0, [-0.008, -0.125]),\n",
    "        \n",
    "    # pusta lista\n",
    "           ([], [], [])\n",
    "            ]\n",
    "    \n",
    "    problemy = 0\n",
    "    for przyklad_1, przyklad_2, poprawny_wynik in testowe:\n",
    "        if potegi(przyklad_1, przyklad_2) != poprawny_wynik:\n",
    "            print(f'BŁĄD DLA: {przyklad_1, przyklad_2} MIAŁ BYĆ: {poprawny_wynik} A JEST: {potegi(przyklad_1, przyklad_2)}')\n",
    "            problemy += 1\n",
    "                  \n",
    "    return f'Wykonanych testów: {len(testowe)} Błędów: {problemy}'\n",
    "\n",
    "test_suite_potegi()"
   ]
  },
  {
   "cell_type": "code",
   "execution_count": 10,
   "metadata": {},
   "outputs": [
    {
     "name": "stdout",
     "output_type": "stream",
     "text": [
      "BŁĄD DLA: [] MIAŁ BYĆ: True A JEST: False\n"
     ]
    },
    {
     "data": {
      "text/plain": [
       "'Wykonanych testów: 12 Błędów: 1'"
      ]
     },
     "execution_count": 10,
     "metadata": {},
     "output_type": "execute_result"
    }
   ],
   "source": [
    "def test_suite_czy_krecony_palindrom():\n",
    "    testowe = [\n",
    "        # int \n",
    "         ([1, 2, 1], True),\n",
    "         ([2, 1, 1], True),\n",
    "         ([1, 2, 3], False),\n",
    "         ([4], True),\n",
    "        \n",
    "        # string \n",
    "         (['a', 'b', 'a'], True),\n",
    "         (['b', 'a', 'a'], True),\n",
    "         (['a', 'b', 'c'], False),\n",
    "         (['b'], True),\n",
    "        \n",
    "        # mieszane \n",
    "         (['a', 1, 'a'], True),\n",
    "         ([1, 'a', 'a'], True),\n",
    "         (['a', 1, 'c'], False),\n",
    "        \n",
    "        # pusta lista\n",
    "         ([], True)]\n",
    "    \n",
    "    problemy = 0\n",
    "    for przyklad, poprawny_wynik in testowe:\n",
    "        if czy_krecony_palindrom(przyklad) != poprawny_wynik:\n",
    "            print(f'BŁĄD DLA: {przyklad} MIAŁ BYĆ: {poprawny_wynik} A JEST: {czy_krecony_palindrom(przyklad)}')\n",
    "            problemy += 1\n",
    "                  \n",
    "    return f'Wykonanych testów: {len(testowe)} Błędów: {problemy}'\n",
    "\n",
    "test_suite_czy_krecony_palindrom()"
   ]
  },
  {
   "cell_type": "code",
   "execution_count": 11,
   "metadata": {},
   "outputs": [
    {
     "data": {
      "text/plain": [
       "'Wykonanych testów: 5 Błędów: 0'"
      ]
     },
     "execution_count": 11,
     "metadata": {},
     "output_type": "execute_result"
    }
   ],
   "source": [
    "def test_suite_znajdz_wzorzec():\n",
    "    testowe = [([2, 3, 4], [3, 4], True),\n",
    "              ([-5, -2], [4, 5], False),\n",
    "              ([], [6, 7, 8], False),\n",
    "              ([8], [8], True),\n",
    "                ([], [], True)]\n",
    "    \n",
    "    problemy = 0\n",
    "    for przyklad_1, przyklad_2, poprawny_wynik in testowe:\n",
    "        if znajdz_wzorzec(przyklad_1, przyklad_2) != poprawny_wynik:\n",
    "            print(f'BŁĄD DLA: {przyklad_1, przyklad_2} MIAŁ BYĆ: {poprawny_wynik} A JEST: {znajdz_wzorzec(przyklad_1, przyklad_2)}')\n",
    "            problemy += 1\n",
    "                  \n",
    "    return f'Wykonanych testów: {len(testowe)} Błędów: {problemy}'\n",
    "\n",
    "test_suite_znajdz_wzorzec()"
   ]
  },
  {
   "cell_type": "code",
   "execution_count": 12,
   "metadata": {},
   "outputs": [
    {
     "data": {
      "text/plain": [
       "'Wykonanych testów: 4 Błędów: 0'"
      ]
     },
     "execution_count": 12,
     "metadata": {},
     "output_type": "execute_result"
    }
   ],
   "source": [
    "def test_suite_podzial():\n",
    "    testowe = [([1, 2, 3, 6], ([1, 2, 3], [6])),\n",
    "              ([-1, 2, -3, 4], ([-1, 2], [-3, 4])),\n",
    "              ([6, 2, 1], None),\n",
    "              ([], None)]\n",
    "    \n",
    "    problemy = 0\n",
    "    for przyklad, poprawny_wynik in testowe:\n",
    "        if podzial(przyklad) != poprawny_wynik:\n",
    "            print(f'BŁĄD DLA: {przyklad} MIAŁ BYĆ: {poprawny_wynik} A JEST: {podzial(przyklad)}')\n",
    "            problemy += 1\n",
    "                  \n",
    "    return f'Wykonanych testów: {len(testowe)} Błędów: {problemy}'\n",
    "\n",
    "test_suite_podzial()"
   ]
  },
  {
   "cell_type": "code",
   "execution_count": 13,
   "metadata": {},
   "outputs": [
    {
     "data": {
      "text/plain": [
       "'Wykonanych testów: 8 Błędów: 0'"
      ]
     },
     "execution_count": 13,
     "metadata": {},
     "output_type": "execute_result"
    }
   ],
   "source": [
    "def test_suite_rozdziel_na_podlisty():\n",
    "    testowe = [\n",
    "    ([1, 2, 3, 4, 5, 6], 2, True, [[1, 2], [3, 4], [5, 6]]),\n",
    "    ([1, 2, 3, 4, 5, 6], 2, False,[[1, 2], [2, 3], [3, 4], [4, 5], [5, 6]]),\n",
    "    ([1, 2, 3, 4, 5, 6], 3, True, [[1, 2, 3], [4, 5, 6]]),\n",
    "    ([1, 2, 3, 4, 5, 6], 3, False, [[1, 2, 3], [2, 3, 4], [3, 4, 5], [4, 5, 6]]),\n",
    "    ([1, 2, 3, 4, 5, 6], 4, True, [[1, 2, 3, 4]]),\n",
    "    ([1, 2, 3, 4, 5, 6], 4, False, [[1, 2, 3, 4], [2, 3, 4, 5], [3, 4, 5, 6]]),\n",
    "    ([1, 2, 3, 4, 5, 6], 7, True, []),\n",
    "    ([1, 2, 3, 4, 5, 6], 7, False, []),\n",
    "    ]\n",
    "    problemy = 0\n",
    "    for lista, dlugosc_podciagu, rozdzielenie, spodziewany_wynik in testowe:\n",
    "        if rozdziel_na_podlisty(lista, dlugosc_podciagu, rozdzielenie) != spodziewany_wynik:\n",
    "            print(f'BŁĄD DLA: {lista}, dlugość podciągu = {dlugosc_podciagu}, rozdzielenie = {rozdzielenie} MIAŁ BYĆ: {spodziewany_wynik} A JEST: {rozdziel_na_podlisty(lista, dlugosc_podciagu, rozdzielenie)}')\n",
    "            problemy += 1\n",
    "                  \n",
    "    return f'Wykonanych testów: {len(testowe)} Błędów: {problemy}'\n",
    "\n",
    "test_suite_rozdziel_na_podlisty()"
   ]
  },
  {
   "cell_type": "code",
   "execution_count": 14,
   "metadata": {},
   "outputs": [
    {
     "data": {
      "text/plain": [
       "'Wykonanych testów: 10 Błędów: 0'"
      ]
     },
     "execution_count": 14,
     "metadata": {},
     "output_type": "execute_result"
    }
   ],
   "source": [
    "def test_suite_system_rzymski():\n",
    "    testowe = [\n",
    "        # int\n",
    "        ([50, 1045, 23], ['L', 'MXLV', 'XXIII']),\n",
    "        ([4, 5, 7], ['IV', 'V', 'VII']),\n",
    "        ([4, 29, 115], ['IV', 'XXIX', 'CXV']),\n",
    "        # float\n",
    "        ([50.0, 1045.0, 23.0], ['L', 'MXLV', 'XXIII']),\n",
    "        ([4.0, 5.0, 7.0], ['IV', 'V', 'VII']),\n",
    "        ([4.0, 29.0, 115.0], ['IV', 'XXIX', 'CXV']),\n",
    "        # mieszane\n",
    "        ([50.0, 1045, 23.0], ['L', 'MXLV', 'XXIII']),\n",
    "        ([4, 5.0, 7], ['IV', 'V', 'VII']),\n",
    "        ([4, 29.0, 115.0], ['IV', 'XXIX', 'CXV']),\n",
    "        # pusta lista\n",
    "        ([], []),\n",
    "        ]\n",
    "    \n",
    "    problemy = 0\n",
    "    for przyklad, poprawny_wynik in testowe:\n",
    "        if system_rzymski(przyklad) != poprawny_wynik:\n",
    "            print(f'BŁĄD DLA: {przyklad} MIAŁ BYĆ: {poprawny_wynik} A JEST: {system_rzymski(przyklad)}')\n",
    "            problemy += 1\n",
    "                  \n",
    "    return f'Wykonanych testów: {len(testowe)} Błędów: {problemy}'\n",
    "\n",
    "test_suite_system_rzymski()"
   ]
  },
  {
   "cell_type": "code",
   "execution_count": 15,
   "metadata": {},
   "outputs": [
    {
     "data": {
      "text/plain": [
       "'Wykonanych testów: 4 Błędów: 0'"
      ]
     },
     "execution_count": 15,
     "metadata": {},
     "output_type": "execute_result"
    }
   ],
   "source": [
    "def test_suite_slownie():\n",
    "    testowe = [([50, 1000, 23], ['pięćdziesiąt', 'tysiąc', 'dwadzieścia trzy']),\n",
    "              ([], []),\n",
    "              ([4], ['cztery']),\n",
    "              ([1300, 35], 'Element 1300 nie mieści się w zakresie.')]\n",
    "    \n",
    "    problemy = 0\n",
    "    for przyklad, poprawny_wynik in testowe:\n",
    "        if slownie(przyklad) != poprawny_wynik:\n",
    "            print(f'BŁĄD DLA: {przyklad} MIAŁ BYĆ: {poprawny_wynik} A JEST: {slownie(przyklad)}')\n",
    "            problemy += 1\n",
    "                  \n",
    "    return f'Wykonanych testów: {len(testowe)} Błędów: {problemy}'\n",
    "\n",
    "test_suite_slownie()"
   ]
  },
  {
   "cell_type": "markdown",
   "metadata": {
    "id": "eie3U1QcRsFX"
   },
   "source": [
    "### Zadanie 2 [50 pkt]\n",
    "Zbuduj testy **glass box** do wszystkich funkcji z modułu `numseq` budowanych w pracy domowej 2. Do `docstring`u każdej funkcji (powinno być ich 14) dopisz testy automatyczne bazujące na przykładach (`>>>`). Przetestuj te funkcje modułem `doctest`.\n",
    "\n",
    "* dodaj testy (14 * 3 pkt)\n",
    "* uruchom testy (8 pkt)"
   ]
  },
  {
   "cell_type": "code",
   "execution_count": 16,
   "metadata": {
    "id": "y_N0-zA4RsFX"
   },
   "outputs": [],
   "source": [
    "def iloczyn(L):\n",
    "    '''funkcja zwraca iloczyn wszystkich liczbowych elementów listy\n",
    "    \n",
    "    >>> iloczyn([3, 4, 5])\n",
    "    60\n",
    "    >>> iloczyn([])\n",
    "    0\n",
    "    >>> iloczyn([2, 'k', 3])\n",
    "    6\n",
    "    >>> iloczyn([2.0, 2])\n",
    "    4.0\n",
    "    >>> iloczyn([2])\n",
    "    2\n",
    "    \n",
    "    '''\n",
    "    \n",
    "    iloczyn = 1\n",
    "    for element in L:\n",
    "        if isinstance(element, (int, float)):\n",
    "            iloczyn *= element\n",
    "    return iloczyn\n",
    "\n",
    "def iloraz(L):\n",
    "    '''funkcja zwraca iloraz wszystkich niezerowych liczbowych elementów listy\n",
    "    \n",
    "    >>> iloraz([60, 2, 2])\n",
    "    15.0\n",
    "    >>> iloraz([]) \n",
    "    0.0\n",
    "    >>> iloraz([10, 'k', 5]) \n",
    "    2.0\n",
    "    >>> iloraz([4, 2.0])\n",
    "    2.0\n",
    "    >>> iloraz([2])\n",
    "    2\n",
    "    '''\n",
    "    \n",
    "    kopia_listy = []\n",
    "    for element in L:\n",
    "        if isinstance(element, (int, float)) and element != 0.0 and element != 0:\n",
    "            kopia_listy += [element]\n",
    "    if dlugosc(kopia_listy) > 0:\n",
    "        iloraz = kopia_listy[0] \n",
    "        for element in kopia_listy[1:]:\n",
    "            iloraz = iloraz / element\n",
    "        return iloraz\n",
    "    else:\n",
    "        return 0.0\n",
    "\n",
    "def wartosc_bezwzgledna(L):\n",
    "    '''funkcja zwraca kopię wartości bezwzględnych listy `L`\n",
    "    \n",
    "    >>> wartosc_bezwzgledna([-1, 1, 0])\n",
    "    [1, 1, 0]\n",
    "    >>> wartosc_bezwzgledna([-5])\n",
    "    [5]\n",
    "    >>> wartosc_bezwzgledna([])\n",
    "    []\n",
    "    '''\n",
    "    \n",
    "    kopia_listy = []\n",
    "    for element in L:\n",
    "        if element >= 0:\n",
    "            kopia_listy += [element]\n",
    "        else:\n",
    "            kopia_listy += [-(element)]\n",
    "    return kopia_listy\n",
    "\n",
    "def suma_par(A, B):\n",
    "    '''zwraca listę sum elementów o przystających indeksach list liczb A, B\n",
    "    \n",
    "    >>> suma_par([2, 3, 4],[2, 3, 4]) \n",
    "    [4, 6, 8]\n",
    "    >>> suma_par([-5, 2],[5, -2]) \n",
    "    [0, 0]\n",
    "    >>> suma_par([], []) \n",
    "    []\n",
    "    '''\n",
    "    \n",
    "    if dlugosc(A) == dlugosc(B):\n",
    "        lista = []\n",
    "        for indeks in range(dlugosc(A)):\n",
    "            lista += [A[indeks] + B[indeks]]\n",
    "        return lista\n",
    "    else:\n",
    "        return 'listy nie są równej długości'\n",
    "    \n",
    "def iloczyn_par(A, B):\n",
    "    '''funkcja zwracająca listę iloczynów elementów o przystających indeksach list liczb A, B\n",
    "    \n",
    "    >>> iloczyn_par([2, 3, 4], [2, 3, 4])\n",
    "    [4, 9, 16]\n",
    "    >>> iloczyn_par([-5, -2], [5, -2])\n",
    "    [-25, 4]\n",
    "    >>> iloczyn_par([], [])\n",
    "    []\n",
    "    >>> iloczyn_par([4, 5], [6, 7, 8])\n",
    "    'listy nie są równej długości'\n",
    "    '''\n",
    "    \n",
    "    if dlugosc(A) == dlugosc(B):\n",
    "        lista = []\n",
    "        for indeks in range(dlugosc(A)):\n",
    "            lista += [A[indeks] * B[indeks]]\n",
    "        return lista\n",
    "    else:\n",
    "        return 'listy nie są równej długości'\n",
    "    \n",
    "def bezwzgledna_roznica_par(A, B):\n",
    "    '''funkcja zwracająca listę bezwzględnych wartości różnic elementów o przystających indeksach list liczb A, B\n",
    "    \n",
    "    >>> bezwzgledna_roznica_par([2, 3, 4], [10, 20, 30])\n",
    "    [8, 17, 26]\n",
    "    >>> bezwzgledna_roznica_par([-5, -2], [5, -2]) \n",
    "    [10, 0]\n",
    "    >>> bezwzgledna_roznica_par([], [])\n",
    "    []\n",
    "    >>> bezwzgledna_roznica_par([4, 5], [6, 7, 8]) \n",
    "    'listy nie są równej długości'\n",
    "    '''\n",
    "    \n",
    "    if dlugosc(A) == dlugosc(B):\n",
    "        lista = []\n",
    "        kopia_listy = []\n",
    "        for indeks in range(dlugosc(A)):\n",
    "            lista += [A[indeks] - B[indeks]]\n",
    "        for element in lista:\n",
    "            if element >= 0:\n",
    "                kopia_listy += [element]\n",
    "            else:\n",
    "                kopia_listy += [-(element)]\n",
    "        return kopia_listy\n",
    "    else:\n",
    "        return 'listy nie są równej długości'\n",
    "    \n",
    "def czy_palindrom(L):\n",
    "    '''zwracająca True gry lista L jest palindromem lub False gry nie jest\n",
    "    \n",
    "    >>> czy_palindrom(['z','a','r','a','z'])\n",
    "    True\n",
    "    >>> czy_palindrom([])\n",
    "    True\n",
    "    >>> czy_palindrom([1, 2, 3])\n",
    "    False\n",
    "    >>> czy_palindrom(['z'])\n",
    "    True\n",
    "    '''\n",
    "    \n",
    "    odwrocona = odwroc(L)\n",
    "    if odwrocona == L:\n",
    "        return True\n",
    "    else:\n",
    "        return False\n",
    "    \n",
    "def potegi(L, n):\n",
    "    '''zwracająca kopię listy L z elementami liczbowymi podniesionymi do potęgi n\n",
    "    \n",
    "    >>> potegi([2, 3, 4], 2) \n",
    "    [4, 9, 16]\n",
    "    >>> potegi([-5, -2], 3) \n",
    "    [-125, -8]\n",
    "    >>> potegi([], [])\n",
    "    []\n",
    "    >>> potegi([8], -1)\n",
    "    [0.125]\n",
    "    '''\n",
    "    \n",
    "    lista_liczb = tylko_liczby(L)\n",
    "    kopia_listy = []\n",
    "    for element in lista_liczb:\n",
    "        kopia_listy += [element ** n]\n",
    "    return kopia_listy\n",
    "\n",
    "def czy_krecony_palindrom(L):\n",
    "    '''\n",
    "    funkcja sprawdza czy lista L jest kręconym palindromem\n",
    "    \n",
    "    >>> czy_krecony_palindrom([1, 2, 1])\n",
    "    True\n",
    "    >>> czy_krecony_palindrom([2, -1, -1])\n",
    "    True\n",
    "    >>> czy_krecony_palindrom([1, 2, 3])\n",
    "    False\n",
    "    >>> czy_krecony_palindrom([4])\n",
    "    True\n",
    "    >>> czy_krecony_palindrom([])\n",
    "    True\n",
    "    '''\n",
    "    \n",
    "    lista = L\n",
    "    powtorzenia = dlugosc(L)\n",
    "    for powtorzenie in range(powtorzenia):\n",
    "        ostatni_element = lista[-1]\n",
    "        kopia_listy = lista[:-1]\n",
    "        kopia_listy.insert(0, ostatni_element)\n",
    "        lista = kopia_listy\n",
    "        if czy_palindrom(lista):\n",
    "            return True\n",
    "    return False\n",
    "\n",
    "def znajdz_wzorzec(L, wzorzec):\n",
    "    '''\n",
    "    bool, czy lista wzorzec jest podciągiem listy L\n",
    "    \n",
    "    >>> znajdz_wzorzec([1, 2, 3, 4, 5], [3, 4])\n",
    "    True\n",
    "    >>> znajdz_wzorzec([1, 2, 3, 4, 5], [4, 5, 6, 7])\n",
    "    False\n",
    "    >>> znajdz_wzorzec([1, 2, 3, 4, 5], [1, 3, 2])\n",
    "    False\n",
    "    >>> znajdz_wzorzec([], [6, 7, 8]) \n",
    "    False\n",
    "    >>> znajdz_wzorzec([8], [8])\n",
    "    True\n",
    "    >>> znajdz_wzorzec([], []) \n",
    "    True\n",
    "    '''\n",
    "    \n",
    "    lista_podciagow = podziel_na_n_elementowe_podciagi(L, dlugosc(wzorzec))\n",
    "    for podciag in lista_podciagow:\n",
    "        if podciag == wzorzec:\n",
    "            return True\n",
    "    return False\n",
    "\n",
    "def podzial(L):\n",
    "    '''\n",
    "    sprawdza, czy da się podzielić listę na dwie nieprzekrywające się podlisty o równej sumie elementów; \n",
    "    gdy się da - zwraca obie podlisty, gdy się nie da, zwraca None\n",
    "    \n",
    "    >>> podzial([1, 2, 3, 6])\n",
    "    ([1, 2, 3], [6])\n",
    "    >>> podzial([-1, 2, -3, 4])\n",
    "    ([-1, 2], [-3, 4])\n",
    "    >>> podzial([6, 2, 1, 3])\n",
    "    ([6], [2, 1, 3])\n",
    "    >>> podzial([6, 2, 1])\n",
    "    None\n",
    "    >>> podzial([-1, 2, -3, 4])\n",
    "    ([-1, 2], [-3, 4])\n",
    "    >>> podzial([])\n",
    "    None\n",
    "    '''\n",
    "    \n",
    "    for indeks in range(dlugosc(L) - 1):\n",
    "        czesc1 = L[0:indeks + 1]\n",
    "        czesc2 = L[indeks + 1:]\n",
    "        if suma(czesc1) == suma(czesc2):\n",
    "            return czesc1, czesc2\n",
    "    return None\n",
    "\n",
    "def rozdziel_na_podlisty(L, dlugosc_podciagu=2, rozdzielne=True):\n",
    "    '''\n",
    "    rozdziela listę L na nieprzekrywające się (rozdzielne=True) lub przekrywające się (rozdzielne=False) \n",
    "    podlisty o długości dlugosc (domyślnie dwuelementowe), ale tylko gdy mamy wystarczającą ilość elementów; \n",
    "    jeżeli parametr rozdzielne=True to zwracane podlisty powinny być rozdzielne, jeżeli =False to należy zwrócić \n",
    "    wszystkie podlisty, rozpoczynając od każdego możliwego indeksu listy L i elementy podlist będą na siebie nachodzić\n",
    "    \n",
    "    >>> rozdziel_na_podlisty([1, 2, 3, 4, 5, 6])\n",
    "    [[1, 2], [3, 4], [5, 6]]\n",
    "    >>> rozdziel_na_podlisty([1, 2, 3, 4, 5, 6], dlugosc_podciagu=3)\n",
    "    [[1, 2, 3], [4, 5, 6]]\n",
    "    >>> rozdziel_na_podlisty([1, 2, 3, 4, 5, 6], dlugosc_podciagu=4)\n",
    "    [[1, 2, 3, 4]]\n",
    "    >>> rozdziel_na_podlisty([1, 2, 3, 4, 5, 6], dlugosc_podciagu=7)\n",
    "    []\n",
    "    >>> rozdziel_na_podlisty([1, 2, 3, 4, 5, 6], rozdzielne=False)\n",
    "    [[1, 2], [2, 3], [3, 4], [4, 5], [5, 6]]\n",
    "    >>> rozdziel_na_podlisty([1, 2, 3, 4, 5, 6], dlugosc_podciagu=3, rozdzielne=False)\n",
    "    [[1, 2, 3], [2, 3, 4], [3, 4, 5], [4, 5, 6]]\n",
    "    >>> rozdziel_na_podlisty([1, 2, 3, 4, 5, 6], dlugosc_podciagu=4, rozdzielne=False)\n",
    "    [[1, 2, 3, 4], [2, 3, 4, 5], [3, 4, 5, 6]]\n",
    "    >>> rozdziel_na_podlisty([1, 2, 3, 4, 5, 6], dlugosc_podciagu=7, rozdzielne=False)\n",
    "    []\n",
    "    '''\n",
    "    \n",
    "    if rozdzielne == True:\n",
    "        dlugoscL = dlugosc(L)\n",
    "        ilesiezmiesci = dlugoscL // dlugosc_podciagu\n",
    "\n",
    "        lista_podciagow = []\n",
    "        for podciag in range(ilesiezmiesci):\n",
    "            od = dlugosc_podciagu * podciag\n",
    "            do = dlugosc_podciagu * podciag + dlugosc_podciagu\n",
    "            lista_podciagow += [L[od:do]]\n",
    "\n",
    "        return lista_podciagow\n",
    "    else:\n",
    "        lista_podciagow = podziel_na_n_elementowe_podciagi(L, dlugosc_podciagu)\n",
    "        return lista_podciagow\n",
    "    \n",
    "def system_rzymski(L):\n",
    "    '''napisz funkcję zmieniającą całkowite liczby z listy L z systemu arabskiego na system rzymski (łaciński)\n",
    "     w zakresie od 1 do 1000\n",
    "     \n",
    "     >>> system_rzymski([1, 10, 50, 51, 43, 124, 999])\n",
    "     ['I', 'X', 'L', 'LI', 'XLIII', 'CXXIV', 'CMXCIX']\n",
    "     >>> system_rzymski([50, 1045, 23])\n",
    "     ['L', 'MXLV', 'XXIII']\n",
    "     >>> system_rzymski([])\n",
    "     []\n",
    "     >>> system_rzymski([4])\n",
    "     ['IV']\n",
    "     '''\n",
    "    \n",
    "    rzymskie = []\n",
    "    for element in L:\n",
    "        rzymskie += [rzymska(element)]\n",
    "    \n",
    "    return rzymskie\n",
    "    \n",
    "def slownie(L):\n",
    "    '''funkcja zmieniającą całkowite liczby z listy L na wersję słowną w zakresie od 1 do 1000\n",
    "    \n",
    "    >>> slownie([50, 1000, 23])\n",
    "    ['pięćdziesiąt', 'tysiąc', 'dwadzieścia trzy']\n",
    "    >>> slownie([])\n",
    "    []\n",
    "    >>> slownie([4])\n",
    "    ['cztery']\n",
    "    >>> slownie([1300, 35])\n",
    "    'Element 1300 nie mieści się w zakresie.'\n",
    "    '''\n",
    "    \n",
    "    lista_slownie = []\n",
    "    for element in L:\n",
    "        if element < 0 or element > 1000:\n",
    "            return f'Element {element} nie mieści się w zakresie.'\n",
    "        lista_slownie += [zamien_na_slowne(element)]\n",
    "    return lista_slownie"
   ]
  },
  {
   "cell_type": "code",
   "execution_count": 17,
   "metadata": {
    "id": "1OS5CNCGRsFX"
   },
   "outputs": [
    {
     "name": "stdout",
     "output_type": "stream",
     "text": [
      "**********************************************************************\n",
      "File \"__main__\", line 186, in __main__.czy_krecony_palindrom\n",
      "Failed example:\n",
      "    czy_krecony_palindrom([])\n",
      "Expected:\n",
      "    True\n",
      "Got:\n",
      "    False\n",
      "**********************************************************************\n",
      "File \"__main__\", line 6, in __main__.iloczyn\n",
      "Failed example:\n",
      "    iloczyn([])\n",
      "Expected:\n",
      "    0\n",
      "Got:\n",
      "    1\n",
      "**********************************************************************\n",
      "File \"__main__\", line 236, in __main__.podzial\n",
      "Failed example:\n",
      "    podzial([6, 2, 1])\n",
      "Expected:\n",
      "    None\n",
      "Got nothing\n",
      "**********************************************************************\n",
      "File \"__main__\", line 240, in __main__.podzial\n",
      "Failed example:\n",
      "    podzial([])\n",
      "Expected:\n",
      "    None\n",
      "Got nothing\n",
      "**********************************************************************\n",
      "3 items had failures:\n",
      "   1 of   5 in __main__.czy_krecony_palindrom\n",
      "   1 of   5 in __main__.iloczyn\n",
      "   2 of   6 in __main__.podzial\n",
      "***Test Failed*** 4 failures.\n"
     ]
    },
    {
     "data": {
      "text/plain": [
       "TestResults(failed=4, attempted=65)"
      ]
     },
     "execution_count": 17,
     "metadata": {},
     "output_type": "execute_result"
    }
   ],
   "source": [
    "import doctest\n",
    "doctest.testmod()"
   ]
  },
  {
   "cell_type": "code",
   "execution_count": null,
   "metadata": {},
   "outputs": [],
   "source": []
  }
 ],
 "metadata": {
  "colab": {
   "name": "kc20_p_pd03_nazwisko_imie.ipynb",
   "provenance": []
  },
  "kernelspec": {
   "display_name": "Python 3 (ipykernel)",
   "language": "python",
   "name": "python3"
  },
  "language_info": {
   "codemirror_mode": {
    "name": "ipython",
    "version": 3
   },
   "file_extension": ".py",
   "mimetype": "text/x-python",
   "name": "python",
   "nbconvert_exporter": "python",
   "pygments_lexer": "ipython3",
   "version": "3.9.5"
  }
 },
 "nbformat": 4,
 "nbformat_minor": 1
}
