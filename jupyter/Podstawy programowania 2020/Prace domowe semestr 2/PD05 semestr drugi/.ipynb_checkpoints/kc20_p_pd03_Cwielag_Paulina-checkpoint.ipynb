{
 "cells": [
  {
   "cell_type": "markdown",
   "metadata": {
    "id": "SPERWWaKRsFO"
   },
   "source": [
    "# Komunikacja Cyfrowa\n",
    "## Programowanie\n",
    "### Praca domowa 03 [100 pkt]\n",
    "\n",
    "Proszę użyć tego arkusza do rozwiązania zadań domowych. Na początek proszę zmienić 'nazwisko_imie' na Państwa nazwisko i imie, bez polskich znaków diakrytycznych.\n",
    "\n",
    "Jak już Państwo zaprogramują wszystko, proszę zapisać arkusz (File->Save and Checkpoint) oraz zapisać arkusz na dysk (File->Download as->Notebook). <font color='red'>**Ten plik oraz zmieniony o testy moduł `numseq` proszę wgrać na classroom jako osobne pliki**</font>, proszę nie wgrywać archiwów (zip, rar, tar...).\n",
    "\n",
    "**Uwaga** Przed oddaniem pliku warto zrestartować kernel Python-a, i uruchomić wszystkie komórki ręcznie, patrząc czy wszystko jest OK. Błędy rzucane przez interpreter spowodują 0 punktów.\n"
   ]
  },
  {
   "cell_type": "code",
   "execution_count": null,
   "metadata": {
    "id": "4JD5TKXKRsFV"
   },
   "outputs": [],
   "source": []
  },
  {
   "cell_type": "markdown",
   "metadata": {
    "id": "Io8mga_lRsFV"
   },
   "source": [
    "# `numseq`\n",
    "\n",
    "W ramach pracy domowej 2 dodaliśmy następujące funkcje:\n",
    "\n",
    "```\n",
    "iloczyn\n",
    "iloraz\n",
    "abs\n",
    "suma_par\n",
    "iloczyn_par\n",
    "bezwzgledna_roznica_par\n",
    "czy_palindrom\n",
    "potegi\n",
    "czy_krecony_palindrom\n",
    "znajdz_wzorzec\n",
    "podzial\n",
    "rozdziel_na_podlisty\n",
    "system_rzymski\n",
    "slownie\n",
    "```"
   ]
  },
  {
   "cell_type": "code",
   "execution_count": 1,
   "metadata": {
    "id": "BLsKaE-aRsFW"
   },
   "outputs": [],
   "source": [
    "from numseq import *"
   ]
  },
  {
   "cell_type": "markdown",
   "metadata": {
    "id": "gpR8fCaWRsFW"
   },
   "source": [
    "### Zadanie 1 [50 pkt]\n",
    "Zbuduj testy **black box** do wszystkich funkcji z modułu `numseq` budowanego w pracy domowej 2. Do każdej funkcji (powinno być ich 14) stwórz funkcję `test_nazwa_funkcji()` w której zawrzesz zestaw testów bazujących na specyfikacjach. Funkcje te dodaj do modułu `numseq`.\n",
    "\n",
    "* dodaj testy (14 * 3 pkt)\n",
    "* uruchom testy (8 pkt)"
   ]
  },
  {
   "cell_type": "code",
   "execution_count": 2,
   "metadata": {
    "id": "U5CqoXxBRsFW"
   },
   "outputs": [],
   "source": [
    "def test_suite_iloczyn():\n",
    "    testowe = [([3, 4, 5], 60),\n",
    "              ([], 0),\n",
    "              ([2, 'k', 3], 6),\n",
    "              ([2.0, 2], 4.0),\n",
    "              ([2], 2)]\n",
    "    \n",
    "    problemy = 0\n",
    "    for przyklad, poprawny_wynik in testowe:\n",
    "        if iloczyn(przyklad) != poprawny_wynik:\n",
    "            print(f'BŁĄD DLA: {przyklad} MIAŁ BYĆ: {poprawny_wynik} A JEST: {iloczyn(przyklad)}')\n",
    "            problemy += 1\n",
    "                  \n",
    "    return f'Wykonanych testów: {len(testowe)} Błędów: {problemy}'"
   ]
  },
  {
   "cell_type": "code",
   "execution_count": 3,
   "metadata": {},
   "outputs": [
    {
     "data": {
      "text/plain": [
       "2"
      ]
     },
     "execution_count": 3,
     "metadata": {},
     "output_type": "execute_result"
    }
   ],
   "source": [
    "iloczyn([2])"
   ]
  },
  {
   "cell_type": "code",
   "execution_count": 4,
   "metadata": {},
   "outputs": [
    {
     "name": "stdout",
     "output_type": "stream",
     "text": [
      "BŁĄD DLA: [] MIAŁ BYĆ: 0 A JEST: 1\n"
     ]
    },
    {
     "data": {
      "text/plain": [
       "'Wykonanych testów: 5 Błędów: 1'"
      ]
     },
     "execution_count": 4,
     "metadata": {},
     "output_type": "execute_result"
    }
   ],
   "source": [
    "test_suite_iloczyn()"
   ]
  },
  {
   "cell_type": "code",
   "execution_count": 5,
   "metadata": {},
   "outputs": [],
   "source": [
    "def test_suite_iloraz():\n",
    "    testowe = [([60, 2, 2], 15.0),\n",
    "              ([], 0.0),\n",
    "              ([10, 'k', 5], 2.0),\n",
    "              ([4, 2.0], 2.0),\n",
    "              ([2], 0)]\n",
    "    \n",
    "    problemy = 0\n",
    "    for przyklad, poprawny_wynik in testowe:\n",
    "        if iloraz(przyklad) != poprawny_wynik:\n",
    "            print(f'BŁĄD DLA: {przyklad} MIAŁ BYĆ: {poprawny_wynik} A JEST: {iloraz(przyklad)}')\n",
    "            problemy += 1\n",
    "                  \n",
    "    return f'Wykonanych testów: {len(testowe)} Błędów: {problemy}'"
   ]
  },
  {
   "cell_type": "code",
   "execution_count": 6,
   "metadata": {},
   "outputs": [
    {
     "name": "stdout",
     "output_type": "stream",
     "text": [
      "BŁĄD DLA: [2] MIAŁ BYĆ: 0 A JEST: 2\n"
     ]
    },
    {
     "data": {
      "text/plain": [
       "'Wykonanych testów: 5 Błędów: 1'"
      ]
     },
     "execution_count": 6,
     "metadata": {},
     "output_type": "execute_result"
    }
   ],
   "source": [
    "test_suite_iloraz()"
   ]
  },
  {
   "cell_type": "code",
   "execution_count": 7,
   "metadata": {},
   "outputs": [],
   "source": [
    "def test_suite_wartosc_bezwzgledna():\n",
    "    testowe = [([-1, 1, 0], [1, 1, 0]),\n",
    "              ([-5], [5]),\n",
    "              ([], [])]\n",
    "    \n",
    "    problemy = 0\n",
    "    for przyklad, poprawny_wynik in testowe:\n",
    "        if wartosc_bezwzgledna(przyklad) != poprawny_wynik:\n",
    "            print(f'BŁĄD DLA: {przyklad} MIAŁ BYĆ: {poprawny_wynik} A JEST: {wartosc_bezwzgledna(przyklad)}')\n",
    "            problemy += 1\n",
    "                  \n",
    "    return f'Wykonanych testów: {len(testowe)} Błędów: {problemy}'"
   ]
  },
  {
   "cell_type": "code",
   "execution_count": 8,
   "metadata": {},
   "outputs": [
    {
     "data": {
      "text/plain": [
       "'Wykonanych testów: 3 Błędów: 0'"
      ]
     },
     "execution_count": 8,
     "metadata": {},
     "output_type": "execute_result"
    }
   ],
   "source": [
    "test_suite_wartosc_bezwzgledna()"
   ]
  },
  {
   "cell_type": "code",
   "execution_count": 9,
   "metadata": {},
   "outputs": [
    {
     "data": {
      "text/plain": [
       "'Wykonanych testów: 3 Błędów: 0'"
      ]
     },
     "execution_count": 9,
     "metadata": {},
     "output_type": "execute_result"
    }
   ],
   "source": [
    "def test_suite_suma_par():\n",
    "    testowe = [([2, 3, 4],[2, 3, 4], [4, 6, 8]),\n",
    "              ([-5, 2],[5, -2], [0, 0]),\n",
    "              ([], [], [])]\n",
    "    \n",
    "    problemy = 0\n",
    "    for przyklad_1, przyklad_2, poprawny_wynik in testowe:\n",
    "        if suma_par(przyklad_1, przyklad_2) != poprawny_wynik:\n",
    "            print(f'BŁĄD DLA: {przyklad_1, przyklad_2} MIAŁ BYĆ: {poprawny_wynik} A JEST: {suma_par(przyklad_1, przyklad_2)}')\n",
    "            problemy += 1\n",
    "                  \n",
    "    return f'Wykonanych testów: {len(testowe)} Błędów: {problemy}'\n",
    "\n",
    "test_suite_suma_par()"
   ]
  },
  {
   "cell_type": "code",
   "execution_count": 10,
   "metadata": {},
   "outputs": [
    {
     "data": {
      "text/plain": [
       "[2, 4, 6]"
      ]
     },
     "execution_count": 10,
     "metadata": {},
     "output_type": "execute_result"
    }
   ],
   "source": [
    "suma_par([1,2,3], [1,2,3])"
   ]
  },
  {
   "cell_type": "code",
   "execution_count": 11,
   "metadata": {},
   "outputs": [
    {
     "data": {
      "text/plain": [
       "'Wykonanych testów: 4 Błędów: 0'"
      ]
     },
     "execution_count": 11,
     "metadata": {},
     "output_type": "execute_result"
    }
   ],
   "source": [
    "def test_suite_iloczyn_par():\n",
    "    testowe = [([2, 3, 4], [2, 3, 4], [4, 9, 16]),\n",
    "              ([-5, -2], [5, -2], [-25, 4]),\n",
    "              ([], [], []),\n",
    "              ([4, 5], [6, 7, 8], 'listy nie są równej długości')]\n",
    "    \n",
    "    problemy = 0\n",
    "    for przyklad_1, przyklad_2, poprawny_wynik in testowe:\n",
    "        if iloczyn_par(przyklad_1, przyklad_2) != poprawny_wynik:\n",
    "            print(f'BŁĄD DLA: {przyklad_1, przyklad_2} MIAŁ BYĆ: {poprawny_wynik} A JEST: {iloczyn_par(przyklad_1, przyklad_2)}')\n",
    "            problemy += 1\n",
    "                  \n",
    "    return f'Wykonanych testów: {len(testowe)} Błędów: {problemy}'\n",
    "\n",
    "test_suite_iloczyn_par()"
   ]
  },
  {
   "cell_type": "code",
   "execution_count": 12,
   "metadata": {},
   "outputs": [
    {
     "data": {
      "text/plain": [
       "'Wykonanych testów: 4 Błędów: 0'"
      ]
     },
     "execution_count": 12,
     "metadata": {},
     "output_type": "execute_result"
    }
   ],
   "source": [
    "def test_suite_bezwzgledna_roznica_par():\n",
    "    testowe = [([2, 3, 4], [10, 20, 30], [8, 17, 26]),\n",
    "              ([-5, -2], [5, -2], [10, 0]),\n",
    "              ([], [], []),\n",
    "              ([4, 5], [6, 7, 8], 'listy nie są równej długości')]\n",
    "    \n",
    "    problemy = 0\n",
    "    for przyklad_1, przyklad_2, poprawny_wynik in testowe:\n",
    "        if bezwzgledna_roznica_par(przyklad_1, przyklad_2) != poprawny_wynik:\n",
    "            print(f'BŁĄD DLA: {przyklad_1, przyklad_2} MIAŁ BYĆ: {poprawny_wynik} A JEST: {bezwzgledna_roznica_par(przyklad_1, przyklad_2)}')\n",
    "            problemy += 1\n",
    "                  \n",
    "    return f'Wykonanych testów: {len(testowe)} Błędów: {problemy}'\n",
    "\n",
    "test_suite_bezwzgledna_roznica_par()"
   ]
  },
  {
   "cell_type": "code",
   "execution_count": 13,
   "metadata": {},
   "outputs": [
    {
     "data": {
      "text/plain": [
       "'Wykonanych testów: 4 Błędów: 0'"
      ]
     },
     "execution_count": 13,
     "metadata": {},
     "output_type": "execute_result"
    }
   ],
   "source": [
    "def test_suite_czy_palindrom():\n",
    "    testowe = [(['z','a','r','a','z'], True),\n",
    "              ([], True),\n",
    "              ([1, 2, 3], False),\n",
    "              (['z'], True)]\n",
    "    \n",
    "    problemy = 0\n",
    "    for przyklad, poprawny_wynik in testowe:\n",
    "        if czy_palindrom(przyklad) != poprawny_wynik:\n",
    "            print(f'BŁĄD DLA: {przyklad} MIAŁ BYĆ: {poprawny_wynik} A JEST: {czy_palindrom(przyklad)}')\n",
    "            problemy += 1\n",
    "                  \n",
    "    return f'Wykonanych testów: {len(testowe)} Błędów: {problemy}'\n",
    "\n",
    "test_suite_czy_palindrom()"
   ]
  },
  {
   "cell_type": "code",
   "execution_count": 14,
   "metadata": {},
   "outputs": [
    {
     "data": {
      "text/plain": [
       "'Wykonanych testów: 4 Błędów: 0'"
      ]
     },
     "execution_count": 14,
     "metadata": {},
     "output_type": "execute_result"
    }
   ],
   "source": [
    "def test_suite_potegi():\n",
    "    testowe = [([2, 3, 4], 2, [4, 9, 16]),\n",
    "              ([-5, -2], 3, [-125, -8]),\n",
    "              ([], [], []),\n",
    "              ([8], -1, [0.125])]\n",
    "    \n",
    "    problemy = 0\n",
    "    for przyklad_1, przyklad_2, poprawny_wynik in testowe:\n",
    "        if potegi(przyklad_1, przyklad_2) != poprawny_wynik:\n",
    "            print(f'BŁĄD DLA: {przyklad_1, przyklad_2} MIAŁ BYĆ: {poprawny_wynik} A JEST: {potegi(przyklad_1, przyklad_2)}')\n",
    "            problemy += 1\n",
    "                  \n",
    "    return f'Wykonanych testów: {len(testowe)} Błędów: {problemy}'\n",
    "\n",
    "test_suite_potegi()"
   ]
  },
  {
   "cell_type": "code",
   "execution_count": 15,
   "metadata": {},
   "outputs": [
    {
     "name": "stdout",
     "output_type": "stream",
     "text": [
      "BŁĄD DLA: [] MIAŁ BYĆ: True A JEST: False\n"
     ]
    },
    {
     "data": {
      "text/plain": [
       "'Wykonanych testów: 5 Błędów: 1'"
      ]
     },
     "execution_count": 15,
     "metadata": {},
     "output_type": "execute_result"
    }
   ],
   "source": [
    "def test_suite_czy_krecony_palindrom():\n",
    "    testowe = [([1, 2, 1], True),\n",
    "              ([2, 1, 1], True),\n",
    "              ([1, 2, 3], False),\n",
    "              ([4], True),\n",
    "              ([], True)]\n",
    "    \n",
    "    problemy = 0\n",
    "    for przyklad, poprawny_wynik in testowe:\n",
    "        if czy_krecony_palindrom(przyklad) != poprawny_wynik:\n",
    "            print(f'BŁĄD DLA: {przyklad} MIAŁ BYĆ: {poprawny_wynik} A JEST: {czy_krecony_palindrom(przyklad)}')\n",
    "            problemy += 1\n",
    "                  \n",
    "    return f'Wykonanych testów: {len(testowe)} Błędów: {problemy}'\n",
    "\n",
    "test_suite_czy_krecony_palindrom()"
   ]
  },
  {
   "cell_type": "code",
   "execution_count": 16,
   "metadata": {},
   "outputs": [
    {
     "data": {
      "text/plain": [
       "'Wykonanych testów: 5 Błędów: 0'"
      ]
     },
     "execution_count": 16,
     "metadata": {},
     "output_type": "execute_result"
    }
   ],
   "source": [
    "def test_suite_znajdz_wzorzec():\n",
    "    testowe = [([2, 3, 4], [3, 4], True),\n",
    "              ([-5, -2], [4, 5], False),\n",
    "              ([], [6, 7, 8], False),\n",
    "              ([8], [8], True),\n",
    "                ([], [], True)]\n",
    "    \n",
    "    problemy = 0\n",
    "    for przyklad_1, przyklad_2, poprawny_wynik in testowe:\n",
    "        if znajdz_wzorzec(przyklad_1, przyklad_2) != poprawny_wynik:\n",
    "            print(f'BŁĄD DLA: {przyklad_1, przyklad_2} MIAŁ BYĆ: {poprawny_wynik} A JEST: {znajdz_wzorzec(przyklad_1, przyklad_2)}')\n",
    "            problemy += 1\n",
    "                  \n",
    "    return f'Wykonanych testów: {len(testowe)} Błędów: {problemy}'\n",
    "\n",
    "test_suite_znajdz_wzorzec()"
   ]
  },
  {
   "cell_type": "code",
   "execution_count": 17,
   "metadata": {},
   "outputs": [
    {
     "data": {
      "text/plain": [
       "'Wykonanych testów: 4 Błędów: 0'"
      ]
     },
     "execution_count": 17,
     "metadata": {},
     "output_type": "execute_result"
    }
   ],
   "source": [
    "def test_suite_podzial():\n",
    "    testowe = [([1, 2, 3, 6], ([1, 2, 3], [6])),\n",
    "              ([-1, 2, -3, 4], ([-1, 2], [-3, 4])),\n",
    "              ([6, 2, 1], None),\n",
    "              ([], None)]\n",
    "    \n",
    "    problemy = 0\n",
    "    for przyklad, poprawny_wynik in testowe:\n",
    "        if podzial(przyklad) != poprawny_wynik:\n",
    "            print(f'BŁĄD DLA: {przyklad} MIAŁ BYĆ: {poprawny_wynik} A JEST: {podzial(przyklad)}')\n",
    "            problemy += 1\n",
    "                  \n",
    "    return f'Wykonanych testów: {len(testowe)} Błędów: {problemy}'\n",
    "\n",
    "test_suite_podzial()"
   ]
  },
  {
   "cell_type": "code",
   "execution_count": 18,
   "metadata": {},
   "outputs": [
    {
     "ename": "SyntaxError",
     "evalue": "unexpected EOF while parsing (<ipython-input-18-44bf781283f4>, line 4)",
     "output_type": "error",
     "traceback": [
      "\u001b[0;36m  File \u001b[0;32m\"<ipython-input-18-44bf781283f4>\"\u001b[0;36m, line \u001b[0;32m4\u001b[0m\n\u001b[0;31m    \u001b[0m\n\u001b[0m    ^\u001b[0m\n\u001b[0;31mSyntaxError\u001b[0m\u001b[0;31m:\u001b[0m unexpected EOF while parsing\n"
     ]
    }
   ],
   "source": [
    "######\n",
    "\n",
    "def test_suite_rozdziel_na_podlisty():\n",
    "    "
   ]
  },
  {
   "cell_type": "code",
   "execution_count": 19,
   "metadata": {},
   "outputs": [
    {
     "name": "stdout",
     "output_type": "stream",
     "text": [
      "BŁĄD DLA: 0 MIAŁ BYĆ: samodzielnie pisane zero nie istnieje w systemie liczb rzymskich A JEST: \n"
     ]
    },
    {
     "data": {
      "text/plain": [
       "'Wykonanych testów: 3 Błędów: 1'"
      ]
     },
     "execution_count": 19,
     "metadata": {},
     "output_type": "execute_result"
    }
   ],
   "source": [
    "def test_suite_rzymska():\n",
    "    testowe = [(50, 'L'),\n",
    "              (1045, 'MXLV'),\n",
    "              (0, 'samodzielnie pisane zero nie istnieje w systemie liczb rzymskich')]\n",
    "    \n",
    "    problemy = 0\n",
    "    for przyklad, poprawny_wynik in testowe:\n",
    "        if rzymska(przyklad) != poprawny_wynik:\n",
    "            print(f'BŁĄD DLA: {przyklad} MIAŁ BYĆ: {poprawny_wynik} A JEST: {rzymska(przyklad)}')\n",
    "            problemy += 1\n",
    "                  \n",
    "    return f'Wykonanych testów: {len(testowe)} Błędów: {problemy}'\n",
    "\n",
    "test_suite_rzymska()"
   ]
  },
  {
   "cell_type": "code",
   "execution_count": 22,
   "metadata": {},
   "outputs": [
    {
     "data": {
      "text/plain": [
       "'Wykonanych testów: 3 Błędów: 0'"
      ]
     },
     "execution_count": 22,
     "metadata": {},
     "output_type": "execute_result"
    }
   ],
   "source": [
    "def test_suite_system_rzymski():\n",
    "    testowe = [([50, 1045, 23], ['L', 'MXLV', 'XXIII']),\n",
    "              ([], []),\n",
    "              ([4], ['IV'])]\n",
    "    \n",
    "    problemy = 0\n",
    "    for przyklad, poprawny_wynik in testowe:\n",
    "        if system_rzymski(przyklad) != poprawny_wynik:\n",
    "            print(f'BŁĄD DLA: {przyklad} MIAŁ BYĆ: {poprawny_wynik} A JEST: {system_rzymski(przyklad)}')\n",
    "            problemy += 1\n",
    "                  \n",
    "    return f'Wykonanych testów: {len(testowe)} Błędów: {problemy}'\n",
    "\n",
    "test_suite_system_rzymski()"
   ]
  },
  {
   "cell_type": "code",
   "execution_count": 31,
   "metadata": {},
   "outputs": [
    {
     "data": {
      "text/plain": [
       "'Wykonanych testów: 4 Błędów: 0'"
      ]
     },
     "execution_count": 31,
     "metadata": {},
     "output_type": "execute_result"
    }
   ],
   "source": [
    "def test_suite_slownie():\n",
    "    testowe = [([50, 1000, 23], ['pięćdziesiąt', 'tysiąc', 'dwadzieścia trzy']),\n",
    "              ([], []),\n",
    "              ([4], ['cztery']),\n",
    "              ([1300, 35], 'Element 1300 nie mieści się w zakresie.')]\n",
    "    \n",
    "    problemy = 0\n",
    "    for przyklad, poprawny_wynik in testowe:\n",
    "        if slownie(przyklad) != poprawny_wynik:\n",
    "            print(f'BŁĄD DLA: {przyklad} MIAŁ BYĆ: {poprawny_wynik} A JEST: {slownie(przyklad)}')\n",
    "            problemy += 1\n",
    "                  \n",
    "    return f'Wykonanych testów: {len(testowe)} Błędów: {problemy}'\n",
    "\n",
    "test_suite_slownie()"
   ]
  },
  {
   "cell_type": "markdown",
   "metadata": {
    "id": "eie3U1QcRsFX"
   },
   "source": [
    "### Zadanie 2 [50 pkt]\n",
    "Zbuduj testy **glass box** do wszystkich funkcji z modułu `numseq` budowanych w pracy domowej 2. Do `docstring`u każdej funkcji (powinno być ich 14) dopisz testy automatyczne bazujące na przykładach (`>>>`). Przetestuj te funkcje modułem `doctest`.\n",
    "\n",
    "* dodaj testy (14 * 3 pkt)\n",
    "* uruchom testy (8 pkt)"
   ]
  },
  {
   "cell_type": "code",
   "execution_count": 32,
   "metadata": {
    "id": "y_N0-zA4RsFX"
   },
   "outputs": [],
   "source": [
    "def iloczyn(L):\n",
    "    '''funkcja zwraca iloczyn wszystkich liczbowych elementów listy\n",
    "    \n",
    "    >>> iloczyn([3, 4, 5])\n",
    "    60\n",
    "    >>> iloczyn([])\n",
    "    0\n",
    "    >>> iloczyn([2, 'k', 3])\n",
    "    6\n",
    "    >>> iloczyn([2.0, 2])\n",
    "    4.0\n",
    "    >>> iloczyn([2])\n",
    "    2\n",
    "    \n",
    "    '''\n",
    "    \n",
    "    iloczyn = 1\n",
    "    for element in L:\n",
    "        if isinstance(element, (int, float)):\n",
    "            iloczyn *= element\n",
    "    return iloczyn\n",
    "\n",
    "def iloraz(L):\n",
    "    '''funkcja zwraca iloraz wszystkich niezerowych liczbowych elementów listy\n",
    "    \n",
    "    >>> iloraz([60, 2, 2])\n",
    "    15.0\n",
    "    >>> iloraz([]) \n",
    "    0.0\n",
    "    >>> iloraz([10, 'k', 5]) \n",
    "    2.0\n",
    "    >>> iloraz([4, 2.0])\n",
    "    2.0\n",
    "    >>> iloraz([2])\n",
    "    0\n",
    "    '''\n",
    "    \n",
    "    kopia_listy = []\n",
    "    for element in L:\n",
    "        if isinstance(element, (int, float)) and element != 0.0 and element != 0:\n",
    "            kopia_listy += [element]\n",
    "    if dlugosc(kopia_listy) > 0:\n",
    "        iloraz = kopia_listy[0] \n",
    "        for element in kopia_listy[1:]:\n",
    "            iloraz = iloraz / element\n",
    "        return iloraz\n",
    "    else:\n",
    "        return 0.0\n",
    "\n",
    "def wartosc_bezwzgledna(L):\n",
    "    '''funkcja zwraca kopię wartości bezwzględnych listy `L`\n",
    "    \n",
    "    >>> wartosc_bezwzgledna([-1, 1, 0]\n",
    "    [1, 1, 0]\n",
    "    >>> wartosc_bezwzgledna([-5]\n",
    "    [5]\n",
    "    >>> wartosc_bezwzgledna([])\n",
    "    []\n",
    "    '''\n",
    "    \n",
    "    kopia_listy = []\n",
    "    for element in L:\n",
    "        if element >= 0:\n",
    "            kopia_listy += [element]\n",
    "        else:\n",
    "            kopia_listy += [-(element)]\n",
    "    return kopia_listy\n",
    "\n",
    "def suma_par(A, B):\n",
    "    '''zwraca listę sum elementów o przystających indeksach list liczb A, B\n",
    "    \n",
    "    >>> suma_par([2, 3, 4],[2, 3, 4]) \n",
    "    [4, 6, 8]\n",
    "    >>> suma_par([-5, 2],[5, -2]) \n",
    "    [0, 0]\n",
    "    >>> suma_par([], []) \n",
    "    []\n",
    "    '''\n",
    "    \n",
    "    if dlugosc(A) == dlugosc(B):\n",
    "        lista = []\n",
    "        for indeks in range(dlugosc(A)):\n",
    "            lista += [A[indeks] + B[indeks]]\n",
    "        return lista\n",
    "    else:\n",
    "        return 'listy nie są równej długości'\n",
    "    \n",
    "def iloczyn_par(A, B):\n",
    "    '''funkcja zwracająca listę iloczynów elementów o przystających indeksach list liczb A, B\n",
    "    \n",
    "    >>> iloczyn_par([2, 3, 4], [2, 3, 4])\n",
    "    [4, 9, 16]\n",
    "    >>> iloczyn_par([-5, -2], [5, -2])\n",
    "    [-25, 4]\n",
    "    >>> iloczyn_par([], [])\n",
    "    []\n",
    "    >>> iloczyn_par([4, 5], [6, 7, 8])\n",
    "    'listy nie są równej długości'\n",
    "    '''\n",
    "    if dlugosc(A) == dlugosc(B):\n",
    "        lista = []\n",
    "        for indeks in range(dlugosc(A)):\n",
    "            lista += [A[indeks] * B[indeks]]\n",
    "        return lista\n",
    "    else:\n",
    "        return 'listy nie są równej długości'\n",
    "    \n",
    "def bezwzgledna_roznica_par(A, B):\n",
    "    'funkcja zwracająca listę bezwzględnych wartości różnic elementów o przystających indeksach list liczb A, B'\n",
    "    if dlugosc(A) == dlugosc(B):\n",
    "        lista = []\n",
    "        kopia_listy = []\n",
    "        for indeks in range(dlugosc(A)):\n",
    "            lista += [A[indeks] - B[indeks]]\n",
    "        for element in lista:\n",
    "            if element >= 0:\n",
    "                kopia_listy += [element]\n",
    "            else:\n",
    "                kopia_listy += [-(element)]\n",
    "        return kopia_listy\n",
    "    else:\n",
    "        return 'listy nie są równej długości'\n",
    "    \n",
    "def czy_palindrom(L):\n",
    "    'zwracająca True gry lista L jest palindromem lub False gry nie jest'\n",
    "    odwrocona = odwroc(L)\n",
    "    if odwrocona == L:\n",
    "        return True\n",
    "    else:\n",
    "        return False\n",
    "    \n",
    "def potegi(L, n):\n",
    "    'zwracająca kopię listy L z elementami liczbowymi podniesionymi do potęgi n'\n",
    "    lista_liczb = tylko_liczby(L)\n",
    "    kopia_listy = []\n",
    "    for element in lista_liczb:\n",
    "        kopia_listy += [element ** n]\n",
    "    return kopia_listy\n",
    "\n",
    "def czy_krecony_palindrom(L):\n",
    "    '''\n",
    "    funkcja sprawdza\n",
    "    \n",
    "    >>> czy_krecony_palindrom([1, 2, 1])\n",
    "    True\n",
    "    >>> czy_krecony_palindrom([2, 1, 1])\n",
    "    True\n",
    "    >>> czy_krecony_palindrom([1, 2, 3])\n",
    "    False\n",
    "    '''\n",
    "    \n",
    "    lista = L\n",
    "    powtorzenia = dlugosc(L)\n",
    "    for powtorzenie in range(powtorzenia):\n",
    "        ostatni_element = lista[-1]\n",
    "        kopia_listy = lista[:-1]\n",
    "        kopia_listy.insert(0, ostatni_element)\n",
    "        lista = kopia_listy\n",
    "        if czy_palindrom(lista):\n",
    "            return True\n",
    "    return False\n",
    "\n",
    "def znajdz_wzorzec(L, wzorzec):\n",
    "    '''\n",
    "    bool, czy lista wzorzec jest podciągiem listy L\n",
    "    \n",
    "    >>> znajdz_wzorzec([1, 2, 3, 4, 5], [3, 4])\n",
    "    True\n",
    "    >>> znajdz_wzorzec([1, 2, 3, 4, 5], [4, 5, 6, 7])\n",
    "    False\n",
    "    >>> znajdz_wzorzec([1, 2, 3, 4, 5], [1, 3, 2])\n",
    "    False\n",
    "    '''\n",
    "    \n",
    "    lista_podciagow = podziel_na_n_elementowe_podciagi(L, dlugosc(wzorzec))\n",
    "    for podciag in lista_podciagow:\n",
    "        if podciag == wzorzec:\n",
    "            return True\n",
    "    return False\n",
    "\n",
    "def podzial(L):\n",
    "    '''\n",
    "    sprawdza, czy da się podzielić listę na dwie nieprzekrywające się podlisty o równej sumie elementów; \n",
    "    gdy się da - zwraca obie podlisty, gdy się nie da, zwraca None\n",
    "    \n",
    "    >>> podzial([1, 2, 3, 6])\n",
    "    ([1, 2, 3], [6])\n",
    "    >>> podzial([-1, 2, -3, 4])\n",
    "    ([-1, 2], [-3, 4])\n",
    "    >>> podzial([6, 2, 1, 3])\n",
    "    ([6], [2, 1, 3])\n",
    "    >>> podzial([6, 2, 1])\n",
    "    None\n",
    "    '''\n",
    "    for indeks in range(dlugosc(L) - 1):\n",
    "        czesc1 = L[0:indeks + 1]\n",
    "        czesc2 = L[indeks + 1:]\n",
    "        if suma(czesc1) == suma(czesc2):\n",
    "            return czesc1, czesc2\n",
    "    return None\n",
    "\n",
    "def rozdziel_na_podlisty(L, dlugosc_podciagu=2, rozdzielne=True):\n",
    "    '''\n",
    "    rozdziela listę L na nieprzekrywające się (rozdzielne=True) lub przekrywające się (rozdzielne=False) \n",
    "    podlisty o długości dlugosc (domyślnie dwuelementowe), ale tylko gdy mamy wystarczającą ilość elementów; \n",
    "    jeżeli parametr rozdzielne=True to zwracane podlisty powinny być rozdzielne, jeżeli =False to należy zwrócić \n",
    "    wszystkie podlisty, rozpoczynając od każdego możliwego indeksu listy L i elementy podlist będą na siebie nachodzić\n",
    "    \n",
    "    >>> rozdziel_na_podlisty([1, 2, 3, 4, 5, 6])\n",
    "    [[1, 2], [3, 4], [5, 6]]\n",
    "    >>> rozdziel_na_podlisty([1, 2, 3, 4, 5, 6], dlugosc_podciagu=3)\n",
    "    [[1, 2, 3], [4, 5, 6]]\n",
    "    >>> rozdziel_na_podlisty([1, 2, 3, 4, 5, 6], dlugosc_podciagu=4)\n",
    "    [[1, 2, 3, 4]]\n",
    "    >>> rozdziel_na_podlisty([1, 2, 3, 4, 5, 6], dlugosc_podciagu=7)\n",
    "    []\n",
    "    >>> rozdziel_na_podlisty([1, 2, 3, 4, 5, 6], rozdzielne=False)\n",
    "    [[1, 2], [2, 3], [3, 4], [4, 5], [5, 6]]\n",
    "    >>> rozdziel_na_podlisty([1, 2, 3, 4, 5, 6], dlugosc_podciagu=3, rozdzielne=False)\n",
    "    [[1, 2, 3], [2, 3, 4], [3, 4, 5], [4, 5, 6]]\n",
    "    >>> rozdziel_na_podlisty([1, 2, 3, 4, 5, 6], dlugosc_podciagu=4, rozdzielne=False)\n",
    "    [[1, 2, 3, 4], [2, 3, 4, 5], [3, 4, 5, 6]]\n",
    "    >>> rozdziel_na_podlisty([1, 2, 3, 4, 5, 6], dlugosc_podciagu=7, rozdzielne=False)\n",
    "    []\n",
    "    '''\n",
    "    \n",
    "    if rozdzielne == True:\n",
    "        dlugoscL = dlugosc(L)\n",
    "        ilesiezmiesci = dlugoscL // dlugosc_podciagu\n",
    "\n",
    "        lista_podciagow = []\n",
    "        for podciag in range(ilesiezmiesci):\n",
    "            od = dlugosc_podciagu * podciag\n",
    "            do = dlugosc_podciagu * podciag + dlugosc_podciagu\n",
    "            lista_podciagow += [L[od:do]]\n",
    "\n",
    "        return lista_podciagow\n",
    "    else:\n",
    "        lista_podciagow = podziel_na_n_elementowe_podciagi(L, dlugosc_podciagu)\n",
    "        return lista_podciagow\n",
    "    \n",
    "def rzymska(liczba):\n",
    "    '''funkcja zamienia liczby zapisane cyframi arabskimi na liczby zapisane w systemie rzymskim'''\n",
    "    \n",
    "    rzymskie = {\n",
    "        1000: 'M',\n",
    "        900: 'CM',\n",
    "        500: 'D',\n",
    "        400: \"CD\",\n",
    "        100: 'C',\n",
    "        90: \"XC\",\n",
    "        50: 'L',\n",
    "        40: \"XL\",\n",
    "        10: 'X',\n",
    "        9: \"IX\",\n",
    "        5: 'V',\n",
    "        4: 'IV',\n",
    "        1: 'I'\n",
    "    }\n",
    "    \n",
    "    liczba_rzymska = ''\n",
    "    \n",
    "    while liczba != 0:\n",
    "        odejmowana = 0\n",
    "        for element in rzymskie:\n",
    "            if element <= liczba:\n",
    "                odejmowana = element\n",
    "                break\n",
    "        liczba -= odejmowana\n",
    "        liczba_rzymska += rzymskie[odejmowana]\n",
    "    \n",
    "    return liczba_rzymska\n",
    "    \n",
    "def system_rzymski(L):\n",
    "    '''napisz funkcję zmieniającą całkowite liczby z listy L z systemu arabskiego na system rzymski (łaciński)\n",
    "     w zakresie od 1 do 1000\n",
    "     \n",
    "     >>> system_rzymski([1, 10, 50, 51, 43, 124, 999])\n",
    "     ['I', 'X', 'L', 'LI', 'XLIII', 'CXXIV', 'CMXCIX']\n",
    "     '''\n",
    "    \n",
    "    rzymskie = []\n",
    "    for element in L:\n",
    "        rzymskie += [rzymska(element)]\n",
    "    \n",
    "    return rzymskie\n",
    "\n",
    "def zamien_na_slowne(liczba_int):\n",
    "    # współpraca z: Igor Juraszek\n",
    "    \n",
    "    liczba = str(liczba_int)\n",
    "    liczba_slownie = ''\n",
    "    \n",
    "    od_1_do_20 = {\n",
    "        '1': 'jeden',\n",
    "        '2': 'dwa',\n",
    "        '3': 'trzy',\n",
    "        '4': 'cztery',\n",
    "        '5': 'pięć',\n",
    "        '6': 'sześć',\n",
    "        '7': 'siedem',\n",
    "        '8': 'osiem',\n",
    "        '9': 'dziewięć',\n",
    "        '10': 'dziesięć',\n",
    "        '11': 'jedenaście',\n",
    "        '12': 'dwanaście',\n",
    "        '13': 'trzynaście',\n",
    "        '14': 'czternaście',\n",
    "        '15': 'piętnaście',\n",
    "        '16': 'szesnaście',\n",
    "        '17': 'siedemnaście',\n",
    "        '18': 'osiemnaście',\n",
    "        '19': 'dziewiętnaście',\n",
    "        '20': 'dwadziescia',\n",
    "    }\n",
    "    \n",
    "    jednosci = {\n",
    "        '1': 'jeden',\n",
    "        '2': 'dwa',\n",
    "        '3': 'trzy',\n",
    "        '4': 'cztery',\n",
    "        '5': 'pięć',\n",
    "        '6': 'sześć',\n",
    "        '7': 'siedem',\n",
    "        '8': 'osiem',\n",
    "        '9': 'dziewięć',\n",
    "    }\n",
    "    \n",
    "    dziesiatki = {\n",
    "        '1': 'dziesięć',\n",
    "        '2': 'dwadzieścia',\n",
    "        '3': 'trzydzieści',\n",
    "        '4': 'czterdzieści',\n",
    "        '5': 'pięćdziesiąt',\n",
    "        '6': 'sześćdziesiąt',\n",
    "        '7': 'siedemdziesiąt',\n",
    "        '8': 'osiemdziesiąt',\n",
    "        '9': 'dziewięćdziesiąt',\n",
    "    }\n",
    "    \n",
    "    setki = {\n",
    "        '1': 'sto',\n",
    "        '2': 'dwieście',\n",
    "        '3': 'trzysta',\n",
    "        '4': 'czterysta',\n",
    "        '5': 'pięćset',\n",
    "        '6': 'sześćset',\n",
    "        '7': 'siedemset',\n",
    "        '8': 'osiemset',\n",
    "        '9': 'dziewięćset',\n",
    "    }\n",
    "    \n",
    "    tysiace = {\n",
    "        '1': 'tysiąc',\n",
    "        '2': 'dwa tysiące',\n",
    "        '3': 'trzy tysiące',\n",
    "        '4': 'cztery tysiące',\n",
    "        '5': 'pięć tysięcy',\n",
    "        '6': 'sześć tysięcy',\n",
    "        '7': 'siedem tysięcy',\n",
    "        '8': 'osiem tysięcy',\n",
    "        '9': 'dziewięć tysięcy',\n",
    "    }\n",
    "       \n",
    "    \n",
    "    if liczba_int <= 20:\n",
    "        return od_1_do_20[liczba]\n",
    "    else:\n",
    "        for indeks, cyfra in enumerate(liczba[::-1]):\n",
    "            if cyfra != '0':\n",
    "                indeksy = {\n",
    "                    '0': jednosci[cyfra],\n",
    "                    '1': dziesiatki[cyfra],\n",
    "                    '2': setki[cyfra],\n",
    "                    '3': tysiace[cyfra],\n",
    "                    }\n",
    "                liczba_slownie = indeksy[str(indeks)] + \" \" + liczba_slownie\n",
    "            \n",
    "\n",
    "        if liczba_slownie[-1] == ' ':\n",
    "             liczba_slownie = liczba_slownie[:-1]\n",
    "        \n",
    "        return liczba_slownie\n",
    "    \n",
    "def slownie(L):\n",
    "    '''funkcja zmieniającą całkowite liczby z listy L na wersję słowną w zakresie od 1 do 1000'''\n",
    "    \n",
    "    lista_slownie = []\n",
    "    for element in L:\n",
    "        if element < 0 or element > 1000:\n",
    "            return f'Element {element} nie mieści się w zakresie.'\n",
    "        lista_slownie += [zamien_na_slowne(element)]\n",
    "    return lista_slownie"
   ]
  },
  {
   "cell_type": "code",
   "execution_count": null,
   "metadata": {
    "id": "1OS5CNCGRsFX"
   },
   "outputs": [],
   "source": []
  }
 ],
 "metadata": {
  "colab": {
   "name": "kc20_p_pd03_nazwisko_imie.ipynb",
   "provenance": []
  },
  "kernelspec": {
   "display_name": "Python 3",
   "language": "python",
   "name": "python3"
  },
  "language_info": {
   "codemirror_mode": {
    "name": "ipython",
    "version": 3
   },
   "file_extension": ".py",
   "mimetype": "text/x-python",
   "name": "python",
   "nbconvert_exporter": "python",
   "pygments_lexer": "ipython3",
   "version": "3.7.3"
  }
 },
 "nbformat": 4,
 "nbformat_minor": 1
}
