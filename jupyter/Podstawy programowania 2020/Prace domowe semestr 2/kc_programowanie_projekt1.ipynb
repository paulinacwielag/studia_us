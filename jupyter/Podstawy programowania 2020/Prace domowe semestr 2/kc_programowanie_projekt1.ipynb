{
 "cells": [
  {
   "cell_type": "markdown",
   "metadata": {},
   "source": [
    "# Projekt 1\n",
    "### lab 02, Ćwiczenie 6 Śmiertelne króliki Fibonacciego\n",
    "\n",
    "Leonardo Fibonacci opracował swój słynny ciąg modelując liczebność populacji królików. Zaczynamy od jednej pary królików, która po miesiącu dojrzewa i po następnym miesiącu wydaje parę młodych i natychmiast ponownie zachodzi w ciążę, po następnym miesiącu pierwsza para wydaje kolejne młode a druga dojrzewa i zachodzi w ciążę itd. Wielkość populacji (liczba par) w kolejnych miesiącach wynosi 1, 1, 2, 3, 5, 8... Model ten zakłada, że każdej parze zawsze rodzą się dokładnie jeden samiec i jedna samica, ale głównym problemem w modelu jest to, że króliki są nieśmiertelne!\n",
    "\n",
    "![Image of rabbits](http://www.drawinghowtodraw.com/drawing-lessons/drawing-animals-creatures-lessons/images/howtodrawrabbiesbunniesdrawinglessons_html_37f16756.png)\n",
    "\n",
    "Urealnijmy trochę ten problem. Napisz funkcję obliczającą liczebność populacji śmiertelnych królików. Funkcja przyjmuje trzy argumenty - ``miesiąc``, dla którego obliczamy liczebność, ``miot`` - liczba par, które się rodzą jednorazowo z jednej pary oraz ``zycie`` - czas życia królików (w miesiącach). Minimalna długość życia królików to 3 miesiące. Oznacza to, że każda para zdąży się rozmnożyć przynajmniej 2 razy. W ostatnim miesiącu życia nastąpi **najpierw poród, a dopiero potem śmierć** pary królików.\n",
    "\n",
    "Jak teraz wyglądać będzie populacja króli po czasie jaki zadajemy w parametrze ``miesiac``? Rozwiązanie zaprojektuj z użyciem abstrakcji oraz dekompozycji. Rozbij zadanie na podproblemy i do każdego zbuduj funkcję. Na koniec wykorzystaj podprogramy do odpowiedzi na pytanie Pana Leonarda: ile to będzie tych króli po `n` miesiącach?\n",
    "\n",
    "__Specyfikacja__\n",
    "\n",
    "Wejście\n",
    "* miesiac: INT > 0\n",
    "* miot: INT > 0\n",
    "* zycie: INT >= 3\n",
    "\n",
    "Wyjście\n",
    "* populacja: INT"
   ]
  },
  {
   "cell_type": "code",
   "execution_count": 1,
   "metadata": {},
   "outputs": [],
   "source": [
    "# osoby współpracujące przy rozwiązaniu: \n",
    "# czas: "
   ]
  },
  {
   "cell_type": "code",
   "execution_count": null,
   "metadata": {},
   "outputs": [],
   "source": [
    "def fib_kroliki(miesiac, miot=1, zycie=3):\n",
    "    "
   ]
  },
  {
   "cell_type": "code",
   "execution_count": null,
   "metadata": {},
   "outputs": [],
   "source": [
    "if zycie >= 3:\n",
    "    "
   ]
  },
  {
   "cell_type": "code",
   "execution_count": 3,
   "metadata": {},
   "outputs": [
    {
     "name": "stdout",
     "output_type": "stream",
     "text": [
      "0 1 1 2 3 5 8 13 21 34 "
     ]
    }
   ],
   "source": [
    "def fib_iter1(n):  # definicja funkcji\n",
    "    \"\"\"\n",
    "        Funkcja drukuje kolejne wyrazy ciągu Fibonacciego\n",
    "        aż do wyrazu n-tego, który zwraca.\n",
    "        Wersja iteracyjna z pętlą while.\n",
    "    \"\"\"\n",
    "    pwyrazy = (0, 1)  # dwa pierwsze wyrazy ciągu zapisane w tupli\n",
    "    a, b = pwyrazy  # przypisanie wielokrotne, rozpakowanie tupli\n",
    "    print(a, end=\" \")\n",
    "    while n > 1:\n",
    "        print (b, end=\" \")\n",
    "        a, b = b, a + b  # przypisanie wielokrotne\n",
    "        n -= 1\n",
    "\n",
    "fib_iter1(10)"
   ]
  },
  {
   "cell_type": "code",
   "execution_count": 4,
   "metadata": {},
   "outputs": [
    {
     "name": "stdout",
     "output_type": "stream",
     "text": [
      "wyraz 1 0\n",
      "wyraz 2 1\n",
      "wyraz 3 1\n",
      "wyraz 4 2\n",
      "wyraz 5 3\n",
      "wyraz 6 5\n",
      "wyraz 7 8\n",
      "wyraz 8 13\n",
      "wyraz 9 21\n",
      "wyraz 10 34\n",
      "\n"
     ]
    },
    {
     "data": {
      "text/plain": [
       "34"
      ]
     },
     "execution_count": 4,
     "metadata": {},
     "output_type": "execute_result"
    }
   ],
   "source": [
    "def fib_iter2(n):\n",
    "    \"\"\"\n",
    "        Funkcja drukuje kolejne wyrazy ciągu Fibonacciego\n",
    "        aż do wyrazu n-tego, który zwraca.\n",
    "        Wersja iteracyjna z pętlą for.\n",
    "    \"\"\"\n",
    "    a, b = 0, 1\n",
    "    print(\"wyraz\", 1, a)\n",
    "    print(\"wyraz\", 2, b)\n",
    "    for i in range(1, n - 1):\n",
    "        # wynik = a + b\n",
    "        a, b = b, a + b\n",
    "        print(\"wyraz\", i + 2, b)\n",
    "\n",
    "    print()  # wiersz odstępu\n",
    "    return b\n",
    "\n",
    "fib_iter2(10)"
   ]
  },
  {
   "cell_type": "code",
   "execution_count": null,
   "metadata": {},
   "outputs": [],
   "source": [
    "def nowe_kroliki(parki, miesiac, miot):\n",
    "    'Funkcja zwraca na podstawie listy ilość nowych parek królików'\n",
    "    \n",
    "    if miesiac >= 2:\n",
    "        nowe_kroliki = parki[-2] * miot\n",
    "    else:\n",
    "        nowe_kroliki = 1\n",
    "    \n",
    "    return nowe_kroliki\n",
    "\n",
    "\n",
    "def stare_kroliki(noweKroliki, miesiac):\n",
    "    'Funkcja zwraca na podstawie listy ilość starych parek królików (bez tych wymarłych)'\n",
    "    \n",
    "    if miesiac > 2:\n",
    "        stare_parki = noweKroliki[-1]\n",
    "    else:\n",
    "        stare_parki = 0\n",
    "\n",
    "    return stare_parki\n",
    "\n",
    "\n",
    "def wymarle_kroliki(nowe_kroliki, zycie):\n",
    "    ''\n",
    "    \n",
    "    if len(nowe_kroliki) >= zycie:\n",
    "        wymarle = nowe_kroliki[-zycie]\n",
    "    else:\n",
    "        wymarle = 0\n",
    "        \n",
    "    return wymarle\n",
    "\n",
    "\n",
    "def oblicz_populacje_krolikow(miesiac, miot, zycie):\n",
    "\n",
    "    parki = [0]\n",
    "    noweKroliki = []\n",
    "\n",
    "    for cykl in range(1, miesiac + 1):\n",
    "        stareKroliki = stare_kroliki(parki, cykl + 1)\n",
    "        noweKroliki += [nowe_kroliki(parki, cykl, miot)]\n",
    "        wymarleKroliki = wymarle_kroliki(noweKroliki, zycie + 1)\n",
    "        parki += [noweKroliki[-1] + stareKroliki - wymarleKroliki]\n",
    "    \n",
    "    populacja = max(parki)\n",
    "    \n",
    "    return populacja\n",
    "    \n",
    "print(oblicz_populacje_krolikow(4, 3, 3))"
   ]
  }
 ],
 "metadata": {
  "kernelspec": {
   "display_name": "Python 3",
   "language": "python",
   "name": "python3"
  },
  "language_info": {
   "codemirror_mode": {
    "name": "ipython",
    "version": 3
   },
   "file_extension": ".py",
   "mimetype": "text/x-python",
   "name": "python",
   "nbconvert_exporter": "python",
   "pygments_lexer": "ipython3",
   "version": "3.7.3"
  }
 },
 "nbformat": 4,
 "nbformat_minor": 2
}
