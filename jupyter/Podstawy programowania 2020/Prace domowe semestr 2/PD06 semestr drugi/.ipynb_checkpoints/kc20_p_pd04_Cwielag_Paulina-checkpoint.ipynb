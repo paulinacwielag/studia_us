{
 "cells": [
  {
   "cell_type": "markdown",
   "metadata": {},
   "source": [
    "# Komunikacja Cyfrowa\n",
    "## Programowanie\n",
    "### Praca domowa 04 [100 pkt]\n",
    "\n",
    "Proszę użyć tego arkusza do rozwiązania zadań domowych. Na początek proszę zmienić 'nazwisko_imie' na Państwa nazwisko i imie, bez polskich znaków diakrytycznych.\n",
    "\n",
    "Jak już Państwo zaprogramują wszystko, proszę zapisać arkusz (File->Save and Checkpoint) oraz zapisać arkusz na dysk (File->Download as->Notebook).\n",
    "\n",
    "**Uwaga** Przed oddaniem pliku warto zrestartować kernel Python-a, i uruchomić wszystkie komórki ręcznie, patrząc czy wszystko jest OK. Błędy rzucane przez interpreter spowodują 0 punktów.\n"
   ]
  },
  {
   "cell_type": "code",
   "execution_count": null,
   "metadata": {},
   "outputs": [],
   "source": []
  },
  {
   "cell_type": "markdown",
   "metadata": {},
   "source": [
    "### Zadanie 1 [40 pkt]\n",
    "Zbuduj poniższe klasy (init 4 pkt). Każda powinna mieć docstring (1 pkt), get/set (2 pkt), str/repr (2 pkt). Do każdej stwórz minimum 1 instancję (1 pkt).\n",
    "\n",
    "1. `Gokart`: moc, kolor, numer\n",
    "* `Stajnia`: adres, ilość boksów, ilość zajętych boksów\n",
    "* `Guzik`: kolor, kształt, ilość dziurek\n",
    "* `Wiatr`: kierunek, prędkość, temperatura"
   ]
  },
  {
   "cell_type": "code",
   "execution_count": null,
   "metadata": {},
   "outputs": [],
   "source": []
  },
  {
   "cell_type": "markdown",
   "metadata": {},
   "source": [
    "### Zadanie 2 [20 pkt]\n",
    "Do klas z zadania 1 dopisz testy. Przetestuj pełną funkcjonalność klas."
   ]
  },
  {
   "cell_type": "code",
   "execution_count": null,
   "metadata": {},
   "outputs": [],
   "source": []
  },
  {
   "cell_type": "markdown",
   "metadata": {},
   "source": [
    "### Zadanie 3 [40 pkt]\n",
    "\n",
    "Proszę zbudować klasę `Wektor`. Ma ona stworzyć strukturę danych opisującą [wektory na dwuwymiarowej płaszczyźnie](https://pl.wikipedia.org/wiki/Wektor). Klasa ma posiadać prostą funkcjonalność. Do tego dojdzie jedna nowa funkcja.\n",
    "\n",
    "* `__init__` (5 pkt)\n",
    "\n",
    "* obliczać moduł (długość) wektora (4 pkt)\n",
    "\n",
    "* obliczać kąt nachylenia względem osi odciętych OX (4 pkt)\n",
    "\n",
    "* obliczać kąt nachylenia względem osi rzędnych OY (4 pkt)\n",
    "\n",
    "* obliczać współrzędne wektora o przeciwnym zwrocie do obecnego (4 pkt)\n",
    "\n",
    "* `__repr__` oraz `__str__` (4 pkt)\n",
    "\n",
    "* zbuduj 5 instancji klasy `Wektor` i przetestuj funkcjonalność (po 3 pkt)\n",
    "\n",
    "\n",
    "    >>> w = Wektor(0, 0, 1, 1)\n",
    "    >>> print(w)\n",
    "    Wektor o długości 1.41421356237\n",
    "    zaczepiony w punkcie (0, 0) i zorientownay pod katem 0.785398163397 do osi x."
   ]
  },
  {
   "cell_type": "code",
   "execution_count": null,
   "metadata": {},
   "outputs": [],
   "source": []
  }
 ],
 "metadata": {
  "kernelspec": {
   "display_name": "Python 3",
   "language": "python",
   "name": "python3"
  },
  "language_info": {
   "codemirror_mode": {
    "name": "ipython",
    "version": 3
   },
   "file_extension": ".py",
   "mimetype": "text/x-python",
   "name": "python",
   "nbconvert_exporter": "python",
   "pygments_lexer": "ipython3",
   "version": "3.7.3"
  }
 },
 "nbformat": 4,
 "nbformat_minor": 2
}
