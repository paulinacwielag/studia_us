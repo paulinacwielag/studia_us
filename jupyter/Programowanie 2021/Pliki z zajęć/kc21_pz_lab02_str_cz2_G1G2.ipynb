{
 "cells": [
  {
   "cell_type": "markdown",
   "id": "34590122",
   "metadata": {},
   "source": [
    "## Komunikacja cyfrowa, Programowanie zorientowane\n",
    "\n",
    "#### Lab 02: string"
   ]
  },
  {
   "cell_type": "code",
   "execution_count": null,
   "id": "b74b8854",
   "metadata": {},
   "outputs": [],
   "source": []
  },
  {
   "cell_type": "markdown",
   "id": "d62b62d1",
   "metadata": {},
   "source": [
    "### formatowanie z funkcją `format`\n",
    "\n",
    "Funkcja ta działa dzięki magicznej metodzie ``__format__()``. O takich funkcjach więcej w semestrze 2 na AiP.\n",
    "\n",
    "* Więcej: https://pyformat.info\n",
    "\n",
    "Dla ciągów znaków istnieje wbudowana metoda o nazwie ``format``, która umożliwia budowanie łańcuchów w miarę dynamicznie, bez konieczności używania konkatenacji i funkcji rzutującej, co w przypadku nieco bardziej skomplikowanych łańcuchów może być mocno karkołomne. Z metodą ``format`` jest zdecydowanie prościej.\n",
    "\n",
    "Najprostsze użycie metody `format` polega na podstawieniu argumentów funkcji w miejsce ozaczone nawiasami klamrowymi. Jeżeli mamy trzy zmienne o nazwach ``a, b, c``, to chcąc je wkleić po kolei do ciągu znaków za pomocą funkcji ``format`` musimy napisać\n",
    "\n",
    "    '{}, {}, {}'.format(a, b, c)\n"
   ]
  },
  {
   "cell_type": "code",
   "execution_count": 1,
   "id": "c35998f4",
   "metadata": {},
   "outputs": [
    {
     "data": {
      "text/plain": [
       "'Ala ma 3 koty'"
      ]
     },
     "execution_count": 1,
     "metadata": {},
     "output_type": "execute_result"
    }
   ],
   "source": [
    "'Ala ma {} koty'.format(3)"
   ]
  },
  {
   "cell_type": "markdown",
   "id": "b5ad4963",
   "metadata": {},
   "source": [
    "W taki sposób możemy podstawić dowolną ilość zmiennych, nie przejmując sie ich typem (w przeciwieństwie do operatora `%`)."
   ]
  },
  {
   "cell_type": "code",
   "execution_count": 2,
   "id": "07c27312",
   "metadata": {},
   "outputs": [
    {
     "data": {
      "text/plain": [
       "'Ala ma 3 koty'"
      ]
     },
     "execution_count": 2,
     "metadata": {},
     "output_type": "execute_result"
    }
   ],
   "source": [
    "a = 'Ala'\n",
    "b = 'ma'\n",
    "c = 3\n",
    "d = 'koty'\n",
    "'{} {} {} {}'.format(a, b, c, d)"
   ]
  },
  {
   "cell_type": "markdown",
   "id": "e7d9c619",
   "metadata": {},
   "source": [
    "Możemy też użyć liczb określających kolejność argumentów, poczynając od zera. Dzięki temu kolejność zmiennych w stringu może być różna od kolejności argumentów.\n",
    "\n",
    "    '{0}, {1}, {2}'.format(a, b, c)\n",
    "    '{2}, {1}, {0}'.format(a, b, c)\n",
    "\n",
    "Można też, dzięki temu, wykorzystać daną zmienną kilkukrotnie\n",
    "\n",
    "    '{0}{1}{0}'.format('abra', 'kad')\n",
    "\n",
    "\n"
   ]
  },
  {
   "cell_type": "code",
   "execution_count": 22,
   "id": "d850f79d",
   "metadata": {},
   "outputs": [
    {
     "data": {
      "text/plain": [
       "'Ala, ma, 3, koty'"
      ]
     },
     "execution_count": 22,
     "metadata": {},
     "output_type": "execute_result"
    }
   ],
   "source": [
    "'{0}, {1}, {2}, {3}'.format(a, b, c, d)"
   ]
  },
  {
   "cell_type": "code",
   "execution_count": 23,
   "id": "6ef87961",
   "metadata": {},
   "outputs": [
    {
     "data": {
      "text/plain": [
       "'koty ~ ma ~ Ala ~ 3'"
      ]
     },
     "execution_count": 23,
     "metadata": {},
     "output_type": "execute_result"
    }
   ],
   "source": [
    "'{3} ~ {1} ~ {0} ~ {2}'.format(a, b, c, d)"
   ]
  },
  {
   "cell_type": "code",
   "execution_count": 24,
   "id": "ca874c1b",
   "metadata": {},
   "outputs": [
    {
     "data": {
      "text/plain": [
       "'abrakadabra'"
      ]
     },
     "execution_count": 24,
     "metadata": {},
     "output_type": "execute_result"
    }
   ],
   "source": [
    "'{0}{1}{0}'.format('abra', 'kad')"
   ]
  },
  {
   "cell_type": "code",
   "execution_count": null,
   "id": "93fa9641",
   "metadata": {},
   "outputs": [],
   "source": []
  },
  {
   "cell_type": "markdown",
   "id": "bdd796dd",
   "metadata": {},
   "source": [
    "### Liczby\n",
    "\n",
    "Typowanie dynamiczne"
   ]
  },
  {
   "cell_type": "code",
   "execution_count": 25,
   "id": "aedbf2a0",
   "metadata": {},
   "outputs": [
    {
     "data": {
      "text/plain": [
       "'100'"
      ]
     },
     "execution_count": 25,
     "metadata": {},
     "output_type": "execute_result"
    }
   ],
   "source": [
    "'{}'.format(100)"
   ]
  },
  {
   "cell_type": "code",
   "execution_count": 26,
   "id": "3895ac8e",
   "metadata": {},
   "outputs": [
    {
     "data": {
      "text/plain": [
       "'3.141592653589793'"
      ]
     },
     "execution_count": 26,
     "metadata": {},
     "output_type": "execute_result"
    }
   ],
   "source": [
    "'{}'.format(3.141592653589793)"
   ]
  },
  {
   "cell_type": "markdown",
   "id": "44e31d8f",
   "metadata": {},
   "source": [
    "lub statyczne"
   ]
  },
  {
   "cell_type": "code",
   "execution_count": 28,
   "id": "ea0841e3",
   "metadata": {},
   "outputs": [
    {
     "data": {
      "text/plain": [
       "'100'"
      ]
     },
     "execution_count": 28,
     "metadata": {},
     "output_type": "execute_result"
    }
   ],
   "source": [
    "'{:d}'.format(100)"
   ]
  },
  {
   "cell_type": "code",
   "execution_count": 29,
   "id": "9e80e15c",
   "metadata": {},
   "outputs": [
    {
     "data": {
      "text/plain": [
       "'3.141593'"
      ]
     },
     "execution_count": 29,
     "metadata": {},
     "output_type": "execute_result"
    }
   ],
   "source": [
    "# domyślnie 6 miejsc po przecinku\n",
    "'{:f}'.format(3.141592653589793)"
   ]
  },
  {
   "cell_type": "code",
   "execution_count": 32,
   "id": "66ea410b",
   "metadata": {},
   "outputs": [
    {
     "data": {
      "text/plain": [
       "'3.1415926536'"
      ]
     },
     "execution_count": 32,
     "metadata": {},
     "output_type": "execute_result"
    }
   ],
   "source": [
    "# 10 miejsc\n",
    "'{:.10f}'.format(3.141592653589793)"
   ]
  },
  {
   "cell_type": "code",
   "execution_count": 33,
   "id": "eb2f911b",
   "metadata": {},
   "outputs": [],
   "source": [
    "# ValueError\n",
    "# '{:d}'.format(3.141592653589793)"
   ]
  },
  {
   "cell_type": "markdown",
   "id": "be07d0f5",
   "metadata": {},
   "source": [
    "#### Formatowanie wyświetlania liczb\n",
    "#### spacja"
   ]
  },
  {
   "cell_type": "code",
   "execution_count": 44,
   "id": "27e263c6",
   "metadata": {},
   "outputs": [
    {
     "data": {
      "text/plain": [
       "'->     100<-'"
      ]
     },
     "execution_count": 44,
     "metadata": {},
     "output_type": "execute_result"
    }
   ],
   "source": [
    "# dopełnienie spacjami do 8 elementów - INT\n",
    "'->{:8d}<-'.format(100)"
   ]
  },
  {
   "cell_type": "code",
   "execution_count": 43,
   "id": "c518380a",
   "metadata": {},
   "outputs": [
    {
     "data": {
      "text/plain": [
       "'Ala ma ->            3<- koty'"
      ]
     },
     "execution_count": 43,
     "metadata": {},
     "output_type": "execute_result"
    }
   ],
   "source": [
    "# dopełnienie spacjami do 13 elementów\n",
    "'{} {} ->{:13d}<- {}'.format(a, b, c, d)"
   ]
  },
  {
   "cell_type": "markdown",
   "id": "aadefd5a",
   "metadata": {},
   "source": [
    "#### zera"
   ]
  },
  {
   "cell_type": "code",
   "execution_count": 46,
   "id": "2d2b3659",
   "metadata": {},
   "outputs": [
    {
     "data": {
      "text/plain": [
       "'00000100'"
      ]
     },
     "execution_count": 46,
     "metadata": {},
     "output_type": "execute_result"
    }
   ],
   "source": [
    "# dopełnienie zerami do 8 elementów - INT\n",
    "'{:08d}'.format(100)"
   ]
  },
  {
   "cell_type": "code",
   "execution_count": 47,
   "id": "ac8f58b2",
   "metadata": {},
   "outputs": [
    {
     "data": {
      "text/plain": [
       "'Ala ma 0000000000003 koty'"
      ]
     },
     "execution_count": 47,
     "metadata": {},
     "output_type": "execute_result"
    }
   ],
   "source": [
    "# dopełnienie zerami do 13 elementów\n",
    "'{} {} {:013d} {}'.format(a, b, c, d)"
   ]
  },
  {
   "cell_type": "code",
   "execution_count": 53,
   "id": "3368b2be",
   "metadata": {},
   "outputs": [
    {
     "data": {
      "text/plain": [
       "'00003.14'"
      ]
     },
     "execution_count": 53,
     "metadata": {},
     "output_type": "execute_result"
    }
   ],
   "source": [
    "# dopełnienie zerami do 8 elementów - FLOAT\n",
    "'{:08.2f}'.format(3.141592653589793)"
   ]
  },
  {
   "cell_type": "code",
   "execution_count": 54,
   "id": "75de5e61",
   "metadata": {},
   "outputs": [
    {
     "data": {
      "text/plain": [
       "'003.1416'"
      ]
     },
     "execution_count": 54,
     "metadata": {},
     "output_type": "execute_result"
    }
   ],
   "source": [
    "# lub\n",
    "'{:08.4f}'.format(3.141592653589793)"
   ]
  },
  {
   "cell_type": "markdown",
   "id": "b0f3907c",
   "metadata": {},
   "source": [
    "#### `+ -`\n",
    "Domyślnie tylko liczby ujemne są poprzedzone znakiem. "
   ]
  },
  {
   "cell_type": "code",
   "execution_count": 60,
   "id": "a216ad18",
   "metadata": {},
   "outputs": [
    {
     "data": {
      "text/plain": [
       "('-42', '42')"
      ]
     },
     "execution_count": 60,
     "metadata": {},
     "output_type": "execute_result"
    }
   ],
   "source": [
    "'{:d}'.format(-42), '{:d}'.format(42)"
   ]
  },
  {
   "cell_type": "markdown",
   "id": "353d134c",
   "metadata": {},
   "source": [
    "Można to oczywiście zmienić znakiem `+` w formatowaniu."
   ]
  },
  {
   "cell_type": "code",
   "execution_count": 61,
   "id": "dd5833e2",
   "metadata": {},
   "outputs": [
    {
     "data": {
      "text/plain": [
       "('-42', '+42')"
      ]
     },
     "execution_count": 61,
     "metadata": {},
     "output_type": "execute_result"
    }
   ],
   "source": [
    "'{:+d}'.format(-42), '{:+d}'.format(42)"
   ]
  },
  {
   "cell_type": "markdown",
   "id": "e3b02202",
   "metadata": {},
   "source": [
    "Można tez użyć spację, aby wskazać, że liczby ujemne powinny być poprzedzone symbolem minus, a  do liczb dodatnich doklejana powinna być po prostu spacja..."
   ]
  },
  {
   "cell_type": "code",
   "execution_count": 62,
   "id": "66ee39db",
   "metadata": {},
   "outputs": [
    {
     "data": {
      "text/plain": [
       "('-42', ' 42')"
      ]
     },
     "execution_count": 62,
     "metadata": {},
     "output_type": "execute_result"
    }
   ],
   "source": [
    "'{: d}'.format(-42), '{: d}'.format(42)"
   ]
  },
  {
   "cell_type": "markdown",
   "id": "0ac0150a",
   "metadata": {},
   "source": [
    "... której ilość można zmieniać"
   ]
  },
  {
   "cell_type": "code",
   "execution_count": 3,
   "id": "795906a1",
   "metadata": {},
   "outputs": [
    {
     "data": {
      "text/plain": [
       "('-       42', '        42')"
      ]
     },
     "execution_count": 3,
     "metadata": {},
     "output_type": "execute_result"
    }
   ],
   "source": [
    "'{:=10d}'.format(-42), '{:=10d}'.format(42)"
   ]
  },
  {
   "cell_type": "code",
   "execution_count": 4,
   "id": "2759b78b",
   "metadata": {},
   "outputs": [
    {
     "data": {
      "text/plain": [
       "('-       42', '+       42')"
      ]
     },
     "execution_count": 4,
     "metadata": {},
     "output_type": "execute_result"
    }
   ],
   "source": [
    "'{:=+10d}'.format(-42), '{:=+10d}'.format(42)"
   ]
  },
  {
   "cell_type": "markdown",
   "id": "8bbd4eab",
   "metadata": {},
   "source": [
    "### Stringi\n",
    "Podobne operacje na stringach"
   ]
  },
  {
   "cell_type": "code",
   "execution_count": 66,
   "id": "034c1d62",
   "metadata": {},
   "outputs": [
    {
     "data": {
      "text/plain": [
       "'       kot'"
      ]
     },
     "execution_count": 66,
     "metadata": {},
     "output_type": "execute_result"
    }
   ],
   "source": [
    "# wyrównanie do prawej\n",
    "'{:>10}'.format('kot')"
   ]
  },
  {
   "cell_type": "code",
   "execution_count": 71,
   "id": "856b775a",
   "metadata": {},
   "outputs": [
    {
     "data": {
      "text/plain": [
       "('kot       ', 'kot       ')"
      ]
     },
     "execution_count": 71,
     "metadata": {},
     "output_type": "execute_result"
    }
   ],
   "source": [
    "# wyrównanie do lewej - 2 opcje\n",
    "'{:<10}'.format('kot'), '{:10}'.format('kot')"
   ]
  },
  {
   "cell_type": "code",
   "execution_count": 74,
   "id": "68779459",
   "metadata": {},
   "outputs": [
    {
     "data": {
      "text/plain": [
       "'   kot    '"
      ]
     },
     "execution_count": 74,
     "metadata": {},
     "output_type": "execute_result"
    }
   ],
   "source": [
    "#środek\n",
    "'{:^10}'.format('kot')"
   ]
  },
  {
   "cell_type": "markdown",
   "id": "78291011",
   "metadata": {},
   "source": [
    "Znak wypełnienia jest w sumie dowolny"
   ]
  },
  {
   "cell_type": "code",
   "execution_count": 77,
   "id": "81a5fd9d",
   "metadata": {},
   "outputs": [
    {
     "data": {
      "text/plain": [
       "('kot_______', '$$$$$$$kot', '***kot****')"
      ]
     },
     "execution_count": 77,
     "metadata": {},
     "output_type": "execute_result"
    }
   ],
   "source": [
    "# wyrównanie do lewej\n",
    "'{:_<10}'.format('kot'), '{:$>10}'.format('kot'), '{:*^10}'.format('kot')"
   ]
  },
  {
   "cell_type": "markdown",
   "id": "1c2c2208",
   "metadata": {},
   "source": [
    "Skracanie długich łańcuchów..."
   ]
  },
  {
   "cell_type": "code",
   "execution_count": 80,
   "id": "a6899df9",
   "metadata": {},
   "outputs": [
    {
     "data": {
      "text/plain": [
       "'Ala ma kota'"
      ]
     },
     "execution_count": 80,
     "metadata": {},
     "output_type": "execute_result"
    }
   ],
   "source": [
    "'{:.11}'.format('Ala ma kota i 4 psy')"
   ]
  },
  {
   "cell_type": "markdown",
   "id": "ed6ed203",
   "metadata": {},
   "source": [
    "... które można wciąż justować"
   ]
  },
  {
   "cell_type": "code",
   "execution_count": 2,
   "id": "43e8f268",
   "metadata": {},
   "outputs": [
    {
     "data": {
      "text/plain": [
       "'aaaAla ma kotaaaaa'"
      ]
     },
     "execution_count": 2,
     "metadata": {},
     "output_type": "execute_result"
    }
   ],
   "source": [
    "'{:a^18.11}'.format('Ala ma kota i 4 psy')"
   ]
  },
  {
   "cell_type": "markdown",
   "id": "62581e2c",
   "metadata": {},
   "source": [
    "### Kolejność i formatowanie\n",
    "Aby użyć numeracji zmiennych w stringu oraz np: dopełnienia zerami (jak powyżej) używamy indeksu zmiennej, drukropka i formatowania."
   ]
  },
  {
   "cell_type": "code",
   "execution_count": 87,
   "id": "12af4690",
   "metadata": {},
   "outputs": [
    {
     "data": {
      "text/plain": [
       "'koty ~ ma ~ Ala ~ 00003'"
      ]
     },
     "execution_count": 87,
     "metadata": {},
     "output_type": "execute_result"
    }
   ],
   "source": [
    "'{3} ~ {1} ~ {0} ~ {2:05}'.format(a, b, c, d)"
   ]
  },
  {
   "cell_type": "markdown",
   "id": "2ac24482",
   "metadata": {},
   "source": [
    "### Parametry z nazwami\n",
    "\n",
    "Możemy też, zamiast indeksów argumentów użyć ich nazw"
   ]
  },
  {
   "cell_type": "code",
   "execution_count": 88,
   "id": "c52cd88c",
   "metadata": {},
   "outputs": [
    {
     "data": {
      "text/plain": [
       "'Wspórzędne: 37.24N, -115.81W'"
      ]
     },
     "execution_count": 88,
     "metadata": {},
     "output_type": "execute_result"
    }
   ],
   "source": [
    "'Wspórzędne: {lat}, {long}'.format(lat='37.24N', long='-115.81W')"
   ]
  },
  {
   "cell_type": "markdown",
   "id": "e8040f8e",
   "metadata": {},
   "source": [
    "W ten sam sposób można używać nazw parametrów do formatowania wyświetlania"
   ]
  },
  {
   "cell_type": "code",
   "execution_count": 92,
   "id": "97bb4e4b",
   "metadata": {},
   "outputs": [
    {
     "data": {
      "text/plain": [
       "'@@@kot@@@@'"
      ]
     },
     "execution_count": 92,
     "metadata": {},
     "output_type": "execute_result"
    }
   ],
   "source": [
    "'{zmienna:{znak}{justowanie}{szerokosc}}'.format(zmienna='kot', justowanie='^', szerokosc='10', znak='@')"
   ]
  },
  {
   "cell_type": "markdown",
   "id": "7ba4797b",
   "metadata": {},
   "source": [
    "### `__str__`, `__repr__`, ASCII\n",
    "Ta część będzie jasna dopiero w 2 semestrze, ale pokazać nie zaszkodzi"
   ]
  },
  {
   "cell_type": "code",
   "execution_count": 98,
   "id": "bec1f718",
   "metadata": {},
   "outputs": [
    {
     "data": {
      "text/plain": [
       "'Rzutowanie na STR, Reprezentacja obiektu w powłoce, Reprezentacja obiektu w pow\\\\u0142oce'"
      ]
     },
     "execution_count": 98,
     "metadata": {},
     "output_type": "execute_result"
    }
   ],
   "source": [
    "class Klasa(object):\n",
    "\n",
    "    def __str__(self):\n",
    "        return 'Rzutowanie na STR'\n",
    "\n",
    "    def __repr__(self):\n",
    "        return 'Reprezentacja obiektu w powłoce'\n",
    "\n",
    "    \n",
    "# po kolei:\n",
    "# s: woła __str__, r: woła __repr__\n",
    "# a: ogranicza do znaków z tablicy ASCII lub zwraca kod znaku (tu: ł)\n",
    "'{0!s}, {0!r}, {0!a}'.format(Klasa())"
   ]
  },
  {
   "cell_type": "code",
   "execution_count": null,
   "id": "4db156de",
   "metadata": {},
   "outputs": [],
   "source": []
  },
  {
   "cell_type": "markdown",
   "id": "bb9589d5",
   "metadata": {},
   "source": [
    "### Ćwiczenie\n",
    "Napisz program, który zwróci takią tabelkę, oczywiście w pętli i z funkcją `format`. \n",
    "\n",
    "```\n",
    "|  imie  | ilość  | zwierze  |\n",
    "------------------------------\n",
    "|  Ala   |   1    | kota     |\n",
    "|  Ala   |   2    | koty     |\n",
    "|  Ala   |   3    | koty     |\n",
    "|  Ala   |   4    | koty     |\n",
    "|  Ala   |   5    | kotów    |\n",
    "|  Ala   |   6    | kotów    |\n",
    "|  Ala   |   7    | kotów    |\n",
    "|  Ala   |   8    | kotów    |\n",
    "|  Ala   |   9    | kotów    |\n",
    "|  Ala   |   10   | kotów    |\n",
    "|  Ala   |   11   | kotów    |\n",
    "|  Ala   |   12   | kotów    |\n",
    "|  Ala   |   13   | kotów    |\n",
    "|  Ala   |   14   | kotów    |\n",
    "|  Ala   |   15   | kotów    |\n",
    "```"
   ]
  },
  {
   "cell_type": "code",
   "execution_count": 160,
   "id": "302e48ed",
   "metadata": {},
   "outputs": [
    {
     "name": "stdout",
     "output_type": "stream",
     "text": [
      "|  imie  | ilość  | zwierze  |\n",
      "------------------------------\n",
      "|  Ala   |   1    | kota     |\n",
      "|  Ala   |   2    | koty     |\n",
      "|  Ala   |   3    | koty     |\n",
      "|  Ala   |   4    | koty     |\n",
      "|  Ala   |   5    | kotów    |\n",
      "|  Ala   |   6    | kotów    |\n",
      "|  Ala   |   7    | kotów    |\n",
      "|  Ala   |   8    | kotów    |\n",
      "|  Ala   |   9    | kotów    |\n",
      "|  Ala   |   10   | kotów    |\n",
      "|  Ala   |   11   | kotów    |\n",
      "|  Ala   |   12   | kotów    |\n",
      "|  Ala   |   13   | kotów    |\n",
      "|  Ala   |   14   | kotów    |\n",
      "|  Ala   |   15   | kotów    |\n"
     ]
    }
   ],
   "source": []
  },
  {
   "cell_type": "markdown",
   "id": "68b63366",
   "metadata": {},
   "source": [
    "### Ćwiczenie\n",
    "Napisz program, który zwróci takie trójkąty, w zależności od podanej liczby `N` poziomów oraz wybranego justowania `lewo`, `prawo`, `środek`. W przykładzie `N = 5`.\n",
    "\n",
    "```\n",
    "        *\n",
    "      ***\n",
    "    *****\n",
    "  *******\n",
    "*********\n",
    " \n",
    "*         \n",
    "***       \n",
    "*****     \n",
    "*******   \n",
    "********* \n",
    "\n",
    "    *     \n",
    "   ***    \n",
    "  *****   \n",
    " *******  \n",
    "********* \n",
    "```"
   ]
  },
  {
   "cell_type": "code",
   "execution_count": 183,
   "id": "f1bc42c7",
   "metadata": {},
   "outputs": [
    {
     "name": "stdout",
     "output_type": "stream",
     "text": [
      "    *     \n",
      "   ***    \n",
      "  *****   \n",
      " *******  \n",
      "********* \n"
     ]
    }
   ],
   "source": []
  },
  {
   "cell_type": "code",
   "execution_count": null,
   "id": "df81876c",
   "metadata": {},
   "outputs": [],
   "source": []
  },
  {
   "cell_type": "code",
   "execution_count": null,
   "id": "2ca28037",
   "metadata": {},
   "outputs": [],
   "source": []
  }
 ],
 "metadata": {
  "kernelspec": {
   "display_name": "Python 3 (ipykernel)",
   "language": "python",
   "name": "python3"
  },
  "language_info": {
   "codemirror_mode": {
    "name": "ipython",
    "version": 3
   },
   "file_extension": ".py",
   "mimetype": "text/x-python",
   "name": "python",
   "nbconvert_exporter": "python",
   "pygments_lexer": "ipython3",
   "version": "3.9.5"
  }
 },
 "nbformat": 4,
 "nbformat_minor": 5
}
