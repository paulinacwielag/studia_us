{
 "cells": [
  {
   "cell_type": "markdown",
   "id": "34590122",
   "metadata": {},
   "source": [
    "## Komunikacja cyfrowa, Programowanie zorientowane\n",
    "\n",
    "#### Lab 01: string - powtórka"
   ]
  },
  {
   "cell_type": "code",
   "execution_count": null,
   "id": "b74b8854",
   "metadata": {},
   "outputs": [],
   "source": []
  },
  {
   "cell_type": "markdown",
   "id": "db39a683",
   "metadata": {},
   "source": [
    "## Typ `str`\n",
    "\n",
    "Lekka powtórka z lab 01"
   ]
  },
  {
   "cell_type": "code",
   "execution_count": 1,
   "id": "7869091b",
   "metadata": {},
   "outputs": [],
   "source": [
    "s1 = \"Ala ma kota\"\n",
    "s2 = 'Ala ma kota'\n",
    "s3 = \"\"\"Ala ma kota\"\"\"\n",
    "s4 = '''Ala ma kota'''\n",
    "s5 = \"\"\"\n",
    "Ala\n",
    "ma\n",
    "kota\n",
    "\"\"\""
   ]
  },
  {
   "cell_type": "code",
   "execution_count": 3,
   "id": "2d3057e8",
   "metadata": {},
   "outputs": [
    {
     "data": {
      "text/plain": [
       "('Ala ma kota',\n",
       " 'Ala ma kota',\n",
       " 'Ala ma kota',\n",
       " 'Ala ma kota',\n",
       " '\\nAla\\nma\\nkota\\n')"
      ]
     },
     "execution_count": 3,
     "metadata": {},
     "output_type": "execute_result"
    }
   ],
   "source": [
    "s1, s2, s3, s4, s5"
   ]
  },
  {
   "cell_type": "code",
   "execution_count": 6,
   "id": "6cbd5266",
   "metadata": {},
   "outputs": [
    {
     "name": "stdout",
     "output_type": "stream",
     "text": [
      "Ala ma kota\n",
      "Ala ma kota\n",
      "Ala ma kota\n",
      "Ala ma kota\n",
      "\n",
      "Ala\n",
      "ma\n",
      "kota\n",
      "\n"
     ]
    }
   ],
   "source": [
    "print(s1, s2, s3, s4, s5, sep=\"\\n\")"
   ]
  },
  {
   "cell_type": "markdown",
   "id": "ad71b8d6",
   "metadata": {},
   "source": [
    "### operatory dla `str`"
   ]
  },
  {
   "cell_type": "code",
   "execution_count": 7,
   "id": "b3b15fa5",
   "metadata": {},
   "outputs": [
    {
     "data": {
      "text/plain": [
       "'Alamakota'"
      ]
     },
     "execution_count": 7,
     "metadata": {},
     "output_type": "execute_result"
    }
   ],
   "source": [
    "# konkatenacja\n",
    "'Ala' + \"ma\" + '''kota'''"
   ]
  },
  {
   "cell_type": "code",
   "execution_count": 8,
   "id": "a5d3b06b",
   "metadata": {},
   "outputs": [
    {
     "data": {
      "text/plain": [
       "'kotkotkot'"
      ]
     },
     "execution_count": 8,
     "metadata": {},
     "output_type": "execute_result"
    }
   ],
   "source": [
    "# multiplikacja\n",
    "'kot' * 3"
   ]
  },
  {
   "cell_type": "code",
   "execution_count": 10,
   "id": "8cf1e837",
   "metadata": {},
   "outputs": [
    {
     "data": {
      "text/plain": [
       "True"
      ]
     },
     "execution_count": 10,
     "metadata": {},
     "output_type": "execute_result"
    }
   ],
   "source": [
    "# zawieranie\n",
    "'Ala' in 'Ala ma kota'"
   ]
  },
  {
   "cell_type": "code",
   "execution_count": 11,
   "id": "a0db33b0",
   "metadata": {},
   "outputs": [
    {
     "data": {
      "text/plain": [
       "True"
      ]
     },
     "execution_count": 11,
     "metadata": {},
     "output_type": "execute_result"
    }
   ],
   "source": [
    "'pies' not in 'Zwierzak Ali to kot'"
   ]
  },
  {
   "cell_type": "code",
   "execution_count": 12,
   "id": "46c974b5",
   "metadata": {},
   "outputs": [
    {
     "data": {
      "text/plain": [
       "'Ala \\\\t kot'"
      ]
     },
     "execution_count": 12,
     "metadata": {},
     "output_type": "execute_result"
    }
   ],
   "source": [
    "# 'raw string' - blokuje rzeczywiste znaczenie znaków modyfikacji w stringach\n",
    "r'Ala \\t kot'"
   ]
  },
  {
   "cell_type": "code",
   "execution_count": 13,
   "id": "aa3d3b1c",
   "metadata": {},
   "outputs": [
    {
     "data": {
      "text/plain": [
       "'Ala ma 100 kotów'"
      ]
     },
     "execution_count": 13,
     "metadata": {},
     "output_type": "execute_result"
    }
   ],
   "source": [
    "# % - operator formatowania ciągu znaków\n",
    "'Ala ma %d kotów' % 100"
   ]
  },
  {
   "cell_type": "markdown",
   "id": "cadf2340",
   "metadata": {},
   "source": [
    "### funkcja `str`\n",
    "Zwraca reprezentację dowolnego obiektu w typie `str`"
   ]
  },
  {
   "cell_type": "code",
   "execution_count": 15,
   "id": "36f71c72",
   "metadata": {},
   "outputs": [
    {
     "data": {
      "text/plain": [
       "'10'"
      ]
     },
     "execution_count": 15,
     "metadata": {},
     "output_type": "execute_result"
    }
   ],
   "source": [
    "str(10)"
   ]
  },
  {
   "cell_type": "code",
   "execution_count": 16,
   "id": "50861614",
   "metadata": {},
   "outputs": [
    {
     "data": {
      "text/plain": [
       "'<built-in function print>'"
      ]
     },
     "execution_count": 16,
     "metadata": {},
     "output_type": "execute_result"
    }
   ],
   "source": [
    "str(print)"
   ]
  },
  {
   "cell_type": "code",
   "execution_count": 17,
   "id": "a99cf3df",
   "metadata": {},
   "outputs": [
    {
     "data": {
      "text/plain": [
       "'Ala'"
      ]
     },
     "execution_count": 17,
     "metadata": {},
     "output_type": "execute_result"
    }
   ],
   "source": [
    "str('Ala')"
   ]
  },
  {
   "cell_type": "code",
   "execution_count": 20,
   "id": "9b60efa5",
   "metadata": {},
   "outputs": [
    {
     "data": {
      "text/plain": [
       "'True'"
      ]
     },
     "execution_count": 20,
     "metadata": {},
     "output_type": "execute_result"
    }
   ],
   "source": [
    "str(True)"
   ]
  },
  {
   "cell_type": "markdown",
   "id": "408f114e",
   "metadata": {},
   "source": [
    "## Długość łańcucha znaków (ilość jego elementów)\n",
    "Do obliczania długości łańcucha znaków służy funkcja `len`."
   ]
  },
  {
   "cell_type": "code",
   "execution_count": 203,
   "id": "e0349b3a",
   "metadata": {},
   "outputs": [
    {
     "data": {
      "text/plain": [
       "11"
      ]
     },
     "execution_count": 203,
     "metadata": {},
     "output_type": "execute_result"
    }
   ],
   "source": [
    "len('Ala ma kota')"
   ]
  },
  {
   "cell_type": "markdown",
   "id": "77cb15b9",
   "metadata": {},
   "source": [
    "## formatowanie literałów `str`"
   ]
  },
  {
   "cell_type": "code",
   "execution_count": 24,
   "id": "4e6263a4",
   "metadata": {},
   "outputs": [
    {
     "data": {
      "text/plain": [
       "'Ala ma kota'"
      ]
     },
     "execution_count": 24,
     "metadata": {},
     "output_type": "execute_result"
    }
   ],
   "source": [
    "# wyjściowa zmienna - bez formatowania\n",
    "'Ala ma kota'"
   ]
  },
  {
   "cell_type": "markdown",
   "id": "1f97e0a4",
   "metadata": {},
   "source": [
    "### formatowanie poprzez operator `%` w stylu języka C\n",
    "\n",
    "* `%s` ciąg znaków\n",
    "* `%d` liczba całkowita\n",
    "* `%0Nd` liczba całkowita poprzedzona zerami w taki sposób, że otrzymujemy N cyfr na wyjściu\n",
    "* `%f` liczba zmiennoprzecinkowa\n",
    "* `%e` notacja naukowa (e przy eksponencie)\n",
    "* `%E` notacja naukowa (E przy eksponencie)\n",
    "* `%g,%G` notacja dziesiątkowa\n",
    "* `%Xz` formatowanie liczby z do prawej dla pola o szerokości X \n",
    "* `%-Xz` formatowanie liczby z do lewej dla pola o szerokości X\n",
    "* `%.Yz` formatowanie liczby z Y miejscami po przecinku\n",
    "* `%X.Yz` formatowanie liczby z Y miejscami po przecinku w polu o szerokości X\n",
    "* `%%` znak procenta"
   ]
  },
  {
   "cell_type": "code",
   "execution_count": 23,
   "id": "44fe0921",
   "metadata": {},
   "outputs": [
    {
     "data": {
      "text/plain": [
       "'Ala ma 3 koty'"
      ]
     },
     "execution_count": 23,
     "metadata": {},
     "output_type": "execute_result"
    }
   ],
   "source": [
    "'Ala ma %d koty' % 3"
   ]
  },
  {
   "cell_type": "code",
   "execution_count": 29,
   "id": "7b90a131",
   "metadata": {},
   "outputs": [
    {
     "data": {
      "text/plain": [
       "'Ala ma 0003 koty'"
      ]
     },
     "execution_count": 29,
     "metadata": {},
     "output_type": "execute_result"
    }
   ],
   "source": [
    "# `%0Nd`\n",
    "'Ala ma %04d koty' % 3"
   ]
  },
  {
   "cell_type": "code",
   "execution_count": 30,
   "id": "8b073bfc",
   "metadata": {},
   "outputs": [
    {
     "data": {
      "text/plain": [
       "'Ala ma 0033 koty'"
      ]
     },
     "execution_count": 30,
     "metadata": {},
     "output_type": "execute_result"
    }
   ],
   "source": [
    "'Ala ma %04d koty' % 33"
   ]
  },
  {
   "cell_type": "code",
   "execution_count": 37,
   "id": "0d5ffd07",
   "metadata": {},
   "outputs": [
    {
     "data": {
      "text/plain": [
       "'|                        0.012341 |'"
      ]
     },
     "execution_count": 37,
     "metadata": {},
     "output_type": "execute_result"
    }
   ],
   "source": [
    "\"| %31f |\" % 0.0123412"
   ]
  },
  {
   "cell_type": "code",
   "execution_count": 38,
   "id": "f06a07d7",
   "metadata": {},
   "outputs": [
    {
     "data": {
      "text/plain": [
       "'| 0.012341                        |'"
      ]
     },
     "execution_count": 38,
     "metadata": {},
     "output_type": "execute_result"
    }
   ],
   "source": [
    "\"| %-31f |\" % 0.0123412"
   ]
  },
  {
   "cell_type": "markdown",
   "id": "ec42c48a",
   "metadata": {},
   "source": [
    "gdy mamy kilka zmiennych formatujących string, podajemy je w nawiasach, po przecinkach (w krotce, ale o nich później będzie)"
   ]
  },
  {
   "cell_type": "code",
   "execution_count": 43,
   "id": "6ca5ca0b",
   "metadata": {},
   "outputs": [
    {
     "data": {
      "text/plain": [
       "'Ala ma 3 koty'"
      ]
     },
     "execution_count": 43,
     "metadata": {},
     "output_type": "execute_result"
    }
   ],
   "source": [
    "\"Ala ma %d %s\" % (3, 'koty')"
   ]
  },
  {
   "cell_type": "code",
   "execution_count": 44,
   "id": "5e12d80f",
   "metadata": {},
   "outputs": [
    {
     "data": {
      "text/plain": [
       "'Ala ma 8 psów'"
      ]
     },
     "execution_count": 44,
     "metadata": {},
     "output_type": "execute_result"
    }
   ],
   "source": [
    "\"Ala ma %d %s\" % (8, 'psów')"
   ]
  },
  {
   "cell_type": "markdown",
   "id": "dfe03434",
   "metadata": {},
   "source": [
    "### Ćwiczenie Z0101\n",
    "Napisz program, który zwróci takie napisy, oczywiście w pętli i z formatowaniem `%`. Przyda się też rozgałęzienie.\n",
    "\n",
    "```\n",
    "Ala ma 1 kota\n",
    "Ala ma 2 koty\n",
    "Ala ma 3 koty\n",
    "Ala ma 4 koty\n",
    "Ala ma 5 kotów\n",
    "Ala ma 6 kotów\n",
    "Ala ma 7 kotów\n",
    "Ala ma 8 kotów\n",
    "Ala ma 9 kotów\n",
    "Ala ma 10 kotów\n",
    "```"
   ]
  },
  {
   "cell_type": "code",
   "execution_count": null,
   "id": "33174be8",
   "metadata": {},
   "outputs": [],
   "source": []
  },
  {
   "cell_type": "markdown",
   "id": "29b391ed",
   "metadata": {},
   "source": [
    "### Ćwiczenie Z0102\n",
    "Jak uogólnić ten program na dowolne liczby naturalne, tak by za dużo w kodzie nie zmieniać?"
   ]
  },
  {
   "cell_type": "code",
   "execution_count": null,
   "id": "37184b5d",
   "metadata": {},
   "outputs": [],
   "source": []
  },
  {
   "cell_type": "markdown",
   "id": "d62b62d1",
   "metadata": {},
   "source": [
    "### formatowanie z funkcją `format`\n",
    "\n",
    "Funkcja ta działa dzięki magicznej metodzie ``__format__()``. O takich funkcjach więcej w semestrze 2 na AiP.\n",
    "\n",
    "* Więcej: https://pyformat.info\n",
    "\n",
    "Dla ciągów znaków istnieje wbudowana metoda o nazwie ``format``, która umożliwia budowanie łańcuchów w miarę dynamicznie, bez konieczności używania konkatenacji i funkcji rzutującej, co w przypadku nieco bardziej skomplikowanych łańcuchów może być mocno karkołomne. Z metodą ``format`` jest zdecydowanie prościej.\n",
    "\n",
    "Najprostsze użycie metody `format` polega na podstawieniu argumentów funkcji w miejsce ozaczone nawiasami klamrowymi. Jeżeli mamy trzy zmienne o nazwach ``a, b, c``, to chcąc je wkleić po kolei do ciągu znaków za pomocą funkcji ``format`` musimy napisać\n",
    "\n",
    "    '{}, {}, {}'.format(a, b, c)\n"
   ]
  },
  {
   "cell_type": "code",
   "execution_count": 1,
   "id": "c35998f4",
   "metadata": {},
   "outputs": [
    {
     "data": {
      "text/plain": [
       "'Ala ma 3 koty'"
      ]
     },
     "execution_count": 1,
     "metadata": {},
     "output_type": "execute_result"
    }
   ],
   "source": [
    "'Ala ma {} koty'.format(3)"
   ]
  },
  {
   "cell_type": "markdown",
   "id": "b5ad4963",
   "metadata": {},
   "source": [
    "W taki sposób możemy podstawić dowolną ilość zmiennych, nie przejmując sie ich typem (w przeciwieństwie do operatora `%`)."
   ]
  },
  {
   "cell_type": "code",
   "execution_count": 2,
   "id": "07c27312",
   "metadata": {},
   "outputs": [
    {
     "data": {
      "text/plain": [
       "'Ala ma 3 koty'"
      ]
     },
     "execution_count": 2,
     "metadata": {},
     "output_type": "execute_result"
    }
   ],
   "source": [
    "a = 'Ala'\n",
    "b = 'ma'\n",
    "c = 3\n",
    "d = 'koty'\n",
    "'{} {} {} {}'.format(a, b, c, d)"
   ]
  },
  {
   "cell_type": "markdown",
   "id": "e7d9c619",
   "metadata": {},
   "source": [
    "Możemy też użyć liczb określających kolejność argumentów, poczynając od zera. Dzięki temu kolejność zmiennych w stringu może być różna od kolejności argumentów.\n",
    "\n",
    "    '{0}, {1}, {2}'.format(a, b, c)\n",
    "    '{2}, {1}, {0}'.format(a, b, c)\n",
    "\n",
    "Można też, dzięki temu, wykorzystać daną zmienną kilkukrotnie\n",
    "\n",
    "    '{0}{1}{0}'.format('abra', 'kad')\n",
    "\n",
    "\n"
   ]
  },
  {
   "cell_type": "code",
   "execution_count": 22,
   "id": "d850f79d",
   "metadata": {},
   "outputs": [
    {
     "data": {
      "text/plain": [
       "'Ala, ma, 3, koty'"
      ]
     },
     "execution_count": 22,
     "metadata": {},
     "output_type": "execute_result"
    }
   ],
   "source": [
    "'{0}, {1}, {2}, {3}'.format(a, b, c, d)"
   ]
  },
  {
   "cell_type": "code",
   "execution_count": 23,
   "id": "6ef87961",
   "metadata": {},
   "outputs": [
    {
     "data": {
      "text/plain": [
       "'koty ~ ma ~ Ala ~ 3'"
      ]
     },
     "execution_count": 23,
     "metadata": {},
     "output_type": "execute_result"
    }
   ],
   "source": [
    "'{3} ~ {1} ~ {0} ~ {2}'.format(a, b, c, d)"
   ]
  },
  {
   "cell_type": "code",
   "execution_count": 24,
   "id": "ca874c1b",
   "metadata": {},
   "outputs": [
    {
     "data": {
      "text/plain": [
       "'abrakadabra'"
      ]
     },
     "execution_count": 24,
     "metadata": {},
     "output_type": "execute_result"
    }
   ],
   "source": [
    "'{0}{1}{0}'.format('abra', 'kad')"
   ]
  },
  {
   "cell_type": "code",
   "execution_count": null,
   "id": "93fa9641",
   "metadata": {},
   "outputs": [],
   "source": []
  },
  {
   "cell_type": "markdown",
   "id": "2ff1fdc8",
   "metadata": {},
   "source": [
    "### Ćwiczenie Z0103\n",
    "Napisz program, który zwróci takie napisy, oczywiście w pętli i z `format`. Przyda się też rozgałęzienie.\n",
    "\n",
    "```\n",
    "Ala ma 1 kota\n",
    "Ala ma 2 koty\n",
    "Ala ma 3 koty\n",
    "Ala ma 4 koty\n",
    "Ala ma 5 kotów\n",
    "Ala ma 6 kotów\n",
    "Ala ma 7 kotów\n",
    "Ala ma 8 kotów\n",
    "Ala ma 9 kotów\n",
    "Ala ma 10 kotów\n",
    "```"
   ]
  },
  {
   "cell_type": "code",
   "execution_count": null,
   "id": "2c30a11e",
   "metadata": {},
   "outputs": [],
   "source": []
  }
 ],
 "metadata": {
  "kernelspec": {
   "display_name": "Python 3 (ipykernel)",
   "language": "python",
   "name": "python3"
  },
  "language_info": {
   "codemirror_mode": {
    "name": "ipython",
    "version": 3
   },
   "file_extension": ".py",
   "mimetype": "text/x-python",
   "name": "python",
   "nbconvert_exporter": "python",
   "pygments_lexer": "ipython3",
   "version": "3.9.5"
  }
 },
 "nbformat": 4,
 "nbformat_minor": 5
}
