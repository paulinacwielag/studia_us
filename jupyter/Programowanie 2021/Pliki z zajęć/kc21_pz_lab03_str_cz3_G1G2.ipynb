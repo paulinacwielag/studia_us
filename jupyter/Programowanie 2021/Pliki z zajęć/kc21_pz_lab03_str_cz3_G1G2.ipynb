{
 "cells": [
  {
   "cell_type": "markdown",
   "id": "34590122",
   "metadata": {},
   "source": [
    "## Komunikacja cyfrowa, Programowanie zorientowane\n",
    "\n",
    "#### Lab 03: string"
   ]
  },
  {
   "cell_type": "code",
   "execution_count": null,
   "id": "b74b8854",
   "metadata": {},
   "outputs": [],
   "source": []
  },
  {
   "cell_type": "markdown",
   "id": "47af8016",
   "metadata": {},
   "source": [
    "# Indeksy, operator `[]`\n",
    "\n",
    "Dostęp do elementów łańcucha oferuje nam operator `[]`, do którego podajemy miejsce elementu w ciągu zwane **indeksem**. Możemy odwołać się za pomocą indeksów dodatnich - od `[0]` do `[długość_łańcucha - 1]`, albo ujemnych - od końca łańcucha `[-1]` do jego początku `[-długość_łańcucha]`. Poniżej przykład z napisem `Python`."
   ]
  },
  {
   "cell_type": "code",
   "execution_count": 186,
   "id": "08a49325",
   "metadata": {},
   "outputs": [],
   "source": [
    "napis = 'Python'"
   ]
  },
  {
   "cell_type": "markdown",
   "id": "e917f0c0",
   "metadata": {},
   "source": [
    "```\n",
    "=============== ========== ========== ========== ========== ==========\n",
    "P               y          t          h          o          n\n",
    "=============== ========== ========== ========== ========== ==========\n",
    "0               1          2          3          4          5\n",
    "\n",
    "len(s) - len(s) len(s) - 5 len(s) - 4 len(s) - 3 len(s) - 2 len(s) - 1\n",
    "\n",
    "-len(s)         -5         -4         -3         -2         -1\n",
    "=============== ========== ========== ========== ========== ==========\n",
    "```"
   ]
  },
  {
   "cell_type": "markdown",
   "id": "74daaaef",
   "metadata": {},
   "source": [
    "### dodatnie wartości indeksów"
   ]
  },
  {
   "cell_type": "code",
   "execution_count": 191,
   "id": "5f37392f",
   "metadata": {},
   "outputs": [
    {
     "data": {
      "text/plain": [
       "True"
      ]
     },
     "execution_count": 191,
     "metadata": {},
     "output_type": "execute_result"
    }
   ],
   "source": [
    "# pierwszy element, indeks 0\n",
    "napis[0] == 'P'"
   ]
  },
  {
   "cell_type": "code",
   "execution_count": 197,
   "id": "23152e21",
   "metadata": {},
   "outputs": [
    {
     "data": {
      "text/plain": [
       "True"
      ]
     },
     "execution_count": 197,
     "metadata": {},
     "output_type": "execute_result"
    }
   ],
   "source": [
    "# ostatni element, indeks [długość_łańcucha - 1]\n",
    "napis[len(napis)-1] == 'n'"
   ]
  },
  {
   "cell_type": "markdown",
   "id": "c0c8319c",
   "metadata": {},
   "source": [
    "### ujemne wartości indeksów"
   ]
  },
  {
   "cell_type": "code",
   "execution_count": 198,
   "id": "7e7f927a",
   "metadata": {},
   "outputs": [
    {
     "data": {
      "text/plain": [
       "True"
      ]
     },
     "execution_count": 198,
     "metadata": {},
     "output_type": "execute_result"
    }
   ],
   "source": [
    "# pierwszy element, indeks [-długość_łańcucha]\n",
    "napis[-len(napis)] == 'P'"
   ]
  },
  {
   "cell_type": "code",
   "execution_count": 199,
   "id": "35712f67",
   "metadata": {},
   "outputs": [
    {
     "data": {
      "text/plain": [
       "True"
      ]
     },
     "execution_count": 199,
     "metadata": {},
     "output_type": "execute_result"
    }
   ],
   "source": [
    "# ostatni element, indeks [-1]\n",
    "napis[-1] == 'n'"
   ]
  },
  {
   "cell_type": "markdown",
   "id": "dc6209b9",
   "metadata": {},
   "source": [
    "## Wycinanie sekwencji\n",
    "\n",
    "Za pomocą indeksów możemy też odwołać się do większej części sekwencji. Służy\n",
    "do tego technika wycinania sekwencji (*sequence slicing*). Ogólna postać\n",
    "wycinania wygląda następująco:\n",
    "\n",
    "    seq[start:stop:krok]\n",
    "\n",
    "Jak widać musimy w ogólności podać 3 liczby:\n",
    "\n",
    "* ``start`` - indeks, od którego mamy zacząć wycinać\n",
    "* ``stop`` - indeks, na którym wcięcie ma się zakończyć, wartość stojąca pod\n",
    "  tym indeksem jest pomijana\n",
    "* ``krok`` - co który indeks ma być brany pod uwagę przy wycinaniu\n",
    "\n",
    "Do argumnetów ``start``, ``stop`` i ``krok`` możemy podstawiać liczby zarówno dodatnie, jak i ujemne.\n",
    "Zero oczywiście też.\n",
    "\n",
    "Jakakolwiek opeacja na łańcuchach zwraca nam kopię wybranych elementów, nie naruszając oryginalnych łańcuchów. Powodem tego jest fakt, że łańcuchy są typami **niemodyfikowalnymi** (podobnie jak np: literały liczbowe)."
   ]
  },
  {
   "cell_type": "code",
   "execution_count": 206,
   "id": "51623dfa",
   "metadata": {},
   "outputs": [
    {
     "name": "stdout",
     "output_type": "stream",
     "text": [
      "(a m) od 2 do 5 co 1: a m\n",
      "(ao ) od 5 do 12 do 3: ao \n",
      "(Aam oaipa) od poczatku do konca co 2 Aam oaipa\n",
      "(asp i atok ) do konca do 5 z ujemnym krokiem asp i atok \n"
     ]
    }
   ],
   "source": [
    "tekst = 'Ala ma kota i psa'\n",
    "print('(a m) od 2 do 5 co 1:', tekst[2:5:1])\n",
    "print('(ao ) od 5 do 12 do 3:', tekst[5:12:3])\n",
    "print('(Aam oaipa) od poczatku do konca co 2', tekst[0:len(tekst):2])\n",
    "print('(asp i atok ) do konca do 5 z ujemnym krokiem', tekst[-1:5:-1])"
   ]
  },
  {
   "cell_type": "markdown",
   "id": "5b6e6fe1",
   "metadata": {},
   "source": [
    "Specjalnego typu krokiem jest ``1``. Jeżeli ``krok = 1`` oznacza to, że mamy\n",
    "na myśli każdy kolejny indeks z żądanego zakresu. Jedynka jest wartością\n",
    "domyślną i możemy ją pominąć."
   ]
  },
  {
   "cell_type": "code",
   "execution_count": 201,
   "id": "5b664d2c",
   "metadata": {},
   "outputs": [
    {
     "data": {
      "text/plain": [
       "True"
      ]
     },
     "execution_count": 201,
     "metadata": {},
     "output_type": "execute_result"
    }
   ],
   "source": [
    "tekst[2:5] == tekst[2:5:1]"
   ]
  },
  {
   "cell_type": "markdown",
   "id": "7876e00e",
   "metadata": {},
   "source": [
    "Specjalnymi indeksami są ``0`` oraz ``-1`` (``len(seq) - 1``). Oznaczają one\n",
    "początek i koniec sekwencji. Miejsca te są dla interpretera oczywiste, dlatego\n",
    "i je możemy pomijać, wycinając sekwencje."
   ]
  },
  {
   "cell_type": "code",
   "execution_count": 207,
   "id": "7fbadfc6",
   "metadata": {},
   "outputs": [
    {
     "name": "stdout",
     "output_type": "stream",
     "text": [
      "od poczatku do 5 co 1: Ala m\n",
      "od 8 do konca co 2: oaipa\n",
      "kopia sekwencji (od poczatku do konca co 1) Ala ma kota i psa\n",
      "odwracanie sekwencji asp i atok am alA\n"
     ]
    }
   ],
   "source": [
    "tekst = 'Ala ma kota i psa'\n",
    "print('od poczatku do 5 co 1:', tekst[:5])\n",
    "print('od 8 do konca co 2:', tekst[8::2])\n",
    "print('kopia sekwencji (od poczatku do konca co 1)', tekst[:])\n",
    "print('odwracanie sekwencji', tekst[::-1])"
   ]
  },
  {
   "cell_type": "code",
   "execution_count": null,
   "id": "d4270af4",
   "metadata": {},
   "outputs": [],
   "source": []
  },
  {
   "cell_type": "markdown",
   "id": "e4af4d5a",
   "metadata": {},
   "source": [
    "### Ćwiczenie\n",
    "TBA"
   ]
  },
  {
   "cell_type": "code",
   "execution_count": null,
   "id": "3f98f9a5",
   "metadata": {},
   "outputs": [],
   "source": []
  },
  {
   "cell_type": "code",
   "execution_count": null,
   "id": "73c91267",
   "metadata": {},
   "outputs": [],
   "source": []
  },
  {
   "cell_type": "markdown",
   "id": "1bbc2242",
   "metadata": {},
   "source": [
    "## Metody typu `str`\n",
    "\n",
    "Python ma zestaw wbudowanych metod, których można używać na łańcuchach. Znacie już jedną taką metodę: `format`. Poniżej jest lista, omówimy tylko kilka - reszta to praca domowa. "
   ]
  },
  {
   "cell_type": "code",
   "execution_count": 216,
   "id": "8b282c4c",
   "metadata": {},
   "outputs": [],
   "source": [
    "napis = 'Python oraz Boa. Hej Python!'"
   ]
  },
  {
   "cell_type": "markdown",
   "id": "bd4a4339",
   "metadata": {},
   "source": [
    "### manipulacja napisem - wielkość liter"
   ]
  },
  {
   "cell_type": "code",
   "execution_count": 227,
   "id": "13fada8c",
   "metadata": {},
   "outputs": [
    {
     "data": {
      "text/plain": [
       "'python oraz boa. hej python!'"
      ]
     },
     "execution_count": 227,
     "metadata": {},
     "output_type": "execute_result"
    }
   ],
   "source": [
    "napis.lower()"
   ]
  },
  {
   "cell_type": "code",
   "execution_count": 226,
   "id": "219bf865",
   "metadata": {},
   "outputs": [
    {
     "data": {
      "text/plain": [
       "'python oraz boa. hej python!'"
      ]
     },
     "execution_count": 226,
     "metadata": {},
     "output_type": "execute_result"
    }
   ],
   "source": [
    "napis.casefold()"
   ]
  },
  {
   "cell_type": "code",
   "execution_count": 228,
   "id": "d10dfd32",
   "metadata": {},
   "outputs": [
    {
     "data": {
      "text/plain": [
       "'PYTHON ORAZ BOA. HEJ PYTHON!'"
      ]
     },
     "execution_count": 228,
     "metadata": {},
     "output_type": "execute_result"
    }
   ],
   "source": [
    "napis.upper()"
   ]
  },
  {
   "cell_type": "code",
   "execution_count": 229,
   "id": "09ca6160",
   "metadata": {},
   "outputs": [
    {
     "data": {
      "text/plain": [
       "'Python Oraz Boa. Hej Python!'"
      ]
     },
     "execution_count": 229,
     "metadata": {},
     "output_type": "execute_result"
    }
   ],
   "source": [
    "napis.title()"
   ]
  },
  {
   "cell_type": "code",
   "execution_count": 230,
   "id": "3927b22d",
   "metadata": {},
   "outputs": [
    {
     "data": {
      "text/plain": [
       "'Python oraz boa. hej python!'"
      ]
     },
     "execution_count": 230,
     "metadata": {},
     "output_type": "execute_result"
    }
   ],
   "source": [
    "napis.capitalize()"
   ]
  },
  {
   "cell_type": "code",
   "execution_count": 231,
   "id": "dcfb4e28",
   "metadata": {},
   "outputs": [
    {
     "data": {
      "text/plain": [
       "'pYTHON ORAZ bOA. hEJ pYTHON!'"
      ]
     },
     "execution_count": 231,
     "metadata": {},
     "output_type": "execute_result"
    }
   ],
   "source": [
    "napis.swapcase()"
   ]
  },
  {
   "cell_type": "code",
   "execution_count": null,
   "id": "47776352",
   "metadata": {},
   "outputs": [],
   "source": []
  },
  {
   "cell_type": "markdown",
   "id": "f890a49c",
   "metadata": {},
   "source": [
    "### dopełnienia i wyrównanie"
   ]
  },
  {
   "cell_type": "code",
   "execution_count": 233,
   "id": "e4db98ae",
   "metadata": {},
   "outputs": [
    {
     "data": {
      "text/plain": [
       "'   Python oraz Boa. Hej Python!  '"
      ]
     },
     "execution_count": 233,
     "metadata": {},
     "output_type": "execute_result"
    }
   ],
   "source": [
    "napis.center(33)"
   ]
  },
  {
   "cell_type": "code",
   "execution_count": 235,
   "id": "b5234b35",
   "metadata": {},
   "outputs": [
    {
     "data": {
      "text/plain": [
       "'Python oraz Boa. Hej Python!     '"
      ]
     },
     "execution_count": 235,
     "metadata": {},
     "output_type": "execute_result"
    }
   ],
   "source": [
    "napis.ljust(33)"
   ]
  },
  {
   "cell_type": "code",
   "execution_count": 236,
   "id": "e9126b12",
   "metadata": {},
   "outputs": [
    {
     "data": {
      "text/plain": [
       "'     Python oraz Boa. Hej Python!'"
      ]
     },
     "execution_count": 236,
     "metadata": {},
     "output_type": "execute_result"
    }
   ],
   "source": [
    "napis.rjust(33)"
   ]
  },
  {
   "cell_type": "code",
   "execution_count": 238,
   "id": "12a3b8a9",
   "metadata": {},
   "outputs": [
    {
     "data": {
      "text/plain": [
       "'00000Python oraz Boa. Hej Python!'"
      ]
     },
     "execution_count": 238,
     "metadata": {},
     "output_type": "execute_result"
    }
   ],
   "source": [
    "napis.zfill(33)"
   ]
  },
  {
   "cell_type": "markdown",
   "id": "5d45b8b4",
   "metadata": {},
   "source": [
    "### Ćwiczenie\n",
    "Napisz program, który zwróci takie trójkąty, w zależności od podanej liczby `N` poziomów oraz wybranego justowania `lewo`, `prawo`, `środek`. W przykładzie `N = 5`. Użyj metod dla stringów.\n",
    "\n",
    "```\n",
    "        *\n",
    "      ***\n",
    "    *****\n",
    "  *******\n",
    "*********\n",
    " \n",
    "*         \n",
    "***       \n",
    "*****     \n",
    "*******   \n",
    "********* \n",
    "\n",
    "    *     \n",
    "   ***    \n",
    "  *****   \n",
    " *******  \n",
    "********* \n",
    "```"
   ]
  },
  {
   "cell_type": "code",
   "execution_count": 277,
   "id": "3fbadc26",
   "metadata": {},
   "outputs": [
    {
     "name": "stdout",
     "output_type": "stream",
     "text": [
      "    *     \n",
      "   ***    \n",
      "  *****   \n",
      " *******  \n",
      "********* \n"
     ]
    }
   ],
   "source": [
    "N = 5\n",
    "justowanie = 'prawo'\n",
    "justowanie = 'lewo'\n",
    "justowanie = 'środek'\n",
    "\n",
    "i = 1\n",
    "M = N * 2\n",
    "while i <= M:\n",
    "    linia = '*' * i\n",
    "    if justowanie == 'lewo':\n",
    "        justowanie = '<'\n",
    "    elif justowanie == 'prawo':\n",
    "        justowanie = '>'\n",
    "    elif justowanie == 'środek':\n",
    "        print(linia.center(M))\n",
    "    i += 2"
   ]
  },
  {
   "cell_type": "code",
   "execution_count": null,
   "id": "7d009036",
   "metadata": {},
   "outputs": [],
   "source": []
  },
  {
   "cell_type": "markdown",
   "id": "5fefcfc7",
   "metadata": {},
   "source": [
    "### metody logiczne"
   ]
  },
  {
   "cell_type": "code",
   "execution_count": 239,
   "id": "4045b238",
   "metadata": {},
   "outputs": [
    {
     "data": {
      "text/plain": [
       "False"
      ]
     },
     "execution_count": 239,
     "metadata": {},
     "output_type": "execute_result"
    }
   ],
   "source": [
    "napis.isupper()"
   ]
  },
  {
   "cell_type": "code",
   "execution_count": 242,
   "id": "c1065caa",
   "metadata": {},
   "outputs": [
    {
     "data": {
      "text/plain": [
       "True"
      ]
     },
     "execution_count": 242,
     "metadata": {},
     "output_type": "execute_result"
    }
   ],
   "source": [
    "\"PYTHON\".isupper()"
   ]
  },
  {
   "cell_type": "code",
   "execution_count": 243,
   "id": "cdeb8778",
   "metadata": {},
   "outputs": [
    {
     "data": {
      "text/plain": [
       "True"
      ]
     },
     "execution_count": 243,
     "metadata": {},
     "output_type": "execute_result"
    }
   ],
   "source": [
    "napis.upper().isupper()"
   ]
  },
  {
   "cell_type": "code",
   "execution_count": 245,
   "id": "9da273e4",
   "metadata": {},
   "outputs": [
    {
     "data": {
      "text/plain": [
       "True"
      ]
     },
     "execution_count": 245,
     "metadata": {},
     "output_type": "execute_result"
    }
   ],
   "source": [
    "'python'.islower()"
   ]
  },
  {
   "cell_type": "code",
   "execution_count": 247,
   "id": "4bd54b59",
   "metadata": {},
   "outputs": [
    {
     "data": {
      "text/plain": [
       "True"
      ]
     },
     "execution_count": 247,
     "metadata": {},
     "output_type": "execute_result"
    }
   ],
   "source": [
    "\"Python Oraz Boa. Python!\".istitle()"
   ]
  },
  {
   "cell_type": "code",
   "execution_count": 248,
   "id": "b043428d",
   "metadata": {},
   "outputs": [
    {
     "data": {
      "text/plain": [
       "True"
      ]
     },
     "execution_count": 248,
     "metadata": {},
     "output_type": "execute_result"
    }
   ],
   "source": [
    "\"1\".isnumeric()"
   ]
  },
  {
   "cell_type": "code",
   "execution_count": 249,
   "id": "61aaffb0",
   "metadata": {},
   "outputs": [
    {
     "data": {
      "text/plain": [
       "False"
      ]
     },
     "execution_count": 249,
     "metadata": {},
     "output_type": "execute_result"
    }
   ],
   "source": [
    "\"3.1415\".isnumeric()  # kropka"
   ]
  },
  {
   "cell_type": "code",
   "execution_count": 251,
   "id": "3a24e11f",
   "metadata": {},
   "outputs": [
    {
     "data": {
      "text/plain": [
       "False"
      ]
     },
     "execution_count": 251,
     "metadata": {},
     "output_type": "execute_result"
    }
   ],
   "source": [
    "'100 300 400'.isnumeric()  # spacje!"
   ]
  },
  {
   "cell_type": "code",
   "execution_count": 254,
   "id": "0fe57d3f",
   "metadata": {},
   "outputs": [
    {
     "data": {
      "text/plain": [
       "True"
      ]
     },
     "execution_count": 254,
     "metadata": {},
     "output_type": "execute_result"
    }
   ],
   "source": [
    "'100300'.isdigit()"
   ]
  },
  {
   "cell_type": "code",
   "execution_count": 255,
   "id": "cc9502bf",
   "metadata": {},
   "outputs": [
    {
     "data": {
      "text/plain": [
       "False"
      ]
     },
     "execution_count": 255,
     "metadata": {},
     "output_type": "execute_result"
    }
   ],
   "source": [
    "'100.300'.isdigit()  # kropka"
   ]
  },
  {
   "cell_type": "code",
   "execution_count": 252,
   "id": "c029a885",
   "metadata": {},
   "outputs": [
    {
     "data": {
      "text/plain": [
       "False"
      ]
     },
     "execution_count": 252,
     "metadata": {},
     "output_type": "execute_result"
    }
   ],
   "source": [
    "'100 300 400'.isdigit()  # spacje!"
   ]
  },
  {
   "cell_type": "code",
   "execution_count": 259,
   "id": "f866dfcd",
   "metadata": {},
   "outputs": [
    {
     "data": {
      "text/plain": [
       "(True, True, True)"
      ]
     },
     "execution_count": 259,
     "metadata": {},
     "output_type": "execute_result"
    }
   ],
   "source": [
    "# białe znaki\n",
    "' '.isspace(), '\\t'.isspace(), '\\n'.isspace()"
   ]
  },
  {
   "cell_type": "code",
   "execution_count": 261,
   "id": "77362ce5",
   "metadata": {},
   "outputs": [
    {
     "data": {
      "text/plain": [
       "True"
      ]
     },
     "execution_count": 261,
     "metadata": {},
     "output_type": "execute_result"
    }
   ],
   "source": [
    "# alfabet\n",
    "'Alamakota'.isalpha()"
   ]
  },
  {
   "cell_type": "code",
   "execution_count": 262,
   "id": "ff91608b",
   "metadata": {},
   "outputs": [
    {
     "data": {
      "text/plain": [
       "False"
      ]
     },
     "execution_count": 262,
     "metadata": {},
     "output_type": "execute_result"
    }
   ],
   "source": [
    "'Ala ma kota'.isalpha()"
   ]
  },
  {
   "cell_type": "code",
   "execution_count": 264,
   "id": "8ce98d33",
   "metadata": {},
   "outputs": [
    {
     "data": {
      "text/plain": [
       "True"
      ]
     },
     "execution_count": 264,
     "metadata": {},
     "output_type": "execute_result"
    }
   ],
   "source": [
    "# alfanumeryczne\n",
    "'Alamakota'.isalnum()"
   ]
  },
  {
   "cell_type": "code",
   "execution_count": 269,
   "id": "dcf66c1e",
   "metadata": {},
   "outputs": [
    {
     "data": {
      "text/plain": [
       "True"
      ]
     },
     "execution_count": 269,
     "metadata": {},
     "output_type": "execute_result"
    }
   ],
   "source": [
    "'Ala1ma3kota'.isalnum()"
   ]
  },
  {
   "cell_type": "code",
   "execution_count": 270,
   "id": "1894fe90",
   "metadata": {},
   "outputs": [
    {
     "data": {
      "text/plain": [
       "False"
      ]
     },
     "execution_count": 270,
     "metadata": {},
     "output_type": "execute_result"
    }
   ],
   "source": [
    "'Ala ma kota'.isalnum()  # spacja"
   ]
  },
  {
   "cell_type": "markdown",
   "id": "0cd226ed",
   "metadata": {},
   "source": [
    "### Ćwiczenie\n",
    "Skopiuj do zmiennej `str` tekst swojej ulubionej piosenki. Policz\n",
    "\n",
    "1. ilość wszystkich liter\n",
    "2. ilość wszystkich samogłosek\n",
    "3. ilość wszystkich cyfr\n",
    "4. ilość innych znaków"
   ]
  },
  {
   "cell_type": "code",
   "execution_count": null,
   "id": "f3855b47",
   "metadata": {},
   "outputs": [],
   "source": []
  },
  {
   "cell_type": "markdown",
   "id": "d918dd90",
   "metadata": {},
   "source": [
    "### `count`, `index` i `replace`\n",
    "Ostatnie dwie metody o których powiemy to te z nagłówka.\n",
    "\n",
    "* `string.count(c)` zlicza ilość wystąpień danego ciągu `c` znaków w ciągu `string`"
   ]
  },
  {
   "cell_type": "code",
   "execution_count": 2,
   "id": "755a5882",
   "metadata": {},
   "outputs": [
    {
     "data": {
      "text/plain": [
       "2"
      ]
     },
     "execution_count": 2,
     "metadata": {},
     "output_type": "execute_result"
    }
   ],
   "source": [
    "'Ala ma kota i psa. Ala lubi futrzaki.'.count('Ala')"
   ]
  },
  {
   "cell_type": "code",
   "execution_count": 3,
   "id": "3e8db670",
   "metadata": {},
   "outputs": [
    {
     "data": {
      "text/plain": [
       "6"
      ]
     },
     "execution_count": 3,
     "metadata": {},
     "output_type": "execute_result"
    }
   ],
   "source": [
    "'Ala ma kota i psa. Ala lubi futrzaki.'.count('a')"
   ]
  },
  {
   "cell_type": "markdown",
   "id": "33a4bc4f",
   "metadata": {},
   "source": [
    "* `string.index(c)` - zwraca indeks pierwszego wystapienia ciągu znaków `c` w ciągu `string`"
   ]
  },
  {
   "cell_type": "code",
   "execution_count": 8,
   "id": "d37d597b",
   "metadata": {},
   "outputs": [
    {
     "data": {
      "text/plain": [
       "4"
      ]
     },
     "execution_count": 8,
     "metadata": {},
     "output_type": "execute_result"
    }
   ],
   "source": [
    "'Ala ma kota i psa. Ala lubi futrzaki.'.index('ma')"
   ]
  },
  {
   "cell_type": "code",
   "execution_count": 9,
   "id": "4e94a8ed",
   "metadata": {},
   "outputs": [
    {
     "data": {
      "text/plain": [
       "4"
      ]
     },
     "execution_count": 9,
     "metadata": {},
     "output_type": "execute_result"
    }
   ],
   "source": [
    "'Ala ma kota i psa. Ala lubi futrzaki.'.index('m')"
   ]
  },
  {
   "cell_type": "markdown",
   "id": "149992db",
   "metadata": {},
   "source": [
    "* `string.replace(s1, s2)` - podmienia wszystkie wystąpnienia ciagu `s1` na ciąg `s2` jakie znajdują się w ciągu `string`"
   ]
  },
  {
   "cell_type": "code",
   "execution_count": 10,
   "id": "a94993b2",
   "metadata": {},
   "outputs": [
    {
     "data": {
      "text/plain": [
       "'Kazik ma kota i psa. Kazik lubi futrzaki.'"
      ]
     },
     "execution_count": 10,
     "metadata": {},
     "output_type": "execute_result"
    }
   ],
   "source": [
    "'Ala ma kota i psa. Ala lubi futrzaki.'.replace('Ala', 'Kazik')"
   ]
  },
  {
   "cell_type": "code",
   "execution_count": 13,
   "id": "bfdd0feb",
   "metadata": {},
   "outputs": [
    {
     "data": {
      "text/plain": [
       "'Ala ma kota oraz psa. Ala luboraz futrzakoraz.'"
      ]
     },
     "execution_count": 13,
     "metadata": {},
     "output_type": "execute_result"
    }
   ],
   "source": [
    "# czasem trzeba uważać\n",
    "'Ala ma kota i psa. Ala lubi futrzaki.'.replace('i', 'oraz')"
   ]
  },
  {
   "cell_type": "code",
   "execution_count": 14,
   "id": "b3130998",
   "metadata": {},
   "outputs": [
    {
     "data": {
      "text/plain": [
       "'Ala ma kota oraz psa. Ala lubi futrzaki.'"
      ]
     },
     "execution_count": 14,
     "metadata": {},
     "output_type": "execute_result"
    }
   ],
   "source": [
    "# i podmieniać z sensem\n",
    "'Ala ma kota i psa. Ala lubi futrzaki.'.replace(' i ', ' oraz ')"
   ]
  },
  {
   "cell_type": "code",
   "execution_count": null,
   "id": "ff2026fc",
   "metadata": {},
   "outputs": [],
   "source": []
  },
  {
   "cell_type": "markdown",
   "id": "9254db1e",
   "metadata": {},
   "source": [
    "### Ćwiczenie\n",
    "Napisz program, który oblicza sumę wszystkich cyfr z ciągu znaków. Potrzebna będzie \n",
    "- pętla, \n",
    "- rozgałęzienie, \n",
    "- operator `in` albo metoda `isdigit`\n",
    "- funkcja rzutowa `int`\n",
    "- dodawanie"
   ]
  },
  {
   "cell_type": "code",
   "execution_count": 17,
   "id": "291a424b",
   "metadata": {},
   "outputs": [
    {
     "data": {
      "text/plain": [
       "13"
      ]
     },
     "execution_count": 17,
     "metadata": {},
     "output_type": "execute_result"
    }
   ],
   "source": [
    "tekst = 'Ala ma 13 kotów, 2 psy oraz 25 pająków.'\n",
    "suma = 0\n",
    "i = 0\n",
    "while i < len(tekst):\n",
    "    if tekst[i].isdigit():  # lub tekst[i] in '123456789'\n",
    "        suma += int(tekst[i])\n",
    "    i += 1\n",
    "suma"
   ]
  },
  {
   "cell_type": "code",
   "execution_count": null,
   "id": "042f839a",
   "metadata": {},
   "outputs": [],
   "source": []
  },
  {
   "cell_type": "markdown",
   "id": "f428f4c8",
   "metadata": {},
   "source": [
    "### Lista metod dla `str`\n",
    "* capitalize() Zamienia pierwszy znak na wielkie litery\n",
    "* casefold() Zamienia ciąg znaków na małe litery\n",
    "* center() Zwraca wyśrodkowany ciąg\n",
    "* count() Zwraca liczbę wystąpień określonej wartości w ciągu znaków\n",
    "* encode() Zwraca zakodowaną wersję ciągu\n",
    "* endwith() Zwraca true, jeśli ciąg kończy się podaną wartością\n",
    "* expandtabs() Ustawia rozmiar tabulacji ciągu\n",
    "* find() Przeszukuje ciąg pod kątem określonej wartości i zwraca pozycję, w której została znaleziona\n",
    "* format() Formatuje określone wartości w ciągu znaków\n",
    "* format_map() Formatuje określone wartości w ciągu znaków\n",
    "* index() Przeszukuje ciąg pod kątem określonej wartości i zwraca pozycję, w której została znaleziona\n",
    "* isalnum() Zwraca True, jeśli wszystkie znaki w ciągu są alfanumeryczne\n",
    "* isalpha() Zwraca True, jeśli wszystkie znaki w ciągu są w alfabecie\n",
    "* isascii() Zwraca True, jeśli wszystkie znaki w ciągu są znakami ascii\n",
    "* isdecimal() Zwraca True, jeśli wszystkie znaki w ciągu są ułamkami dziesiętnymi\n",
    "* isdigit() Zwraca True, jeśli wszystkie znaki w ciągu są cyframi\n",
    "* isidentifier() Zwraca True, jeśli ciąg jest identyfikatorem\n",
    "* islower() Zwraca True, jeśli wszystkie znaki w ciągu są małymi literami\n",
    "* isnumeric() Zwraca True, jeśli wszystkie znaki w ciągu są numeryczne\n",
    "* isprintable() Zwraca True, jeśli wszystkie znaki w ciągu można wydrukować\n",
    "* isspace() Zwraca True, jeśli wszystkie znaki w ciągu są białymi znakami\n",
    "* istitle() Zwraca True, jeśli ciąg jest zgodny z regułami tytułu\n",
    "* isupper() Zwraca True, jeśli wszystkie znaki w łańcuchu są dużymi literami\n",
    "* join() Łączy elementy iterowalnego do końca łańcucha\n",
    "* ljust() Zwraca wyrównaną do lewej wersję ciągu\n",
    "* lower() Konwertuje napis na małe litery\n",
    "* lstrip() Zwraca lewą wersję przycinania łańcucha\n",
    "* maketrans() Zwraca tablicę tłumaczeń do użycia w tłumaczeniach\n",
    "* partition() Zwraca krotkę, w której łańcuch jest podzielony na trzy części\n",
    "* replace() Zwraca ciąg znaków, w którym określona wartość jest zastępowana określoną wartością\n",
    "* rfind() Przeszukuje ciąg pod kątem określonej wartości i zwraca ostatnią pozycję, w której została znaleziona\n",
    "* rindex() Przeszukuje ciąg pod kątem określonej wartości i zwraca ostatnią pozycję, w której została znaleziona\n",
    "* rjust() Zwraca wyjustowaną do prawej wersję łańcucha\n",
    "* rpartition() Zwraca krotkę, w której łańcuch jest podzielony na trzy części\n",
    "* rsplit() Dzieli ciąg znaków w określonym separatorze i zwraca listę\n",
    "* rstrip() Zwraca odpowiednią wersję przycięcia łańcucha\n",
    "* split() Dzieli ciąg znaków w określonym separatorze i zwraca listę\n",
    "* splitlines() Dzieli ciąg na końcach wiersza i zwraca listę\n",
    "* beginwith() Zwraca true, jeśli ciąg zaczyna się od określonej wartości\n",
    "* strip() Zwraca przyciętą wersję ciągu\n",
    "* swapcase() Zamienia litery, małe litery stają się dużymi i na odwrót\n",
    "* title() Zamienia pierwszy znak każdego słowa na wielkie litery\n",
    "* translate() Zwraca przetłumaczony ciąg\n",
    "* upper() Konwertuje napis na wielkie litery\n",
    "* zfill() Wypełnia ciąg określoną liczbą wartości 0 na początku"
   ]
  },
  {
   "cell_type": "code",
   "execution_count": null,
   "id": "ee56e24f",
   "metadata": {},
   "outputs": [],
   "source": []
  },
  {
   "cell_type": "markdown",
   "id": "0ba46824",
   "metadata": {},
   "source": [
    "### f-stringi\n",
    "Formatowanie identyczne jak za pomocą metody `format`."
   ]
  },
  {
   "cell_type": "code",
   "execution_count": 6,
   "id": "187277e0",
   "metadata": {},
   "outputs": [
    {
     "name": "stdout",
     "output_type": "stream",
     "text": [
      "Pole kola o promieniu 2.3 wynosi 16.618534999999998 a jego obwod wynosi 14.450899999999999\n"
     ]
    }
   ],
   "source": [
    "pi = 3.1415\n",
    "r = 2.3\n",
    "pole_kola = pi * r**2\n",
    "obwod_kola = 2 * pi * r\n",
    "print(f\"Pole kola o promieniu {r} wynosi {pole_kola} a jego obwod wynosi {obwod_kola}\")"
   ]
  },
  {
   "cell_type": "code",
   "execution_count": 10,
   "id": "bc2f0f8f",
   "metadata": {},
   "outputs": [
    {
     "name": "stdout",
     "output_type": "stream",
     "text": [
      "Pole kola o promieniu 2.3 wynosi 16.6 a jego obwod wynosi    14.45\n"
     ]
    }
   ],
   "source": [
    "print(f\"Pole kola o promieniu {r} wynosi {pole_kola:.3} a jego obwod wynosi {obwod_kola:8.4}\")"
   ]
  },
  {
   "cell_type": "markdown",
   "id": "07a4e48e",
   "metadata": {},
   "source": [
    "Aby w `f-str` wyświetlić nawias klamrowy, musimy go zamaskować nawiasem klamrowym."
   ]
  },
  {
   "cell_type": "code",
   "execution_count": 4,
   "id": "345b768a",
   "metadata": {},
   "outputs": [
    {
     "data": {
      "text/plain": [
       "'Ala'"
      ]
     },
     "execution_count": 4,
     "metadata": {},
     "output_type": "execute_result"
    }
   ],
   "source": [
    "f\"{'Ala'}\""
   ]
  },
  {
   "cell_type": "code",
   "execution_count": 5,
   "id": "cb65b073",
   "metadata": {},
   "outputs": [
    {
     "data": {
      "text/plain": [
       "\"{'Ala'}\""
      ]
     },
     "execution_count": 5,
     "metadata": {},
     "output_type": "execute_result"
    }
   ],
   "source": [
    "f\"{{'Ala'}}\""
   ]
  },
  {
   "cell_type": "code",
   "execution_count": null,
   "id": "af69169d",
   "metadata": {},
   "outputs": [],
   "source": []
  }
 ],
 "metadata": {
  "kernelspec": {
   "display_name": "Python 3 (ipykernel)",
   "language": "python",
   "name": "python3"
  },
  "language_info": {
   "codemirror_mode": {
    "name": "ipython",
    "version": 3
   },
   "file_extension": ".py",
   "mimetype": "text/x-python",
   "name": "python",
   "nbconvert_exporter": "python",
   "pygments_lexer": "ipython3",
   "version": "3.9.5"
  }
 },
 "nbformat": 4,
 "nbformat_minor": 5
}
