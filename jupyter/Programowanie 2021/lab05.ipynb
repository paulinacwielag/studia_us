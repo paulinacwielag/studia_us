{
 "cells": [
  {
   "cell_type": "code",
   "execution_count": 1,
   "id": "1ef13ecb",
   "metadata": {},
   "outputs": [],
   "source": [
    "import string\n",
    "from urllib.request import urlopen, Request \n",
    "\n",
    "url_rj = 'https://www.gutenberg.org/files/1513/1513-0.txt'\n",
    "r = Request(url_rj)\n",
    "odp = urlopen(r)\n",
    "rj = odp.read().decode('utf-8')"
   ]
  },
  {
   "cell_type": "code",
   "execution_count": 2,
   "id": "c82c7476",
   "metadata": {},
   "outputs": [
    {
     "data": {
      "text/plain": [
       "'\\ufeffThe Project Gutenberg eBook of Romeo and Juliet, by William Shakespeare\\r\\n\\r\\nThis eBook is for the use of anyone anywhere in the United States and\\r\\nmost other parts of the world at no cost and with almost no restrictions\\r\\nwhatsoever. You may copy it, give it away or re-use it under the terms\\r\\nof the Project Gutenberg License included with this eBook or online at\\r\\nwww.gutenberg.org. If you are not located in the United States, you\\r\\nwill have to check the laws of the country where you are located before\\r\\nusing this eBook.\\r\\n\\r\\nTitle: Romeo and Juliet\\r\\n\\r\\nAuthor: William Shakespeare\\r\\n\\r\\nRelease Date: November, 1998 [eBook #1513]\\r\\n[Most recently updated: October 23, 2021]\\r\\n\\r\\nLanguage: English\\r\\n\\r\\nCharacter set encoding: UTF-8\\r\\n\\r\\nProduced by: the PG Shakespeare Team, a team of about twenty Project Gutenberg volunteers.\\r\\n\\r\\n*** START OF THE PROJECT GUTENBERG EBOOK ROMEO AND JULIET ***\\r\\n\\r\\n\\r\\n\\r\\n\\r\\nTHE TRAGEDY OF ROMEO AND JULIET\\r\\n\\r\\n\\r\\n\\r\\nby William Shakespeare\\r\\n\\r\\n\\r\\nContents\\r\\n\\r\\nTHE PROLOGUE.\\r\\n\\r\\nACT I\\r\\nSce'"
      ]
     },
     "execution_count": 2,
     "metadata": {},
     "output_type": "execute_result"
    }
   ],
   "source": [
    "rj[:1000]"
   ]
  },
  {
   "cell_type": "code",
   "execution_count": 3,
   "id": "fdcd2a9a",
   "metadata": {},
   "outputs": [
    {
     "data": {
      "text/plain": [
       "'\\ufeffThe Project Gutenberg eBook of Romeo and Juliet, by William Shakespeare\\r\\n\\r\\nThis eBook is for the use of anyone anywhere in the United States and\\r\\nmost other parts of the world at no cost and with almost no restrictions\\r\\nwhatsoever. You may copy it, give it away or re-use it under the terms\\r\\nof the Project Gutenberg License included with this eBook or online at\\r\\nwww.gutenberg.org. If you are not located in the United States, you\\r\\nwill have to check the laws of the country where you are located before\\r\\nusing this eBook.\\r\\n\\r\\nTitle: Romeo and Juliet\\r\\n\\r\\nAuthor: William Shakespeare\\r\\n\\r\\nRelease Date: November, 1998 [eBook #1513]\\r\\n[Most recently updated: October 23, 2021]\\r\\n\\r\\nLanguage: English\\r\\n\\r\\nCharacter set encoding: UTF-8\\r\\n\\r\\nProduced by: the PG Shakespeare Team, a team of about twenty Project Gutenberg volunteers.\\r\\n\\r\\n*** START OF THE PROJECT GUTENBERG EBOOK ROMEO AND JULIET ***\\r\\n\\r\\n\\r\\n\\r\\n\\r\\nTHE TRAGEDY OF ROMEO AND JULIET\\r\\n\\r\\n\\r\\n\\r\\nby William Shakespeare\\r\\n\\r\\n\\r\\nContents\\r\\n\\r\\nTHE PROLOGUE.\\r\\n\\r\\nACT I\\r\\nSce'"
      ]
     },
     "execution_count": 3,
     "metadata": {},
     "output_type": "execute_result"
    }
   ],
   "source": [
    "import requests\n",
    "\n",
    "url_rj = 'https://www.gutenberg.org/files/1513/1513-0.txt'\n",
    "rj = requests.get(url_rj)\n",
    "rj.encoding = 'UTF-8'\n",
    "rj.text[:1000]"
   ]
  },
  {
   "cell_type": "code",
   "execution_count": 12,
   "id": "09f3683b",
   "metadata": {},
   "outputs": [
    {
     "data": {
      "text/plain": [
       "'<!DOCTYPE html><html lang=\"pl\" dir=\"ltr\"><head><style nonce=\"S3iRq0I1n3p1GJntZ/gZJg\">\\na, a:link, a:v'"
      ]
     },
     "execution_count": 12,
     "metadata": {},
     "output_type": "execute_result"
    }
   ],
   "source": [
    "import requests\n",
    "\n",
    "url_rj = 'https://www.google.com/search?q=banany'\n",
    "rj = requests.get(url_rj, headers={'User-Agent': 'Chrome'})\n",
    "\n",
    "rj.encoding = 'UTF-8'\n",
    "rj.text[:100]"
   ]
  },
  {
   "cell_type": "markdown",
   "id": "1007ba88",
   "metadata": {},
   "source": [
    "### Bag of words (klasyfkacja tekstu)"
   ]
  },
  {
   "cell_type": "code",
   "execution_count": 29,
   "id": "b2df1025",
   "metadata": {},
   "outputs": [
    {
     "data": {
      "text/plain": [
       "\"Charles Dickens\\r\\n\\r\\nOpowieść wigilijna\\r\\ntłum. nieznany\\r\\n\\r\\nISBN 978-83-288-6360-6\\r\\nOpowieść fantastyczna\\r\\n\\r\\n\\r\\n\\r\\nI. Duch Marleya\\r\\n\\r\\nZaczęło się od tego, że Marley umarł. To żadnej nie ulega wątpliwości. Protokół pogrzebu podpisali: ksiądz, urzędnik, grabarz i właściciel zakładu pogrzebowego. Scrooge także go podpisał, a nazwisko Scrooge'a miało poważny walor na giełdzie zawsze, cokolwiek by podpisał.\\r\\n\\r\\nStary Marley był więc martwy jak ćwiek we drzwiach.\\r\\n\\r\\nTu mała uwaga.\\r\\n\\r\\nNie chcę wcale przez to powiedzieć, że wiem z własnego doświadczenia, jakoby na świecie nie istniało nic bardziej martwego nad ćwiek w drzwiach. Co do mego osobistego poglądu, sądziłbym raczej, że ćwiek w trumnie jest najbardziej martwym artykułem w handlu żelaznym. Lecz mądrość naszych przodków kryje się w tym porównaniu i moje niepoświęcone ręce nie będą zmieniały tradycji narodowej, bo kraj mógłby przez to ucierpieć. Niech mi więc będzie wolno powtórzyć z naciskiem, że Marley był martwy jak ćwiek w drzwiach.\\r\\n\\r\\nCzy\""
      ]
     },
     "execution_count": 29,
     "metadata": {},
     "output_type": "execute_result"
    }
   ],
   "source": [
    "    \n",
    "import requests\n",
    "\n",
    "url_rj = 'https://wolnelektury.pl/media/book/txt/dickens-opowiesc-wigilijna.txt'\n",
    "rj = requests.get(url_rj, headers={'User-Agent': 'Chrome'})\n",
    "\n",
    "rj.encoding = 'UTF-8'\n",
    "rj.text[:1000]"
   ]
  },
  {
   "cell_type": "code",
   "execution_count": 41,
   "id": "9633fb9a",
   "metadata": {},
   "outputs": [
    {
     "name": "stdout",
     "output_type": "stream",
     "text": [
      "51 11\n",
      "['wesołych', 'sympatyczny', 'wesołych', 'wesołych', 'wesołych', 'dobrze', 'dobry', 'dobry', 'uśmiechnął', 'dobrze', 'dobrze', 'dobry', 'dobrze', 'wesołych', 'wesołe', 'dobrze', 'dobrze', 'uśmiechnął', 'wesołe', 'dobry', 'dobrze', 'szczęście', 'wesołych', 'wesołe', 'wesołe', 'dobry', 'dobry', 'wesołych', 'dobrze', 'dobrze', 'wesołe', 'wesołe', 'wesołych', 'dobry', 'dobrze', 'dobrze', 'dobrze', 'wesołych', 'dobrze', 'dobrze', 'dobrze', 'dobrze', 'dobry', 'dobrze', 'dobry', 'wesołych', 'wesołych', 'wesołych', 'wesołych', 'dobrze', 'wesołych']\n"
     ]
    }
   ],
   "source": [
    "import string\n",
    "from urllib.request import urlopen, Request \n",
    "\n",
    "url_rj = 'https://wolnelektury.pl/media/book/txt/dickens-opowiesc-wigilijna.txt'\n",
    "r = Request(url_rj)\n",
    "odp = urlopen(r)\n",
    "rj = odp.read().decode('utf-8')\n",
    "\n",
    "tekst = ''\n",
    "pozytywne = ['szczęście', 'uśmiech', 'uśmiechnął', 'dobry', 'dobrze', 'wartościowy', 'sympatyczny', 'wesołe', 'wesołych']\n",
    "negatywne = ['śmierć', 'śmierci', 'śmiercią', 'martwy', 'martwe', 'strach', 'niepokój']\n",
    "pozy = 0\n",
    "neg = 0\n",
    "pozy_slowa = []\n",
    "neg_slowa = []\n",
    "\n",
    "for linijka in rj:\n",
    "    tekst += linijka\n",
    "\n",
    "for slowo in tekst.lower().split():\n",
    "        if slowo in pozytywne:\n",
    "            pozy += 1\n",
    "            pozy_slowa.append(slowo)\n",
    "        if slowo in negatywne:\n",
    "            neg += 1\n",
    "            neg_slowa.append(slowo)\n",
    "print(pozy, neg)\n",
    "print(pozy_slowa)"
   ]
  },
  {
   "cell_type": "code",
   "execution_count": null,
   "id": "9d223254",
   "metadata": {},
   "outputs": [],
   "source": []
  }
 ],
 "metadata": {
  "kernelspec": {
   "display_name": "Python 3 (ipykernel)",
   "language": "python",
   "name": "python3"
  },
  "language_info": {
   "codemirror_mode": {
    "name": "ipython",
    "version": 3
   },
   "file_extension": ".py",
   "mimetype": "text/x-python",
   "name": "python",
   "nbconvert_exporter": "python",
   "pygments_lexer": "ipython3",
   "version": "3.9.5"
  }
 },
 "nbformat": 4,
 "nbformat_minor": 5
}
