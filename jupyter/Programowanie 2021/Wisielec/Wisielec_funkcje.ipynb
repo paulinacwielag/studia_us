{
 "cells": [
  {
   "cell_type": "code",
   "execution_count": 1,
   "id": "1c4a2485",
   "metadata": {},
   "outputs": [
    {
     "data": {
      "text/plain": [
       "TestResults(failed=0, attempted=6)"
      ]
     },
     "execution_count": 1,
     "metadata": {},
     "output_type": "execute_result"
    }
   ],
   "source": [
    "# filtruj hasła \n",
    "\n",
    "def filtruj_hasla(lista_hasel):\n",
    "    '''\n",
    "    Funkcja zwraca przefiltrowaną listę z hasłami niezawierającymi znaków specjalnych, cyfr i spacji z przodu i z tyłu hasła.\n",
    "    \n",
    "    >>> filtruj_hasla(['kot', 'pies', ' chomik', 'ju'])\n",
    "    ['kot', 'pies', 'chomik']\n",
    "    >>> filtruj_hasla(['kot', 'pi4s', 'chomi#', 'ju'])\n",
    "    ['kot']\n",
    "    >>> filtruj_hasla([13, 'kot', 'pi4s', 'chomi7', 'ju'])\n",
    "    ['kot']\n",
    "    >>> filtruj_hasla(['13', 'kot', 'pi4s', 'chomi7', 'ju'])\n",
    "    ['kot']\n",
    "    >>> filtruj_hasla(['kot '])\n",
    "    ['kot']\n",
    "    >>> filtruj_hasla([])\n",
    "    []\n",
    "    '''\n",
    "    \n",
    "    przefiltrowana_lista = []\n",
    "    \n",
    "    if len(lista_hasel) >= 1:\n",
    "        for haslo in lista_hasel:\n",
    "            if type(haslo) == str:\n",
    "                if haslo[0] == \" \" or haslo[-1] == \" \":\n",
    "                    haslo = haslo.replace(\" \", \"\")\n",
    "                if len(haslo) >= 3: \n",
    "                    haslo_male = haslo.lower()\n",
    "                    if haslo_male.isalpha():\n",
    "                        przefiltrowana_lista.append(haslo_male)\n",
    "    return przefiltrowana_lista\n",
    "\n",
    "import doctest\n",
    "doctest.testmod()"
   ]
  },
  {
   "cell_type": "code",
   "execution_count": 2,
   "id": "3df5c400",
   "metadata": {},
   "outputs": [],
   "source": [
    "def test_suite_filtruj_hasla():\n",
    "    '''\n",
    "    Funkcja testuje funkcję \"filtruj_hasla\".'''\n",
    "    \n",
    "    dane_testowe = [(['kot', 'pies', ' chomik', 'ju'], ['kot', 'pies', 'chomik']),\n",
    "                   (['kot', 'pi4s', 'chomi#', 'ju'], ['kot']),\n",
    "                   ([13, 'kot', 'pi4s', 'chomi7', 'ju'], ['kot']),\n",
    "                   (['13', 'kot', 'pi4s', 'chomi7', 'ju'], ['kot']),\n",
    "                   (['kot '], ['kot']),\n",
    "                   ([], [])]\n",
    "    \n",
    "    bledy = 0\n",
    "    for argument, spodziewany_wynik in dane_testowe:\n",
    "        if filtruj_hasla(argument) != spodziewany_wynik:\n",
    "            print(f'{argument}, wynik: {filtruj_hasla(argument)}, spodziewana: {spodziewany_wynik}')\n",
    "            bledy += 1\n",
    "                  \n",
    "    return f'Testy: {len(dane_testowe)}, błędy: {bledy}'"
   ]
  },
  {
   "cell_type": "code",
   "execution_count": 3,
   "id": "180ab35c",
   "metadata": {},
   "outputs": [
    {
     "data": {
      "text/plain": [
       "'Testy: 6, błędy: 0'"
      ]
     },
     "execution_count": 3,
     "metadata": {},
     "output_type": "execute_result"
    }
   ],
   "source": [
    "test_suite_filtruj_hasla()"
   ]
  },
  {
   "cell_type": "code",
   "execution_count": 4,
   "id": "2fd4e526",
   "metadata": {},
   "outputs": [
    {
     "data": {
      "text/plain": [
       "TestResults(failed=0, attempted=8)"
      ]
     },
     "execution_count": 4,
     "metadata": {},
     "output_type": "execute_result"
    }
   ],
   "source": [
    "# lista haseł\n",
    "\n",
    "plik_testowy = 'plik_testowy.txt'\n",
    "plik_testowy_pusty = 'plik_testowy_pusty.txt'\n",
    "\n",
    "def odczytaj_hasla_z_pliku(nazwa_pliku):\n",
    "    '''\n",
    "    Funkcja zwraca przefiltrowane hasła pobrane z pliku tekstowego.\n",
    "    \n",
    "    >>> odczytaj_hasla_z_pliku('plik_testowy.txt')\n",
    "    ['kot', 'pies', 'kasztany']\n",
    "    >>> odczytaj_hasla_z_pliku('pusty_testowy.txt')\n",
    "    []\n",
    "    '''\n",
    "    \n",
    "    hasla = []\n",
    "    \n",
    "    with open(nazwa_pliku, mode='r') as plik:\n",
    "        for linijka in plik:\n",
    "            hasla += [linijka.replace('\\n', '')]\n",
    "        \n",
    "    lista_hasel = filtruj_hasla(hasla)\n",
    "    \n",
    "    return lista_hasel\n",
    "\n",
    "import doctest\n",
    "doctest.testmod()"
   ]
  },
  {
   "cell_type": "code",
   "execution_count": null,
   "id": "b3534d2b",
   "metadata": {},
   "outputs": [],
   "source": []
  },
  {
   "cell_type": "code",
   "execution_count": null,
   "id": "79f87dab",
   "metadata": {},
   "outputs": [],
   "source": []
  }
 ],
 "metadata": {
  "kernelspec": {
   "display_name": "Python 3 (ipykernel)",
   "language": "python",
   "name": "python3"
  },
  "language_info": {
   "codemirror_mode": {
    "name": "ipython",
    "version": 3
   },
   "file_extension": ".py",
   "mimetype": "text/x-python",
   "name": "python",
   "nbconvert_exporter": "python",
   "pygments_lexer": "ipython3",
   "version": "3.9.5"
  }
 },
 "nbformat": 4,
 "nbformat_minor": 5
}
