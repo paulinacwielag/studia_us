{
 "cells": [
  {
   "cell_type": "code",
   "execution_count": 31,
   "id": "1c4a2485",
   "metadata": {},
   "outputs": [
    {
     "data": {
      "text/plain": [
       "TestResults(failed=0, attempted=6)"
      ]
     },
     "execution_count": 31,
     "metadata": {},
     "output_type": "execute_result"
    }
   ],
   "source": [
    "# filtruj hasła \n",
    "\n",
    "def filtruj_hasla(lista_hasel):\n",
    "    '''\n",
    "    Funkcja zwraca przefiltrowaną listę z hasłami niezawierającymi znaków specjalnych, cyfr i spacji z przodu i z tyłu hasła.\n",
    "    \n",
    "    >>> filtruj_hasla(['kot', 'pies', 'chomik', 'ju'])\n",
    "    ['kot', 'pies', 'chomik']\n",
    "    >>> filtruj_hasla(['kot', 'pi4s', 'chomi#', 'ju'])\n",
    "    ['kot']\n",
    "    >>> filtruj_hasla([13, 'kot', 'pi4s', 'chomi7', 'ju'])\n",
    "    ['kot']\n",
    "    >>> filtruj_hasla(['13', 'kot', 'pi4s', 'chomi7', 'ju'])\n",
    "    ['kot']\n",
    "    >>> filtruj_hasla(['kot'])\n",
    "    ['kot']\n",
    "    >>> filtruj_hasla([])\n",
    "    []\n",
    "    '''\n",
    "    \n",
    "    przefiltrowana_lista = []\n",
    "    \n",
    "    if len(lista_hasel) >= 1:\n",
    "        for haslo in lista_hasel:\n",
    "            if type(haslo) == str:\n",
    "                if haslo[0] == \" \" or haslo[-1] == \" \":\n",
    "                    haslo = haslo.replace(\" \", \"\")\n",
    "                if len(haslo) >= 3: \n",
    "                    haslo_male = haslo.lower()\n",
    "                    if haslo_male.isalpha():\n",
    "                        przefiltrowana_lista.append(haslo_male)\n",
    "    return przefiltrowana_lista\n",
    "\n",
    "import doctest\n",
    "doctest.testmod()"
   ]
  },
  {
   "cell_type": "code",
   "execution_count": 34,
   "id": "2fd4e526",
   "metadata": {},
   "outputs": [],
   "source": [
    "# lista haseł\n",
    "\n",
    "def odczytaj_hasla_z_pliku(nazwa_pliku):\n",
    "    \n",
    "    hasla = []\n",
    "    \n",
    "    with open(nazwa_pliku, mode='r') as plik:\n",
    "        for linijka in plik:\n",
    "            hasla += [linijka.replace('\\n', '')]\n",
    "        \n",
    "    lista_hasel = filtruj_hasla(hasla)\n",
    "    \n",
    "    return lista_hasel"
   ]
  },
  {
   "cell_type": "code",
   "execution_count": 35,
   "id": "617c2127",
   "metadata": {},
   "outputs": [
    {
     "data": {
      "text/plain": [
       "['kot', 'pies', 'kasztany']"
      ]
     },
     "execution_count": 35,
     "metadata": {},
     "output_type": "execute_result"
    }
   ],
   "source": [
    "odczytaj_hasla_z_pliku('haslaa.txt')"
   ]
  },
  {
   "cell_type": "code",
   "execution_count": null,
   "id": "b3534d2b",
   "metadata": {},
   "outputs": [],
   "source": []
  },
  {
   "cell_type": "code",
   "execution_count": null,
   "id": "95ccbd86",
   "metadata": {},
   "outputs": [],
   "source": []
  }
 ],
 "metadata": {
  "kernelspec": {
   "display_name": "Python 3 (ipykernel)",
   "language": "python",
   "name": "python3"
  },
  "language_info": {
   "codemirror_mode": {
    "name": "ipython",
    "version": 3
   },
   "file_extension": ".py",
   "mimetype": "text/x-python",
   "name": "python",
   "nbconvert_exporter": "python",
   "pygments_lexer": "ipython3",
   "version": "3.9.5"
  }
 },
 "nbformat": 4,
 "nbformat_minor": 5
}
