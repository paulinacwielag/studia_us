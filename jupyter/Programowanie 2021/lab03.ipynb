{
 "cells": [
  {
   "cell_type": "code",
   "execution_count": 1,
   "id": "ec2064fa",
   "metadata": {},
   "outputs": [],
   "source": [
    "napis = 'Python'"
   ]
  },
  {
   "cell_type": "code",
   "execution_count": 2,
   "id": "a2e93239",
   "metadata": {},
   "outputs": [
    {
     "data": {
      "text/plain": [
       "'P'"
      ]
     },
     "execution_count": 2,
     "metadata": {},
     "output_type": "execute_result"
    }
   ],
   "source": [
    "napis[0]"
   ]
  },
  {
   "cell_type": "code",
   "execution_count": 3,
   "id": "c6a2f797",
   "metadata": {},
   "outputs": [
    {
     "data": {
      "text/plain": [
       "'n'"
      ]
     },
     "execution_count": 3,
     "metadata": {},
     "output_type": "execute_result"
    }
   ],
   "source": [
    "napis[-1]"
   ]
  },
  {
   "cell_type": "markdown",
   "id": "e3dfb70f",
   "metadata": {},
   "source": [
    "seq[start:stop] - wytnij od do, do stop, bez stop"
   ]
  },
  {
   "cell_type": "markdown",
   "id": "a4669ce6",
   "metadata": {},
   "source": [
    "seq[start:stop:krok]"
   ]
  },
  {
   "cell_type": "markdown",
   "id": "824f885d",
   "metadata": {},
   "source": [
    "seq[0:-1:1] - domyślne wartości"
   ]
  },
  {
   "cell_type": "code",
   "execution_count": 22,
   "id": "d5886824",
   "metadata": {},
   "outputs": [],
   "source": [
    "n = 'Ala ma kota i psa.'"
   ]
  },
  {
   "cell_type": "code",
   "execution_count": 23,
   "id": "f66f9758",
   "metadata": {},
   "outputs": [
    {
     "data": {
      "text/plain": [
       "'a ma k'"
      ]
     },
     "execution_count": 23,
     "metadata": {},
     "output_type": "execute_result"
    }
   ],
   "source": [
    "n[2:8]"
   ]
  },
  {
   "cell_type": "code",
   "execution_count": 24,
   "id": "1d0ad044",
   "metadata": {},
   "outputs": [
    {
     "data": {
      "text/plain": [
       "'a'"
      ]
     },
     "execution_count": 24,
     "metadata": {},
     "output_type": "execute_result"
    }
   ],
   "source": [
    "n[2]"
   ]
  },
  {
   "cell_type": "code",
   "execution_count": 25,
   "id": "d9289f3c",
   "metadata": {},
   "outputs": [
    {
     "data": {
      "text/plain": [
       "'am '"
      ]
     },
     "execution_count": 25,
     "metadata": {},
     "output_type": "execute_result"
    }
   ],
   "source": [
    "n[2:8:2]"
   ]
  },
  {
   "cell_type": "code",
   "execution_count": 26,
   "id": "d10e898d",
   "metadata": {},
   "outputs": [
    {
     "data": {
      "text/plain": [
       "'ok am '"
      ]
     },
     "execution_count": 26,
     "metadata": {},
     "output_type": "execute_result"
    }
   ],
   "source": [
    "n[8:2:-1]"
   ]
  },
  {
   "cell_type": "code",
   "execution_count": 27,
   "id": "9722099d",
   "metadata": {},
   "outputs": [
    {
     "data": {
      "text/plain": [
       "'o m'"
      ]
     },
     "execution_count": 27,
     "metadata": {},
     "output_type": "execute_result"
    }
   ],
   "source": [
    "n[8:2:-2]"
   ]
  },
  {
   "cell_type": "code",
   "execution_count": 28,
   "id": "ee80968f",
   "metadata": {},
   "outputs": [
    {
     "data": {
      "text/plain": [
       "'Aam '"
      ]
     },
     "execution_count": 28,
     "metadata": {},
     "output_type": "execute_result"
    }
   ],
   "source": [
    "n[:8:2]"
   ]
  },
  {
   "cell_type": "code",
   "execution_count": 29,
   "id": "42181315",
   "metadata": {},
   "outputs": [
    {
     "data": {
      "text/plain": [
       "'aao p.'"
      ]
     },
     "execution_count": 29,
     "metadata": {},
     "output_type": "execute_result"
    }
   ],
   "source": [
    "n[2::3]"
   ]
  },
  {
   "cell_type": "code",
   "execution_count": 30,
   "id": "d18cf4aa",
   "metadata": {},
   "outputs": [
    {
     "data": {
      "text/plain": [
       "'A  tis'"
      ]
     },
     "execution_count": 30,
     "metadata": {},
     "output_type": "execute_result"
    }
   ],
   "source": [
    "n[::3]"
   ]
  },
  {
   "cell_type": "code",
   "execution_count": 31,
   "id": "fab33022",
   "metadata": {},
   "outputs": [
    {
     "data": {
      "text/plain": [
       "'.p oaa'"
      ]
     },
     "execution_count": 31,
     "metadata": {},
     "output_type": "execute_result"
    }
   ],
   "source": [
    "n[::-3]"
   ]
  },
  {
   "cell_type": "code",
   "execution_count": 32,
   "id": "99182e87",
   "metadata": {},
   "outputs": [
    {
     "data": {
      "text/plain": [
       "'Ala ma kota i psa.'"
      ]
     },
     "execution_count": 32,
     "metadata": {},
     "output_type": "execute_result"
    }
   ],
   "source": [
    "n[::]"
   ]
  },
  {
   "cell_type": "code",
   "execution_count": 33,
   "id": "37669307",
   "metadata": {},
   "outputs": [
    {
     "data": {
      "text/plain": [
       "'Ala ma kota i psa.'"
      ]
     },
     "execution_count": 33,
     "metadata": {},
     "output_type": "execute_result"
    }
   ],
   "source": [
    "n[:]"
   ]
  },
  {
   "cell_type": "code",
   "execution_count": 34,
   "id": "ecc9a5a3",
   "metadata": {},
   "outputs": [
    {
     "data": {
      "text/plain": [
       "'.asp i atok am alA'"
      ]
     },
     "execution_count": 34,
     "metadata": {},
     "output_type": "execute_result"
    }
   ],
   "source": [
    "n[::-1]"
   ]
  },
  {
   "cell_type": "markdown",
   "id": "feb75893",
   "metadata": {},
   "source": [
    "## metody klasy string"
   ]
  },
  {
   "cell_type": "markdown",
   "id": "c8b58c4e",
   "metadata": {},
   "source": [
    "n. ... () - manipulacja i kopia, nie zmienia się oryginał, bo klasa str jest niemodyfikowalna"
   ]
  },
  {
   "cell_type": "code",
   "execution_count": 42,
   "id": "07d99a71",
   "metadata": {},
   "outputs": [],
   "source": [
    "n = 'Ala ma kota. Ma tez psa Banana.'"
   ]
  },
  {
   "cell_type": "code",
   "execution_count": 43,
   "id": "225643a3",
   "metadata": {},
   "outputs": [
    {
     "data": {
      "text/plain": [
       "'ala ma kota. ma tez psa banana.'"
      ]
     },
     "execution_count": 43,
     "metadata": {},
     "output_type": "execute_result"
    }
   ],
   "source": [
    "n.lower()"
   ]
  },
  {
   "cell_type": "code",
   "execution_count": 44,
   "id": "5a4edaa8",
   "metadata": {},
   "outputs": [
    {
     "data": {
      "text/plain": [
       "'ala ma kota. ma tez psa banana.'"
      ]
     },
     "execution_count": 44,
     "metadata": {},
     "output_type": "execute_result"
    }
   ],
   "source": [
    "n.casefold()"
   ]
  },
  {
   "cell_type": "code",
   "execution_count": 45,
   "id": "3012141c",
   "metadata": {},
   "outputs": [
    {
     "data": {
      "text/plain": [
       "'Ala Ma Kota. Ma Tez Psa Banana.'"
      ]
     },
     "execution_count": 45,
     "metadata": {},
     "output_type": "execute_result"
    }
   ],
   "source": [
    "n.title()"
   ]
  },
  {
   "cell_type": "code",
   "execution_count": 46,
   "id": "b8ef525f",
   "metadata": {},
   "outputs": [
    {
     "data": {
      "text/plain": [
       "'Ala ma kota. ma tez psa banana.'"
      ]
     },
     "execution_count": 46,
     "metadata": {},
     "output_type": "execute_result"
    }
   ],
   "source": [
    "n.capitalize()"
   ]
  },
  {
   "cell_type": "code",
   "execution_count": 47,
   "id": "94f33fed",
   "metadata": {},
   "outputs": [
    {
     "data": {
      "text/plain": [
       "'aLA MA KOTA. mA TEZ PSA bANANA.'"
      ]
     },
     "execution_count": 47,
     "metadata": {},
     "output_type": "execute_result"
    }
   ],
   "source": [
    "n.swapcase()"
   ]
  },
  {
   "cell_type": "code",
   "execution_count": 48,
   "id": "c158cda2",
   "metadata": {},
   "outputs": [
    {
     "data": {
      "text/plain": [
       "'            Ala ma kota. Ma tez psa Banana.            '"
      ]
     },
     "execution_count": 48,
     "metadata": {},
     "output_type": "execute_result"
    }
   ],
   "source": [
    "n.center(55)"
   ]
  },
  {
   "cell_type": "code",
   "execution_count": 49,
   "id": "5b938944",
   "metadata": {},
   "outputs": [
    {
     "data": {
      "text/plain": [
       "'            Ala ma kota. Ma tez psa Banana.            '"
      ]
     },
     "execution_count": 49,
     "metadata": {},
     "output_type": "execute_result"
    }
   ],
   "source": [
    "'{:^55}'.format(n)"
   ]
  },
  {
   "cell_type": "code",
   "execution_count": 50,
   "id": "f6ef586d",
   "metadata": {},
   "outputs": [
    {
     "data": {
      "text/plain": [
       "'Ala ma kota. Ma tez psa Banana.                        '"
      ]
     },
     "execution_count": 50,
     "metadata": {},
     "output_type": "execute_result"
    }
   ],
   "source": [
    "n.ljust(55)"
   ]
  },
  {
   "cell_type": "code",
   "execution_count": 52,
   "id": "81178242",
   "metadata": {},
   "outputs": [
    {
     "data": {
      "text/plain": [
       "'                        Ala ma kota. Ma tez psa Banana.'"
      ]
     },
     "execution_count": 52,
     "metadata": {},
     "output_type": "execute_result"
    }
   ],
   "source": [
    "n.rjust(55)"
   ]
  },
  {
   "cell_type": "code",
   "execution_count": 54,
   "id": "85050204",
   "metadata": {},
   "outputs": [
    {
     "data": {
      "text/plain": [
       "'000000000000000000000000Ala ma kota. Ma tez psa Banana.'"
      ]
     },
     "execution_count": 54,
     "metadata": {},
     "output_type": "execute_result"
    }
   ],
   "source": [
    "n.zfill(55) # wypełnianie zerami"
   ]
  },
  {
   "cell_type": "markdown",
   "id": "e9065fba",
   "metadata": {},
   "source": [
    "zadanie."
   ]
  },
  {
   "cell_type": "code",
   "execution_count": 91,
   "id": "1f6e4b2b",
   "metadata": {
    "scrolled": true
   },
   "outputs": [
    {
     "name": "stdout",
     "output_type": "stream",
     "text": [
      "*         \n",
      "***       \n",
      "*****     \n",
      "*******   \n",
      "********* \n"
     ]
    }
   ],
   "source": [
    "N = 5\n",
    "i = 1\n",
    "    \n",
    "while i <= N * 2:\n",
    "    linia = '*' * i\n",
    "    i += 2\n",
    "    print(linia.ljust(N*2))"
   ]
  },
  {
   "cell_type": "code",
   "execution_count": 86,
   "id": "50dbaf43",
   "metadata": {},
   "outputs": [
    {
     "name": "stdout",
     "output_type": "stream",
     "text": [
      "    *     \n",
      "   ***    \n",
      "  *****   \n",
      " *******  \n",
      "********* \n"
     ]
    }
   ],
   "source": [
    "N = 5\n",
    "i = 1\n",
    "\n",
    "while i <= N * 2:\n",
    "    linia = '*' * i\n",
    "    i += 2\n",
    "    print(linia.center(N*2))"
   ]
  },
  {
   "cell_type": "code",
   "execution_count": 97,
   "id": "ef09e250",
   "metadata": {},
   "outputs": [
    {
     "name": "stdout",
     "output_type": "stream",
     "text": [
      "         *\n",
      "       ***\n",
      "     *****\n",
      "   *******\n",
      " *********\n"
     ]
    }
   ],
   "source": [
    "N = 5\n",
    "i = 1\n",
    "\n",
    "while i <= N * 2:\n",
    "    linia = '*' * i\n",
    "    i += 2\n",
    "    print(linia.rjust(N*2))"
   ]
  },
  {
   "cell_type": "code",
   "execution_count": 99,
   "id": "8337b3b8",
   "metadata": {},
   "outputs": [
    {
     "name": "stdout",
     "output_type": "stream",
     "text": [
      "Ala ma kota                      \n"
     ]
    }
   ],
   "source": [
    "N = 5\n",
    "just = 'lewo'\n",
    "\n",
    "if just == 'lewo':\n",
    "    print('Ala ma kota'.ljust(33))\n",
    "elif just == 'prawo':\n",
    "    print('Ala ma kota'.rjust(33))\n",
    "elif just == 'srodek':\n",
    "    print('Ala ma kota'.center(33))"
   ]
  },
  {
   "cell_type": "code",
   "execution_count": 111,
   "id": "08ae17e8",
   "metadata": {},
   "outputs": [
    {
     "name": "stdout",
     "output_type": "stream",
     "text": [
      "         *\n",
      "       ***\n",
      "     *****\n",
      "   *******\n",
      " *********\n"
     ]
    }
   ],
   "source": [
    "N = 5\n",
    "just = 'prawo'\n",
    "\n",
    "if just == 'lewo':\n",
    "    for i in range(1, N * 2, 2):\n",
    "        print(('*' * i).ljust(N *2))\n",
    "elif just == 'prawo':\n",
    "    for i in range(1, N * 2, 2):\n",
    "        print(('*' * i).rjust(N *2))\n",
    "elif just == 'srodek':\n",
    "    for i in range(1, N * 2, 2):\n",
    "        print(('*' * i).center(N *2))"
   ]
  },
  {
   "cell_type": "code",
   "execution_count": 9,
   "id": "216e2ee0",
   "metadata": {},
   "outputs": [
    {
     "name": "stdout",
     "output_type": "stream",
     "text": [
      "*                   *     *     \n",
      "***               ***    ***    \n",
      "*****           *****   *****   \n",
      "*******       *******  *******  \n",
      "*********   ********* ********* \n"
     ]
    }
   ],
   "source": [
    "N = 5\n",
    "just = 'prawo'\n",
    "\n",
    "for i in range(1, N * 2, 2):\n",
    "    print(('*' * i).ljust(N *2), ('*' * i).rjust(N *2), ('*' * i).center(N *2))"
   ]
  },
  {
   "cell_type": "code",
   "execution_count": 3,
   "id": "88db3523",
   "metadata": {},
   "outputs": [
    {
     "ename": "NameError",
     "evalue": "name 'n' is not defined",
     "output_type": "error",
     "traceback": [
      "\u001b[0;31m---------------------------------------------------------------------------\u001b[0m",
      "\u001b[0;31mNameError\u001b[0m                                 Traceback (most recent call last)",
      "\u001b[0;32m/tmp/ipykernel_2961635/1249512285.py\u001b[0m in \u001b[0;36m<module>\u001b[0;34m\u001b[0m\n\u001b[0;32m----> 1\u001b[0;31m \u001b[0mn\u001b[0m\u001b[0;34m\u001b[0m\u001b[0;34m\u001b[0m\u001b[0m\n\u001b[0m",
      "\u001b[0;31mNameError\u001b[0m: name 'n' is not defined"
     ]
    }
   ],
   "source": [
    "n"
   ]
  },
  {
   "cell_type": "code",
   "execution_count": 119,
   "id": "750db40f",
   "metadata": {},
   "outputs": [
    {
     "data": {
      "text/plain": [
       "'ALA MA KOTA. MA TEZ PSA BANANA.'"
      ]
     },
     "execution_count": 119,
     "metadata": {},
     "output_type": "execute_result"
    }
   ],
   "source": [
    "n.upper()"
   ]
  },
  {
   "cell_type": "code",
   "execution_count": 114,
   "id": "da36caac",
   "metadata": {},
   "outputs": [
    {
     "data": {
      "text/plain": [
       "False"
      ]
     },
     "execution_count": 114,
     "metadata": {},
     "output_type": "execute_result"
    }
   ],
   "source": [
    "n.isupper()"
   ]
  },
  {
   "cell_type": "code",
   "execution_count": 115,
   "id": "ef06c4f6",
   "metadata": {},
   "outputs": [
    {
     "data": {
      "text/plain": [
       "True"
      ]
     },
     "execution_count": 115,
     "metadata": {},
     "output_type": "execute_result"
    }
   ],
   "source": [
    "'PYTHON'.isupper()"
   ]
  },
  {
   "cell_type": "code",
   "execution_count": 116,
   "id": "ef3d5e01",
   "metadata": {},
   "outputs": [
    {
     "data": {
      "text/plain": [
       "True"
      ]
     },
     "execution_count": 116,
     "metadata": {},
     "output_type": "execute_result"
    }
   ],
   "source": [
    "n.upper().isupper()"
   ]
  },
  {
   "cell_type": "code",
   "execution_count": 120,
   "id": "b47fe834",
   "metadata": {},
   "outputs": [
    {
     "data": {
      "text/plain": [
       "False"
      ]
     },
     "execution_count": 120,
     "metadata": {},
     "output_type": "execute_result"
    }
   ],
   "source": [
    "n.islower()"
   ]
  },
  {
   "cell_type": "code",
   "execution_count": 121,
   "id": "94735c72",
   "metadata": {},
   "outputs": [
    {
     "data": {
      "text/plain": [
       "False"
      ]
     },
     "execution_count": 121,
     "metadata": {},
     "output_type": "execute_result"
    }
   ],
   "source": [
    "n.istitle()"
   ]
  },
  {
   "cell_type": "code",
   "execution_count": 122,
   "id": "6feda5d4",
   "metadata": {},
   "outputs": [
    {
     "data": {
      "text/plain": [
       "True"
      ]
     },
     "execution_count": 122,
     "metadata": {},
     "output_type": "execute_result"
    }
   ],
   "source": [
    "'Ala Ma Kota'.istitle()"
   ]
  },
  {
   "cell_type": "code",
   "execution_count": 123,
   "id": "2c297463",
   "metadata": {},
   "outputs": [
    {
     "data": {
      "text/plain": [
       "True"
      ]
     },
     "execution_count": 123,
     "metadata": {},
     "output_type": "execute_result"
    }
   ],
   "source": [
    "'1'.isnumeric()"
   ]
  },
  {
   "cell_type": "code",
   "execution_count": 125,
   "id": "8827ab72",
   "metadata": {},
   "outputs": [
    {
     "data": {
      "text/plain": [
       "False"
      ]
     },
     "execution_count": 125,
     "metadata": {},
     "output_type": "execute_result"
    }
   ],
   "source": [
    "'3.1415'.isnumeric() # przez kropke"
   ]
  },
  {
   "cell_type": "code",
   "execution_count": 127,
   "id": "419593e7",
   "metadata": {},
   "outputs": [
    {
     "data": {
      "text/plain": [
       "False"
      ]
     },
     "execution_count": 127,
     "metadata": {},
     "output_type": "execute_result"
    }
   ],
   "source": [
    "'1 2 3'.isnumeric() # przez spacje"
   ]
  },
  {
   "cell_type": "code",
   "execution_count": 129,
   "id": "1114b2ce",
   "metadata": {},
   "outputs": [
    {
     "data": {
      "text/plain": [
       "False"
      ]
     },
     "execution_count": 129,
     "metadata": {},
     "output_type": "execute_result"
    }
   ],
   "source": [
    "'1 2 3'.isdigit() # przez spacje"
   ]
  },
  {
   "cell_type": "code",
   "execution_count": 133,
   "id": "8d2eeafa",
   "metadata": {},
   "outputs": [
    {
     "data": {
      "text/plain": [
       "(True, True, True)"
      ]
     },
     "execution_count": 133,
     "metadata": {},
     "output_type": "execute_result"
    }
   ],
   "source": [
    "' '.isspace(), '\\t'.isspace(), '\\n'.isspace() # czy coś jest białym znakiem"
   ]
  },
  {
   "cell_type": "code",
   "execution_count": 134,
   "id": "4b2da245",
   "metadata": {},
   "outputs": [
    {
     "data": {
      "text/plain": [
       "True"
      ]
     },
     "execution_count": 134,
     "metadata": {},
     "output_type": "execute_result"
    }
   ],
   "source": [
    "'Ala'.isalpha()"
   ]
  },
  {
   "cell_type": "code",
   "execution_count": 135,
   "id": "e248c3e5",
   "metadata": {},
   "outputs": [
    {
     "data": {
      "text/plain": [
       "True"
      ]
     },
     "execution_count": 135,
     "metadata": {},
     "output_type": "execute_result"
    }
   ],
   "source": [
    "'Ała'.isalpha() # UTF8"
   ]
  },
  {
   "cell_type": "code",
   "execution_count": 136,
   "id": "c5dc900c",
   "metadata": {},
   "outputs": [
    {
     "data": {
      "text/plain": [
       "False"
      ]
     },
     "execution_count": 136,
     "metadata": {},
     "output_type": "execute_result"
    }
   ],
   "source": [
    "'1'.isalpha()"
   ]
  },
  {
   "cell_type": "code",
   "execution_count": 137,
   "id": "528baa9e",
   "metadata": {},
   "outputs": [
    {
     "data": {
      "text/plain": [
       "True"
      ]
     },
     "execution_count": 137,
     "metadata": {},
     "output_type": "execute_result"
    }
   ],
   "source": [
    "'1Ala'.isalnum()"
   ]
  },
  {
   "cell_type": "code",
   "execution_count": 139,
   "id": "a92e9151",
   "metadata": {},
   "outputs": [
    {
     "data": {
      "text/plain": [
       "True"
      ]
     },
     "execution_count": 139,
     "metadata": {},
     "output_type": "execute_result"
    }
   ],
   "source": [
    "'-' in '?!.,;-'"
   ]
  },
  {
   "cell_type": "code",
   "execution_count": 144,
   "id": "b8a08539",
   "metadata": {},
   "outputs": [
    {
     "data": {
      "text/plain": [
       "13"
      ]
     },
     "execution_count": 144,
     "metadata": {},
     "output_type": "execute_result"
    }
   ],
   "source": [
    "'aaaaaaaaaacccccdddaadddadA'.count('a')"
   ]
  },
  {
   "cell_type": "code",
   "execution_count": 145,
   "id": "42a1db4c",
   "metadata": {},
   "outputs": [
    {
     "data": {
      "text/plain": [
       "25"
      ]
     },
     "execution_count": 145,
     "metadata": {},
     "output_type": "execute_result"
    }
   ],
   "source": [
    "'aaaaaaaaaacccccdddaadddadA'.index('A') # położenie pierwszego wystąpienia w ciągu znaków"
   ]
  },
  {
   "cell_type": "code",
   "execution_count": 146,
   "id": "d4eebd08",
   "metadata": {},
   "outputs": [
    {
     "data": {
      "text/plain": [
       "'8888888888cccccddd88ddd8dA'"
      ]
     },
     "execution_count": 146,
     "metadata": {},
     "output_type": "execute_result"
    }
   ],
   "source": [
    "'aaaaaaaaaacccccdddaadddadA'.replace('a', '8')"
   ]
  },
  {
   "cell_type": "code",
   "execution_count": 149,
   "id": "b95c3349",
   "metadata": {},
   "outputs": [
    {
     "data": {
      "text/plain": [
       "'r***3***K'"
      ]
     },
     "execution_count": 149,
     "metadata": {},
     "output_type": "execute_result"
    }
   ],
   "source": [
    "'***'.join(['r', '3', 'K'])"
   ]
  },
  {
   "cell_type": "code",
   "execution_count": 150,
   "id": "ac7fd0cc",
   "metadata": {},
   "outputs": [],
   "source": [
    "# ćwiczenia!!!"
   ]
  },
  {
   "cell_type": "code",
   "execution_count": null,
   "id": "533f6993",
   "metadata": {},
   "outputs": [],
   "source": []
  }
 ],
 "metadata": {
  "kernelspec": {
   "display_name": "Python 3 (ipykernel)",
   "language": "python",
   "name": "python3"
  },
  "language_info": {
   "codemirror_mode": {
    "name": "ipython",
    "version": 3
   },
   "file_extension": ".py",
   "mimetype": "text/x-python",
   "name": "python",
   "nbconvert_exporter": "python",
   "pygments_lexer": "ipython3",
   "version": "3.9.5"
  }
 },
 "nbformat": 4,
 "nbformat_minor": 5
}
