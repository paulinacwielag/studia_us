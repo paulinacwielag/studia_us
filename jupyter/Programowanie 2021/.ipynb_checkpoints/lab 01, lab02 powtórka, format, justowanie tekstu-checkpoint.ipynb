{
 "cells": [
  {
   "cell_type": "code",
   "execution_count": null,
   "id": "a271bf49",
   "metadata": {},
   "outputs": [],
   "source": [
    "# str (typ str)"
   ]
  },
  {
   "cell_type": "code",
   "execution_count": 1,
   "id": "3fad87d5",
   "metadata": {},
   "outputs": [
    {
     "data": {
      "text/plain": [
       "'Ala ma kota'"
      ]
     },
     "execution_count": 1,
     "metadata": {},
     "output_type": "execute_result"
    }
   ],
   "source": [
    "s1 = \"Ala ma kota\"\n",
    "s1"
   ]
  },
  {
   "cell_type": "code",
   "execution_count": 2,
   "id": "cb009a9a",
   "metadata": {},
   "outputs": [
    {
     "data": {
      "text/plain": [
       "'Ala ma kota'"
      ]
     },
     "execution_count": 2,
     "metadata": {},
     "output_type": "execute_result"
    }
   ],
   "source": [
    "s2 = 'Ala ma kota'\n",
    "s2"
   ]
  },
  {
   "cell_type": "code",
   "execution_count": 3,
   "id": "e647c2d4",
   "metadata": {},
   "outputs": [
    {
     "data": {
      "text/plain": [
       "'Ala ma kota'"
      ]
     },
     "execution_count": 3,
     "metadata": {},
     "output_type": "execute_result"
    }
   ],
   "source": [
    "s3 = '''Ala ma kota'''\n",
    "s3"
   ]
  },
  {
   "cell_type": "code",
   "execution_count": 6,
   "id": "b807f0b2",
   "metadata": {},
   "outputs": [
    {
     "data": {
      "text/plain": [
       "'Ala \\nma \\nkota'"
      ]
     },
     "execution_count": 6,
     "metadata": {},
     "output_type": "execute_result"
    }
   ],
   "source": [
    "s4 = \"\"\"Ala \n",
    "ma \n",
    "kota\"\"\" # można je łamać\n",
    "s4"
   ]
  },
  {
   "cell_type": "code",
   "execution_count": null,
   "id": "d85f729a",
   "metadata": {},
   "outputs": [],
   "source": [
    "# \\n - przejście do nowej linijki"
   ]
  },
  {
   "cell_type": "code",
   "execution_count": null,
   "id": "ebe9dd8f",
   "metadata": {},
   "outputs": [],
   "source": [
    "# konkatenacja"
   ]
  },
  {
   "cell_type": "code",
   "execution_count": 8,
   "id": "f9479c79",
   "metadata": {},
   "outputs": [
    {
     "data": {
      "text/plain": [
       "'Ala ma kotaAla ma kota'"
      ]
     },
     "execution_count": 8,
     "metadata": {},
     "output_type": "execute_result"
    }
   ],
   "source": [
    "s2 + s1"
   ]
  },
  {
   "cell_type": "code",
   "execution_count": 9,
   "id": "84174898",
   "metadata": {},
   "outputs": [
    {
     "data": {
      "text/plain": [
       "True"
      ]
     },
     "execution_count": 9,
     "metadata": {},
     "output_type": "execute_result"
    }
   ],
   "source": [
    "s1 == s2"
   ]
  },
  {
   "cell_type": "code",
   "execution_count": 10,
   "id": "84bccef4",
   "metadata": {},
   "outputs": [
    {
     "data": {
      "text/plain": [
       "False"
      ]
     },
     "execution_count": 10,
     "metadata": {},
     "output_type": "execute_result"
    }
   ],
   "source": [
    "\"ala\" == \"kasia\""
   ]
  },
  {
   "cell_type": "code",
   "execution_count": 11,
   "id": "5d9e5fc8",
   "metadata": {},
   "outputs": [
    {
     "data": {
      "text/plain": [
       "True"
      ]
     },
     "execution_count": 11,
     "metadata": {},
     "output_type": "execute_result"
    }
   ],
   "source": [
    "\"ala\" != \"kasia\""
   ]
  },
  {
   "cell_type": "code",
   "execution_count": null,
   "id": "7ebc215a",
   "metadata": {},
   "outputs": [],
   "source": [
    "# slicing"
   ]
  },
  {
   "cell_type": "code",
   "execution_count": 13,
   "id": "ebd073c4",
   "metadata": {},
   "outputs": [
    {
     "data": {
      "text/plain": [
       "'a'"
      ]
     },
     "execution_count": 13,
     "metadata": {},
     "output_type": "execute_result"
    }
   ],
   "source": [
    "'Ala ma kota'[5]"
   ]
  },
  {
   "cell_type": "code",
   "execution_count": 14,
   "id": "711b5d5e",
   "metadata": {},
   "outputs": [
    {
     "data": {
      "text/plain": [
       "'Ala ma'"
      ]
     },
     "execution_count": 14,
     "metadata": {},
     "output_type": "execute_result"
    }
   ],
   "source": [
    "'Ala ma kota'[0:6]"
   ]
  },
  {
   "cell_type": "code",
   "execution_count": 16,
   "id": "f1f7ca4d",
   "metadata": {},
   "outputs": [
    {
     "data": {
      "text/plain": [
       "'am'"
      ]
     },
     "execution_count": 16,
     "metadata": {},
     "output_type": "execute_result"
    }
   ],
   "source": [
    "'Ala ma kota'[2:5:2] # co drugi element, od do"
   ]
  },
  {
   "cell_type": "code",
   "execution_count": 18,
   "id": "e6c3a07e",
   "metadata": {},
   "outputs": [
    {
     "data": {
      "text/plain": [
       "'k'"
      ]
     },
     "execution_count": 18,
     "metadata": {},
     "output_type": "execute_result"
    }
   ],
   "source": [
    "'Ala ma kota'[-4] # od końca"
   ]
  },
  {
   "cell_type": "code",
   "execution_count": 19,
   "id": "e2ee4366",
   "metadata": {},
   "outputs": [
    {
     "data": {
      "text/plain": [
       "'atok am alA'"
      ]
     },
     "execution_count": 19,
     "metadata": {},
     "output_type": "execute_result"
    }
   ],
   "source": [
    "'Ala ma kota'[::-1] # na odwrót"
   ]
  },
  {
   "cell_type": "code",
   "execution_count": 25,
   "id": "1cffc7cc",
   "metadata": {},
   "outputs": [
    {
     "data": {
      "text/plain": [
       "'Ala ma kota Ala ma kota Ala ma kota '"
      ]
     },
     "execution_count": 25,
     "metadata": {},
     "output_type": "execute_result"
    }
   ],
   "source": [
    "('Ala ma kota' +  ' ') * 3"
   ]
  },
  {
   "cell_type": "code",
   "execution_count": 26,
   "id": "8faaca47",
   "metadata": {},
   "outputs": [
    {
     "ename": "TypeError",
     "evalue": "can't multiply sequence by non-int of type 'float'",
     "output_type": "error",
     "traceback": [
      "\u001b[0;31m---------------------------------------------------------------------------\u001b[0m",
      "\u001b[0;31mTypeError\u001b[0m                                 Traceback (most recent call last)",
      "\u001b[0;32m/tmp/ipykernel_969735/3630364751.py\u001b[0m in \u001b[0;36m<module>\u001b[0;34m\u001b[0m\n\u001b[0;32m----> 1\u001b[0;31m \u001b[0;34m'Ala ma kota'\u001b[0m \u001b[0;34m*\u001b[0m \u001b[0;36m7.0\u001b[0m\u001b[0;34m\u001b[0m\u001b[0;34m\u001b[0m\u001b[0m\n\u001b[0m",
      "\u001b[0;31mTypeError\u001b[0m: can't multiply sequence by non-int of type 'float'"
     ]
    }
   ],
   "source": [
    "'Ala ma kota' * 7.0"
   ]
  },
  {
   "cell_type": "code",
   "execution_count": 27,
   "id": "503664a8",
   "metadata": {},
   "outputs": [
    {
     "data": {
      "text/plain": [
       "True"
      ]
     },
     "execution_count": 27,
     "metadata": {},
     "output_type": "execute_result"
    }
   ],
   "source": [
    " 'Ala' in 'Ala ma kota'"
   ]
  },
  {
   "cell_type": "code",
   "execution_count": 29,
   "id": "ed577166",
   "metadata": {},
   "outputs": [
    {
     "data": {
      "text/plain": [
       "True"
      ]
     },
     "execution_count": 29,
     "metadata": {},
     "output_type": "execute_result"
    }
   ],
   "source": [
    "'pies' not in 'Ala ma kota'"
   ]
  },
  {
   "cell_type": "code",
   "execution_count": null,
   "id": "6dc972a3",
   "metadata": {},
   "outputs": [],
   "source": [
    "r'' # automatycznie nieinterpretowane, 'row'"
   ]
  },
  {
   "cell_type": "code",
   "execution_count": 31,
   "id": "793ea841",
   "metadata": {},
   "outputs": [
    {
     "data": {
      "text/plain": [
       "'Ala \\\\n kot'"
      ]
     },
     "execution_count": 31,
     "metadata": {},
     "output_type": "execute_result"
    }
   ],
   "source": [
    "r'Ala \\n kot' # maskowanie znaków specjalnych"
   ]
  },
  {
   "cell_type": "code",
   "execution_count": 32,
   "id": "3599091f",
   "metadata": {},
   "outputs": [
    {
     "data": {
      "text/plain": [
       "'Ala \\n kot'"
      ]
     },
     "execution_count": 32,
     "metadata": {},
     "output_type": "execute_result"
    }
   ],
   "source": [
    "'Ala \\n kot'"
   ]
  },
  {
   "cell_type": "code",
   "execution_count": 33,
   "id": "59106ca4",
   "metadata": {},
   "outputs": [
    {
     "data": {
      "text/plain": [
       "'Ala \\n kot'"
      ]
     },
     "execution_count": 33,
     "metadata": {},
     "output_type": "execute_result"
    }
   ],
   "source": [
    "str('Ala \\n kot')"
   ]
  },
  {
   "cell_type": "code",
   "execution_count": 34,
   "id": "6330e013",
   "metadata": {},
   "outputs": [
    {
     "name": "stdout",
     "output_type": "stream",
     "text": [
      "Ala \n",
      " kot\n"
     ]
    }
   ],
   "source": [
    "print('Ala \\n kot')"
   ]
  },
  {
   "cell_type": "code",
   "execution_count": 35,
   "id": "4f6c2abb",
   "metadata": {},
   "outputs": [
    {
     "name": "stdout",
     "output_type": "stream",
     "text": [
      "Ala \\n kot\n"
     ]
    }
   ],
   "source": [
    "print(r'Ala \\n kot')"
   ]
  },
  {
   "cell_type": "code",
   "execution_count": null,
   "id": "ce6c272b",
   "metadata": {},
   "outputs": [],
   "source": [
    "f'' # formatowanie str"
   ]
  },
  {
   "cell_type": "code",
   "execution_count": 37,
   "id": "ce2eea40",
   "metadata": {},
   "outputs": [
    {
     "data": {
      "text/plain": [
       "'Ala ma 9 kotów.'"
      ]
     },
     "execution_count": 37,
     "metadata": {},
     "output_type": "execute_result"
    }
   ],
   "source": [
    "f'Ala ma {2 + 3 + 4} kotów.'"
   ]
  },
  {
   "cell_type": "code",
   "execution_count": null,
   "id": "e2598964",
   "metadata": {},
   "outputs": [],
   "source": [
    "%d # sformatuj to, co zostanie wprowadzone za chwilę"
   ]
  },
  {
   "cell_type": "code",
   "execution_count": 38,
   "id": "308a4352",
   "metadata": {},
   "outputs": [
    {
     "data": {
      "text/plain": [
       "'Ala ma 20 kota'"
      ]
     },
     "execution_count": 38,
     "metadata": {},
     "output_type": "execute_result"
    }
   ],
   "source": [
    "'Ala ma %d kota' % (2 + 3 * 6)"
   ]
  },
  {
   "cell_type": "code",
   "execution_count": 40,
   "id": "ce9d4e13",
   "metadata": {},
   "outputs": [
    {
     "data": {
      "text/plain": [
       "'9'"
      ]
     },
     "execution_count": 40,
     "metadata": {},
     "output_type": "execute_result"
    }
   ],
   "source": [
    "# rzutowanie jawne\n",
    "# str(obiekt)\n",
    "str(9)"
   ]
  },
  {
   "cell_type": "code",
   "execution_count": 41,
   "id": "3db76630",
   "metadata": {},
   "outputs": [
    {
     "data": {
      "text/plain": [
       "3"
      ]
     },
     "execution_count": 41,
     "metadata": {},
     "output_type": "execute_result"
    }
   ],
   "source": [
    "# długość ciągu znaków\n",
    "len('Ala')"
   ]
  },
  {
   "cell_type": "markdown",
   "id": "197aee3d",
   "metadata": {},
   "source": [
    "### format"
   ]
  },
  {
   "cell_type": "code",
   "execution_count": 42,
   "id": "e6aa4cfb",
   "metadata": {},
   "outputs": [
    {
     "data": {
      "text/plain": [
       "'Ala ma 2 koty'"
      ]
     },
     "execution_count": 42,
     "metadata": {},
     "output_type": "execute_result"
    }
   ],
   "source": [
    "\"Ala ma {} koty\".format(2)"
   ]
  },
  {
   "cell_type": "code",
   "execution_count": 44,
   "id": "7b0cd598",
   "metadata": {},
   "outputs": [
    {
     "data": {
      "text/plain": [
       "'Ala ma 3 koty'"
      ]
     },
     "execution_count": 44,
     "metadata": {},
     "output_type": "execute_result"
    }
   ],
   "source": [
    "a = \"Ala\"\n",
    "b = \"ma\"\n",
    "c = 3\n",
    "d = \"koty\"\n",
    "\n",
    "'{} {} {} {}'.format(a, b, c, d)"
   ]
  },
  {
   "cell_type": "code",
   "execution_count": 46,
   "id": "feffce15",
   "metadata": {},
   "outputs": [
    {
     "data": {
      "text/plain": [
       "'koty, ma, Ala, 3'"
      ]
     },
     "execution_count": 46,
     "metadata": {},
     "output_type": "execute_result"
    }
   ],
   "source": [
    "'{3}, {1}, {0}, {2}'.format(a, b, c, d)"
   ]
  },
  {
   "cell_type": "code",
   "execution_count": 49,
   "id": "91272f60",
   "metadata": {},
   "outputs": [
    {
     "data": {
      "text/plain": [
       "'abrakadabra'"
      ]
     },
     "execution_count": 49,
     "metadata": {},
     "output_type": "execute_result"
    }
   ],
   "source": [
    "'{0}{1}{0}'.format('abra', 'kad')"
   ]
  },
  {
   "cell_type": "markdown",
   "id": "46e4f405",
   "metadata": {},
   "source": [
    "### ćwiczenie 1"
   ]
  },
  {
   "cell_type": "code",
   "execution_count": 50,
   "id": "e315e3f4",
   "metadata": {},
   "outputs": [
    {
     "name": "stdout",
     "output_type": "stream",
     "text": [
      "Ala ma 1 kota.\n",
      "Ala ma 2 koty.\n",
      "Ala ma 3 koty.\n",
      "Ala ma 4 koty.\n",
      "Ala ma 5 kotów.\n",
      "Ala ma 6 kotów.\n",
      "Ala ma 7 kotów.\n",
      "Ala ma 8 kotów.\n",
      "Ala ma 9 kotów.\n",
      "Ala ma 10 kotów.\n"
     ]
    }
   ],
   "source": [
    "i = 1\n",
    "\n",
    "while i < 11:\n",
    "    if i < 2:\n",
    "        print(f'Ala ma {i} kota.')\n",
    "    elif i < 5:\n",
    "        print(f'Ala ma {i} koty.')\n",
    "    else: print(f'Ala ma {i} kotów.')\n",
    "    i += 1"
   ]
  },
  {
   "cell_type": "code",
   "execution_count": null,
   "id": "fd132762",
   "metadata": {},
   "outputs": [],
   "source": []
  }
 ],
 "metadata": {
  "kernelspec": {
   "display_name": "Python 3 (ipykernel)",
   "language": "python",
   "name": "python3"
  },
  "language_info": {
   "codemirror_mode": {
    "name": "ipython",
    "version": 3
   },
   "file_extension": ".py",
   "mimetype": "text/x-python",
   "name": "python",
   "nbconvert_exporter": "python",
   "pygments_lexer": "ipython3",
   "version": "3.9.5"
  }
 },
 "nbformat": 4,
 "nbformat_minor": 5
}
