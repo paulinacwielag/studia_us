{
 "cells": [
  {
   "cell_type": "code",
   "execution_count": null,
   "id": "a271bf49",
   "metadata": {},
   "outputs": [],
   "source": [
    "# str (typ str)"
   ]
  },
  {
   "cell_type": "code",
   "execution_count": 1,
   "id": "3fad87d5",
   "metadata": {},
   "outputs": [
    {
     "data": {
      "text/plain": [
       "'Ala ma kota'"
      ]
     },
     "execution_count": 1,
     "metadata": {},
     "output_type": "execute_result"
    }
   ],
   "source": [
    "s1 = \"Ala ma kota\"\n",
    "s1"
   ]
  },
  {
   "cell_type": "code",
   "execution_count": 2,
   "id": "cb009a9a",
   "metadata": {},
   "outputs": [
    {
     "data": {
      "text/plain": [
       "'Ala ma kota'"
      ]
     },
     "execution_count": 2,
     "metadata": {},
     "output_type": "execute_result"
    }
   ],
   "source": [
    "s2 = 'Ala ma kota'\n",
    "s2"
   ]
  },
  {
   "cell_type": "code",
   "execution_count": 3,
   "id": "e647c2d4",
   "metadata": {},
   "outputs": [
    {
     "data": {
      "text/plain": [
       "'Ala ma kota'"
      ]
     },
     "execution_count": 3,
     "metadata": {},
     "output_type": "execute_result"
    }
   ],
   "source": [
    "s3 = '''Ala ma kota'''\n",
    "s3"
   ]
  },
  {
   "cell_type": "code",
   "execution_count": 6,
   "id": "b807f0b2",
   "metadata": {},
   "outputs": [
    {
     "data": {
      "text/plain": [
       "'Ala \\nma \\nkota'"
      ]
     },
     "execution_count": 6,
     "metadata": {},
     "output_type": "execute_result"
    }
   ],
   "source": [
    "s4 = \"\"\"Ala \n",
    "ma \n",
    "kota\"\"\" # można je łamać\n",
    "s4"
   ]
  },
  {
   "cell_type": "code",
   "execution_count": null,
   "id": "d85f729a",
   "metadata": {},
   "outputs": [],
   "source": [
    "# \\n - przejście do nowej linijki"
   ]
  },
  {
   "cell_type": "code",
   "execution_count": null,
   "id": "ebe9dd8f",
   "metadata": {},
   "outputs": [],
   "source": [
    "# konkatenacja"
   ]
  },
  {
   "cell_type": "code",
   "execution_count": 8,
   "id": "f9479c79",
   "metadata": {},
   "outputs": [
    {
     "data": {
      "text/plain": [
       "'Ala ma kotaAla ma kota'"
      ]
     },
     "execution_count": 8,
     "metadata": {},
     "output_type": "execute_result"
    }
   ],
   "source": [
    "s2 + s1"
   ]
  },
  {
   "cell_type": "code",
   "execution_count": 9,
   "id": "84174898",
   "metadata": {},
   "outputs": [
    {
     "data": {
      "text/plain": [
       "True"
      ]
     },
     "execution_count": 9,
     "metadata": {},
     "output_type": "execute_result"
    }
   ],
   "source": [
    "s1 == s2"
   ]
  },
  {
   "cell_type": "code",
   "execution_count": 10,
   "id": "84bccef4",
   "metadata": {},
   "outputs": [
    {
     "data": {
      "text/plain": [
       "False"
      ]
     },
     "execution_count": 10,
     "metadata": {},
     "output_type": "execute_result"
    }
   ],
   "source": [
    "\"ala\" == \"kasia\""
   ]
  },
  {
   "cell_type": "code",
   "execution_count": 11,
   "id": "5d9e5fc8",
   "metadata": {},
   "outputs": [
    {
     "data": {
      "text/plain": [
       "True"
      ]
     },
     "execution_count": 11,
     "metadata": {},
     "output_type": "execute_result"
    }
   ],
   "source": [
    "\"ala\" != \"kasia\""
   ]
  },
  {
   "cell_type": "code",
   "execution_count": null,
   "id": "7ebc215a",
   "metadata": {},
   "outputs": [],
   "source": [
    "# slicing"
   ]
  },
  {
   "cell_type": "code",
   "execution_count": 13,
   "id": "ebd073c4",
   "metadata": {},
   "outputs": [
    {
     "data": {
      "text/plain": [
       "'a'"
      ]
     },
     "execution_count": 13,
     "metadata": {},
     "output_type": "execute_result"
    }
   ],
   "source": [
    "'Ala ma kota'[5]"
   ]
  },
  {
   "cell_type": "code",
   "execution_count": 14,
   "id": "711b5d5e",
   "metadata": {},
   "outputs": [
    {
     "data": {
      "text/plain": [
       "'Ala ma'"
      ]
     },
     "execution_count": 14,
     "metadata": {},
     "output_type": "execute_result"
    }
   ],
   "source": [
    "'Ala ma kota'[0:6]"
   ]
  },
  {
   "cell_type": "code",
   "execution_count": 16,
   "id": "f1f7ca4d",
   "metadata": {},
   "outputs": [
    {
     "data": {
      "text/plain": [
       "'am'"
      ]
     },
     "execution_count": 16,
     "metadata": {},
     "output_type": "execute_result"
    }
   ],
   "source": [
    "'Ala ma kota'[2:5:2] # co drugi element, od do"
   ]
  },
  {
   "cell_type": "code",
   "execution_count": 18,
   "id": "e6c3a07e",
   "metadata": {},
   "outputs": [
    {
     "data": {
      "text/plain": [
       "'k'"
      ]
     },
     "execution_count": 18,
     "metadata": {},
     "output_type": "execute_result"
    }
   ],
   "source": [
    "'Ala ma kota'[-4] # od końca"
   ]
  },
  {
   "cell_type": "code",
   "execution_count": 19,
   "id": "e2ee4366",
   "metadata": {},
   "outputs": [
    {
     "data": {
      "text/plain": [
       "'atok am alA'"
      ]
     },
     "execution_count": 19,
     "metadata": {},
     "output_type": "execute_result"
    }
   ],
   "source": [
    "'Ala ma kota'[::-1] # na odwrót"
   ]
  },
  {
   "cell_type": "code",
   "execution_count": 25,
   "id": "1cffc7cc",
   "metadata": {},
   "outputs": [
    {
     "data": {
      "text/plain": [
       "'Ala ma kota Ala ma kota Ala ma kota '"
      ]
     },
     "execution_count": 25,
     "metadata": {},
     "output_type": "execute_result"
    }
   ],
   "source": [
    "('Ala ma kota' +  ' ') * 3"
   ]
  },
  {
   "cell_type": "code",
   "execution_count": 26,
   "id": "8faaca47",
   "metadata": {},
   "outputs": [
    {
     "ename": "TypeError",
     "evalue": "can't multiply sequence by non-int of type 'float'",
     "output_type": "error",
     "traceback": [
      "\u001b[0;31m---------------------------------------------------------------------------\u001b[0m",
      "\u001b[0;31mTypeError\u001b[0m                                 Traceback (most recent call last)",
      "\u001b[0;32m/tmp/ipykernel_969735/3630364751.py\u001b[0m in \u001b[0;36m<module>\u001b[0;34m\u001b[0m\n\u001b[0;32m----> 1\u001b[0;31m \u001b[0;34m'Ala ma kota'\u001b[0m \u001b[0;34m*\u001b[0m \u001b[0;36m7.0\u001b[0m\u001b[0;34m\u001b[0m\u001b[0;34m\u001b[0m\u001b[0m\n\u001b[0m",
      "\u001b[0;31mTypeError\u001b[0m: can't multiply sequence by non-int of type 'float'"
     ]
    }
   ],
   "source": [
    "'Ala ma kota' * 7.0"
   ]
  },
  {
   "cell_type": "code",
   "execution_count": 27,
   "id": "503664a8",
   "metadata": {},
   "outputs": [
    {
     "data": {
      "text/plain": [
       "True"
      ]
     },
     "execution_count": 27,
     "metadata": {},
     "output_type": "execute_result"
    }
   ],
   "source": [
    " 'Ala' in 'Ala ma kota'"
   ]
  },
  {
   "cell_type": "code",
   "execution_count": 29,
   "id": "ed577166",
   "metadata": {},
   "outputs": [
    {
     "data": {
      "text/plain": [
       "True"
      ]
     },
     "execution_count": 29,
     "metadata": {},
     "output_type": "execute_result"
    }
   ],
   "source": [
    "'pies' not in 'Ala ma kota'"
   ]
  },
  {
   "cell_type": "code",
   "execution_count": null,
   "id": "6dc972a3",
   "metadata": {},
   "outputs": [],
   "source": [
    "r'' # automatycznie nieinterpretowane, 'row'"
   ]
  },
  {
   "cell_type": "code",
   "execution_count": 31,
   "id": "793ea841",
   "metadata": {},
   "outputs": [
    {
     "data": {
      "text/plain": [
       "'Ala \\\\n kot'"
      ]
     },
     "execution_count": 31,
     "metadata": {},
     "output_type": "execute_result"
    }
   ],
   "source": [
    "r'Ala \\n kot' # maskowanie znaków specjalnych"
   ]
  },
  {
   "cell_type": "code",
   "execution_count": 32,
   "id": "3599091f",
   "metadata": {},
   "outputs": [
    {
     "data": {
      "text/plain": [
       "'Ala \\n kot'"
      ]
     },
     "execution_count": 32,
     "metadata": {},
     "output_type": "execute_result"
    }
   ],
   "source": [
    "'Ala \\n kot'"
   ]
  },
  {
   "cell_type": "code",
   "execution_count": 33,
   "id": "59106ca4",
   "metadata": {},
   "outputs": [
    {
     "data": {
      "text/plain": [
       "'Ala \\n kot'"
      ]
     },
     "execution_count": 33,
     "metadata": {},
     "output_type": "execute_result"
    }
   ],
   "source": [
    "str('Ala \\n kot')"
   ]
  },
  {
   "cell_type": "code",
   "execution_count": 34,
   "id": "6330e013",
   "metadata": {},
   "outputs": [
    {
     "name": "stdout",
     "output_type": "stream",
     "text": [
      "Ala \n",
      " kot\n"
     ]
    }
   ],
   "source": [
    "print('Ala \\n kot')"
   ]
  },
  {
   "cell_type": "code",
   "execution_count": 35,
   "id": "4f6c2abb",
   "metadata": {},
   "outputs": [
    {
     "name": "stdout",
     "output_type": "stream",
     "text": [
      "Ala \\n kot\n"
     ]
    }
   ],
   "source": [
    "print(r'Ala \\n kot')"
   ]
  },
  {
   "cell_type": "code",
   "execution_count": null,
   "id": "ce6c272b",
   "metadata": {},
   "outputs": [],
   "source": [
    "f'' # formatowanie str"
   ]
  },
  {
   "cell_type": "code",
   "execution_count": 37,
   "id": "ce2eea40",
   "metadata": {},
   "outputs": [
    {
     "data": {
      "text/plain": [
       "'Ala ma 9 kotów.'"
      ]
     },
     "execution_count": 37,
     "metadata": {},
     "output_type": "execute_result"
    }
   ],
   "source": [
    "f'Ala ma {2 + 3 + 4} kotów.'"
   ]
  },
  {
   "cell_type": "code",
   "execution_count": null,
   "id": "e2598964",
   "metadata": {},
   "outputs": [],
   "source": [
    "%d # sformatuj to, co zostanie wprowadzone za chwilę"
   ]
  },
  {
   "cell_type": "code",
   "execution_count": 38,
   "id": "308a4352",
   "metadata": {},
   "outputs": [
    {
     "data": {
      "text/plain": [
       "'Ala ma 20 kota'"
      ]
     },
     "execution_count": 38,
     "metadata": {},
     "output_type": "execute_result"
    }
   ],
   "source": [
    "'Ala ma %d kota' % (2 + 3 * 6)"
   ]
  },
  {
   "cell_type": "code",
   "execution_count": 40,
   "id": "ce9d4e13",
   "metadata": {},
   "outputs": [
    {
     "data": {
      "text/plain": [
       "'9'"
      ]
     },
     "execution_count": 40,
     "metadata": {},
     "output_type": "execute_result"
    }
   ],
   "source": [
    "# rzutowanie jawne\n",
    "# str(obiekt)\n",
    "str(9)"
   ]
  },
  {
   "cell_type": "code",
   "execution_count": 41,
   "id": "3db76630",
   "metadata": {},
   "outputs": [
    {
     "data": {
      "text/plain": [
       "3"
      ]
     },
     "execution_count": 41,
     "metadata": {},
     "output_type": "execute_result"
    }
   ],
   "source": [
    "# długość ciągu znaków\n",
    "len('Ala')"
   ]
  },
  {
   "cell_type": "markdown",
   "id": "197aee3d",
   "metadata": {},
   "source": [
    "### format"
   ]
  },
  {
   "cell_type": "code",
   "execution_count": 42,
   "id": "e6aa4cfb",
   "metadata": {},
   "outputs": [
    {
     "data": {
      "text/plain": [
       "'Ala ma 2 koty'"
      ]
     },
     "execution_count": 42,
     "metadata": {},
     "output_type": "execute_result"
    }
   ],
   "source": [
    "\"Ala ma {} koty\".format(2)"
   ]
  },
  {
   "cell_type": "code",
   "execution_count": 44,
   "id": "7b0cd598",
   "metadata": {},
   "outputs": [
    {
     "data": {
      "text/plain": [
       "'Ala ma 3 koty'"
      ]
     },
     "execution_count": 44,
     "metadata": {},
     "output_type": "execute_result"
    }
   ],
   "source": [
    "a = \"Ala\"\n",
    "b = \"ma\"\n",
    "c = 3\n",
    "d = \"koty\"\n",
    "\n",
    "'{} {} {} {}'.format(a, b, c, d)"
   ]
  },
  {
   "cell_type": "code",
   "execution_count": 46,
   "id": "feffce15",
   "metadata": {},
   "outputs": [
    {
     "data": {
      "text/plain": [
       "'koty, ma, Ala, 3'"
      ]
     },
     "execution_count": 46,
     "metadata": {},
     "output_type": "execute_result"
    }
   ],
   "source": [
    "'{3}, {1}, {0}, {2}'.format(a, b, c, d)"
   ]
  },
  {
   "cell_type": "code",
   "execution_count": 49,
   "id": "91272f60",
   "metadata": {},
   "outputs": [
    {
     "data": {
      "text/plain": [
       "'abrakadabra'"
      ]
     },
     "execution_count": 49,
     "metadata": {},
     "output_type": "execute_result"
    }
   ],
   "source": [
    "'{0}{1}{0}'.format('abra', 'kad')"
   ]
  },
  {
   "cell_type": "markdown",
   "id": "46e4f405",
   "metadata": {},
   "source": [
    "### ćwiczenie 1"
   ]
  },
  {
   "cell_type": "code",
   "execution_count": 50,
   "id": "e315e3f4",
   "metadata": {},
   "outputs": [
    {
     "name": "stdout",
     "output_type": "stream",
     "text": [
      "Ala ma 1 kota.\n",
      "Ala ma 2 koty.\n",
      "Ala ma 3 koty.\n",
      "Ala ma 4 koty.\n",
      "Ala ma 5 kotów.\n",
      "Ala ma 6 kotów.\n",
      "Ala ma 7 kotów.\n",
      "Ala ma 8 kotów.\n",
      "Ala ma 9 kotów.\n",
      "Ala ma 10 kotów.\n"
     ]
    }
   ],
   "source": [
    "i = 1\n",
    "\n",
    "while i < 11:\n",
    "    if i < 2:\n",
    "        print(f'Ala ma {i} kota.')\n",
    "    elif i < 5:\n",
    "        print(f'Ala ma {i} koty.')\n",
    "    else: print(f'Ala ma {i} kotów.')\n",
    "    i += 1"
   ]
  },
  {
   "cell_type": "code",
   "execution_count": 1,
   "id": "fd132762",
   "metadata": {},
   "outputs": [
    {
     "data": {
      "text/plain": [
       "'1000'"
      ]
     },
     "execution_count": 1,
     "metadata": {},
     "output_type": "execute_result"
    }
   ],
   "source": [
    "'{}'.format(1000)"
   ]
  },
  {
   "cell_type": "code",
   "execution_count": 2,
   "id": "e94ee6bf",
   "metadata": {},
   "outputs": [
    {
     "data": {
      "text/plain": [
       "'Ala'"
      ]
     },
     "execution_count": 2,
     "metadata": {},
     "output_type": "execute_result"
    }
   ],
   "source": [
    "'{}'.format('Ala')"
   ]
  },
  {
   "cell_type": "code",
   "execution_count": 3,
   "id": "00376a97",
   "metadata": {},
   "outputs": [
    {
     "data": {
      "text/plain": [
       "'3.1465'"
      ]
     },
     "execution_count": 3,
     "metadata": {},
     "output_type": "execute_result"
    }
   ],
   "source": [
    "'{}'.format(3.1465)"
   ]
  },
  {
   "cell_type": "code",
   "execution_count": 4,
   "id": "c4886dfa",
   "metadata": {},
   "outputs": [
    {
     "data": {
      "text/plain": [
       "'10'"
      ]
     },
     "execution_count": 4,
     "metadata": {},
     "output_type": "execute_result"
    }
   ],
   "source": [
    "'{:d}'.format(10) # :(d) nazwa typu danych w nawiasie, :d całkowite, :t dziesiętne, :f liczby zmiennoprzecinkowe"
   ]
  },
  {
   "cell_type": "code",
   "execution_count": 5,
   "id": "f1f8e84a",
   "metadata": {},
   "outputs": [
    {
     "data": {
      "text/plain": [
       "'3.141590'"
      ]
     },
     "execution_count": 5,
     "metadata": {},
     "output_type": "execute_result"
    }
   ],
   "source": [
    "'{:f}'.format(3.14159)"
   ]
  },
  {
   "cell_type": "code",
   "execution_count": 9,
   "id": "6c39c7b0",
   "metadata": {},
   "outputs": [
    {
     "data": {
      "text/plain": [
       "'3.14'"
      ]
     },
     "execution_count": 9,
     "metadata": {},
     "output_type": "execute_result"
    }
   ],
   "source": [
    "'{:.2f}'.format(3.14149) # do dwóch miejsc po przecinku"
   ]
  },
  {
   "cell_type": "code",
   "execution_count": 10,
   "id": "c5bba4ce",
   "metadata": {},
   "outputs": [
    {
     "data": {
      "text/plain": [
       "'        33'"
      ]
     },
     "execution_count": 10,
     "metadata": {},
     "output_type": "execute_result"
    }
   ],
   "source": [
    "'{:10d}'.format(33) # musi użyć 10 znaków, 8 spacji + 33"
   ]
  },
  {
   "cell_type": "code",
   "execution_count": 11,
   "id": "a3928ff4",
   "metadata": {},
   "outputs": [
    {
     "data": {
      "text/plain": [
       "'!!        33!!'"
      ]
     },
     "execution_count": 11,
     "metadata": {},
     "output_type": "execute_result"
    }
   ],
   "source": [
    "'!!{:10d}!!'.format(33)"
   ]
  },
  {
   "cell_type": "code",
   "execution_count": 12,
   "id": "f142fbeb",
   "metadata": {},
   "outputs": [
    {
     "data": {
      "text/plain": [
       "'$$000000000000879$$'"
      ]
     },
     "execution_count": 12,
     "metadata": {},
     "output_type": "execute_result"
    }
   ],
   "source": [
    "'$${:015}$$'.format(879)"
   ]
  },
  {
   "cell_type": "code",
   "execution_count": 15,
   "id": "72040e7f",
   "metadata": {},
   "outputs": [
    {
     "data": {
      "text/plain": [
       "'---   3.141500'"
      ]
     },
     "execution_count": 15,
     "metadata": {},
     "output_type": "execute_result"
    }
   ],
   "source": [
    "'---{:11f}'.format(3.1415)"
   ]
  },
  {
   "cell_type": "code",
   "execution_count": 16,
   "id": "ad8f555d",
   "metadata": {},
   "outputs": [
    {
     "data": {
      "text/plain": [
       "'---0003.141500'"
      ]
     },
     "execution_count": 16,
     "metadata": {},
     "output_type": "execute_result"
    }
   ],
   "source": [
    "'---{:011f}'.format(3.1415)"
   ]
  },
  {
   "cell_type": "code",
   "execution_count": 18,
   "id": "377991f9",
   "metadata": {},
   "outputs": [
    {
     "data": {
      "text/plain": [
       "'---00000003.14'"
      ]
     },
     "execution_count": 18,
     "metadata": {},
     "output_type": "execute_result"
    }
   ],
   "source": [
    "'---{:011.2f}'.format(3.1415)"
   ]
  },
  {
   "cell_type": "markdown",
   "id": "c6e41da1",
   "metadata": {},
   "source": [
    "## +-"
   ]
  },
  {
   "cell_type": "code",
   "execution_count": 20,
   "id": "d3a6f7f7",
   "metadata": {},
   "outputs": [
    {
     "data": {
      "text/plain": [
       "'-44'"
      ]
     },
     "execution_count": 20,
     "metadata": {},
     "output_type": "execute_result"
    }
   ],
   "source": [
    "'{:d}'.format(-44)"
   ]
  },
  {
   "cell_type": "code",
   "execution_count": 22,
   "id": "936640a3",
   "metadata": {},
   "outputs": [
    {
     "data": {
      "text/plain": [
       "'+44'"
      ]
     },
     "execution_count": 22,
     "metadata": {},
     "output_type": "execute_result"
    }
   ],
   "source": [
    "'{:+d}'.format(44)"
   ]
  },
  {
   "cell_type": "code",
   "execution_count": 23,
   "id": "4cf715fb",
   "metadata": {},
   "outputs": [
    {
     "data": {
      "text/plain": [
       "'-44'"
      ]
     },
     "execution_count": 23,
     "metadata": {},
     "output_type": "execute_result"
    }
   ],
   "source": [
    "'{:+d}'.format(-44)"
   ]
  },
  {
   "cell_type": "code",
   "execution_count": 24,
   "id": "ac89f98b",
   "metadata": {},
   "outputs": [
    {
     "data": {
      "text/plain": [
       "'+0'"
      ]
     },
     "execution_count": 24,
     "metadata": {},
     "output_type": "execute_result"
    }
   ],
   "source": [
    "'{:+d}'.format(0)"
   ]
  },
  {
   "cell_type": "code",
   "execution_count": 25,
   "id": "44f2e871",
   "metadata": {},
   "outputs": [
    {
     "data": {
      "text/plain": [
       "'+0'"
      ]
     },
     "execution_count": 25,
     "metadata": {},
     "output_type": "execute_result"
    }
   ],
   "source": [
    "'{:+d}'.format(-0)"
   ]
  },
  {
   "cell_type": "code",
   "execution_count": 26,
   "id": "4e2ce792",
   "metadata": {},
   "outputs": [
    {
     "data": {
      "text/plain": [
       "' 44'"
      ]
     },
     "execution_count": 26,
     "metadata": {},
     "output_type": "execute_result"
    }
   ],
   "source": [
    "'{: d}'.format(44)"
   ]
  },
  {
   "cell_type": "code",
   "execution_count": 27,
   "id": "6fe0232b",
   "metadata": {},
   "outputs": [
    {
     "data": {
      "text/plain": [
       "'-44'"
      ]
     },
     "execution_count": 27,
     "metadata": {},
     "output_type": "execute_result"
    }
   ],
   "source": [
    "'{: d}'.format(-44) # dobre to druku w rządku"
   ]
  },
  {
   "cell_type": "code",
   "execution_count": 28,
   "id": "b1c15b2d",
   "metadata": {},
   "outputs": [
    {
     "data": {
      "text/plain": [
       "'        44'"
      ]
     },
     "execution_count": 28,
     "metadata": {},
     "output_type": "execute_result"
    }
   ],
   "source": [
    "'{:=10d}'.format(44)"
   ]
  },
  {
   "cell_type": "code",
   "execution_count": 29,
   "id": "7fc6b720",
   "metadata": {},
   "outputs": [
    {
     "data": {
      "text/plain": [
       "'-       44'"
      ]
     },
     "execution_count": 29,
     "metadata": {},
     "output_type": "execute_result"
    }
   ],
   "source": [
    "'{:=10d}'.format(-44)"
   ]
  },
  {
   "cell_type": "markdown",
   "id": "ccfcf39b",
   "metadata": {},
   "source": [
    "## Justowanie"
   ]
  },
  {
   "cell_type": "code",
   "execution_count": 31,
   "id": "66d8bf6d",
   "metadata": {},
   "outputs": [
    {
     "data": {
      "text/plain": [
       "'kot'"
      ]
     },
     "execution_count": 31,
     "metadata": {},
     "output_type": "execute_result"
    }
   ],
   "source": [
    "'{}'.format('kot') # w przypadku ciągu znaków justowanie jest domyślnie do lewej"
   ]
  },
  {
   "cell_type": "code",
   "execution_count": 32,
   "id": "0fa3394e",
   "metadata": {},
   "outputs": [
    {
     "data": {
      "text/plain": [
       "'       kot'"
      ]
     },
     "execution_count": 32,
     "metadata": {},
     "output_type": "execute_result"
    }
   ],
   "source": [
    "'{:>10}'.format('kot') # do prawej"
   ]
  },
  {
   "cell_type": "code",
   "execution_count": 34,
   "id": "f6192425",
   "metadata": {},
   "outputs": [
    {
     "data": {
      "text/plain": [
       "'kot       '"
      ]
     },
     "execution_count": 34,
     "metadata": {},
     "output_type": "execute_result"
    }
   ],
   "source": [
    "'{:<10}'.format('kot') # do lewej"
   ]
  },
  {
   "cell_type": "code",
   "execution_count": 35,
   "id": "b3859050",
   "metadata": {},
   "outputs": [
    {
     "data": {
      "text/plain": [
       "'   kot    '"
      ]
     },
     "execution_count": 35,
     "metadata": {},
     "output_type": "execute_result"
    }
   ],
   "source": [
    "'{:^10}'.format('kot') # środek"
   ]
  },
  {
   "cell_type": "code",
   "execution_count": 36,
   "id": "fa174a62",
   "metadata": {},
   "outputs": [
    {
     "data": {
      "text/plain": [
       "'***kot****'"
      ]
     },
     "execution_count": 36,
     "metadata": {},
     "output_type": "execute_result"
    }
   ],
   "source": [
    "'{:*^10}'.format('kot') # wypełnienie wybranym znakiem"
   ]
  },
  {
   "cell_type": "code",
   "execution_count": 38,
   "id": "c74350f0",
   "metadata": {},
   "outputs": [
    {
     "data": {
      "text/plain": [
       "'**Ala m***'"
      ]
     },
     "execution_count": 38,
     "metadata": {},
     "output_type": "execute_result"
    }
   ],
   "source": [
    "'{:*^10.5}'.format('Ala ma kota') # 5 pierwszych pól z sekwencji z lewej strony"
   ]
  },
  {
   "cell_type": "code",
   "execution_count": 43,
   "id": "636deeac",
   "metadata": {},
   "outputs": [
    {
     "data": {
      "text/plain": [
       "'Ala ma 4 koty'"
      ]
     },
     "execution_count": 43,
     "metadata": {},
     "output_type": "execute_result"
    }
   ],
   "source": [
    "a = \"Ala\"\n",
    "b = \"ma\"\n",
    "c = 4\n",
    "d = \"koty\"\n",
    "\n",
    "'{} {} {} {}'.format(a, b, c, d)"
   ]
  },
  {
   "cell_type": "code",
   "execution_count": 48,
   "id": "f9e4630f",
   "metadata": {},
   "outputs": [
    {
     "data": {
      "text/plain": [
       "'koty ma 4 Ala'"
      ]
     },
     "execution_count": 48,
     "metadata": {},
     "output_type": "execute_result"
    }
   ],
   "source": [
    "'{3} {1} {2} {0}'.format(a, b, c, d)"
   ]
  },
  {
   "cell_type": "code",
   "execution_count": 49,
   "id": "3556f52e",
   "metadata": {},
   "outputs": [
    {
     "data": {
      "text/plain": [
       "'koty ma +4 Ala %%%%%%Ala%%%%%%%'"
      ]
     },
     "execution_count": 49,
     "metadata": {},
     "output_type": "execute_result"
    }
   ],
   "source": [
    "'{3} {1} {2:+d} {0} {0:%^16}'.format(a, b, c, d)"
   ]
  },
  {
   "cell_type": "code",
   "execution_count": 50,
   "id": "7c6a38f5",
   "metadata": {},
   "outputs": [
    {
     "data": {
      "text/plain": [
       "'koty ma Pies +4 Ala %%%%%%Ala%%%%%%%'"
      ]
     },
     "execution_count": 50,
     "metadata": {},
     "output_type": "execute_result"
    }
   ],
   "source": [
    "'{3} {1} {4} {2:+d} {0} {0:%^16}'.format(a, b, c, d, 'Pies')"
   ]
  },
  {
   "cell_type": "code",
   "execution_count": 51,
   "id": "66bc6192",
   "metadata": {},
   "outputs": [
    {
     "data": {
      "text/plain": [
       "'Ala ma 15 lat'"
      ]
     },
     "execution_count": 51,
     "metadata": {},
     "output_type": "execute_result"
    }
   ],
   "source": [
    "'{imie} ma {wiek} lat'.format(imie = 'Ala', wiek = 15) # na bazie słwonika, w wąsach wpisujemy nazwę klucza"
   ]
  },
  {
   "cell_type": "code",
   "execution_count": 52,
   "id": "20dee3d1",
   "metadata": {},
   "outputs": [
    {
     "data": {
      "text/plain": [
       "'Ala ma 4 koty'"
      ]
     },
     "execution_count": 52,
     "metadata": {},
     "output_type": "execute_result"
    }
   ],
   "source": [
    "a = \"Ala\"\n",
    "b = \"ma\"\n",
    "c = 4\n",
    "d = \"koty\"\n",
    "\n",
    "'{a} {b} {c} {d}'.format(a = a, b = b, c = c, d = d)"
   ]
  },
  {
   "cell_type": "code",
   "execution_count": 53,
   "id": "ca164661",
   "metadata": {},
   "outputs": [
    {
     "data": {
      "text/plain": [
       "'Ala ma ##4## koty'"
      ]
     },
     "execution_count": 53,
     "metadata": {},
     "output_type": "execute_result"
    }
   ],
   "source": [
    "a = \"Ala\"\n",
    "b = \"ma\"\n",
    "c = 4\n",
    "d = \"koty\"\n",
    "\n",
    "'{a} {b} {c:#^5} {d}'.format(a = a, b = b, c = c, d = d)"
   ]
  },
  {
   "cell_type": "code",
   "execution_count": 62,
   "id": "6d759104",
   "metadata": {},
   "outputs": [
    {
     "data": {
      "text/plain": [
       "'##########Ala##########'"
      ]
     },
     "execution_count": 62,
     "metadata": {},
     "output_type": "execute_result"
    }
   ],
   "source": [
    "width = 23\n",
    "'{imie:{znak}{just}{width}}'.format(imie = 'Ala', width = width, just = '^', znak = '#')"
   ]
  },
  {
   "cell_type": "code",
   "execution_count": 64,
   "id": "b4c45009",
   "metadata": {},
   "outputs": [
    {
     "data": {
      "text/plain": [
       "'----------Ala----------'"
      ]
     },
     "execution_count": 64,
     "metadata": {},
     "output_type": "execute_result"
    }
   ],
   "source": [
    "width = 23\n",
    "justowanie =  '^'\n",
    "znak = '-'\n",
    "\n",
    "'{imie:{znak}{just}{width}}'.format(imie = 'Ala', width = width, just = justowanie, znak = znak)"
   ]
  },
  {
   "cell_type": "code",
   "execution_count": 65,
   "id": "19b1e12b",
   "metadata": {},
   "outputs": [
    {
     "data": {
      "text/plain": [
       "'Rzutowanie na STR Rzutowanie na STR Reprezentacja obiektu w powłoce Reprezentacja obiektu w pow\\\\u0142oce'"
      ]
     },
     "execution_count": 65,
     "metadata": {},
     "output_type": "execute_result"
    }
   ],
   "source": [
    "class Klasa(object):\n",
    "    \n",
    "    def __str__(self):\n",
    "        return 'Rzutowanie na STR'\n",
    "    \n",
    "    def __repr__(self):\n",
    "        return 'Reprezentacja obiektu w powłoce'\n",
    "    \n",
    "    \n",
    "# po kolei:\n",
    "# s: woła __str__, r: woła __repr__\n",
    "# a: ogranicza do znaków z tablicy znaków ASCII lub zwraca kod znaku (tu: Ł)\n",
    "'{0} {0!s} {0!r} {0!a}'.format(Klasa())"
   ]
  },
  {
   "cell_type": "code",
   "execution_count": 67,
   "id": "2e81f36a",
   "metadata": {},
   "outputs": [],
   "source": [
    " # Ćwiczenie 1"
   ]
  },
  {
   "cell_type": "code",
   "execution_count": 126,
   "id": "025f527e",
   "metadata": {},
   "outputs": [
    {
     "name": "stdout",
     "output_type": "stream",
     "text": [
      "|  imię   |  ilość  | zwierzę |\n",
      "-------------------------------\n",
      "|   Ala   |    1    |  kota   |\n",
      "|   Ala   |    2    |  koty   |\n",
      "|   Ala   |    3    |  koty   |\n",
      "|   Ala   |    4    |  koty   |\n",
      "|   Ala   |    5    |  kotów  |\n",
      "|   Ala   |    6    |  kotów  |\n",
      "|   Ala   |    7    |  kotów  |\n",
      "|   Ala   |    8    |  kotów  |\n",
      "|   Ala   |    9    |  kotów  |\n",
      "|   Ala   |   10    |  kotów  |\n"
     ]
    }
   ],
   "source": [
    "i = 1\n",
    "imie = 'Ala'\n",
    "ma = 'ma'\n",
    "kota = 'kota'\n",
    "koty = 'koty'\n",
    "kotow = 'kotów'\n",
    "\n",
    "print('|{imie:^9}|{ilosc:^9}|{zwierze:^9}|'.format(imie = 'imię', ilosc = 'ilość', zwierze = \"zwierzę\"))\n",
    "print('-' * 31)\n",
    "while i < 11:\n",
    "    if i < 2:\n",
    "        print('|{imie:^9}|{i:^9}|{kota:^9}|'.format(imie=imie, ma=ma, i=i, kota=kota))\n",
    "    elif i < 5:\n",
    "        print('|{imie:^9}|{i:^9}|{koty:^9}|'.format(imie=imie, ma=ma, i=i, koty=koty))\n",
    "    else: print('|{imie:^9}|{i:^9}|{kotow:^9}|'.format(imie=imie, ma=ma, i=i, kotow=kotow))\n",
    "    i += 1\n",
    "    \n",
    "    \n"
   ]
  },
  {
   "cell_type": "code",
   "execution_count": 74,
   "id": "7f2981da",
   "metadata": {},
   "outputs": [
    {
     "data": {
      "text/plain": [
       "'| imię | ilość | zwierzę |'"
      ]
     },
     "execution_count": 74,
     "metadata": {},
     "output_type": "execute_result"
    }
   ],
   "source": [
    "'| {imie} | {ilosc} | {zwierze} |'.format(imie = 'imię', ilosc = 'ilość', zwierze = \"zwierzę\")"
   ]
  },
  {
   "cell_type": "code",
   "execution_count": 123,
   "id": "e7fd12c7",
   "metadata": {},
   "outputs": [],
   "source": [
    "# Ćwiczenie 2 dokończyć"
   ]
  },
  {
   "cell_type": "code",
   "execution_count": 10,
   "id": "54e1d912",
   "metadata": {},
   "outputs": [
    {
     "name": "stdout",
     "output_type": "stream",
     "text": [
      "*\n",
      "***\n",
      "*****\n",
      "*******\n",
      "*********\n",
      "***********\n",
      "*************\n",
      "***************\n",
      "*****************\n",
      "*******************\n"
     ]
    }
   ],
   "source": [
    "N = 10\n",
    "i = 1\n",
    "\n",
    "while i <= N * 2:\n",
    "    print('*' * i)\n",
    "    i += 2"
   ]
  },
  {
   "cell_type": "code",
   "execution_count": null,
   "id": "703faab4",
   "metadata": {},
   "outputs": [],
   "source": []
  }
 ],
 "metadata": {
  "kernelspec": {
   "display_name": "Python 3 (ipykernel)",
   "language": "python",
   "name": "python3"
  },
  "language_info": {
   "codemirror_mode": {
    "name": "ipython",
    "version": 3
   },
   "file_extension": ".py",
   "mimetype": "text/x-python",
   "name": "python",
   "nbconvert_exporter": "python",
   "pygments_lexer": "ipython3",
   "version": "3.9.5"
  }
 },
 "nbformat": 4,
 "nbformat_minor": 5
}
