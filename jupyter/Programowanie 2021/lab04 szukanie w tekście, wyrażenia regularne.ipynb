{
 "cells": [
  {
   "cell_type": "code",
   "execution_count": 18,
   "id": "5997b780",
   "metadata": {},
   "outputs": [],
   "source": [
    "tekst = 'Ala ma 13 kotów, 2 psy. Ola ma 8 węży i 25 pająków.'"
   ]
  },
  {
   "cell_type": "code",
   "execution_count": 19,
   "id": "a8005e44",
   "metadata": {},
   "outputs": [
    {
     "data": {
      "text/plain": [
       "(6, ['1', '3', '2', '8', '2', '5'])"
      ]
     },
     "execution_count": 19,
     "metadata": {},
     "output_type": "execute_result"
    }
   ],
   "source": [
    "cyfry = []\n",
    "\n",
    "for el in tekst:\n",
    "    if el.isdigit():\n",
    "        cyfry.append(el)\n",
    "        \n",
    "len(cyfry), cyfry"
   ]
  },
  {
   "cell_type": "code",
   "execution_count": 20,
   "id": "d0916c18",
   "metadata": {},
   "outputs": [
    {
     "data": {
      "text/plain": [
       "(13, ['A', 'a', 'a', 'o', 'y', 'O', 'a', 'a', 'ę', 'y', 'i', 'a', 'ą'])"
      ]
     },
     "execution_count": 20,
     "metadata": {},
     "output_type": "execute_result"
    }
   ],
   "source": [
    "# I ROZWIĄZANIE\n",
    "\n",
    "samogloski = 'aeiouyąę'\n",
    "wszystkiesamogloski = samogloski + samogloski.upper()\n",
    "samo = []\n",
    "\n",
    "for el in tekst:\n",
    "    if el in wszystkiesamogloski:\n",
    "        samo.append(el)\n",
    "        \n",
    "len(samo), samo"
   ]
  },
  {
   "cell_type": "code",
   "execution_count": 21,
   "id": "086cce2c",
   "metadata": {},
   "outputs": [
    {
     "data": {
      "text/plain": [
       "(13, ['A', 'a', 'a', 'o', 'y', 'O', 'a', 'a', 'ę', 'y', 'i', 'a', 'ą'])"
      ]
     },
     "execution_count": 21,
     "metadata": {},
     "output_type": "execute_result"
    }
   ],
   "source": [
    "# II ROZWIĄZANIE\n",
    "\n",
    "samo = []\n",
    "\n",
    "for el in tekst:\n",
    "    if el in 'aeiouyąę' + 'aeiouyąę'.upper():\n",
    "        samo.append(el)\n",
    "        \n",
    "len(samo), samo"
   ]
  },
  {
   "cell_type": "code",
   "execution_count": 22,
   "id": "da4ac8bf",
   "metadata": {},
   "outputs": [
    {
     "data": {
      "text/plain": [
       "(30,\n",
       " ['A',\n",
       "  'l',\n",
       "  'a',\n",
       "  'm',\n",
       "  'a',\n",
       "  'k',\n",
       "  'o',\n",
       "  't',\n",
       "  'ó',\n",
       "  'w',\n",
       "  'p',\n",
       "  's',\n",
       "  'y',\n",
       "  'O',\n",
       "  'l',\n",
       "  'a',\n",
       "  'm',\n",
       "  'a',\n",
       "  'w',\n",
       "  'ę',\n",
       "  'ż',\n",
       "  'y',\n",
       "  'i',\n",
       "  'p',\n",
       "  'a',\n",
       "  'j',\n",
       "  'ą',\n",
       "  'k',\n",
       "  'ó',\n",
       "  'w'])"
      ]
     },
     "execution_count": 22,
     "metadata": {},
     "output_type": "execute_result"
    }
   ],
   "source": [
    "# I ROZWIĄZANIE\n",
    "\n",
    "litery = []\n",
    "\n",
    "for el in tekst:\n",
    "    if el.isalpha():\n",
    "        litery.append(el)\n",
    "        \n",
    "len(litery), litery  "
   ]
  },
  {
   "cell_type": "code",
   "execution_count": 23,
   "id": "52134d56",
   "metadata": {},
   "outputs": [
    {
     "data": {
      "text/plain": [
       "(30,\n",
       " ['A',\n",
       "  'l',\n",
       "  'a',\n",
       "  'm',\n",
       "  'a',\n",
       "  'k',\n",
       "  'o',\n",
       "  't',\n",
       "  'ó',\n",
       "  'w',\n",
       "  'p',\n",
       "  's',\n",
       "  'y',\n",
       "  'O',\n",
       "  'l',\n",
       "  'a',\n",
       "  'm',\n",
       "  'a',\n",
       "  'w',\n",
       "  'ę',\n",
       "  'ż',\n",
       "  'y',\n",
       "  'i',\n",
       "  'p',\n",
       "  'a',\n",
       "  'j',\n",
       "  'ą',\n",
       "  'k',\n",
       "  'ó',\n",
       "  'w'])"
      ]
     },
     "execution_count": 23,
     "metadata": {},
     "output_type": "execute_result"
    }
   ],
   "source": [
    "# II ROZWIĄZANIE\n",
    "\n",
    "litery = []\n",
    "\n",
    "for el in tekst:\n",
    "    if el in 'aąeęioóuywrtpsśdfghjklqłzxcćvbnńmzżź' + 'aąeęioóuywrtpsśdfghjklqłzxcćvbnńmzżź'.upper():\n",
    "        litery.append(el)\n",
    "        \n",
    "len(litery), litery "
   ]
  },
  {
   "cell_type": "code",
   "execution_count": 24,
   "id": "648dd9fa",
   "metadata": {},
   "outputs": [
    {
     "data": {
      "text/plain": [
       "(15,\n",
       " [' ', ' ', ' ', ',', ' ', ' ', '.', ' ', ' ', ' ', ' ', ' ', ' ', ' ', '.'])"
      ]
     },
     "execution_count": 24,
     "metadata": {},
     "output_type": "execute_result"
    }
   ],
   "source": [
    "# I ROZWIĄZANIE\n",
    "\n",
    "znaki = []\n",
    "\n",
    "for el in tekst:\n",
    "    if el not in 'aąeęioóuywrtpsśdfghjklqłzxcćvbnńmzżź' + 'aąeęioóuywrtpsśdfghjklqłzxcćvbnńmzżź'.upper() + '1234567890':\n",
    "        znaki.append(el)\n",
    "        \n",
    "len(znaki), znaki"
   ]
  },
  {
   "cell_type": "code",
   "execution_count": 25,
   "id": "3d6c39c0",
   "metadata": {},
   "outputs": [
    {
     "data": {
      "text/plain": [
       "(15,\n",
       " [' ', ' ', ' ', ',', ' ', ' ', '.', ' ', ' ', ' ', ' ', ' ', ' ', ' ', '.'])"
      ]
     },
     "execution_count": 25,
     "metadata": {},
     "output_type": "execute_result"
    }
   ],
   "source": [
    "# II ROZWIĄZANIE\n",
    "\n",
    "znaki = []\n",
    "\n",
    "for el in tekst:\n",
    "    if not el.isalpha() + el.isalnum():\n",
    "        znaki.append(el)\n",
    "        \n",
    "len(znaki), znaki"
   ]
  },
  {
   "cell_type": "code",
   "execution_count": 26,
   "id": "cec7c489",
   "metadata": {},
   "outputs": [
    {
     "data": {
      "text/plain": [
       "15"
      ]
     },
     "execution_count": 26,
     "metadata": {},
     "output_type": "execute_result"
    }
   ],
   "source": [
    "# III ROZWIĄZANIE\n",
    "\n",
    "len(tekst) - len(cyfry) - len(litery)"
   ]
  },
  {
   "cell_type": "code",
   "execution_count": 27,
   "id": "a50951f4",
   "metadata": {},
   "outputs": [],
   "source": [
    "# wyrażenia regularne - re\n",
    "# r - row (nie będzie interpretowane, \\n nie będzie przenosił do kolejnej linii)\n"
   ]
  },
  {
   "cell_type": "code",
   "execution_count": 28,
   "id": "1806da9c",
   "metadata": {},
   "outputs": [],
   "source": [
    "tekst = 'Ala ma 13 kotów, 2 psy. Ola ma 8 węży i 25 pająków.'"
   ]
  },
  {
   "cell_type": "code",
   "execution_count": 29,
   "id": "1b484c80",
   "metadata": {},
   "outputs": [],
   "source": [
    "import re"
   ]
  },
  {
   "cell_type": "code",
   "execution_count": 30,
   "id": "bf7b2a8f",
   "metadata": {},
   "outputs": [],
   "source": [
    "wzorzec = re.compile(r'1|2|3|4|5|6|7|8|9|0') # znajdowanie wszystkich cyfr"
   ]
  },
  {
   "cell_type": "code",
   "execution_count": 31,
   "id": "db8face0",
   "metadata": {},
   "outputs": [
    {
     "data": {
      "text/plain": [
       "['1', '3', '2', '8', '2', '5']"
      ]
     },
     "execution_count": 31,
     "metadata": {},
     "output_type": "execute_result"
    }
   ],
   "source": [
    "wzorzec.findall(tekst)"
   ]
  },
  {
   "cell_type": "markdown",
   "id": "a7aa7865",
   "metadata": {},
   "source": [
    "## '\\d' = '0...9'\n",
    "## '\\d' = '0|1|2|3|4|5|6|7|8|9'"
   ]
  },
  {
   "cell_type": "code",
   "execution_count": 32,
   "id": "29298729",
   "metadata": {},
   "outputs": [
    {
     "data": {
      "text/plain": [
       "['1', '3', '2', '8', '2', '5']"
      ]
     },
     "execution_count": 32,
     "metadata": {},
     "output_type": "execute_result"
    }
   ],
   "source": [
    "wzorzec_cyfra = re.compile(r'\\d')\n",
    "wzorzec_cyfra.findall(tekst)"
   ]
  },
  {
   "cell_type": "code",
   "execution_count": 33,
   "id": "8f8a1b30",
   "metadata": {},
   "outputs": [],
   "source": [
    "# wklej klasy znaków z pliku z zajęć!!!"
   ]
  },
  {
   "cell_type": "code",
   "execution_count": 34,
   "id": "a0cebb4f",
   "metadata": {},
   "outputs": [
    {
     "data": {
      "text/plain": [
       "36"
      ]
     },
     "execution_count": 34,
     "metadata": {},
     "output_type": "execute_result"
    }
   ],
   "source": [
    "wzorzec = re.compile(r'\\w') # liery, cyfry, znaki podkreślenia\n",
    "len(wzorzec.findall(tekst))"
   ]
  },
  {
   "cell_type": "code",
   "execution_count": 35,
   "id": "86d19ac4",
   "metadata": {},
   "outputs": [],
   "source": [
    "wzorzec1 = re.compile(r'\\d')"
   ]
  },
  {
   "cell_type": "code",
   "execution_count": 36,
   "id": "245e207a",
   "metadata": {},
   "outputs": [
    {
     "data": {
      "text/plain": [
       "30"
      ]
     },
     "execution_count": 36,
     "metadata": {},
     "output_type": "execute_result"
    }
   ],
   "source": [
    "len(wzorzec.findall(tekst)) - len(wzorzec1.findall(tekst))"
   ]
  },
  {
   "cell_type": "code",
   "execution_count": 37,
   "id": "9be1f5b9",
   "metadata": {},
   "outputs": [
    {
     "data": {
      "text/plain": [
       "18"
      ]
     },
     "execution_count": 37,
     "metadata": {},
     "output_type": "execute_result"
    }
   ],
   "source": [
    "len(re.compile(r'\\d|\\s').findall(tekst))"
   ]
  },
  {
   "cell_type": "code",
   "execution_count": 38,
   "id": "4f9a9a4b",
   "metadata": {},
   "outputs": [
    {
     "data": {
      "text/plain": [
       "(13, ['A', 'a', 'a', 'o', 'y', 'O', 'a', 'a', 'ę', 'y', 'i', 'a', 'ą'])"
      ]
     },
     "execution_count": 38,
     "metadata": {},
     "output_type": "execute_result"
    }
   ],
   "source": [
    "# własne klasy wzorców\n",
    "\n",
    "wlasny_wzorzec = re.compile(r'[aeuioąęyAEIOUYĄĘ]')\n",
    "len(wlasny_wzorzec.findall(tekst)), wlasny_wzorzec.findall(tekst)"
   ]
  },
  {
   "cell_type": "code",
   "execution_count": 39,
   "id": "2f916b8b",
   "metadata": {},
   "outputs": [
    {
     "data": {
      "text/plain": [
       "(['A',\n",
       "  'l',\n",
       "  'a',\n",
       "  'm',\n",
       "  'a',\n",
       "  'k',\n",
       "  'o',\n",
       "  't',\n",
       "  'w',\n",
       "  'p',\n",
       "  's',\n",
       "  'y',\n",
       "  'O',\n",
       "  'l',\n",
       "  'a',\n",
       "  'm',\n",
       "  'a',\n",
       "  'w',\n",
       "  'y',\n",
       "  'i',\n",
       "  'p',\n",
       "  'a',\n",
       "  'j',\n",
       "  'k',\n",
       "  'w'],\n",
       " 25)"
      ]
     },
     "execution_count": 39,
     "metadata": {},
     "output_type": "execute_result"
    }
   ],
   "source": [
    "wzorzec_ascii = re.compile(r'[a-zA-Z]') #ascii\n",
    "wzorzec_ascii.findall(tekst), len(wzorzec_ascii.findall(tekst))"
   ]
  },
  {
   "cell_type": "code",
   "execution_count": 40,
   "id": "1821894f",
   "metadata": {},
   "outputs": [
    {
     "data": {
      "text/plain": [
       "(['1', '3', '2', '8', '2', '5'], 6)"
      ]
     },
     "execution_count": 40,
     "metadata": {},
     "output_type": "execute_result"
    }
   ],
   "source": [
    "wlasny_wzorzec2 = re.compile(r'[0-9]') #wszystkie znaki od 0 - 9\n",
    "wlasny_wzorzec2.findall(tekst), len(wlasny_wzorzec2.findall(tekst))"
   ]
  },
  {
   "cell_type": "code",
   "execution_count": 41,
   "id": "2ee2089e",
   "metadata": {},
   "outputs": [
    {
     "data": {
      "text/plain": [
       "(['A',\n",
       "  'l',\n",
       "  'a',\n",
       "  'm',\n",
       "  'a',\n",
       "  'k',\n",
       "  'o',\n",
       "  't',\n",
       "  'ó',\n",
       "  'w',\n",
       "  'p',\n",
       "  's',\n",
       "  'y',\n",
       "  'O',\n",
       "  'l',\n",
       "  'a',\n",
       "  'm',\n",
       "  'a',\n",
       "  'w',\n",
       "  'ę',\n",
       "  'ż',\n",
       "  'y',\n",
       "  'i',\n",
       "  'p',\n",
       "  'a',\n",
       "  'j',\n",
       "  'ą',\n",
       "  'k',\n",
       "  'ó',\n",
       "  'w'],\n",
       " 30)"
      ]
     },
     "execution_count": 41,
     "metadata": {},
     "output_type": "execute_result"
    }
   ],
   "source": [
    "wzorzec_a = re.compile(r'[a-zA-ZąęóśłćńżźĄĘÓŚŁĆŃŻŹ]') #poslki alfabet\n",
    "wzorzec_a.findall(tekst), len(wzorzec_a.findall(tekst))"
   ]
  },
  {
   "cell_type": "code",
   "execution_count": 42,
   "id": "44ba5c36",
   "metadata": {},
   "outputs": [
    {
     "data": {
      "text/plain": [
       "(27,\n",
       " ['A',\n",
       "  'l',\n",
       "  'a',\n",
       "  'm',\n",
       "  'a',\n",
       "  'k',\n",
       "  'o',\n",
       "  't',\n",
       "  'w',\n",
       "  'p',\n",
       "  's',\n",
       "  'y',\n",
       "  '.',\n",
       "  'O',\n",
       "  'l',\n",
       "  'a',\n",
       "  'm',\n",
       "  'a',\n",
       "  'w',\n",
       "  'y',\n",
       "  'i',\n",
       "  'p',\n",
       "  'a',\n",
       "  'j',\n",
       "  'k',\n",
       "  'w',\n",
       "  '.'])"
      ]
     },
     "execution_count": 42,
     "metadata": {},
     "output_type": "execute_result"
    }
   ],
   "source": [
    "dia = 'ąężźćśłó' #znaki polskie\n",
    "wzorzec_dia = re.compile(r'[a-zA-Z{dia}{dia.upper()}]') #od a do z i A do Z oraz dia małe i dia duże\n",
    "len(wzorzec_dia.findall(tekst)),wzorzec_dia.findall(tekst)"
   ]
  },
  {
   "cell_type": "markdown",
   "id": "af361719",
   "metadata": {},
   "source": [
    "## ^ i &"
   ]
  },
  {
   "cell_type": "code",
   "execution_count": 43,
   "id": "15b73e9f",
   "metadata": {},
   "outputs": [],
   "source": [
    "txt = '''\n",
    "100 psów\n",
    "3 koty\n",
    "Ala ma kota\n",
    "Ola ma psa\n",
    "Albert jest żyrafą\n",
    "'''"
   ]
  },
  {
   "cell_type": "code",
   "execution_count": null,
   "id": "3a767818",
   "metadata": {},
   "outputs": [],
   "source": [
    "w = re.compile(r'^\\d)\n",
    "w.findall"
   ]
  }
 ],
 "metadata": {
  "kernelspec": {
   "display_name": "Python 3 (ipykernel)",
   "language": "python",
   "name": "python3"
  },
  "language_info": {
   "codemirror_mode": {
    "name": "ipython",
    "version": 3
   },
   "file_extension": ".py",
   "mimetype": "text/x-python",
   "name": "python",
   "nbconvert_exporter": "python",
   "pygments_lexer": "ipython3",
   "version": "3.9.5"
  }
 },
 "nbformat": 4,
 "nbformat_minor": 5
}
