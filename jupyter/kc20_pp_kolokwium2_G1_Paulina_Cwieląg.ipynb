{
 "cells": [
  {
   "cell_type": "markdown",
   "metadata": {},
   "source": [
    "# Komunikacja Cyfrowa, ra 2020-2021\n",
    "## Podstawy Programowania\n",
    "### Kolokwium nr 2\n",
    "\n",
    "**Reguły**\n",
    "\n",
    "* prace są samodzielne, można korzystać ze swoich własnych kodów, wykładu, ćwiczeń, książek, manuali, dokumentacji, kursów, itp…\n",
    "* nie wolno korzystać z cudzych kodów na zasadzie copy-paste\n",
    "* pomoc osób trzecich jest zabroniona\n",
    "\n",
    "**Uwaga**\n",
    "\n",
    "   >Warto testować swoje kody. Brak testów to pierwszy krok do niezadowalającej oceny z kolokwium. Testować znaczy - po napisaniu programu (kodu) należy go kilkukrotnie uruchomić dla kilku różnych danych wejściowych. W niektórych zadaniach przewidziane są za to punkty.\n",
    "\n",
    "**Uwaga 2**\n",
    "   >Warto używać porządnych nazw zmiennych. \n",
    "   \n",
    "**Uwaga 3**\n",
    "   >Przed wysłaniem pracy zrestartuj kernel (Kernel -> Restart) i jeszcze raz uruchom wszystkie komórki, w ten sposób upewnisz się, że wszystkie potrzebne zmienne wciąż są dostępne w przestrzeni nazw. \n",
    "   \n",
    "**Uwaga 4**\n",
    "   >Dwa razy sprawdź czy wysyłasz dobry plik! Plików nadesłanych po terminie nie będziemy sprawdzać!"
   ]
  },
  {
   "cell_type": "code",
   "execution_count": null,
   "metadata": {},
   "outputs": [],
   "source": []
  },
  {
   "cell_type": "markdown",
   "metadata": {},
   "source": [
    "## Zad 1 (25 pkt) Prosta funkcja\n",
    "Zaprogramuj funkcję\n",
    "o dwóch parametrach formalnych (int x, list L o elementach liczbowych) zwracającą krotkę zbudowaną z reszt z dzielenia wartości listy L przez 3\n",
    "(12 pkt). Nie zapomnij o docstringu (3 pkt). \n",
    "Ostatnie (10 pkt) otrzymasz jeżeli wykonasz pięć różnych testów (każdy po 2 pkt) funkcji, tzn. **wywołasz** funkcję dla 5 różnych zestawów parametrów i **sprawdzisz** czy to co funkcja zwraca jest poprawne."
   ]
  },
  {
   "cell_type": "code",
   "execution_count": null,
   "metadata": {},
   "outputs": [],
   "source": [
    "# tutaj programujemy\n",
    "# reszty z dzielenia przez x"
   ]
  },
  {
   "cell_type": "code",
   "execution_count": 58,
   "metadata": {},
   "outputs": [
    {
     "name": "stdout",
     "output_type": "stream",
     "text": [
      "(2, 3, 2, 2, 0)\n",
      "(4, 3, 4, 1, 2)\n",
      "(6, 1, 6, 2, 4)\n",
      "(7, 4, 5, 2, 2)\n",
      "(0, 1, 2, 0, 1)\n"
     ]
    }
   ],
   "source": [
    "def krotka_reszt(x, L):\n",
    "    \n",
    "    \"\"\"\"Funkcja zwracająca krotkę zbudowaną z reszt z dzielenia wartości listy L przez 3.\"\"\"\n",
    "    \n",
    "    krotka = tuple([element % x for element in L])\n",
    "    return krotka\n",
    "\n",
    "L1 = [6, 7, 14, 30, 100]\n",
    "L2 = [84, 53, 9, 1, 32]\n",
    "L3 = [342, 582, 951, 345, 662]\n",
    "L4 = [87, 34, 65, 92, 12]\n",
    "L5 = [66, 934, 245, 12, 25]\n",
    "\n",
    "print(krotka_reszt(4, L1))\n",
    "print(krotka_reszt(5, L2))\n",
    "print(krotka_reszt(7, L3))\n",
    "print(krotka_reszt(10, L4))\n",
    "print(krotka_reszt(3, L5))"
   ]
  },
  {
   "cell_type": "markdown",
   "metadata": {},
   "source": [
    "## Zad 2 (25 pkt) Listy\n",
    "Bazując na podanej poniżej sekwencji liczb naturalnych `S` skonstruuj trzema metodami (po 7 pkt)\n",
    "\n",
    "* pętlą `while` i \n",
    "metodą `insert`\n",
    "* pętlą `for` i metodą \n",
    "metodą `extend`\n",
    "* wyrażeniem listowym\n",
    "\n",
    "listę\n",
    "odwrotności\n",
    "elementów `S`. Oblicz sumę elementów nowych list (4 pkt)."
   ]
  },
  {
   "cell_type": "code",
   "execution_count": 59,
   "metadata": {},
   "outputs": [],
   "source": [
    "S = tuple(range(-10, 10))\n",
    "\n",
    "# tutaj programujemy"
   ]
  },
  {
   "cell_type": "code",
   "execution_count": 71,
   "metadata": {},
   "outputs": [
    {
     "name": "stdout",
     "output_type": "stream",
     "text": [
      "[-0.1, -0.1111111111111111, -0.125, -0.14285714285714285, -0.16666666666666666, -0.2, -0.25, -0.3333333333333333, -0.5, -1.0, 1.0, 0.5, 0.3333333333333333, 0.25, 0.2, 0.16666666666666666, 0.14285714285714285, 0.125, 0.1111111111111111]\n"
     ]
    }
   ],
   "source": [
    "S = tuple(range(-10, 10))\n",
    "\n",
    "lista_odwrotnosci = []\n",
    "\n",
    "i = 0\n",
    "\n",
    "while i < len(S):\n",
    "    liczba = S[i]\n",
    "    if liczba != 0:\n",
    "        lista_odwrotnosci.insert(i, 1/liczba)\n",
    "    i += 1\n",
    "    \n",
    "print(lista_odwrotnosci)"
   ]
  },
  {
   "cell_type": "code",
   "execution_count": 72,
   "metadata": {},
   "outputs": [
    {
     "name": "stdout",
     "output_type": "stream",
     "text": [
      "[]\n"
     ]
    }
   ],
   "source": [
    "S = tuple(range(-10, 10))\n",
    "\n",
    "lista_odwrotnosci = []\n",
    "\n",
    "for liczba in S:\n",
    "    if liczba != 0:\n",
    "        lista_odwrotnosci.extend([1/liczba])\n",
    "    \n",
    "print(lista_odwrotnosci)"
   ]
  },
  {
   "cell_type": "code",
   "execution_count": 73,
   "metadata": {},
   "outputs": [
    {
     "name": "stdout",
     "output_type": "stream",
     "text": [
      "[-0.1, -0.1111111111111111, -0.125, -0.14285714285714285, -0.16666666666666666, -0.2, -0.25, -0.3333333333333333, -0.5, -1.0, 1.0, 0.5, 0.3333333333333333, 0.25, 0.2, 0.16666666666666666, 0.14285714285714285, 0.125, 0.1111111111111111]\n"
     ]
    }
   ],
   "source": [
    "S = tuple(range(-10, 10))\n",
    "\n",
    "lista_odwrotnosci = [1/liczba for liczba in S if liczba != 0]\n",
    "\n",
    "print(lista_odwrotnosci)"
   ]
  },
  {
   "cell_type": "code",
   "execution_count": 76,
   "metadata": {},
   "outputs": [
    {
     "name": "stdout",
     "output_type": "stream",
     "text": [
      "-0.20000000000000007\n"
     ]
    }
   ],
   "source": [
    "print(sum(lista_odwrotnosci))"
   ]
  },
  {
   "cell_type": "markdown",
   "metadata": {},
   "source": [
    "## Zad 3 (25 pkt) Dwie listy\n",
    "Zaprogramuj funkcję, która jako argumenty pobiera dwie niepuste listy `L1` i `L2` o elementach liczbowych i zwraca listę \n",
    "ilorazów drugich potęg (jeżeli się da)\n",
    "elementów o tych samych indeksach (8 pkt). \n",
    "Jeżeli listy mają nierówną ilość elementów, to dla nadprogramowych elementów jednej z list należy wstawić \n",
    "ujemny kwardat wartości\n",
    "nadprogramowych elementów dłuższej listy\n",
    "(7 pkt). Zaprogramuj funkcję defensywnie (5 pkt). Dopisz docstring (2 pkt) oraz porządne testy (3 pkt)."
   ]
  },
  {
   "cell_type": "code",
   "execution_count": 63,
   "metadata": {},
   "outputs": [],
   "source": [
    "# tutaj programujemy"
   ]
  },
  {
   "cell_type": "code",
   "execution_count": 64,
   "metadata": {},
   "outputs": [
    {
     "name": "stdout",
     "output_type": "stream",
     "text": [
      "[0.01, 0.04, 0.1111111111111111, 0.140625, 0.16, 0.21777777777777776, 0.26448979591836735, 6400.0, 8100.0]\n"
     ]
    }
   ],
   "source": [
    "def ilorazy_drugich_poteg(L1, L2):\n",
    "    \n",
    "    \"\"\"\"Funkcja pobiera dwie niepuste listy L1 i L2 o elementach liczbowych i zwraca listę ilorazów drugich potęg (jeżeli się da) elementów o tych samych indeksach\"\"\"\n",
    "    \n",
    "    dlugosc_L1 = len(L1)\n",
    "    dlugosc_L2 = len(L2)\n",
    "    \n",
    "    if len(L1) > len(L2):\n",
    "        ilosc_liczb = dlugosc_L1 - dlugosc_L2\n",
    "        for liczba in range(ilosc_liczb):\n",
    "            L2 += [-(L1[dlugosc_L2 + liczba] ** 2)]  \n",
    "    elif len(L1) < len(L2):\n",
    "        ilosc_liczb = dlugosc_L2 - dlugosc_L1\n",
    "        for liczba in range(ilosc_liczb):\n",
    "            L1 += [-(L2[dlugosc_L1 + liczba] ** 2)]\n",
    "    \n",
    "    dlugosc_list = len(L2) # dowolna z dwóch, ponieważ ich długości już są takie same\n",
    "    lista_ilorazow = [(L1[index] ** 2) / (L2[index] ** 2) for index in range(dlugosc_list)]\n",
    "    \n",
    "    return lista_ilorazow\n",
    "\n",
    "liczby_naturalne = [1, 4, 10, 15, 20, 28, 36]\n",
    "\n",
    "liczby_dziesietne = [10, 20, 30, 40, 50, 60, 70, 80, 90]\n",
    "\n",
    "print(ilorazy_drugich_poteg(liczby_naturalne, liczby_dziesietne))"
   ]
  },
  {
   "cell_type": "markdown",
   "metadata": {},
   "source": [
    "## Zad 4 (25 pkt) Password\n",
    "Zaprogramuj funkcję `password(arg=8)` z 1 domyślnym parametrem formalnym `arg=8`. W zależności od typu i wartości tego parametru funkcja powinna \n",
    "\n",
    "* gdy typ parametru `arg` to `int` oraz `arg >= 8` to funkcja generuje **poprawne hasło** (10 pkt)\n",
    "* gdy typ parametru `arg` to `str` to funkcja sprawdza, czy hasło jest **poprawne** (True/False) (10 pkt)\n",
    "* w innym przypadku funkcja zwraca `None` (2 pkt)\n",
    "* dopisz `docstring` (3 pkt)\n",
    "\n",
    "**Poprawne hasło** zawiera\n",
    "* minimum 8 znaków, w tym\n",
    "    * minimum 1 literę dużą\n",
    "    * minimum 1 literę małą\n",
    "    * minimum 1 cyfrę\n",
    "    * minimum 1 znak specjalny ze znaków `_+-!@#%^&*.,;[]()|`\n",
    "\n",
    "Przykładowo\n",
    "```\n",
    "    >>> password()\n",
    "    '*2R3y]Ft'\n",
    "    >>> password(18)\n",
    "    'GPvo3-;%Z;*F_|gp52'\n",
    "    >>> password('*2R3y]Ft')\n",
    "    True\n",
    "    >>> password('GPvo3-';%Z;*F_|gp52')\n",
    "    True\n",
    "    >>> password('gG1+')\n",
    "    False\n",
    "    >>> password('AlaMaKota')\n",
    "    False\n",
    "```"
   ]
  },
  {
   "cell_type": "code",
   "execution_count": 65,
   "metadata": {},
   "outputs": [],
   "source": [
    "# tutaj programujemy"
   ]
  },
  {
   "cell_type": "code",
   "execution_count": 68,
   "metadata": {},
   "outputs": [],
   "source": [
    "import random\n",
    "import string\n",
    "\n",
    "def password(arg = 8):\n",
    "    \n",
    "    \"\"\"Funkcja w zależności od podanego parametru generuje hasło o podanej ilości znaków, bądź sprawdza, czy podane hasło jest poprawne.\"\"\"\n",
    "    \n",
    "    if type(arg) == int and arg >= 8:\n",
    "        haslo = \"\"\n",
    "        znaki_hasla = []\n",
    "        tablica_znakow = ['!', '@', '#', '%', '^', '&', '*', '(', ')', '_', '+', ']', '[', ';', ':', '.', ',', '|']\n",
    "        znaki_hasla += str(random.randint(0, 9))\n",
    "        znaki_hasla += random.sample(string.ascii_letters.upper(), 1)\n",
    "        znaki_hasla += random.sample(string.ascii_letters.lower(), 1)\n",
    "        znaki_hasla += random.sample(string.ascii_letters, 5)\n",
    "        znaki_hasla += random.sample(tablica_znakow, 1)\n",
    "        dlugosc_hasla = len(znaki_hasla)\n",
    "        for znak in range(dlugosc_hasla, arg):\n",
    "            znaki_hasla += str(random.randint(0, 9))\n",
    "        random.shuffle(znaki_hasla)\n",
    "        for znak in znaki_hasla:\n",
    "            haslo += znak\n",
    "        return haslo\n",
    "    \n",
    "    elif type(arg) == str:\n",
    "        haslo = arg\n",
    "\n",
    "        duze_litery = 0\n",
    "        male_litery = 0\n",
    "        cyfry = 0\n",
    "        znaki_specjalne = 0\n",
    "        tablica_znakow = ['!', '@', '#', '%', '^', '&', '*', '(', ')', '_', '+', '}', '{', ';', ':', '.', ',', '/', '?']\n",
    "\n",
    "        for znak in haslo:\n",
    "            if znak.isupper():\n",
    "                duze_litery += 1\n",
    "            if znak.islower():\n",
    "                male_litery += 1\n",
    "            if znak.isdigit():\n",
    "                cyfry += 1\n",
    "            if znak in tablica_znakow:\n",
    "                znaki_specjalne += 1\n",
    "        if (len(haslo) >= 8) and (duze_litery >= 1) and (male_litery >= 1) and (cyfry >= 1) and (znaki_specjalne >= 1):\n",
    "            return True\n",
    "        else:\n",
    "            return False\n",
    "            \n",
    "    else:\n",
    "        return None"
   ]
  },
  {
   "cell_type": "code",
   "execution_count": 70,
   "metadata": {},
   "outputs": [
    {
     "name": "stdout",
     "output_type": "stream",
     "text": [
      "False\n",
      "269c8n46N*ht679QA4\n",
      "True\n",
      "8juipIL(B\n",
      "None\n"
     ]
    }
   ],
   "source": [
    "print(password(\"borowik\"))\n",
    "print(password(18))\n",
    "print(password(\"8lP!hags\"))\n",
    "print(password(8))\n",
    "print(password(0))"
   ]
  },
  {
   "cell_type": "code",
   "execution_count": null,
   "metadata": {},
   "outputs": [],
   "source": []
  },
  {
   "cell_type": "code",
   "execution_count": null,
   "metadata": {},
   "outputs": [],
   "source": []
  }
 ],
 "metadata": {
  "kernelspec": {
   "display_name": "Python 3",
   "language": "python",
   "name": "python3"
  },
  "language_info": {
   "codemirror_mode": {
    "name": "ipython",
    "version": 3
   },
   "file_extension": ".py",
   "mimetype": "text/x-python",
   "name": "python",
   "nbconvert_exporter": "python",
   "pygments_lexer": "ipython3",
   "version": "3.7.3"
  }
 },
 "nbformat": 4,
 "nbformat_minor": 2
}
