{
 "cells": [
  {
   "cell_type": "markdown",
   "metadata": {},
   "source": [
    "### Analiza Danych, Badania eksploracyjne, Data Science  "
   ]
  },
  {
   "cell_type": "markdown",
   "metadata": {},
   "source": [
    "\n",
    "\"I have watched mathematical statistics evolve, I have had cause to wonder and to doubt…I have come to feel that my central interest is in data analysis\" (\"The Future of Data Analysis\", John W. Tukey, 1962)\n",
    "\n",
    "\n"
   ]
  },
  {
   "cell_type": "markdown",
   "metadata": {},
   "source": [
    "# Tematyka ZMAD\n",
    "- krótkie powtórzenie: koncepcja ramki danych w Pandas, statystyki podstawowe, wizualizacja w matplotlib\n",
    "- kontynuacja wnioskowania statystycznego: analiza wariancji ANOVA\n",
    "- model regresji liniowej \n",
    "- wybrane modele klasyfikacyjne (regresja logistyczna, drzewa decyzyjne)\n"
   ]
  },
  {
   "cell_type": "markdown",
   "metadata": {},
   "source": [
    "### Import potrzebnych bibliotek"
   ]
  },
  {
   "cell_type": "code",
   "execution_count": 135,
   "metadata": {},
   "outputs": [],
   "source": [
    "import pandas as pd\n",
    "import matplotlib.pyplot as plt\n",
    "import seaborn as sns"
   ]
  },
  {
   "cell_type": "markdown",
   "metadata": {},
   "source": [
    "### RAMKA DANYCH - lekka powtórka\n",
    "\n",
    "Do zadań wykorzystamy zestaw danych `diamonds` z pakietu `seaborn`\n",
    "\n",
    "Zestaw danych zawiera następujące informacje:\n",
    "\n",
    "- `price`:  price in US dollars (\\$326 — \\$18,823)\n",
    "\n",
    "- `carat`: weight of the diamond (0.2–5.01)\n",
    "\n",
    "- `cut`: quality of the cut (Fair, Good, Very Good, Premium, Ideal)\n",
    "\n",
    "- `color` diamond colour, from J (worst) to D (best)\n",
    "\n",
    "- `clarity` a measurement of how clear the diamond is (I1 (worst), SI2, SI1, VS2, VS1, VVS2, VVS1, IF (best))\n",
    "\n",
    "- `x`: length in mm (0–10.74)\n",
    "\n",
    "- `y`: width in mm (0–58.9)\n",
    "\n",
    "- `z`: depth in mm (0–31.8)\n",
    "\n",
    "- `depth`: total depth percentage = z / mean(x, y) = 2 * z / (x + y) (43–79)\n",
    "\n",
    "\n",
    "\n"
   ]
  },
  {
   "cell_type": "code",
   "execution_count": 136,
   "metadata": {},
   "outputs": [
    {
     "data": {
      "text/html": [
       "<div>\n",
       "<style scoped>\n",
       "    .dataframe tbody tr th:only-of-type {\n",
       "        vertical-align: middle;\n",
       "    }\n",
       "\n",
       "    .dataframe tbody tr th {\n",
       "        vertical-align: top;\n",
       "    }\n",
       "\n",
       "    .dataframe thead th {\n",
       "        text-align: right;\n",
       "    }\n",
       "</style>\n",
       "<table border=\"1\" class=\"dataframe\">\n",
       "  <thead>\n",
       "    <tr style=\"text-align: right;\">\n",
       "      <th></th>\n",
       "      <th>carat</th>\n",
       "      <th>cut</th>\n",
       "      <th>color</th>\n",
       "      <th>clarity</th>\n",
       "      <th>depth</th>\n",
       "      <th>table</th>\n",
       "      <th>price</th>\n",
       "      <th>x</th>\n",
       "      <th>y</th>\n",
       "      <th>z</th>\n",
       "    </tr>\n",
       "  </thead>\n",
       "  <tbody>\n",
       "    <tr>\n",
       "      <td>0</td>\n",
       "      <td>0.23</td>\n",
       "      <td>Ideal</td>\n",
       "      <td>E</td>\n",
       "      <td>SI2</td>\n",
       "      <td>61.5</td>\n",
       "      <td>55.0</td>\n",
       "      <td>326</td>\n",
       "      <td>3.95</td>\n",
       "      <td>3.98</td>\n",
       "      <td>2.43</td>\n",
       "    </tr>\n",
       "    <tr>\n",
       "      <td>1</td>\n",
       "      <td>0.21</td>\n",
       "      <td>Premium</td>\n",
       "      <td>E</td>\n",
       "      <td>SI1</td>\n",
       "      <td>59.8</td>\n",
       "      <td>61.0</td>\n",
       "      <td>326</td>\n",
       "      <td>3.89</td>\n",
       "      <td>3.84</td>\n",
       "      <td>2.31</td>\n",
       "    </tr>\n",
       "    <tr>\n",
       "      <td>2</td>\n",
       "      <td>0.23</td>\n",
       "      <td>Good</td>\n",
       "      <td>E</td>\n",
       "      <td>VS1</td>\n",
       "      <td>56.9</td>\n",
       "      <td>65.0</td>\n",
       "      <td>327</td>\n",
       "      <td>4.05</td>\n",
       "      <td>4.07</td>\n",
       "      <td>2.31</td>\n",
       "    </tr>\n",
       "    <tr>\n",
       "      <td>3</td>\n",
       "      <td>0.29</td>\n",
       "      <td>Premium</td>\n",
       "      <td>I</td>\n",
       "      <td>VS2</td>\n",
       "      <td>62.4</td>\n",
       "      <td>58.0</td>\n",
       "      <td>334</td>\n",
       "      <td>4.20</td>\n",
       "      <td>4.23</td>\n",
       "      <td>2.63</td>\n",
       "    </tr>\n",
       "    <tr>\n",
       "      <td>4</td>\n",
       "      <td>0.31</td>\n",
       "      <td>Good</td>\n",
       "      <td>J</td>\n",
       "      <td>SI2</td>\n",
       "      <td>63.3</td>\n",
       "      <td>58.0</td>\n",
       "      <td>335</td>\n",
       "      <td>4.34</td>\n",
       "      <td>4.35</td>\n",
       "      <td>2.75</td>\n",
       "    </tr>\n",
       "    <tr>\n",
       "      <td>...</td>\n",
       "      <td>...</td>\n",
       "      <td>...</td>\n",
       "      <td>...</td>\n",
       "      <td>...</td>\n",
       "      <td>...</td>\n",
       "      <td>...</td>\n",
       "      <td>...</td>\n",
       "      <td>...</td>\n",
       "      <td>...</td>\n",
       "      <td>...</td>\n",
       "    </tr>\n",
       "    <tr>\n",
       "      <td>53935</td>\n",
       "      <td>0.72</td>\n",
       "      <td>Ideal</td>\n",
       "      <td>D</td>\n",
       "      <td>SI1</td>\n",
       "      <td>60.8</td>\n",
       "      <td>57.0</td>\n",
       "      <td>2757</td>\n",
       "      <td>5.75</td>\n",
       "      <td>5.76</td>\n",
       "      <td>3.50</td>\n",
       "    </tr>\n",
       "    <tr>\n",
       "      <td>53936</td>\n",
       "      <td>0.72</td>\n",
       "      <td>Good</td>\n",
       "      <td>D</td>\n",
       "      <td>SI1</td>\n",
       "      <td>63.1</td>\n",
       "      <td>55.0</td>\n",
       "      <td>2757</td>\n",
       "      <td>5.69</td>\n",
       "      <td>5.75</td>\n",
       "      <td>3.61</td>\n",
       "    </tr>\n",
       "    <tr>\n",
       "      <td>53937</td>\n",
       "      <td>0.70</td>\n",
       "      <td>Very Good</td>\n",
       "      <td>D</td>\n",
       "      <td>SI1</td>\n",
       "      <td>62.8</td>\n",
       "      <td>60.0</td>\n",
       "      <td>2757</td>\n",
       "      <td>5.66</td>\n",
       "      <td>5.68</td>\n",
       "      <td>3.56</td>\n",
       "    </tr>\n",
       "    <tr>\n",
       "      <td>53938</td>\n",
       "      <td>0.86</td>\n",
       "      <td>Premium</td>\n",
       "      <td>H</td>\n",
       "      <td>SI2</td>\n",
       "      <td>61.0</td>\n",
       "      <td>58.0</td>\n",
       "      <td>2757</td>\n",
       "      <td>6.15</td>\n",
       "      <td>6.12</td>\n",
       "      <td>3.74</td>\n",
       "    </tr>\n",
       "    <tr>\n",
       "      <td>53939</td>\n",
       "      <td>0.75</td>\n",
       "      <td>Ideal</td>\n",
       "      <td>D</td>\n",
       "      <td>SI2</td>\n",
       "      <td>62.2</td>\n",
       "      <td>55.0</td>\n",
       "      <td>2757</td>\n",
       "      <td>5.83</td>\n",
       "      <td>5.87</td>\n",
       "      <td>3.64</td>\n",
       "    </tr>\n",
       "  </tbody>\n",
       "</table>\n",
       "<p>53940 rows × 10 columns</p>\n",
       "</div>"
      ],
      "text/plain": [
       "       carat        cut color clarity  depth  table  price     x     y     z\n",
       "0       0.23      Ideal     E     SI2   61.5   55.0    326  3.95  3.98  2.43\n",
       "1       0.21    Premium     E     SI1   59.8   61.0    326  3.89  3.84  2.31\n",
       "2       0.23       Good     E     VS1   56.9   65.0    327  4.05  4.07  2.31\n",
       "3       0.29    Premium     I     VS2   62.4   58.0    334  4.20  4.23  2.63\n",
       "4       0.31       Good     J     SI2   63.3   58.0    335  4.34  4.35  2.75\n",
       "...      ...        ...   ...     ...    ...    ...    ...   ...   ...   ...\n",
       "53935   0.72      Ideal     D     SI1   60.8   57.0   2757  5.75  5.76  3.50\n",
       "53936   0.72       Good     D     SI1   63.1   55.0   2757  5.69  5.75  3.61\n",
       "53937   0.70  Very Good     D     SI1   62.8   60.0   2757  5.66  5.68  3.56\n",
       "53938   0.86    Premium     H     SI2   61.0   58.0   2757  6.15  6.12  3.74\n",
       "53939   0.75      Ideal     D     SI2   62.2   55.0   2757  5.83  5.87  3.64\n",
       "\n",
       "[53940 rows x 10 columns]"
      ]
     },
     "execution_count": 136,
     "metadata": {},
     "output_type": "execute_result"
    }
   ],
   "source": [
    "diamond=sns.load_dataset('diamonds')\n",
    "diamond"
   ]
  },
  {
   "cell_type": "markdown",
   "metadata": {},
   "source": [
    "### Zad 1. Data Frame pojęciowo\n",
    "Podstawową strukturą w data science jest dwuwymiarowa macierz. W prostszym ujęciu mówimy o danych stabelaryzowanych, czy też danych zebranych w arkuszu kalkulacyjnym (w pakiecie pandas jest to oczywiście poznany obiekt `DataFrame`). Takie dane standardowo zawierają wiersze i kolumny. Ponieważ\n",
    "terminologia bywa myląca i istnieje wiele synonimów zaczerpniętych do data science z wielu dyscyplin, do zadania 1 wykorzystajmy swoją intuicję (a najlepiej wiedzę zdobytą w 1 sem. :)) i wybierzmy z poniższej grupy słów odpowiednie synonimy, przyporządkowując je następnie do wierszy lub kolumn w standardowej ramce danych, której przykładem jest ramka diamond.\n",
    "\n",
    "`Słowa: przypadek, próbka, obserwacja, predyktor, rekord, cecha, instancja, zmienna`\n",
    "\n"
   ]
  },
  {
   "cell_type": "code",
   "execution_count": 137,
   "metadata": {},
   "outputs": [],
   "source": [
    "### Kolumny\n",
    "\n",
    "\n",
    "\n",
    "\n",
    "### Wiersze\n",
    "\n"
   ]
  },
  {
   "cell_type": "markdown",
   "metadata": {},
   "source": [
    "### Zad 2. Podstawowa statystyka\n",
    "- za pomocą `JEDNEJ` funkcji wbudowanej z pakietu `PANDAS` wyznaczmy podstawowe statystyki ramki `diamond` (min., maks., odch.std., kwartyle)\n",
    "- wyznaczmy medianę masy diamentu (`carat`) z podziałem na typ szlifu (`cut`) (mediany mają być wyznaczone indywidualnie w grupach ideal, premium....)\n",
    "- posortuj tabelę względem ceny diamentów (utwórz w tym celu nową ramkę `sorted_diamond`)\n",
    "- utwórz ramkę danych `diamond_ideal` zawierającą informacje jedynie o diamentach o idealnym szlifie `cut -> ideal`. (użyj funkcji `groupby()` i `get_group()`)  "
   ]
  },
  {
   "cell_type": "code",
   "execution_count": 138,
   "metadata": {},
   "outputs": [],
   "source": [
    "### Rozwiązanie\n",
    "\n",
    "\n"
   ]
  },
  {
   "cell_type": "markdown",
   "metadata": {},
   "source": [
    "### Zad 3. Wykres słupkowy\n",
    "\n",
    "Używając biblioteki matplotlib, narysuj wykres słupkowy reprezentujący średnie wartości cen dla różnych szlifów (`cut`).\n",
    "\n",
    "Po otrzymaniu wersji podstawowej takiego wykresu warto narysować wykres wraz z odchyleniami standardowymi."
   ]
  },
  {
   "cell_type": "code",
   "execution_count": 1,
   "metadata": {},
   "outputs": [],
   "source": [
    "### Rozwiązanie"
   ]
  },
  {
   "cell_type": "markdown",
   "metadata": {},
   "source": [
    "### Zad 4.  Wykres skrzynkowy\n",
    "Wspomniany John W. Tukey był autorem reprezentacji danych w postaci wykresu pudełkowego - `box-plot`. \n",
    "Porównaj na wykresie pudełkowym (inaczej ramka-wąsy, skrzynkowy) cenę diamentów z podziałem na kolor.\n",
    "W tym przypadku łatwo możemy skorzystać z pakietu seaborn:\n",
    "`https://www.statology.org/matplotlib-boxplot-by-group/`"
   ]
  },
  {
   "cell_type": "code",
   "execution_count": 2,
   "metadata": {},
   "outputs": [],
   "source": [
    "# Rozwiązanie\n"
   ]
  },
  {
   "cell_type": "markdown",
   "metadata": {},
   "source": [
    "### Zad 5. Histogram\n",
    "Zaprezentuj na jednym wykresie histogramy rozmiaru y diamentu, ograniczając się do grupy `Ideal` i kolorów `H` i `J`. Histogramy dla `Ideal -> H` oraz  `Ideal -> J` na jednym wykresie.\n",
    "Dodaj legendę na wykresie. \n",
    "\n",
    "`Co jest dokładnie na osiach x, y takiej reprezentacji danych ??`"
   ]
  },
  {
   "cell_type": "code",
   "execution_count": 3,
   "metadata": {},
   "outputs": [],
   "source": [
    "# Rozwiązanie"
   ]
  },
  {
   "cell_type": "code",
   "execution_count": 4,
   "metadata": {},
   "outputs": [],
   "source": [
    "# Rozwiązanie"
   ]
  },
  {
   "cell_type": "markdown",
   "metadata": {},
   "source": [
    "### ZADANIE 6. KORELACJE\n",
    "Mamy zapewne słuszne podejrzenie, że cena diamentu jest zależna od tego ile kamień ma karatów. \n",
    "Chcemy przeanalizować taką zależność na wykresie. \n",
    "Wstępnie do tego celu możemy wykorzystać po prostu wykres punktowy, gdzie argumentami x i y będą cena i ilość karatów:\n",
    "https://matplotlib.org/stable/api/_as_gen/matplotlib.pyplot.scatter.html\n",
    "\n"
   ]
  },
  {
   "cell_type": "code",
   "execution_count": 144,
   "metadata": {},
   "outputs": [
    {
     "data": {
      "text/plain": [
       "Text(0, 0.5, 'carat')"
      ]
     },
     "execution_count": 144,
     "metadata": {},
     "output_type": "execute_result"
    },
    {
     "data": {
      "image/png": "[encoded data removed]",
      "text/plain": [
       "<Figure size 432x288 with 1 Axes>"
      ]
     },
     "metadata": {
      "needs_background": "light"
     },
     "output_type": "display_data"
    }
   ],
   "source": [
    "x=diamond['price']\n",
    "y=diamond['carat']\n",
    "plt.scatter(x,y)\n",
    "plt.xlabel('price')\n",
    "plt.ylabel('carat')"
   ]
  },
  {
   "cell_type": "markdown",
   "metadata": {},
   "source": [
    "Nie jest oczywiste, jaka jest siła takiej zależności. Z wykresu punktowego możemy tylko wnioskować ogólnie o jej kierunku. Dla większej czytelności wykresu ograniczmy się do mniejszej ilości danych i skoncentrujmy się na danych w obrębie jednej grupy szlifu i koloru (jak w zadaniu 5)."
   ]
  },
  {
   "cell_type": "code",
   "execution_count": 145,
   "metadata": {},
   "outputs": [
    {
     "data": {
      "text/plain": [
       "Text(0, 0.5, 'carat')"
      ]
     },
     "execution_count": 145,
     "metadata": {},
     "output_type": "execute_result"
    },
    {
     "data": {
      "image/png": "[encoded data removed]",
      "text/plain": [
       "<Figure size 432x288 with 1 Axes>"
      ]
     },
     "metadata": {
      "needs_background": "light"
     },
     "output_type": "display_data"
    }
   ],
   "source": [
    "df_cut=diamond.groupby('cut').get_group('Ideal')\n",
    "df_H=df_cut.groupby('color').get_group('H')\n",
    "x=df_H['price']\n",
    "y=df_H['carat']\n",
    "plt.scatter(x,y)\n",
    "plt.xlabel('price')\n",
    "plt.ylabel('carat')\n"
   ]
  },
  {
   "cell_type": "markdown",
   "metadata": {},
   "source": [
    "Zależność jest teraz bardziej widoczna, natomiast wciąż brakuje nam informacji w jakim stopniu zmienne są współzależne. Do wyznaczenia siły takiej zależności posłuży nam współczynnik korelacji. "
   ]
  },
  {
   "cell_type": "markdown",
   "metadata": {},
   "source": [
    "### Współczynnik korelacji\n",
    "\n",
    "- Srandaryzowana metryka, która mierzy do jakiego stopnia zmienne numeryczne są ze sobą powiązane (zmienia się od -1 do 1 ). Wartość -1 określa idealną negatywną korelację, 1 idealną pozytywną\n",
    "- Współczynnik korelacji 0 (wartości bliskie zeru) wskazuje na brak korelacji. Trzeba jednak mieć na uwadze, że losowe zbiory danych mogą omyłkowo generować pozytywną lub negatywną zależność.\n",
    "- `Korelacja nie oznacza przyczynowości`\n",
    "\n",
    "Istnieje wiele podejść do wyznaczania współczynników korelacji. Najczęściej wyznaczamy:\n",
    "\n",
    "- Pearson’s r\n",
    "\n",
    "$r=\\frac{\\sum_{i=1}^n(x_i-\\overline{x})(y_i-\\overline{y})}{(n-1)s_x s_y}$\n",
    "\n",
    "- Spearman’s rho\n",
    "- Kendall’s tau\n",
    "\n",
    " "
   ]
  },
  {
   "cell_type": "markdown",
   "metadata": {},
   "source": [
    "Biblioteka `PANDAS` daje możliwość wyznaczenia powyższych współczynników."
   ]
  },
  {
   "cell_type": "code",
   "execution_count": 146,
   "metadata": {},
   "outputs": [
    {
     "name": "stdout",
     "output_type": "stream",
     "text": [
      "0.9537421422644456 0.9725573824173759 0.8626769979823492\n"
     ]
    }
   ],
   "source": [
    "rp=x.corr(y)                     # Pearson's r\n",
    "rs=x.corr(y, method='spearman')  # Spearman's rho\n",
    "rk=x.corr(y, method='kendall')   # Kendall's tau\n",
    "print(rp,rs,rk)"
   ]
  },
  {
   "cell_type": "markdown",
   "metadata": {},
   "source": [
    "Biblioteka `numpy` oferuje prostą funkcję do wyznaczenia współczynnika korelacji Pearsona\n",
    "https://numpy.org/doc/stable/reference/generated/numpy.corrcoef.html"
   ]
  },
  {
   "cell_type": "code",
   "execution_count": 147,
   "metadata": {},
   "outputs": [
    {
     "data": {
      "text/plain": [
       "array([[1.        , 0.95374214],\n",
       "       [0.95374214, 1.        ]])"
      ]
     },
     "execution_count": 147,
     "metadata": {},
     "output_type": "execute_result"
    }
   ],
   "source": [
    "import numpy as np\n",
    "r = np.corrcoef(x, y)\n",
    "r"
   ]
  },
  {
   "cell_type": "markdown",
   "metadata": {},
   "source": [
    "Biblioteka statystyczna `scipy` także oferuje wyznaczenie 3 współczynników."
   ]
  },
  {
   "cell_type": "code",
   "execution_count": 148,
   "metadata": {},
   "outputs": [
    {
     "name": "stdout",
     "output_type": "stream",
     "text": [
      "0.9537421422644461 0.9725573824173759 0.8626769979823492\n"
     ]
    }
   ],
   "source": [
    "import scipy.stats\n",
    "rp=scipy.stats.pearsonr(x, y)[0]    # Pearson's r\n",
    "\n",
    "rs=scipy.stats.spearmanr(x, y)[0]   # Spearman's rho\n",
    "\n",
    "rk=scipy.stats.kendalltau(x, y)[0]  # Kendall's tau\n",
    "\n",
    "print(rp,rs, rk)"
   ]
  },
  {
   "cell_type": "markdown",
   "metadata": {},
   "source": [
    "Problem nie tkwi w wyborze biblioteki, ponieważ jak widać wyniki są tożsame, ale w prawidłowym uzasadnieniu wyboru współczynnika. Niewątpliwie we wszystkich przypadkach mamy do czynienia z bardzo silną zależnością, jednak by zamieścić nasze w wyniki w pracy dyplomowej/publikacji/raporcie wciąż brakuje nam pewnych elementów...\n",
    "\n",
    "`ZADANIE`\n",
    "\n",
    "- sprawdzenie normalności rozkładów dla analizowanych (korelowanych) zmiennych x, y\n",
    "- zbadanie istotności statystycznej otrzymanego rezultatu\n",
    "- lepsza wizualizacja..."
   ]
  },
  {
   "cell_type": "code",
   "execution_count": null,
   "metadata": {},
   "outputs": [],
   "source": []
  }
 ],
 "metadata": {
  "kernelspec": {
   "display_name": "Python 3 (ipykernel)",
   "language": "python",
   "name": "python3"
  },
  "language_info": {
   "codemirror_mode": {
    "name": "ipython",
    "version": 3
   },
   "file_extension": ".py",
   "mimetype": "text/x-python",
   "name": "python",
   "nbconvert_exporter": "python",
   "pygments_lexer": "ipython3",
   "version": "3.9.5"
  }
 },
 "nbformat": 4,
 "nbformat_minor": 2
}
