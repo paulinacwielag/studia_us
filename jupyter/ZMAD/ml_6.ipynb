{
 "cells": [
  {
   "cell_type": "code",
   "execution_count": null,
   "id": "7cb9c6b5",
   "metadata": {},
   "outputs": [],
   "source": [
    "from sklearn import datasets\n",
    "from sklearn import model_selection\n",
    "from sklearn import linear_model\n",
    "from sklearn import metrics\n",
    "from sklearn import tree\n",
    "from sklearn import neighbors\n",
    "from sklearn import svm\n",
    "from sklearn import ensemble\n",
    "from sklearn import cluster"
   ]
  },
  {
   "cell_type": "code",
   "execution_count": null,
   "id": "37a47bd7",
   "metadata": {},
   "outputs": [],
   "source": [
    "import matplotlib.pyplot as plt\n",
    "import numpy as np\n",
    "import seaborn as sns"
   ]
  },
  {
   "cell_type": "markdown",
   "id": "13cf982d",
   "metadata": {},
   "source": [
    "**Regresja**"
   ]
  },
  {
   "cell_type": "code",
   "execution_count": null,
   "id": "4f1d7cbc",
   "metadata": {},
   "outputs": [],
   "source": [
    "X_all, y_all = datasets.make_regression(n_samples=50,n_features=50, n_informative=10)"
   ]
  },
  {
   "cell_type": "code",
   "execution_count": null,
   "id": "e744ecd9",
   "metadata": {},
   "outputs": [],
   "source": [
    "X_train, X_test, y_train, y_test = model_selection.train_test_split(X_all, y_all, train_size=0.5)"
   ]
  },
  {
   "cell_type": "code",
   "execution_count": null,
   "id": "93fc35b4",
   "metadata": {},
   "outputs": [],
   "source": [
    "model = linear_model.LinearRegression()"
   ]
  },
  {
   "cell_type": "code",
   "execution_count": null,
   "id": "3ec2506d",
   "metadata": {},
   "outputs": [],
   "source": [
    "model.fit(X_train, y_train)"
   ]
  },
  {
   "cell_type": "code",
   "execution_count": null,
   "id": "f23b06b3",
   "metadata": {},
   "outputs": [],
   "source": [
    "def sse(resid): #sum of squared errors (SSE)\n",
    "    return np.sum(resid**2)"
   ]
  },
  {
   "cell_type": "code",
   "execution_count": null,
   "id": "9c11e61c",
   "metadata": {},
   "outputs": [],
   "source": [
    "resid_train = y_train - model.predict(X_train)\n",
    "sse_train = sse(resid_train)\n",
    "sse_train"
   ]
  },
  {
   "cell_type": "code",
   "execution_count": null,
   "id": "1229b70c",
   "metadata": {},
   "outputs": [],
   "source": [
    "resid_test = y_test - model.predict(X_test)\n",
    "sse_test = sse(resid_test)\n",
    "sse_test"
   ]
  },
  {
   "cell_type": "code",
   "execution_count": null,
   "id": "2fd90f10",
   "metadata": {},
   "outputs": [],
   "source": [
    "model.score(X_train, y_train)"
   ]
  },
  {
   "cell_type": "code",
   "execution_count": null,
   "id": "716d04d2",
   "metadata": {},
   "outputs": [],
   "source": [
    "model.score(X_test, y_test)"
   ]
  },
  {
   "cell_type": "markdown",
   "id": "16f2a020",
   "metadata": {},
   "source": [
    "$min_\\beta ||X\\beta-y ||^2_2$\n",
    "\n",
    "**Regularyzacja**\n",
    "\n",
    "Ridge $min_\\beta\\{ ||X\\beta-y ||^2_2-\\alpha||\\beta||_1\\}$\n",
    "\n",
    "Lasso $min_\\beta\\{ ||X\\beta-y ||^2_2-\\alpha||\\beta||_2^2\\}$\n",
    "\n",
    "LassoCV\n",
    "\n",
    "ElasticNetCV $min_\\beta\\{ ||X\\beta-y ||^2_2--\\alpha\\rho||\\beta||_1-\\alpha(1-\\rho)||\\beta||_1\\}$"
   ]
  },
  {
   "cell_type": "code",
   "execution_count": null,
   "id": "8622650c",
   "metadata": {},
   "outputs": [],
   "source": [
    "model = linear_model.Ridge(alpha=2.5)"
   ]
  },
  {
   "cell_type": "code",
   "execution_count": null,
   "id": "83775aa4",
   "metadata": {},
   "outputs": [],
   "source": [
    "model.fit(X_train, y_train)"
   ]
  },
  {
   "cell_type": "code",
   "execution_count": null,
   "id": "d83b4698",
   "metadata": {},
   "outputs": [],
   "source": [
    "resid_train = y_train - model.predict(X_train)\n",
    "sse_train = sse(resid_train)\n",
    "sse_train"
   ]
  },
  {
   "cell_type": "code",
   "execution_count": null,
   "id": "25cfb763",
   "metadata": {},
   "outputs": [],
   "source": [
    "resid_test = y_test - model.predict(X_test)\n",
    "sse_test = sse(resid_test)\n",
    "sse_test"
   ]
  },
  {
   "cell_type": "code",
   "execution_count": null,
   "id": "74899cba",
   "metadata": {},
   "outputs": [],
   "source": [
    "model = linear_model.Lasso(alpha=1.0)"
   ]
  },
  {
   "cell_type": "code",
   "execution_count": null,
   "id": "83f57fed",
   "metadata": {},
   "outputs": [],
   "source": [
    "model.fit(X_train, y_train)"
   ]
  },
  {
   "cell_type": "code",
   "execution_count": null,
   "id": "849df84b",
   "metadata": {},
   "outputs": [],
   "source": [
    "resid_train = y_train - model.predict(X_train)\n",
    "sse_train = sse(resid_train)\n",
    "sse_train"
   ]
  },
  {
   "cell_type": "code",
   "execution_count": null,
   "id": "e3fac4b1",
   "metadata": {},
   "outputs": [],
   "source": [
    "resid_test = y_test - model.predict(X_test)\n",
    "sse_test = sse(resid_test)\n",
    "sse_test"
   ]
  },
  {
   "cell_type": "code",
   "execution_count": null,
   "id": "451551b3",
   "metadata": {},
   "outputs": [],
   "source": [
    "model = linear_model.LassoCV()"
   ]
  },
  {
   "cell_type": "code",
   "execution_count": null,
   "id": "62c22ed5",
   "metadata": {},
   "outputs": [],
   "source": [
    "model.fit(X_all, y_all)"
   ]
  },
  {
   "cell_type": "code",
   "execution_count": null,
   "id": "bb0ea6f6",
   "metadata": {},
   "outputs": [],
   "source": [
    "model.alpha_"
   ]
  },
  {
   "cell_type": "code",
   "execution_count": null,
   "id": "17f490ca",
   "metadata": {},
   "outputs": [],
   "source": [
    "resid_train = y_train - model.predict(X_train)\n",
    "sse_train = sse(resid_train)\n",
    "sse_train"
   ]
  },
  {
   "cell_type": "code",
   "execution_count": null,
   "id": "6eb276f3",
   "metadata": {},
   "outputs": [],
   "source": [
    "resid_test = y_test - model.predict(X_test)\n",
    "sse_test = sse(resid_test)\n",
    "sse_test"
   ]
  },
  {
   "cell_type": "code",
   "execution_count": null,
   "id": "8b1e6658",
   "metadata": {},
   "outputs": [],
   "source": [
    "model = linear_model.ElasticNetCV()"
   ]
  },
  {
   "cell_type": "code",
   "execution_count": null,
   "id": "3c84d8fa",
   "metadata": {},
   "outputs": [],
   "source": [
    "model.fit(X_train, y_train)"
   ]
  },
  {
   "cell_type": "code",
   "execution_count": null,
   "id": "53cce1b6",
   "metadata": {},
   "outputs": [],
   "source": [
    "model.alpha_"
   ]
  },
  {
   "cell_type": "code",
   "execution_count": null,
   "id": "7cdb39f0",
   "metadata": {},
   "outputs": [],
   "source": [
    "model.l1_ratio"
   ]
  },
  {
   "cell_type": "code",
   "execution_count": null,
   "id": "ae178e1e",
   "metadata": {},
   "outputs": [],
   "source": [
    "resid_train = y_train - model.predict(X_train)\n",
    "sse_train = sse(resid_train)\n",
    "sse_train"
   ]
  },
  {
   "cell_type": "code",
   "execution_count": null,
   "id": "4dd12aeb",
   "metadata": {},
   "outputs": [],
   "source": [
    "resid_test = y_test - model.predict(X_test)\n",
    "sse_test = sse(resid_test)\n",
    "sse_test"
   ]
  },
  {
   "cell_type": "markdown",
   "id": "59b5e80a",
   "metadata": {},
   "source": [
    "**Klasyfikacja**"
   ]
  },
  {
   "cell_type": "code",
   "execution_count": null,
   "id": "ca2fe33e",
   "metadata": {},
   "outputs": [],
   "source": [
    "iris = datasets.load_iris()"
   ]
  },
  {
   "cell_type": "code",
   "execution_count": null,
   "id": "4cff96aa",
   "metadata": {},
   "outputs": [],
   "source": [
    "iris.target_names"
   ]
  },
  {
   "cell_type": "code",
   "execution_count": null,
   "id": "d36e4f1b",
   "metadata": {},
   "outputs": [],
   "source": [
    "iris.feature_names"
   ]
  },
  {
   "cell_type": "code",
   "execution_count": null,
   "id": "e35debe4",
   "metadata": {},
   "outputs": [],
   "source": [
    "iris.data.shape"
   ]
  },
  {
   "cell_type": "code",
   "execution_count": null,
   "id": "5acc7424",
   "metadata": {},
   "outputs": [],
   "source": [
    "iris.target.shape"
   ]
  },
  {
   "cell_type": "code",
   "execution_count": null,
   "id": "f9bc7d40",
   "metadata": {},
   "outputs": [],
   "source": [
    "X_train, X_test, y_train, y_test = model_selection.train_test_split(iris.data, iris.target,train_size=0.7)"
   ]
  },
  {
   "cell_type": "code",
   "execution_count": null,
   "id": "97833593",
   "metadata": {},
   "outputs": [],
   "source": [
    "classifier = linear_model.LogisticRegression()"
   ]
  },
  {
   "cell_type": "code",
   "execution_count": null,
   "id": "6b3526b9",
   "metadata": {},
   "outputs": [],
   "source": [
    "classifier.fit(X_train, y_train)"
   ]
  },
  {
   "cell_type": "code",
   "execution_count": null,
   "id": "43de36de",
   "metadata": {},
   "outputs": [],
   "source": [
    "y_test_pred = classifier.predict(X_test)"
   ]
  },
  {
   "cell_type": "code",
   "execution_count": null,
   "id": "c1c51226",
   "metadata": {},
   "outputs": [],
   "source": [
    "print(metrics.classification_report(y_test, y_test_pred))"
   ]
  },
  {
   "cell_type": "code",
   "execution_count": null,
   "id": "c29592cf",
   "metadata": {},
   "outputs": [],
   "source": [
    "metrics.confusion_matrix(y_test, y_test_pred)"
   ]
  },
  {
   "cell_type": "code",
   "execution_count": null,
   "id": "74b685a7",
   "metadata": {},
   "outputs": [],
   "source": [
    "classifier = tree.DecisionTreeClassifier()"
   ]
  },
  {
   "cell_type": "code",
   "execution_count": null,
   "id": "fb0d341e",
   "metadata": {},
   "outputs": [],
   "source": [
    "classifier.fit(X_train, y_train)"
   ]
  },
  {
   "cell_type": "code",
   "execution_count": null,
   "id": "db98e555",
   "metadata": {},
   "outputs": [],
   "source": [
    "y_test_pred = classifier.predict(X_test)"
   ]
  },
  {
   "cell_type": "code",
   "execution_count": null,
   "id": "5480b768",
   "metadata": {},
   "outputs": [],
   "source": [
    "metrics.confusion_matrix(y_test, y_test_pred)"
   ]
  },
  {
   "cell_type": "code",
   "execution_count": null,
   "id": "d6b2cc7b",
   "metadata": {},
   "outputs": [],
   "source": [
    "train_size_vec = np.linspace(0.1, 0.9, 30)"
   ]
  },
  {
   "cell_type": "code",
   "execution_count": null,
   "id": "cb9319eb",
   "metadata": {},
   "outputs": [],
   "source": [
    "classifiers = [tree.DecisionTreeClassifier,neighbors.KNeighborsClassifier,svm.SVC,ensemble.RandomForestClassifier]"
   ]
  },
  {
   "cell_type": "code",
   "execution_count": null,
   "id": "3610052e",
   "metadata": {},
   "outputs": [],
   "source": [
    "cm_diags = np.zeros((3, len(train_size_vec), len(classifiers)),dtype=float)"
   ]
  },
  {
   "cell_type": "code",
   "execution_count": null,
   "id": "dce15940",
   "metadata": {},
   "outputs": [],
   "source": [
    "for n, train_size in enumerate(train_size_vec):\n",
    "    X_train, X_test, y_train, y_test=model_selection.train_test_split(iris.data, iris.target,train_size=train_size)\n",
    "    for m, Classifier in enumerate(classifiers):\n",
    "        classifier = Classifier()\n",
    "        classifier.fit(X_train, y_train)\n",
    "        y_test_p = classifier.predict(X_test)\n",
    "        cm_diags[:, n, m] = metrics.confusion_matrix(y_test,y_test_p).diagonal()\n",
    "        cm_diags[:, n, m] /= np.bincount(y_test)"
   ]
  },
  {
   "cell_type": "code",
   "execution_count": null,
   "id": "2df963c8",
   "metadata": {},
   "outputs": [],
   "source": [
    "fig, axes = plt.subplots(1, len(classifiers), figsize=(12, 3))\n",
    "for m, Classifier in enumerate(classifiers):\n",
    "    axes[m].plot(train_size_vec, cm_diags[2, :, m], label=iris.target_names[2])\n",
    "    axes[m].plot(train_size_vec, cm_diags[1, :, m], label=iris.target_names[1])\n",
    "    axes[m].plot(train_size_vec, cm_diags[0, :, m], label=iris.target_names[0])\n",
    "    axes[m].set_title(type(Classifier()).__name__)\n",
    "    axes[m].set_ylim(0, 1.1)\n",
    "    axes[m].set_ylabel(\"classification accuracy\")\n",
    "    axes[m].set_xlabel(\"training size ratio\")\n",
    "    axes[m].legend(loc=4)"
   ]
  },
  {
   "cell_type": "markdown",
   "id": "bb49a97c",
   "metadata": {},
   "source": [
    "**Klasteryzacja**"
   ]
  },
  {
   "cell_type": "code",
   "execution_count": null,
   "id": "6e9b9165",
   "metadata": {},
   "outputs": [],
   "source": [
    "X, y = iris.data, iris.target"
   ]
  },
  {
   "cell_type": "code",
   "execution_count": null,
   "id": "121c41c7",
   "metadata": {},
   "outputs": [],
   "source": [
    "n_clusters = 3"
   ]
  },
  {
   "cell_type": "code",
   "execution_count": null,
   "id": "624a558f",
   "metadata": {},
   "outputs": [],
   "source": [
    "clustering = cluster.KMeans(n_clusters=n_clusters)"
   ]
  },
  {
   "cell_type": "code",
   "execution_count": null,
   "id": "9ceeb8ae",
   "metadata": {},
   "outputs": [],
   "source": [
    "clustering.fit(X)"
   ]
  },
  {
   "cell_type": "code",
   "execution_count": null,
   "id": "1b83a136",
   "metadata": {},
   "outputs": [],
   "source": [
    "y_pred = clustering.predict(X)"
   ]
  },
  {
   "cell_type": "code",
   "execution_count": null,
   "id": "f7973656",
   "metadata": {},
   "outputs": [],
   "source": [
    "y_pred[::8]"
   ]
  },
  {
   "cell_type": "code",
   "execution_count": null,
   "id": "61f7c1de",
   "metadata": {},
   "outputs": [],
   "source": [
    "y[::8]"
   ]
  },
  {
   "cell_type": "code",
   "execution_count": null,
   "id": "0a3be1b1",
   "metadata": {},
   "outputs": [],
   "source": [
    "idx_0, idx_1, idx_2 = (np.where(y_pred == n) for n in range(3))"
   ]
  },
  {
   "cell_type": "code",
   "execution_count": null,
   "id": "902cf5b8",
   "metadata": {},
   "outputs": [],
   "source": [
    "y_pred[idx_0], y_pred[idx_1], y_pred[idx_2] = 2, 0, 1"
   ]
  },
  {
   "cell_type": "code",
   "execution_count": null,
   "id": "899ac3f9",
   "metadata": {},
   "outputs": [],
   "source": [
    "y_pred[::8]"
   ]
  },
  {
   "cell_type": "code",
   "execution_count": null,
   "id": "51ea70ff",
   "metadata": {},
   "outputs": [],
   "source": [
    "metrics.confusion_matrix(y, y_pred)"
   ]
  },
  {
   "cell_type": "code",
   "execution_count": null,
   "id": "b6572efa",
   "metadata": {},
   "outputs": [],
   "source": [
    "N = X.shape[1]\n",
    "fig, axes = plt.subplots(N, N, figsize=(12, 12), sharex=True,sharey=True)\n",
    "colors = [\"coral\", \"blue\", \"green\"]\n",
    "markers = [\"^\", \"v\", \"o\"]\n",
    "for m in range(N):\n",
    "    for n in range(N):\n",
    "        for p in range(n_clusters):\n",
    "            mask = y_pred == p\n",
    "            axes[m, n].scatter(X[:, m][mask], X[:, n][mask], s=30,\n",
    "                               marker=markers[p], color=colors[p],alpha=0.25)\n",
    "            \n",
    "        for idx in np.where(y != y_pred):\n",
    "            axes[m, n].scatter(X[idx, m], X[idx, n], s=30,marker=\"s\", edgecolor=\"red\",facecolor=(1,1,1,0))\n",
    "            axes[N-1, m].set_xlabel(iris.feature_names[m], fontsize=16)\n",
    "            axes[m, 0].set_ylabel(iris.feature_names[m], fontsize=16)"
   ]
  },
  {
   "cell_type": "code",
   "execution_count": null,
   "id": "cbec2d84",
   "metadata": {},
   "outputs": [],
   "source": []
  },
  {
   "cell_type": "code",
   "execution_count": null,
   "id": "23f738c8",
   "metadata": {},
   "outputs": [],
   "source": []
  }
 ],
 "metadata": {
  "kernelspec": {
   "display_name": "Python 3 (ipykernel)",
   "language": "python",
   "name": "python3"
  },
  "language_info": {
   "codemirror_mode": {
    "name": "ipython",
    "version": 3
   },
   "file_extension": ".py",
   "mimetype": "text/x-python",
   "name": "python",
   "nbconvert_exporter": "python",
   "pygments_lexer": "ipython3",
   "version": "3.9.5"
  }
 },
 "nbformat": 4,
 "nbformat_minor": 5
}
