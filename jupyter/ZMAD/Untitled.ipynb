{
 "cells": [
  {
   "cell_type": "code",
   "execution_count": 11,
   "id": "600f92c0",
   "metadata": {},
   "outputs": [],
   "source": [
    "import nltk, re, pprint\n",
    "from nltk import word_tokenize"
   ]
  },
  {
   "cell_type": "code",
   "execution_count": 14,
   "id": "fe9d853f",
   "metadata": {},
   "outputs": [
    {
     "name": "stdout",
     "output_type": "stream",
     "text": [
      "Stoi na stacji lokomotywa,\n",
      "Ciężka, ogromna i pot z niej spływa:\n",
      "Tłusta oliwa.\n",
      "Stoi i sapie, dyszy i dmucha,\n",
      "Żar z rozgrzanego jej brzucha bucha:\n",
      "Buch - jak gorąco!\n",
      "Uch - jak gorąco!\n",
      "Puff - jak gorąco!\n",
      "Uff - jak gorąco!\n",
      "Już ledwo sapie, już ledwo zipie,\n",
      "A jeszcze palacz węgiel w nią sypie.\n",
      "\n",
      "Wagony do niej podoczepiali\n",
      "Wielkie i ciężkie, z żelaza, stali,\n",
      "I pełno ludzi w każdym wagonie,\n",
      "A w jednym krowy, a w drugim konie,\n",
      "A w trzecim siedzą same grubasy,\n",
      "Siedzą i jedzą tłuste kiełbasy,\n",
      "A czwarty wagon pełen bananów,\n",
      "A w piątym stoi sześć fortepianów,\n",
      "W szóstym armata - o! jaka wielka!\n",
      "Pod każdym kołem żelazna belka!\n",
      "W siódmym dębowe stoły i szafy,\n",
      "W ósmym słoń, niedźwiedź i dwie żyrafy,\n",
      "W dziewiątym - same tuczone świnie,\n",
      "W dziesiątym - kufry, paki i skrzynie.\n",
      "A tych wagonów jest ze czterdzieści,\n",
      "Sam nie wiem, co się w nich jeszcze mieści.\n",
      "Lecz choćby przyszło tysiąc atletów\n",
      "I każdy zjadłby tysiąc kotletów,\n",
      "I każdy nie wiem jak się wytężał,\n",
      "To nie udźwigną, taki to ciężar.\n",
      "\n",
      "Nagle - gwizd!\n",
      "Nagle - świst!\n",
      "Para - buch!\n",
      "Koła - w ruch!\n",
      "\n",
      "Najpierw - powoli - jak żółw – ociężale,\n",
      "Ruszyła - maszyna - po szynach - ospale,\n",
      "Szarpnęła wagony i ciągnie z mozołem,\n",
      "I kręci się, kręci się koło za kołem,\n",
      "I biegu przyspiesza, i gna coraz prędzej,\n",
      "I dudni, i stuka, łomoce i pędzi,\n",
      "A dokąd? A dokąd? A dokąd? Na wprost!\n",
      "Po torze, po torze, po torze, przez most,\n",
      "Przez góry, przez tunel, przez pola, przez las,\n",
      "I spieszy się, spieszy, by zdążyć na czas,\n",
      "Do taktu turkoce i puka, i stuka to:\n",
      "Tak to to, tak to to , tak to to, tak to to.\n",
      "Gładko tak, lekko tak toczy się w dal,\n",
      "Jak gdyby to była piłeczka, nie stal,\n",
      "Nie ciężka maszyna, zziajana, zdyszana,\n",
      "Lecz fraszka, igraszka, zabawka blaszana.\n",
      "\n",
      "A skądże to, jakże to, czemu tak gna?\n",
      "A co to to, co to to, kto to tak pcha,\n",
      "Że pędzi, że wali, że bucha buch, buch?\n",
      "To para gorąca wprawiła to w ruch,\n",
      "To para, co z kotła rurami do tłoków,\n",
      "A tłoki kołami ruszają z dwóch boków\n",
      "I gnają, i pchają, i pociąg się toczy,\n",
      "Bo para te tłoki wciąż tłoczy i tłoczy,\n",
      "I koła turkocą, i puka, i stuka to:\n",
      "Tak to to, tak to to, tak to to, tak to to!\n",
      "\n"
     ]
    }
   ],
   "source": [
    "from urllib import request\n",
    "url = \"https://raw.githubusercontent.com/git-podrecznik/wiersze/master/Julian%20Tuwim%20-%20Lokomotywa.txt\"\n",
    "response = request.urlopen(url)\n",
    "raw = response.read().decode('utf8')\n",
    "type(raw)\n",
    "len(raw)\n",
    "print(raw)"
   ]
  },
  {
   "cell_type": "code",
   "execution_count": 15,
   "id": "df0324e0",
   "metadata": {},
   "outputs": [],
   "source": [
    "longestWordLength = len(max(raw, key=len))"
   ]
  },
  {
   "cell_type": "code",
   "execution_count": 17,
   "id": "ce41e299",
   "metadata": {},
   "outputs": [
    {
     "name": "stdout",
     "output_type": "stream",
     "text": [
      "['S', 't', 'o', 'i', ' ', 'n', 'a', ' ', 's', 't', 'a', 'c', 'j', 'i', ' ', 'l', 'o', 'k', 'o', 'm', 'o', 't', 'y', 'w', 'a', ',', '\\n', 'C', 'i', 'ę', 'ż', 'k', 'a', ',', ' ', 'o', 'g', 'r', 'o', 'm', 'n', 'a', ' ', 'i', ' ', 'p', 'o', 't', ' ', 'z', ' ', 'n', 'i', 'e', 'j', ' ', 's', 'p', 'ł', 'y', 'w', 'a', ':', '\\n', 'T', 'ł', 'u', 's', 't', 'a', ' ', 'o', 'l', 'i', 'w', 'a', '.', '\\n', 'S', 't', 'o', 'i', ' ', 'i', ' ', 's', 'a', 'p', 'i', 'e', ',', ' ', 'd', 'y', 's', 'z', 'y', ' ', 'i', ' ', 'd', 'm', 'u', 'c', 'h', 'a', ',', '\\n', 'Ż', 'a', 'r', ' ', 'z', ' ', 'r', 'o', 'z', 'g', 'r', 'z', 'a', 'n', 'e', 'g', 'o', ' ', 'j', 'e', 'j', ' ', 'b', 'r', 'z', 'u', 'c', 'h', 'a', ' ', 'b', 'u', 'c', 'h', 'a', ':', '\\n', 'B', 'u', 'c', 'h', ' ', '-', ' ', 'j', 'a', 'k', ' ', 'g', 'o', 'r', 'ą', 'c', 'o', '!', '\\n', 'U', 'c', 'h', ' ', '-', ' ', 'j', 'a', 'k', ' ', 'g', 'o', 'r', 'ą', 'c', 'o', '!', '\\n', 'P', 'u', 'f', 'f', ' ', '-', ' ', 'j', 'a', 'k', ' ', 'g', 'o', 'r', 'ą', 'c', 'o', '!', '\\n', 'U', 'f', 'f', ' ', '-', ' ', 'j', 'a', 'k', ' ', 'g', 'o', 'r', 'ą', 'c', 'o', '!', '\\n', 'J', 'u', 'ż', ' ', 'l', 'e', 'd', 'w', 'o', ' ', 's', 'a', 'p', 'i', 'e', ',', ' ', 'j', 'u', 'ż', ' ', 'l', 'e', 'd', 'w', 'o', ' ', 'z', 'i', 'p', 'i', 'e', ',', '\\n', 'A', ' ', 'j', 'e', 's', 'z', 'c', 'z', 'e', ' ', 'p', 'a', 'l', 'a', 'c', 'z', ' ', 'w', 'ę', 'g', 'i', 'e', 'l', ' ', 'w', ' ', 'n', 'i', 'ą', ' ', 's', 'y', 'p', 'i', 'e', '.', '\\n', '\\n', 'W', 'a', 'g', 'o', 'n', 'y', ' ', 'd', 'o', ' ', 'n', 'i', 'e', 'j', ' ', 'p', 'o', 'd', 'o', 'c', 'z', 'e', 'p', 'i', 'a', 'l', 'i', '\\n', 'W', 'i', 'e', 'l', 'k', 'i', 'e', ' ', 'i', ' ', 'c', 'i', 'ę', 'ż', 'k', 'i', 'e', ',', ' ', 'z', ' ', 'ż', 'e', 'l', 'a', 'z', 'a', ',', ' ', 's', 't', 'a', 'l', 'i', ',', '\\n', 'I', ' ', 'p', 'e', 'ł', 'n', 'o', ' ', 'l', 'u', 'd', 'z', 'i', ' ', 'w', ' ', 'k', 'a', 'ż', 'd', 'y', 'm', ' ', 'w', 'a', 'g', 'o', 'n', 'i', 'e', ',', '\\n', 'A', ' ', 'w', ' ', 'j', 'e', 'd', 'n', 'y', 'm', ' ', 'k', 'r', 'o', 'w', 'y', ',', ' ', 'a', ' ', 'w', ' ', 'd', 'r', 'u', 'g', 'i', 'm', ' ', 'k', 'o', 'n', 'i', 'e', ',', '\\n', 'A', ' ', 'w', ' ', 't', 'r', 'z', 'e', 'c', 'i', 'm', ' ', 's', 'i', 'e', 'd', 'z', 'ą', ' ', 's', 'a', 'm', 'e', ' ', 'g', 'r', 'u', 'b', 'a', 's', 'y', ',', '\\n', 'S', 'i', 'e', 'd', 'z', 'ą', ' ', 'i', ' ', 'j', 'e', 'd', 'z', 'ą', ' ', 't', 'ł', 'u', 's', 't', 'e', ' ', 'k', 'i', 'e', 'ł', 'b', 'a', 's', 'y', ',', '\\n', 'A', ' ', 'c', 'z', 'w', 'a', 'r', 't', 'y', ' ', 'w', 'a', 'g', 'o', 'n', ' ', 'p', 'e', 'ł', 'e', 'n', ' ', 'b', 'a', 'n', 'a', 'n', 'ó', 'w', ',', '\\n', 'A', ' ', 'w', ' ', 'p', 'i', 'ą', 't', 'y', 'm', ' ', 's', 't', 'o', 'i', ' ', 's', 'z', 'e', 'ś', 'ć', ' ', 'f', 'o', 'r', 't', 'e', 'p', 'i', 'a', 'n', 'ó', 'w', ',', '\\n', 'W', ' ', 's', 'z', 'ó', 's', 't', 'y', 'm', ' ', 'a', 'r', 'm', 'a', 't', 'a', ' ', '-', ' ', 'o', '!', ' ', 'j', 'a', 'k', 'a', ' ', 'w', 'i', 'e', 'l', 'k', 'a', '!', '\\n', 'P', 'o', 'd', ' ', 'k', 'a', 'ż', 'd', 'y', 'm', ' ', 'k', 'o', 'ł', 'e', 'm', ' ', 'ż', 'e', 'l', 'a', 'z', 'n', 'a', ' ', 'b', 'e', 'l', 'k', 'a', '!', '\\n', 'W', ' ', 's', 'i', 'ó', 'd', 'm', 'y', 'm', ' ', 'd', 'ę', 'b', 'o', 'w', 'e', ' ', 's', 't', 'o', 'ł', 'y', ' ', 'i', ' ', 's', 'z', 'a', 'f', 'y', ',', '\\n', 'W', ' ', 'ó', 's', 'm', 'y', 'm', ' ', 's', 'ł', 'o', 'ń', ',', ' ', 'n', 'i', 'e', 'd', 'ź', 'w', 'i', 'e', 'd', 'ź', ' ', 'i', ' ', 'd', 'w', 'i', 'e', ' ', 'ż', 'y', 'r', 'a', 'f', 'y', ',', '\\n', 'W', ' ', 'd', 'z', 'i', 'e', 'w', 'i', 'ą', 't', 'y', 'm', ' ', '-', ' ', 's', 'a', 'm', 'e', ' ', 't', 'u', 'c', 'z', 'o', 'n', 'e', ' ', 'ś', 'w', 'i', 'n', 'i', 'e', ',', '\\n', 'W', ' ', 'd', 'z', 'i', 'e', 's', 'i', 'ą', 't', 'y', 'm', ' ', '-', ' ', 'k', 'u', 'f', 'r', 'y', ',', ' ', 'p', 'a', 'k', 'i', ' ', 'i', ' ', 's', 'k', 'r', 'z', 'y', 'n', 'i', 'e', '.', '\\n', 'A', ' ', 't', 'y', 'c', 'h', ' ', 'w', 'a', 'g', 'o', 'n', 'ó', 'w', ' ', 'j', 'e', 's', 't', ' ', 'z', 'e', ' ', 'c', 'z', 't', 'e', 'r', 'd', 'z', 'i', 'e', 'ś', 'c', 'i', ',', '\\n', 'S', 'a', 'm', ' ', 'n', 'i', 'e', ' ', 'w', 'i', 'e', 'm', ',', ' ', 'c', 'o', ' ', 's', 'i', 'ę', ' ', 'w', ' ', 'n', 'i', 'c', 'h', ' ', 'j', 'e', 's', 'z', 'c', 'z', 'e', ' ', 'm', 'i', 'e', 'ś', 'c', 'i', '.', '\\n', 'L', 'e', 'c', 'z', ' ', 'c', 'h', 'o', 'ć', 'b', 'y', ' ', 'p', 'r', 'z', 'y', 's', 'z', 'ł', 'o', ' ', 't', 'y', 's', 'i', 'ą', 'c', ' ', 'a', 't', 'l', 'e', 't', 'ó', 'w', '\\n', 'I', ' ', 'k', 'a', 'ż', 'd', 'y', ' ', 'z', 'j', 'a', 'd', 'ł', 'b', 'y', ' ', 't', 'y', 's', 'i', 'ą', 'c', ' ', 'k', 'o', 't', 'l', 'e', 't', 'ó', 'w', ',', '\\n', 'I', ' ', 'k', 'a', 'ż', 'd', 'y', ' ', 'n', 'i', 'e', ' ', 'w', 'i', 'e', 'm', ' ', 'j', 'a', 'k', ' ', 's', 'i', 'ę', ' ', 'w', 'y', 't', 'ę', 'ż', 'a', 'ł', ',', '\\n', 'T', 'o', ' ', 'n', 'i', 'e', ' ', 'u', 'd', 'ź', 'w', 'i', 'g', 'n', 'ą', ',', ' ', 't', 'a', 'k', 'i', ' ', 't', 'o', ' ', 'c', 'i', 'ę', 'ż', 'a', 'r', '.', '\\n', '\\n', 'N', 'a', 'g', 'l', 'e', ' ', '-', ' ', 'g', 'w', 'i', 'z', 'd', '!', '\\n', 'N', 'a', 'g', 'l', 'e', ' ', '-', ' ', 'ś', 'w', 'i', 's', 't', '!', '\\n', 'P', 'a', 'r', 'a', ' ', '-', ' ', 'b', 'u', 'c', 'h', '!', '\\n', 'K', 'o', 'ł', 'a', ' ', '-', ' ', 'w', ' ', 'r', 'u', 'c', 'h', '!', '\\n', '\\n', 'N', 'a', 'j', 'p', 'i', 'e', 'r', 'w', ' ', '-', ' ', 'p', 'o', 'w', 'o', 'l', 'i', ' ', '-', ' ', 'j', 'a', 'k', ' ', 'ż', 'ó', 'ł', 'w', ' ', '–', ' ', 'o', 'c', 'i', 'ę', 'ż', 'a', 'l', 'e', ',', '\\n', 'R', 'u', 's', 'z', 'y', 'ł', 'a', ' ', '-', ' ', 'm', 'a', 's', 'z', 'y', 'n', 'a', ' ', '-', ' ', 'p', 'o', ' ', 's', 'z', 'y', 'n', 'a', 'c', 'h', ' ', '-', ' ', 'o', 's', 'p', 'a', 'l', 'e', ',', '\\n', 'S', 'z', 'a', 'r', 'p', 'n', 'ę', 'ł', 'a', ' ', 'w', 'a', 'g', 'o', 'n', 'y', ' ', 'i', ' ', 'c', 'i', 'ą', 'g', 'n', 'i', 'e', ' ', 'z', ' ', 'm', 'o', 'z', 'o', 'ł', 'e', 'm', ',', '\\n', 'I', ' ', 'k', 'r', 'ę', 'c', 'i', ' ', 's', 'i', 'ę', ',', ' ', 'k', 'r', 'ę', 'c', 'i', ' ', 's', 'i', 'ę', ' ', 'k', 'o', 'ł', 'o', ' ', 'z', 'a', ' ', 'k', 'o', 'ł', 'e', 'm', ',', '\\n', 'I', ' ', 'b', 'i', 'e', 'g', 'u', ' ', 'p', 'r', 'z', 'y', 's', 'p', 'i', 'e', 's', 'z', 'a', ',', ' ', 'i', ' ', 'g', 'n', 'a', ' ', 'c', 'o', 'r', 'a', 'z', ' ', 'p', 'r', 'ę', 'd', 'z', 'e', 'j', ',', '\\n', 'I', ' ', 'd', 'u', 'd', 'n', 'i', ',', ' ', 'i', ' ', 's', 't', 'u', 'k', 'a', ',', ' ', 'ł', 'o', 'm', 'o', 'c', 'e', ' ', 'i', ' ', 'p', 'ę', 'd', 'z', 'i', ',', '\\n', 'A', ' ', 'd', 'o', 'k', 'ą', 'd', '?', ' ', 'A', ' ', 'd', 'o', 'k', 'ą', 'd', '?', ' ', 'A', ' ', 'd', 'o', 'k', 'ą', 'd', '?', ' ', 'N', 'a', ' ', 'w', 'p', 'r', 'o', 's', 't', '!', '\\n', 'P', 'o', ' ', 't', 'o', 'r', 'z', 'e', ',', ' ', 'p', 'o', ' ', 't', 'o', 'r', 'z', 'e', ',', ' ', 'p', 'o', ' ', 't', 'o', 'r', 'z', 'e', ',', ' ', 'p', 'r', 'z', 'e', 'z', ' ', 'm', 'o', 's', 't', ',', '\\n', 'P', 'r', 'z', 'e', 'z', ' ', 'g', 'ó', 'r', 'y', ',', ' ', 'p', 'r', 'z', 'e', 'z', ' ', 't', 'u', 'n', 'e', 'l', ',', ' ', 'p', 'r', 'z', 'e', 'z', ' ', 'p', 'o', 'l', 'a', ',', ' ', 'p', 'r', 'z', 'e', 'z', ' ', 'l', 'a', 's', ',', '\\n', 'I', ' ', 's', 'p', 'i', 'e', 's', 'z', 'y', ' ', 's', 'i', 'ę', ',', ' ', 's', 'p', 'i', 'e', 's', 'z', 'y', ',', ' ', 'b', 'y', ' ', 'z', 'd', 'ą', 'ż', 'y', 'ć', ' ', 'n', 'a', ' ', 'c', 'z', 'a', 's', ',', '\\n', 'D', 'o', ' ', 't', 'a', 'k', 't', 'u', ' ', 't', 'u', 'r', 'k', 'o', 'c', 'e', ' ', 'i', ' ', 'p', 'u', 'k', 'a', ',', ' ', 'i', ' ', 's', 't', 'u', 'k', 'a', ' ', 't', 'o', ':', '\\n', 'T', 'a', 'k', ' ', 't', 'o', ' ', 't', 'o', ',', ' ', 't', 'a', 'k', ' ', 't', 'o', ' ', 't', 'o', ' ', ',', ' ', 't', 'a', 'k', ' ', 't', 'o', ' ', 't', 'o', ',', ' ', 't', 'a', 'k', ' ', 't', 'o', ' ', 't', 'o', '.', '\\n', 'G', 'ł', 'a', 'd', 'k', 'o', ' ', 't', 'a', 'k', ',', ' ', 'l', 'e', 'k', 'k', 'o', ' ', 't', 'a', 'k', ' ', 't', 'o', 'c', 'z', 'y', ' ', 's', 'i', 'ę', ' ', 'w', ' ', 'd', 'a', 'l', ',', '\\n', 'J', 'a', 'k', ' ', 'g', 'd', 'y', 'b', 'y', ' ', 't', 'o', ' ', 'b', 'y', 'ł', 'a', ' ', 'p', 'i', 'ł', 'e', 'c', 'z', 'k', 'a', ',', ' ', 'n', 'i', 'e', ' ', 's', 't', 'a', 'l', ',', '\\n', 'N', 'i', 'e', ' ', 'c', 'i', 'ę', 'ż', 'k', 'a', ' ', 'm', 'a', 's', 'z', 'y', 'n', 'a', ',', ' ', 'z', 'z', 'i', 'a', 'j', 'a', 'n', 'a', ',', ' ', 'z', 'd', 'y', 's', 'z', 'a', 'n', 'a', ',', '\\n', 'L', 'e', 'c', 'z', ' ', 'f', 'r', 'a', 's', 'z', 'k', 'a', ',', ' ', 'i', 'g', 'r', 'a', 's', 'z', 'k', 'a', ',', ' ', 'z', 'a', 'b', 'a', 'w', 'k', 'a', ' ', 'b', 'l', 'a', 's', 'z', 'a', 'n', 'a', '.', '\\n', '\\n', 'A', ' ', 's', 'k', 'ą', 'd', 'ż', 'e', ' ', 't', 'o', ',', ' ', 'j', 'a', 'k', 'ż', 'e', ' ', 't', 'o', ',', ' ', 'c', 'z', 'e', 'm', 'u', ' ', 't', 'a', 'k', ' ', 'g', 'n', 'a', '?', '\\n', 'A', ' ', 'c', 'o', ' ', 't', 'o', ' ', 't', 'o', ',', ' ', 'c', 'o', ' ', 't', 'o', ' ', 't', 'o', ',', ' ', 'k', 't', 'o', ' ', 't', 'o', ' ', 't', 'a', 'k', ' ', 'p', 'c', 'h', 'a', ',', '\\n', 'Ż', 'e', ' ', 'p', 'ę', 'd', 'z', 'i', ',', ' ', 'ż', 'e', ' ', 'w', 'a', 'l', 'i', ',', ' ', 'ż', 'e', ' ', 'b', 'u', 'c', 'h', 'a', ' ', 'b', 'u', 'c', 'h', ',', ' ', 'b', 'u', 'c', 'h', '?', '\\n', 'T', 'o', ' ', 'p', 'a', 'r', 'a', ' ', 'g', 'o', 'r', 'ą', 'c', 'a', ' ', 'w', 'p', 'r', 'a', 'w', 'i', 'ł', 'a', ' ', 't', 'o', ' ', 'w', ' ', 'r', 'u', 'c', 'h', ',', '\\n', 'T', 'o', ' ', 'p', 'a', 'r', 'a', ',', ' ', 'c', 'o', ' ', 'z', ' ', 'k', 'o', 't', 'ł', 'a', ' ', 'r', 'u', 'r', 'a', 'm', 'i', ' ', 'd', 'o', ' ', 't', 'ł', 'o', 'k', 'ó', 'w', ',', '\\n', 'A', ' ', 't', 'ł', 'o', 'k', 'i', ' ', 'k', 'o', 'ł', 'a', 'm', 'i', ' ', 'r', 'u', 's', 'z', 'a', 'j', 'ą', ' ', 'z', ' ', 'd', 'w', 'ó', 'c', 'h', ' ', 'b', 'o', 'k', 'ó', 'w', '\\n', 'I', ' ', 'g', 'n', 'a', 'j', 'ą', ',', ' ', 'i', ' ', 'p', 'c', 'h', 'a', 'j', 'ą', ',', ' ', 'i', ' ', 'p', 'o', 'c', 'i', 'ą', 'g', ' ', 's', 'i', 'ę', ' ', 't', 'o', 'c', 'z', 'y', ',', '\\n', 'B', 'o', ' ', 'p', 'a', 'r', 'a', ' ', 't', 'e', ' ', 't', 'ł', 'o', 'k', 'i', ' ', 'w', 'c', 'i', 'ą', 'ż', ' ', 't', 'ł', 'o', 'c', 'z', 'y', ' ', 'i', ' ', 't', 'ł', 'o', 'c', 'z', 'y', ',', '\\n', 'I', ' ', 'k', 'o', 'ł', 'a', ' ', 't', 'u', 'r', 'k', 'o', 'c', 'ą', ',', ' ', 'i', ' ', 'p', 'u', 'k', 'a', ',', ' ', 'i', ' ', 's', 't', 'u', 'k', 'a', ' ', 't', 'o', ':', '\\n', 'T', 'a', 'k', ' ', 't', 'o', ' ', 't', 'o', ',', ' ', 't', 'a', 'k', ' ', 't', 'o', ' ', 't', 'o', ',', ' ', 't', 'a', 'k', ' ', 't', 'o', ' ', 't', 'o', ',', ' ', 't', 'a', 'k', ' ', 't', 'o', ' ', 't', 'o', '!', '\\n']\n"
     ]
    }
   ],
   "source": [
    "result = [textword for textword in raw if len(textword) == longestWordLength]\n",
    "print(result)"
   ]
  },
  {
   "cell_type": "code",
   "execution_count": null,
   "id": "89312e23",
   "metadata": {},
   "outputs": [],
   "source": []
  }
 ],
 "metadata": {
  "kernelspec": {
   "display_name": "Python 3 (ipykernel)",
   "language": "python",
   "name": "python3"
  },
  "language_info": {
   "codemirror_mode": {
    "name": "ipython",
    "version": 3
   },
   "file_extension": ".py",
   "mimetype": "text/x-python",
   "name": "python",
   "nbconvert_exporter": "python",
   "pygments_lexer": "ipython3",
   "version": "3.9.5"
  }
 },
 "nbformat": 4,
 "nbformat_minor": 5
}
