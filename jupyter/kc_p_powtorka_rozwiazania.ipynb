{
 "cells": [
  {
   "cell_type": "markdown",
   "metadata": {
    "id": "9jc-fkAmm3vy"
   },
   "source": [
    "## Komunikacja Cyfrowa, Programowanie\n",
    "### Powtórka przed kolokwium 2"
   ]
  },
  {
   "cell_type": "code",
   "execution_count": null,
   "metadata": {
    "id": "PUfiMxNDm3v1"
   },
   "outputs": [],
   "source": [
    ""
   ]
  },
  {
   "cell_type": "markdown",
   "metadata": {
    "id": "CbT6VSrxm3v1"
   },
   "source": [
    "### Zadanie 1 `ListaLiczb` [20 pkt]\n",
    "Zbuduj klasę `ListaLiczb`, która będzie pobierać jako jedyny argument listę `lista` (3p). Zdefiniuj getter (3p) i setter (3p), setter wykorzystaj w funkcji `__init__` (3p). Dodaj funkcje specjalne `__repr__` (3p) oraz `__str__` (3p). Dodaj przynajmniej 1 przykład instancji (1p) oraz wykorzystania funkcji get, set, str/repr (1p).\n",
    "\n",
    "```\n",
    ">>> liczby = ListaLiczb([1, -1, 2, -2])\n",
    ">>> print(liczby)\n",
    "[1, -1, 2, -2]\n",
    "\n",
    ">>> liczby.get_lista()\n",
    "[1, -1, 2, -2]\n",
    "\n",
    ">>> liczby.set_lista([10, 1, 13, -10])\n",
    ">>> liczby\n",
    "[10, 1, 13, -10]\n",
    "```"
   ]
  },
  {
   "cell_type": "code",
   "execution_count": null,
   "metadata": {
    "id": "rmdQBtQ1uvsi"
   },
   "outputs": [],
   "source": [
    ""
   ]
  },
  {
   "cell_type": "code",
   "execution_count": null,
   "metadata": {
    "id": "1zvjbZa7uv0S"
   },
   "outputs": [],
   "source": [
    ""
   ]
  },
  {
   "cell_type": "code",
   "execution_count": null,
   "metadata": {
    "id": "Vc3hmnaauv61"
   },
   "outputs": [],
   "source": [
    ""
   ]
  },
  {
   "cell_type": "code",
   "execution_count": null,
   "metadata": {
    "id": "PpkiWILDuv-9"
   },
   "outputs": [],
   "source": [
    ""
   ]
  },
  {
   "cell_type": "code",
   "execution_count": null,
   "metadata": {
    "id": "6F7VsKmPuv__"
   },
   "outputs": [],
   "source": [
    ""
   ]
  },
  {
   "cell_type": "code",
   "execution_count": null,
   "metadata": {
    "id": "XN3xFKlbuwDC"
   },
   "outputs": [],
   "source": [
    ""
   ]
  },
  {
   "cell_type": "code",
   "execution_count": null,
   "metadata": {
    "id": "zN5FE3d6m3v2"
   },
   "outputs": [],
   "source": [
    "class ListaLiczb1:\n",
    "    def __init__(self, lista):\n",
    "        self.set_lista(lista)\n",
    "        \n",
    "    def get_lista(self):\n",
    "        return self.lista\n",
    "    \n",
    "    def set_lista(self, lista):\n",
    "        assert isinstance(lista,list), \"musi być lista\"\n",
    "        self.lista = lista\n",
    "        \n",
    "    def __repr__(self):\n",
    "        return str(self.get_lista())\n",
    "    \n",
    "    def __str__(self):\n",
    "        return repr(self)"
   ]
  },
  {
   "cell_type": "code",
   "execution_count": null,
   "metadata": {
    "id": "WwYsngsQm3v2",
    "outputId": "425767f6-e127-4bcd-9355-035da6b0deef"
   },
   "outputs": [
    {
     "name": "stdout",
     "output_type": "stream",
     "text": [
      "[1, -1, 2, -2]\n"
     ]
    }
   ],
   "source": [
    "ll = ListaLiczb1([1, -1, 2, -2])\n",
    "print(ll)"
   ]
  },
  {
   "cell_type": "code",
   "execution_count": null,
   "metadata": {
    "id": "RNufwDham3v3",
    "outputId": "bb543baa-d383-475a-963f-7a64b3219cfd"
   },
   "outputs": [
    {
     "data": {
      "text/plain": [
       "[1, -1, 2, -2]"
      ]
     },
     "execution_count": 74,
     "metadata": {
      "tags": []
     },
     "output_type": "execute_result"
    }
   ],
   "source": [
    "ll.get_lista()"
   ]
  },
  {
   "cell_type": "code",
   "execution_count": null,
   "metadata": {
    "id": "vzKU9lbnm3v4",
    "outputId": "63ef73c3-ddd8-45da-b293-86af232a60ad"
   },
   "outputs": [
    {
     "data": {
      "text/plain": [
       "[10, 1, 13, -10]"
      ]
     },
     "execution_count": 75,
     "metadata": {
      "tags": []
     },
     "output_type": "execute_result"
    }
   ],
   "source": [
    "ll.set_lista([10, 1, 13, -10])\n",
    "ll"
   ]
  },
  {
   "cell_type": "code",
   "execution_count": null,
   "metadata": {
    "id": "eXhvRICjm3v4"
   },
   "outputs": [],
   "source": [
    ""
   ]
  },
  {
   "cell_type": "markdown",
   "metadata": {
    "id": "Ax16e82Um3v4"
   },
   "source": [
    "### Zadanie 2 [20 pkt]\n",
    "Do powyższej klasy dopisz 2 funkcje klasy (bez `self`) \n",
    "* `tylko_liczby`, która będzie filtrować elementy nieliczbowe podanej listy i **zwracać** listę z elementami liczbowymi (int, float) lub pustą listę, jeżeli oryginalna lista nie zawiera (5 pkt)\n",
    "* `czy_niepusta_lista_liczb`, która będzie sprawdzać, czy podana lista jest (a) jest listą i (b) zawiera liczby (użyj funkcji `tylko_liczby`) i (c) jest niepusta i w razie niepowodzenia podnosić odpowiedni wyjątek (5 pkt)\n",
    "\n",
    "Obie funkcje użyj w setterze, by zabezpieczyć się przed niechcianymi postaciami list (10 pkt).\n",
    "\n",
    "```\n",
    ">>> liczby = ListaLiczb([1, 2, 3, 4])\n",
    ">>> liczby\n",
    "[1, 2, 3, 4]\n",
    "\n",
    ">>> liczby = ListaLiczb([1, 'a', 100, 'b'])\n",
    ">>> liczby\n",
    "[1, 100]\n",
    "\n",
    ">>> liczby = ListaLiczb('ala ma kota')\n",
    ">>> liczby\n",
    "Traceback (most recent call last)\n",
    "    ...\n",
    "AssertionError: podana lista nie jest typu LIST\n",
    "\n",
    ">>> liczby = ListaLiczb(['a', 'b', 'c'])\n",
    ">>> liczby\n",
    "Traceback (most recent call last)\n",
    "    ...\n",
    "AssertionError: lista nie ma elementów liczbowych\n",
    "```"
   ]
  },
  {
   "cell_type": "code",
   "execution_count": null,
   "metadata": {
    "id": "xo90HvwHm3v5"
   },
   "outputs": [],
   "source": [
    "class ListaLiczb2(ListaLiczb1):\n",
    "    def set_lista(self, lista):\n",
    "        ListaLiczb.czy_niepusta_lista_liczb(lista)\n",
    "        self.lista = lista\n",
    "        \n",
    "    def tylko_liczby(lista):\n",
    "        idx = 0\n",
    "        while idx < len(lista):\n",
    "            if not isinstance(lista[idx], int):\n",
    "                del lista[idx]\n",
    "            else:\n",
    "                idx += 1\n",
    "    \n",
    "    def czy_niepusta_lista_liczb(lista):\n",
    "        assert isinstance(lista, list), 'podana lista nie jest typu LIST'\n",
    "        ListaLiczb.tylko_liczby(lista)\n",
    "        assert len(lista) > 0, 'lista nie ma elementów liczbowych'"
   ]
  },
  {
   "cell_type": "code",
   "execution_count": null,
   "metadata": {
    "id": "rHnlwnQbm3v5",
    "outputId": "56f57494-ede7-4a5d-fb26-ab8310e4e49b"
   },
   "outputs": [
    {
     "data": {
      "text/plain": [
       "[1, 2, 3, 4]"
      ]
     },
     "execution_count": 221,
     "metadata": {
      "tags": []
     },
     "output_type": "execute_result"
    }
   ],
   "source": [
    "liczby = ListaLiczb2([1, 2, 3, 4])\n",
    "liczby"
   ]
  },
  {
   "cell_type": "code",
   "execution_count": null,
   "metadata": {
    "id": "Q2F01Sbnm3v6",
    "outputId": "354e1f6f-d8a3-443f-ab84-1686e83bc9c3"
   },
   "outputs": [
    {
     "data": {
      "text/plain": [
       "[1, 100]"
      ]
     },
     "execution_count": 222,
     "metadata": {
      "tags": []
     },
     "output_type": "execute_result"
    }
   ],
   "source": [
    "liczby = ListaLiczb2([1, 'a', 100, 'b'])\n",
    "liczby"
   ]
  },
  {
   "cell_type": "code",
   "execution_count": null,
   "metadata": {
    "id": "jrxX6Rxbm3v6"
   },
   "outputs": [],
   "source": [
    "# liczby = ListaLiczb2('ala ma kota')\n",
    "# liczby"
   ]
  },
  {
   "cell_type": "code",
   "execution_count": null,
   "metadata": {
    "id": "yyZYgjXom3v6"
   },
   "outputs": [],
   "source": [
    "# liczby = ListaLiczb2(['a', 'b', 'c'])\n",
    "# liczby"
   ]
  },
  {
   "cell_type": "code",
   "execution_count": null,
   "metadata": {
    "id": "Uj3Ab4BIm3v7"
   },
   "outputs": [],
   "source": [
    ""
   ]
  },
  {
   "cell_type": "markdown",
   "metadata": {
    "id": "ql40Kumlm3v7"
   },
   "source": [
    "### Zadanie 3 [20 pkt]\n",
    "Do klasy `ListaLiczb` dopisz trzy funkcje instancji\n",
    "\n",
    "* `dlugosc(self)` zwracającą ilość wszystkich elementów w liście; użycie pętli (5 pkt), użycie istniejącej funkcji z biblioteki Python to tylko (3 pkt)\n",
    "* `sumuj(self)` zwracającą sumę wszystkich liczb w liście; użycie pętli (5 pkt), użycie istniejącej funkcji z biblioteki Python to tylko (3 pkt)\n",
    "* `jest_rowna(self, other)` typu bool, sprawdzająca czy suma elementów listy `self` jest równa sumie elementów listy `other`; jeżeli użyjecie swojej funkcji sumuj (10 pkt), jeżeli nie to tylko (5 pkt)"
   ]
  },
  {
   "cell_type": "code",
   "execution_count": null,
   "metadata": {
    "id": "-JZaqAE5m3v7"
   },
   "outputs": [],
   "source": [
    "class ListaLiczb3(ListaLiczb2):\n",
    "    \n",
    "    def dlugosc(self):\n",
    "        s = 0\n",
    "        for el in self.get_lista():\n",
    "            s += 1\n",
    "        return s\n",
    "    \n",
    "    def sumuj(self):\n",
    "        s = 0\n",
    "        for el in self.get_lista():\n",
    "            s += el\n",
    "        return s\n",
    "    \n",
    "    def jest_rowna(self, other):\n",
    "        return self.sumuj() == other.sumuj()\n",
    "    \n",
    "    # lub jeżeli było na zajęciach\n",
    "    def __eq__(self, other):\n",
    "        return self.sumuj() == other.sumuj()"
   ]
  },
  {
   "cell_type": "code",
   "execution_count": null,
   "metadata": {
    "id": "UNMFOcgWm3v7",
    "outputId": "b26bfe8d-4fe3-4ba0-fa0e-a6bb26c843f1"
   },
   "outputs": [
    {
     "name": "stdout",
     "output_type": "stream",
     "text": [
      "[2, 1, 1, -1, 3, 4, -7, 3]\n",
      "8\n",
      "6\n",
      "False\n",
      "True\n"
     ]
    }
   ],
   "source": [
    "liczby1 = ListaLiczb3([2, 1, 1, -1, 3, 4, -7, 3])\n",
    "liczby2 = ListaLiczb3([10, 20, 30])\n",
    "liczby3 = ListaLiczb3([2, 2, 2])\n",
    "\n",
    "print(liczby1)\n",
    "print(liczby1.dlugosc())\n",
    "print(liczby1.sumuj())\n",
    "\n",
    "print(liczby1.jest_rowna(liczby2))\n",
    "print(liczby1.jest_rowna(liczby3))"
   ]
  },
  {
   "cell_type": "markdown",
   "metadata": {
    "id": "KGroQkXXm3v8"
   },
   "source": [
    "### Zadanie 4 [20 pkt]\n",
    "Do klasy `ListaLiczb` dopisz funkcję `podziel_rowno(self)` sprawdzajacej czy da się podzielić listę na dwie podlisty o równej sumie elementów bez manipulowania kolejnością elementów; jeżeli da się tak podzielić listę to funkcja powinna zwrócić **krotkę** zawierającą obie podlisty lub None gdy nie da się tak podzielić listy; użycie funkcjonalności już istniejących klas da wam pełne (20 pkt), korzystanie z funkcji wbudowanych tylko (10 pkt)."
   ]
  },
  {
   "cell_type": "code",
   "execution_count": null,
   "metadata": {
    "id": "mwWIYrPWm3v8"
   },
   "outputs": [],
   "source": [
    "class ListaLiczb4(ListaLiczb3):\n",
    "    def podziel_rowno(self):\n",
    "        for idx in range(1, self.dlugosc()):\n",
    "            left = ListaLiczb4(self.get_lista()[:idx])\n",
    "            right = ListaLiczb4(self.get_lista()[idx:])\n",
    "            if left.jest_rowna(right):\n",
    "            # left == right:  # jezeli oprogramowano __eq__\n",
    "                return left, right\n",
    "        return None"
   ]
  },
  {
   "cell_type": "code",
   "execution_count": null,
   "metadata": {
    "id": "J9v1sInjm3v8",
    "outputId": "b57dc114-93b7-405d-fbef-c634135b0b01"
   },
   "outputs": [
    {
     "name": "stdout",
     "output_type": "stream",
     "text": [
      "[2, 1, 1, -1, 3, 4, -7, 3]\n",
      "([2, 1], [1, -1, 3, 4, -7, 3])\n"
     ]
    }
   ],
   "source": [
    "liczby = ListaLiczb4([2, 1, 1, -1, 3, 4, -7, 3])\n",
    "print(liczby)\n",
    "rowno = liczby.podziel_rowno()\n",
    "print(rowno)"
   ]
  },
  {
   "cell_type": "code",
   "execution_count": null,
   "metadata": {
    "id": "W3_sZoxwm3v9",
    "outputId": "f0379ef9-c10c-4b40-bd40-e712208cd339"
   },
   "outputs": [
    {
     "name": "stdout",
     "output_type": "stream",
     "text": [
      "[2, 1, 1, -1, 3, 4, -7]\n",
      "None\n"
     ]
    }
   ],
   "source": [
    "liczby = ListaLiczb4([2, 1, 1, -1, 3, 4, -7])\n",
    "print(liczby)\n",
    "rowno = liczby.podziel_rowno()\n",
    "print(rowno)"
   ]
  },
  {
   "cell_type": "markdown",
   "metadata": {
    "id": "c0R1N6ezm3v9"
   },
   "source": [
    "### Zadanie 5 [20 pkt]\n",
    "Do ostatecznej wersji klasy dopisz testy do `docstring`ów wszystkich powyższych funkcji `get_lista, set_lista, tylko_liczby, czy_niepusta_lista_liczb, dlugosc, sumuj, czy_rowna, podziel_rowno` (po 2 pkt). Macie do wyboru napisać testy strukturalne lub funkcjonalne - w komentarzu klasy napiszcie na jakie się zdecydowaliście (2 pkt, gdy decyzja będzie odpowiadać testom). Na koniec przetestujcie klasę i jej funkcje modułem `doctest` dokładnie tak samo jak testowaliście kiedyś funkcje (2 pkt)."
   ]
  },
  {
   "cell_type": "code",
   "execution_count": null,
   "metadata": {
    "id": "L1Vio-Bvm3v9"
   },
   "outputs": [],
   "source": [
    "import doctest"
   ]
  },
  {
   "cell_type": "code",
   "execution_count": null,
   "metadata": {
    "id": "KZkAhOPmm3v-"
   },
   "outputs": [],
   "source": [
    "class ListaLiczb:\n",
    "    '''\n",
    "    Klasa ListaLiczb z testami strukturalnymi (glass box).\n",
    "    '''\n",
    "    \n",
    "    def __init__(self, lista):\n",
    "        self.set_lista(lista)\n",
    "        \n",
    "    def get_lista(self):\n",
    "        '''\n",
    "        Getter do ListyLiczb.\n",
    "        >>> liczby = ListaLiczb([1, 2, 3])\n",
    "        >>> liczby.get_lista()\n",
    "        [1, 2, 3]\n",
    "        '''\n",
    "        return self.lista\n",
    "    \n",
    "    def set_lista(self, lista):\n",
    "        '''\n",
    "        Setter do ListyLiczb.\n",
    "        >>> liczby = ListaLiczb([1, 2, 3])\n",
    "        >>> liczby.set_lista([10, 20, 30])\n",
    "        >>> liczby.get_lista()\n",
    "        [10, 20, 30]\n",
    "        >>> liczby.set_lista([10, 'a', 30])\n",
    "        >>> liczby.get_lista()\n",
    "        [10, 30]\n",
    "        >>> liczby.set_lista([10])\n",
    "        >>> liczby.get_lista()\n",
    "        [10]\n",
    "        '''\n",
    "        ListaLiczb.czy_niepusta_lista_liczb(lista)\n",
    "        self.lista = lista\n",
    "        \n",
    "    def tylko_liczby(lista):\n",
    "        '''\n",
    "        Zostawia tylko elementy liczbowe listy lista\n",
    "        \n",
    "        >>> L = [1, 2, 3]\n",
    "        >>> ListaLiczb.tylko_liczby(L)\n",
    "        >>> L\n",
    "        [1, 2, 3]\n",
    "        >>> L = [1, 'a', 3]; ListaLiczb.tylko_liczby(L); L\n",
    "        [1, 3]\n",
    "        >>> L = [1]; ListaLiczb.tylko_liczby([1]); L\n",
    "        [1]\n",
    "        >>> L = ['a', 'c']; ListaLiczb.tylko_liczby(L); L\n",
    "        []\n",
    "        '''\n",
    "        idx = 0\n",
    "        while idx < len(lista):\n",
    "            if not isinstance(lista[idx], int):\n",
    "                del lista[idx]\n",
    "            else:\n",
    "                idx += 1\n",
    "    \n",
    "    def czy_niepusta_lista_liczb(lista):\n",
    "        '''\n",
    "        sprawdza czy lista jest typu LIST i ma jakieś elementy liczbowe\n",
    "        >>> ListaLiczb.czy_niepusta_lista_liczb([1, 2, 3])\n",
    "        >>> ListaLiczb.czy_niepusta_lista_liczb((1, 2))\n",
    "        Traceback (most recent call last):\n",
    "            ...\n",
    "        AssertionError: podana lista nie jest typu LIST\n",
    "        >>> ListaLiczb.czy_niepusta_lista_liczb([1, 'a'])\n",
    "        >>> ListaLiczb.czy_niepusta_lista_liczb(['a'])\n",
    "        Traceback (most recent call last):\n",
    "            ...\n",
    "        AssertionError: lista nie ma elementów liczbowych\n",
    "        '''\n",
    "        assert isinstance(lista, list), 'podana lista nie jest typu LIST'\n",
    "        ListaLiczb.tylko_liczby(lista)\n",
    "        assert len(lista) > 0, 'lista nie ma elementów liczbowych'\n",
    "    \n",
    "    def dlugosc(self):\n",
    "        '''\n",
    "        Funkcja zwraca długość listy. \n",
    "        \n",
    "        >>> liczby = ListaLiczb([1, 2, 3])\n",
    "        >>> liczby.dlugosc()\n",
    "        3\n",
    "        >>> liczby = ListaLiczb([1])\n",
    "        >>> liczby.dlugosc()\n",
    "        1\n",
    "        '''\n",
    "        s = 0\n",
    "        for el in self.get_lista():\n",
    "            s += 1\n",
    "        return s\n",
    "    \n",
    "    def sumuj(self):\n",
    "        '''\n",
    "        Funkcja zwraca sumę elementów listy. \n",
    "        \n",
    "        >>> liczby = ListaLiczb([1, 2, 3])\n",
    "        >>> liczby.sumuj()\n",
    "        6\n",
    "        >>> liczby = ListaLiczb([1])\n",
    "        >>> liczby.sumuj()\n",
    "        1\n",
    "        '''\n",
    "        s = 0\n",
    "        for el in self.get_lista():\n",
    "            s += el\n",
    "        return s\n",
    "    \n",
    "    def jest_rowna(self, other):\n",
    "        '''\n",
    "        Funkcja sprawdza czy suma elementów instancji self jest równa\n",
    "        sumie elementów instancji other.\n",
    "        \n",
    "        >>> liczby1 = ListaLiczb([1, 2, 3])\n",
    "        >>> liczby2 = ListaLiczb([6])\n",
    "        >>> liczby1.jest_rowna(liczby2)\n",
    "        True\n",
    "        >>> liczby3 = ListaLiczb([10])\n",
    "        >>> liczby1.jest_rowna(liczby3)\n",
    "        False\n",
    "        '''\n",
    "        return self.sumuj() == other.sumuj()\n",
    "    \n",
    "    def podziel_rowno(self):\n",
    "        '''\n",
    "        Funkcja sprawdza czy da się podzielić listę na dwie podlisty\n",
    "        o równej sumie elementów. \n",
    "        Tak: zwraca krotkę podlist\n",
    "        Nie: zwraca None\n",
    "        \n",
    "        >>> liczby = ListaLiczb([1, 2, 3])\n",
    "        >>> liczby.podziel_rowno()\n",
    "        ([1, 2], [3])\n",
    "        >>> liczby = ListaLiczb([1, 2, 3, 4])\n",
    "        >>> liczby.podziel_rowno()\n",
    "        >>> liczby = ListaLiczb([1])\n",
    "        >>> liczby.podziel_rowno()\n",
    "        '''\n",
    "        for idx in range(1, self.dlugosc()):\n",
    "            left = ListaLiczb(self.get_lista()[:idx])\n",
    "            right = ListaLiczb(self.get_lista()[idx:])\n",
    "            if left.jest_rowna(right):\n",
    "                return left, right\n",
    "        return None\n",
    "        \n",
    "    def __repr__(self):\n",
    "        return str(self.get_lista())\n",
    "    \n",
    "    def __str__(self):\n",
    "        return repr(self)"
   ]
  },
  {
   "cell_type": "code",
   "execution_count": null,
   "metadata": {
    "id": "Dk8vz5e8m3v-",
    "outputId": "b5018828-07f2-4c0f-ce17-73946b572001"
   },
   "outputs": [
    {
     "data": {
      "text/plain": [
       "TestResults(failed=0, attempted=38)"
      ]
     },
     "execution_count": 218,
     "metadata": {
      "tags": []
     },
     "output_type": "execute_result"
    }
   ],
   "source": [
    "doctest.testmod(verbose=not True)"
   ]
  },
  {
   "cell_type": "code",
   "execution_count": null,
   "metadata": {
    "id": "aLdheuagm3v_"
   },
   "outputs": [],
   "source": [
    ""
   ]
  }
 ],
 "metadata": {
  "colab": {
   "name": "kc_p_powtorka_rozwiazania.ipynb",
   "provenance": []
  },
  "kernelspec": {
   "display_name": "Python 3",
   "language": "python",
   "name": "python3"
  },
  "language_info": {
   "codemirror_mode": {
    "name": "ipython",
    "version": 3
   },
   "file_extension": ".py",
   "mimetype": "text/x-python",
   "name": "python",
   "nbconvert_exporter": "python",
   "pygments_lexer": "ipython3",
   "version": "3.7.3"
  }
 },
 "nbformat": 4,
 "nbformat_minor": 0
}
